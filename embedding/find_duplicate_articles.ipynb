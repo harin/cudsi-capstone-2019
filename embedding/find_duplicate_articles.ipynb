{
 "cells": [
  {
   "cell_type": "code",
   "execution_count": 5,
   "metadata": {},
   "outputs": [],
   "source": [
    "import pandas as pd\n",
    "import nltk\n",
    "from nltk.corpus import stopwords\n",
    "import re\n",
    "import numpy as np"
   ]
  },
  {
   "cell_type": "code",
   "execution_count": 6,
   "metadata": {},
   "outputs": [],
   "source": [
    "def readArticle(input_file_path):\n",
    "    file = open(input_file_path, 'r', encoding = 'utf8')\n",
    "    articles_dt = file.read().split('\\n')[:-1]\n",
    "    pubId, canonicalUrl,firstScrape,title,text,lang_reliability = [],[],[],[],[],[]\n",
    "    for article in articles_dt:    \n",
    "        row = article.split('\\t')\n",
    "        pubId.append(row[0])\n",
    "        canonicalUrl.append(row[4])\n",
    "        firstScrape.append(row[5])\n",
    "        lang_reliability.append(row[7])\n",
    "        title.append(row[8])\n",
    "        text.append(row[9])\n",
    "    articles_df = pd.DataFrame()\n",
    "    articles_df['pubId'], articles_df['canonicalUrl'], articles_df['firstScrape'], articles_df['title'], articles_df['text'], articles_df['lang_reliability']= pubId, canonicalUrl,firstScrape,title,text,lang_reliability\n",
    "    return articles_df"
   ]
  },
  {
   "cell_type": "code",
   "execution_count": 7,
   "metadata": {},
   "outputs": [],
   "source": [
    "## text normzalization\n",
    "STOPWORDS = set(stopwords.words('english'))\n",
    "def clean_text(text):\n",
    "    \"\"\"\n",
    "        text: a paragrapy\n",
    "        \n",
    "        return: modified initial string\n",
    "    \"\"\"\n",
    "    text = re.sub(r\"[^\\w\\s]\", '', text) ## Remove all non-word characters (everything except numbers and letters)\n",
    "    text = text.lower() # lowercase text\n",
    "    text = ' '.join(word for word in text.split() if word not in STOPWORDS) # delete stopwords from text\n",
    "    return text"
   ]
  },
  {
   "cell_type": "code",
   "execution_count": 8,
   "metadata": {},
   "outputs": [],
   "source": [
    "def load_GloVe():\n",
    "    ## word embedding -GloVe\n",
    "# load GloVe \n",
    "    embeddings_index = {}\n",
    "    f = open('../data/embedding/glove.6B/glove.6B.100d.txt')\n",
    "    for line in f:\n",
    "        values = line.split()\n",
    "        word = values[0]\n",
    "        coefs = np.asarray(values[1:], dtype='float32')\n",
    "        embeddings_index[word] = coefs\n",
    "    f.close()\n",
    "    return embeddings_index"
   ]
  },
  {
   "cell_type": "code",
   "execution_count": 9,
   "metadata": {},
   "outputs": [],
   "source": [
    "def count_Len_Sum(embeddings_index, news_title):\n",
    "    header_length_dict ={} #key: header_index, value: length of header \n",
    "    header_sum_dict = {} #key: index, value: the matrix of the header \n",
    "    for i in news_title.index:\n",
    "        words_list = news_title[i].split(' ')\n",
    "        #The dimension of the matrix is 10 0 because the glove embedding vector sizes I used is 100.\n",
    "        header_sum = [0]*100\n",
    "        for word in words_list:\n",
    "            if word in embeddings_index:\n",
    "                word_embedding_vector = embeddings_index.get(word)\n",
    "                header_sum += word_embedding_vector\n",
    "        header_length_dict[i] = len(words_list)  \n",
    "        header_sum_dict[i] = header_sum \n",
    "    return header_length_dict, header_sum_dict"
   ]
  },
  {
   "cell_type": "code",
   "execution_count": 10,
   "metadata": {},
   "outputs": [],
   "source": [
    "def find_same_article(news_title,header_length_dict, header_sum_dict ):\n",
    "    # find similary article for article 1\n",
    "    similiary_dict = {}\n",
    "    for i in news_title.index:\n",
    "        target_length = header_length_dict[i]\n",
    "        target_hearder_vec = header_sum_dict[i]\n",
    "        find_keys = []\n",
    "        for key in header_length_dict.keys():\n",
    "            if header_length_dict[key] == target_length:\n",
    "                non_vec = [0] *100\n",
    "                try:\n",
    "                    if sum(header_sum_dict[key] - target_hearder_vec) == 0:\n",
    "                        find_keys.append(key)\n",
    "                except:\n",
    "                    #print('type header_sum_dict', type(header_sum_dict[key]))\n",
    "                    #print(header_sum_dict[key])\n",
    "                    print(key)\n",
    "                    #print(type(target_hearder_vec))    \n",
    "        similiary_dict[i] = find_keys\n",
    "    return similiary_dict\n",
    "        "
   ]
  },
  {
   "cell_type": "code",
   "execution_count": 11,
   "metadata": {},
   "outputs": [
    {
     "name": "stdout",
     "output_type": "stream",
     "text": [
      "(213605, 6)\n",
      "[ 0.23088    0.28283    0.6318    -0.59411   -0.58599    0.63255\n",
      "  0.24402   -0.14108    0.060815  -0.7898    -0.29102    0.14287\n",
      "  0.72274    0.20428    0.1407     0.98757    0.52533    0.097456\n",
      "  0.8822     0.51221    0.40204    0.21169   -0.013109  -0.71616\n",
      "  0.55387    1.1452    -0.88044   -0.50216   -0.22814    0.023885\n",
      "  0.1072     0.083739   0.55015    0.58479    0.75816    0.45706\n",
      " -0.28001    0.25225    0.68965   -0.60972    0.19578    0.044209\n",
      " -0.31136   -0.68826   -0.22721    0.46185   -0.77162    0.10208\n",
      "  0.55636    0.067417  -0.57207    0.23735    0.4717     0.82765\n",
      " -0.29263   -1.3422    -0.099277   0.28139    0.41604    0.10583\n",
      "  0.62203    0.89496   -0.23446    0.51349    0.99379    1.1846\n",
      " -0.16364    0.20653    0.73854    0.24059   -0.96473    0.13481\n",
      " -0.0072484  0.33016   -0.12365    0.27191   -0.40951    0.021909\n",
      " -0.6069     0.40755    0.19566   -0.41802    0.18636   -0.032652\n",
      " -0.78571   -0.13847    0.044007  -0.084423   0.04911    0.24104\n",
      "  0.45273   -0.18682    0.46182    0.089068  -0.18185   -0.01523\n",
      " -0.7368    -0.14532    0.15104   -0.71493  ]\n"
     ]
    }
   ],
   "source": [
    "if __name__ == '__main__':\n",
    "    df = readArticle('../data/raw/articles.txt')\n",
    "    print(df.shape)\n",
    "    title_df = df['title'].apply(clean_text)\n",
    "    embeddings_index = load_GloVe()\n",
    "    print(embeddings_index['cat'])\n",
    "    #use full articles to train the dictionaies\n",
    "    header_length_dict, header_sum_dict = count_Len_Sum(embeddings_index, title_df)\n",
    "    #exam the top 50 ones to find the similar titles\n",
    "    sim_dict = find_same_article(title_df[:50],header_length_dict, header_sum_dict )\n",
    "    "
   ]
  },
  {
   "cell_type": "code",
   "execution_count": 12,
   "metadata": {},
   "outputs": [
    {
     "data": {
      "text/plain": [
       "{0: [0],\n",
       " 1: [1],\n",
       " 2: [2, 108875, 108985, 123922, 135832, 140029, 168704, 200409],\n",
       " 3: [3],\n",
       " 4: [4],\n",
       " 5: [5],\n",
       " 6: [6],\n",
       " 7: [7, 123918],\n",
       " 8: [8],\n",
       " 9: [9],\n",
       " 10: [10],\n",
       " 11: [11],\n",
       " 12: [12],\n",
       " 13: [13, 200731],\n",
       " 14: [14],\n",
       " 15: [15, 200657],\n",
       " 16: [16],\n",
       " 17: [17],\n",
       " 18: [18, 73615],\n",
       " 19: [19, 200530],\n",
       " 20: [20],\n",
       " 21: [21],\n",
       " 22: [22],\n",
       " 23: [23],\n",
       " 24: [24],\n",
       " 25: [25],\n",
       " 26: [26, 200741],\n",
       " 27: [27],\n",
       " 28: [28],\n",
       " 29: [29, 200856],\n",
       " 30: [30],\n",
       " 31: [31],\n",
       " 32: [32],\n",
       " 33: [33],\n",
       " 34: [34],\n",
       " 35: [35],\n",
       " 36: [36],\n",
       " 37: [37],\n",
       " 38: [38],\n",
       " 39: [39],\n",
       " 40: [40],\n",
       " 41: [41],\n",
       " 42: [42],\n",
       " 43: [43],\n",
       " 44: [44],\n",
       " 45: [45],\n",
       " 46: [46],\n",
       " 47: [47],\n",
       " 48: [48],\n",
       " 49: [49]}"
      ]
     },
     "execution_count": 12,
     "metadata": {},
     "output_type": "execute_result"
    }
   ],
   "source": [
    "sim_dict"
   ]
  },
  {
   "cell_type": "code",
   "execution_count": 24,
   "metadata": {},
   "outputs": [
    {
     "name": "stdout",
     "output_type": "stream",
     "text": [
      "Gallup Shows How Much Americans Really Care About The \"Situation With Russia\n",
      "GALLUP SHOWS HOW MUCH AMERICANS REALLY CARE ABOUT THE \"SITUATION WITH RUSSIA\n",
      "GALLUP SHOWS HOW MUCH AMERICANS REALLY CARE ABOUT THE \"SITUATION WITH RUSSIA\n",
      "Gallup Shows How Much Americans Really Care About The \"Situation With Russia\"\n"
     ]
    }
   ],
   "source": [
    "print(df['title'][2])\n",
    "print(df['title'][108875])\n",
    "print(df['title'][108985])\n",
    "print(df['title'][123922])"
   ]
  },
  {
   "cell_type": "code",
   "execution_count": 20,
   "metadata": {},
   "outputs": [
    {
     "name": "stdout",
     "output_type": "stream",
     "text": [
      "by Knave Dave - Jul 18, 2018 1:11 pm ### This is EXACTLY what the first stage of a housing collapse feels like. ### Jul 18, 2018 1:11 PM ### by quoth the raven - Jul 18, 2018 6:12 pm ### Bill explains his reasoning and why he believes Paul Krugman is a \"world class idiot\". ### Jul 18, 2018 6:12 PM ### 0 ### SHARES ### While ever-hope-filled expectations among the left are for a 'blue wave' in the Mid-term elections, we suspect things may not turn out quite as planned given the last week's \"crisis\". Even before President Trump had set foot in Helsinki, the left and the media were banging the drums of war against \"the thug\" Putin and how he would trump Trump, and once the press conference furore was over, all hell broke loose as the left-leaning world attempted to out-signal one another's virtue as to the \"treasonous\", \"surrender\" that had occurred. ### So much so - in fact - that the internet became 'full' of \"Trump\" and \"Treason\" chatter - more so even than when he joked in July 2016 about Russia having Hillary's missing 30,000 emails. ### Once again - the \"Russia, Russia, Russia\" cries drowned out any sane discussion of the end of cold war 2.0. ### There's just one problem with the Democrats' unending focus on Russia and the media's constant collusion chatter: few Americans care, because - drumroll - they have real lives in the real economy to worry about. ### As the latest survey from Gallup shows : when asked what the most important problem facing the nation is, Russia did not even warrant a 1% - and worse still, it is declining in importance from there. ### Source: Gallup ### As David Sirota noted , \"Gallup recently did a poll of what Americans say is the most important problem facing the country. One finding: the percentage of Americans saying “Situation with Russia” is the most important problem is literally too small to represent with a number. \" ### So with all that energy expended on pinning the Russia collusion tail on Trump's campaign donkey, let alone former FBI Director Comey's insistence that 'anyone voting Republican is anti-American', we are reminded of the blinkered view of the world so many suffer from and what Steve Bannon said yesterday at CNBC's \"Delivering Alpha\" conference : The Democrats abandoned the American worker. ### The meddling was on the margin, and the Democrats need to accept this. The collusion - they haven't found one shred of evidence. ### The Democrats have yet to embrace why they lost...[they] have wanted a do-over since 2:30 am on Nov. 9 - and they've lied and they've bitched and in November they'll get their do-over...but on November 6, the deplorables will be plenty jacked up. ### But in November, voters will render their decision, and whatever they decide it'll be on Trump's platform of economic nationalism, which has boosted economic growth and created jobs. ### \"It's an up or down vote, the economy, the tax cuts the whole package. I think the Fed's going to say in the second quarter it's at 4%...because of economic nationalism.\" ### So, will The Left find policies to run on that are not \"socialism\"? and are not \"not Trump\"? ### Tags\n"
     ]
    }
   ],
   "source": [
    "print(df['text'][2])"
   ]
  },
  {
   "cell_type": "code",
   "execution_count": 21,
   "metadata": {},
   "outputs": [
    {
     "name": "stdout",
     "output_type": "stream",
     "text": [
      "GALLUP SHOWS HOW MUCH AMERICANS REALLY CARE ABOUT THE \"SITUATION WITH RUSSIA\" ### While ever-hope-filled expectations among the left are for a 'blue wave' in the Mid-term elections, we suspect things may not turn out quite as planned given the last week's \"crisis\". Even before President Trump had set foot in Helsinki, the left and the media were banging the drums of war against \"the thug\" Putin and how he would trump Trump, and once the press conference furore was over, all hell broke loose as the left-leaning world attempted to out-signal one another's virtue as to the \"treasonous\", \"surrender\" that had occurred. ### So much so - in fact - that the internet became 'full' of \"Trump\" and \"Treason\" chatter - more so even than when he joked in July 2016 about Russia having Hillary's missing 30,000 emails. ### Once again - the \"Russia, Russia, Russia\" cries drowned out any sane discussion of the end of cold war 2.0. ### There's just one problem with the Democrats' unending focus on Russia and the media's constant collusion chatter: few Americans care, because - drumroll - they have real lives in the real economy to worry about. ### As the latest survey from Gallup shows: when asked what the most important problem facing the nation is, Russia did not even warrant a 1% - and worse still, it is declining in importance from there. ### Webmaster's Commentary: ### It appears that whatever tenuous grip on reality the Democrats may have had in times past, has abandoned them completely, ahead of the midterms. ### Posted on Jul 19, 2018 at 12:44 ### Tags:\n"
     ]
    }
   ],
   "source": [
    "print(df['text'][108875])"
   ]
  },
  {
   "cell_type": "code",
   "execution_count": 23,
   "metadata": {},
   "outputs": [
    {
     "name": "stdout",
     "output_type": "stream",
     "text": [
      "GALLUP SHOWS HOW MUCH AMERICANS REALLY CARE ABOUT THE \"SITUATION WITH RUSSIA\" ### While ever-hope-filled expectations among the left are for a 'blue wave' in the Mid-term elections, we suspect things may not turn out quite as planned given the last week's \"crisis\". Even before President Trump had set foot in Helsinki, the left and the media were banging the drums of war against \"the thug\" Putin and how he would trump Trump, and once the press conference furore was over, all hell broke loose as the left-leaning world attempted to out-signal one another's virtue as to the \"treasonous\", \"surrender\" that had occurred. ### So much so - in fact - that the internet became 'full' of \"Trump\" and \"Treason\" chatter - more so even than when he joked in July 2016 about Russia having Hillary's missing 30,000 emails. ### Once again - the \"Russia, Russia, Russia\" cries drowned out any sane discussion of the end of cold war 2.0. ### There's just one problem with the Democrats' unending focus on Russia and the media's constant collusion chatter: few Americans care, because - drumroll - they have real lives in the real economy to worry about. ### As the latest survey from Gallup shows: when asked what the most important problem facing the nation is, Russia did not even warrant a 1% - and worse still, it is declining in importance from there. ### Webmaster's Commentary: ### It appears that whatever tenuous grip on reality the Democrats may have had in times past, has abandoned them completely, ahead of the midterms. ### Posted on Jul 19, 2018 at 12:44 ### Tags:\n"
     ]
    }
   ],
   "source": [
    "print(df['text'][108985])"
   ]
  },
  {
   "cell_type": "code",
   "execution_count": 25,
   "metadata": {},
   "outputs": [
    {
     "name": "stdout",
     "output_type": "stream",
     "text": [
      "Source: Gallup ### As David Sirota  noted , “Gallup recently did a poll of what Americans say is the most important problem facing the country. One finding: the percentage of Americans saying “Situation with Russia” is the most important problem is literally too small to represent with a number. “ ### So with all that energy expended on pinning the Russia collusion tail on Trump’s campaign donkey, let alone former FBI Director Comey’s insistence that ‘anyone voting Republican is anti-American’, we are reminded of the blinkered view of the world so many suffer from and what Steve Bannon said yesterday at  CNBC’s “Delivering Alpha” conference : The Democrats abandoned the American worker. ### The meddling was on the margin, and the Democrats need to accept this. The collusion – they haven’t found one shred of evidence. ### The Democrats have yet to embrace why they lost…[they] have wanted a do-over since 2:30 am on Nov. 9 – and they’ve lied and they’ve bitched and in November they’ll get their do-over…but on November 6, the deplorables will be plenty jacked up. ### But in November, voters will render their decision, and whatever they decide it’ll be on Trump’s platform of economic nationalism, which has boosted economic growth and created jobs. ### “It’s an up or down vote, the economy, the tax cuts the whole package. I think the Fed’s going to say in the second quarter it’s at 4%…because of economic nationalism.” ### So, will The Left find policies to run on that are not “socialism”? and are not “not Trump”?  ### Please Spread The Word And Share This Post ### Author: Tyler Durden\n"
     ]
    }
   ],
   "source": [
    "print(df['text'][123922])"
   ]
  },
  {
   "cell_type": "code",
   "execution_count": 26,
   "metadata": {},
   "outputs": [
    {
     "name": "stdout",
     "output_type": "stream",
     "text": [
      "If Everything's So Awesome, Why Are Investors Paying So Much For Crash Protection\n",
      "If Everything’s So Awesome, Why Are Investors Paying So Much For Crash Protection\n"
     ]
    }
   ],
   "source": [
    "print(df['title'][13])\n",
    "print(df['title'][200731])\n"
   ]
  },
  {
   "cell_type": "code",
   "execution_count": 27,
   "metadata": {},
   "outputs": [
    {
     "name": "stdout",
     "output_type": "stream",
     "text": [
      "by Phoenix Capita… - Jul 19, 2018 8:49 am ### The Government is planning a $1 trillion deficit next year. ### Jul 19, 2018 8:49 AM ### Financial Terrorism In The UK – Collusion between Government, Regulators & Two Bailed-Out UK Banks ### by GoldCore - Jul 19, 2018 8:01 am ### Neil Mitchell has waged a long battle for justice for UK victims of the UK taxpayer owned bank RBS and HBOS ### Jul 19, 2018 8:01 AM ### 0 ### SHARES ### Tech stocks soaring to record highs and a slump in volatility suggest investors are brushing aside market risks, trade war concerns, and Central Bank tightening. ### However, as Bloomberg notes, there is at least one gauge of investor sentiment that hints at a growing concern. The Cboe Skew Index, which tracks the cost of tail-risk equity protection, has jumped to the highest level since October. The rise signals options traders are growing wary of wild swings, just as the International Monetary Fund warned financial markets seem complacent to mounting risks in the global economy. ### Generally, a rise in skew indicates that 'crash protection' is in demand among institutional investors (institutional/professional investors are the biggest traders in SPX options). ### But an unusual move in the skew index (which historically has tended to oscillate approximately between a value of 100 and 150) is especially interesting when it diverges strongly from the VIX, which measures at the money and close to the money front month SPX option premiums. ### Basically what a 'low VIX/high skew' combination is saying is: 'the market overall is complacent, but big investors perceive far more tail risk than usually' (it is exactly the other way around when the VIX is high and SKEW is low). Below is a chart showing the current SKEW/VIX combination...back to the same level it was at before the short-vol collapse accelerated in Jan/Feb. ### In other words, a surprising increase in realized volatility may not be too far away. ### Perhaps this is one reason why - based on the uncertainty of economic policy, VIX should be trading north of 40... ### But it's not just equity crash risk that is bid, credit investors are piling into CDS markets, worried there won’t be enough liquidity in a downturn - taking steps to avoid getting stuck with hard-to-trade corporate bonds. ### As Bloomberg reports,  volume on Markit's CDX North American Investment Grade Index, which tracks default swaps on 125 high-grade corporate bonds, reached a new milestone in the first half of 2018 of $1.56 trillion. That eclipsed every previous period in the past five years of data available. ### An abrupt surge in turnover in such derivatives typically coincides with periods of turmoil as investors rush to hedge credit risk. ### “Investors are putting more allocations into more-liquid portfolio products so they can be more nimble in a downturn,” said Anindya Basu, head of U.S. credit derivatives strategy at Citigroup Inc. “When markets were rallying, people thought about liquidity, but it may not necessarily have been on the top of their agenda.” ### And since the February vol complex debacle, credit risk has remained dramatically elevated... ### As heightened concerns about an escalating trade war and the prospect of tighter monetary policy are overshadowing the otherwise healthy economic backdrop for high-grade corporate credit. ### “When markets gets really stressed, cash tends to underperform,” Basu said. “Investors are starting to get more bearish than a year ago; they’re worried about a variety of risks such as rising rates and trade wars.” ### Leaving us wondering, if everything's so awesome? Stocks soaring (well FANGs soaring), GDP expectations soaring, confidence soaring, why is the yield curve collapsing and why are professional investors scrambling to buy protection against a crash in equity and/or credit markets. ### Tags\n"
     ]
    }
   ],
   "source": [
    "print(df['text'][13])"
   ]
  },
  {
   "cell_type": "code",
   "execution_count": 28,
   "metadata": {},
   "outputs": [
    {
     "name": "stdout",
     "output_type": "stream",
     "text": [
      "Gold and Precious Metals ### If Everything’s So Awesome, Why Are Investors Paying So Much For Crash Protection? ### Thursday, July 19, 2018 13:26 ### % of readers think this story is Fact. Add your two cents. ### Tech stocks soaring to record highs and a slump in volatility suggest investors are brushing aside market risks, trade war concerns, and Central Bank tightening. ### However, as Bloomberg notes, there is at least one gauge of investor sentiment that hints at a growing concern. The Cboe Skew Index, which tracks the cost of tail-risk equity protection, has jumped to the highest level since October. The rise signals options traders are growing wary of wild swings, just as the International Monetary Fund warned financial markets seem complacent to mounting risks in the global economy. ### Generally, a rise in skew indicates that ‘crash protection’ is in demand among institutional investors (institutional/professional investors are the biggest traders in SPX options). ### But an unusual move in the skew index (which historically has tended to oscillate approximately between a value of 100 and 150) is especially interesting when it diverges strongly from the VIX, which measures at the money and close to the money front month SPX option premiums. ### Basically what a ‘low VIX/high skew’ combination is saying is: ‘the market overall is complacent, but big investors perceive far more tail risk than usually’ (it is exactly the other way around when the VIX is high and SKEW is low). Below is a chart showing the current SKEW/VIX combination…back to the same level it was at before the short-vol collapse accelerated in Jan/Feb. ### In other words, a surprising increase in realized volatility may not be too far away. ### Perhaps this is one reason why – based on the uncertainty of economic policy, VIX should be trading north of 40… ### But it’s not just equity crash risk that is bid, credit investors are piling into CDS markets, worried there won’t be enough liquidity in a downturn – taking steps to avoid getting stuck with hard-to-trade corporate bonds. ### As Bloomberg reports,  volume on Markit’s CDX North American Investment Grade Index, which tracks default swaps on 125 high-grade corporate bonds, reached a new milestone in the first half of 2018 of $1.56 trillion. That eclipsed every previous period in the past five years of data available. ### An abrupt surge in turnover in such derivatives typically coincides with periods of turmoil as investors rush to hedge credit risk. ### “Investors are putting more allocations into more-liquid portfolio products so they can be more nimble in a downturn,” said Anindya Basu, head of U.S. credit derivatives strategy at Citigroup Inc. “When markets were rallying, people thought about liquidity, but it may not necessarily have been on the top of their agenda.” ### And since the February vol complex debacle, credit risk has remained dramatically elevated… ### As heightened concerns about an escalating trade war and the prospect of tighter monetary policy are overshadowing the otherwise healthy economic backdrop for high-grade corporate credit. ### “When markets gets really stressed, cash tends to underperform,” Basu said. “Investors are starting to get more bearish than a year ago; they’re worried about a variety of risks such as rising rates and trade wars.” ### Leaving us wondering, if everything’s so awesome? Stocks soaring (well FANGs soaring), GDP expectations soaring, confidence soaring, why is the yield curve collapsing and why are professional investors scrambling to buy protection against a crash in equity and/or credit markets.\n"
     ]
    }
   ],
   "source": [
    "print(df['text'][200731])"
   ]
  },
  {
   "cell_type": "code",
   "execution_count": null,
   "metadata": {},
   "outputs": [],
   "source": []
  }
 ],
 "metadata": {
  "kernelspec": {
   "display_name": "Python 3",
   "language": "python",
   "name": "python3"
  },
  "language_info": {
   "codemirror_mode": {
    "name": "ipython",
    "version": 3
   },
   "file_extension": ".py",
   "mimetype": "text/x-python",
   "name": "python",
   "nbconvert_exporter": "python",
   "pygments_lexer": "ipython3",
   "version": "3.6.5"
  }
 },
 "nbformat": 4,
 "nbformat_minor": 2
}
