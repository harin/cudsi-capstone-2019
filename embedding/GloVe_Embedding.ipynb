{
 "cells": [
  {
   "cell_type": "code",
   "execution_count": 1,
   "metadata": {},
   "outputs": [],
   "source": [
    "import pandas as pd\n",
    "import nltk\n",
    "from nltk.corpus import stopwords\n",
    "import re\n",
    "import numpy as np"
   ]
  },
  {
   "cell_type": "code",
   "execution_count": 2,
   "metadata": {},
   "outputs": [],
   "source": [
    "file = open('../data/raw/articles.txt', 'r', encoding = 'utf8')"
   ]
  },
  {
   "cell_type": "code",
   "execution_count": 3,
   "metadata": {},
   "outputs": [],
   "source": [
    "#articles.txt is a file containing article records, one record per row, column definition is:\n",
    "columns = [\"pubId\", \"is_hourly\", \"seqId\", \"on_homepage\", \"canonicalUrl\",\n",
    "                   \"firstScrape\", \"lang_iso\", \"lang_reliability\", \"title\", \"text\"]\n",
    "articles_dt = file.read().split('\\n')[:-1]"
   ]
  },
  {
   "cell_type": "code",
   "execution_count": 4,
   "metadata": {},
   "outputs": [],
   "source": [
    "pubId, canonicalUrl,firstScrape,title,text,lang_reliability = [],[],[],[],[],[]\n",
    "for article in articles_dt:    \n",
    "    row = article.split('\\t')\n",
    "    pubId.append(row[0])\n",
    "    canonicalUrl.append(row[4])\n",
    "    firstScrape.append(row[5])\n",
    "    lang_reliability.append(row[7])\n",
    "    title.append(row[8])\n",
    "    text.append(row[9])\n",
    "articles_df = pd.DataFrame()"
   ]
  },
  {
   "cell_type": "code",
   "execution_count": 5,
   "metadata": {},
   "outputs": [],
   "source": [
    "articles_df['pubId'], articles_df['canonicalUrl'], articles_df['firstScrape'], articles_df['title'], articles_df['text'], articles_df['lang_reliability']= pubId, canonicalUrl,firstScrape,title,text,lang_reliability"
   ]
  },
  {
   "cell_type": "code",
   "execution_count": 6,
   "metadata": {},
   "outputs": [
    {
     "data": {
      "text/plain": [
       "(213605, 6)"
      ]
     },
     "execution_count": 6,
     "metadata": {},
     "output_type": "execute_result"
    }
   ],
   "source": [
    "articles_df.shape"
   ]
  },
  {
   "cell_type": "code",
   "execution_count": 7,
   "metadata": {},
   "outputs": [
    {
     "data": {
      "text/plain": [
       "(211577, 6)"
      ]
     },
     "execution_count": 7,
     "metadata": {},
     "output_type": "execute_result"
    }
   ],
   "source": [
    "#exclude the lang_reliability = 0 which the detected language is not reliable\n",
    "articles_df = articles_df[articles_df['lang_reliability'] == '1']\n",
    "articles_df.shape"
   ]
  },
  {
   "cell_type": "code",
   "execution_count": 8,
   "metadata": {},
   "outputs": [],
   "source": [
    "## text normzalization\n",
    "STOPWORDS = set(stopwords.words('english'))\n",
    "\n",
    "def clean_text(text):\n",
    "    \"\"\"\n",
    "        text: a paragrapy\n",
    "        \n",
    "        return: modified initial string\n",
    "    \"\"\"\n",
    "    text = re.sub(r\"[^\\w\\s]\", '', text) ## Remove all non-word characters (everything except numbers and letters)\n",
    "    text = text.lower() # lowercase text\n",
    "    text = ' '.join(word for word in text.split() if word not in STOPWORDS) # delete stopwords from text\n",
    "    return text\n",
    "    \n",
    "articles_df['text'] = articles_df['text'].apply(clean_text)"
   ]
  },
  {
   "cell_type": "code",
   "execution_count": 9,
   "metadata": {},
   "outputs": [
    {
     "data": {
      "text/plain": [
       "0         phoenix capita jul 19 2018 849 government plan...\n",
       "1         phoenix capita jul 19 2018 849 government plan...\n",
       "2         knave dave jul 18 2018 111 pm exactly first st...\n",
       "3         knave dave jul 18 2018 111 pm exactly first st...\n",
       "4         phoenix capita jul 19 2018 849 government plan...\n",
       "                                ...                        \n",
       "213600    george sad embarrassing wreck man george sad e...\n",
       "213601    manchester aldermen give courtblocked rezoning...\n",
       "213602    girl 5 found asleep loaded gun deplorable cond...\n",
       "213603    search advanced search old home day shine goff...\n",
       "213604    foxwoods 301 home race ben lynch foxwoods 301 ...\n",
       "Name: text, Length: 211577, dtype: object"
      ]
     },
     "execution_count": 9,
     "metadata": {},
     "output_type": "execute_result"
    }
   ],
   "source": [
    "articles_df['text']"
   ]
  },
  {
   "cell_type": "code",
   "execution_count": 10,
   "metadata": {},
   "outputs": [],
   "source": [
    "## word embedding -GloVe\n",
    "# load GloVe \n",
    "embeddings_index = {}\n",
    "f = open('../data/embedding/glove.6B/glove.6B.100d.txt')\n",
    "for line in f:\n",
    "    values = line.split()\n",
    "    word = values[0]\n",
    "    coefs = np.asarray(values[1:], dtype='float32')\n",
    "    embeddings_index[word] = coefs\n",
    "f.close()"
   ]
  },
  {
   "cell_type": "code",
   "execution_count": 11,
   "metadata": {},
   "outputs": [
    {
     "data": {
      "text/plain": [
       "array([ 0.23088  ,  0.28283  ,  0.6318   , -0.59411  , -0.58599  ,\n",
       "        0.63255  ,  0.24402  , -0.14108  ,  0.060815 , -0.7898   ,\n",
       "       -0.29102  ,  0.14287  ,  0.72274  ,  0.20428  ,  0.1407   ,\n",
       "        0.98757  ,  0.52533  ,  0.097456 ,  0.8822   ,  0.51221  ,\n",
       "        0.40204  ,  0.21169  , -0.013109 , -0.71616  ,  0.55387  ,\n",
       "        1.1452   , -0.88044  , -0.50216  , -0.22814  ,  0.023885 ,\n",
       "        0.1072   ,  0.083739 ,  0.55015  ,  0.58479  ,  0.75816  ,\n",
       "        0.45706  , -0.28001  ,  0.25225  ,  0.68965  , -0.60972  ,\n",
       "        0.19578  ,  0.044209 , -0.31136  , -0.68826  , -0.22721  ,\n",
       "        0.46185  , -0.77162  ,  0.10208  ,  0.55636  ,  0.067417 ,\n",
       "       -0.57207  ,  0.23735  ,  0.4717   ,  0.82765  , -0.29263  ,\n",
       "       -1.3422   , -0.099277 ,  0.28139  ,  0.41604  ,  0.10583  ,\n",
       "        0.62203  ,  0.89496  , -0.23446  ,  0.51349  ,  0.99379  ,\n",
       "        1.1846   , -0.16364  ,  0.20653  ,  0.73854  ,  0.24059  ,\n",
       "       -0.96473  ,  0.13481  , -0.0072484,  0.33016  , -0.12365  ,\n",
       "        0.27191  , -0.40951  ,  0.021909 , -0.6069   ,  0.40755  ,\n",
       "        0.19566  , -0.41802  ,  0.18636  , -0.032652 , -0.78571  ,\n",
       "       -0.13847  ,  0.044007 , -0.084423 ,  0.04911  ,  0.24104  ,\n",
       "        0.45273  , -0.18682  ,  0.46182  ,  0.089068 , -0.18185  ,\n",
       "       -0.01523  , -0.7368   , -0.14532  ,  0.15104  , -0.71493  ],\n",
       "      dtype=float32)"
      ]
     },
     "execution_count": 11,
     "metadata": {},
     "output_type": "execute_result"
    }
   ],
   "source": [
    "embeddings_index['cat']"
   ]
  },
  {
   "cell_type": "code",
   "execution_count": 14,
   "metadata": {},
   "outputs": [],
   "source": [
    "# Use mean of the word embedding for each corpus\n",
    "embedding_matrix = []\n",
    "def Glove_Embedding(text):\n",
    "    words_list = text.split(' ')\n",
    "    #The dimension of the matrix is 10 0 because the glove embedding vector sizes I used is 100.\n",
    "    article_sum = [0]*100\n",
    "    print(article_sum)\n",
    "    for word in words_list:\n",
    "        if word in embeddings_index:\n",
    "            word_embedding_vector = embeddings_index.get(word)\n",
    "            article_sum += word_embedding_vector\n",
    "    #create a corpus matrix  = mean of all the words embeddings\n",
    "    article_embedd = np.asarray(article_sum)/len(words_list)    \n",
    "    embedding_matrix.append(article_embedd)    "
   ]
  },
  {
   "cell_type": "code",
   "execution_count": null,
   "metadata": {},
   "outputs": [],
   "source": [
    "articles_df['text'].apply(Glove_Embedding)"
   ]
  },
  {
   "cell_type": "code",
   "execution_count": 18,
   "metadata": {},
   "outputs": [
    {
     "data": {
      "text/plain": [
       "(211577, 100)"
      ]
     },
     "execution_count": 18,
     "metadata": {},
     "output_type": "execute_result"
    }
   ],
   "source": [
    "#matrix shape = len of the aritles * 100\n",
    "embedding_matrix = np.asarray(embedding_matrix)\n",
    "embedding_matrix.shape"
   ]
  },
  {
   "cell_type": "code",
   "execution_count": 19,
   "metadata": {},
   "outputs": [
    {
     "data": {
      "text/plain": [
       "array([ 0.00602137,  0.01195719,  0.22523276, -0.24457395, -0.0119647 ,\n",
       "       -0.08792708,  0.08966452,  0.23945617, -0.3218343 , -0.08691979,\n",
       "        0.24135602, -0.0707292 ,  0.06616067, -0.11020071, -0.08192461,\n",
       "       -0.1166989 ,  0.18551545,  0.10917941, -0.19468354,  0.20750614,\n",
       "        0.21419556,  0.08076224,  0.15277111,  0.06879448,  0.14427054,\n",
       "       -0.10953973, -0.17506241, -0.25021611,  0.10026254, -0.06295393,\n",
       "       -0.28487296,  0.30291189, -0.07665823,  0.00793329,  0.08361133,\n",
       "        0.14716428, -0.15557311,  0.20291562, -0.06152896,  0.1046313 ,\n",
       "       -0.11874123, -0.2363765 ,  0.09580593, -0.16065576, -0.15009723,\n",
       "        0.04664021,  0.10279823, -0.26585508,  0.0926819 , -0.51392792,\n",
       "       -0.1201345 , -0.20157663, -0.01180393,  0.56009289,  0.02124097,\n",
       "       -1.51099883, -0.22494964,  0.09388035,  0.86499679,  0.29900739,\n",
       "       -0.18096338,  0.39167915, -0.0059991 ,  0.06502863,  0.4097549 ,\n",
       "       -0.04531584,  0.10152085,  0.21511926,  0.04947853,  0.08355396,\n",
       "       -0.15110426, -0.05103123, -0.20731095, -0.14712173,  0.07595049,\n",
       "        0.10697038,  0.06302848, -0.07816776, -0.42901335, -0.14048689,\n",
       "        0.30190266,  0.02068832, -0.29922691,  0.08849498, -0.59692773,\n",
       "       -0.07854349, -0.03036689, -0.17019813, -0.04462768, -0.08530458,\n",
       "       -0.16238429,  0.00846743, -0.013092  ,  0.1123651 , -0.31337737,\n",
       "        0.03749493, -0.05585307,  0.10338091,  0.40648828,  0.07282667])"
      ]
     },
     "execution_count": 19,
     "metadata": {},
     "output_type": "execute_result"
    }
   ],
   "source": [
    "embedding_matrix[-1]"
   ]
  },
  {
   "cell_type": "code",
   "execution_count": 22,
   "metadata": {},
   "outputs": [
    {
     "data": {
      "text/plain": [
       "<matplotlib.axes._subplots.AxesSubplot at 0x1d1f28588>"
      ]
     },
     "execution_count": 22,
     "metadata": {},
     "output_type": "execute_result"
    },
    {
     "data": {
      "image/png": "[encoded data removed]",
      "text/plain": [
       "<Figure size 432x288 with 1 Axes>"
      ]
     },
     "metadata": {
      "needs_background": "light"
     },
     "output_type": "display_data"
    }
   ],
   "source": [
    "pd.DataFrame(embedding_matrix).mean(axis = 1).plot()"
   ]
  },
  {
   "cell_type": "code",
   "execution_count": 23,
   "metadata": {},
   "outputs": [],
   "source": [
    "pd.DataFrame(embedding_matrix).to_csv(\"../data/embedding/Glove_embedding_output.csv\")"
   ]
  },
  {
   "cell_type": "code",
   "execution_count": 56,
   "metadata": {},
   "outputs": [],
   "source": [
    "## cosine similiarty bettween each articles\n",
    "from sklearn.metrics.pairwise import cosine_similarity\n",
    "def get_cosine_sim(m): \n",
    "    length = m.shape[0]\n",
    "    cos_sim_matrix = np.empty([length, length])\n",
    "    for i in range(length):\n",
    "        for j in range(length):\n",
    "    return cos_sim_matrix\n"
   ]
  },
  {
   "cell_type": "code",
   "execution_count": null,
   "metadata": {},
   "outputs": [],
   "source": [
    "art_sim = get_cosine_sim(embedding_matrix)"
   ]
  },
  {
   "cell_type": "code",
   "execution_count": null,
   "metadata": {},
   "outputs": [],
   "source": []
  }
 ],
 "metadata": {
  "kernelspec": {
   "display_name": "Python 3",
   "language": "python",
   "name": "python3"
  },
  "language_info": {
   "codemirror_mode": {
    "name": "ipython",
    "version": 3
   },
   "file_extension": ".py",
   "mimetype": "text/x-python",
   "name": "python",
   "nbconvert_exporter": "python",
   "pygments_lexer": "ipython3",
   "version": "3.6.5"
  }
 },
 "nbformat": 4,
 "nbformat_minor": 2
}
