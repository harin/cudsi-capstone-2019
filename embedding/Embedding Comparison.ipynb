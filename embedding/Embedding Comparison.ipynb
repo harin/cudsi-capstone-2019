{
 "cells": [
  {
   "cell_type": "markdown",
   "metadata": {},
   "source": [
    "# Embedding Comparison -  Article Data with Label"
   ]
  },
  {
   "cell_type": "code",
   "execution_count": 4,
   "metadata": {},
   "outputs": [],
   "source": [
    "import pandas as pd\n",
    "import numpy as np"
   ]
  },
  {
   "cell_type": "code",
   "execution_count": 18,
   "metadata": {},
   "outputs": [
    {
     "data": {
      "text/html": [
       "<div>\n",
       "<style scoped>\n",
       "    .dataframe tbody tr th:only-of-type {\n",
       "        vertical-align: middle;\n",
       "    }\n",
       "\n",
       "    .dataframe tbody tr th {\n",
       "        vertical-align: top;\n",
       "    }\n",
       "\n",
       "    .dataframe thead th {\n",
       "        text-align: right;\n",
       "    }\n",
       "</style>\n",
       "<table border=\"1\" class=\"dataframe\">\n",
       "  <thead>\n",
       "    <tr style=\"text-align: right;\">\n",
       "      <th></th>\n",
       "      <th>canonicalUrl</th>\n",
       "      <th>label</th>\n",
       "    </tr>\n",
       "  </thead>\n",
       "  <tbody>\n",
       "    <tr>\n",
       "      <th>0</th>\n",
       "      <td>denverpost.com/2018/07/20/greeley-police-lip-s...</td>\n",
       "      <td>cave_rescue</td>\n",
       "    </tr>\n",
       "    <tr>\n",
       "      <th>1</th>\n",
       "      <td>bbc.com/news/av/world-asia-44875089/thai-cave-...</td>\n",
       "      <td>cave_rescue</td>\n",
       "    </tr>\n",
       "    <tr>\n",
       "      <th>2</th>\n",
       "      <td>news.google.com/stories/caaqzggkimbdqkltuwpvsm...</td>\n",
       "      <td>cave_rescue</td>\n",
       "    </tr>\n",
       "    <tr>\n",
       "      <th>3</th>\n",
       "      <td>chron.com/news/crime/article/young-nubians-rev...</td>\n",
       "      <td>cave_rescue</td>\n",
       "    </tr>\n",
       "    <tr>\n",
       "      <th>4</th>\n",
       "      <td>cnbc.com/2018/07/20/at-least-13-die-when-duck-...</td>\n",
       "      <td>cave_rescue</td>\n",
       "    </tr>\n",
       "  </tbody>\n",
       "</table>\n",
       "</div>"
      ],
      "text/plain": [
       "                                        canonicalUrl        label\n",
       "0  denverpost.com/2018/07/20/greeley-police-lip-s...  cave_rescue\n",
       "1  bbc.com/news/av/world-asia-44875089/thai-cave-...  cave_rescue\n",
       "2  news.google.com/stories/caaqzggkimbdqkltuwpvsm...  cave_rescue\n",
       "3  chron.com/news/crime/article/young-nubians-rev...  cave_rescue\n",
       "4  cnbc.com/2018/07/20/at-least-13-die-when-duck-...  cave_rescue"
      ]
     },
     "execution_count": 18,
     "metadata": {},
     "output_type": "execute_result"
    }
   ],
   "source": [
    "# get the label data\n",
    "#/Users/zechen/Desktop/Capstone/2018_07_19_04_59_08/labels/cave_rescue\n",
    "label1 = pd.read_csv('2018_07_19_04_59_08/labels/cave_rescue/population.txt', header=None)\n",
    "label1.columns = ['canonicalUrl']\n",
    "label1['label'] = 'cave_rescue'\n",
    "label2 = pd.read_csv('2018_07_19_04_59_08/labels/duckboat/population.txt', header=None)\n",
    "label2.columns = ['canonicalUrl']\n",
    "label2['label'] = 'duckboat'\n",
    "label3 = pd.read_csv('2018_07_19_04_59_08/labels/helsinki_summit/population.txt', header=None)\n",
    "label3.columns = ['canonicalUrl']\n",
    "label3['label'] = 'helsinki'\n",
    "label_df = pd.concat([label1, label2, label3])\n",
    "label_df.head()"
   ]
  },
  {
   "cell_type": "code",
   "execution_count": 31,
   "metadata": {},
   "outputs": [],
   "source": [
    "articles_df = pd.read_csv('reliable_raw_articles.csv')\n",
    "#only_lemma = pd.read_csv('result/only_lemma.csv')"
   ]
  },
  {
   "cell_type": "code",
   "execution_count": 39,
   "metadata": {},
   "outputs": [],
   "source": [
    "## text normzalization\n",
    "from nltk.corpus import stopwords\n",
    "import re\n",
    "import nltk\n",
    "from nltk.stem import WordNetLemmatizer \n",
    "lemmatizer = WordNetLemmatizer()\n",
    "\n",
    "STOPWORDS = set(stopwords.words('english'))\n",
    "\n",
    "def clean_text_lemma(text):\n",
    "    \"\"\"\n",
    "        text: a paragrapy\n",
    "        \n",
    "        return: modified initial string\n",
    "    \"\"\"\n",
    "    text = re.sub(r\"[^\\w\\s]\", '', text) ## Remove all non-word characters (everything except numbers and letters)\n",
    "    text = text.lower() # lowercase text\n",
    "    #text = ' '.join(word for word in text.split() if word not in STOPWORDS) # delete stopwords from text\n",
    "    text_list = nltk.word_tokenize(text)\n",
    "    lemmatized_output = ' '.join([lemmatizer.lemmatize(w) for w in text_list]) # lemmatization\n",
    "    #text_list2 = nltk.word_tokenize(lemmatized_output)\n",
    "    #stemmed_output = ' '.join([porter.stem(w) for w in text_list2]) #stemming\n",
    "    return lemmatized_output"
   ]
  },
  {
   "cell_type": "code",
   "execution_count": 40,
   "metadata": {},
   "outputs": [],
   "source": [
    "articles_df['title_text'] = articles_df['title_text'].apply(clean_text_lemma)"
   ]
  },
  {
   "cell_type": "code",
   "execution_count": 41,
   "metadata": {},
   "outputs": [],
   "source": [
    "articles_df.to_csv('articles_df_afterlemma_allcolumns.csv')"
   ]
  },
  {
   "cell_type": "code",
   "execution_count": 42,
   "metadata": {},
   "outputs": [
    {
     "data": {
      "text/html": [
       "<div>\n",
       "<style scoped>\n",
       "    .dataframe tbody tr th:only-of-type {\n",
       "        vertical-align: middle;\n",
       "    }\n",
       "\n",
       "    .dataframe tbody tr th {\n",
       "        vertical-align: top;\n",
       "    }\n",
       "\n",
       "    .dataframe thead th {\n",
       "        text-align: right;\n",
       "    }\n",
       "</style>\n",
       "<table border=\"1\" class=\"dataframe\">\n",
       "  <thead>\n",
       "    <tr style=\"text-align: right;\">\n",
       "      <th></th>\n",
       "      <th>Unnamed: 0</th>\n",
       "      <th>pubId</th>\n",
       "      <th>canonicalUrl</th>\n",
       "      <th>firstScrape</th>\n",
       "      <th>title</th>\n",
       "      <th>text</th>\n",
       "      <th>lang_reliability</th>\n",
       "      <th>title_text</th>\n",
       "      <th>label</th>\n",
       "    </tr>\n",
       "  </thead>\n",
       "  <tbody>\n",
       "    <tr>\n",
       "      <th>12</th>\n",
       "      <td>12</td>\n",
       "      <td>290</td>\n",
       "      <td>zerohedge.com/news/2018-07-19/la-liberals-stag...</td>\n",
       "      <td>7/19/2018 7:50:19 PM -04:00</td>\n",
       "      <td>LA Liberals Stage \"Emergency Protest\" At Koshe...</td>\n",
       "      <td>by Phoenix Capita… - Jul 19, 2018 8:49 am ### ...</td>\n",
       "      <td>1</td>\n",
       "      <td>la liberal stage emergency protest at kosher c...</td>\n",
       "      <td>helsinki</td>\n",
       "    </tr>\n",
       "    <tr>\n",
       "      <th>23</th>\n",
       "      <td>23</td>\n",
       "      <td>290</td>\n",
       "      <td>zerohedge.com/news/2018-07-19/wells-fargo-has-...</td>\n",
       "      <td>7/19/2018 11:53:37 AM -04:00</td>\n",
       "      <td>Wells Fargo Caught In Yet Another Scandal | Ze...</td>\n",
       "      <td>by Phoenix Capita… - Jul 19, 2018 8:49 am ### ...</td>\n",
       "      <td>1</td>\n",
       "      <td>well fargo caught in yet another scandal zero ...</td>\n",
       "      <td>helsinki</td>\n",
       "    </tr>\n",
       "    <tr>\n",
       "      <th>30</th>\n",
       "      <td>30</td>\n",
       "      <td>290</td>\n",
       "      <td>zerohedge.com/news/2018-07-19/white-house-aske...</td>\n",
       "      <td>7/20/2018 1:35:15 AM -04:00</td>\n",
       "      <td>Asked 8 Times For Trump-Rouhani Meeting, Iran...</td>\n",
       "      <td>by Phoenix Capita… - Jul 19, 2018 8:49 am ### ...</td>\n",
       "      <td>1</td>\n",
       "      <td>asked 8 time for trumprouhani meeting iran say...</td>\n",
       "      <td>helsinki</td>\n",
       "    </tr>\n",
       "    <tr>\n",
       "      <th>34</th>\n",
       "      <td>34</td>\n",
       "      <td>290</td>\n",
       "      <td>zerohedge.com/news/2018-07-18/wheres-panic-why...</td>\n",
       "      <td>7/19/2018 8:26:52 AM -04:00</td>\n",
       "      <td>\"Where’s The Panic\": Why Trade War Hedges Aren...</td>\n",
       "      <td>by Knave Dave - Jul 18, 2018 1:11 pm ### This ...</td>\n",
       "      <td>1</td>\n",
       "      <td>wheres the panic why trade war hedge arent wor...</td>\n",
       "      <td>helsinki</td>\n",
       "    </tr>\n",
       "    <tr>\n",
       "      <th>53</th>\n",
       "      <td>53</td>\n",
       "      <td>290</td>\n",
       "      <td>zerohedge.com/news/2018-07-19/maxine-waters-fe...</td>\n",
       "      <td>7/19/2018 1:03:04 PM -04:00</td>\n",
       "      <td>Maxine Waters Fears \"Armed Protests\" As Oath K...</td>\n",
       "      <td>by Phoenix Capita… - Jul 19, 2018 8:49 am ### ...</td>\n",
       "      <td>1</td>\n",
       "      <td>maxine water fear armed protest a oath keeper ...</td>\n",
       "      <td>cave_rescue</td>\n",
       "    </tr>\n",
       "  </tbody>\n",
       "</table>\n",
       "</div>"
      ],
      "text/plain": [
       "    Unnamed: 0  pubId                                       canonicalUrl  \\\n",
       "12          12    290  zerohedge.com/news/2018-07-19/la-liberals-stag...   \n",
       "23          23    290  zerohedge.com/news/2018-07-19/wells-fargo-has-...   \n",
       "30          30    290  zerohedge.com/news/2018-07-19/white-house-aske...   \n",
       "34          34    290  zerohedge.com/news/2018-07-18/wheres-panic-why...   \n",
       "53          53    290  zerohedge.com/news/2018-07-19/maxine-waters-fe...   \n",
       "\n",
       "                     firstScrape  \\\n",
       "12   7/19/2018 7:50:19 PM -04:00   \n",
       "23  7/19/2018 11:53:37 AM -04:00   \n",
       "30   7/20/2018 1:35:15 AM -04:00   \n",
       "34   7/19/2018 8:26:52 AM -04:00   \n",
       "53   7/19/2018 1:03:04 PM -04:00   \n",
       "\n",
       "                                                title  \\\n",
       "12  LA Liberals Stage \"Emergency Protest\" At Koshe...   \n",
       "23  Wells Fargo Caught In Yet Another Scandal | Ze...   \n",
       "30   Asked 8 Times For Trump-Rouhani Meeting, Iran...   \n",
       "34  \"Where’s The Panic\": Why Trade War Hedges Aren...   \n",
       "53  Maxine Waters Fears \"Armed Protests\" As Oath K...   \n",
       "\n",
       "                                                 text  lang_reliability  \\\n",
       "12  by Phoenix Capita… - Jul 19, 2018 8:49 am ### ...                 1   \n",
       "23  by Phoenix Capita… - Jul 19, 2018 8:49 am ### ...                 1   \n",
       "30  by Phoenix Capita… - Jul 19, 2018 8:49 am ### ...                 1   \n",
       "34  by Knave Dave - Jul 18, 2018 1:11 pm ### This ...                 1   \n",
       "53  by Phoenix Capita… - Jul 19, 2018 8:49 am ### ...                 1   \n",
       "\n",
       "                                           title_text        label  \n",
       "12  la liberal stage emergency protest at kosher c...     helsinki  \n",
       "23  well fargo caught in yet another scandal zero ...     helsinki  \n",
       "30  asked 8 time for trumprouhani meeting iran say...     helsinki  \n",
       "34  wheres the panic why trade war hedge arent wor...     helsinki  \n",
       "53  maxine water fear armed protest a oath keeper ...  cave_rescue  "
      ]
     },
     "execution_count": 42,
     "metadata": {},
     "output_type": "execute_result"
    }
   ],
   "source": [
    "#merged df and the label_df\n",
    "merged_df = articles_df.merge(label_df, on='canonicalUrl', how='left')\n",
    "#drop na labels\n",
    "merged_df = merged_df.dropna(subset=['label'])\n",
    "merged_df.head()"
   ]
  },
  {
   "cell_type": "code",
   "execution_count": 177,
   "metadata": {},
   "outputs": [
    {
     "data": {
      "text/plain": [
       "(635, 9)"
      ]
     },
     "execution_count": 177,
     "metadata": {},
     "output_type": "execute_result"
    }
   ],
   "source": [
    "merged_df.shape"
   ]
  },
  {
   "cell_type": "code",
   "execution_count": 180,
   "metadata": {},
   "outputs": [],
   "source": [
    "merged_df.to_csv('merged_df_labeled.csv')"
   ]
  },
  {
   "cell_type": "markdown",
   "metadata": {},
   "source": [
    "## BERT Embedding"
   ]
  },
  {
   "cell_type": "markdown",
   "metadata": {},
   "source": [
    "### BERT Embedding (max_seq_length = 500)"
   ]
  },
  {
   "cell_type": "code",
   "execution_count": 49,
   "metadata": {},
   "outputs": [],
   "source": [
    "article_lst = np.array(merged_df.title_text).tolist()"
   ]
  },
  {
   "cell_type": "code",
   "execution_count": 50,
   "metadata": {},
   "outputs": [],
   "source": [
    "from bert_embedding import BertEmbedding"
   ]
  },
  {
   "cell_type": "code",
   "execution_count": 55,
   "metadata": {},
   "outputs": [],
   "source": [
    "bert_embedding = BertEmbedding(max_seq_length = 500)"
   ]
  },
  {
   "cell_type": "code",
   "execution_count": 56,
   "metadata": {},
   "outputs": [],
   "source": [
    "bert_embedding_tiltetext = bert_embedding(article_lst)"
   ]
  },
  {
   "cell_type": "code",
   "execution_count": 65,
   "metadata": {},
   "outputs": [
    {
     "data": {
      "text/plain": [
       "768"
      ]
     },
     "execution_count": 65,
     "metadata": {},
     "output_type": "execute_result"
    }
   ],
   "source": [
    "len(bert_embedding_tiltetext[0][1][0])"
   ]
  },
  {
   "cell_type": "code",
   "execution_count": 74,
   "metadata": {},
   "outputs": [
    {
     "data": {
      "text/plain": [
       "421"
      ]
     },
     "execution_count": 74,
     "metadata": {},
     "output_type": "execute_result"
    }
   ],
   "source": [
    "len(bert_embedding_tiltetext[0][0])"
   ]
  },
  {
   "cell_type": "code",
   "execution_count": 80,
   "metadata": {},
   "outputs": [
    {
     "data": {
      "text/plain": [
       "421"
      ]
     },
     "execution_count": 80,
     "metadata": {},
     "output_type": "execute_result"
    }
   ],
   "source": [
    "len(bert_embedding_tiltetext[0][1])"
   ]
  },
  {
   "cell_type": "code",
   "execution_count": 90,
   "metadata": {},
   "outputs": [],
   "source": [
    "acc = []\n",
    "i = 0\n",
    "missing_article = []\n",
    "for article in bert_embedding_tiltetext:\n",
    "    if len(article[0])!=0:\n",
    "        acc.append(sum(article[1])/len(article[0]))\n",
    "    else:\n",
    "        missing_article.append(i)\n",
    "        acc.append(np.array([0]*768))\n",
    "    i+=1"
   ]
  },
  {
   "cell_type": "code",
   "execution_count": 91,
   "metadata": {},
   "outputs": [
    {
     "data": {
      "text/plain": [
       "[592]"
      ]
     },
     "execution_count": 91,
     "metadata": {},
     "output_type": "execute_result"
    }
   ],
   "source": [
    "missing_article"
   ]
  },
  {
   "cell_type": "code",
   "execution_count": 93,
   "metadata": {},
   "outputs": [],
   "source": [
    "BERT_result = pd.DataFrame(acc)"
   ]
  },
  {
   "cell_type": "code",
   "execution_count": 94,
   "metadata": {},
   "outputs": [
    {
     "data": {
      "text/html": [
       "<div>\n",
       "<style scoped>\n",
       "    .dataframe tbody tr th:only-of-type {\n",
       "        vertical-align: middle;\n",
       "    }\n",
       "\n",
       "    .dataframe tbody tr th {\n",
       "        vertical-align: top;\n",
       "    }\n",
       "\n",
       "    .dataframe thead th {\n",
       "        text-align: right;\n",
       "    }\n",
       "</style>\n",
       "<table border=\"1\" class=\"dataframe\">\n",
       "  <thead>\n",
       "    <tr style=\"text-align: right;\">\n",
       "      <th></th>\n",
       "      <th>0</th>\n",
       "      <th>1</th>\n",
       "      <th>2</th>\n",
       "      <th>3</th>\n",
       "      <th>4</th>\n",
       "      <th>5</th>\n",
       "      <th>6</th>\n",
       "      <th>7</th>\n",
       "      <th>8</th>\n",
       "      <th>9</th>\n",
       "      <th>...</th>\n",
       "      <th>758</th>\n",
       "      <th>759</th>\n",
       "      <th>760</th>\n",
       "      <th>761</th>\n",
       "      <th>762</th>\n",
       "      <th>763</th>\n",
       "      <th>764</th>\n",
       "      <th>765</th>\n",
       "      <th>766</th>\n",
       "      <th>767</th>\n",
       "    </tr>\n",
       "  </thead>\n",
       "  <tbody>\n",
       "    <tr>\n",
       "      <th>0</th>\n",
       "      <td>-0.192768</td>\n",
       "      <td>-0.026544</td>\n",
       "      <td>0.323936</td>\n",
       "      <td>-0.127815</td>\n",
       "      <td>0.169863</td>\n",
       "      <td>-0.242644</td>\n",
       "      <td>-0.024715</td>\n",
       "      <td>0.437464</td>\n",
       "      <td>0.186504</td>\n",
       "      <td>-0.150674</td>\n",
       "      <td>...</td>\n",
       "      <td>-0.176677</td>\n",
       "      <td>-0.238046</td>\n",
       "      <td>0.128752</td>\n",
       "      <td>0.030821</td>\n",
       "      <td>0.091377</td>\n",
       "      <td>-0.165285</td>\n",
       "      <td>-0.323293</td>\n",
       "      <td>-0.185531</td>\n",
       "      <td>0.202142</td>\n",
       "      <td>-0.058038</td>\n",
       "    </tr>\n",
       "    <tr>\n",
       "      <th>1</th>\n",
       "      <td>-0.288682</td>\n",
       "      <td>-0.083886</td>\n",
       "      <td>0.294659</td>\n",
       "      <td>-0.036016</td>\n",
       "      <td>0.416384</td>\n",
       "      <td>-0.116388</td>\n",
       "      <td>-0.155365</td>\n",
       "      <td>0.330031</td>\n",
       "      <td>0.045767</td>\n",
       "      <td>0.020945</td>\n",
       "      <td>...</td>\n",
       "      <td>-0.120747</td>\n",
       "      <td>-0.206864</td>\n",
       "      <td>0.122139</td>\n",
       "      <td>-0.177209</td>\n",
       "      <td>0.043031</td>\n",
       "      <td>-0.269280</td>\n",
       "      <td>-0.192017</td>\n",
       "      <td>-0.185953</td>\n",
       "      <td>0.026664</td>\n",
       "      <td>-0.028860</td>\n",
       "    </tr>\n",
       "    <tr>\n",
       "      <th>2</th>\n",
       "      <td>-0.426343</td>\n",
       "      <td>-0.036083</td>\n",
       "      <td>0.211354</td>\n",
       "      <td>-0.119518</td>\n",
       "      <td>0.122639</td>\n",
       "      <td>-0.410995</td>\n",
       "      <td>-0.126041</td>\n",
       "      <td>0.455900</td>\n",
       "      <td>0.165857</td>\n",
       "      <td>-0.104262</td>\n",
       "      <td>...</td>\n",
       "      <td>-0.015152</td>\n",
       "      <td>-0.076911</td>\n",
       "      <td>0.213020</td>\n",
       "      <td>-0.145302</td>\n",
       "      <td>0.093698</td>\n",
       "      <td>-0.402866</td>\n",
       "      <td>-0.275426</td>\n",
       "      <td>-0.327661</td>\n",
       "      <td>0.125807</td>\n",
       "      <td>-0.103954</td>\n",
       "    </tr>\n",
       "    <tr>\n",
       "      <th>3</th>\n",
       "      <td>-0.338525</td>\n",
       "      <td>-0.099038</td>\n",
       "      <td>0.351303</td>\n",
       "      <td>-0.021412</td>\n",
       "      <td>0.245589</td>\n",
       "      <td>-0.166535</td>\n",
       "      <td>-0.137005</td>\n",
       "      <td>0.442317</td>\n",
       "      <td>0.104406</td>\n",
       "      <td>-0.226562</td>\n",
       "      <td>...</td>\n",
       "      <td>-0.155969</td>\n",
       "      <td>-0.263251</td>\n",
       "      <td>0.125150</td>\n",
       "      <td>-0.009667</td>\n",
       "      <td>-0.063565</td>\n",
       "      <td>-0.162738</td>\n",
       "      <td>-0.217384</td>\n",
       "      <td>-0.213890</td>\n",
       "      <td>0.100759</td>\n",
       "      <td>-0.170836</td>\n",
       "    </tr>\n",
       "    <tr>\n",
       "      <th>4</th>\n",
       "      <td>-0.251480</td>\n",
       "      <td>-0.132631</td>\n",
       "      <td>0.235767</td>\n",
       "      <td>-0.149800</td>\n",
       "      <td>0.197308</td>\n",
       "      <td>-0.169006</td>\n",
       "      <td>0.090826</td>\n",
       "      <td>0.299525</td>\n",
       "      <td>0.042767</td>\n",
       "      <td>-0.140542</td>\n",
       "      <td>...</td>\n",
       "      <td>-0.268958</td>\n",
       "      <td>-0.185185</td>\n",
       "      <td>0.173765</td>\n",
       "      <td>-0.069759</td>\n",
       "      <td>-0.053110</td>\n",
       "      <td>-0.220305</td>\n",
       "      <td>-0.199981</td>\n",
       "      <td>-0.198973</td>\n",
       "      <td>0.026976</td>\n",
       "      <td>-0.078080</td>\n",
       "    </tr>\n",
       "  </tbody>\n",
       "</table>\n",
       "<p>5 rows × 768 columns</p>\n",
       "</div>"
      ],
      "text/plain": [
       "        0         1         2         3         4         5         6    \\\n",
       "0 -0.192768 -0.026544  0.323936 -0.127815  0.169863 -0.242644 -0.024715   \n",
       "1 -0.288682 -0.083886  0.294659 -0.036016  0.416384 -0.116388 -0.155365   \n",
       "2 -0.426343 -0.036083  0.211354 -0.119518  0.122639 -0.410995 -0.126041   \n",
       "3 -0.338525 -0.099038  0.351303 -0.021412  0.245589 -0.166535 -0.137005   \n",
       "4 -0.251480 -0.132631  0.235767 -0.149800  0.197308 -0.169006  0.090826   \n",
       "\n",
       "        7         8         9    ...       758       759       760       761  \\\n",
       "0  0.437464  0.186504 -0.150674  ... -0.176677 -0.238046  0.128752  0.030821   \n",
       "1  0.330031  0.045767  0.020945  ... -0.120747 -0.206864  0.122139 -0.177209   \n",
       "2  0.455900  0.165857 -0.104262  ... -0.015152 -0.076911  0.213020 -0.145302   \n",
       "3  0.442317  0.104406 -0.226562  ... -0.155969 -0.263251  0.125150 -0.009667   \n",
       "4  0.299525  0.042767 -0.140542  ... -0.268958 -0.185185  0.173765 -0.069759   \n",
       "\n",
       "        762       763       764       765       766       767  \n",
       "0  0.091377 -0.165285 -0.323293 -0.185531  0.202142 -0.058038  \n",
       "1  0.043031 -0.269280 -0.192017 -0.185953  0.026664 -0.028860  \n",
       "2  0.093698 -0.402866 -0.275426 -0.327661  0.125807 -0.103954  \n",
       "3 -0.063565 -0.162738 -0.217384 -0.213890  0.100759 -0.170836  \n",
       "4 -0.053110 -0.220305 -0.199981 -0.198973  0.026976 -0.078080  \n",
       "\n",
       "[5 rows x 768 columns]"
      ]
     },
     "execution_count": 94,
     "metadata": {},
     "output_type": "execute_result"
    }
   ],
   "source": [
    "BERT_result.head()"
   ]
  },
  {
   "cell_type": "code",
   "execution_count": 98,
   "metadata": {},
   "outputs": [],
   "source": [
    "BERT_result.to_csv('BERT_result_645labels.csv')"
   ]
  },
  {
   "cell_type": "code",
   "execution_count": 99,
   "metadata": {},
   "outputs": [],
   "source": [
    "from sklearn.manifold import TSNE\n",
    "X_embedded = TSNE(n_components=2).fit_transform(BERT_result)"
   ]
  },
  {
   "cell_type": "code",
   "execution_count": 102,
   "metadata": {},
   "outputs": [
    {
     "data": {
      "text/plain": [
       "(635, 2)"
      ]
     },
     "execution_count": 102,
     "metadata": {},
     "output_type": "execute_result"
    }
   ],
   "source": [
    "X_embedded.shape"
   ]
  },
  {
   "cell_type": "code",
   "execution_count": 105,
   "metadata": {},
   "outputs": [],
   "source": [
    "df1 = pd.DataFrame(X_embedded)"
   ]
  },
  {
   "cell_type": "code",
   "execution_count": 106,
   "metadata": {},
   "outputs": [],
   "source": [
    "df2 = merged_df[['label']]"
   ]
  },
  {
   "cell_type": "code",
   "execution_count": 109,
   "metadata": {},
   "outputs": [
    {
     "data": {
      "text/plain": [
       "(635, 2)"
      ]
     },
     "execution_count": 109,
     "metadata": {},
     "output_type": "execute_result"
    }
   ],
   "source": [
    "df1.shape"
   ]
  },
  {
   "cell_type": "code",
   "execution_count": 110,
   "metadata": {},
   "outputs": [
    {
     "data": {
      "text/plain": [
       "(635, 1)"
      ]
     },
     "execution_count": 110,
     "metadata": {},
     "output_type": "execute_result"
    }
   ],
   "source": [
    "df2.shape"
   ]
  },
  {
   "cell_type": "code",
   "execution_count": 130,
   "metadata": {},
   "outputs": [],
   "source": [
    "d = {'col1': df1.iloc[:,0], 'col2': df1.iloc[:,1], 'col3': df2.reset_index().label}\n",
    "df = pd.DataFrame(data=d)"
   ]
  },
  {
   "cell_type": "code",
   "execution_count": 148,
   "metadata": {},
   "outputs": [],
   "source": [
    "df_helsinki = df[df.col3=='helsinki']\n",
    "df_cave_rescue = df[df.col3=='cave_rescue']\n",
    "df_duckboat = df[df.col3=='duckboat']"
   ]
  },
  {
   "cell_type": "code",
   "execution_count": 153,
   "metadata": {},
   "outputs": [
    {
     "data": {
      "image/png": "[encoded data removed]",
      "text/plain": [
       "<Figure size 432x288 with 1 Axes>"
      ]
     },
     "metadata": {
      "needs_background": "light"
     },
     "output_type": "display_data"
    }
   ],
   "source": [
    "import matplotlib.pyplot as plt\n",
    "\n",
    "plt.scatter(df_helsinki.col1, df_helsinki.col2, c = 'red', label='helsinki', alpha=0.5)\n",
    "plt.scatter(df_cave_rescue.col1, df_cave_rescue.col2, c = 'blue', label='cave_rescue', alpha=0.5)\n",
    "plt.scatter(df_duckboat.col1, df_duckboat.col2, c = 'yellow', label='duckboat', alpha=0.5)\n",
    "plt.legend()\n",
    "plt.title('TSNE-BERT(max_seq_len=500)')\n",
    "plt.show()"
   ]
  },
  {
   "cell_type": "markdown",
   "metadata": {},
   "source": [
    "### BERT Embedding (max_seq_length = 300)"
   ]
  },
  {
   "cell_type": "code",
   "execution_count": 5,
   "metadata": {},
   "outputs": [
    {
     "data": {
      "text/plain": [
       "(634, 10)"
      ]
     },
     "execution_count": 5,
     "metadata": {},
     "output_type": "execute_result"
    }
   ],
   "source": [
    "merged_df = pd.read_csv('merged_df_labeled.csv')\n",
    "merged_df_dropnan = merged_df.drop([592])\n",
    "merged_df_dropnan.shape"
   ]
  },
  {
   "cell_type": "code",
   "execution_count": 6,
   "metadata": {},
   "outputs": [],
   "source": [
    "article_lst = np.array(merged_df_dropnan.title_text).tolist()"
   ]
  },
  {
   "cell_type": "code",
   "execution_count": 6,
   "metadata": {},
   "outputs": [],
   "source": [
    "from bert_embedding import BertEmbedding\n",
    "bert_embedding = BertEmbedding(max_seq_length = 300)"
   ]
  },
  {
   "cell_type": "code",
   "execution_count": 7,
   "metadata": {},
   "outputs": [],
   "source": [
    "bert_embedding_tiltetext_300 = bert_embedding(article_lst)"
   ]
  },
  {
   "cell_type": "code",
   "execution_count": 8,
   "metadata": {},
   "outputs": [],
   "source": [
    "acc = []\n",
    "i = 0\n",
    "missing_article = []\n",
    "for article in bert_embedding_tiltetext_300:\n",
    "    if len(article[0])!=0:\n",
    "        acc.append(sum(article[1])/len(article[0]))\n",
    "    else:\n",
    "        missing_article.append(i)\n",
    "        acc.append(np.array([0]*768))\n",
    "    i+=1"
   ]
  },
  {
   "cell_type": "code",
   "execution_count": 9,
   "metadata": {},
   "outputs": [],
   "source": [
    "BERT_result_len300 = pd.DataFrame(acc)"
   ]
  },
  {
   "cell_type": "code",
   "execution_count": 19,
   "metadata": {},
   "outputs": [],
   "source": [
    "BERT_result_len300.to_csv('BERT_result/BERT_result_len300_dropnan.csv')"
   ]
  },
  {
   "cell_type": "code",
   "execution_count": 10,
   "metadata": {},
   "outputs": [],
   "source": [
    "from sklearn.manifold import TSNE\n",
    "X_embedded = TSNE(n_components=2).fit_transform(BERT_result_len300)"
   ]
  },
  {
   "cell_type": "code",
   "execution_count": 11,
   "metadata": {},
   "outputs": [],
   "source": [
    "df1 = pd.DataFrame(X_embedded)\n",
    "df2 = merged_df_dropnan[['label']]\n",
    "assert df1.shape[0] == df2.shape[0]"
   ]
  },
  {
   "cell_type": "code",
   "execution_count": 12,
   "metadata": {},
   "outputs": [],
   "source": [
    "d = {'col1': df1.iloc[:,0], 'col2': df1.iloc[:,1], 'col3': df2.reset_index().label}\n",
    "df = pd.DataFrame(data=d)\n",
    "df_helsinki = df[df.col3=='helsinki']\n",
    "df_cave_rescue = df[df.col3=='cave_rescue']\n",
    "df_duckboat = df[df.col3=='duckboat']"
   ]
  },
  {
   "cell_type": "code",
   "execution_count": 15,
   "metadata": {},
   "outputs": [
    {
     "data": {
      "image/png": "[encoded data removed]",
      "text/plain": [
       "<Figure size 432x288 with 1 Axes>"
      ]
     },
     "metadata": {
      "needs_background": "light"
     },
     "output_type": "display_data"
    }
   ],
   "source": [
    "import matplotlib.pyplot as plt\n",
    "\n",
    "plt.scatter(df_helsinki.col1, df_helsinki.col2, c = 'red', label='helsinki', alpha=0.5)\n",
    "plt.scatter(df_cave_rescue.col1, df_cave_rescue.col2, c = 'blue', label='cave_rescue', alpha=0.5)\n",
    "plt.scatter(df_duckboat.col1, df_duckboat.col2, c = 'yellow', label='duckboat', alpha=0.5)\n",
    "plt.legend()\n",
    "plt.title('TSNE-BERT(max_seq_len=300)')\n",
    "plt.show()"
   ]
  },
  {
   "cell_type": "markdown",
   "metadata": {},
   "source": [
    "### BERT Embedding (max_seq_length = 700)"
   ]
  },
  {
   "cell_type": "code",
   "execution_count": 1,
   "metadata": {},
   "outputs": [],
   "source": [
    "from bert_embedding import BertEmbedding\n",
    "bert_embedding = BertEmbedding(max_seq_length = 600)"
   ]
  },
  {
   "cell_type": "code",
   "execution_count": 7,
   "metadata": {},
   "outputs": [],
   "source": [
    "assert len(article_lst) == 634\n",
    "bert_embedding_tiltetext_700 = bert_embedding(article_lst)"
   ]
  },
  {
   "cell_type": "code",
   "execution_count": null,
   "metadata": {},
   "outputs": [],
   "source": [
    "bert_embedding_tiltetext_700"
   ]
  },
  {
   "cell_type": "markdown",
   "metadata": {},
   "source": [
    "### BERT Embedding - Pretrained Model"
   ]
  },
  {
   "cell_type": "code",
   "execution_count": 273,
   "metadata": {},
   "outputs": [],
   "source": [
    "merged_df = pd.read_csv('merged_df_labeled.csv')"
   ]
  },
  {
   "cell_type": "code",
   "execution_count": 272,
   "metadata": {},
   "outputs": [],
   "source": [
    "bert_embedding_pretrained = BertEmbedding(max_seq_length = 500, model='bert_24_1024_16', \n",
    "                                          dataset_name='book_corpus_wiki_en_cased')"
   ]
  },
  {
   "cell_type": "code",
   "execution_count": 281,
   "metadata": {},
   "outputs": [
    {
     "name": "stdout",
     "output_type": "stream",
     "text": [
      "nan\n",
      "592\n"
     ]
    }
   ],
   "source": [
    "i=0\n",
    "for item in article_lst:\n",
    "    if isinstance(item, float):\n",
    "        print(item)\n",
    "        print(i)\n",
    "    i+=1"
   ]
  },
  {
   "cell_type": "code",
   "execution_count": 291,
   "metadata": {},
   "outputs": [],
   "source": [
    "merged_df_dropnan = merged_df.drop([592])"
   ]
  },
  {
   "cell_type": "code",
   "execution_count": 293,
   "metadata": {},
   "outputs": [
    {
     "data": {
      "text/plain": [
       "(634, 10)"
      ]
     },
     "execution_count": 293,
     "metadata": {},
     "output_type": "execute_result"
    }
   ],
   "source": [
    "merged_df_dropnan.shape"
   ]
  },
  {
   "cell_type": "code",
   "execution_count": 296,
   "metadata": {},
   "outputs": [
    {
     "data": {
      "text/plain": [
       "634"
      ]
     },
     "execution_count": 296,
     "metadata": {},
     "output_type": "execute_result"
    }
   ],
   "source": [
    "article_lst = np.array(merged_df_dropnan.title_text).tolist()\n",
    "len(article_lst)"
   ]
  },
  {
   "cell_type": "code",
   "execution_count": 297,
   "metadata": {},
   "outputs": [],
   "source": [
    "bert_embedding_tiltetext_pretrained = bert_embedding(article_lst)"
   ]
  },
  {
   "cell_type": "code",
   "execution_count": 303,
   "metadata": {},
   "outputs": [
    {
     "data": {
      "text/plain": [
       "634"
      ]
     },
     "execution_count": 303,
     "metadata": {},
     "output_type": "execute_result"
    }
   ],
   "source": [
    "len(bert_embedding_tiltetext_pretrained)"
   ]
  },
  {
   "cell_type": "code",
   "execution_count": 307,
   "metadata": {},
   "outputs": [],
   "source": [
    "acc = []\n",
    "i = 0\n",
    "missing_article = []\n",
    "for article in bert_embedding_tiltetext_pretrained:\n",
    "    if len(article[0])!=0:\n",
    "        acc.append(sum(article[1])/len(article[0]))\n",
    "    else:\n",
    "        missing_article.append(i)\n",
    "        acc.append(np.array([0]*768))\n",
    "    i+=1"
   ]
  },
  {
   "cell_type": "code",
   "execution_count": 309,
   "metadata": {},
   "outputs": [],
   "source": [
    "BERT_result_pretrained = pd.DataFrame(acc)"
   ]
  },
  {
   "cell_type": "code",
   "execution_count": 311,
   "metadata": {},
   "outputs": [
    {
     "data": {
      "text/plain": [
       "(634, 768)"
      ]
     },
     "execution_count": 311,
     "metadata": {},
     "output_type": "execute_result"
    }
   ],
   "source": [
    "BERT_result_pretrained.shape"
   ]
  },
  {
   "cell_type": "code",
   "execution_count": 312,
   "metadata": {},
   "outputs": [],
   "source": [
    "from sklearn.manifold import TSNE\n",
    "X_embedded_pretrained = TSNE(n_components=2).fit_transform(BERT_result_pretrained)"
   ]
  },
  {
   "cell_type": "code",
   "execution_count": 313,
   "metadata": {},
   "outputs": [],
   "source": [
    "df1 = pd.DataFrame(X_embedded_pretrained)"
   ]
  },
  {
   "cell_type": "markdown",
   "metadata": {},
   "source": [
    "Drop the 592th row (missing tilte and article)"
   ]
  },
  {
   "cell_type": "code",
   "execution_count": 324,
   "metadata": {},
   "outputs": [
    {
     "data": {
      "text/plain": [
       "Unnamed: 0                                                     201735\n",
       "Unnamed: 0.1                                                   203696\n",
       "pubId                                                             329\n",
       "canonicalUrl        ft.com/content/0a7782e8-8b6b-11e8-bf9e-8771d54...\n",
       "firstScrape                               7/19/2018 3:20:58 PM -04:00\n",
       "title                                                             NaN\n",
       "text                                                              NaN\n",
       "lang_reliability                                                    1\n",
       "title_text                                                        NaN\n",
       "label                                                        helsinki\n",
       "Name: 592, dtype: object"
      ]
     },
     "execution_count": 324,
     "metadata": {},
     "output_type": "execute_result"
    }
   ],
   "source": [
    "merged_df.iloc[592,:]"
   ]
  },
  {
   "cell_type": "code",
   "execution_count": 333,
   "metadata": {},
   "outputs": [],
   "source": [
    "df2 = merged_df_dropnan[['label']]"
   ]
  },
  {
   "cell_type": "code",
   "execution_count": 334,
   "metadata": {},
   "outputs": [],
   "source": [
    "d = {'col1': df1.iloc[:,0], 'col2': df1.iloc[:,1], 'col3': df2.reset_index().label}\n",
    "df = pd.DataFrame(data=d)"
   ]
  },
  {
   "cell_type": "code",
   "execution_count": 335,
   "metadata": {},
   "outputs": [
    {
     "data": {
      "text/html": [
       "<div>\n",
       "<style scoped>\n",
       "    .dataframe tbody tr th:only-of-type {\n",
       "        vertical-align: middle;\n",
       "    }\n",
       "\n",
       "    .dataframe tbody tr th {\n",
       "        vertical-align: top;\n",
       "    }\n",
       "\n",
       "    .dataframe thead th {\n",
       "        text-align: right;\n",
       "    }\n",
       "</style>\n",
       "<table border=\"1\" class=\"dataframe\">\n",
       "  <thead>\n",
       "    <tr style=\"text-align: right;\">\n",
       "      <th></th>\n",
       "      <th>col1</th>\n",
       "      <th>col2</th>\n",
       "      <th>col3</th>\n",
       "    </tr>\n",
       "  </thead>\n",
       "  <tbody>\n",
       "    <tr>\n",
       "      <th>0</th>\n",
       "      <td>-0.060628</td>\n",
       "      <td>-1.346353</td>\n",
       "      <td>helsinki</td>\n",
       "    </tr>\n",
       "    <tr>\n",
       "      <th>1</th>\n",
       "      <td>22.882030</td>\n",
       "      <td>5.902275</td>\n",
       "      <td>helsinki</td>\n",
       "    </tr>\n",
       "    <tr>\n",
       "      <th>2</th>\n",
       "      <td>8.388510</td>\n",
       "      <td>-20.412390</td>\n",
       "      <td>helsinki</td>\n",
       "    </tr>\n",
       "    <tr>\n",
       "      <th>3</th>\n",
       "      <td>19.762444</td>\n",
       "      <td>7.876220</td>\n",
       "      <td>helsinki</td>\n",
       "    </tr>\n",
       "    <tr>\n",
       "      <th>4</th>\n",
       "      <td>0.488417</td>\n",
       "      <td>-2.207754</td>\n",
       "      <td>cave_rescue</td>\n",
       "    </tr>\n",
       "  </tbody>\n",
       "</table>\n",
       "</div>"
      ],
      "text/plain": [
       "        col1       col2         col3\n",
       "0  -0.060628  -1.346353     helsinki\n",
       "1  22.882030   5.902275     helsinki\n",
       "2   8.388510 -20.412390     helsinki\n",
       "3  19.762444   7.876220     helsinki\n",
       "4   0.488417  -2.207754  cave_rescue"
      ]
     },
     "execution_count": 335,
     "metadata": {},
     "output_type": "execute_result"
    }
   ],
   "source": [
    "df.head()"
   ]
  },
  {
   "cell_type": "code",
   "execution_count": 336,
   "metadata": {},
   "outputs": [],
   "source": [
    "df_helsinki = df[df.col3=='helsinki']\n",
    "df_cave_rescue = df[df.col3=='cave_rescue']\n",
    "df_duckboat = df[df.col3=='duckboat']"
   ]
  },
  {
   "cell_type": "code",
   "execution_count": 337,
   "metadata": {},
   "outputs": [
    {
     "data": {
      "image/png": "[encoded data removed]",
      "text/plain": [
       "<Figure size 432x288 with 1 Axes>"
      ]
     },
     "metadata": {
      "needs_background": "light"
     },
     "output_type": "display_data"
    }
   ],
   "source": [
    "import matplotlib.pyplot as plt\n",
    "\n",
    "plt.scatter(df_helsinki.col1, df_helsinki.col2, c = 'red', label='helsinki', alpha=0.5)\n",
    "plt.scatter(df_cave_rescue.col1, df_cave_rescue.col2, c = 'blue', label='cave_rescue', alpha=0.5)\n",
    "plt.scatter(df_duckboat.col1, df_duckboat.col2, c = 'yellow', label='duckboat', alpha=0.5)\n",
    "plt.legend()\n",
    "plt.title('TSNE-BERT (pretrained, max_seq_len=500)')\n",
    "plt.show()"
   ]
  },
  {
   "cell_type": "code",
   "execution_count": null,
   "metadata": {},
   "outputs": [],
   "source": []
  },
  {
   "cell_type": "markdown",
   "metadata": {},
   "source": [
    "# Doc2Vec Embedding"
   ]
  },
  {
   "cell_type": "code",
   "execution_count": 219,
   "metadata": {},
   "outputs": [],
   "source": [
    "doc2Vec_embedding = pd.read_csv('result/Doc2Vec_embedding_output.csv', index_col=0)"
   ]
  },
  {
   "cell_type": "code",
   "execution_count": 220,
   "metadata": {},
   "outputs": [
    {
     "data": {
      "text/plain": [
       "(211577, 100)"
      ]
     },
     "execution_count": 220,
     "metadata": {},
     "output_type": "execute_result"
    }
   ],
   "source": [
    "doc2Vec_embedding.shape"
   ]
  },
  {
   "cell_type": "code",
   "execution_count": 223,
   "metadata": {},
   "outputs": [],
   "source": [
    "merged_df = pd.read_csv('merged_df_labeled.csv',index_col=0)"
   ]
  },
  {
   "cell_type": "code",
   "execution_count": 224,
   "metadata": {},
   "outputs": [],
   "source": [
    "merged_df= merged_df[['label']]"
   ]
  },
  {
   "cell_type": "code",
   "execution_count": 225,
   "metadata": {},
   "outputs": [],
   "source": [
    "merged_df = merged_df.reset_index()\n",
    "doc2Vec_embedding = doc2Vec_embedding.reset_index()"
   ]
  },
  {
   "cell_type": "code",
   "execution_count": 229,
   "metadata": {},
   "outputs": [
    {
     "data": {
      "text/html": [
       "<div>\n",
       "<style scoped>\n",
       "    .dataframe tbody tr th:only-of-type {\n",
       "        vertical-align: middle;\n",
       "    }\n",
       "\n",
       "    .dataframe tbody tr th {\n",
       "        vertical-align: top;\n",
       "    }\n",
       "\n",
       "    .dataframe thead th {\n",
       "        text-align: right;\n",
       "    }\n",
       "</style>\n",
       "<table border=\"1\" class=\"dataframe\">\n",
       "  <thead>\n",
       "    <tr style=\"text-align: right;\">\n",
       "      <th></th>\n",
       "      <th>index</th>\n",
       "      <th>label</th>\n",
       "      <th>0</th>\n",
       "      <th>1</th>\n",
       "      <th>2</th>\n",
       "      <th>3</th>\n",
       "      <th>4</th>\n",
       "      <th>5</th>\n",
       "      <th>6</th>\n",
       "      <th>7</th>\n",
       "      <th>...</th>\n",
       "      <th>90</th>\n",
       "      <th>91</th>\n",
       "      <th>92</th>\n",
       "      <th>93</th>\n",
       "      <th>94</th>\n",
       "      <th>95</th>\n",
       "      <th>96</th>\n",
       "      <th>97</th>\n",
       "      <th>98</th>\n",
       "      <th>99</th>\n",
       "    </tr>\n",
       "  </thead>\n",
       "  <tbody>\n",
       "    <tr>\n",
       "      <th>0</th>\n",
       "      <td>12</td>\n",
       "      <td>helsinki</td>\n",
       "      <td>-2.041374</td>\n",
       "      <td>-0.186289</td>\n",
       "      <td>-1.744696</td>\n",
       "      <td>0.622102</td>\n",
       "      <td>-3.584465</td>\n",
       "      <td>1.053855</td>\n",
       "      <td>0.992697</td>\n",
       "      <td>-0.009612</td>\n",
       "      <td>...</td>\n",
       "      <td>0.826988</td>\n",
       "      <td>-0.239550</td>\n",
       "      <td>3.144722</td>\n",
       "      <td>-2.163226</td>\n",
       "      <td>-0.828425</td>\n",
       "      <td>-2.777707</td>\n",
       "      <td>0.477877</td>\n",
       "      <td>-2.744538</td>\n",
       "      <td>1.223777</td>\n",
       "      <td>-3.979551</td>\n",
       "    </tr>\n",
       "    <tr>\n",
       "      <th>1</th>\n",
       "      <td>23</td>\n",
       "      <td>helsinki</td>\n",
       "      <td>-1.331344</td>\n",
       "      <td>0.614388</td>\n",
       "      <td>-0.869905</td>\n",
       "      <td>1.796097</td>\n",
       "      <td>-0.714029</td>\n",
       "      <td>0.944742</td>\n",
       "      <td>1.191334</td>\n",
       "      <td>2.457072</td>\n",
       "      <td>...</td>\n",
       "      <td>2.844636</td>\n",
       "      <td>2.139019</td>\n",
       "      <td>2.564189</td>\n",
       "      <td>-0.620157</td>\n",
       "      <td>-3.418683</td>\n",
       "      <td>-2.095523</td>\n",
       "      <td>1.199862</td>\n",
       "      <td>-0.324513</td>\n",
       "      <td>1.600830</td>\n",
       "      <td>-0.755099</td>\n",
       "    </tr>\n",
       "    <tr>\n",
       "      <th>2</th>\n",
       "      <td>30</td>\n",
       "      <td>helsinki</td>\n",
       "      <td>-2.958684</td>\n",
       "      <td>-3.058017</td>\n",
       "      <td>1.207473</td>\n",
       "      <td>1.698571</td>\n",
       "      <td>1.868999</td>\n",
       "      <td>-2.962488</td>\n",
       "      <td>0.517093</td>\n",
       "      <td>0.870659</td>\n",
       "      <td>...</td>\n",
       "      <td>3.279486</td>\n",
       "      <td>1.282286</td>\n",
       "      <td>-0.701011</td>\n",
       "      <td>-0.575856</td>\n",
       "      <td>-2.646378</td>\n",
       "      <td>-3.110602</td>\n",
       "      <td>1.856869</td>\n",
       "      <td>-4.111384</td>\n",
       "      <td>0.276120</td>\n",
       "      <td>-2.152300</td>\n",
       "    </tr>\n",
       "    <tr>\n",
       "      <th>3</th>\n",
       "      <td>34</td>\n",
       "      <td>helsinki</td>\n",
       "      <td>-1.121757</td>\n",
       "      <td>-0.942920</td>\n",
       "      <td>-2.538819</td>\n",
       "      <td>0.653278</td>\n",
       "      <td>2.493861</td>\n",
       "      <td>1.843876</td>\n",
       "      <td>-0.184506</td>\n",
       "      <td>-2.659613</td>\n",
       "      <td>...</td>\n",
       "      <td>2.721487</td>\n",
       "      <td>0.902423</td>\n",
       "      <td>-1.818344</td>\n",
       "      <td>-0.696070</td>\n",
       "      <td>-5.202574</td>\n",
       "      <td>-2.660053</td>\n",
       "      <td>-2.585590</td>\n",
       "      <td>0.515361</td>\n",
       "      <td>-1.114303</td>\n",
       "      <td>-0.719428</td>\n",
       "    </tr>\n",
       "    <tr>\n",
       "      <th>4</th>\n",
       "      <td>53</td>\n",
       "      <td>cave_rescue</td>\n",
       "      <td>-1.087978</td>\n",
       "      <td>-0.871060</td>\n",
       "      <td>0.193154</td>\n",
       "      <td>2.456863</td>\n",
       "      <td>-1.786977</td>\n",
       "      <td>2.155005</td>\n",
       "      <td>-0.919569</td>\n",
       "      <td>2.127806</td>\n",
       "      <td>...</td>\n",
       "      <td>4.219577</td>\n",
       "      <td>-1.558684</td>\n",
       "      <td>-2.124028</td>\n",
       "      <td>-0.862770</td>\n",
       "      <td>0.303475</td>\n",
       "      <td>-2.019815</td>\n",
       "      <td>1.370067</td>\n",
       "      <td>0.251273</td>\n",
       "      <td>0.358808</td>\n",
       "      <td>-1.388796</td>\n",
       "    </tr>\n",
       "  </tbody>\n",
       "</table>\n",
       "<p>5 rows × 102 columns</p>\n",
       "</div>"
      ],
      "text/plain": [
       "   index        label         0         1         2         3         4  \\\n",
       "0     12     helsinki -2.041374 -0.186289 -1.744696  0.622102 -3.584465   \n",
       "1     23     helsinki -1.331344  0.614388 -0.869905  1.796097 -0.714029   \n",
       "2     30     helsinki -2.958684 -3.058017  1.207473  1.698571  1.868999   \n",
       "3     34     helsinki -1.121757 -0.942920 -2.538819  0.653278  2.493861   \n",
       "4     53  cave_rescue -1.087978 -0.871060  0.193154  2.456863 -1.786977   \n",
       "\n",
       "          5         6         7  ...        90        91        92        93  \\\n",
       "0  1.053855  0.992697 -0.009612  ...  0.826988 -0.239550  3.144722 -2.163226   \n",
       "1  0.944742  1.191334  2.457072  ...  2.844636  2.139019  2.564189 -0.620157   \n",
       "2 -2.962488  0.517093  0.870659  ...  3.279486  1.282286 -0.701011 -0.575856   \n",
       "3  1.843876 -0.184506 -2.659613  ...  2.721487  0.902423 -1.818344 -0.696070   \n",
       "4  2.155005 -0.919569  2.127806  ...  4.219577 -1.558684 -2.124028 -0.862770   \n",
       "\n",
       "         94        95        96        97        98        99  \n",
       "0 -0.828425 -2.777707  0.477877 -2.744538  1.223777 -3.979551  \n",
       "1 -3.418683 -2.095523  1.199862 -0.324513  1.600830 -0.755099  \n",
       "2 -2.646378 -3.110602  1.856869 -4.111384  0.276120 -2.152300  \n",
       "3 -5.202574 -2.660053 -2.585590  0.515361 -1.114303 -0.719428  \n",
       "4  0.303475 -2.019815  1.370067  0.251273  0.358808 -1.388796  \n",
       "\n",
       "[5 rows x 102 columns]"
      ]
     },
     "execution_count": 229,
     "metadata": {},
     "output_type": "execute_result"
    }
   ],
   "source": [
    "merged_df_labelled = merged_df.merge(doc2Vec_embedding, on=\"index\", how = \"left\")\n",
    "merged_df_labelled.head()"
   ]
  },
  {
   "cell_type": "code",
   "execution_count": 232,
   "metadata": {},
   "outputs": [],
   "source": [
    "from sklearn.manifold import TSNE\n",
    "\n",
    "df_tsne = merged_df_labelled.iloc[:,2:]\n",
    "doc2vec_tsne = TSNE(n_components=2).fit_transform(df_tsne)"
   ]
  },
  {
   "cell_type": "code",
   "execution_count": 244,
   "metadata": {},
   "outputs": [
    {
     "data": {
      "text/html": [
       "<div>\n",
       "<style scoped>\n",
       "    .dataframe tbody tr th:only-of-type {\n",
       "        vertical-align: middle;\n",
       "    }\n",
       "\n",
       "    .dataframe tbody tr th {\n",
       "        vertical-align: top;\n",
       "    }\n",
       "\n",
       "    .dataframe thead th {\n",
       "        text-align: right;\n",
       "    }\n",
       "</style>\n",
       "<table border=\"1\" class=\"dataframe\">\n",
       "  <thead>\n",
       "    <tr style=\"text-align: right;\">\n",
       "      <th></th>\n",
       "      <th>0</th>\n",
       "      <th>1</th>\n",
       "      <th>label</th>\n",
       "    </tr>\n",
       "  </thead>\n",
       "  <tbody>\n",
       "    <tr>\n",
       "      <th>0</th>\n",
       "      <td>90.370941</td>\n",
       "      <td>-20.613350</td>\n",
       "      <td>helsinki</td>\n",
       "    </tr>\n",
       "    <tr>\n",
       "      <th>1</th>\n",
       "      <td>15.374994</td>\n",
       "      <td>35.428413</td>\n",
       "      <td>helsinki</td>\n",
       "    </tr>\n",
       "    <tr>\n",
       "      <th>2</th>\n",
       "      <td>77.604950</td>\n",
       "      <td>6.463249</td>\n",
       "      <td>helsinki</td>\n",
       "    </tr>\n",
       "    <tr>\n",
       "      <th>3</th>\n",
       "      <td>-25.648840</td>\n",
       "      <td>44.174423</td>\n",
       "      <td>helsinki</td>\n",
       "    </tr>\n",
       "    <tr>\n",
       "      <th>4</th>\n",
       "      <td>72.513992</td>\n",
       "      <td>-47.516190</td>\n",
       "      <td>cave_rescue</td>\n",
       "    </tr>\n",
       "  </tbody>\n",
       "</table>\n",
       "</div>"
      ],
      "text/plain": [
       "           0          1        label\n",
       "0  90.370941 -20.613350     helsinki\n",
       "1  15.374994  35.428413     helsinki\n",
       "2  77.604950   6.463249     helsinki\n",
       "3 -25.648840  44.174423     helsinki\n",
       "4  72.513992 -47.516190  cave_rescue"
      ]
     },
     "execution_count": 244,
     "metadata": {},
     "output_type": "execute_result"
    }
   ],
   "source": [
    "tsne_df = pd.DataFrame(doc2vec_tsne)\n",
    "\n",
    "df = pd.concat([tsne_df,merged_df_labelled.iloc[:,1]], axis=1)\n",
    "df.head()"
   ]
  },
  {
   "cell_type": "code",
   "execution_count": 245,
   "metadata": {},
   "outputs": [],
   "source": [
    "df_helsinki = df[df.label=='helsinki']\n",
    "df_cave_rescue = df[df.label=='cave_rescue']\n",
    "df_duckboat = df[df.label=='duckboat']"
   ]
  },
  {
   "cell_type": "code",
   "execution_count": 270,
   "metadata": {},
   "outputs": [
    {
     "data": {
      "image/png": "[encoded data removed]",
      "text/plain": [
       "<Figure size 432x288 with 1 Axes>"
      ]
     },
     "metadata": {
      "needs_background": "light"
     },
     "output_type": "display_data"
    }
   ],
   "source": [
    "import matplotlib.pyplot as plt\n",
    "\n",
    "plt.scatter(df_helsinki.iloc[:,0], df_helsinki.iloc[:,1], c = 'red', label='helsinki', alpha=0.5)\n",
    "plt.scatter(df_cave_rescue.iloc[:,0], df_cave_rescue.iloc[:,1], c = 'blue', label='cave_rescue', alpha=0.5)\n",
    "plt.scatter(df_duckboat.iloc[:,0], df_duckboat.iloc[:,1], c = 'yellow', label='duckboat', alpha=0.5)\n",
    "plt.legend()\n",
    "plt.title('DOC2VEC')\n",
    "plt.show()"
   ]
  },
  {
   "cell_type": "markdown",
   "metadata": {},
   "source": [
    "# XLNET Embedding"
   ]
  },
  {
   "cell_type": "code",
   "execution_count": null,
   "metadata": {},
   "outputs": [],
   "source": [
    "from embedding_as_service.text.encode import Encoder  \n",
    "en = Encoder(embedding='bert', model='bert_base_cased', download=True)  "
   ]
  },
  {
   "cell_type": "code",
   "execution_count": null,
   "metadata": {},
   "outputs": [],
   "source": []
  }
 ],
 "metadata": {
  "kernelspec": {
   "display_name": "Python 3",
   "language": "python",
   "name": "python3"
  },
  "language_info": {
   "codemirror_mode": {
    "name": "ipython",
    "version": 3
   },
   "file_extension": ".py",
   "mimetype": "text/x-python",
   "name": "python",
   "nbconvert_exporter": "python",
   "pygments_lexer": "ipython3",
   "version": "3.7.3"
  }
 },
 "nbformat": 4,
 "nbformat_minor": 2
}
