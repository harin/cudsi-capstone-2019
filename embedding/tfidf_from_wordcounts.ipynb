{
 "cells": [
  {
   "cell_type": "code",
   "execution_count": 1,
   "metadata": {},
   "outputs": [],
   "source": [
    "import os\n",
    "import pandas as pd\n",
    "import numpy as np\n",
    "import json\n",
    "from sklearn.feature_extraction.text import TfidfVectorizer\n",
    "from sklearn.metrics.pairwise import cosine_similarity"
   ]
  },
  {
   "cell_type": "code",
   "execution_count": 2,
   "metadata": {},
   "outputs": [],
   "source": [
    "fp_df = pd.read_csv('../data/raw/2018_07_19_04_59_08/fingerprints.txt', sep='\\t', \n",
    "                    names=['pubId', 'seqId', 'titleFingerprint', 'textFingerprint'])"
   ]
  },
  {
   "cell_type": "code",
   "execution_count": 3,
   "metadata": {},
   "outputs": [
    {
     "data": {
      "text/plain": [
       "(213605, 4)"
      ]
     },
     "execution_count": 3,
     "metadata": {},
     "output_type": "execute_result"
    }
   ],
   "source": [
    "fp_df.shape"
   ]
  },
  {
   "cell_type": "code",
   "execution_count": 4,
   "metadata": {},
   "outputs": [
    {
     "data": {
      "text/html": [
       "<div>\n",
       "<style scoped>\n",
       "    .dataframe tbody tr th:only-of-type {\n",
       "        vertical-align: middle;\n",
       "    }\n",
       "\n",
       "    .dataframe tbody tr th {\n",
       "        vertical-align: top;\n",
       "    }\n",
       "\n",
       "    .dataframe thead th {\n",
       "        text-align: right;\n",
       "    }\n",
       "</style>\n",
       "<table border=\"1\" class=\"dataframe\">\n",
       "  <thead>\n",
       "    <tr style=\"text-align: right;\">\n",
       "      <th></th>\n",
       "      <th>pubId</th>\n",
       "      <th>seqId</th>\n",
       "      <th>titleFingerprint</th>\n",
       "      <th>textFingerprint</th>\n",
       "    </tr>\n",
       "  </thead>\n",
       "  <tbody>\n",
       "    <tr>\n",
       "      <td>0</td>\n",
       "      <td>6959</td>\n",
       "      <td>0</td>\n",
       "      <td>{\"wordCounts\":{\"2613\":1,\"2591\":1,\"286\":1,\"5475...</td>\n",
       "      <td>{\"wordCounts\":{\"2613\":3,\"2591\":8,\"286\":5,\"5475...</td>\n",
       "    </tr>\n",
       "    <tr>\n",
       "      <td>1</td>\n",
       "      <td>6959</td>\n",
       "      <td>1</td>\n",
       "      <td>{\"wordCounts\":{\"7625\":1,\"11338\":2,\"657601\":1,\"...</td>\n",
       "      <td>{\"wordCounts\":{},\"bigramCounts\":{},\"entityCoun...</td>\n",
       "    </tr>\n",
       "    <tr>\n",
       "      <td>2</td>\n",
       "      <td>6959</td>\n",
       "      <td>2</td>\n",
       "      <td>{\"wordCounts\":{\"631\":1,\"2276\":1,\"364\":1,\"71240...</td>\n",
       "      <td>{\"wordCounts\":{},\"bigramCounts\":{},\"entityCoun...</td>\n",
       "    </tr>\n",
       "    <tr>\n",
       "      <td>3</td>\n",
       "      <td>6959</td>\n",
       "      <td>3</td>\n",
       "      <td>{\"wordCounts\":{\"427\":1,\"4883\":1,\"80561\":1,\"190...</td>\n",
       "      <td>{\"wordCounts\":{},\"bigramCounts\":{},\"entityCoun...</td>\n",
       "    </tr>\n",
       "    <tr>\n",
       "      <td>4</td>\n",
       "      <td>6959</td>\n",
       "      <td>4</td>\n",
       "      <td>{\"wordCounts\":{\"1061\":1,\"37759\":1,\"10037\":1,\"6...</td>\n",
       "      <td>{\"wordCounts\":{},\"bigramCounts\":{},\"entityCoun...</td>\n",
       "    </tr>\n",
       "  </tbody>\n",
       "</table>\n",
       "</div>"
      ],
      "text/plain": [
       "   pubId  seqId                                   titleFingerprint  \\\n",
       "0   6959      0  {\"wordCounts\":{\"2613\":1,\"2591\":1,\"286\":1,\"5475...   \n",
       "1   6959      1  {\"wordCounts\":{\"7625\":1,\"11338\":2,\"657601\":1,\"...   \n",
       "2   6959      2  {\"wordCounts\":{\"631\":1,\"2276\":1,\"364\":1,\"71240...   \n",
       "3   6959      3  {\"wordCounts\":{\"427\":1,\"4883\":1,\"80561\":1,\"190...   \n",
       "4   6959      4  {\"wordCounts\":{\"1061\":1,\"37759\":1,\"10037\":1,\"6...   \n",
       "\n",
       "                                     textFingerprint  \n",
       "0  {\"wordCounts\":{\"2613\":3,\"2591\":8,\"286\":5,\"5475...  \n",
       "1  {\"wordCounts\":{},\"bigramCounts\":{},\"entityCoun...  \n",
       "2  {\"wordCounts\":{},\"bigramCounts\":{},\"entityCoun...  \n",
       "3  {\"wordCounts\":{},\"bigramCounts\":{},\"entityCoun...  \n",
       "4  {\"wordCounts\":{},\"bigramCounts\":{},\"entityCoun...  "
      ]
     },
     "execution_count": 4,
     "metadata": {},
     "output_type": "execute_result"
    }
   ],
   "source": [
    "fp_df.head(5)"
   ]
  },
  {
   "cell_type": "code",
   "execution_count": 5,
   "metadata": {},
   "outputs": [
    {
     "data": {
      "text/plain": [
       "'{\"wordCounts\":{\"2613\":1,\"2591\":1,\"286\":1,\"5475\":1,\"1373\":1,\"2216\":1,\"2962\":1,\"432\":1},\"bigramCounts\":{\"286\":{\"5475\":1},\"5475\":{\"1373\":1},\"2216\":{\"2962\":1},\"2962\":{\"432\":1}},\"entityCounts\":{\"442\":1,\"438\":1}}'"
      ]
     },
     "execution_count": 5,
     "metadata": {},
     "output_type": "execute_result"
    }
   ],
   "source": [
    "fp_df['titleFingerprint'][0]"
   ]
  },
  {
   "cell_type": "code",
   "execution_count": 6,
   "metadata": {},
   "outputs": [],
   "source": [
    "title_fps = []\n",
    "for idx, row in fp_df.iterrows():\n",
    "    sample = json.loads(row['titleFingerprint'])\n",
    "    text = []\n",
    "    for key, value in sample['wordCounts'].items():\n",
    "        text += [key]*value\n",
    "    title_fps.append(' '.join(text))"
   ]
  },
  {
   "cell_type": "code",
   "execution_count": 7,
   "metadata": {},
   "outputs": [],
   "source": [
    "vectorizer = TfidfVectorizer()\n",
    "# tokenize and build vocab\n",
    "vectors = vectorizer.fit_transform(title_fps)"
   ]
  },
  {
   "cell_type": "code",
   "execution_count": 12,
   "metadata": {},
   "outputs": [],
   "source": [
    "dense_vectos = vectors.todense()"
   ]
  }
 ],
 "metadata": {
  "kernelspec": {
   "display_name": "Python 3",
   "language": "python",
   "name": "python3"
  },
  "language_info": {
   "codemirror_mode": {
    "name": "ipython",
    "version": 3
   },
   "file_extension": ".py",
   "mimetype": "text/x-python",
   "name": "python",
   "nbconvert_exporter": "python",
   "pygments_lexer": "ipython3",
   "version": "3.6.6"
  }
 },
 "nbformat": 4,
 "nbformat_minor": 4
}
