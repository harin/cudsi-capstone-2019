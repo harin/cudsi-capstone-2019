{
  "nbformat": 4,
  "nbformat_minor": 0,
  "metadata": {
    "colab": {
      "name": "transfer_learning_bert",
      "provenance": [],
      "include_colab_link": true
    },
    "kernelspec": {
      "name": "python3",
      "display_name": "Python 3"
    }
  },
  "cells": [
    {
      "cell_type": "markdown",
      "metadata": {
        "id": "view-in-github",
        "colab_type": "text"
      },
      "source": [
        "<a href=\"https://colab.research.google.com/github/harin/cudsi-capstone-2019/blob/master/embedding/transfer_learning_bert.ipynb\" target=\"_parent\"><img src=\"https://colab.research.google.com/assets/colab-badge.svg\" alt=\"Open In Colab\"/></a>"
      ]
    },
    {
      "cell_type": "code",
      "metadata": {
        "id": "7_zpc-vBKIYl",
        "colab_type": "code",
        "outputId": "90a9a526-df79-49bb-8113-8699c9c7acff",
        "colab": {
          "base_uri": "https://localhost:8080/",
          "height": 1000
        }
      },
      "source": [
        "!pip install spacy==2.2 spacy-transformers\n",
        "!python -m spacy download en_trf_bertbaseuncased_lg"
      ],
      "execution_count": 2,
      "outputs": [
        {
          "output_type": "stream",
          "text": [
            "Collecting spacy==2.2\n",
            "  Using cached https://files.pythonhosted.org/packages/1c/96/10881bc82d05664c40a38cf7c645e6ab1877e5808ef4a3684a99cd1445a4/spacy-2.2.0-cp36-cp36m-manylinux1_x86_64.whl\n",
            "Requirement already satisfied: spacy-transformers in /usr/local/lib/python3.6/dist-packages (0.5.1)\n",
            "Requirement already satisfied: murmurhash<1.1.0,>=0.28.0 in /usr/local/lib/python3.6/dist-packages (from spacy==2.2) (1.0.2)\n",
            "Collecting thinc<7.2.0,>=7.1.1\n",
            "  Using cached https://files.pythonhosted.org/packages/4c/60/cbe7c1ca0d05e9861375fc9fe73f5c6828666bb994e193a80bce554c4004/thinc-7.1.1-cp36-cp36m-manylinux1_x86_64.whl\n",
            "Requirement already satisfied: blis<0.5.0,>=0.4.0 in /usr/local/lib/python3.6/dist-packages (from spacy==2.2) (0.4.1)\n",
            "Requirement already satisfied: requests<3.0.0,>=2.13.0 in /usr/local/lib/python3.6/dist-packages (from spacy==2.2) (2.21.0)\n",
            "Requirement already satisfied: plac<1.0.0,>=0.9.6 in /usr/local/lib/python3.6/dist-packages (from spacy==2.2) (0.9.6)\n",
            "Requirement already satisfied: wasabi<1.1.0,>=0.2.0 in /usr/local/lib/python3.6/dist-packages (from spacy==2.2) (0.4.0)\n",
            "Requirement already satisfied: numpy>=1.15.0 in /usr/local/lib/python3.6/dist-packages (from spacy==2.2) (1.17.4)\n",
            "Requirement already satisfied: srsly<1.1.0,>=0.1.0 in /usr/local/lib/python3.6/dist-packages (from spacy==2.2) (0.2.0)\n",
            "Requirement already satisfied: preshed<3.1.0,>=3.0.2 in /usr/local/lib/python3.6/dist-packages (from spacy==2.2) (3.0.2)\n",
            "Requirement already satisfied: cymem<2.1.0,>=2.0.2 in /usr/local/lib/python3.6/dist-packages (from spacy==2.2) (2.0.3)\n",
            "Requirement already satisfied: ftfy<6.0.0,>=5.0.0 in /usr/local/lib/python3.6/dist-packages (from spacy-transformers) (5.6)\n",
            "Requirement already satisfied: dataclasses<0.7,>=0.6; python_version < \"3.7\" in /usr/local/lib/python3.6/dist-packages (from spacy-transformers) (0.6)\n",
            "Requirement already satisfied: torchcontrib<0.1.0,>=0.0.2 in /usr/local/lib/python3.6/dist-packages (from spacy-transformers) (0.0.2)\n",
            "Requirement already satisfied: transformers<2.1.0,>=2.0.0 in /usr/local/lib/python3.6/dist-packages (from spacy-transformers) (2.0.0)\n",
            "Requirement already satisfied: torch>=1.0.0 in /usr/local/lib/python3.6/dist-packages (from spacy-transformers) (1.3.1)\n",
            "Requirement already satisfied: importlib-metadata>=0.20; python_version < \"3.8\" in /usr/local/lib/python3.6/dist-packages (from spacy-transformers) (0.23)\n",
            "Requirement already satisfied: tqdm<5.0.0,>=4.10.0 in /usr/local/lib/python3.6/dist-packages (from thinc<7.2.0,>=7.1.1->spacy==2.2) (4.28.1)\n",
            "Requirement already satisfied: certifi>=2017.4.17 in /usr/local/lib/python3.6/dist-packages (from requests<3.0.0,>=2.13.0->spacy==2.2) (2019.9.11)\n",
            "Requirement already satisfied: chardet<3.1.0,>=3.0.2 in /usr/local/lib/python3.6/dist-packages (from requests<3.0.0,>=2.13.0->spacy==2.2) (3.0.4)\n",
            "Requirement already satisfied: urllib3<1.25,>=1.21.1 in /usr/local/lib/python3.6/dist-packages (from requests<3.0.0,>=2.13.0->spacy==2.2) (1.24.3)\n",
            "Requirement already satisfied: idna<2.9,>=2.5 in /usr/local/lib/python3.6/dist-packages (from requests<3.0.0,>=2.13.0->spacy==2.2) (2.8)\n",
            "Requirement already satisfied: wcwidth in /usr/local/lib/python3.6/dist-packages (from ftfy<6.0.0,>=5.0.0->spacy-transformers) (0.1.7)\n",
            "Requirement already satisfied: regex in /usr/local/lib/python3.6/dist-packages (from transformers<2.1.0,>=2.0.0->spacy-transformers) (2019.11.1)\n",
            "Requirement already satisfied: boto3 in /usr/local/lib/python3.6/dist-packages (from transformers<2.1.0,>=2.0.0->spacy-transformers) (1.10.27)\n",
            "Requirement already satisfied: sentencepiece in /usr/local/lib/python3.6/dist-packages (from transformers<2.1.0,>=2.0.0->spacy-transformers) (0.1.83)\n",
            "Requirement already satisfied: sacremoses in /usr/local/lib/python3.6/dist-packages (from transformers<2.1.0,>=2.0.0->spacy-transformers) (0.0.35)\n",
            "Requirement already satisfied: zipp>=0.5 in /usr/local/lib/python3.6/dist-packages (from importlib-metadata>=0.20; python_version < \"3.8\"->spacy-transformers) (0.6.0)\n",
            "Requirement already satisfied: s3transfer<0.3.0,>=0.2.0 in /usr/local/lib/python3.6/dist-packages (from boto3->transformers<2.1.0,>=2.0.0->spacy-transformers) (0.2.1)\n",
            "Requirement already satisfied: botocore<1.14.0,>=1.13.27 in /usr/local/lib/python3.6/dist-packages (from boto3->transformers<2.1.0,>=2.0.0->spacy-transformers) (1.13.27)\n",
            "Requirement already satisfied: jmespath<1.0.0,>=0.7.1 in /usr/local/lib/python3.6/dist-packages (from boto3->transformers<2.1.0,>=2.0.0->spacy-transformers) (0.9.4)\n",
            "Requirement already satisfied: joblib in /usr/local/lib/python3.6/dist-packages (from sacremoses->transformers<2.1.0,>=2.0.0->spacy-transformers) (0.14.0)\n",
            "Requirement already satisfied: six in /usr/local/lib/python3.6/dist-packages (from sacremoses->transformers<2.1.0,>=2.0.0->spacy-transformers) (1.12.0)\n",
            "Requirement already satisfied: click in /usr/local/lib/python3.6/dist-packages (from sacremoses->transformers<2.1.0,>=2.0.0->spacy-transformers) (7.0)\n",
            "Requirement already satisfied: more-itertools in /usr/local/lib/python3.6/dist-packages (from zipp>=0.5->importlib-metadata>=0.20; python_version < \"3.8\"->spacy-transformers) (7.2.0)\n",
            "Requirement already satisfied: python-dateutil<2.8.1,>=2.1; python_version >= \"2.7\" in /usr/local/lib/python3.6/dist-packages (from botocore<1.14.0,>=1.13.27->boto3->transformers<2.1.0,>=2.0.0->spacy-transformers) (2.6.1)\n",
            "Requirement already satisfied: docutils<0.16,>=0.10 in /usr/local/lib/python3.6/dist-packages (from botocore<1.14.0,>=1.13.27->boto3->transformers<2.1.0,>=2.0.0->spacy-transformers) (0.15.2)\n",
            "\u001b[31mERROR: spacy-transformers 0.5.1 has requirement spacy<2.3.0,>=2.2.1, but you'll have spacy 2.2.0 which is incompatible.\u001b[0m\n",
            "\u001b[31mERROR: en-trf-bertbaseuncased-lg 2.2.0 has requirement spacy>=2.2.1, but you'll have spacy 2.2.0 which is incompatible.\u001b[0m\n",
            "Installing collected packages: thinc, spacy\n",
            "  Found existing installation: thinc 7.3.1\n",
            "    Uninstalling thinc-7.3.1:\n",
            "      Successfully uninstalled thinc-7.3.1\n",
            "  Found existing installation: spacy 2.2.3\n",
            "    Uninstalling spacy-2.2.3:\n",
            "      Successfully uninstalled spacy-2.2.3\n",
            "Successfully installed spacy-2.2.0 thinc-7.1.1\n",
            "Requirement already satisfied: en_trf_bertbaseuncased_lg==2.2.0 from https://github.com/explosion/spacy-models/releases/download/en_trf_bertbaseuncased_lg-2.2.0/en_trf_bertbaseuncased_lg-2.2.0.tar.gz#egg=en_trf_bertbaseuncased_lg==2.2.0 in /usr/local/lib/python3.6/dist-packages (2.2.0)\n",
            "Collecting spacy>=2.2.1\n",
            "\u001b[?25l  Downloading https://files.pythonhosted.org/packages/47/13/80ad28ef7a16e2a86d16d73e28588be5f1085afd3e85e4b9b912bd700e8a/spacy-2.2.3-cp36-cp36m-manylinux1_x86_64.whl (10.4MB)\n",
            "\u001b[K     |████████████████████████████████| 10.4MB 8.8MB/s \n",
            "\u001b[?25hRequirement already satisfied: spacy-transformers>=0.5.0 in /usr/local/lib/python3.6/dist-packages (from en_trf_bertbaseuncased_lg==2.2.0) (0.5.1)\n",
            "Requirement already satisfied: blis<0.5.0,>=0.4.0 in /usr/local/lib/python3.6/dist-packages (from spacy>=2.2.1->en_trf_bertbaseuncased_lg==2.2.0) (0.4.1)\n",
            "Requirement already satisfied: cymem<2.1.0,>=2.0.2 in /usr/local/lib/python3.6/dist-packages (from spacy>=2.2.1->en_trf_bertbaseuncased_lg==2.2.0) (2.0.3)\n",
            "Requirement already satisfied: srsly<1.1.0,>=0.1.0 in /usr/local/lib/python3.6/dist-packages (from spacy>=2.2.1->en_trf_bertbaseuncased_lg==2.2.0) (0.2.0)\n",
            "Requirement already satisfied: preshed<3.1.0,>=3.0.2 in /usr/local/lib/python3.6/dist-packages (from spacy>=2.2.1->en_trf_bertbaseuncased_lg==2.2.0) (3.0.2)\n",
            "Requirement already satisfied: requests<3.0.0,>=2.13.0 in /usr/local/lib/python3.6/dist-packages (from spacy>=2.2.1->en_trf_bertbaseuncased_lg==2.2.0) (2.21.0)\n",
            "Requirement already satisfied: wasabi<1.1.0,>=0.4.0 in /usr/local/lib/python3.6/dist-packages (from spacy>=2.2.1->en_trf_bertbaseuncased_lg==2.2.0) (0.4.0)\n",
            "Requirement already satisfied: murmurhash<1.1.0,>=0.28.0 in /usr/local/lib/python3.6/dist-packages (from spacy>=2.2.1->en_trf_bertbaseuncased_lg==2.2.0) (1.0.2)\n",
            "Requirement already satisfied: numpy>=1.15.0 in /usr/local/lib/python3.6/dist-packages (from spacy>=2.2.1->en_trf_bertbaseuncased_lg==2.2.0) (1.17.4)\n",
            "Requirement already satisfied: plac<1.2.0,>=0.9.6 in /usr/local/lib/python3.6/dist-packages (from spacy>=2.2.1->en_trf_bertbaseuncased_lg==2.2.0) (0.9.6)\n",
            "Collecting thinc<7.4.0,>=7.3.0\n",
            "\u001b[?25l  Downloading https://files.pythonhosted.org/packages/07/59/6bb553bc9a5f072d3cd479fc939fea0f6f682892f1f5cff98de5c9b615bb/thinc-7.3.1-cp36-cp36m-manylinux1_x86_64.whl (2.2MB)\n",
            "\u001b[K     |████████████████████████████████| 2.2MB 55.1MB/s \n",
            "\u001b[?25hRequirement already satisfied: catalogue<1.1.0,>=0.0.7 in /usr/local/lib/python3.6/dist-packages (from spacy>=2.2.1->en_trf_bertbaseuncased_lg==2.2.0) (0.0.8)\n",
            "Requirement already satisfied: setuptools in /usr/local/lib/python3.6/dist-packages (from spacy>=2.2.1->en_trf_bertbaseuncased_lg==2.2.0) (42.0.1)\n",
            "Requirement already satisfied: torch>=1.0.0 in /usr/local/lib/python3.6/dist-packages (from spacy-transformers>=0.5.0->en_trf_bertbaseuncased_lg==2.2.0) (1.3.1)\n",
            "Requirement already satisfied: torchcontrib<0.1.0,>=0.0.2 in /usr/local/lib/python3.6/dist-packages (from spacy-transformers>=0.5.0->en_trf_bertbaseuncased_lg==2.2.0) (0.0.2)\n",
            "Requirement already satisfied: importlib-metadata>=0.20; python_version < \"3.8\" in /usr/local/lib/python3.6/dist-packages (from spacy-transformers>=0.5.0->en_trf_bertbaseuncased_lg==2.2.0) (0.23)\n",
            "Requirement already satisfied: ftfy<6.0.0,>=5.0.0 in /usr/local/lib/python3.6/dist-packages (from spacy-transformers>=0.5.0->en_trf_bertbaseuncased_lg==2.2.0) (5.6)\n",
            "Requirement already satisfied: dataclasses<0.7,>=0.6; python_version < \"3.7\" in /usr/local/lib/python3.6/dist-packages (from spacy-transformers>=0.5.0->en_trf_bertbaseuncased_lg==2.2.0) (0.6)\n",
            "Requirement already satisfied: transformers<2.1.0,>=2.0.0 in /usr/local/lib/python3.6/dist-packages (from spacy-transformers>=0.5.0->en_trf_bertbaseuncased_lg==2.2.0) (2.0.0)\n",
            "Requirement already satisfied: certifi>=2017.4.17 in /usr/local/lib/python3.6/dist-packages (from requests<3.0.0,>=2.13.0->spacy>=2.2.1->en_trf_bertbaseuncased_lg==2.2.0) (2019.9.11)\n",
            "Requirement already satisfied: chardet<3.1.0,>=3.0.2 in /usr/local/lib/python3.6/dist-packages (from requests<3.0.0,>=2.13.0->spacy>=2.2.1->en_trf_bertbaseuncased_lg==2.2.0) (3.0.4)\n",
            "Requirement already satisfied: idna<2.9,>=2.5 in /usr/local/lib/python3.6/dist-packages (from requests<3.0.0,>=2.13.0->spacy>=2.2.1->en_trf_bertbaseuncased_lg==2.2.0) (2.8)\n",
            "Requirement already satisfied: urllib3<1.25,>=1.21.1 in /usr/local/lib/python3.6/dist-packages (from requests<3.0.0,>=2.13.0->spacy>=2.2.1->en_trf_bertbaseuncased_lg==2.2.0) (1.24.3)\n",
            "Requirement already satisfied: tqdm<5.0.0,>=4.10.0 in /usr/local/lib/python3.6/dist-packages (from thinc<7.4.0,>=7.3.0->spacy>=2.2.1->en_trf_bertbaseuncased_lg==2.2.0) (4.28.1)\n",
            "Requirement already satisfied: zipp>=0.5 in /usr/local/lib/python3.6/dist-packages (from importlib-metadata>=0.20; python_version < \"3.8\"->spacy-transformers>=0.5.0->en_trf_bertbaseuncased_lg==2.2.0) (0.6.0)\n",
            "Requirement already satisfied: wcwidth in /usr/local/lib/python3.6/dist-packages (from ftfy<6.0.0,>=5.0.0->spacy-transformers>=0.5.0->en_trf_bertbaseuncased_lg==2.2.0) (0.1.7)\n",
            "Requirement already satisfied: sentencepiece in /usr/local/lib/python3.6/dist-packages (from transformers<2.1.0,>=2.0.0->spacy-transformers>=0.5.0->en_trf_bertbaseuncased_lg==2.2.0) (0.1.83)\n",
            "Requirement already satisfied: regex in /usr/local/lib/python3.6/dist-packages (from transformers<2.1.0,>=2.0.0->spacy-transformers>=0.5.0->en_trf_bertbaseuncased_lg==2.2.0) (2019.11.1)\n",
            "Requirement already satisfied: sacremoses in /usr/local/lib/python3.6/dist-packages (from transformers<2.1.0,>=2.0.0->spacy-transformers>=0.5.0->en_trf_bertbaseuncased_lg==2.2.0) (0.0.35)\n",
            "Requirement already satisfied: boto3 in /usr/local/lib/python3.6/dist-packages (from transformers<2.1.0,>=2.0.0->spacy-transformers>=0.5.0->en_trf_bertbaseuncased_lg==2.2.0) (1.10.27)\n",
            "Requirement already satisfied: more-itertools in /usr/local/lib/python3.6/dist-packages (from zipp>=0.5->importlib-metadata>=0.20; python_version < \"3.8\"->spacy-transformers>=0.5.0->en_trf_bertbaseuncased_lg==2.2.0) (7.2.0)\n",
            "Requirement already satisfied: joblib in /usr/local/lib/python3.6/dist-packages (from sacremoses->transformers<2.1.0,>=2.0.0->spacy-transformers>=0.5.0->en_trf_bertbaseuncased_lg==2.2.0) (0.14.0)\n",
            "Requirement already satisfied: six in /usr/local/lib/python3.6/dist-packages (from sacremoses->transformers<2.1.0,>=2.0.0->spacy-transformers>=0.5.0->en_trf_bertbaseuncased_lg==2.2.0) (1.12.0)\n",
            "Requirement already satisfied: click in /usr/local/lib/python3.6/dist-packages (from sacremoses->transformers<2.1.0,>=2.0.0->spacy-transformers>=0.5.0->en_trf_bertbaseuncased_lg==2.2.0) (7.0)\n",
            "Requirement already satisfied: jmespath<1.0.0,>=0.7.1 in /usr/local/lib/python3.6/dist-packages (from boto3->transformers<2.1.0,>=2.0.0->spacy-transformers>=0.5.0->en_trf_bertbaseuncased_lg==2.2.0) (0.9.4)\n",
            "Requirement already satisfied: botocore<1.14.0,>=1.13.27 in /usr/local/lib/python3.6/dist-packages (from boto3->transformers<2.1.0,>=2.0.0->spacy-transformers>=0.5.0->en_trf_bertbaseuncased_lg==2.2.0) (1.13.27)\n",
            "Requirement already satisfied: s3transfer<0.3.0,>=0.2.0 in /usr/local/lib/python3.6/dist-packages (from boto3->transformers<2.1.0,>=2.0.0->spacy-transformers>=0.5.0->en_trf_bertbaseuncased_lg==2.2.0) (0.2.1)\n",
            "Requirement already satisfied: docutils<0.16,>=0.10 in /usr/local/lib/python3.6/dist-packages (from botocore<1.14.0,>=1.13.27->boto3->transformers<2.1.0,>=2.0.0->spacy-transformers>=0.5.0->en_trf_bertbaseuncased_lg==2.2.0) (0.15.2)\n",
            "Requirement already satisfied: python-dateutil<2.8.1,>=2.1; python_version >= \"2.7\" in /usr/local/lib/python3.6/dist-packages (from botocore<1.14.0,>=1.13.27->boto3->transformers<2.1.0,>=2.0.0->spacy-transformers>=0.5.0->en_trf_bertbaseuncased_lg==2.2.0) (2.6.1)\n",
            "Installing collected packages: thinc, spacy\n",
            "  Found existing installation: thinc 7.1.1\n",
            "    Uninstalling thinc-7.1.1:\n",
            "      Successfully uninstalled thinc-7.1.1\n",
            "  Found existing installation: spacy 2.2.0\n",
            "    Uninstalling spacy-2.2.0:\n",
            "      Successfully uninstalled spacy-2.2.0\n",
            "Successfully installed spacy-2.2.3 thinc-7.3.1\n",
            "\u001b[38;5;2m✔ Download and installation successful\u001b[0m\n",
            "You can now load the model via spacy.load('en_trf_bertbaseuncased_lg')\n"
          ],
          "name": "stdout"
        }
      ]
    },
    {
      "cell_type": "code",
      "metadata": {
        "id": "zgkKd9fvKQ-G",
        "colab_type": "code",
        "outputId": "1f766f0b-a3c0-4c9e-c85d-617d94c5f6c8",
        "colab": {
          "base_uri": "https://localhost:8080/",
          "height": 34
        }
      },
      "source": [
        "from google.colab import drive\n",
        "drive.mount('/content/gdrive')"
      ],
      "execution_count": 3,
      "outputs": [
        {
          "output_type": "stream",
          "text": [
            "Drive already mounted at /content/gdrive; to attempt to forcibly remount, call drive.mount(\"/content/gdrive\", force_remount=True).\n"
          ],
          "name": "stdout"
        }
      ]
    },
    {
      "cell_type": "code",
      "metadata": {
        "id": "axaSdzgtVFfu",
        "colab_type": "code",
        "colab": {}
      },
      "source": [
        "import random\n",
        "from spacy.util import minibatch"
      ],
      "execution_count": 0,
      "outputs": []
    },
    {
      "cell_type": "code",
      "metadata": {
        "id": "dP8pU5FBKTkc",
        "colab_type": "code",
        "outputId": "1240cd7b-5e3b-4847-ad1b-5a010106ae09",
        "colab": {
          "base_uri": "https://localhost:8080/",
          "height": 62
        }
      },
      "source": [
        "import spacy\n",
        "import torch\n",
        "\n",
        "is_using_gpu = spacy.prefer_gpu()\n",
        "if is_using_gpu:\n",
        "    torch.set_default_tensor_type(\"torch.cuda.FloatTensor\")\n",
        "\n",
        "nlp = spacy.load(\"en_trf_bertbaseuncased_lg\")"
      ],
      "execution_count": 5,
      "outputs": [
        {
          "output_type": "display_data",
          "data": {
            "text/html": [
              "<p style=\"color: red;\">\n",
              "The default version of TensorFlow in Colab will soon switch to TensorFlow 2.x.<br>\n",
              "We recommend you <a href=\"https://www.tensorflow.org/guide/migrate\" target=\"_blank\">upgrade</a> now \n",
              "or ensure your notebook will continue to use TensorFlow 1.x via the <code>%tensorflow_version 1.x</code> magic:\n",
              "<a href=\"https://colab.research.google.com/notebooks/tensorflow_version.ipynb\" target=\"_blank\">more info</a>.</p>\n"
            ],
            "text/plain": [
              "<IPython.core.display.HTML object>"
            ]
          },
          "metadata": {
            "tags": []
          }
        }
      ]
    },
    {
      "cell_type": "code",
      "metadata": {
        "id": "eQy66mxmKT7J",
        "colab_type": "code",
        "outputId": "54407e66-090a-4a19-f411-fa8df5ae2e06",
        "colab": {
          "base_uri": "https://localhost:8080/",
          "height": 118
        }
      },
      "source": [
        "import nltk\n",
        "import re\n",
        "from nltk.corpus import stopwords\n",
        "from nltk.stem import WordNetLemmatizer\n",
        "\n",
        "lemmatizer = WordNetLemmatizer()\n",
        "\n",
        "nltk.download('stopwords')\n",
        "nltk.download('punkt')\n",
        "nltk.download('wordnet')\n",
        "STOPWORDS = set(stopwords.words('english'))\n",
        "\n",
        "def clean_text_lemma(text):\n",
        "    \"\"\"\n",
        "        text: a paragrapy\n",
        "        \n",
        "        return: modified initial string\n",
        "    \"\"\"\n",
        "    text = re.sub(r\"[^\\w\\s]\", '', text) ## Remove all non-word characters (everything except numbers and letters)\n",
        "    text = text.lower() # lowercase text\n",
        "    text = ' '.join(word for word in text.split() if word not in STOPWORDS) # delete stopwords from text\n",
        "    text_list = nltk.word_tokenize(text)\n",
        "    lemmatized_output = ' '.join([lemmatizer.lemmatize(w) for w in text_list]) # lemmatization\n",
        "    #text_list2 = nltk.word_tokenize(lemmatized_output)\n",
        "    #stemmed_output = ' '.join([porter.stem(w) for w in text_list2]) #stemming\n",
        "    return lemmatized_output"
      ],
      "execution_count": 6,
      "outputs": [
        {
          "output_type": "stream",
          "text": [
            "[nltk_data] Downloading package stopwords to /root/nltk_data...\n",
            "[nltk_data]   Package stopwords is already up-to-date!\n",
            "[nltk_data] Downloading package punkt to /root/nltk_data...\n",
            "[nltk_data]   Package punkt is already up-to-date!\n",
            "[nltk_data] Downloading package wordnet to /root/nltk_data...\n",
            "[nltk_data]   Package wordnet is already up-to-date!\n"
          ],
          "name": "stdout"
        }
      ]
    },
    {
      "cell_type": "code",
      "metadata": {
        "id": "DzkEvDpdKVRV",
        "colab_type": "code",
        "outputId": "12059a5e-be49-4636-bcc5-b7d46c76dab6",
        "colab": {
          "base_uri": "https://localhost:8080/",
          "height": 67
        }
      },
      "source": [
        "!ls \"/content/gdrive/Shared drives/Columbia/Article Categorization/\"\n"
      ],
      "execution_count": 7,
      "outputs": [
        {
          "output_type": "stream",
          "text": [
            " data_USAevents_2019_09_04_13_58_10.csv\n",
            "'Results Codebook.gdoc'\n",
            " results_USAevents_2019_09_04_13_58_10.csv\n"
          ],
          "name": "stdout"
        }
      ]
    },
    {
      "cell_type": "code",
      "metadata": {
        "id": "SAiTc252KXd5",
        "colab_type": "code",
        "colab": {}
      },
      "source": [
        "import pandas as pd"
      ],
      "execution_count": 0,
      "outputs": []
    },
    {
      "cell_type": "code",
      "metadata": {
        "id": "adwVHnK4Lbgm",
        "colab_type": "code",
        "colab": {}
      },
      "source": [
        "label_df = pd.read_csv('/content/gdrive/Shared drives/Columbia/Article Categorization/results_USAevents_2019_09_04_13_58_10.csv')"
      ],
      "execution_count": 0,
      "outputs": []
    },
    {
      "cell_type": "code",
      "metadata": {
        "id": "Jsj0ea4JLeY1",
        "colab_type": "code",
        "outputId": "893e1f48-6cf3-461d-f756-4c7bc1d29cb3",
        "colab": {
          "base_uri": "https://localhost:8080/",
          "height": 803
        }
      },
      "source": [
        "label_df.head()"
      ],
      "execution_count": 10,
      "outputs": [
        {
          "output_type": "execute_result",
          "data": {
            "text/html": [
              "<div>\n",
              "<style scoped>\n",
              "    .dataframe tbody tr th:only-of-type {\n",
              "        vertical-align: middle;\n",
              "    }\n",
              "\n",
              "    .dataframe tbody tr th {\n",
              "        vertical-align: top;\n",
              "    }\n",
              "\n",
              "    .dataframe thead th {\n",
              "        text-align: right;\n",
              "    }\n",
              "</style>\n",
              "<table border=\"1\" class=\"dataframe\">\n",
              "  <thead>\n",
              "    <tr style=\"text-align: right;\">\n",
              "      <th></th>\n",
              "      <th>HITId</th>\n",
              "      <th>HITTypeId</th>\n",
              "      <th>AssignmentId</th>\n",
              "      <th>AssignmentStatus</th>\n",
              "      <th>WorkTimeInSeconds</th>\n",
              "      <th>url</th>\n",
              "      <th>title</th>\n",
              "      <th>html</th>\n",
              "      <th>label</th>\n",
              "    </tr>\n",
              "  </thead>\n",
              "  <tbody>\n",
              "    <tr>\n",
              "      <th>0</th>\n",
              "      <td>3ZURAPD288SQK7T8BZCY00HJD8XF13</td>\n",
              "      <td>3D8ERG8DI87CAW68NXFLQ7M8QQ9AML</td>\n",
              "      <td>39GHHAVOMGWQ3SAH79RN1GBWFBW4J7</td>\n",
              "      <td>Submitted</td>\n",
              "      <td>128</td>\n",
              "      <td>nola.com/news/article_cc0875be-c9c4-11e9-ba99-...</td>\n",
              "      <td>From live music and anime to ACT practice and ...</td>\n",
              "      <td>&lt;p&gt;From live music and anime to ACT practice a...</td>\n",
              "      <td>Entertainment</td>\n",
              "    </tr>\n",
              "    <tr>\n",
              "      <th>1</th>\n",
              "      <td>3ZURAPD288SQK7T8BZCY00HJD8XF13</td>\n",
              "      <td>3D8ERG8DI87CAW68NXFLQ7M8QQ9AML</td>\n",
              "      <td>3G0WWMR1UWPTBNO0K4QSXQTIKM9QN3</td>\n",
              "      <td>Submitted</td>\n",
              "      <td>50</td>\n",
              "      <td>nola.com/news/article_cc0875be-c9c4-11e9-ba99-...</td>\n",
              "      <td>From live music and anime to ACT practice and ...</td>\n",
              "      <td>&lt;p&gt;From live music and anime to ACT practice a...</td>\n",
              "      <td>Business</td>\n",
              "    </tr>\n",
              "    <tr>\n",
              "      <th>2</th>\n",
              "      <td>3ZURAPD288SQK7T8BZCY00HJD8XF13</td>\n",
              "      <td>3D8ERG8DI87CAW68NXFLQ7M8QQ9AML</td>\n",
              "      <td>3QY7M81QH8RIXZYIRSP657VJL1D7KI</td>\n",
              "      <td>Submitted</td>\n",
              "      <td>435</td>\n",
              "      <td>nola.com/news/article_cc0875be-c9c4-11e9-ba99-...</td>\n",
              "      <td>From live music and anime to ACT practice and ...</td>\n",
              "      <td>&lt;p&gt;From live music and anime to ACT practice a...</td>\n",
              "      <td>Entertainment</td>\n",
              "    </tr>\n",
              "    <tr>\n",
              "      <th>3</th>\n",
              "      <td>3LEG2HW4UFSX9SB4U3CC5JRO5EBF2K</td>\n",
              "      <td>3D8ERG8DI87CAW68NXFLQ7M8QQ9AML</td>\n",
              "      <td>38JBBYETQPFISCOPT8GW40Y4A2QE4K</td>\n",
              "      <td>Submitted</td>\n",
              "      <td>1275</td>\n",
              "      <td>usatoday.com/story/opinion/2019/09/04/football...</td>\n",
              "      <td>Football is tough.  doesn't mean NFL has injur...</td>\n",
              "      <td>&lt;p&gt;FacebookEmail Twitter Google+ LinkedIn Pint...</td>\n",
              "      <td>Sports</td>\n",
              "    </tr>\n",
              "    <tr>\n",
              "      <th>4</th>\n",
              "      <td>3LEG2HW4UFSX9SB4U3CC5JRO5EBF2K</td>\n",
              "      <td>3D8ERG8DI87CAW68NXFLQ7M8QQ9AML</td>\n",
              "      <td>3E337GFOLAD2YYUMH8LG3CPGEZ0NG5</td>\n",
              "      <td>Submitted</td>\n",
              "      <td>1896</td>\n",
              "      <td>usatoday.com/story/opinion/2019/09/04/football...</td>\n",
              "      <td>Football is tough.  doesn't mean NFL has injur...</td>\n",
              "      <td>&lt;p&gt;FacebookEmail Twitter Google+ LinkedIn Pint...</td>\n",
              "      <td>Sports</td>\n",
              "    </tr>\n",
              "  </tbody>\n",
              "</table>\n",
              "</div>"
            ],
            "text/plain": [
              "                            HITId  ...          label\n",
              "0  3ZURAPD288SQK7T8BZCY00HJD8XF13  ...  Entertainment\n",
              "1  3ZURAPD288SQK7T8BZCY00HJD8XF13  ...       Business\n",
              "2  3ZURAPD288SQK7T8BZCY00HJD8XF13  ...  Entertainment\n",
              "3  3LEG2HW4UFSX9SB4U3CC5JRO5EBF2K  ...         Sports\n",
              "4  3LEG2HW4UFSX9SB4U3CC5JRO5EBF2K  ...         Sports\n",
              "\n",
              "[5 rows x 9 columns]"
            ]
          },
          "metadata": {
            "tags": []
          },
          "execution_count": 10
        }
      ]
    },
    {
      "cell_type": "code",
      "metadata": {
        "id": "jh1dbyNTLfce",
        "colab_type": "code",
        "colab": {}
      },
      "source": [
        "data_df = pd.read_csv('/content/gdrive/Shared drives/Columbia/Article Categorization/data_USAevents_2019_09_04_13_58_10.csv')"
      ],
      "execution_count": 0,
      "outputs": []
    },
    {
      "cell_type": "code",
      "metadata": {
        "id": "B1W2ufCTLoZ-",
        "colab_type": "code",
        "outputId": "1b17c869-9305-4509-9f53-ac4d214b3de8",
        "colab": {
          "base_uri": "https://localhost:8080/",
          "height": 34
        }
      },
      "source": [
        "data_df.shape"
      ],
      "execution_count": 12,
      "outputs": [
        {
          "output_type": "execute_result",
          "data": {
            "text/plain": [
              "(1250, 4)"
            ]
          },
          "metadata": {
            "tags": []
          },
          "execution_count": 12
        }
      ]
    },
    {
      "cell_type": "code",
      "metadata": {
        "id": "eMW5LkGyLplB",
        "colab_type": "code",
        "outputId": "e0615e38-158d-42ec-a6d6-4108a733f78c",
        "colab": {
          "base_uri": "https://localhost:8080/",
          "height": 34
        }
      },
      "source": [
        "label_df.shape"
      ],
      "execution_count": 13,
      "outputs": [
        {
          "output_type": "execute_result",
          "data": {
            "text/plain": [
              "(3750, 9)"
            ]
          },
          "metadata": {
            "tags": []
          },
          "execution_count": 13
        }
      ]
    },
    {
      "cell_type": "code",
      "metadata": {
        "id": "NqFe2IreLqmY",
        "colab_type": "code",
        "colab": {}
      },
      "source": [
        "data_df = data_df.set_index('url')\n",
        "label_df = label_df.set_index('url')"
      ],
      "execution_count": 0,
      "outputs": []
    },
    {
      "cell_type": "code",
      "metadata": {
        "id": "lR24nOojL8RK",
        "colab_type": "code",
        "colab": {}
      },
      "source": [
        "df = data_df[['text']].join(label_df)"
      ],
      "execution_count": 0,
      "outputs": []
    },
    {
      "cell_type": "code",
      "metadata": {
        "id": "59vwJpn2MBWR",
        "colab_type": "code",
        "outputId": "06282155-68e5-45cd-ebdc-6e54af5ea96c",
        "colab": {
          "base_uri": "https://localhost:8080/",
          "height": 34
        }
      },
      "source": [
        "df.shape"
      ],
      "execution_count": 16,
      "outputs": [
        {
          "output_type": "execute_result",
          "data": {
            "text/plain": [
              "(3906, 9)"
            ]
          },
          "metadata": {
            "tags": []
          },
          "execution_count": 16
        }
      ]
    },
    {
      "cell_type": "code",
      "metadata": {
        "id": "aTo9Z-TOMGeI",
        "colab_type": "code",
        "colab": {}
      },
      "source": [
        "from collections import defaultdict\n",
        "def get_majority(labels):\n",
        "  count = defaultdict(int)\n",
        "  for label in labels:\n",
        "    count[label] += 1\n",
        "  max_label = None\n",
        "  max_count = 0\n",
        "  for key, value in count.items():\n",
        "    if value > max_count:\n",
        "      max_label = key\n",
        "      max_count = value\n",
        "  return max_label \n",
        "    \n",
        "\n",
        "majority_label_df = label_df.reset_index().groupby('url').agg({ 'label': get_majority })"
      ],
      "execution_count": 0,
      "outputs": []
    },
    {
      "cell_type": "code",
      "metadata": {
        "id": "9JmYrLHBMG-5",
        "colab_type": "code",
        "outputId": "fc43a42b-f973-4f3f-abb4-b2947fa75710",
        "colab": {
          "base_uri": "https://localhost:8080/",
          "height": 34
        }
      },
      "source": [
        "majority_label_df.shape"
      ],
      "execution_count": 18,
      "outputs": [
        {
          "output_type": "execute_result",
          "data": {
            "text/plain": [
              "(1209, 1)"
            ]
          },
          "metadata": {
            "tags": []
          },
          "execution_count": 18
        }
      ]
    },
    {
      "cell_type": "code",
      "metadata": {
        "id": "MTyhvix7OeN_",
        "colab_type": "code",
        "colab": {}
      },
      "source": [
        "data_df = data_df.join(majority_label_df)"
      ],
      "execution_count": 0,
      "outputs": []
    },
    {
      "cell_type": "code",
      "metadata": {
        "id": "KK_oHEw1Oirm",
        "colab_type": "code",
        "colab": {}
      },
      "source": [
        "data_df['all_text'] = data_df.title + '.' + data_df.text "
      ],
      "execution_count": 0,
      "outputs": []
    },
    {
      "cell_type": "code",
      "metadata": {
        "id": "Wz0aV5tbOnG5",
        "colab_type": "code",
        "colab": {}
      },
      "source": [
        "data_df = data_df.dropna(subset=['all_text', 'label'])"
      ],
      "execution_count": 0,
      "outputs": []
    },
    {
      "cell_type": "code",
      "metadata": {
        "id": "ADcTuCObO_9E",
        "colab_type": "code",
        "colab": {}
      },
      "source": [
        "data_df['cleaned_all_text'] = data_df['all_text'].apply(clean_text_lemma)"
      ],
      "execution_count": 0,
      "outputs": []
    },
    {
      "cell_type": "code",
      "metadata": {
        "id": "yWnoj9T-PTqC",
        "colab_type": "code",
        "outputId": "cf434aef-676a-49bc-c703-8a8a9d4fb17a",
        "colab": {
          "base_uri": "https://localhost:8080/",
          "height": 34
        }
      },
      "source": [
        "data_df.shape"
      ],
      "execution_count": 23,
      "outputs": [
        {
          "output_type": "execute_result",
          "data": {
            "text/plain": [
              "(1110, 6)"
            ]
          },
          "metadata": {
            "tags": []
          },
          "execution_count": 23
        }
      ]
    },
    {
      "cell_type": "code",
      "metadata": {
        "id": "-AqlKCvWey0g",
        "colab_type": "code",
        "outputId": "e33af36d-8b6c-474d-a2a3-51d98221e6ac",
        "colab": {
          "base_uri": "https://localhost:8080/",
          "height": 405
        }
      },
      "source": [
        "data_df.groupby('label').count()[['title']].plot(kind='bar')"
      ],
      "execution_count": 24,
      "outputs": [
        {
          "output_type": "execute_result",
          "data": {
            "text/plain": [
              "<matplotlib.axes._subplots.AxesSubplot at 0x7f90de15b160>"
            ]
          },
          "metadata": {
            "tags": []
          },
          "execution_count": 24
        },
        {
          "output_type": "display_data",
          "data": {
            "image/png": "[encoded data removed]",
            "text/plain": [
              "<Figure size 432x288 with 1 Axes>"
            ]
          },
          "metadata": {
            "tags": []
          }
        }
      ]
    },
    {
      "cell_type": "markdown",
      "metadata": {
        "id": "62EqCr70XHh0",
        "colab_type": "text"
      },
      "source": [
        "Transfer Learning using BERT following example from https://explosion.ai/blog/spacy-transformers"
      ]
    },
    {
      "cell_type": "code",
      "metadata": {
        "id": "ehnKeBFtPVbJ",
        "colab_type": "code",
        "outputId": "b6874d86-8358-4c34-b72d-4e8b6a528f9f",
        "colab": {
          "base_uri": "https://localhost:8080/",
          "height": 34
        }
      },
      "source": [
        "nlp = spacy.load(\"en_trf_bertbaseuncased_lg\")\n",
        "print(nlp.pipe_names) # [\"sentencizer\", \"trf_wordpiecer\", \"trf_tok2vec\"]\n",
        "textcat = nlp.create_pipe(\"trf_textcat\", config={\"exclusive_classes\": True})\n",
        "for label in data_df.label.unique():\n",
        "    textcat.add_label(label)\n",
        "nlp.add_pipe(textcat)"
      ],
      "execution_count": 25,
      "outputs": [
        {
          "output_type": "stream",
          "text": [
            "['sentencizer', 'trf_wordpiecer', 'trf_tok2vec']\n"
          ],
          "name": "stdout"
        }
      ]
    },
    {
      "cell_type": "code",
      "metadata": {
        "id": "Ks056OmgUyNt",
        "colab_type": "code",
        "colab": {}
      },
      "source": [
        "TRAIN_DATA = []\n",
        "for url, row in data_df.iterrows():\n",
        "  TRAIN_DATA.append((row.all_text, {'cats': { row['label']: 1.0 }}))"
      ],
      "execution_count": 0,
      "outputs": []
    },
    {
      "cell_type": "code",
      "metadata": {
        "id": "THlUkoQgVeVt",
        "colab_type": "code",
        "outputId": "87b19c41-d4c8-49fb-bc4f-3260d1637a75",
        "colab": {
          "base_uri": "https://localhost:8080/",
          "height": 373
        }
      },
      "source": [
        "TRAIN_DATA[:10]"
      ],
      "execution_count": 27,
      "outputs": [
        {
          "output_type": "execute_result",
          "data": {
            "text/plain": [
              "[(\"Krispy Kreme pumpkin spice doughnuts are available in .FacebookEmail Twitter Google+ LinkedIn Pinterest \\n Krispy Kreme pumpkin spice doughnuts are available now. Here's where to get them in Phoenix \\n Krispy Kreme's pumpkin spice donuts are available September 2 to 8 in metro Phoenix. Pumpkin lattes, cheesecake-filled and cake doughnuts on the menu. \\n Post to Facebook \\n Krispy Kreme pumpkin spice doughnuts are available now. Here's where to get them in Phoenix   Krispy Kreme's pumpkin spice donuts are available September 2 to 8 in metro Phoenix. Pumpkin lattes, cheesecake-filled and cake doughnuts on the menu.    Check out this story on azcentral.com: https://www.azcentral.com/story/entertainment/dining/2019/09/04/krispy-kreme-pumpkin-spice-doughnuts-available-metro-phoenix/2210709001/ \\n CancelSend \\n A link has been sent to your friend's email address. \\n Posted! \\n A link has been posted to your Facebook feed. \\n Join the Conversation\",\n",
              "  {'cats': {'Entertainment': 1.0}}),\n",
              " (\"College graduate budgeting, money tips: Apply for a credit card.50. Léman Manhattan Preparatory School• Yearly tuition: $50,850 • Enrollment: 880 • Student teacher ratio: 9:1 • Location: New York, New York \\n Courtesy of Léman Manhattan Preparatory School via Facebook \\n 49. The Hewitt School• Yearly tuition: $50,900 • Enrollment: 525 • Student teacher ratio: 7:1 • Location: New York, New York \\n Courtesy of The Hewitt School via Facebook \\n 48. Middlesex School• Yearly tuition: $51,212 • Enrollment: 409 • Student teacher ratio: 4:1 • Location: Concord, Massachusetts \\n Courtesy of Middlesex School via Facebook \\n 47. The Rivers School• Yearly tuition: $51,400 • Enrollment: 504 • Student teacher ratio: 5:1 • Location: Weston, Massachusetts \\n Courtesy of The Rivers School via Facebook \\n 46. The Lawrenceville School• Yearly tuition: $51,440 • Enrollment: 822 • Student teacher ratio: 7:1 • Location: Lawrenceville, New Jersey \\n Courtesy of The Lawrenceville School via Facebook \\n 45. Concord Academy• Yearly tuition: $51,455 • Enrollment: 401 • Student teacher ratio: 6:1 • Location: Concord, Massachusetts \\n Courtesy of Concord Academy via Facebook \\n 44. Milton Academy• Yearly tuition: $51,460 • Enrollment: 1,020 • Student teacher ratio: 7:1 • Location: Milton, Massachusetts \\n Courtesy of Milton Academy via Facebook \\n 43. Marymount School of New York• Yearly tuition: $51,750 • Enrollment: 759 • Student teacher ratio: 6:1 • Location: New York, New York \\n Courtesy of Marymount School of New York via Facebook \\n 42. Trevor Day School• Yearly tuition: $52,600 • Enrollment: 785 • Student teacher ratio: 7:1 • Location: New York, New York \\n Courtesy of Trevor Day School via Facebook \\n 41. Shattuck-St. Mary's School• Yearly tuition: $52,750 • Enrollment: 501 • Student teacher ratio: 6:1 • Location: Faribault, Minnesota \\n Courtesy of Shattuck-St. Mary's School via Facebook \\n 40. Squaw Valley Academy• Yearly tuition: $52,950 • Enrollment: 62 • Student teacher ratio: 6:1 • Location: Olympic Valley, California \\n Courtesy of Squaw Valley Academy via Facebook \\n 39. American University Preparatory School• Yearly tuition: $53,000 • Enrollment: 23 • Student teacher ratio: 3:1 • Location: Los Angeles, California \\n Courtesy of American University Preparatory School via Facebook \\n 38. Horace Mann School• Yearly tuition: $53,200 • Enrollment: 1,694 • Student teacher ratio: 8:1 • Location: Bronx, New York \\n Courtesy of Horace Mann School via Flickr \\n 36. Collegiate School (tied) • Yearly tuition: $53,900 • Enrollment: 651 • Student teacher ratio: 8:1 • Location: New York, New York \\n Courtesy of Collegiate School via Facebook \\n 36. St. Thomas More School (tied) • Yearly tuition: $53,900 • Enrollment: 110 • Student teacher ratio: 5:1 • Location: Oakdale, Connecticut \\n Courtesy of St. Thomas More School via Facebook \\n 35. Linden Hall• Yearly tuition: $54,200 • Enrollment: 212 • Student teacher ratio: 6:1 • Location: Lititz, Pennsylvania \\n Courtesy of Linden Hall via Facebook \\n 34. Learning Prep School• Yearly tuition: $54,849 • Enrollment: 194 • Student teacher ratio: 2:1 • Location: West Newton, Massachusetts \\n Courtesy of Learning Prep School via Facebook \\n 33. The MacDuffie School• Yearly tuition: $55,450 • Enrollment: 274 • Student teacher ratio: 5:1 • Location: Granby, Massachusetts \\n Courtesy of The MacDuffie School via Facebook \\n 32. St. Andrew's School• Yearly tuition: $55,500 • Enrollment: 310 • Student teacher ratio: 6:1 • Location: Middletown, Delaware \\n Courtesy of St. Andrew's School via Facebook \\n 31. Grier School• Yearly tuition: $55,900 • Enrollment: 300 • Student teacher ratio: 5:1 • Location: Birmingham, Pennsylvania \\n Courtesy of Grier School via Facebook \\n 30. Vincent Smith School• Yearly tuition: $56,300 • Enrollment: 57 • Student teacher ratio: 3:1 • Location: Port Washington, New York \\n Courtesy of Vincent Smith School via Facebook \\n 29. Avenues: The World School• Yearly tuition: $56,400 • Enrollment: 1,537 • Student teacher ratio: 7:1 • Location: New York, New York \\n Courtesy of Avenues: The World School via Facebook \\n 28. Eagle Hill School• Yearly tuition: $57,200 • Enrollment: 210 • Student teacher ratio: 3:1 • Location: Hardwick, Massachusetts \\n Courtesy of Eagle Hill School via Facebook \\n 27. Woodberry Forest School• Yearly tuition: $57,250 • Enrollment: 399 • Student teacher ratio: 7:1 • Location: Woodberry Forest, Virginia \\n Courtesy of Woodberry Forest School via Facebook \\n 25. South Kent School (tied) • Yearly tuition: $58,000 • Enrollment: 170 • Student teacher ratio: 5:1 • Location: South Kent, Connecticut \\n Courtesy of South Kent School via Facebook \\n 25. The Churchill School & Center (tied) • Yearly tuition: $58,000 • Enrollment: 399 • Student teacher ratio: 7:1 • Location: New York, New York \\n Courtesy of The Churchill School & Center via Facebook \\n 24. Kent School• Yearly tuition: $58,450 • Enrollment: 575 • Student teacher ratio: 6:1 • Location: Kent, Connecticut \\n Courtesy of Kent School via Facebook \\n 23. Midland School• Yearly tuition: $58,600 • Enrollment: 75 • Student teacher ratio: 4:1 • Location: Los Olivos, California \\n Courtesy of Midland School via Facebook \\n 22. The Hill School• Yearly tuition: $59,050 • Enrollment: 525 • Student teacher ratio: 8:1 • Location: Pottstown, Pennsylvania \\n Courtesy of The Hill School via Facebook \\n 21. Northwood School• Yearly tuition: $59,920 • Enrollment: 193 • Student teacher ratio: 6:1 • Location: Lake Placid, New York \\n Courtesy of Northwood School via Facebook \\n 20. Chamberlain International School• Yearly tuition: $60,000 • Enrollment: 77 • Student teacher ratio: 5:1 • Location: Middleboro, Massachusetts \\n Courtesy of Chamberlain International School via Facebook \\n 19. Landmark School• Yearly tuition: $60,400 • Enrollment: 475 • Student teacher ratio: 3:1 • Location: Prides Crossing, Massachusetts \\n Courtesy of Landmark School via Facebook \\n 18. Episcopal High School• Yearly tuition: $60,900 • Enrollment: 451 • Student teacher ratio: 4:1 • Location: Alexandria, Virginia \\n Courtesy of Episcopal High School via Facebook \\n 17. Salisbury School• Yearly tuition: $61,000 • Enrollment: 310 • Student teacher ratio: 4:1 • Location: Salisbury, Connecticut \\n Courtesy of Salisbury School via Facebook \\n 16. Newgrange School• Yearly tuition: $61,189 • Enrollment: 87 • Student teacher ratio: 3:1 • Location: Hamilton, New Jersey \\n Courtesy of Newgrange School via Facebook \\n 15. The Storm King School• Yearly tuition: $61,700 • Enrollment: 198 • Student teacher ratio: 4:1 • Location: Cornwall-on-Hudson, New York \\n Courtesy of The Storm King School via Facebook \\n 13. St. Paul's School (tied) • Yearly tuition: $62,000 • Enrollment: 534 • Student teacher ratio: 5:1 • Location: Concord, New Hampshire \\n Courtesy of St. Paul's School via Facebook \\n 13. Trinity-Pawling School (tied) • Yearly tuition: $62,000 • Enrollment: 286 • Student teacher ratio: 6:1 • Location: Pawling, New York \\n Courtesy of Trinity-Pawling School via Facebook \\n 12. Wasatch Academy• Yearly tuition: $62,300 • Enrollment: 296 • Student teacher ratio: 6:1 • Location: Mt Pleasant, Utah \\n Courtesy of Wasatch Academy via Facebook \\n 11. Aaron School• Yearly tuition: $62,750 • Enrollment: 152 • Student teacher ratio: 3:1 • Location: New York, New York \\n Courtesy of Aaron School via Facebook \\n 10. IMG Academy• Yearly tuition: $63,000 • Enrollment: 994 • Student teacher ratio: 12:1 • Location: Bradenton, Florida \\n Courtesy of IMG Academy via Facebook \\n 9. Berkshire School• Yearly tuition: $64,200 • Enrollment: 408 • Student teacher ratio: 5:1 • Location: Sheffield, Massachusetts \\n Courtesy of Berkshire School via Facebook \\n 8. The Lang School• Yearly tuition: $65,000 • Enrollment: 50 • Student teacher ratio: 2:1 • Location: New York, New York \\n Courtesy of The Lang School via Facebook \\n 7. Mary McDowell Friends School• Yearly tuition: $66,010 • Enrollment: 398 • Student teacher ratio: 4:1 • Location: Brooklyn, New York \\n Courtesy of Mary McDowell Friends School via Facebook \\n 6. The Oxford Academy• Yearly tuition: $67,000 • Enrollment: 48 • Student teacher ratio: 2:1 • Location: Westbrook, Connecticut \\n Courtesy of The Oxford Academy via Facebook \\n 5. The Woodhall School• Yearly tuition: $74,500 • Enrollment: 42 • Student teacher ratio: 3:1 • Location: Bethlehem, Connecticut \\n Courtesy of The Woodhall School via Facebook \\n 4. The Quad Preparatory School• Yearly tuition: $74,850 • Enrollment: 113 • Student teacher ratio: 2:1 • Location: New York, New York \\n Courtesy of The Quad Preparatory School via Facebook \\n 3. Brehm Preparatory School• Yearly tuition: $77,500 • Enrollment: 64 • Student teacher ratio: 4:1 • Location: Carbondale, Illinois \\n Courtesy of Brehm Preparatory School via Facebook \\n 2. Forman School• Yearly tuition: $78,600 • Enrollment: 230 • Student teacher ratio: 3:1 • Location: Litchfield, Connecticut \\n Courtesy of Forman School via Facebook \\n 1. Shortridge Academy• Yearly tuition: $85,000 • Enrollment: 40 • Student teacher ratio: 5:1 • Location: Milton, New Hampshire \\n Courtesy of Shortridge Academy via Facebook \\n Interested in this topic? You may also want to view these photo galleries: \\n Replay\",\n",
              "  {'cats': {'Business': 1.0}}),\n",
              " (\"Gilbert home features graffiti inspired by Warhol and Basquiat.FacebookEmail Twitter Google+ LinkedIn Pinterest \\n Interior graffiti wall is the star of Gilbert couple’s art-filled home. Take a look \\n A couple enlisted Chandler artist Beau Bernd to paint a mural inside their art-filled Gilbert home. Bernd drew inspiration from Warhol and Basquiat. \\n Post to Facebook \\n Interior graffiti wall is the star of Gilbert couple’s art-filled home. Take a look   A couple enlisted Chandler artist Beau Bernd to paint a mural inside their art-filled Gilbert home. Bernd drew inspiration from Warhol and Basquiat.    Check out this story on azcentral.com: https://www.azcentral.com/story/money/real-estate/cool-home/2019/09/05/gilbert-home-graffiti-inspired-andy-warhol-jean-michel-basquiat/2203751001/ \\n CancelSend \\n A link has been sent to your friend's email address. \\n Posted! \\n A link has been posted to your Facebook feed. \\n Join the Conversation\",\n",
              "  {'cats': {'Entertainment': 1.0}}),\n",
              " (\"Yuma home invader attempts molestation, broke in through children's bedroom window.FacebookEmail Twitter Google+ LinkedIn Pinterest \\n Yuma PD: Man breaks into house through children's bedroom window, attempts to molest kids \\n A 32-year-old man was arrested in connection with breaking into a home and attempting to molest two children under the age of 10. \\n Post to Facebook \\n Yuma PD: Man breaks into house through children's bedroom window, attempts to molest kids   A 32-year-old man was arrested in connection with breaking into a home and attempting to molest two children under the age of 10.    Check out this story on azcentral.com: https://www.azcentral.com/story/news/local/arizona-breaking/2019/09/04/man-breaks-into-yuma-house-through-childrens-bedroom-window-attempts-molestation/2213099001/ \\n CancelSend \\n A link has been sent to your friend's email address. \\n Posted! \\n A link has been posted to your Facebook feed. \\n Join the Conversation\",\n",
              "  {'cats': {'Crime/accident/disaster': 1.0}}),\n",
              " (\"Officer Justin Wechsler killed Rene Enrique Ruiz,  says.FacebookEmail Twitter Google+ LinkedIn Pinterest \\n Phoenix police ID officer who fatally shot homicide suspect \\n Phoenix police have released the identity of one of its officers who fatally shot a homicide suspect last week after he reportedly shot\\xa0at the police officer. \\n Post to Facebook \\n Phoenix police ID officer who fatally shot homicide suspect   Phoenix police have released the identity of one of its officers who fatally shot a homicide suspect last week after he reportedly shot\\xa0at the police officer.    Check out this story on azcentral.com: https://www.azcentral.com/story/news/local/phoenix/2019/09/04/phoenix-police-id-officer-who-fatally-shot-homicide-suspect/2217296001/ \\n CancelSend \\n A link has been sent to your friend's email address. \\n Posted! \\n A link has been posted to your Facebook feed. \\n Join the Conversation\",\n",
              "  {'cats': {'Crime/accident/disaster': 1.0}}),\n",
              " ('Arizona Public Service spent 6 hours not answering important questions.Jeff Guldner, who will become CEO of Arizona Public Service and its parent company, Pinnacle West Capital Corp., in November of 2019, answers a question before the Arizona Corporation Commission in Phoenix on Sept. 4, 2019. \\n Tom Tingle/The Republic \\n Don Brandt, CEO of Arizona Public Service and its parent company, Pinnacle West Capital Corp., appears before the Arizona Corporation Commission in Phoenix on Sept. 4, 2019. \\n Tom Tingle/The Republic \\n Don Brandt, CEO of Arizona Public Service and its parent company, Pinnacle West Capital Corp., appears before the Arizona Corporation Commission in Phoenix on Sept. 4, 2019. \\n Tom Tingle/The Republic \\n Arizona Corporation Commissioner Sandra Kennedy questions Don Brandt, CEO of Arizona Public Service and its parent company, Pinnacle West Capital Corp., at the Arizona Corporation Commission in Phoenix on Sept. 4, 2019. \\n Tom Tingle/The Republic \\n Arizona Corporation Commissioner Sandra Kennedy questions Don Brandt, CEO of Arizona Public Service and its parent company, Pinnacle West Capital Corp., at the Arizona Corporation Commission in Phoenix on Sept. 4, 2019. \\n Tom Tingle/The Republic \\n Don Brandt, CEO of Arizona Public Service and its parent company, Pinnacle West Capital Corp., appears before the Arizona Corporation Commission in Phoenix on Sept. 4, 2019. \\n Tom Tingle/The Republic \\n Arizona Corporation Commissioner Sandra Kennedy questions Don Brandt, CEO of Arizona Public Service and its parent company, Pinnacle West Capital Corp., at the Arizona Corporation Commission in Phoenix on Sept. 4, 2019. \\n Tom Tingle/The Republic \\n Don Brandt, CEO of Arizona Public Service and its parent company, Pinnacle West Capital Corp., wraps up the morning session before the Arizona Corporation Commission in Phoenix, Wednesday on Sept. 4, 2019. \\n Tom Tingle/The Republic \\n Arizona Corporation Commissioner Lea Marquez Peterson makes an opening statement as Don Brandt, CEO of Arizona Public Service and its parent company, Pinnacle West Capital Corp., appears at the Arizona Corporation Commission in Phoenix on Sept. 4, 2019. \\n Tom Tingle/The Republic \\n Don Brandt, CEO of Arizona Public Service and its parent company, Pinnacle West Capital Corp., leaves after answering questions at the morning session of the Arizona Corporation Commission in Phoenix on Sept. 4, 2019. \\n Tom Tingle/The Republic \\n Arizona Corporation Commissioner Boyd Dunn asks Don Brandt, CEO of Arizona Public Service and its parent company, Pinnacle West Capital Corp., a question at the Arizona Corporation Commission in Phoenix on Sept. 4, 2019. \\n Tom Tingle/The Republic \\n Arizona Corporation Commissioner Boyd Dunn asks Don Brandt, CEO of Arizona Public Service and its parent company, Pinnacle West Capital Corp., a question at the Arizona Corporation Commission in Phoenix on Sept. 4, 2019. \\n Tom Tingle/The Republic \\n Arizona Corporation Commissioner Sandra Kennedy makes an opening statement as Don Brandt, CEO of Arizona Public Service and its parent company, Pinnacle West Capital Corp., appears before the Arizona Corporation Commission in Phoenix on Sept. 4, 2019. \\n Tom Tingle/The Republic \\n Don Brandt, CEO of Arizona Public Service and its parent company, Pinnacle West Capital Corp., appears before the Arizona Corporation Commission in Phoenix on Sept. 4, 2019. \\n Tom Tingle/The Republic \\n Don Brandt, CEO of Arizona Public Service and its parent company, Pinnacle West Capital Corp., appears before the Arizona Corporation Commission in Phoenix on Sept. 4, 2019. \\n Tom Tingle/The Republic \\n Don Brandt, CEO of Arizona Public Service and its parent company, Pinnacle West Capital Corp., appears before the Arizona Corporation Commission in Phoenix on Sept. 4, 2019. \\n Tom Tingle/The Republic \\n Arizona Corporation Commission Chairman Robert Burns questions Don Brandt, CEO of Arizona Public Service and its parent company, Pinnacle West Capital Corp. at the Arizona Corporation Commission in Phoenix on Sept. 4, 2019. \\n Tom Tingle/The Republic \\n Don Brandt, CEO of Arizona Public Service and its parent company, Pinnacle West Capital Corp., is sworn in before the Arizona Corporation Commission in Phoenix on Sept. 4, 2019. \\n Tom Tingle/The Republic \\n Arizona Corporation Commission Chairman Robert Burns questions Don Brandt, CEO of Arizona Public Service and its parent company, Pinnacle West Capital Corp. at the Arizona Corporation Commission in Phoenix on Sept. 4, 2019. \\n Tom Tingle/The Republic \\n Don Brandt, CEO of Arizona Public Service and its parent company, Pinnacle West Capital Corp., gives his opening comments before the Arizona Corporation Commission in Phoenix on Sept. 4, 2019. \\n Tom Tingle/The Republic \\n Don Brandt, CEO of Arizona Public Service and its parent company, Pinnacle West Capital Corp., appears before the Arizona Corporation Commission in Phoenix on Sept. 4, 2019. \\n Tom Tingle/The Republic \\n Don Brandt, CEO of Arizona Public Service and its parent company, Pinnacle West Capital Corp., appears before the Arizona Corporation Commission in Phoenix on Sept. 4, 2019. \\n Tom Tingle/The Republic \\n A small crowd listens as Don Brandt, CEO of Arizona Public Service and its parent company, Pinnacle West Capital Corp., answers questions before the  Arizona Corporation Commission in Phoenix on Sept. 4, 2019. \\n Tom Tingle/The Republic \\n Interested in this topic? You may also want to view these photo galleries: \\n Replay',\n",
              "  {'cats': {'Politics': 1.0}}),\n",
              " (\"US Open: Serena Williams needs just 44 minutes to reach semifinals.FacebookEmail Twitter Google+ LinkedIn Pinterest \\n Serena Williams destroys Wang Qiang in 44 minutes, 6-1, 6-0 to reach US Open semifinals \\n Serena Williams' game was untouchable as she advanced to the US Open semifinals by obliterating Wang Qiang in straight sets. \\n Post to Facebook \\n Serena Williams destroys Wang Qiang in 44 minutes, 6-1, 6-0 to reach US Open semifinals   Serena Williams' game was untouchable as she advanced to the US Open semifinals by obliterating Wang Qiang in straight sets.    Check out this story on azcentral.com: https://www.usatoday.com/story/sports/tennis/2019/09/03/serena-williams-wang-qiang-us-open/2204237001/ \\n CancelSend \\n A link has been sent to your friend's email address. \\n Posted! \\n A link has been posted to your Facebook feed. \\n Join the Conversation\",\n",
              "  {'cats': {'Sports': 1.0}}),\n",
              " ('Prosecutor asks Mass. high court to address ‘straight pride’ parade spat .Prosecutor asks Mass. high court to address ‘straight pride’ parade spat \\n Michael Dwyer | AP \\n Michael Dwyer | AP \\n Counterprotesters, including one wearing a horse mask, line the route of the Straight Pride Parade in Boston on Saturday. \\n Philip Marcelo, The Associated Press • \\n September 5, 2019 7:41 am \\n BOSTON — Boston’s district attorney has asked Massachusetts’ highest court to intervene in a dispute with a lower court judge over the arrest of counterprotesters during a “straight pride” parade in Boston over Labor Day weekend. \\n Suffolk County District Attorney Rachael Rollins filed an emergency petition Wednesday asking the Supreme Judicial Court to compel the lower court to accept her request not to prosecute at least one counterprotester charged with disorderly conduct following Saturday’s parade, which was meant to be a counterpoint to gay pride parades and drew a few hundred participants but hundreds more counterprotesters. \\n Rollins argued that Boston Municipal Court Judge Richard Sinnott overstepped his constitutional authority in refusing to recognize her office’s request. \\n “In so doing, the judge ignored the clear and unambiguous constraints placed on the judiciary” by the Massachusetts Declaration of Rights, Rollins wrote. \\n The filing of a “nolle prosequi” by her office, she said, is a “constitutionally protected action that affords the prosecutor the right to exercise her judgment in the prosecution of cases and the allocation of limited prosecutorial resources to protect public safety.” \\n Court spokespersons representing Sinnott and the high court didn’t respond to an email seeking comment late Wednesday night. \\n While the emergency petition focuses on a single case, Rollins hopes it sets a precedent that will benefit other counterprotesters facing similar minor charges. \\n “The power to pursue prosecution falls exclusively on the executive branch, not the judiciary,” she said in a statement. “My petition is a call for order to be returned to our courts, to ensure the fair administration of justice, and to restore the public’s trust in the integrity of our legal system.” \\n The dispute between Rollins and Sinnott began Tuesday when the judge denied her request to dismiss charges in at least seven of the 36 cases stemming from the parade. \\n Rollins promised she’d take other steps to get the charges dropped. \\n Then on Wednesday, Sinnott held defense lawyer Susan Church in contempt after he denied Rollins’ office request to drop charges against her client, who was a counterprotester. \\n Sinnott had Church handcuffed and detained for about two hours because she began reading from case law suggesting he had no authority to overrule Rollins’ decision not to prosecute the case. \\n A labor union representing Boston police officers, meanwhile, cheered Sinnott’s hardline stance. \\n The Boston Police Patrolmen’s Association had called for the prosecutions of everyone arrested at the parade after, it said, officers were pelted with rocks, bottles of urine and other unidentified materials as the parade wound down, injuring at least four officers. \\n “We think that these offenders, most of them not residents of Boston, came here as agitators,” Lawrence Calderone, the union’s vice president told The Boston Globe on Tuesday. They came here to “create havoc,” he said. \\n Mayor Marty Walsh has said the police department is also looking into complaints of police misconduct, including the use of pepper spray on counterprotesters. \\n The court spat is the latest tussle between Rollins, whose office handles prosecutions in Boston and some surrounding communities, and the state’s judicial and law enforcement establishment. \\n Shortly after being elected in November, Rollins, a Democrat, listed 15 nonviolent offenses her office would no longer prosecute, including drug possession, shoplifting and trespassing. \\n The memo drew criticism from Republican Gov. Charlie Baker’s administration, which said the approach could undermine efforts to address the national opioid epidemic and put some crime victims at risk. \\n Rollins also joined advocates for immigrants and another Massachusetts district attorney in successfully suing to prevent federal immigration agents from carrying out civil arrests in state courthouses. \\n While her office has moved to drop charges against some of Saturday’s protesters, Rollins is still pursuing charges against those facing more serious offenses. \\n Among them were three men arraigned Tuesday on charges of assault and battery on a police officer. The men were ordered by a judge not to set foot again in Boston except for required court appearances, or else face jail time. \\n “Make no mistake: some people were appropriately arraigned and will be held accountable for actions that put the safety of the public and law enforcement at risk,” Rollins said Tuesday.',\n",
              "  {'cats': {'Politics': 1.0}}),\n",
              " ('Portland allocates more than $900K in donations to asylum seekers .Portland allocates more than $900K in donations to asylum seekers \\n Troy R. Bennett  |  BDN \\n Troy R. Bennett  |  BDN \\n Kimangu Nzenza Pitagor of Angola (right) holds his daughter Victoria, 2, while telling his story to reporters at an emergency shelter inside the Portland Expo building in this June 19, 2019, file photo. A fellow Angola, named Alphonse (left) smiles. \\n The Associated Press • \\n September 5, 2019 2:43 pm \\n The Portland City Council will allocate more than $900,000 in private donations to the more than 400 asylum seekers that arrived this summer. \\n The council voted unanimously on Wednesday to accept the donations and put the money into the city’s Health and Human Services budget to use it for sheltering and basic needs for migrant families. They arrived primarily from the Democratic Republic of Congo and Angola. \\n The Portland Press Herald reports the city was informed in June by Texas officials that large groups of African migrant families had crossed the U.S. southern border and were headed to Portland. \\n City Manager Jon Jennings had declared an emergency and opened a shelter at the Portland Expo. \\n From June to August, nearly 450 migrants have checked into the Expo.',\n",
              "  {'cats': {'Politics': 1.0}}),\n",
              " ('Task force seeks solutions to changing ATV culture in Maine .Task force seeks solutions to changing ATV culture in Maine \\n Gabor Degre  |  BDN \\n Gabor Degre  |  BDN \\n A group stops for a break after an ATV ride to Abbot in this BDN file photo. \\n By John Holyoke , BDN Staff • \\n September 5, 2019 3:15 pm \\n AUGUSTA, Maine — Sixteen years ago, the last time a governor-initiated group attempted to better understand a growing ATV community in the state, the machines that riders were taking into the woods were small, light and mobile. \\n That’s not the case anymore. And that’s why an ATV task force formed by Maine Gov. Janet Mills is tackling a new slate of ATV issues related to bigger, wider and heavier machines that have simply outgrown the existing ATV trail system. \\n Thirteen members of that task force, which will report back to the legislature in January, met for the first time at the Sportsman’s Alliance of Maine’s headquarters Monday. During that meeting, they began seeking solutions to a problem spawned by the sport’s popularity and the sheer physical growth of the machines. \\n The task force includes governmental representatives, as well as representatives of the forest products industry, Maine farmers, ATV clubs and ATV dealers. \\n One of the key factors that has led to this task force: The rapid proliferation of “side-by-side” ATVs, which look like dune buggies. Those machines are wider and larger than more traditional ATVs, which required a passenger to sit behind the driver on a motorcycle-style seat. \\n “[Manufacturers] started making [side-by-sides] in the mid-2000s, but nobody made them wider than 60 inches until 2012,” said task force member Brian Bronson of the Maine Department of Agriculture, Conservation and Forestry. “And when we met last time [when a task force was formed in 2003], the widest machine was 50 inches.” \\n Now, many side-by-side ATVs are 60 inches wide, and a few are wider than 65 inches. \\n Task force member Tom Doak of Maine Woodland Owners said the landowners he represents have struggled to cope with that new reality. \\n “A landowner who thought they knew what an ATV was, then they see a six-passenger vehicle go by [on their land] … that’s not an ATV to most people I know,” Doak said. \\n A problem the task force will have to deal with, members said, is deciding if weight limits are necessary, and deciding what that limit might be. \\n David Jones of the Jackman Border Riders Club said outlawing the use of machines that have already been sold would cost consumers thousands of dollars and should be avoided. \\n That did not seem to be the goal of the task force, which instead is seeking a consensus and a tenable path forward. \\n James Bryant, task force co-chairman, works for American Forest Management, which manages more than 1 million acres of Maine land. \\n “The machines are getting bigger, and more popular and more powerful. They can take four or five people at a time. They’ve outgrown the trails that we designed,” Bryant said. \\n Bryant said heavier machines can degrade dirt roads and trails, and lead to water quality problems in nearby streams. And the vastly different kinds of ATVs on the market means a new plan for ATVing’s future in Maine is needed. \\n “It’s now time to revisit the issues and make sure that we’re keeping up with the times,” he said. \\n Bryant said that some landowners already restrict the size and type of ATVs they will allow on their trails, which has led to wide variation on trails across the state. \\n A problem with a one-size-fits-all approach to rules, Bronson said. \\n “I’ve got landowners who say they don’t want [ATVs] over 60 inches, and I’ve got another landowner who says, ‘My ATV is 64, so I don’t want that rule,’” Bronson said. \\n Back in 2002, just before the first task force was convened, a total of 52,830 ATVs were registered in Maine, and those riders had just 2,200 miles of actual ATV trails to ride on. In 2018-19, 72,076 ATVs were registered and after local club members had spent a decade and a half building alliances with landowners and constructing trails, those riders could access more than 6,000 miles of trails. \\n Dave Chabot, a landowner relations specialist for the Maine Warden Service, said it will be important to establish some rules about trails and the machines that will be allowed to use them, but it’s also important to make sure those who want to ride in Maine understand what they’re going to find. \\n “You want to ride in Maine? We’re not the dunes of the west,” Chabot said. “We have trees on our trails.” \\n Tim Peabody, the deputy commissioner of the Maine Department of Inland Fisheries and co-chairman of the task force, said the task force was spawned by a tumultuous meeting that arose after debate on a number of ATV-related bills that were in front of the Maine Legislature. \\n “From my experience, [the issues were] not going to be solved in a back room by 12 people in disagreement,” Peabody said. \\n Peabody also served on the last state ATV task force when it was formed in 2003.',\n",
              "  {'cats': {'Politics': 1.0}})]"
            ]
          },
          "metadata": {
            "tags": []
          },
          "execution_count": 27
        }
      ]
    },
    {
      "cell_type": "code",
      "metadata": {
        "id": "cc4otoP3grRF",
        "colab_type": "code",
        "outputId": "9b5f109e-e4fe-467f-e915-f00321accfe2",
        "colab": {
          "base_uri": "https://localhost:8080/",
          "height": 34
        }
      },
      "source": [
        "len(TRAIN_DATA)"
      ],
      "execution_count": 28,
      "outputs": [
        {
          "output_type": "execute_result",
          "data": {
            "text/plain": [
              "1110"
            ]
          },
          "metadata": {
            "tags": []
          },
          "execution_count": 28
        }
      ]
    },
    {
      "cell_type": "code",
      "metadata": {
        "id": "vhLCJiZeguYI",
        "colab_type": "code",
        "colab": {}
      },
      "source": [
        "SAMPLE_TRAIN_DATA = TRAIN_DATA"
      ],
      "execution_count": 0,
      "outputs": []
    },
    {
      "cell_type": "code",
      "metadata": {
        "id": "tTRIjsxHVfRx",
        "colab_type": "code",
        "colab": {}
      },
      "source": [
        "optimizer = nlp.resume_training()\n",
        "for i in range(10):\n",
        "  random.shuffle(SAMPLE_TRAIN_DATA)\n",
        "  losses = {}\n",
        "  for batch in minibatch(SAMPLE_TRAIN_DATA, size=8):\n",
        "    texts, cats = zip(*batch)\n",
        "    nlp.update(texts, cats, sgd=optimizer, losses=losses)\n",
        "  print(i, losses)"
      ],
      "execution_count": 0,
      "outputs": []
    },
    {
      "cell_type": "code",
      "metadata": {
        "colab_type": "code",
        "id": "ZVpyXIaSf-VH",
        "colab": {}
      },
      "source": [
        "sample_doc = data_df.sample(n=1).iloc[0]\n",
        "doc = nlp(sample_doc.cleaned_all_text)"
      ],
      "execution_count": 0,
      "outputs": []
    },
    {
      "cell_type": "code",
      "metadata": {
        "id": "UmpKBoG_fhrZ",
        "colab_type": "code",
        "colab": {}
      },
      "source": [
        ""
      ],
      "execution_count": 0,
      "outputs": []
    }
  ]
}