{
 "cells": [
  {
   "cell_type": "code",
   "execution_count": 1,
   "metadata": {},
   "outputs": [],
   "source": [
    "import spacy\n",
    "import pandas as pd\n",
    "import nltk\n",
    "from nltk.corpus import stopwords\n",
    "import re\n",
    "import numpy as np"
   ]
  },
  {
   "cell_type": "code",
   "execution_count": 2,
   "metadata": {},
   "outputs": [],
   "source": [
    "def readArticle(input_file_path):\n",
    "    \"\"\"\n",
    "        file path: where the input file located \n",
    "        \n",
    "        return: a dataframe\n",
    "    \"\"\"\n",
    "    file = open(input_file_path, 'r', encoding = 'utf8')\n",
    "    articles_dt = file.read().split('\\n')[:-1]\n",
    "    pubId, canonicalUrl,firstScrape,title,text,lang_reliability = [],[],[],[],[],[]\n",
    "    for article in articles_dt:    \n",
    "        row = article.split('\\t')\n",
    "        pubId.append(row[0])\n",
    "        canonicalUrl.append(row[4])\n",
    "        firstScrape.append(row[5])\n",
    "        lang_reliability.append(row[7])\n",
    "        title.append(row[8])\n",
    "        text.append(row[9])\n",
    "    articles_df = pd.DataFrame()\n",
    "    articles_df['pubId'], articles_df['canonicalUrl'], articles_df['firstScrape'], articles_df['title'], articles_df['text'], articles_df['lang_reliability']= pubId, canonicalUrl,firstScrape,title,text,lang_reliability\n",
    "    return articles_df"
   ]
  },
  {
   "cell_type": "code",
   "execution_count": 3,
   "metadata": {},
   "outputs": [],
   "source": [
    "## text normzalization\n",
    "STOPWORDS = set(stopwords.words('english'))\n",
    "def clean_text(text):\n",
    "    \"\"\"\n",
    "        text: a article \n",
    "        \n",
    "        return: normalized the text data\n",
    "    \"\"\"\n",
    "    text = re.sub(r\"[^\\w\\s]\", '', text) ## Remove all non-word characters (everything except numbers and letters)\n",
    "    text = text.lower() # lowercase text\n",
    "    text = ' '.join(word for word in text.split() if word not in STOPWORDS) # delete stopwords from text\n",
    "    #text = lemmatize_sentence(text)\n",
    "    return text"
   ]
  },
  {
   "cell_type": "code",
   "execution_count": 6,
   "metadata": {},
   "outputs": [],
   "source": [
    "# from the Naming clusters we realize some lemmalization issue. \n",
    "# in this function we will cusomized combine those words together\n",
    "customized_dict = {\"russian\":'russia',\"russians\":\"russia\",\"white house\":\"the white house\", \"us\":\"the united states\", \n",
    "                   \"american\":\"the united states\", \"america\":\"the united states\", \"republicans\":\"republican\",\n",
    "                   \"democrats\":\"democrat\", \"democratic\":\"democrat\",\"trump\":\"donald trump\", \"trumps\":\"donald trump\", \n",
    "                  \"putin\":\"vladimir putin\"}\n",
    "def cusomizedNameEntity(word):\n",
    "    if word in customized_dict.keys():\n",
    "        word = customized_dict[word]\n",
    "    return word"
   ]
  },
  {
   "cell_type": "code",
   "execution_count": 7,
   "metadata": {},
   "outputs": [],
   "source": [
    "# get the eneties for the whole data:text_df\n",
    "nlp = spacy.load(\"en_core_web_sm\")\n",
    "def getEntity(text_df):\n",
    "    entites_list = []\n",
    "    for text in text_df:\n",
    "        doc = nlp(text)\n",
    "        temp_list = []\n",
    "        #remove number from the entity list \n",
    "        for entity in doc.ents:\n",
    "            temp = re.sub('[^a-zA-Z ]+', '', entity.text).strip()\n",
    "            if temp != '':\n",
    "                temp_list.append(cusomizedNameEntity(temp))\n",
    "        entites_list.append(temp_list)\n",
    "    return entites_list"
   ]
  },
  {
   "cell_type": "code",
   "execution_count": 8,
   "metadata": {},
   "outputs": [],
   "source": [
    "#read data\n",
    "df = readArticle('../data/raw/articles.txt')"
   ]
  },
  {
   "cell_type": "code",
   "execution_count": 13,
   "metadata": {},
   "outputs": [
    {
     "data": {
      "text/plain": [
       "(213605,)"
      ]
     },
     "execution_count": 13,
     "metadata": {},
     "output_type": "execute_result"
    }
   ],
   "source": [
    "#normalize data\n",
    "text_df = df['text'].apply(clean_text)\n",
    "text_df.shape"
   ]
  },
  {
   "cell_type": "code",
   "execution_count": null,
   "metadata": {},
   "outputs": [],
   "source": [
    "#get entities\n",
    "entites_list = getEntity(text_df)"
   ]
  },
  {
   "cell_type": "code",
   "execution_count": null,
   "metadata": {},
   "outputs": [],
   "source": [
    "len(entites_list)"
   ]
  },
  {
   "cell_type": "code",
   "execution_count": null,
   "metadata": {},
   "outputs": [],
   "source": [
    "with open('../data/embedding/entites.txt', 'w') as f:\n",
    "    for item in entites_list:\n",
    "        f.write(\"%s\\n\" % item)"
   ]
  },
  {
   "cell_type": "code",
   "execution_count": null,
   "metadata": {},
   "outputs": [],
   "source": []
  }
 ],
 "metadata": {
  "kernelspec": {
   "display_name": "Python 3",
   "language": "python",
   "name": "python3"
  },
  "language_info": {
   "codemirror_mode": {
    "name": "ipython",
    "version": 3
   },
   "file_extension": ".py",
   "mimetype": "text/x-python",
   "name": "python",
   "nbconvert_exporter": "python",
   "pygments_lexer": "ipython3",
   "version": "3.6.5"
  }
 },
 "nbformat": 4,
 "nbformat_minor": 2
}
