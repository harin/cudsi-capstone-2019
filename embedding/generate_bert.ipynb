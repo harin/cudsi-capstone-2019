{
  "nbformat": 4,
  "nbformat_minor": 0,
  "metadata": {
    "colab": {
      "name": "generate_bert",
      "provenance": [],
      "include_colab_link": true
    },
    "kernelspec": {
      "name": "python3",
      "display_name": "Python 3"
    },
    "accelerator": "GPU"
  },
  "cells": [
    {
      "cell_type": "markdown",
      "metadata": {
        "id": "view-in-github",
        "colab_type": "text"
      },
      "source": [
        "<a href=\"https://colab.research.google.com/github/harin/cudsi-capstone-2019/blob/master/embedding/generate_bert.ipynb\" target=\"_parent\"><img src=\"https://colab.research.google.com/assets/colab-badge.svg\" alt=\"Open In Colab\"/></a>"
      ]
    },
    {
      "cell_type": "code",
      "metadata": {
        "id": "HC9XFyPsaBPm",
        "colab_type": "code",
        "outputId": "5cb7637a-3da1-4621-8aa7-24bfd41dc162",
        "colab": {
          "base_uri": "https://localhost:8080/",
          "height": 1000
        }
      },
      "source": [
        "!pip install spacy==2.2 spacy-transformers\n",
        "!python -m spacy download en_trf_bertbaseuncased_lg"
      ],
      "execution_count": 0,
      "outputs": [
        {
          "output_type": "stream",
          "text": [
            "Collecting spacy==2.2\n",
            "  Using cached https://files.pythonhosted.org/packages/1c/96/10881bc82d05664c40a38cf7c645e6ab1877e5808ef4a3684a99cd1445a4/spacy-2.2.0-cp36-cp36m-manylinux1_x86_64.whl\n",
            "Requirement already satisfied: spacy-transformers in /usr/local/lib/python3.6/dist-packages (0.5.1)\n",
            "Requirement already satisfied: numpy>=1.15.0 in /usr/local/lib/python3.6/dist-packages (from spacy==2.2) (1.17.4)\n",
            "Requirement already satisfied: preshed<3.1.0,>=3.0.2 in /usr/local/lib/python3.6/dist-packages (from spacy==2.2) (3.0.2)\n",
            "Requirement already satisfied: wasabi<1.1.0,>=0.2.0 in /usr/local/lib/python3.6/dist-packages (from spacy==2.2) (0.4.0)\n",
            "Requirement already satisfied: blis<0.5.0,>=0.4.0 in /usr/local/lib/python3.6/dist-packages (from spacy==2.2) (0.4.1)\n",
            "Requirement already satisfied: murmurhash<1.1.0,>=0.28.0 in /usr/local/lib/python3.6/dist-packages (from spacy==2.2) (1.0.2)\n",
            "Collecting thinc<7.2.0,>=7.1.1\n",
            "  Using cached https://files.pythonhosted.org/packages/4c/60/cbe7c1ca0d05e9861375fc9fe73f5c6828666bb994e193a80bce554c4004/thinc-7.1.1-cp36-cp36m-manylinux1_x86_64.whl\n",
            "Requirement already satisfied: plac<1.0.0,>=0.9.6 in /usr/local/lib/python3.6/dist-packages (from spacy==2.2) (0.9.6)\n",
            "Requirement already satisfied: requests<3.0.0,>=2.13.0 in /usr/local/lib/python3.6/dist-packages (from spacy==2.2) (2.21.0)\n",
            "Requirement already satisfied: cymem<2.1.0,>=2.0.2 in /usr/local/lib/python3.6/dist-packages (from spacy==2.2) (2.0.3)\n",
            "Requirement already satisfied: srsly<1.1.0,>=0.1.0 in /usr/local/lib/python3.6/dist-packages (from spacy==2.2) (0.2.0)\n",
            "Requirement already satisfied: transformers<2.1.0,>=2.0.0 in /usr/local/lib/python3.6/dist-packages (from spacy-transformers) (2.0.0)\n",
            "Requirement already satisfied: ftfy<6.0.0,>=5.0.0 in /usr/local/lib/python3.6/dist-packages (from spacy-transformers) (5.6)\n",
            "Requirement already satisfied: torchcontrib<0.1.0,>=0.0.2 in /usr/local/lib/python3.6/dist-packages (from spacy-transformers) (0.0.2)\n",
            "Requirement already satisfied: dataclasses<0.7,>=0.6; python_version < \"3.7\" in /usr/local/lib/python3.6/dist-packages (from spacy-transformers) (0.6)\n",
            "Requirement already satisfied: importlib-metadata>=0.20; python_version < \"3.8\" in /usr/local/lib/python3.6/dist-packages (from spacy-transformers) (0.23)\n",
            "Requirement already satisfied: torch>=1.0.0 in /usr/local/lib/python3.6/dist-packages (from spacy-transformers) (1.3.1)\n",
            "Requirement already satisfied: tqdm<5.0.0,>=4.10.0 in /usr/local/lib/python3.6/dist-packages (from thinc<7.2.0,>=7.1.1->spacy==2.2) (4.28.1)\n",
            "Requirement already satisfied: certifi>=2017.4.17 in /usr/local/lib/python3.6/dist-packages (from requests<3.0.0,>=2.13.0->spacy==2.2) (2019.9.11)\n",
            "Requirement already satisfied: urllib3<1.25,>=1.21.1 in /usr/local/lib/python3.6/dist-packages (from requests<3.0.0,>=2.13.0->spacy==2.2) (1.24.3)\n",
            "Requirement already satisfied: idna<2.9,>=2.5 in /usr/local/lib/python3.6/dist-packages (from requests<3.0.0,>=2.13.0->spacy==2.2) (2.8)\n",
            "Requirement already satisfied: chardet<3.1.0,>=3.0.2 in /usr/local/lib/python3.6/dist-packages (from requests<3.0.0,>=2.13.0->spacy==2.2) (3.0.4)\n",
            "Requirement already satisfied: regex in /usr/local/lib/python3.6/dist-packages (from transformers<2.1.0,>=2.0.0->spacy-transformers) (2019.11.1)\n",
            "Requirement already satisfied: sacremoses in /usr/local/lib/python3.6/dist-packages (from transformers<2.1.0,>=2.0.0->spacy-transformers) (0.0.35)\n",
            "Requirement already satisfied: sentencepiece in /usr/local/lib/python3.6/dist-packages (from transformers<2.1.0,>=2.0.0->spacy-transformers) (0.1.83)\n",
            "Requirement already satisfied: boto3 in /usr/local/lib/python3.6/dist-packages (from transformers<2.1.0,>=2.0.0->spacy-transformers) (1.10.18)\n",
            "Requirement already satisfied: wcwidth in /usr/local/lib/python3.6/dist-packages (from ftfy<6.0.0,>=5.0.0->spacy-transformers) (0.1.7)\n",
            "Requirement already satisfied: zipp>=0.5 in /usr/local/lib/python3.6/dist-packages (from importlib-metadata>=0.20; python_version < \"3.8\"->spacy-transformers) (0.6.0)\n",
            "Requirement already satisfied: click in /usr/local/lib/python3.6/dist-packages (from sacremoses->transformers<2.1.0,>=2.0.0->spacy-transformers) (7.0)\n",
            "Requirement already satisfied: joblib in /usr/local/lib/python3.6/dist-packages (from sacremoses->transformers<2.1.0,>=2.0.0->spacy-transformers) (0.14.0)\n",
            "Requirement already satisfied: six in /usr/local/lib/python3.6/dist-packages (from sacremoses->transformers<2.1.0,>=2.0.0->spacy-transformers) (1.12.0)\n",
            "Requirement already satisfied: botocore<1.14.0,>=1.13.18 in /usr/local/lib/python3.6/dist-packages (from boto3->transformers<2.1.0,>=2.0.0->spacy-transformers) (1.13.18)\n",
            "Requirement already satisfied: s3transfer<0.3.0,>=0.2.0 in /usr/local/lib/python3.6/dist-packages (from boto3->transformers<2.1.0,>=2.0.0->spacy-transformers) (0.2.1)\n",
            "Requirement already satisfied: jmespath<1.0.0,>=0.7.1 in /usr/local/lib/python3.6/dist-packages (from boto3->transformers<2.1.0,>=2.0.0->spacy-transformers) (0.9.4)\n",
            "Requirement already satisfied: more-itertools in /usr/local/lib/python3.6/dist-packages (from zipp>=0.5->importlib-metadata>=0.20; python_version < \"3.8\"->spacy-transformers) (7.2.0)\n",
            "Requirement already satisfied: docutils<0.16,>=0.10 in /usr/local/lib/python3.6/dist-packages (from botocore<1.14.0,>=1.13.18->boto3->transformers<2.1.0,>=2.0.0->spacy-transformers) (0.15.2)\n",
            "Requirement already satisfied: python-dateutil<2.8.1,>=2.1; python_version >= \"2.7\" in /usr/local/lib/python3.6/dist-packages (from botocore<1.14.0,>=1.13.18->boto3->transformers<2.1.0,>=2.0.0->spacy-transformers) (2.6.1)\n",
            "\u001b[31mERROR: spacy-transformers 0.5.1 has requirement spacy<2.3.0,>=2.2.1, but you'll have spacy 2.2.0 which is incompatible.\u001b[0m\n",
            "\u001b[31mERROR: en-trf-bertbaseuncased-lg 2.2.0 has requirement spacy>=2.2.1, but you'll have spacy 2.2.0 which is incompatible.\u001b[0m\n",
            "\u001b[31mERROR: en-core-web-sm 2.2.5 has requirement spacy>=2.2.2, but you'll have spacy 2.2.0 which is incompatible.\u001b[0m\n",
            "Installing collected packages: thinc, spacy\n",
            "  Found existing installation: thinc 7.3.1\n",
            "    Uninstalling thinc-7.3.1:\n",
            "      Successfully uninstalled thinc-7.3.1\n",
            "  Found existing installation: spacy 2.2.3\n",
            "    Uninstalling spacy-2.2.3:\n",
            "      Successfully uninstalled spacy-2.2.3\n",
            "Successfully installed spacy-2.2.0 thinc-7.1.1\n",
            "Requirement already satisfied: en_trf_bertbaseuncased_lg==2.2.0 from https://github.com/explosion/spacy-models/releases/download/en_trf_bertbaseuncased_lg-2.2.0/en_trf_bertbaseuncased_lg-2.2.0.tar.gz#egg=en_trf_bertbaseuncased_lg==2.2.0 in /usr/local/lib/python3.6/dist-packages (2.2.0)\n",
            "Requirement already satisfied: spacy-transformers>=0.5.0 in /usr/local/lib/python3.6/dist-packages (from en_trf_bertbaseuncased_lg==2.2.0) (0.5.1)\n",
            "Collecting spacy>=2.2.1\n",
            "\u001b[?25l  Downloading https://files.pythonhosted.org/packages/47/13/80ad28ef7a16e2a86d16d73e28588be5f1085afd3e85e4b9b912bd700e8a/spacy-2.2.3-cp36-cp36m-manylinux1_x86_64.whl (10.4MB)\n",
            "\u001b[K     |████████████████████████████████| 10.4MB 5.6MB/s \n",
            "\u001b[?25hRequirement already satisfied: torchcontrib<0.1.0,>=0.0.2 in /usr/local/lib/python3.6/dist-packages (from spacy-transformers>=0.5.0->en_trf_bertbaseuncased_lg==2.2.0) (0.0.2)\n",
            "Requirement already satisfied: dataclasses<0.7,>=0.6; python_version < \"3.7\" in /usr/local/lib/python3.6/dist-packages (from spacy-transformers>=0.5.0->en_trf_bertbaseuncased_lg==2.2.0) (0.6)\n",
            "Requirement already satisfied: transformers<2.1.0,>=2.0.0 in /usr/local/lib/python3.6/dist-packages (from spacy-transformers>=0.5.0->en_trf_bertbaseuncased_lg==2.2.0) (2.0.0)\n",
            "Requirement already satisfied: ftfy<6.0.0,>=5.0.0 in /usr/local/lib/python3.6/dist-packages (from spacy-transformers>=0.5.0->en_trf_bertbaseuncased_lg==2.2.0) (5.6)\n",
            "Requirement already satisfied: srsly<1.1.0,>=0.0.7 in /usr/local/lib/python3.6/dist-packages (from spacy-transformers>=0.5.0->en_trf_bertbaseuncased_lg==2.2.0) (0.2.0)\n",
            "Requirement already satisfied: torch>=1.0.0 in /usr/local/lib/python3.6/dist-packages (from spacy-transformers>=0.5.0->en_trf_bertbaseuncased_lg==2.2.0) (1.3.1)\n",
            "Requirement already satisfied: importlib-metadata>=0.20; python_version < \"3.8\" in /usr/local/lib/python3.6/dist-packages (from spacy-transformers>=0.5.0->en_trf_bertbaseuncased_lg==2.2.0) (0.23)\n",
            "Requirement already satisfied: blis<0.5.0,>=0.4.0 in /usr/local/lib/python3.6/dist-packages (from spacy>=2.2.1->en_trf_bertbaseuncased_lg==2.2.0) (0.4.1)\n",
            "Requirement already satisfied: cymem<2.1.0,>=2.0.2 in /usr/local/lib/python3.6/dist-packages (from spacy>=2.2.1->en_trf_bertbaseuncased_lg==2.2.0) (2.0.3)\n",
            "Requirement already satisfied: catalogue<1.1.0,>=0.0.7 in /usr/local/lib/python3.6/dist-packages (from spacy>=2.2.1->en_trf_bertbaseuncased_lg==2.2.0) (0.0.8)\n",
            "Requirement already satisfied: requests<3.0.0,>=2.13.0 in /usr/local/lib/python3.6/dist-packages (from spacy>=2.2.1->en_trf_bertbaseuncased_lg==2.2.0) (2.21.0)\n",
            "Requirement already satisfied: murmurhash<1.1.0,>=0.28.0 in /usr/local/lib/python3.6/dist-packages (from spacy>=2.2.1->en_trf_bertbaseuncased_lg==2.2.0) (1.0.2)\n",
            "Requirement already satisfied: setuptools in /usr/local/lib/python3.6/dist-packages (from spacy>=2.2.1->en_trf_bertbaseuncased_lg==2.2.0) (41.6.0)\n",
            "Requirement already satisfied: wasabi<1.1.0,>=0.4.0 in /usr/local/lib/python3.6/dist-packages (from spacy>=2.2.1->en_trf_bertbaseuncased_lg==2.2.0) (0.4.0)\n",
            "Requirement already satisfied: plac<1.2.0,>=0.9.6 in /usr/local/lib/python3.6/dist-packages (from spacy>=2.2.1->en_trf_bertbaseuncased_lg==2.2.0) (0.9.6)\n",
            "Collecting thinc<7.4.0,>=7.3.0\n",
            "\u001b[?25l  Downloading https://files.pythonhosted.org/packages/07/59/6bb553bc9a5f072d3cd479fc939fea0f6f682892f1f5cff98de5c9b615bb/thinc-7.3.1-cp36-cp36m-manylinux1_x86_64.whl (2.2MB)\n",
            "\u001b[K     |████████████████████████████████| 2.2MB 48.7MB/s \n",
            "\u001b[?25hRequirement already satisfied: preshed<3.1.0,>=3.0.2 in /usr/local/lib/python3.6/dist-packages (from spacy>=2.2.1->en_trf_bertbaseuncased_lg==2.2.0) (3.0.2)\n",
            "Requirement already satisfied: numpy>=1.15.0 in /usr/local/lib/python3.6/dist-packages (from spacy>=2.2.1->en_trf_bertbaseuncased_lg==2.2.0) (1.17.4)\n",
            "Requirement already satisfied: boto3 in /usr/local/lib/python3.6/dist-packages (from transformers<2.1.0,>=2.0.0->spacy-transformers>=0.5.0->en_trf_bertbaseuncased_lg==2.2.0) (1.10.18)\n",
            "Requirement already satisfied: tqdm in /usr/local/lib/python3.6/dist-packages (from transformers<2.1.0,>=2.0.0->spacy-transformers>=0.5.0->en_trf_bertbaseuncased_lg==2.2.0) (4.28.1)\n",
            "Requirement already satisfied: sentencepiece in /usr/local/lib/python3.6/dist-packages (from transformers<2.1.0,>=2.0.0->spacy-transformers>=0.5.0->en_trf_bertbaseuncased_lg==2.2.0) (0.1.83)\n",
            "Requirement already satisfied: sacremoses in /usr/local/lib/python3.6/dist-packages (from transformers<2.1.0,>=2.0.0->spacy-transformers>=0.5.0->en_trf_bertbaseuncased_lg==2.2.0) (0.0.35)\n",
            "Requirement already satisfied: regex in /usr/local/lib/python3.6/dist-packages (from transformers<2.1.0,>=2.0.0->spacy-transformers>=0.5.0->en_trf_bertbaseuncased_lg==2.2.0) (2019.11.1)\n",
            "Requirement already satisfied: wcwidth in /usr/local/lib/python3.6/dist-packages (from ftfy<6.0.0,>=5.0.0->spacy-transformers>=0.5.0->en_trf_bertbaseuncased_lg==2.2.0) (0.1.7)\n",
            "Requirement already satisfied: zipp>=0.5 in /usr/local/lib/python3.6/dist-packages (from importlib-metadata>=0.20; python_version < \"3.8\"->spacy-transformers>=0.5.0->en_trf_bertbaseuncased_lg==2.2.0) (0.6.0)\n",
            "Requirement already satisfied: certifi>=2017.4.17 in /usr/local/lib/python3.6/dist-packages (from requests<3.0.0,>=2.13.0->spacy>=2.2.1->en_trf_bertbaseuncased_lg==2.2.0) (2019.9.11)\n",
            "Requirement already satisfied: idna<2.9,>=2.5 in /usr/local/lib/python3.6/dist-packages (from requests<3.0.0,>=2.13.0->spacy>=2.2.1->en_trf_bertbaseuncased_lg==2.2.0) (2.8)\n",
            "Requirement already satisfied: urllib3<1.25,>=1.21.1 in /usr/local/lib/python3.6/dist-packages (from requests<3.0.0,>=2.13.0->spacy>=2.2.1->en_trf_bertbaseuncased_lg==2.2.0) (1.24.3)\n",
            "Requirement already satisfied: chardet<3.1.0,>=3.0.2 in /usr/local/lib/python3.6/dist-packages (from requests<3.0.0,>=2.13.0->spacy>=2.2.1->en_trf_bertbaseuncased_lg==2.2.0) (3.0.4)\n",
            "Requirement already satisfied: s3transfer<0.3.0,>=0.2.0 in /usr/local/lib/python3.6/dist-packages (from boto3->transformers<2.1.0,>=2.0.0->spacy-transformers>=0.5.0->en_trf_bertbaseuncased_lg==2.2.0) (0.2.1)\n",
            "Requirement already satisfied: jmespath<1.0.0,>=0.7.1 in /usr/local/lib/python3.6/dist-packages (from boto3->transformers<2.1.0,>=2.0.0->spacy-transformers>=0.5.0->en_trf_bertbaseuncased_lg==2.2.0) (0.9.4)\n",
            "Requirement already satisfied: botocore<1.14.0,>=1.13.18 in /usr/local/lib/python3.6/dist-packages (from boto3->transformers<2.1.0,>=2.0.0->spacy-transformers>=0.5.0->en_trf_bertbaseuncased_lg==2.2.0) (1.13.18)\n",
            "Requirement already satisfied: click in /usr/local/lib/python3.6/dist-packages (from sacremoses->transformers<2.1.0,>=2.0.0->spacy-transformers>=0.5.0->en_trf_bertbaseuncased_lg==2.2.0) (7.0)\n",
            "Requirement already satisfied: six in /usr/local/lib/python3.6/dist-packages (from sacremoses->transformers<2.1.0,>=2.0.0->spacy-transformers>=0.5.0->en_trf_bertbaseuncased_lg==2.2.0) (1.12.0)\n",
            "Requirement already satisfied: joblib in /usr/local/lib/python3.6/dist-packages (from sacremoses->transformers<2.1.0,>=2.0.0->spacy-transformers>=0.5.0->en_trf_bertbaseuncased_lg==2.2.0) (0.14.0)\n",
            "Requirement already satisfied: more-itertools in /usr/local/lib/python3.6/dist-packages (from zipp>=0.5->importlib-metadata>=0.20; python_version < \"3.8\"->spacy-transformers>=0.5.0->en_trf_bertbaseuncased_lg==2.2.0) (7.2.0)\n",
            "Requirement already satisfied: docutils<0.16,>=0.10 in /usr/local/lib/python3.6/dist-packages (from botocore<1.14.0,>=1.13.18->boto3->transformers<2.1.0,>=2.0.0->spacy-transformers>=0.5.0->en_trf_bertbaseuncased_lg==2.2.0) (0.15.2)\n",
            "Requirement already satisfied: python-dateutil<2.8.1,>=2.1; python_version >= \"2.7\" in /usr/local/lib/python3.6/dist-packages (from botocore<1.14.0,>=1.13.18->boto3->transformers<2.1.0,>=2.0.0->spacy-transformers>=0.5.0->en_trf_bertbaseuncased_lg==2.2.0) (2.6.1)\n",
            "Installing collected packages: thinc, spacy\n",
            "  Found existing installation: thinc 7.1.1\n",
            "    Uninstalling thinc-7.1.1:\n",
            "      Successfully uninstalled thinc-7.1.1\n",
            "  Found existing installation: spacy 2.2.0\n",
            "    Uninstalling spacy-2.2.0:\n",
            "      Successfully uninstalled spacy-2.2.0\n",
            "Successfully installed spacy-2.2.3 thinc-7.3.1\n",
            "\u001b[38;5;2m✔ Download and installation successful\u001b[0m\n",
            "You can now load the model via spacy.load('en_trf_bertbaseuncased_lg')\n"
          ],
          "name": "stdout"
        }
      ]
    },
    {
      "cell_type": "code",
      "metadata": {
        "id": "Aj93nf8Lakad",
        "colab_type": "code",
        "outputId": "636ae9c8-49ed-49a7-8d77-3f7f835159bd",
        "colab": {
          "base_uri": "https://localhost:8080/",
          "height": 121
        }
      },
      "source": [
        "from google.colab import drive\n",
        "drive.mount('/content/gdrive')"
      ],
      "execution_count": 0,
      "outputs": [
        {
          "output_type": "stream",
          "text": [
            "Go to this URL in a browser: https://accounts.google.com/o/oauth2/auth?client_id=947318989803-6bn6qk8qdgf4n4g3pfee6491hc0brc4i.apps.googleusercontent.com&redirect_uri=urn%3aietf%3awg%3aoauth%3a2.0%3aoob&response_type=code&scope=email%20https%3a%2f%2fwww.googleapis.com%2fauth%2fdocs.test%20https%3a%2f%2fwww.googleapis.com%2fauth%2fdrive%20https%3a%2f%2fwww.googleapis.com%2fauth%2fdrive.photos.readonly%20https%3a%2f%2fwww.googleapis.com%2fauth%2fpeopleapi.readonly\n",
            "\n",
            "Enter your authorization code:\n",
            "··········\n",
            "Mounted at /content/gdrive\n"
          ],
          "name": "stdout"
        }
      ]
    },
    {
      "cell_type": "code",
      "metadata": {
        "id": "6nRO8h_lbeue",
        "colab_type": "code",
        "outputId": "a497a145-959f-4bd6-ce96-8d4969adbfc8",
        "colab": {
          "base_uri": "https://localhost:8080/",
          "height": 96
        }
      },
      "source": [
        "import spacy\n",
        "is_using_gpu = spacy.prefer_gpu()\n",
        "if is_using_gpu:\n",
        "    torch.set_default_tensor_type(\"torch.cuda.FloatTensor\")\n",
        "\n",
        "nlp = spacy.load(\"en_trf_bertbaseuncased_lg\")\n",
        "doc = nlp(\"Apple shares rose on the news. Apple pie is delicious.\")\n",
        "print(doc[0].similarity(doc[7]))\n",
        "print(doc._.trf_last_hidden_state.shape)"
      ],
      "execution_count": 0,
      "outputs": [
        {
          "output_type": "display_data",
          "data": {
            "text/html": [
              "<p style=\"color: red;\">\n",
              "The default version of TensorFlow in Colab will soon switch to TensorFlow 2.x.<br>\n",
              "We recommend you <a href=\"https://www.tensorflow.org/guide/migrate\" target=\"_blank\">upgrade</a> now \n",
              "or ensure your notebook will continue to use TensorFlow 1.x via the <code>%tensorflow_version 1.x</code> magic:\n",
              "<a href=\"https://colab.research.google.com/notebooks/tensorflow_version.ipynb\" target=\"_blank\">more info</a>.</p>\n"
            ],
            "text/plain": [
              "<IPython.core.display.HTML object>"
            ]
          },
          "metadata": {
            "tags": []
          }
        },
        {
          "output_type": "stream",
          "text": [
            "0.5041006\n",
            "(16, 768)\n"
          ],
          "name": "stdout"
        }
      ]
    },
    {
      "cell_type": "code",
      "metadata": {
        "id": "0XoRC99Jbo1S",
        "colab_type": "code",
        "outputId": "83d59327-c6e5-45ca-e05e-45fc57964061",
        "colab": {
          "base_uri": "https://localhost:8080/",
          "height": 34
        }
      },
      "source": [
        "dirs(doc[0])"
      ],
      "execution_count": 0,
      "outputs": [
        {
          "output_type": "execute_result",
          "data": {
            "text/plain": [
              "[]"
            ]
          },
          "metadata": {
            "tags": []
          },
          "execution_count": 6
        }
      ]
    },
    {
      "cell_type": "code",
      "metadata": {
        "id": "qm6juYB5coNL",
        "colab_type": "code",
        "outputId": "173808d6-e329-40dc-fe84-ea01a961c3fc",
        "colab": {
          "base_uri": "https://localhost:8080/",
          "height": 1000
        }
      },
      "source": [
        "doc[0].tensor"
      ],
      "execution_count": 0,
      "outputs": [
        {
          "output_type": "execute_result",
          "data": {
            "text/plain": [
              "array([ 8.11704397e-01,  1.76520869e-02, -1.33570001e-01, -5.86767159e-02,\n",
              "        9.99733210e-01,  1.40545905e-01,  4.13097262e-01,  1.24671984e+00,\n",
              "       -1.10548191e-01, -2.55057782e-01,  3.72076154e-01, -4.47247654e-01,\n",
              "       -2.29001060e-01,  6.05916858e-01, -3.85589182e-01, -3.40647519e-01,\n",
              "       -2.97724724e-01,  1.05291581e+00, -1.18897177e-01, -2.27075871e-02,\n",
              "       -1.20696791e-01, -6.22191727e-01,  5.84125258e-02,  1.15239337e-01,\n",
              "        6.64814055e-01, -7.14252710e-01, -8.21750343e-01, -4.81725752e-01,\n",
              "       -3.17274511e-01, -4.83956076e-02, -6.92197680e-02,  3.55899841e-01,\n",
              "        2.59304374e-01,  2.42629424e-01, -8.21924329e-01, -4.26706403e-01,\n",
              "       -6.52516365e-01,  2.80679524e-01, -8.64305437e-01,  2.74663270e-01,\n",
              "       -1.55243710e-01, -9.29275572e-01,  6.57990992e-01, -4.91689071e-02,\n",
              "       -1.46509290e-01, -1.52108267e-01, -1.25101686e+00,  4.68670219e-01,\n",
              "        3.30374986e-01, -1.38513088e-01, -4.43823397e-01,  7.28103876e-01,\n",
              "        5.84599257e-01, -4.26122934e-01,  1.19507536e-01,  7.42583036e-01,\n",
              "        5.13473868e-01, -1.01045944e-01,  8.95497859e-01,  2.68512547e-01,\n",
              "       -1.82624400e-01, -4.87743132e-02,  4.39507455e-01, -6.27336204e-01,\n",
              "       -4.15676713e-01, -1.53407991e-01, -1.06994703e-01, -3.28600407e-04,\n",
              "       -9.76703763e-01,  7.01860860e-02,  1.26588672e-01, -1.31332552e+00,\n",
              "       -4.80937451e-01, -5.44993997e-01,  5.92513502e-01,  8.27889800e-01,\n",
              "       -1.33738220e-02,  6.97175682e-01,  6.31840706e-01, -3.50129902e-01,\n",
              "       -4.11596894e-01,  8.76806974e-01,  3.92646968e-01,  1.44096851e+00,\n",
              "       -1.28720462e-01, -3.06352656e-02, -5.90711355e-01, -4.57259893e-01,\n",
              "        8.48598957e-01,  5.13814926e-01, -9.46063697e-02, -2.63623148e-02,\n",
              "        6.72710776e-01,  4.93867695e-01, -4.55768704e-01, -3.16514492e-01,\n",
              "       -4.65471447e-01, -1.04043031e+00, -3.49382460e-01,  1.00116396e+00,\n",
              "        2.08683968e-01, -3.93188119e-01,  2.76023746e-02,  7.56353974e-01,\n",
              "       -5.53333879e-01, -5.65266870e-02, -9.04263020e-01,  2.10263163e-01,\n",
              "        3.33833337e-01, -1.05684233e+00,  5.89016318e-01,  1.30778432e-01,\n",
              "       -1.83744937e-01,  3.06153566e-01, -1.28174984e+00,  4.80747044e-01,\n",
              "        1.34699255e-01, -4.85148191e-01, -3.05696726e-01, -5.48815191e-01,\n",
              "       -1.09652482e-01,  1.50890911e+00, -1.37192950e-01,  1.47674346e+00,\n",
              "        2.91037738e-01, -5.82046747e-01,  4.70812857e-01,  4.14178744e-02,\n",
              "        4.86254841e-01, -5.68769872e-01, -3.97551417e-01,  9.75715816e-01,\n",
              "        4.54522431e-01, -4.76282537e-01, -1.02890238e-01,  5.51037371e-01,\n",
              "        3.92808095e-02,  1.74628228e-01, -5.13210356e-01,  2.54184790e-02,\n",
              "       -6.58399388e-02,  7.94674277e-01, -9.47002292e-01,  2.51348138e-01,\n",
              "        1.34049916e+00,  6.78666294e-01,  5.62404633e-01, -2.49266922e-01,\n",
              "       -1.39493808e-01,  1.41432807e-01, -9.94309783e-02, -2.13019371e-01,\n",
              "        8.75879601e-02, -2.12597489e-01,  2.85388917e-01,  2.85881102e-01,\n",
              "       -4.53268200e-01, -9.39121991e-02,  7.92047203e-01, -2.02263892e-03,\n",
              "        5.64882696e-01,  7.29928017e-02, -1.81451127e-01,  4.35601443e-01,\n",
              "       -6.03244781e-01,  6.88593209e-01,  3.59524190e-01,  1.99445739e-01,\n",
              "       -2.93948259e-02, -1.73814163e-01, -5.19787520e-03, -1.85461640e-01,\n",
              "        3.51554930e-01,  1.74041733e-01, -3.40302199e-01,  8.57811391e-01,\n",
              "       -1.02647357e-02, -2.84938246e-01,  7.12534785e-01,  7.65892506e-01,\n",
              "       -1.37391949e+00,  2.02891290e-01,  1.06877267e+00,  8.15829396e-01,\n",
              "       -6.39748693e-01, -8.23262870e-01,  1.17447209e+00, -5.01275003e-01,\n",
              "        3.97240698e-01, -7.72434473e-02, -9.04082954e-01, -8.85688186e-01,\n",
              "       -1.13266908e-01,  3.44413102e-01,  1.55634433e-01, -1.19959426e+00,\n",
              "       -9.24731791e-02, -2.62028188e-01,  8.76502767e-02, -1.22695304e-02,\n",
              "       -1.70107279e-02, -2.50955820e-01, -3.03584695e-01, -6.87933564e-01,\n",
              "       -1.08007228e+00,  8.12656879e-01, -2.72150934e-01, -5.31389773e-01,\n",
              "       -9.96431291e-01, -3.91006321e-02, -6.43267274e-01,  3.77733827e-01,\n",
              "       -9.51026473e-03, -1.19559914e-01,  4.22239810e-01, -8.21440816e-02,\n",
              "       -4.17486846e-01, -7.34275460e-01, -6.14268005e-01, -1.55137599e-01,\n",
              "       -1.97777152e-01, -3.53935063e-01, -3.08030456e-01,  8.13945711e-01,\n",
              "       -1.45740166e-01,  1.54204392e+00,  5.30385256e-01,  5.37128866e-01,\n",
              "       -1.90732241e-01,  1.18276641e-01, -3.33975822e-01,  2.63103127e-01,\n",
              "        6.92993939e-01,  5.02151132e-01, -3.01323444e-01, -4.61636990e-01,\n",
              "       -5.83619893e-01, -1.10922194e+00,  2.86086679e-01,  1.61677122e-01,\n",
              "       -1.39670566e-01, -2.33524814e-02, -2.96505600e-01,  3.34905595e-01,\n",
              "       -7.87159681e-01, -2.69208342e-01,  3.99371147e-01, -5.07242799e-01,\n",
              "        7.27933586e-01, -1.24880028e+00, -8.32831636e-02, -1.75263986e-01,\n",
              "       -1.97241269e-02, -3.21898639e-01,  1.08425725e+00, -4.97892797e-01,\n",
              "        5.05903423e-01,  7.69547939e-01, -7.33086646e-01,  7.24771738e-01,\n",
              "        1.91757098e-01,  2.20887169e-01,  4.30393457e-01,  4.95793253e-01,\n",
              "        1.32832870e-01, -1.55633759e+00, -3.69002312e-01, -3.62023599e-02,\n",
              "        2.71321088e-01, -4.19350863e-01,  4.48758192e-02, -1.00532246e+00,\n",
              "       -8.62516165e-02,  2.81227976e-01,  1.51625425e-02, -1.35739076e+00,\n",
              "        1.98824108e-01,  6.50460944e-02,  4.26236004e-01, -1.06748208e-01,\n",
              "        4.66983497e-01,  7.57566988e-01,  4.16159868e-01, -4.09208477e-01,\n",
              "        1.98652834e-01, -5.47823608e-01, -7.60211229e-01,  2.40443610e-02,\n",
              "       -5.63203037e-01, -3.29703361e-01, -6.34943485e-01,  3.49876195e-01,\n",
              "       -2.48931587e-01, -7.00070322e-01,  5.85249484e-01,  1.52585417e-01,\n",
              "        5.46639025e-01,  1.17937602e-01, -3.63647312e-01, -8.70251209e-02,\n",
              "       -3.14390779e-01,  7.48881757e-01,  2.12662339e-01, -1.69025749e-01,\n",
              "       -9.86056983e-01,  4.48044538e-01, -1.83944911e-01,  2.23128423e-02,\n",
              "       -4.19232464e+00, -3.95670652e-01,  1.01112895e-01, -6.83751166e-01,\n",
              "       -6.72221184e-01, -3.67134288e-02, -3.39125514e-01,  2.40011141e-03,\n",
              "        2.80579269e-01, -2.88211495e-01,  3.02475959e-01, -7.18746305e-01,\n",
              "        4.25656915e-01,  9.34298754e-01, -2.23619491e-03,  1.40447903e+00,\n",
              "        1.14388615e-01, -2.05314144e-01,  1.92485288e-01,  3.88894588e-01,\n",
              "       -3.84099752e-01, -1.45361036e-01, -1.83622941e-01, -4.63708490e-01,\n",
              "        6.64987862e-01,  2.50840396e-01,  5.48314273e-01,  6.81061223e-02,\n",
              "        2.82985605e-02,  1.98947251e-01,  1.29291043e-02,  5.01975477e-01,\n",
              "        5.34904838e-01, -1.73865080e-01,  2.74789721e-01, -4.54548746e-01,\n",
              "        9.42505896e-04,  3.58601660e-01,  1.88120604e-01, -1.59636110e-01,\n",
              "        2.95569241e-01,  4.34284866e-01, -1.00872666e-03,  1.13738477e+00,\n",
              "        6.57270014e-01, -6.73807144e-01, -9.20074999e-01,  2.61660606e-01,\n",
              "        1.68995559e-02, -4.83544052e-01,  8.67966592e-01,  8.78119171e-02,\n",
              "        9.80961546e-02, -1.36179358e-01,  3.86601150e-01, -6.97520375e-01,\n",
              "       -1.85864300e-01,  8.61090362e-01, -5.89049645e-02, -3.78319263e-01,\n",
              "       -2.38942653e-02,  3.96453999e-02,  8.29214081e-02, -1.15985349e-01,\n",
              "        1.97116524e-01, -3.60692501e-01, -1.02227223e+00, -4.02225077e-01,\n",
              "        2.94218212e-01, -4.75977808e-02, -3.00742507e-01, -1.08392820e-01,\n",
              "       -4.04651389e-02, -1.52045488e+00, -5.22591546e-02,  2.80518681e-01,\n",
              "        2.62669772e-01,  1.51522890e-01, -1.35784060e-01, -1.12699226e-01,\n",
              "       -1.14909172e+00, -2.62186289e-01,  3.91574562e-01, -5.94615564e-02,\n",
              "       -5.30236483e-01, -1.44231665e+00, -5.28112173e-01, -2.65478790e-01,\n",
              "       -1.34096906e-01,  1.86372697e-01, -1.12766393e-01,  4.69137490e-01,\n",
              "        7.26628542e-01, -7.98680782e-02,  2.82809705e-01,  4.29511219e-02,\n",
              "        4.52320486e-01, -7.28837848e-01, -1.93388805e-01,  6.32566631e-01,\n",
              "       -1.58957273e-01, -5.04397154e-02,  5.71227074e-01, -9.81429160e-01,\n",
              "       -6.59909308e-01,  4.57657069e-01, -1.00309774e-01, -1.50265396e-01,\n",
              "       -6.23809338e-01, -2.38358572e-01, -4.40176040e-01, -7.87545025e-01,\n",
              "        2.60362238e-01, -2.64466763e-01, -6.14885688e-01,  2.08057556e-02,\n",
              "        4.64246571e-01,  6.08011842e-01, -1.76755503e-01, -6.19887114e-01,\n",
              "       -9.89086211e-01,  1.17182277e-01,  5.38105249e-01, -2.89784610e-01,\n",
              "       -2.91221976e-01,  4.20570731e-01, -7.51164734e-01, -1.02695256e-01,\n",
              "       -2.19907105e-01, -2.87514597e-01, -8.62422347e-01, -4.48504657e-01,\n",
              "        3.82729918e-01,  6.35349751e-02,  2.92337507e-01, -1.20273829e-01,\n",
              "       -1.78253725e-01, -1.65994793e-01, -3.21925431e-01,  5.73886216e-01,\n",
              "       -9.91519094e-02,  7.47013986e-01,  7.36776769e-01,  6.35740578e-01,\n",
              "        1.24672937e+00,  4.36095297e-02, -2.72106200e-01, -1.59922197e-01,\n",
              "       -2.42584258e-01, -2.47495309e-01, -9.55599666e-01,  1.34431049e-01,\n",
              "       -2.36409664e-01,  7.07312346e-01,  2.69733399e-01, -5.25515020e-01,\n",
              "        7.95518577e-01, -2.20388010e-01, -3.59155744e-01, -6.18119776e-01,\n",
              "        1.90176919e-01,  2.86076993e-01, -3.51584315e-01, -1.37473822e-01,\n",
              "       -4.42041904e-02,  4.25835639e-01, -1.69408232e-01, -3.62096764e-02,\n",
              "       -8.85477960e-02,  3.41421127e-01,  2.21404418e-01,  2.33605295e-01,\n",
              "       -1.64587796e-03,  1.44453377e-01, -1.20338276e-01,  1.65162593e-01,\n",
              "        2.11413339e-01, -1.40210235e+00, -4.16165888e-01,  5.33144355e-01,\n",
              "       -3.14674601e-02,  8.39168876e-02, -5.15629590e-01, -5.00299394e-01,\n",
              "        1.13499272e+00, -3.60073835e-01, -6.88525081e-01, -1.54446289e-02,\n",
              "        2.21461311e-01, -1.23999730e-01, -2.88304001e-01,  1.05924273e+00,\n",
              "       -6.54777765e-01, -3.32229972e-01, -1.01099193e+00, -1.67484093e+00,\n",
              "        5.25409997e-01,  2.89582670e-01, -2.82807738e-01, -9.17425454e-01,\n",
              "        2.09070504e-01,  8.53181839e-01, -2.70361483e-01,  7.06668258e-01,\n",
              "        6.24909401e-01, -1.23829059e-01,  8.48412752e-01,  4.54651415e-01,\n",
              "       -4.94798273e-02,  1.01615250e+00, -6.87920034e-01, -1.47309625e+00,\n",
              "       -1.04024015e-01, -9.55377817e-01,  7.88473368e-01,  1.04398441e+00,\n",
              "       -2.04341441e-01,  3.15023474e-02, -3.55791748e-01,  5.94223887e-02,\n",
              "       -4.07268047e-01,  1.54274762e-01, -3.92624974e-01,  1.41009480e-01,\n",
              "       -6.52094364e-01, -3.17636698e-01, -4.59690183e-01,  8.11115086e-01,\n",
              "       -5.50608218e-01,  1.43267319e-01, -3.01715545e-03, -8.39547813e-01,\n",
              "        5.80002546e-01,  1.02823591e+00,  7.77591407e-01,  2.47645438e-01,\n",
              "       -1.93605483e+00, -3.14037681e-01,  6.98254645e-01, -1.37785986e-01,\n",
              "       -4.95659977e-01, -4.97727513e-01, -8.10716271e-01, -5.05549550e-01,\n",
              "       -9.48726535e-02,  3.20034623e-01, -1.50888181e+00,  1.12106025e+00,\n",
              "       -1.46272540e-01,  1.03023839e+00,  3.21053892e-01,  6.45343781e-01,\n",
              "        6.72389567e-01, -2.46944129e-01, -9.64985669e-01, -9.90478992e-01,\n",
              "       -6.31540239e-01, -9.95348394e-02, -1.13944268e+00, -2.99970299e-01,\n",
              "       -6.46219477e-02, -6.35251701e-02,  9.17997479e-01,  8.46944749e-01,\n",
              "        3.59282255e-01,  8.17409158e-01,  3.91183048e-01, -4.60774094e-01,\n",
              "        8.12586069e-01,  4.70646113e-01,  3.91100705e-01, -1.91422939e-01,\n",
              "       -1.36220023e-01,  4.69948649e-01, -8.91788125e-01,  2.50535458e-02,\n",
              "        4.04799357e-02, -5.92401206e-01, -2.52798080e-01,  4.45146233e-01,\n",
              "        2.94943988e-01,  5.16655862e-01, -7.38711536e-01, -9.03305590e-01,\n",
              "       -2.20633894e-02, -1.06409788e+00,  4.33418542e-01,  9.46595013e-01,\n",
              "        7.21505284e-03,  8.99143517e-01, -2.17477411e-01,  8.68616700e-01,\n",
              "       -2.44778767e-03,  4.10248965e-01, -1.24093801e-01, -1.15787223e-01,\n",
              "       -2.69211888e-01, -2.12757111e-01, -7.75402069e-01,  4.08383936e-01,\n",
              "       -6.92557454e-01,  2.57445335e-01,  1.39619434e+00,  8.55868518e-01,\n",
              "       -5.72043121e-01,  6.01566434e-02, -1.55745819e-03, -6.32080615e-01,\n",
              "       -7.48819649e-01,  1.82947636e-01, -7.64188409e-01,  1.17590159e-01,\n",
              "        7.70207047e-01,  9.46140349e-01, -2.13571340e-01, -3.59587669e-01,\n",
              "       -5.26802778e-01,  8.12801570e-02, -4.74057645e-01,  8.20991993e-02,\n",
              "       -2.08320469e-01, -2.42906600e-01, -2.17408016e-01, -1.90186083e-01,\n",
              "        6.02463603e-01,  5.99897802e-01,  2.51574188e-01, -5.14506042e-01,\n",
              "        4.32901144e-01,  7.22766101e-01, -2.82346606e-01,  6.70915395e-02,\n",
              "        2.67271340e-01,  4.89159882e-01,  1.01949602e-01, -7.11311340e-01,\n",
              "       -4.93621439e-01, -1.17311731e-01, -1.26046777e+00,  3.33713800e-01,\n",
              "        1.57245791e+00, -1.52329043e-01, -2.07098201e-02,  1.99274004e-01,\n",
              "       -8.61967802e-01,  4.02518779e-01,  3.09579074e-01,  4.49369609e-01,\n",
              "        1.07683527e+00,  5.54133892e-01,  1.31112063e+00,  4.15121317e-01,\n",
              "       -2.88573474e-01,  1.27612337e-01, -3.76653433e-01, -3.73282313e-01,\n",
              "        5.27429700e-01,  2.75363863e-01, -1.76728353e-01, -2.81023413e-01,\n",
              "        1.48457035e-01,  2.71151900e-01,  6.13217115e-01, -6.95803165e-01,\n",
              "        8.22171807e-01,  3.75813097e-01, -4.44230959e-02, -2.50237107e-01,\n",
              "       -2.47045070e-01, -4.04222399e-01,  4.30245459e-01,  3.77110839e-01,\n",
              "       -5.66805154e-02, -7.38962352e-01,  6.28795445e-01,  3.27711582e-01,\n",
              "        3.79587740e-01, -6.55863523e-01,  5.16758740e-01,  6.40712619e-01,\n",
              "        8.04358065e-01,  3.52787338e-02, -6.85757101e-01,  1.51262820e-01,\n",
              "       -7.44657278e-01,  1.98119879e-01, -6.32082224e-01, -9.40308720e-02,\n",
              "        4.00582522e-01, -4.53432709e-01,  4.90435779e-01,  6.21966794e-02,\n",
              "        5.55681884e-01,  2.78943896e-01, -3.41217309e-01, -3.44928205e-01,\n",
              "        3.22198898e-01,  4.75719750e-01,  8.12741458e-01,  6.49048090e-01,\n",
              "        1.10614181e+00, -6.44042432e-01, -6.34330332e-01, -1.93581611e-01,\n",
              "        6.76489621e-02,  5.98816156e-01, -1.03323124e-01, -1.00107765e+00,\n",
              "       -1.02253628e+00, -1.92226350e-01,  8.19393575e-01,  1.97291330e-01,\n",
              "       -1.46129227e+00,  1.90836757e-01, -4.94654506e-01,  3.10234427e-01,\n",
              "        6.79352283e-01,  1.77465662e-01, -2.01070130e-01, -2.21673250e-01,\n",
              "       -3.21363926e-01, -8.27390626e-02,  1.81436762e-01,  1.07843906e-01,\n",
              "        1.78986108e+00,  3.04806322e-01, -1.20878696e-01,  1.61197171e-01,\n",
              "        1.18813336e+00,  1.03280157e-01, -8.45843732e-01,  4.27862167e-01,\n",
              "        9.20749664e-01, -4.59388912e-01,  7.28917778e-01,  2.94724435e-01,\n",
              "       -3.83677065e-01,  3.70410025e-01, -5.83667517e-01, -6.40338242e-01,\n",
              "       -5.14648914e-01, -1.01741925e-01, -2.51452386e-01, -3.95859808e-01,\n",
              "       -2.09963894e+00, -8.73663783e-01,  1.14650160e-01, -7.49204695e-01,\n",
              "       -4.52593416e-01, -1.00940764e+00, -6.19394541e-01,  1.61225170e-01,\n",
              "        6.21254109e-02, -1.38349012e-01,  1.40042555e+00,  5.26782513e-01,\n",
              "        3.51415366e-01, -5.68003893e-01,  4.48695086e-02, -4.18542802e-01],\n",
              "      dtype=float32)"
            ]
          },
          "metadata": {
            "tags": []
          },
          "execution_count": 7
        }
      ]
    },
    {
      "cell_type": "code",
      "metadata": {
        "id": "qE79xyNbc7r1",
        "colab_type": "code",
        "outputId": "b884ea9d-2a9c-4063-ac77-acc38b38884b",
        "colab": {
          "base_uri": "https://localhost:8080/",
          "height": 34
        }
      },
      "source": [
        "!ls \"/content/gdrive/My Drive/DS_Capstone/data/raw/2018_07_19_04_59_08/\"\n"
      ],
      "execution_count": 0,
      "outputs": [
        {
          "output_type": "stream",
          "text": [
            "articles.txt  fingerprints.txt\n"
          ],
          "name": "stdout"
        }
      ]
    },
    {
      "cell_type": "code",
      "metadata": {
        "id": "pQVzMdXDeR9l",
        "colab_type": "code",
        "colab": {}
      },
      "source": [
        "import pandas as pd\n",
        "def read_article_df(file):\n",
        "    articles_dt = file.read().split('\\n')[:-1]\n",
        "    pubId, canonicalUrl,firstScrape,title,text,lang_reliability = [],[],[],[],[],[]\n",
        "    lang_iso = []\n",
        "    for article in articles_dt:    \n",
        "        row = article.split('\\t')\n",
        "        pubId.append(row[0])\n",
        "        canonicalUrl.append(row[4])\n",
        "        firstScrape.append(row[5])\n",
        "        lang_iso.append(row[6])\n",
        "        lang_reliability.append(row[7])\n",
        "        title.append(row[8])\n",
        "        text.append(row[9])\n",
        "\n",
        "    articles_df = pd.DataFrame()\n",
        "    articles_df['pubId'] = pubId\n",
        "    articles_df['canonicalUrl'] = canonicalUrl\n",
        "    articles_df['firstScrape'] = firstScrape\n",
        "    articles_df['title'] = title\n",
        "    articles_df['text'] = text\n",
        "    articles_df['lang_reliability'] = lang_reliability\n",
        "    articles_df['lang_iso'] = lang_iso\n",
        "    return articles_df"
      ],
      "execution_count": 0,
      "outputs": []
    },
    {
      "cell_type": "code",
      "metadata": {
        "id": "ok7TZdICeSlg",
        "colab_type": "code",
        "colab": {}
      },
      "source": [
        "articles = read_article_df(open(\"/content/gdrive/My Drive/DS_Capstone/data/raw/2018_07_19_04_59_08/articles.txt\"))"
      ],
      "execution_count": 0,
      "outputs": []
    },
    {
      "cell_type": "code",
      "metadata": {
        "id": "9c1G9CAReWhd",
        "colab_type": "code",
        "outputId": "ae4a26d9-cdec-41af-ad3f-f686888b2dda",
        "colab": {
          "base_uri": "https://localhost:8080/",
          "height": 70
        }
      },
      "source": [
        "articles.all_text = articles.title + articles.text"
      ],
      "execution_count": 0,
      "outputs": [
        {
          "output_type": "stream",
          "text": [
            "/usr/local/lib/python3.6/dist-packages/ipykernel_launcher.py:1: UserWarning: Pandas doesn't allow columns to be created via a new attribute name - see https://pandas.pydata.org/pandas-docs/stable/indexing.html#attribute-access\n",
            "  \"\"\"Entry point for launching an IPython kernel.\n"
          ],
          "name": "stderr"
        }
      ]
    },
    {
      "cell_type": "code",
      "metadata": {
        "id": "mM7ivCnTelAQ",
        "colab_type": "code",
        "outputId": "8a78fca0-18cf-49c3-83d1-de81e2ae0386",
        "colab": {
          "base_uri": "https://localhost:8080/",
          "height": 202
        }
      },
      "source": [
        "articles.all_text[:10]"
      ],
      "execution_count": 0,
      "outputs": [
        {
          "output_type": "execute_result",
          "data": {
            "text/plain": [
              "0    \"I Told You So\": Trump Hits Out At EU After $5...\n",
              "1    Trump Invites Putin To  Ahead Of Midterms | Ze...\n",
              "2    Gallup Shows How Much Americans Really Care Ab...\n",
              "3    California Supreme Court Blocks Proposal To Sp...\n",
              "4    Why Are \"Thousands\" of Teslas Sitting In a Fie...\n",
              "5    Time Magazine Goes Full Propagandist | Zero He...\n",
              "6    Spain's New Submarine Is Too Big To Fit In Its...\n",
              "7    US Secretary Of State: \"We Want Very Much To H...\n",
              "8    We Are Nearing The Pain-Point Triggering The \"...\n",
              "9    Philly Fed 'Hope' Plunges To 2 Year Lows As Pr...\n",
              "dtype: object"
            ]
          },
          "metadata": {
            "tags": []
          },
          "execution_count": 28
        }
      ]
    },
    {
      "cell_type": "code",
      "metadata": {
        "id": "Rw3-tn7LersS",
        "colab_type": "code",
        "outputId": "3531d927-30be-4302-985f-b1006458ce93",
        "colab": {
          "base_uri": "https://localhost:8080/",
          "height": 34
        }
      },
      "source": [
        "from tqdm import tqdm\n",
        "\n",
        "embeddings = []\n",
        "for doc in tqdm(nlp.pipe(articles.all_text)):\n",
        "  embeddings.append(doc.tensor.sum(axis=0))"
      ],
      "execution_count": 0,
      "outputs": [
        {
          "output_type": "stream",
          "text": [
            "1001it [07:56, 187.91s/it]"
          ],
          "name": "stderr"
        }
      ]
    },
    {
      "cell_type": "code",
      "metadata": {
        "id": "1EKX5Jh6f_5b",
        "colab_type": "code",
        "outputId": "7eacca17-0df4-4ce1-c0db-6d109b84f2b3",
        "colab": {
          "base_uri": "https://localhost:8080/",
          "height": 34
        }
      },
      "source": [
        "embeddings[0].shape"
      ],
      "execution_count": 0,
      "outputs": [
        {
          "output_type": "execute_result",
          "data": {
            "text/plain": [
              "(768,)"
            ]
          },
          "metadata": {
            "tags": []
          },
          "execution_count": 38
        }
      ]
    },
    {
      "cell_type": "code",
      "metadata": {
        "id": "HB4rQE-dgfx0",
        "colab_type": "code",
        "colab": {}
      },
      "source": [
        ""
      ],
      "execution_count": 0,
      "outputs": []
    }
  ]
}