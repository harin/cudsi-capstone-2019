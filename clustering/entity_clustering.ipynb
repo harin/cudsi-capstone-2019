{
 "cells": [
  {
   "cell_type": "code",
   "execution_count": 1,
   "metadata": {
    "ExecuteTime": {
     "end_time": "2019-11-11T18:57:11.503915Z",
     "start_time": "2019-11-11T18:57:10.521620Z"
    }
   },
   "outputs": [],
   "source": [
    "from IPython.display import HTML\n",
    "from sklearn.neighbors import NearestNeighbors"
   ]
  },
  {
   "cell_type": "code",
   "execution_count": 69,
   "metadata": {
    "ExecuteTime": {
     "end_time": "2019-11-11T19:59:06.413013Z",
     "start_time": "2019-11-11T19:59:06.275122Z"
    }
   },
   "outputs": [],
   "source": [
    "import pandas as pd\n",
    "import networkx as nx\n",
    "import community\n",
    "import matplotlib.pyplot as plt\n",
    "from sklearn.metrics.pairwise import cosine_similarity, euclidean_distances\n",
    "from sklearn.feature_extraction.text import TfidfVectorizer\n",
    "import numpy as np\n",
    "from sklearn.cluster import KMeans\n",
    "from collections import defaultdict\n",
    "from sklearn.neighbors import BallTree, NearestNeighbors\n",
    "import gc\n",
    "%matplotlib inline\n",
    "\n",
    "columns = [\"pubId\", \"is_hourly\", \"seqId\", \"on_homepage\", \"canonicalUrl\",\n",
    "                   \"firstScrape\", \"lang_iso\", \"lang_reliability\", \"title\", \"text\"]\n",
    "\n",
    "def read_article_df(file):\n",
    "    articles_dt = file.read().split('\\n')[:-1]\n",
    "    pubId, canonicalUrl,firstScrape,title,text,lang_reliability = [],[],[],[],[],[]\n",
    "    lang_iso = []\n",
    "    for article in articles_dt:    \n",
    "        row = article.split('\\t')\n",
    "        pubId.append(row[0])\n",
    "        canonicalUrl.append(row[4])\n",
    "        firstScrape.append(row[5])\n",
    "        lang_iso.append(row[6])\n",
    "        lang_reliability.append(row[7])\n",
    "        title.append(row[8])\n",
    "        text.append(row[9])\n",
    "\n",
    "    articles_df = pd.DataFrame()\n",
    "    articles_df['pubId'] = pubId\n",
    "    articles_df['canonicalUrl'] = canonicalUrl\n",
    "    articles_df['firstScrape'] = firstScrape\n",
    "    articles_df['title'] = title\n",
    "    articles_df['text'] = text\n",
    "    articles_df['lang_reliability'] = lang_reliability\n",
    "    articles_df['lang_iso'] = lang_iso\n",
    "    return articles_df"
   ]
  },
  {
   "cell_type": "code",
   "execution_count": 3,
   "metadata": {
    "ExecuteTime": {
     "end_time": "2019-11-11T18:57:20.334795Z",
     "start_time": "2019-11-11T18:57:17.971384Z"
    }
   },
   "outputs": [],
   "source": [
    "import json\n",
    "entities = []\n",
    "with open('../data/embedding/entites.txt', 'r', encoding='utf-8') as f:\n",
    "    line = f.readline()\n",
    "    while line:\n",
    "        valid_json_line = line.replace(r\"'\", '\"')\n",
    "        entities.append(json.loads(valid_json_line))\n",
    "        line = f.readline()"
   ]
  },
  {
   "cell_type": "code",
   "execution_count": null,
   "metadata": {
    "ExecuteTime": {
     "end_time": "2019-11-11T19:15:08.259992Z",
     "start_time": "2019-11-11T19:15:07.768313Z"
    }
   },
   "outputs": [],
   "source": [
    "entities = np.array(entities)"
   ]
  },
  {
   "cell_type": "code",
   "execution_count": 24,
   "metadata": {
    "ExecuteTime": {
     "end_time": "2019-11-11T19:25:56.808212Z",
     "start_time": "2019-11-11T19:25:46.829846Z"
    }
   },
   "outputs": [],
   "source": [
    "vect = TfidfVectorizer()\n",
    "entity_words = [' '.join(entity) for entity in entities]\n",
    "tfidf = vect.fit_transform(entity_words)"
   ]
  },
  {
   "cell_type": "code",
   "execution_count": 12,
   "metadata": {
    "ExecuteTime": {
     "end_time": "2019-11-11T19:16:07.753782Z",
     "start_time": "2019-11-11T19:15:50.187409Z"
    }
   },
   "outputs": [],
   "source": [
    "article_df = read_article_df(open('../data/raw/2018_07_19_04_59_08/articles.txt', encoding='utf-8'))\n",
    "# article_df = article_df[article_df.lang_reliability == '1'].reset_index(drop=True)"
   ]
  },
  {
   "cell_type": "code",
   "execution_count": 13,
   "metadata": {
    "ExecuteTime": {
     "end_time": "2019-11-11T19:16:08.120066Z",
     "start_time": "2019-11-11T19:16:07.759736Z"
    }
   },
   "outputs": [],
   "source": [
    "article_df['title'] = article_df.title.apply(lambda s: s.strip())\n",
    "article_df['text'] = article_df.text.apply(lambda s: s.strip())\n",
    "article_df['title_len'] = article_df.title.apply(len)\n",
    "article_df['text_len'] = article_df.text.apply(len)"
   ]
  },
  {
   "cell_type": "code",
   "execution_count": 14,
   "metadata": {
    "ExecuteTime": {
     "end_time": "2019-11-11T19:16:08.135747Z",
     "start_time": "2019-11-11T19:16:08.125757Z"
    }
   },
   "outputs": [
    {
     "data": {
      "text/plain": [
       "(213605, 9)"
      ]
     },
     "execution_count": 14,
     "metadata": {},
     "output_type": "execute_result"
    }
   ],
   "source": [
    "article_df.shape"
   ]
  },
  {
   "cell_type": "code",
   "execution_count": 15,
   "metadata": {
    "ExecuteTime": {
     "end_time": "2019-11-11T19:16:08.358183Z",
     "start_time": "2019-11-11T19:16:08.139719Z"
    }
   },
   "outputs": [
    {
     "data": {
      "text/plain": [
       "(177172, 9)"
      ]
     },
     "execution_count": 15,
     "metadata": {},
     "output_type": "execute_result"
    }
   ],
   "source": [
    "clean_df = article_df[article_df.title_len > 0]\n",
    "clean_df = clean_df[clean_df.text_len > 100]\n",
    "clean_df = clean_df[clean_df.lang_iso == 'en']\n",
    "clean_df.shape"
   ]
  },
  {
   "cell_type": "code",
   "execution_count": 9,
   "metadata": {
    "ExecuteTime": {
     "end_time": "2019-11-11T19:15:22.660572Z",
     "start_time": "2019-11-11T19:15:22.627466Z"
    }
   },
   "outputs": [],
   "source": [
    "def load_label(file='lower_bound'):\n",
    "    label1 = pd.read_csv(f'../data/raw/labels/cave_rescue/{file}.txt', header=None)\n",
    "    label1.columns = ['canonicalUrl']\n",
    "    label1['label'] = 'cave_rescue'\n",
    "\n",
    "    label2 = pd.read_csv(f'../data/raw/labels/duckboat/{file}.txt', header=None)\n",
    "    label2.columns = ['canonicalUrl']\n",
    "    label2['label'] = 'duckboat'\n",
    "\n",
    "    label3 = pd.read_csv(f'../data/raw/labels/helsinki_summit/{file}.txt', header=None)\n",
    "    label3.columns = ['canonicalUrl']\n",
    "    label3['label'] = 'helsinki'\n",
    "\n",
    "    label_df = pd.concat([label1, label2, label3])\n",
    "    return label_df\n",
    "label_df = load_label('lower_bound')"
   ]
  },
  {
   "cell_type": "code",
   "execution_count": 16,
   "metadata": {
    "ExecuteTime": {
     "end_time": "2019-11-11T19:16:08.530027Z",
     "start_time": "2019-11-11T19:16:08.360129Z"
    }
   },
   "outputs": [],
   "source": [
    "clean_df = clean_df.merge(label_df, on='canonicalUrl', how='left')"
   ]
  },
  {
   "cell_type": "code",
   "execution_count": 17,
   "metadata": {
    "ExecuteTime": {
     "end_time": "2019-11-11T19:16:12.401716Z",
     "start_time": "2019-11-11T19:16:08.532670Z"
    },
    "scrolled": false
   },
   "outputs": [
    {
     "data": {
      "text/html": [
       "<div>\n",
       "<style scoped>\n",
       "    .dataframe tbody tr th:only-of-type {\n",
       "        vertical-align: middle;\n",
       "    }\n",
       "\n",
       "    .dataframe tbody tr th {\n",
       "        vertical-align: top;\n",
       "    }\n",
       "\n",
       "    .dataframe thead th {\n",
       "        text-align: right;\n",
       "    }\n",
       "</style>\n",
       "<table border=\"1\" class=\"dataframe\">\n",
       "  <thead>\n",
       "    <tr style=\"text-align: right;\">\n",
       "      <th></th>\n",
       "      <th>pubId</th>\n",
       "      <th>canonicalUrl</th>\n",
       "      <th>firstScrape</th>\n",
       "      <th>title</th>\n",
       "      <th>text</th>\n",
       "      <th>lang_reliability</th>\n",
       "      <th>lang_iso</th>\n",
       "      <th>title_len</th>\n",
       "      <th>text_len</th>\n",
       "      <th>label</th>\n",
       "    </tr>\n",
       "  </thead>\n",
       "  <tbody>\n",
       "    <tr>\n",
       "      <td>0</td>\n",
       "      <td>290</td>\n",
       "      <td>zerohedge.com/news/2018-07-19/i-told-you-so-tr...</td>\n",
       "      <td>7/19/2018 10:41:26 AM -04:00</td>\n",
       "      <td>\"I Told You So\": Trump Hits Out At EU After $5...</td>\n",
       "      <td>by Phoenix Capita… - Jul 19, 2018 8:49 am ### ...</td>\n",
       "      <td>1</td>\n",
       "      <td>en</td>\n",
       "      <td>79</td>\n",
       "      <td>2134</td>\n",
       "      <td>NaN</td>\n",
       "    </tr>\n",
       "    <tr>\n",
       "      <td>1</td>\n",
       "      <td>290</td>\n",
       "      <td>zerohedge.com/news/2018-07-19/trump-invites-pu...</td>\n",
       "      <td>7/19/2018 5:03:01 PM -04:00</td>\n",
       "      <td>Trump Invites Putin To  Ahead Of Midterms | Ze...</td>\n",
       "      <td>by Phoenix Capita… - Jul 19, 2018 8:49 am ### ...</td>\n",
       "      <td>1</td>\n",
       "      <td>en</td>\n",
       "      <td>54</td>\n",
       "      <td>4555</td>\n",
       "      <td>NaN</td>\n",
       "    </tr>\n",
       "    <tr>\n",
       "      <td>2</td>\n",
       "      <td>290</td>\n",
       "      <td>zerohedge.com/news/2018-07-19/gallup-shows-how...</td>\n",
       "      <td>7/19/2018 8:26:52 AM -04:00</td>\n",
       "      <td>Gallup Shows How Much Americans Really Care Ab...</td>\n",
       "      <td>by Knave Dave - Jul 18, 2018 1:11 pm ### This ...</td>\n",
       "      <td>1</td>\n",
       "      <td>en</td>\n",
       "      <td>76</td>\n",
       "      <td>3133</td>\n",
       "      <td>NaN</td>\n",
       "    </tr>\n",
       "    <tr>\n",
       "      <td>3</td>\n",
       "      <td>290</td>\n",
       "      <td>zerohedge.com/news/2018-07-19/california-supre...</td>\n",
       "      <td>7/19/2018 8:26:52 AM -04:00</td>\n",
       "      <td>California Supreme Court Blocks Proposal To Sp...</td>\n",
       "      <td>by Knave Dave - Jul 18, 2018 1:11 pm ### This ...</td>\n",
       "      <td>1</td>\n",
       "      <td>en</td>\n",
       "      <td>85</td>\n",
       "      <td>3567</td>\n",
       "      <td>NaN</td>\n",
       "    </tr>\n",
       "    <tr>\n",
       "      <td>4</td>\n",
       "      <td>290</td>\n",
       "      <td>zerohedge.com/news/2018-07-19/why-are-thousand...</td>\n",
       "      <td>7/19/2018 4:28:52 PM -04:00</td>\n",
       "      <td>Why Are \"Thousands\" of Teslas Sitting In a Fie...</td>\n",
       "      <td>by Phoenix Capita… - Jul 19, 2018 8:49 am ### ...</td>\n",
       "      <td>1</td>\n",
       "      <td>en</td>\n",
       "      <td>62</td>\n",
       "      <td>3584</td>\n",
       "      <td>NaN</td>\n",
       "    </tr>\n",
       "  </tbody>\n",
       "</table>\n",
       "</div>"
      ],
      "text/plain": [
       "  pubId                                       canonicalUrl  \\\n",
       "0   290  zerohedge.com/news/2018-07-19/i-told-you-so-tr...   \n",
       "1   290  zerohedge.com/news/2018-07-19/trump-invites-pu...   \n",
       "2   290  zerohedge.com/news/2018-07-19/gallup-shows-how...   \n",
       "3   290  zerohedge.com/news/2018-07-19/california-supre...   \n",
       "4   290  zerohedge.com/news/2018-07-19/why-are-thousand...   \n",
       "\n",
       "                    firstScrape  \\\n",
       "0  7/19/2018 10:41:26 AM -04:00   \n",
       "1   7/19/2018 5:03:01 PM -04:00   \n",
       "2   7/19/2018 8:26:52 AM -04:00   \n",
       "3   7/19/2018 8:26:52 AM -04:00   \n",
       "4   7/19/2018 4:28:52 PM -04:00   \n",
       "\n",
       "                                               title  \\\n",
       "0  \"I Told You So\": Trump Hits Out At EU After $5...   \n",
       "1  Trump Invites Putin To  Ahead Of Midterms | Ze...   \n",
       "2  Gallup Shows How Much Americans Really Care Ab...   \n",
       "3  California Supreme Court Blocks Proposal To Sp...   \n",
       "4  Why Are \"Thousands\" of Teslas Sitting In a Fie...   \n",
       "\n",
       "                                                text lang_reliability  \\\n",
       "0  by Phoenix Capita… - Jul 19, 2018 8:49 am ### ...                1   \n",
       "1  by Phoenix Capita… - Jul 19, 2018 8:49 am ### ...                1   \n",
       "2  by Knave Dave - Jul 18, 2018 1:11 pm ### This ...                1   \n",
       "3  by Knave Dave - Jul 18, 2018 1:11 pm ### This ...                1   \n",
       "4  by Phoenix Capita… - Jul 19, 2018 8:49 am ### ...                1   \n",
       "\n",
       "  lang_iso  title_len  text_len label  \n",
       "0       en         79      2134   NaN  \n",
       "1       en         54      4555   NaN  \n",
       "2       en         76      3133   NaN  \n",
       "3       en         85      3567   NaN  \n",
       "4       en         62      3584   NaN  "
      ]
     },
     "execution_count": 17,
     "metadata": {},
     "output_type": "execute_result"
    }
   ],
   "source": [
    "clean_df.head()"
   ]
  },
  {
   "cell_type": "code",
   "execution_count": 18,
   "metadata": {
    "ExecuteTime": {
     "end_time": "2019-11-11T19:16:12.555307Z",
     "start_time": "2019-11-11T19:16:12.403710Z"
    }
   },
   "outputs": [
    {
     "data": {
      "text/plain": [
       "((140, 10), (177032, 10))"
      ]
     },
     "execution_count": 18,
     "metadata": {},
     "output_type": "execute_result"
    }
   ],
   "source": [
    "article_with_label = clean_df[~clean_df.label.isna()]\n",
    "article_without_label = clean_df[clean_df.label.isna()]\n",
    "article_with_label.shape, article_without_label.shape"
   ]
  },
  {
   "cell_type": "markdown",
   "metadata": {
    "ExecuteTime": {
     "end_time": "2019-10-31T15:43:07.917593Z",
     "start_time": "2019-10-31T15:43:07.895674Z"
    }
   },
   "source": [
    "Sample and include all the labeled article"
   ]
  },
  {
   "cell_type": "code",
   "execution_count": 27,
   "metadata": {
    "ExecuteTime": {
     "end_time": "2019-11-11T19:26:27.360792Z",
     "start_time": "2019-11-11T19:26:27.327884Z"
    }
   },
   "outputs": [],
   "source": [
    "sample_df = pd.concat([article_with_label, article_without_label.sample(10000)])"
   ]
  },
  {
   "cell_type": "code",
   "execution_count": 28,
   "metadata": {
    "ExecuteTime": {
     "end_time": "2019-11-11T19:26:27.782675Z",
     "start_time": "2019-11-11T19:26:27.774686Z"
    }
   },
   "outputs": [],
   "source": [
    "sample_emb = tfidf[sample_df.index]"
   ]
  },
  {
   "cell_type": "code",
   "execution_count": 50,
   "metadata": {
    "ExecuteTime": {
     "end_time": "2019-11-11T19:56:40.251631Z",
     "start_time": "2019-11-11T19:56:37.071133Z"
    }
   },
   "outputs": [
    {
     "data": {
      "text/plain": [
       "0.9999999999999998"
      ]
     },
     "execution_count": 50,
     "metadata": {},
     "output_type": "execute_result"
    }
   ],
   "source": [
    "pct = np.percentile(euclidean_distances(sample_emb), 3); pct"
   ]
  },
  {
   "cell_type": "code",
   "execution_count": 51,
   "metadata": {
    "ExecuteTime": {
     "end_time": "2019-11-11T19:56:42.871631Z",
     "start_time": "2019-11-11T19:56:40.254624Z"
    }
   },
   "outputs": [
    {
     "data": {
      "text/plain": [
       "<10140x10140 sparse matrix of type '<class 'numpy.float64'>'\n",
       "\twith 2821914 stored elements in Compressed Sparse Row format>"
      ]
     },
     "execution_count": 51,
     "metadata": {},
     "output_type": "execute_result"
    }
   ],
   "source": [
    "nn = NearestNeighbors(radius=pct)\n",
    "nn.fit(sample_emb)\n",
    "admat = nn.radius_neighbors_graph(); admat"
   ]
  },
  {
   "cell_type": "code",
   "execution_count": 52,
   "metadata": {
    "ExecuteTime": {
     "end_time": "2019-11-11T19:57:13.077292Z",
     "start_time": "2019-11-11T19:56:51.341969Z"
    }
   },
   "outputs": [],
   "source": [
    "G = nx.from_scipy_sparse_matrix(admat)"
   ]
  },
  {
   "cell_type": "code",
   "execution_count": null,
   "metadata": {
    "ExecuteTime": {
     "end_time": "2019-11-11T19:40:32.747789Z",
     "start_time": "2019-11-11T19:40:32.726329Z"
    }
   },
   "outputs": [],
   "source": [
    "# # if out of memory\n",
    "# del entities\n",
    "# del temp\n",
    "# import gc\n",
    "# gc.collect()"
   ]
  },
  {
   "cell_type": "code",
   "execution_count": 53,
   "metadata": {
    "ExecuteTime": {
     "end_time": "2019-11-11T19:58:12.848780Z",
     "start_time": "2019-11-11T19:57:15.226912Z"
    }
   },
   "outputs": [
    {
     "data": {
      "image/png": "[encoded data removed]",
      "text/plain": [
       "<Figure size 432x288 with 1 Axes>"
      ]
     },
     "metadata": {
      "needs_background": "light"
     },
     "output_type": "display_data"
    }
   ],
   "source": [
    "partitions = []\n",
    "resolutions = [1] #, .99, .999, .9995, .9999]\n",
    "for resolution in resolutions:\n",
    "    partition = community.best_partition(G, resolution=resolution)\n",
    "    partitions.append(partition)\n",
    "    num_cluster = max([v for k,v in partition.items()]) + 1\n",
    "    clusters = defaultdict(list)\n",
    "    for k, v in partition.items():\n",
    "        clusters[v].append(k)\n",
    "\n",
    "    cluster_sizes = []\n",
    "    for i, cluster in clusters.items():\n",
    "        cluster_sizes.append(len(cluster))\n",
    "    plt.bar(list(range(len(cluster_sizes))), cluster_sizes)\n",
    "    plt.title(f'Resolution = {resolution}, Num. Cluster = {num_cluster}')\n",
    "    plt.show()"
   ]
  },
  {
   "cell_type": "code",
   "execution_count": 54,
   "metadata": {
    "ExecuteTime": {
     "end_time": "2019-11-11T19:58:22.084832Z",
     "start_time": "2019-11-11T19:58:22.076856Z"
    }
   },
   "outputs": [
    {
     "data": {
      "text/plain": [
       "(14, 1796, 1.0)"
      ]
     },
     "execution_count": 54,
     "metadata": {},
     "output_type": "execute_result"
    }
   ],
   "source": [
    "np.argmax(cluster_sizes), np.max(cluster_sizes), np.median(cluster_sizes)"
   ]
  },
  {
   "cell_type": "code",
   "execution_count": 108,
   "metadata": {
    "ExecuteTime": {
     "end_time": "2019-11-11T20:16:57.849861Z",
     "start_time": "2019-11-11T20:16:57.842880Z"
    }
   },
   "outputs": [],
   "source": [
    "def plot_cluster_sizes(cluster):\n",
    "    cluster_sizes = []\n",
    "    for i, c in cluster.items():\n",
    "        cluster_sizes.append(len(c))\n",
    "    plt.title(f'Num cluster = {len(cluster.keys())}')\n",
    "    plt.hist(cluster_sizes)\n",
    "    plt.show()\n",
    "    \n",
    "def prune_cluster(cluster: dict, threshold) -> dict:\n",
    "    pc = {}\n",
    "    pc[-1] = []\n",
    "    for key, values in clusters.items():\n",
    "        if len(values) > threshold:\n",
    "            pc[key] = values\n",
    "            \n",
    "        else:\n",
    "            pc[-1] += values\n",
    "    return pc"
   ]
  },
  {
   "cell_type": "code",
   "execution_count": 109,
   "metadata": {
    "ExecuteTime": {
     "end_time": "2019-11-11T20:16:58.615307Z",
     "start_time": "2019-11-11T20:16:58.609321Z"
    }
   },
   "outputs": [],
   "source": [
    "pc = prune_cluster(cluster, 5)"
   ]
  },
  {
   "cell_type": "code",
   "execution_count": 110,
   "metadata": {
    "ExecuteTime": {
     "end_time": "2019-11-11T20:17:01.059795Z",
     "start_time": "2019-11-11T20:17:00.989948Z"
    }
   },
   "outputs": [
    {
     "data": {
      "text/plain": [
       "108"
      ]
     },
     "execution_count": 110,
     "metadata": {},
     "output_type": "execute_result"
    }
   ],
   "source": [
    "article_cluster = list(map(lambda d: sample_df.iloc[d[1]], pc.items()))\n",
    "len(article_cluster)"
   ]
  },
  {
   "cell_type": "code",
   "execution_count": 111,
   "metadata": {
    "ExecuteTime": {
     "end_time": "2019-11-11T20:17:02.346383Z",
     "start_time": "2019-11-11T20:17:02.339400Z"
    }
   },
   "outputs": [
    {
     "data": {
      "text/plain": [
       "5221"
      ]
     },
     "execution_count": 111,
     "metadata": {},
     "output_type": "execute_result"
    }
   ],
   "source": [
    "len(article_cluster[0].title.tolist())"
   ]
  },
  {
   "cell_type": "code",
   "execution_count": 112,
   "metadata": {
    "ExecuteTime": {
     "end_time": "2019-11-11T20:17:04.144099Z",
     "start_time": "2019-11-11T20:17:04.138091Z"
    }
   },
   "outputs": [
    {
     "data": {
      "text/plain": [
       "dict_keys([-1, 0, 2, 3, 11, 14, 16, 19, 20, 28, 29, 32, 33, 39, 40, 45, 46, 48, 51, 55, 57, 61, 62, 64, 65, 66, 67, 84, 88, 90, 91, 92, 97, 103, 104, 105, 123, 136, 137, 160, 169, 170, 171, 174, 177, 186, 189, 201, 207, 216, 227, 230, 232, 234, 238, 249, 253, 258, 290, 308, 315, 358, 365, 400, 401, 420, 440, 476, 486, 506, 512, 519, 538, 560, 590, 599, 608, 643, 663, 668, 732, 771, 826, 851, 884, 887, 896, 938, 984, 1111, 1166, 1210, 1262, 1374, 1387, 1394, 1399, 1440, 1556, 1569, 1642, 1675, 1816, 1957, 1962, 2335, 2607, 3223])"
      ]
     },
     "execution_count": 112,
     "metadata": {},
     "output_type": "execute_result"
    }
   ],
   "source": [
    "pc.keys()"
   ]
  },
  {
   "cell_type": "markdown",
   "metadata": {
    "ExecuteTime": {
     "end_time": "2019-10-28T03:45:42.636863Z",
     "start_time": "2019-10-28T03:45:42.628884Z"
    }
   },
   "source": [
    "## Top clusters"
   ]
  },
  {
   "cell_type": "code",
   "execution_count": 113,
   "metadata": {
    "ExecuteTime": {
     "end_time": "2019-11-11T20:17:14.082615Z",
     "start_time": "2019-11-11T20:17:14.075636Z"
    }
   },
   "outputs": [
    {
     "data": {
      "text/plain": [
       "array([1796,  595,  272,  260,  240,  187,  125,   96,   86,   78,   58,\n",
       "         48,   36,   34,   30,   29,   27,   26,   26,   24,   20,   20,\n",
       "         18,   17,   17,   17,   17,   16,   16,   16,   15,   15,   15,\n",
       "         15,   15,   14,   13,   12,   12,   12,   12,   12,   12,   12,\n",
       "         12,   11,   11,   11,   10,   10,   10,   10,   10,   10,   10,\n",
       "         10,   10,    9,    9,    9,    9,    9,    8,    8,    8,    8,\n",
       "          8,    8,    8,    8,    8,    7,    7,    7,    7,    7,    7,\n",
       "          7,    7,    7,    7,    7,    7,    7,    7,    7,    7,    7,\n",
       "          7,    6,    6,    6,    6,    6,    6,    6,    6,    6,    6,\n",
       "          6,    6,    6,    6,    6,    6,    6,    6])"
      ]
     },
     "execution_count": 113,
     "metadata": {},
     "output_type": "execute_result"
    }
   ],
   "source": [
    "index_by_size = list(reversed(np.argsort(cluster_sizes)))\n",
    "cluster_sizes[index_by_size]"
   ]
  },
  {
   "cell_type": "code",
   "execution_count": 114,
   "metadata": {
    "ExecuteTime": {
     "end_time": "2019-11-11T20:17:23.432933Z",
     "start_time": "2019-11-11T20:17:23.409139Z"
    }
   },
   "outputs": [
    {
     "data": {
      "text/html": [
       "<div>\n",
       "<style scoped>\n",
       "    .dataframe tbody tr th:only-of-type {\n",
       "        vertical-align: middle;\n",
       "    }\n",
       "\n",
       "    .dataframe tbody tr th {\n",
       "        vertical-align: top;\n",
       "    }\n",
       "\n",
       "    .dataframe thead th {\n",
       "        text-align: right;\n",
       "    }\n",
       "</style>\n",
       "<table border=\"1\" class=\"dataframe\">\n",
       "  <thead>\n",
       "    <tr style=\"text-align: right;\">\n",
       "      <th></th>\n",
       "      <th>pubId</th>\n",
       "      <th>canonicalUrl</th>\n",
       "      <th>firstScrape</th>\n",
       "      <th>title</th>\n",
       "      <th>text</th>\n",
       "      <th>lang_reliability</th>\n",
       "      <th>lang_iso</th>\n",
       "      <th>title_len</th>\n",
       "      <th>text_len</th>\n",
       "      <th>label</th>\n",
       "    </tr>\n",
       "  </thead>\n",
       "  <tbody>\n",
       "    <tr>\n",
       "      <td>31512</td>\n",
       "      <td>16</td>\n",
       "      <td>news.google.com/stories/caaqaagkimjdqkltuxpvsm...</td>\n",
       "      <td>7/19/2018 5:36:57 PM -04:00</td>\n",
       "      <td>meets Vladimir Putin - Overview</td>\n",
       "      <td>Donald Trump meets Vladimir Putin ### Top cove...</td>\n",
       "      <td>1</td>\n",
       "      <td>en</td>\n",
       "      <td>31</td>\n",
       "      <td>13277</td>\n",
       "      <td>helsinki</td>\n",
       "    </tr>\n",
       "    <tr>\n",
       "      <td>28515</td>\n",
       "      <td>474</td>\n",
       "      <td>democratandchronicle.com/picture-gallery/sport...</td>\n",
       "      <td>7/19/2018 7:25:23 PM -04:00</td>\n",
       "      <td>Jim Kelly gives emotional speech at ESPYs</td>\n",
       "      <td>FacebookEmail Twitter Google+ LinkedIn Pintere...</td>\n",
       "      <td>1</td>\n",
       "      <td>en</td>\n",
       "      <td>41</td>\n",
       "      <td>3100</td>\n",
       "      <td>NaN</td>\n",
       "    </tr>\n",
       "    <tr>\n",
       "      <td>28514</td>\n",
       "      <td>474</td>\n",
       "      <td>democratandchronicle.com/story/sports/olympics...</td>\n",
       "      <td>7/19/2018 7:33:38 PM -04:00</td>\n",
       "      <td>Denis Ten, Olympic figure skater and medalist,...</td>\n",
       "      <td>To find out more about Facebook commenting ple...</td>\n",
       "      <td>1</td>\n",
       "      <td>en</td>\n",
       "      <td>66</td>\n",
       "      <td>2537</td>\n",
       "      <td>NaN</td>\n",
       "    </tr>\n",
       "    <tr>\n",
       "      <td>30278</td>\n",
       "      <td>641</td>\n",
       "      <td>gameinformer.com/gamer-culture/2018/07/19/star...</td>\n",
       "      <td>7/20/2018 1:32:44 AM -04:00</td>\n",
       "      <td>Star Wars: Clone Wars CG Series Returning</td>\n",
       "      <td>Star Wars: Clone Wars CG Series Returning ### ...</td>\n",
       "      <td>1</td>\n",
       "      <td>en</td>\n",
       "      <td>41</td>\n",
       "      <td>1041</td>\n",
       "      <td>NaN</td>\n",
       "    </tr>\n",
       "    <tr>\n",
       "      <td>28131</td>\n",
       "      <td>183</td>\n",
       "      <td>radaronline.com/exclusives/2018/07/alaskan-bus...</td>\n",
       "      <td>7/20/2018 7:32:23 AM -04:00</td>\n",
       "      <td>‘Alaskan Bush’ Star Noah Brown Celebrates Birt...</td>\n",
       "      <td>‘Alaskan Bush’ Star Noah Brown Celebrates Birt...</td>\n",
       "      <td>1</td>\n",
       "      <td>en</td>\n",
       "      <td>65</td>\n",
       "      <td>1564</td>\n",
       "      <td>NaN</td>\n",
       "    </tr>\n",
       "  </tbody>\n",
       "</table>\n",
       "</div>"
      ],
      "text/plain": [
       "      pubId                                       canonicalUrl  \\\n",
       "31512    16  news.google.com/stories/caaqaagkimjdqkltuxpvsm...   \n",
       "28515   474  democratandchronicle.com/picture-gallery/sport...   \n",
       "28514   474  democratandchronicle.com/story/sports/olympics...   \n",
       "30278   641  gameinformer.com/gamer-culture/2018/07/19/star...   \n",
       "28131   183  radaronline.com/exclusives/2018/07/alaskan-bus...   \n",
       "\n",
       "                       firstScrape  \\\n",
       "31512  7/19/2018 5:36:57 PM -04:00   \n",
       "28515  7/19/2018 7:25:23 PM -04:00   \n",
       "28514  7/19/2018 7:33:38 PM -04:00   \n",
       "30278  7/20/2018 1:32:44 AM -04:00   \n",
       "28131  7/20/2018 7:32:23 AM -04:00   \n",
       "\n",
       "                                                   title  \\\n",
       "31512                    meets Vladimir Putin - Overview   \n",
       "28515          Jim Kelly gives emotional speech at ESPYs   \n",
       "28514  Denis Ten, Olympic figure skater and medalist,...   \n",
       "30278          Star Wars: Clone Wars CG Series Returning   \n",
       "28131  ‘Alaskan Bush’ Star Noah Brown Celebrates Birt...   \n",
       "\n",
       "                                                    text lang_reliability  \\\n",
       "31512  Donald Trump meets Vladimir Putin ### Top cove...                1   \n",
       "28515  FacebookEmail Twitter Google+ LinkedIn Pintere...                1   \n",
       "28514  To find out more about Facebook commenting ple...                1   \n",
       "30278  Star Wars: Clone Wars CG Series Returning ### ...                1   \n",
       "28131  ‘Alaskan Bush’ Star Noah Brown Celebrates Birt...                1   \n",
       "\n",
       "      lang_iso  title_len  text_len     label  \n",
       "31512       en         31     13277  helsinki  \n",
       "28515       en         41      3100       NaN  \n",
       "28514       en         66      2537       NaN  \n",
       "30278       en         41      1041       NaN  \n",
       "28131       en         65      1564       NaN  "
      ]
     },
     "execution_count": 114,
     "metadata": {},
     "output_type": "execute_result"
    }
   ],
   "source": [
    "top_cluster = article_cluster[index_by_size[0]]\n",
    "top_cluster.head()"
   ]
  },
  {
   "cell_type": "code",
   "execution_count": 65,
   "metadata": {
    "ExecuteTime": {
     "end_time": "2019-11-11T19:58:48.035693Z",
     "start_time": "2019-11-11T19:58:48.029681Z"
    },
    "scrolled": false
   },
   "outputs": [
    {
     "name": "stdout",
     "output_type": "stream",
     "text": [
      "News Media Find Trump Guilty of Treason\n",
      "Multiple People Are Injured After A Tourist Boat Capsized In Missouri\n",
      "Eight Die After Boat Capsizes in Storm Near Branson, Mo.  - WSJ\n",
      "Sheriff: 8 dead after Missouri tourist boat accident\n",
      "Duck boat capsizes on Missouri lake; multiple casualties reported | Fox News\n",
      "timeline: The dangerous race to bring trapped soccer team home\n",
      "Trump invites Putin to US as Democrats call for Helsinki details\n",
      "Sheriff: 8 dead, several injured after Missouri tourist boat capsizes in storm\n",
      "Just Acknowledged Russian Meddling in the 2016 Election\n",
      "approved announcing Mueller's latest Russia indictment ahead of his meeting with Putin: source\n"
     ]
    }
   ],
   "source": [
    "print('\\n'.join(top_cluster.title.tolist()[:10]))"
   ]
  },
  {
   "cell_type": "code",
   "execution_count": 121,
   "metadata": {
    "ExecuteTime": {
     "end_time": "2019-11-11T20:18:26.593319Z",
     "start_time": "2019-11-11T20:18:26.545919Z"
    }
   },
   "outputs": [
    {
     "name": "stderr",
     "output_type": "stream",
     "text": [
      "C:\\Users\\harinsa\\Anaconda3\\lib\\site-packages\\ipykernel_launcher.py:2: SettingWithCopyWarning: \n",
      "A value is trying to be set on a copy of a slice from a DataFrame.\n",
      "Try using .loc[row_indexer,col_indexer] = value instead\n",
      "\n",
      "See the caveats in the documentation: http://pandas.pydata.org/pandas-docs/stable/user_guide/indexing.html#returning-a-view-versus-a-copy\n",
      "  \n"
     ]
    }
   ],
   "source": [
    "for i, a in enumerate(article_cluster):\n",
    "    a['assignment'] = i"
   ]
  },
  {
   "cell_type": "code",
   "execution_count": 122,
   "metadata": {
    "ExecuteTime": {
     "end_time": "2019-11-11T20:18:27.809513Z",
     "start_time": "2019-11-11T20:18:27.713751Z"
    }
   },
   "outputs": [
    {
     "data": {
      "text/plain": [
       "(10140, 11)"
      ]
     },
     "execution_count": 122,
     "metadata": {},
     "output_type": "execute_result"
    }
   ],
   "source": [
    "articles = pd.concat(article_cluster)\n",
    "articles.shape"
   ]
  },
  {
   "cell_type": "code",
   "execution_count": 123,
   "metadata": {
    "ExecuteTime": {
     "end_time": "2019-11-11T20:20:17.941026Z",
     "start_time": "2019-11-11T20:18:28.555372Z"
    }
   },
   "outputs": [
    {
     "ename": "KeyboardInterrupt",
     "evalue": "",
     "output_type": "error",
     "traceback": [
      "\u001b[1;31m---------------------------------------------------------------------------\u001b[0m",
      "\u001b[1;31mKeyboardInterrupt\u001b[0m                         Traceback (most recent call last)",
      "\u001b[1;32m<ipython-input-123-673f8fa85e86>\u001b[0m in \u001b[0;36m<module>\u001b[1;34m\u001b[0m\n\u001b[0;32m      1\u001b[0m \u001b[0mk\u001b[0m \u001b[1;33m=\u001b[0m \u001b[0mKMeans\u001b[0m\u001b[1;33m(\u001b[0m\u001b[0mn_clusters\u001b[0m\u001b[1;33m=\u001b[0m\u001b[0mlen\u001b[0m\u001b[1;33m(\u001b[0m\u001b[0mcluster_sizes\u001b[0m\u001b[1;33m)\u001b[0m\u001b[1;33m,\u001b[0m \u001b[0mn_jobs\u001b[0m\u001b[1;33m=\u001b[0m\u001b[1;33m-\u001b[0m\u001b[1;36m1\u001b[0m\u001b[1;33m)\u001b[0m\u001b[1;33m\u001b[0m\u001b[1;33m\u001b[0m\u001b[0m\n\u001b[1;32m----> 2\u001b[1;33m \u001b[0my_kmean\u001b[0m \u001b[1;33m=\u001b[0m \u001b[0mk\u001b[0m\u001b[1;33m.\u001b[0m\u001b[0mfit_predict\u001b[0m\u001b[1;33m(\u001b[0m\u001b[0msample_emb\u001b[0m\u001b[1;33m)\u001b[0m\u001b[1;33m;\u001b[0m \u001b[0my_kmean\u001b[0m\u001b[1;33m\u001b[0m\u001b[1;33m\u001b[0m\u001b[0m\n\u001b[0m",
      "\u001b[1;32m~\\Anaconda3\\lib\\site-packages\\sklearn\\cluster\\k_means_.py\u001b[0m in \u001b[0;36mfit_predict\u001b[1;34m(self, X, y, sample_weight)\u001b[0m\n\u001b[0;32m    996\u001b[0m             \u001b[0mIndex\u001b[0m \u001b[0mof\u001b[0m \u001b[0mthe\u001b[0m \u001b[0mcluster\u001b[0m \u001b[0meach\u001b[0m \u001b[0msample\u001b[0m \u001b[0mbelongs\u001b[0m \u001b[0mto\u001b[0m\u001b[1;33m.\u001b[0m\u001b[1;33m\u001b[0m\u001b[1;33m\u001b[0m\u001b[0m\n\u001b[0;32m    997\u001b[0m         \"\"\"\n\u001b[1;32m--> 998\u001b[1;33m         \u001b[1;32mreturn\u001b[0m \u001b[0mself\u001b[0m\u001b[1;33m.\u001b[0m\u001b[0mfit\u001b[0m\u001b[1;33m(\u001b[0m\u001b[0mX\u001b[0m\u001b[1;33m,\u001b[0m \u001b[0msample_weight\u001b[0m\u001b[1;33m=\u001b[0m\u001b[0msample_weight\u001b[0m\u001b[1;33m)\u001b[0m\u001b[1;33m.\u001b[0m\u001b[0mlabels_\u001b[0m\u001b[1;33m\u001b[0m\u001b[1;33m\u001b[0m\u001b[0m\n\u001b[0m\u001b[0;32m    999\u001b[0m \u001b[1;33m\u001b[0m\u001b[0m\n\u001b[0;32m   1000\u001b[0m     \u001b[1;32mdef\u001b[0m \u001b[0mfit_transform\u001b[0m\u001b[1;33m(\u001b[0m\u001b[0mself\u001b[0m\u001b[1;33m,\u001b[0m \u001b[0mX\u001b[0m\u001b[1;33m,\u001b[0m \u001b[0my\u001b[0m\u001b[1;33m=\u001b[0m\u001b[1;32mNone\u001b[0m\u001b[1;33m,\u001b[0m \u001b[0msample_weight\u001b[0m\u001b[1;33m=\u001b[0m\u001b[1;32mNone\u001b[0m\u001b[1;33m)\u001b[0m\u001b[1;33m:\u001b[0m\u001b[1;33m\u001b[0m\u001b[1;33m\u001b[0m\u001b[0m\n",
      "\u001b[1;32m~\\Anaconda3\\lib\\site-packages\\sklearn\\cluster\\k_means_.py\u001b[0m in \u001b[0;36mfit\u001b[1;34m(self, X, y, sample_weight)\u001b[0m\n\u001b[0;32m    970\u001b[0m                 \u001b[0mtol\u001b[0m\u001b[1;33m=\u001b[0m\u001b[0mself\u001b[0m\u001b[1;33m.\u001b[0m\u001b[0mtol\u001b[0m\u001b[1;33m,\u001b[0m \u001b[0mrandom_state\u001b[0m\u001b[1;33m=\u001b[0m\u001b[0mrandom_state\u001b[0m\u001b[1;33m,\u001b[0m \u001b[0mcopy_x\u001b[0m\u001b[1;33m=\u001b[0m\u001b[0mself\u001b[0m\u001b[1;33m.\u001b[0m\u001b[0mcopy_x\u001b[0m\u001b[1;33m,\u001b[0m\u001b[1;33m\u001b[0m\u001b[1;33m\u001b[0m\u001b[0m\n\u001b[0;32m    971\u001b[0m                 \u001b[0mn_jobs\u001b[0m\u001b[1;33m=\u001b[0m\u001b[0mself\u001b[0m\u001b[1;33m.\u001b[0m\u001b[0mn_jobs\u001b[0m\u001b[1;33m,\u001b[0m \u001b[0malgorithm\u001b[0m\u001b[1;33m=\u001b[0m\u001b[0mself\u001b[0m\u001b[1;33m.\u001b[0m\u001b[0malgorithm\u001b[0m\u001b[1;33m,\u001b[0m\u001b[1;33m\u001b[0m\u001b[1;33m\u001b[0m\u001b[0m\n\u001b[1;32m--> 972\u001b[1;33m                 return_n_iter=True)\n\u001b[0m\u001b[0;32m    973\u001b[0m         \u001b[1;32mreturn\u001b[0m \u001b[0mself\u001b[0m\u001b[1;33m\u001b[0m\u001b[1;33m\u001b[0m\u001b[0m\n\u001b[0;32m    974\u001b[0m \u001b[1;33m\u001b[0m\u001b[0m\n",
      "\u001b[1;32m~\\Anaconda3\\lib\\site-packages\\sklearn\\cluster\\k_means_.py\u001b[0m in \u001b[0;36mk_means\u001b[1;34m(X, n_clusters, sample_weight, init, precompute_distances, n_init, max_iter, verbose, tol, random_state, copy_x, n_jobs, algorithm, return_n_iter)\u001b[0m\n\u001b[0;32m    397\u001b[0m                                    \u001b[1;31m# Change seed to ensure variety\u001b[0m\u001b[1;33m\u001b[0m\u001b[1;33m\u001b[0m\u001b[1;33m\u001b[0m\u001b[0m\n\u001b[0;32m    398\u001b[0m                                    random_state=seed)\n\u001b[1;32m--> 399\u001b[1;33m             for seed in seeds)\n\u001b[0m\u001b[0;32m    400\u001b[0m         \u001b[1;31m# Get results with the lowest inertia\u001b[0m\u001b[1;33m\u001b[0m\u001b[1;33m\u001b[0m\u001b[1;33m\u001b[0m\u001b[0m\n\u001b[0;32m    401\u001b[0m         \u001b[0mlabels\u001b[0m\u001b[1;33m,\u001b[0m \u001b[0minertia\u001b[0m\u001b[1;33m,\u001b[0m \u001b[0mcenters\u001b[0m\u001b[1;33m,\u001b[0m \u001b[0mn_iters\u001b[0m \u001b[1;33m=\u001b[0m \u001b[0mzip\u001b[0m\u001b[1;33m(\u001b[0m\u001b[1;33m*\u001b[0m\u001b[0mresults\u001b[0m\u001b[1;33m)\u001b[0m\u001b[1;33m\u001b[0m\u001b[1;33m\u001b[0m\u001b[0m\n",
      "\u001b[1;32m~\\Anaconda3\\lib\\site-packages\\joblib\\parallel.py\u001b[0m in \u001b[0;36m__call__\u001b[1;34m(self, iterable)\u001b[0m\n\u001b[0;32m    932\u001b[0m \u001b[1;33m\u001b[0m\u001b[0m\n\u001b[0;32m    933\u001b[0m             \u001b[1;32mwith\u001b[0m \u001b[0mself\u001b[0m\u001b[1;33m.\u001b[0m\u001b[0m_backend\u001b[0m\u001b[1;33m.\u001b[0m\u001b[0mretrieval_context\u001b[0m\u001b[1;33m(\u001b[0m\u001b[1;33m)\u001b[0m\u001b[1;33m:\u001b[0m\u001b[1;33m\u001b[0m\u001b[1;33m\u001b[0m\u001b[0m\n\u001b[1;32m--> 934\u001b[1;33m                 \u001b[0mself\u001b[0m\u001b[1;33m.\u001b[0m\u001b[0mretrieve\u001b[0m\u001b[1;33m(\u001b[0m\u001b[1;33m)\u001b[0m\u001b[1;33m\u001b[0m\u001b[1;33m\u001b[0m\u001b[0m\n\u001b[0m\u001b[0;32m    935\u001b[0m             \u001b[1;31m# Make sure that we get a last message telling us we are done\u001b[0m\u001b[1;33m\u001b[0m\u001b[1;33m\u001b[0m\u001b[1;33m\u001b[0m\u001b[0m\n\u001b[0;32m    936\u001b[0m             \u001b[0melapsed_time\u001b[0m \u001b[1;33m=\u001b[0m \u001b[0mtime\u001b[0m\u001b[1;33m.\u001b[0m\u001b[0mtime\u001b[0m\u001b[1;33m(\u001b[0m\u001b[1;33m)\u001b[0m \u001b[1;33m-\u001b[0m \u001b[0mself\u001b[0m\u001b[1;33m.\u001b[0m\u001b[0m_start_time\u001b[0m\u001b[1;33m\u001b[0m\u001b[1;33m\u001b[0m\u001b[0m\n",
      "\u001b[1;32m~\\Anaconda3\\lib\\site-packages\\joblib\\parallel.py\u001b[0m in \u001b[0;36mretrieve\u001b[1;34m(self)\u001b[0m\n\u001b[0;32m    831\u001b[0m             \u001b[1;32mtry\u001b[0m\u001b[1;33m:\u001b[0m\u001b[1;33m\u001b[0m\u001b[1;33m\u001b[0m\u001b[0m\n\u001b[0;32m    832\u001b[0m                 \u001b[1;32mif\u001b[0m \u001b[0mgetattr\u001b[0m\u001b[1;33m(\u001b[0m\u001b[0mself\u001b[0m\u001b[1;33m.\u001b[0m\u001b[0m_backend\u001b[0m\u001b[1;33m,\u001b[0m \u001b[1;34m'supports_timeout'\u001b[0m\u001b[1;33m,\u001b[0m \u001b[1;32mFalse\u001b[0m\u001b[1;33m)\u001b[0m\u001b[1;33m:\u001b[0m\u001b[1;33m\u001b[0m\u001b[1;33m\u001b[0m\u001b[0m\n\u001b[1;32m--> 833\u001b[1;33m                     \u001b[0mself\u001b[0m\u001b[1;33m.\u001b[0m\u001b[0m_output\u001b[0m\u001b[1;33m.\u001b[0m\u001b[0mextend\u001b[0m\u001b[1;33m(\u001b[0m\u001b[0mjob\u001b[0m\u001b[1;33m.\u001b[0m\u001b[0mget\u001b[0m\u001b[1;33m(\u001b[0m\u001b[0mtimeout\u001b[0m\u001b[1;33m=\u001b[0m\u001b[0mself\u001b[0m\u001b[1;33m.\u001b[0m\u001b[0mtimeout\u001b[0m\u001b[1;33m)\u001b[0m\u001b[1;33m)\u001b[0m\u001b[1;33m\u001b[0m\u001b[1;33m\u001b[0m\u001b[0m\n\u001b[0m\u001b[0;32m    834\u001b[0m                 \u001b[1;32melse\u001b[0m\u001b[1;33m:\u001b[0m\u001b[1;33m\u001b[0m\u001b[1;33m\u001b[0m\u001b[0m\n\u001b[0;32m    835\u001b[0m                     \u001b[0mself\u001b[0m\u001b[1;33m.\u001b[0m\u001b[0m_output\u001b[0m\u001b[1;33m.\u001b[0m\u001b[0mextend\u001b[0m\u001b[1;33m(\u001b[0m\u001b[0mjob\u001b[0m\u001b[1;33m.\u001b[0m\u001b[0mget\u001b[0m\u001b[1;33m(\u001b[0m\u001b[1;33m)\u001b[0m\u001b[1;33m)\u001b[0m\u001b[1;33m\u001b[0m\u001b[1;33m\u001b[0m\u001b[0m\n",
      "\u001b[1;32m~\\Anaconda3\\lib\\site-packages\\joblib\\_parallel_backends.py\u001b[0m in \u001b[0;36mwrap_future_result\u001b[1;34m(future, timeout)\u001b[0m\n\u001b[0;32m    519\u001b[0m         AsyncResults.get from multiprocessing.\"\"\"\n\u001b[0;32m    520\u001b[0m         \u001b[1;32mtry\u001b[0m\u001b[1;33m:\u001b[0m\u001b[1;33m\u001b[0m\u001b[1;33m\u001b[0m\u001b[0m\n\u001b[1;32m--> 521\u001b[1;33m             \u001b[1;32mreturn\u001b[0m \u001b[0mfuture\u001b[0m\u001b[1;33m.\u001b[0m\u001b[0mresult\u001b[0m\u001b[1;33m(\u001b[0m\u001b[0mtimeout\u001b[0m\u001b[1;33m=\u001b[0m\u001b[0mtimeout\u001b[0m\u001b[1;33m)\u001b[0m\u001b[1;33m\u001b[0m\u001b[1;33m\u001b[0m\u001b[0m\n\u001b[0m\u001b[0;32m    522\u001b[0m         \u001b[1;32mexcept\u001b[0m \u001b[0mLokyTimeoutError\u001b[0m\u001b[1;33m:\u001b[0m\u001b[1;33m\u001b[0m\u001b[1;33m\u001b[0m\u001b[0m\n\u001b[0;32m    523\u001b[0m             \u001b[1;32mraise\u001b[0m \u001b[0mTimeoutError\u001b[0m\u001b[1;33m(\u001b[0m\u001b[1;33m)\u001b[0m\u001b[1;33m\u001b[0m\u001b[1;33m\u001b[0m\u001b[0m\n",
      "\u001b[1;32m~\\Anaconda3\\lib\\concurrent\\futures\\_base.py\u001b[0m in \u001b[0;36mresult\u001b[1;34m(self, timeout)\u001b[0m\n\u001b[0;32m    428\u001b[0m                 \u001b[1;32mreturn\u001b[0m \u001b[0mself\u001b[0m\u001b[1;33m.\u001b[0m\u001b[0m__get_result\u001b[0m\u001b[1;33m(\u001b[0m\u001b[1;33m)\u001b[0m\u001b[1;33m\u001b[0m\u001b[1;33m\u001b[0m\u001b[0m\n\u001b[0;32m    429\u001b[0m \u001b[1;33m\u001b[0m\u001b[0m\n\u001b[1;32m--> 430\u001b[1;33m             \u001b[0mself\u001b[0m\u001b[1;33m.\u001b[0m\u001b[0m_condition\u001b[0m\u001b[1;33m.\u001b[0m\u001b[0mwait\u001b[0m\u001b[1;33m(\u001b[0m\u001b[0mtimeout\u001b[0m\u001b[1;33m)\u001b[0m\u001b[1;33m\u001b[0m\u001b[1;33m\u001b[0m\u001b[0m\n\u001b[0m\u001b[0;32m    431\u001b[0m \u001b[1;33m\u001b[0m\u001b[0m\n\u001b[0;32m    432\u001b[0m             \u001b[1;32mif\u001b[0m \u001b[0mself\u001b[0m\u001b[1;33m.\u001b[0m\u001b[0m_state\u001b[0m \u001b[1;32min\u001b[0m \u001b[1;33m[\u001b[0m\u001b[0mCANCELLED\u001b[0m\u001b[1;33m,\u001b[0m \u001b[0mCANCELLED_AND_NOTIFIED\u001b[0m\u001b[1;33m]\u001b[0m\u001b[1;33m:\u001b[0m\u001b[1;33m\u001b[0m\u001b[1;33m\u001b[0m\u001b[0m\n",
      "\u001b[1;32m~\\Anaconda3\\lib\\threading.py\u001b[0m in \u001b[0;36mwait\u001b[1;34m(self, timeout)\u001b[0m\n\u001b[0;32m    294\u001b[0m         \u001b[1;32mtry\u001b[0m\u001b[1;33m:\u001b[0m    \u001b[1;31m# restore state no matter what (e.g., KeyboardInterrupt)\u001b[0m\u001b[1;33m\u001b[0m\u001b[1;33m\u001b[0m\u001b[0m\n\u001b[0;32m    295\u001b[0m             \u001b[1;32mif\u001b[0m \u001b[0mtimeout\u001b[0m \u001b[1;32mis\u001b[0m \u001b[1;32mNone\u001b[0m\u001b[1;33m:\u001b[0m\u001b[1;33m\u001b[0m\u001b[1;33m\u001b[0m\u001b[0m\n\u001b[1;32m--> 296\u001b[1;33m                 \u001b[0mwaiter\u001b[0m\u001b[1;33m.\u001b[0m\u001b[0macquire\u001b[0m\u001b[1;33m(\u001b[0m\u001b[1;33m)\u001b[0m\u001b[1;33m\u001b[0m\u001b[1;33m\u001b[0m\u001b[0m\n\u001b[0m\u001b[0;32m    297\u001b[0m                 \u001b[0mgotit\u001b[0m \u001b[1;33m=\u001b[0m \u001b[1;32mTrue\u001b[0m\u001b[1;33m\u001b[0m\u001b[1;33m\u001b[0m\u001b[0m\n\u001b[0;32m    298\u001b[0m             \u001b[1;32melse\u001b[0m\u001b[1;33m:\u001b[0m\u001b[1;33m\u001b[0m\u001b[1;33m\u001b[0m\u001b[0m\n",
      "\u001b[1;31mKeyboardInterrupt\u001b[0m: "
     ]
    }
   ],
   "source": [
    "k = KMeans(n_clusters=len(cluster_sizes), n_jobs=-1)\n",
    "y_kmean = k.fit_predict(sample_emb); y_kmean"
   ]
  },
  {
   "cell_type": "code",
   "execution_count": 124,
   "metadata": {
    "ExecuteTime": {
     "end_time": "2019-11-11T20:20:28.643271Z",
     "start_time": "2019-11-11T20:20:28.637288Z"
    }
   },
   "outputs": [],
   "source": [
    "articles['y_kmean'] = y_kmean"
   ]
  },
  {
   "cell_type": "code",
   "execution_count": 125,
   "metadata": {
    "ExecuteTime": {
     "end_time": "2019-11-11T20:20:29.263496Z",
     "start_time": "2019-11-11T20:20:29.236569Z"
    }
   },
   "outputs": [],
   "source": [
    "labeled_articles = articles.dropna(subset=['label'])"
   ]
  },
  {
   "cell_type": "code",
   "execution_count": 139,
   "metadata": {
    "ExecuteTime": {
     "end_time": "2019-11-11T20:24:40.216497Z",
     "start_time": "2019-11-11T20:24:40.182588Z"
    }
   },
   "outputs": [
    {
     "name": "stdout",
     "output_type": "stream",
     "text": [
      "140\n",
      "140\n",
      "140\n",
      "140\n",
      "140\n",
      "140\n"
     ]
    }
   ],
   "source": [
    "from sklearn.metrics import precision_recall_fscore_support\n",
    "\n",
    "def get_largest_cluster(y_pred):\n",
    "    print(len(y_pred))\n",
    "    cluster_size = {}\n",
    "    cluster_labels = set(y_pred)\n",
    "    max_cluster_label = -1\n",
    "    max_cluster_size = -1\n",
    "    for cluster_label in cluster_labels:\n",
    "        count = np.sum(y_pred == cluster_label)\n",
    "        if count > max_cluster_size:\n",
    "            max_cluster_label = cluster_label\n",
    "            max_cluster_size = count\n",
    "    return max_cluster_label, max_cluster_size\n",
    "\n",
    "def max_cluster_acc(y_true, y_pred, name=None):\n",
    "    labels = set(y_true)\n",
    "    result = []\n",
    "    for label in labels:\n",
    "        if not isinstance(label, str): continue # remove NaN\n",
    "        label_y_true = (y_true == label).astype(int)\n",
    "        \n",
    "        # get cluster with the largest population of label\n",
    "        max_cluster_label, max_cluster_size = get_largest_cluster(y_pred.iloc[label_y_true])\n",
    "        label_y_pred = (y_pred == max_cluster_label).astype(int)\n",
    "        precision, recall, f_score, support = precision_recall_fscore_support(\n",
    "            label_y_true, label_y_pred, average=None\n",
    "        )\n",
    "        \n",
    "        scores = {\n",
    "            'label': label,\n",
    "            'precision': precision[1],\n",
    "            'recall': recall[1],\n",
    "            'f_score': f_score[1]\n",
    "        }\n",
    "        if name: scores['name'] = name\n",
    "        result.append(scores)\n",
    "        \n",
    "    return result\n",
    "        \n",
    "\n",
    "results = max_cluster_acc(labeled_articles.label, labeled_articles.assignment, 'cd') +  max_cluster_acc(labeled_articles.label, labeled_articles.y_kmean, 'kmean')"
   ]
  },
  {
   "cell_type": "code",
   "execution_count": 140,
   "metadata": {
    "ExecuteTime": {
     "end_time": "2019-11-11T20:24:41.318564Z",
     "start_time": "2019-11-11T20:24:41.307582Z"
    }
   },
   "outputs": [
    {
     "data": {
      "text/html": [
       "<div>\n",
       "<style scoped>\n",
       "    .dataframe tbody tr th:only-of-type {\n",
       "        vertical-align: middle;\n",
       "    }\n",
       "\n",
       "    .dataframe tbody tr th {\n",
       "        vertical-align: top;\n",
       "    }\n",
       "\n",
       "    .dataframe thead th {\n",
       "        text-align: right;\n",
       "    }\n",
       "</style>\n",
       "<table border=\"1\" class=\"dataframe\">\n",
       "  <thead>\n",
       "    <tr style=\"text-align: right;\">\n",
       "      <th></th>\n",
       "      <th>label</th>\n",
       "      <th>precision</th>\n",
       "      <th>recall</th>\n",
       "      <th>f_score</th>\n",
       "      <th>name</th>\n",
       "    </tr>\n",
       "  </thead>\n",
       "  <tbody>\n",
       "    <tr>\n",
       "      <td>0</td>\n",
       "      <td>helsinki</td>\n",
       "      <td>0.575758</td>\n",
       "      <td>0.431818</td>\n",
       "      <td>0.493506</td>\n",
       "      <td>cd</td>\n",
       "    </tr>\n",
       "    <tr>\n",
       "      <td>1</td>\n",
       "      <td>duckboat</td>\n",
       "      <td>0.181818</td>\n",
       "      <td>0.571429</td>\n",
       "      <td>0.275862</td>\n",
       "      <td>cd</td>\n",
       "    </tr>\n",
       "    <tr>\n",
       "      <td>2</td>\n",
       "      <td>cave_rescue</td>\n",
       "      <td>0.242424</td>\n",
       "      <td>0.516129</td>\n",
       "      <td>0.329897</td>\n",
       "      <td>cd</td>\n",
       "    </tr>\n",
       "    <tr>\n",
       "      <td>3</td>\n",
       "      <td>helsinki</td>\n",
       "      <td>0.532258</td>\n",
       "      <td>0.375000</td>\n",
       "      <td>0.440000</td>\n",
       "      <td>kmean</td>\n",
       "    </tr>\n",
       "    <tr>\n",
       "      <td>4</td>\n",
       "      <td>duckboat</td>\n",
       "      <td>0.263158</td>\n",
       "      <td>0.238095</td>\n",
       "      <td>0.250000</td>\n",
       "      <td>kmean</td>\n",
       "    </tr>\n",
       "    <tr>\n",
       "      <td>5</td>\n",
       "      <td>cave_rescue</td>\n",
       "      <td>0.052632</td>\n",
       "      <td>0.032258</td>\n",
       "      <td>0.040000</td>\n",
       "      <td>kmean</td>\n",
       "    </tr>\n",
       "  </tbody>\n",
       "</table>\n",
       "</div>"
      ],
      "text/plain": [
       "         label  precision    recall   f_score   name\n",
       "0     helsinki   0.575758  0.431818  0.493506     cd\n",
       "1     duckboat   0.181818  0.571429  0.275862     cd\n",
       "2  cave_rescue   0.242424  0.516129  0.329897     cd\n",
       "3     helsinki   0.532258  0.375000  0.440000  kmean\n",
       "4     duckboat   0.263158  0.238095  0.250000  kmean\n",
       "5  cave_rescue   0.052632  0.032258  0.040000  kmean"
      ]
     },
     "execution_count": 140,
     "metadata": {},
     "output_type": "execute_result"
    }
   ],
   "source": [
    "result_df = pd.DataFrame(results)\n",
    "result_df"
   ]
  },
  {
   "cell_type": "code",
   "execution_count": 158,
   "metadata": {
    "ExecuteTime": {
     "end_time": "2019-11-11T20:30:12.348509Z",
     "start_time": "2019-11-11T20:30:12.321582Z"
    }
   },
   "outputs": [
    {
     "name": "stdout",
     "output_type": "stream",
     "text": [
      "precision\n",
      "--------------------------------------------------\n",
      "name               cd     kmean\n",
      "label                          \n",
      "cave_rescue  0.242424  0.052632\n",
      "duckboat     0.181818  0.263158\n",
      "helsinki     0.575758  0.532258\n",
      "mean         0.333333  0.282683\n",
      "\n",
      "\n",
      "recall\n",
      "--------------------------------------------------\n",
      "name               cd     kmean\n",
      "label                          \n",
      "cave_rescue  0.516129  0.032258\n",
      "duckboat     0.571429  0.238095\n",
      "helsinki     0.431818  0.375000\n",
      "mean         0.506459  0.215118\n",
      "\n",
      "\n",
      "f_score\n",
      "--------------------------------------------------\n",
      "name               cd     kmean\n",
      "label                          \n",
      "cave_rescue  0.329897  0.040000\n",
      "duckboat     0.275862  0.250000\n",
      "helsinki     0.493506  0.440000\n",
      "mean         0.366422  0.243333\n",
      "\n",
      "\n"
     ]
    }
   ],
   "source": [
    "metrics = ['precision', 'recall', 'f_score']\n",
    "for metric in metrics:\n",
    "    print(metric)\n",
    "    print('-'*50)\n",
    "    precision_df = result_df.pivot('label', 'name', metric)\n",
    "    mean_series = precision_df.mean()\n",
    "    mean_series.name  = 'mean'\n",
    "    precision_df = precision_df.append(mean_series)\n",
    "    print(precision_df)\n",
    "    print('\\n')"
   ]
  },
  {
   "cell_type": "code",
   "execution_count": 159,
   "metadata": {
    "ExecuteTime": {
     "end_time": "2019-11-11T20:34:08.795512Z",
     "start_time": "2019-11-11T20:34:08.774569Z"
    }
   },
   "outputs": [
    {
     "data": {
      "text/html": [
       "<div>\n",
       "<style scoped>\n",
       "    .dataframe tbody tr th:only-of-type {\n",
       "        vertical-align: middle;\n",
       "    }\n",
       "\n",
       "    .dataframe tbody tr th {\n",
       "        vertical-align: top;\n",
       "    }\n",
       "\n",
       "    .dataframe thead th {\n",
       "        text-align: right;\n",
       "    }\n",
       "</style>\n",
       "<table border=\"1\" class=\"dataframe\">\n",
       "  <thead>\n",
       "    <tr style=\"text-align: right;\">\n",
       "      <th></th>\n",
       "      <th>precision</th>\n",
       "      <th>recall</th>\n",
       "      <th>f_score</th>\n",
       "    </tr>\n",
       "    <tr>\n",
       "      <th>name</th>\n",
       "      <th></th>\n",
       "      <th></th>\n",
       "      <th></th>\n",
       "    </tr>\n",
       "  </thead>\n",
       "  <tbody>\n",
       "    <tr>\n",
       "      <td>cd</td>\n",
       "      <td>0.333333</td>\n",
       "      <td>0.506459</td>\n",
       "      <td>0.366422</td>\n",
       "    </tr>\n",
       "    <tr>\n",
       "      <td>kmean</td>\n",
       "      <td>0.282683</td>\n",
       "      <td>0.215118</td>\n",
       "      <td>0.243333</td>\n",
       "    </tr>\n",
       "  </tbody>\n",
       "</table>\n",
       "</div>"
      ],
      "text/plain": [
       "       precision    recall   f_score\n",
       "name                                \n",
       "cd      0.333333  0.506459  0.366422\n",
       "kmean   0.282683  0.215118  0.243333"
      ]
     },
     "execution_count": 159,
     "metadata": {},
     "output_type": "execute_result"
    }
   ],
   "source": [
    "result_df.groupby('name').mean()"
   ]
  },
  {
   "cell_type": "code",
   "execution_count": null,
   "metadata": {},
   "outputs": [],
   "source": []
  }
 ],
 "metadata": {
  "kernelspec": {
   "display_name": "Python 3",
   "language": "python",
   "name": "python3"
  },
  "language_info": {
   "codemirror_mode": {
    "name": "ipython",
    "version": 3
   },
   "file_extension": ".py",
   "mimetype": "text/x-python",
   "name": "python",
   "nbconvert_exporter": "python",
   "pygments_lexer": "ipython3",
   "version": "3.7.4"
  }
 },
 "nbformat": 4,
 "nbformat_minor": 2
}
