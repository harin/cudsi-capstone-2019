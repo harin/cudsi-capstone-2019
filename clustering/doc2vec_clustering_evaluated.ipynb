{
 "cells": [
  {
   "cell_type": "code",
   "execution_count": 1,
   "metadata": {
    "ExecuteTime": {
     "end_time": "2019-10-31T18:24:24.431236Z",
     "start_time": "2019-10-31T18:24:24.426250Z"
    }
   },
   "outputs": [],
   "source": [
    "from IPython.display import HTML\n",
    "from sklearn.neighbors import NearestNeighbors"
   ]
  },
  {
   "cell_type": "code",
   "execution_count": 2,
   "metadata": {
    "ExecuteTime": {
     "end_time": "2019-10-31T18:24:24.453194Z",
     "start_time": "2019-10-31T18:24:24.433231Z"
    }
   },
   "outputs": [],
   "source": [
    "import pandas as pd\n",
    "import networkx as nx\n",
    "import community\n",
    "import matplotlib.pyplot as plt\n",
    "from sklearn.metrics.pairwise import cosine_similarity, euclidean_distances\n",
    "import numpy as np\n",
    "from collections import defaultdict\n",
    "from sklearn.neighbors import BallTree\n",
    "import gc\n",
    "%matplotlib inline\n",
    "\n",
    "columns = [\"pubId\", \"is_hourly\", \"seqId\", \"on_homepage\", \"canonicalUrl\",\n",
    "                   \"firstScrape\", \"lang_iso\", \"lang_reliability\", \"title\", \"text\"]\n",
    "\n",
    "def read_article_df(file):\n",
    "    articles_dt = file.read().split('\\n')[:-1]\n",
    "    pubId, canonicalUrl,firstScrape,title,text,lang_reliability = [],[],[],[],[],[]\n",
    "    lang_iso = []\n",
    "    for article in articles_dt:    \n",
    "        row = article.split('\\t')\n",
    "        pubId.append(row[0])\n",
    "        canonicalUrl.append(row[4])\n",
    "        firstScrape.append(row[5])\n",
    "        lang_iso.append(row[6])\n",
    "        lang_reliability.append(row[7])\n",
    "        title.append(row[8])\n",
    "        text.append(row[9])\n",
    "\n",
    "    articles_df = pd.DataFrame()\n",
    "    articles_df['pubId'] = pubId\n",
    "    articles_df['canonicalUrl'] = canonicalUrl\n",
    "    articles_df['firstScrape'] = firstScrape\n",
    "    articles_df['title'] = title\n",
    "    articles_df['text'] = text\n",
    "    articles_df['lang_reliability'] = lang_reliability\n",
    "    articles_df['lang_iso'] = lang_iso\n",
    "    return articles_df"
   ]
  },
  {
   "cell_type": "code",
   "execution_count": 3,
   "metadata": {
    "ExecuteTime": {
     "end_time": "2019-10-31T18:24:29.598456Z",
     "start_time": "2019-10-31T18:24:24.456171Z"
    }
   },
   "outputs": [],
   "source": [
    "emb_df = pd.read_csv('../data/embedding/Doc2Vec_embedding_output.csv',index_col=0)"
   ]
  },
  {
   "cell_type": "code",
   "execution_count": 4,
   "metadata": {
    "ExecuteTime": {
     "end_time": "2019-10-31T18:24:29.635328Z",
     "start_time": "2019-10-31T18:24:29.601418Z"
    }
   },
   "outputs": [
    {
     "data": {
      "text/html": [
       "<div>\n",
       "<style scoped>\n",
       "    .dataframe tbody tr th:only-of-type {\n",
       "        vertical-align: middle;\n",
       "    }\n",
       "\n",
       "    .dataframe tbody tr th {\n",
       "        vertical-align: top;\n",
       "    }\n",
       "\n",
       "    .dataframe thead th {\n",
       "        text-align: right;\n",
       "    }\n",
       "</style>\n",
       "<table border=\"1\" class=\"dataframe\">\n",
       "  <thead>\n",
       "    <tr style=\"text-align: right;\">\n",
       "      <th></th>\n",
       "      <th>0</th>\n",
       "      <th>1</th>\n",
       "      <th>2</th>\n",
       "      <th>3</th>\n",
       "      <th>4</th>\n",
       "      <th>5</th>\n",
       "      <th>6</th>\n",
       "      <th>7</th>\n",
       "      <th>8</th>\n",
       "      <th>9</th>\n",
       "      <th>...</th>\n",
       "      <th>90</th>\n",
       "      <th>91</th>\n",
       "      <th>92</th>\n",
       "      <th>93</th>\n",
       "      <th>94</th>\n",
       "      <th>95</th>\n",
       "      <th>96</th>\n",
       "      <th>97</th>\n",
       "      <th>98</th>\n",
       "      <th>99</th>\n",
       "    </tr>\n",
       "  </thead>\n",
       "  <tbody>\n",
       "    <tr>\n",
       "      <td>0</td>\n",
       "      <td>-2.146739</td>\n",
       "      <td>-2.738958</td>\n",
       "      <td>3.672001</td>\n",
       "      <td>4.319488</td>\n",
       "      <td>2.060131</td>\n",
       "      <td>1.106603</td>\n",
       "      <td>2.756807</td>\n",
       "      <td>-1.807586</td>\n",
       "      <td>3.119252</td>\n",
       "      <td>-0.814754</td>\n",
       "      <td>...</td>\n",
       "      <td>2.498754</td>\n",
       "      <td>-1.766720</td>\n",
       "      <td>0.291909</td>\n",
       "      <td>-0.236563</td>\n",
       "      <td>0.366089</td>\n",
       "      <td>-2.615653</td>\n",
       "      <td>2.517367</td>\n",
       "      <td>-2.121267</td>\n",
       "      <td>4.024024</td>\n",
       "      <td>1.430665</td>\n",
       "    </tr>\n",
       "    <tr>\n",
       "      <td>1</td>\n",
       "      <td>-3.081997</td>\n",
       "      <td>-4.560731</td>\n",
       "      <td>-0.439482</td>\n",
       "      <td>2.801814</td>\n",
       "      <td>-2.063705</td>\n",
       "      <td>0.320462</td>\n",
       "      <td>2.700044</td>\n",
       "      <td>-1.313459</td>\n",
       "      <td>2.488874</td>\n",
       "      <td>-1.288608</td>\n",
       "      <td>...</td>\n",
       "      <td>3.506879</td>\n",
       "      <td>1.340675</td>\n",
       "      <td>0.644034</td>\n",
       "      <td>0.583566</td>\n",
       "      <td>-1.396967</td>\n",
       "      <td>-2.599615</td>\n",
       "      <td>0.540591</td>\n",
       "      <td>-0.846946</td>\n",
       "      <td>0.476570</td>\n",
       "      <td>1.209218</td>\n",
       "    </tr>\n",
       "    <tr>\n",
       "      <td>2</td>\n",
       "      <td>-0.923654</td>\n",
       "      <td>-0.931160</td>\n",
       "      <td>0.270649</td>\n",
       "      <td>0.993372</td>\n",
       "      <td>1.246490</td>\n",
       "      <td>1.068892</td>\n",
       "      <td>0.833382</td>\n",
       "      <td>-0.559276</td>\n",
       "      <td>1.961053</td>\n",
       "      <td>-4.149379</td>\n",
       "      <td>...</td>\n",
       "      <td>5.081479</td>\n",
       "      <td>1.130174</td>\n",
       "      <td>-2.890191</td>\n",
       "      <td>-2.820214</td>\n",
       "      <td>1.395403</td>\n",
       "      <td>-3.846228</td>\n",
       "      <td>-1.152302</td>\n",
       "      <td>-2.224700</td>\n",
       "      <td>1.176310</td>\n",
       "      <td>-0.315757</td>\n",
       "    </tr>\n",
       "    <tr>\n",
       "      <td>3</td>\n",
       "      <td>-0.047425</td>\n",
       "      <td>-3.906727</td>\n",
       "      <td>0.635823</td>\n",
       "      <td>0.752494</td>\n",
       "      <td>1.742398</td>\n",
       "      <td>0.973911</td>\n",
       "      <td>0.725889</td>\n",
       "      <td>-0.415176</td>\n",
       "      <td>3.048928</td>\n",
       "      <td>-2.944524</td>\n",
       "      <td>...</td>\n",
       "      <td>3.968297</td>\n",
       "      <td>0.803104</td>\n",
       "      <td>-1.049701</td>\n",
       "      <td>-2.646564</td>\n",
       "      <td>0.847253</td>\n",
       "      <td>-2.600662</td>\n",
       "      <td>-0.752832</td>\n",
       "      <td>0.028893</td>\n",
       "      <td>-0.424166</td>\n",
       "      <td>-1.445955</td>\n",
       "    </tr>\n",
       "    <tr>\n",
       "      <td>4</td>\n",
       "      <td>-6.648052</td>\n",
       "      <td>-0.395714</td>\n",
       "      <td>2.429264</td>\n",
       "      <td>2.590817</td>\n",
       "      <td>-0.684888</td>\n",
       "      <td>-1.006098</td>\n",
       "      <td>0.028183</td>\n",
       "      <td>2.124310</td>\n",
       "      <td>1.596855</td>\n",
       "      <td>-2.533973</td>\n",
       "      <td>...</td>\n",
       "      <td>-1.403458</td>\n",
       "      <td>-1.843892</td>\n",
       "      <td>-0.527678</td>\n",
       "      <td>-3.595732</td>\n",
       "      <td>-2.341160</td>\n",
       "      <td>-1.960664</td>\n",
       "      <td>-0.313663</td>\n",
       "      <td>-3.191498</td>\n",
       "      <td>0.681570</td>\n",
       "      <td>-2.437148</td>\n",
       "    </tr>\n",
       "  </tbody>\n",
       "</table>\n",
       "<p>5 rows × 100 columns</p>\n",
       "</div>"
      ],
      "text/plain": [
       "          0         1         2         3         4         5         6  \\\n",
       "0 -2.146739 -2.738958  3.672001  4.319488  2.060131  1.106603  2.756807   \n",
       "1 -3.081997 -4.560731 -0.439482  2.801814 -2.063705  0.320462  2.700044   \n",
       "2 -0.923654 -0.931160  0.270649  0.993372  1.246490  1.068892  0.833382   \n",
       "3 -0.047425 -3.906727  0.635823  0.752494  1.742398  0.973911  0.725889   \n",
       "4 -6.648052 -0.395714  2.429264  2.590817 -0.684888 -1.006098  0.028183   \n",
       "\n",
       "          7         8         9  ...        90        91        92        93  \\\n",
       "0 -1.807586  3.119252 -0.814754  ...  2.498754 -1.766720  0.291909 -0.236563   \n",
       "1 -1.313459  2.488874 -1.288608  ...  3.506879  1.340675  0.644034  0.583566   \n",
       "2 -0.559276  1.961053 -4.149379  ...  5.081479  1.130174 -2.890191 -2.820214   \n",
       "3 -0.415176  3.048928 -2.944524  ...  3.968297  0.803104 -1.049701 -2.646564   \n",
       "4  2.124310  1.596855 -2.533973  ... -1.403458 -1.843892 -0.527678 -3.595732   \n",
       "\n",
       "         94        95        96        97        98        99  \n",
       "0  0.366089 -2.615653  2.517367 -2.121267  4.024024  1.430665  \n",
       "1 -1.396967 -2.599615  0.540591 -0.846946  0.476570  1.209218  \n",
       "2  1.395403 -3.846228 -1.152302 -2.224700  1.176310 -0.315757  \n",
       "3  0.847253 -2.600662 -0.752832  0.028893 -0.424166 -1.445955  \n",
       "4 -2.341160 -1.960664 -0.313663 -3.191498  0.681570 -2.437148  \n",
       "\n",
       "[5 rows x 100 columns]"
      ]
     },
     "execution_count": 4,
     "metadata": {},
     "output_type": "execute_result"
    }
   ],
   "source": [
    "emb_df.head()"
   ]
  },
  {
   "cell_type": "code",
   "execution_count": 5,
   "metadata": {
    "ExecuteTime": {
     "end_time": "2019-10-31T18:24:45.593781Z",
     "start_time": "2019-10-31T18:24:29.640316Z"
    }
   },
   "outputs": [],
   "source": [
    "article_df = read_article_df(open('../data/raw/2018_07_19_04_59_08/articles.txt', encoding='utf-8'))\n",
    "article_df = article_df[article_df.lang_reliability == '1'].reset_index(drop=True)"
   ]
  },
  {
   "cell_type": "code",
   "execution_count": 6,
   "metadata": {
    "ExecuteTime": {
     "end_time": "2019-10-31T18:24:45.943801Z",
     "start_time": "2019-10-31T18:24:45.597725Z"
    }
   },
   "outputs": [],
   "source": [
    "article_df['title'] = article_df.title.apply(lambda s: s.strip())\n",
    "article_df['text'] = article_df.text.apply(lambda s: s.strip())\n",
    "article_df['title_len'] = article_df.title.apply(len)\n",
    "article_df['text_len'] = article_df.text.apply(len)"
   ]
  },
  {
   "cell_type": "code",
   "execution_count": 7,
   "metadata": {
    "ExecuteTime": {
     "end_time": "2019-10-31T18:24:46.119351Z",
     "start_time": "2019-10-31T18:24:45.945788Z"
    }
   },
   "outputs": [
    {
     "data": {
      "text/plain": [
       "(176664, 9)"
      ]
     },
     "execution_count": 7,
     "metadata": {},
     "output_type": "execute_result"
    }
   ],
   "source": [
    "clean_df = article_df[article_df.title_len > 0]\n",
    "clean_df = clean_df[clean_df.text_len > 100]\n",
    "clean_df = clean_df[clean_df.lang_iso == 'en']\n",
    "clean_df.shape"
   ]
  },
  {
   "cell_type": "code",
   "execution_count": 9,
   "metadata": {
    "ExecuteTime": {
     "end_time": "2019-10-31T18:24:46.164228Z",
     "start_time": "2019-10-31T18:24:46.126308Z"
    }
   },
   "outputs": [],
   "source": [
    "label1 = pd.read_csv('../data/raw/labels/cave_rescue/population.txt', header=None)\n",
    "label1.columns = ['canonicalUrl']\n",
    "label1['label'] = 'cave_rescue'\n",
    "\n",
    "label2 = pd.read_csv('../data/raw/labels/duckboat/population.txt', header=None)\n",
    "label2.columns = ['canonicalUrl']\n",
    "label2['label'] = 'duckboat'\n",
    "\n",
    "label3 = pd.read_csv('../data/raw/labels/helsinki_summit/population.txt', header=None)\n",
    "label3.columns = ['canonicalUrl']\n",
    "label3['label'] = 'helsinki'"
   ]
  },
  {
   "cell_type": "code",
   "execution_count": 10,
   "metadata": {
    "ExecuteTime": {
     "end_time": "2019-10-31T18:24:46.184156Z",
     "start_time": "2019-10-31T18:24:46.168195Z"
    }
   },
   "outputs": [
    {
     "data": {
      "text/html": [
       "<div>\n",
       "<style scoped>\n",
       "    .dataframe tbody tr th:only-of-type {\n",
       "        vertical-align: middle;\n",
       "    }\n",
       "\n",
       "    .dataframe tbody tr th {\n",
       "        vertical-align: top;\n",
       "    }\n",
       "\n",
       "    .dataframe thead th {\n",
       "        text-align: right;\n",
       "    }\n",
       "</style>\n",
       "<table border=\"1\" class=\"dataframe\">\n",
       "  <thead>\n",
       "    <tr style=\"text-align: right;\">\n",
       "      <th></th>\n",
       "      <th>canonicalUrl</th>\n",
       "      <th>label</th>\n",
       "    </tr>\n",
       "  </thead>\n",
       "  <tbody>\n",
       "    <tr>\n",
       "      <td>0</td>\n",
       "      <td>denverpost.com/2018/07/20/greeley-police-lip-s...</td>\n",
       "      <td>cave_rescue</td>\n",
       "    </tr>\n",
       "    <tr>\n",
       "      <td>1</td>\n",
       "      <td>bbc.com/news/av/world-asia-44875089/thai-cave-...</td>\n",
       "      <td>cave_rescue</td>\n",
       "    </tr>\n",
       "    <tr>\n",
       "      <td>2</td>\n",
       "      <td>news.google.com/stories/caaqzggkimbdqkltuwpvsm...</td>\n",
       "      <td>cave_rescue</td>\n",
       "    </tr>\n",
       "    <tr>\n",
       "      <td>3</td>\n",
       "      <td>chron.com/news/crime/article/young-nubians-rev...</td>\n",
       "      <td>cave_rescue</td>\n",
       "    </tr>\n",
       "    <tr>\n",
       "      <td>4</td>\n",
       "      <td>cnbc.com/2018/07/20/at-least-13-die-when-duck-...</td>\n",
       "      <td>cave_rescue</td>\n",
       "    </tr>\n",
       "    <tr>\n",
       "      <td>...</td>\n",
       "      <td>...</td>\n",
       "      <td>...</td>\n",
       "    </tr>\n",
       "    <tr>\n",
       "      <td>1920</td>\n",
       "      <td>beforeitsnews.com/opinion-conservative/2018/07...</td>\n",
       "      <td>helsinki</td>\n",
       "    </tr>\n",
       "    <tr>\n",
       "      <td>1921</td>\n",
       "      <td>washingtonpost.com/news/powerpost/paloma/the-h...</td>\n",
       "      <td>helsinki</td>\n",
       "    </tr>\n",
       "    <tr>\n",
       "      <td>1922</td>\n",
       "      <td>feeds.nydailynews.com/~r/nydnrss/news/national...</td>\n",
       "      <td>helsinki</td>\n",
       "    </tr>\n",
       "    <tr>\n",
       "      <td>1923</td>\n",
       "      <td>news.google.com/stories/caaqoqgkijndqkltsurvsm...</td>\n",
       "      <td>helsinki</td>\n",
       "    </tr>\n",
       "    <tr>\n",
       "      <td>1924</td>\n",
       "      <td>m.chron.com/news/politics/article/the-latest-g...</td>\n",
       "      <td>helsinki</td>\n",
       "    </tr>\n",
       "  </tbody>\n",
       "</table>\n",
       "<p>3193 rows × 2 columns</p>\n",
       "</div>"
      ],
      "text/plain": [
       "                                           canonicalUrl        label\n",
       "0     denverpost.com/2018/07/20/greeley-police-lip-s...  cave_rescue\n",
       "1     bbc.com/news/av/world-asia-44875089/thai-cave-...  cave_rescue\n",
       "2     news.google.com/stories/caaqzggkimbdqkltuwpvsm...  cave_rescue\n",
       "3     chron.com/news/crime/article/young-nubians-rev...  cave_rescue\n",
       "4     cnbc.com/2018/07/20/at-least-13-die-when-duck-...  cave_rescue\n",
       "...                                                 ...          ...\n",
       "1920  beforeitsnews.com/opinion-conservative/2018/07...     helsinki\n",
       "1921  washingtonpost.com/news/powerpost/paloma/the-h...     helsinki\n",
       "1922  feeds.nydailynews.com/~r/nydnrss/news/national...     helsinki\n",
       "1923  news.google.com/stories/caaqoqgkijndqkltsurvsm...     helsinki\n",
       "1924  m.chron.com/news/politics/article/the-latest-g...     helsinki\n",
       "\n",
       "[3193 rows x 2 columns]"
      ]
     },
     "execution_count": 10,
     "metadata": {},
     "output_type": "execute_result"
    }
   ],
   "source": [
    "label_df = pd.concat([label1, label2, label3])\n",
    "label_df"
   ]
  },
  {
   "cell_type": "code",
   "execution_count": 11,
   "metadata": {
    "ExecuteTime": {
     "end_time": "2019-10-31T18:24:46.356702Z",
     "start_time": "2019-10-31T18:24:46.187145Z"
    }
   },
   "outputs": [],
   "source": [
    "clean_df = clean_df.merge(label_df, on='canonicalUrl', how='left')"
   ]
  },
  {
   "cell_type": "code",
   "execution_count": 12,
   "metadata": {
    "ExecuteTime": {
     "end_time": "2019-10-31T18:24:46.373671Z",
     "start_time": "2019-10-31T18:24:46.359683Z"
    }
   },
   "outputs": [
    {
     "data": {
      "text/html": [
       "<div>\n",
       "<style scoped>\n",
       "    .dataframe tbody tr th:only-of-type {\n",
       "        vertical-align: middle;\n",
       "    }\n",
       "\n",
       "    .dataframe tbody tr th {\n",
       "        vertical-align: top;\n",
       "    }\n",
       "\n",
       "    .dataframe thead th {\n",
       "        text-align: right;\n",
       "    }\n",
       "</style>\n",
       "<table border=\"1\" class=\"dataframe\">\n",
       "  <thead>\n",
       "    <tr style=\"text-align: right;\">\n",
       "      <th></th>\n",
       "      <th>pubId</th>\n",
       "      <th>canonicalUrl</th>\n",
       "      <th>firstScrape</th>\n",
       "      <th>title</th>\n",
       "      <th>text</th>\n",
       "      <th>lang_reliability</th>\n",
       "      <th>lang_iso</th>\n",
       "      <th>title_len</th>\n",
       "      <th>text_len</th>\n",
       "      <th>label</th>\n",
       "    </tr>\n",
       "  </thead>\n",
       "  <tbody>\n",
       "    <tr>\n",
       "      <td>0</td>\n",
       "      <td>290</td>\n",
       "      <td>zerohedge.com/news/2018-07-19/i-told-you-so-tr...</td>\n",
       "      <td>7/19/2018 10:41:26 AM -04:00</td>\n",
       "      <td>\"I Told You So\": Trump Hits Out At EU After $5...</td>\n",
       "      <td>by Phoenix Capita… - Jul 19, 2018 8:49 am ### ...</td>\n",
       "      <td>1</td>\n",
       "      <td>en</td>\n",
       "      <td>79</td>\n",
       "      <td>2134</td>\n",
       "      <td>NaN</td>\n",
       "    </tr>\n",
       "    <tr>\n",
       "      <td>1</td>\n",
       "      <td>290</td>\n",
       "      <td>zerohedge.com/news/2018-07-19/trump-invites-pu...</td>\n",
       "      <td>7/19/2018 5:03:01 PM -04:00</td>\n",
       "      <td>Trump Invites Putin To  Ahead Of Midterms | Ze...</td>\n",
       "      <td>by Phoenix Capita… - Jul 19, 2018 8:49 am ### ...</td>\n",
       "      <td>1</td>\n",
       "      <td>en</td>\n",
       "      <td>54</td>\n",
       "      <td>4555</td>\n",
       "      <td>NaN</td>\n",
       "    </tr>\n",
       "    <tr>\n",
       "      <td>2</td>\n",
       "      <td>290</td>\n",
       "      <td>zerohedge.com/news/2018-07-19/gallup-shows-how...</td>\n",
       "      <td>7/19/2018 8:26:52 AM -04:00</td>\n",
       "      <td>Gallup Shows How Much Americans Really Care Ab...</td>\n",
       "      <td>by Knave Dave - Jul 18, 2018 1:11 pm ### This ...</td>\n",
       "      <td>1</td>\n",
       "      <td>en</td>\n",
       "      <td>76</td>\n",
       "      <td>3133</td>\n",
       "      <td>NaN</td>\n",
       "    </tr>\n",
       "    <tr>\n",
       "      <td>3</td>\n",
       "      <td>290</td>\n",
       "      <td>zerohedge.com/news/2018-07-19/california-supre...</td>\n",
       "      <td>7/19/2018 8:26:52 AM -04:00</td>\n",
       "      <td>California Supreme Court Blocks Proposal To Sp...</td>\n",
       "      <td>by Knave Dave - Jul 18, 2018 1:11 pm ### This ...</td>\n",
       "      <td>1</td>\n",
       "      <td>en</td>\n",
       "      <td>85</td>\n",
       "      <td>3567</td>\n",
       "      <td>NaN</td>\n",
       "    </tr>\n",
       "    <tr>\n",
       "      <td>4</td>\n",
       "      <td>290</td>\n",
       "      <td>zerohedge.com/news/2018-07-19/why-are-thousand...</td>\n",
       "      <td>7/19/2018 4:28:52 PM -04:00</td>\n",
       "      <td>Why Are \"Thousands\" of Teslas Sitting In a Fie...</td>\n",
       "      <td>by Phoenix Capita… - Jul 19, 2018 8:49 am ### ...</td>\n",
       "      <td>1</td>\n",
       "      <td>en</td>\n",
       "      <td>62</td>\n",
       "      <td>3584</td>\n",
       "      <td>NaN</td>\n",
       "    </tr>\n",
       "  </tbody>\n",
       "</table>\n",
       "</div>"
      ],
      "text/plain": [
       "  pubId                                       canonicalUrl  \\\n",
       "0   290  zerohedge.com/news/2018-07-19/i-told-you-so-tr...   \n",
       "1   290  zerohedge.com/news/2018-07-19/trump-invites-pu...   \n",
       "2   290  zerohedge.com/news/2018-07-19/gallup-shows-how...   \n",
       "3   290  zerohedge.com/news/2018-07-19/california-supre...   \n",
       "4   290  zerohedge.com/news/2018-07-19/why-are-thousand...   \n",
       "\n",
       "                    firstScrape  \\\n",
       "0  7/19/2018 10:41:26 AM -04:00   \n",
       "1   7/19/2018 5:03:01 PM -04:00   \n",
       "2   7/19/2018 8:26:52 AM -04:00   \n",
       "3   7/19/2018 8:26:52 AM -04:00   \n",
       "4   7/19/2018 4:28:52 PM -04:00   \n",
       "\n",
       "                                               title  \\\n",
       "0  \"I Told You So\": Trump Hits Out At EU After $5...   \n",
       "1  Trump Invites Putin To  Ahead Of Midterms | Ze...   \n",
       "2  Gallup Shows How Much Americans Really Care Ab...   \n",
       "3  California Supreme Court Blocks Proposal To Sp...   \n",
       "4  Why Are \"Thousands\" of Teslas Sitting In a Fie...   \n",
       "\n",
       "                                                text lang_reliability  \\\n",
       "0  by Phoenix Capita… - Jul 19, 2018 8:49 am ### ...                1   \n",
       "1  by Phoenix Capita… - Jul 19, 2018 8:49 am ### ...                1   \n",
       "2  by Knave Dave - Jul 18, 2018 1:11 pm ### This ...                1   \n",
       "3  by Knave Dave - Jul 18, 2018 1:11 pm ### This ...                1   \n",
       "4  by Phoenix Capita… - Jul 19, 2018 8:49 am ### ...                1   \n",
       "\n",
       "  lang_iso  title_len  text_len label  \n",
       "0       en         79      2134   NaN  \n",
       "1       en         54      4555   NaN  \n",
       "2       en         76      3133   NaN  \n",
       "3       en         85      3567   NaN  \n",
       "4       en         62      3584   NaN  "
      ]
     },
     "execution_count": 12,
     "metadata": {},
     "output_type": "execute_result"
    }
   ],
   "source": [
    "clean_df.head()"
   ]
  },
  {
   "cell_type": "code",
   "execution_count": 13,
   "metadata": {
    "ExecuteTime": {
     "end_time": "2019-10-31T18:24:46.511277Z",
     "start_time": "2019-10-31T18:24:46.375639Z"
    }
   },
   "outputs": [
    {
     "data": {
      "text/plain": [
       "((624, 10), (176045, 10))"
      ]
     },
     "execution_count": 13,
     "metadata": {},
     "output_type": "execute_result"
    }
   ],
   "source": [
    "article_with_label = clean_df[~clean_df.label.isna()]\n",
    "article_without_label = clean_df[clean_df.label.isna()]\n",
    "article_with_label.shape, article_without_label.shape"
   ]
  },
  {
   "cell_type": "markdown",
   "metadata": {
    "ExecuteTime": {
     "end_time": "2019-10-31T15:43:07.917593Z",
     "start_time": "2019-10-31T15:43:07.895674Z"
    }
   },
   "source": [
    "Sample and include all the labeled article"
   ]
  },
  {
   "cell_type": "code",
   "execution_count": 14,
   "metadata": {
    "ExecuteTime": {
     "end_time": "2019-10-31T18:24:46.545187Z",
     "start_time": "2019-10-31T18:24:46.513272Z"
    }
   },
   "outputs": [],
   "source": [
    "sample_df = pd.concat([article_with_label, article_without_label.sample(10000)])"
   ]
  },
  {
   "cell_type": "code",
   "execution_count": 15,
   "metadata": {
    "ExecuteTime": {
     "end_time": "2019-10-31T18:25:49.538224Z",
     "start_time": "2019-10-31T18:25:49.509302Z"
    }
   },
   "outputs": [],
   "source": [
    "sample_emb_df = emb_df.loc[sample_df.index]"
   ]
  },
  {
   "cell_type": "code",
   "execution_count": 16,
   "metadata": {
    "ExecuteTime": {
     "end_time": "2019-10-31T18:25:49.910608Z",
     "start_time": "2019-10-31T18:25:49.899637Z"
    }
   },
   "outputs": [
    {
     "data": {
      "text/plain": [
       "NearestNeighbors(algorithm='auto', leaf_size=30, metric='cosine',\n",
       "                 metric_params=None, n_jobs=None, n_neighbors=10, p=2,\n",
       "                 radius=1.0)"
      ]
     },
     "execution_count": 16,
     "metadata": {},
     "output_type": "execute_result"
    }
   ],
   "source": [
    "nn = NearestNeighbors(n_neighbors=10, metric='cosine')\n",
    "nn.fit(sample_emb_df)"
   ]
  },
  {
   "cell_type": "code",
   "execution_count": 17,
   "metadata": {
    "ExecuteTime": {
     "end_time": "2019-10-31T18:25:53.612747Z",
     "start_time": "2019-10-31T18:25:50.706507Z"
    }
   },
   "outputs": [
    {
     "data": {
      "text/plain": [
       "<10624x10624 sparse matrix of type '<class 'numpy.float64'>'\n",
       "\twith 106240 stored elements in Compressed Sparse Row format>"
      ]
     },
     "execution_count": 17,
     "metadata": {},
     "output_type": "execute_result"
    }
   ],
   "source": [
    "admat = nn.kneighbors_graph( mode='connectivity'); admat"
   ]
  },
  {
   "cell_type": "code",
   "execution_count": 18,
   "metadata": {
    "ExecuteTime": {
     "end_time": "2019-10-31T18:25:56.672317Z",
     "start_time": "2019-10-31T18:25:56.354168Z"
    }
   },
   "outputs": [],
   "source": [
    "G = nx.from_scipy_sparse_matrix(admat)"
   ]
  },
  {
   "cell_type": "code",
   "execution_count": 19,
   "metadata": {
    "ExecuteTime": {
     "end_time": "2019-10-31T18:26:31.743935Z",
     "start_time": "2019-10-31T18:25:56.956619Z"
    }
   },
   "outputs": [
    {
     "data": {
      "image/png": "[encoded data removed]",
      "text/plain": [
       "<Figure size 432x288 with 1 Axes>"
      ]
     },
     "metadata": {
      "needs_background": "light"
     },
     "output_type": "display_data"
    }
   ],
   "source": [
    "partitions = []\n",
    "resolutions = [1] #, .99, .999, .9995, .9999]\n",
    "for resolution in resolutions:\n",
    "    partition = community.best_partition(G, resolution=resolution)\n",
    "    partitions.append(partition)\n",
    "    num_cluster = max([v for k,v in partition.items()]) + 1\n",
    "    clusters = defaultdict(list)\n",
    "    for k, v in partition.items():\n",
    "        clusters[v].append(k)\n",
    "\n",
    "    cluster_sizes = []\n",
    "    for i, cluster in clusters.items():\n",
    "        cluster_sizes.append(len(cluster))\n",
    "    plt.bar(list(range(len(cluster_sizes))), cluster_sizes)\n",
    "    plt.title(f'Resolution = {resolution}, Num. Cluster = {num_cluster}')\n",
    "    plt.show()"
   ]
  },
  {
   "cell_type": "code",
   "execution_count": 20,
   "metadata": {
    "ExecuteTime": {
     "end_time": "2019-10-31T18:26:31.753908Z",
     "start_time": "2019-10-31T18:26:31.745905Z"
    }
   },
   "outputs": [
    {
     "data": {
      "text/plain": [
       "(9, 1690, 349.0)"
      ]
     },
     "execution_count": 20,
     "metadata": {},
     "output_type": "execute_result"
    }
   ],
   "source": [
    "np.argmax(cluster_sizes), np.max(cluster_sizes), np.median(cluster_sizes)"
   ]
  },
  {
   "cell_type": "code",
   "execution_count": 21,
   "metadata": {
    "ExecuteTime": {
     "end_time": "2019-10-31T18:26:31.770839Z",
     "start_time": "2019-10-31T18:26:31.757874Z"
    }
   },
   "outputs": [],
   "source": [
    "def plot_cluster_sizes(cluster):\n",
    "    cluster_sizes = []\n",
    "    for i, c in cluster.items():\n",
    "        cluster_sizes.append(len(c))\n",
    "    plt.title(f'Num cluster = {len(cluster.keys())}')\n",
    "    plt.hist(cluster_sizes)\n",
    "    plt.show()\n",
    "    \n",
    "def prune_cluster(cluster: dict, threshold) -> dict:\n",
    "    pc = {}\n",
    "    for key, value in clusters.items():\n",
    "        if len(value) > threshold:\n",
    "            pc[key] = value\n",
    "    return pc"
   ]
  },
  {
   "cell_type": "code",
   "execution_count": 22,
   "metadata": {
    "ExecuteTime": {
     "end_time": "2019-10-31T18:26:52.760149Z",
     "start_time": "2019-10-31T18:26:52.755163Z"
    }
   },
   "outputs": [],
   "source": [
    "pc = clusters# prune_cluster(cluster, 5)"
   ]
  },
  {
   "cell_type": "code",
   "execution_count": 23,
   "metadata": {
    "ExecuteTime": {
     "end_time": "2019-10-31T18:28:51.882845Z",
     "start_time": "2019-10-31T18:28:51.853797Z"
    }
   },
   "outputs": [
    {
     "data": {
      "text/plain": [
       "22"
      ]
     },
     "execution_count": 23,
     "metadata": {},
     "output_type": "execute_result"
    }
   ],
   "source": [
    "article_cluster = list(map(lambda d: sample_df.iloc[d[1]], pc.items()))\n",
    "len(article_cluster)"
   ]
  },
  {
   "cell_type": "code",
   "execution_count": 24,
   "metadata": {
    "ExecuteTime": {
     "end_time": "2019-10-31T18:28:53.717893Z",
     "start_time": "2019-10-31T18:28:53.710886Z"
    }
   },
   "outputs": [
    {
     "data": {
      "text/plain": [
       "321"
      ]
     },
     "execution_count": 24,
     "metadata": {},
     "output_type": "execute_result"
    }
   ],
   "source": [
    "len(article_cluster[0].title.tolist())"
   ]
  },
  {
   "cell_type": "code",
   "execution_count": 25,
   "metadata": {
    "ExecuteTime": {
     "end_time": "2019-10-31T18:28:54.045097Z",
     "start_time": "2019-10-31T18:28:54.037134Z"
    }
   },
   "outputs": [
    {
     "data": {
      "text/plain": [
       "dict_keys([0, 1, 2, 3, 4, 5, 6, 7, 8, 9, 10, 11, 12, 13, 14, 15, 16, 17, 18, 19, 20, 21])"
      ]
     },
     "execution_count": 25,
     "metadata": {},
     "output_type": "execute_result"
    }
   ],
   "source": [
    "pc.keys()"
   ]
  },
  {
   "cell_type": "code",
   "execution_count": 26,
   "metadata": {
    "ExecuteTime": {
     "end_time": "2019-10-31T18:29:11.580163Z",
     "start_time": "2019-10-31T18:29:11.569657Z"
    }
   },
   "outputs": [
    {
     "name": "stdout",
     "output_type": "stream",
     "text": [
      "-------------------------------------------------- title --------------------------------------------------\n",
      "New tactic by politicians: Set up fake news websites as a campaign gamb\n",
      "Appalachian Trail hiker rescued twice in Maine in two weeks\n",
      "Arkansas man gets 7 years for selling guns to felon in Chicago area | Chicago Sun-Times\n",
      "He's In Prison With Terrorists — For Medical Marijuana. Now He Wants Trump's Help\n",
      "Twitter Is Screaming Over  Facial Expression After Meeting Putin\n",
      "players and coach speak publicly for first time since their rescue from flooded cave\n",
      "Comic-Con: Who would win if 'The Predator' took on Elsa, Han Solo?\n",
      "Trump open to Russian questioning of former U.S. ambassador McFaul\n",
      "California Lawmakers To Revive Trump Tax Return Bill « CBS San Francisco\n",
      "Why You Might Not Want to Pay Off Your Student Loans Early | Fox Business\n",
      "-------------------------------------------------- text --------------------------------------------------\n",
      "New tactic by politicians: Set up fake news websites as a campaign gambit ### McClatchy Washington B\n",
      "Appalachian Trail hiker rescued twice in Maine in two weeks ### Maine Warden Service | BDN ### Maine\n",
      "Arkansas man gets 7 years for selling guns to felon in Chicago area ### Sun-Times file photo ### Sub\n",
      "Tap here to turn on desktop notifications to get the news sent straight to you. ### EDITION ### 07/1\n",
      "Twitter Is Screaming Over Melania Trump's Facial Expression After Meeting Putin ### Glamour• ### Twi\n",
      "Thai soccer players and coach speak publicly for first time since their rescue from flooded cave ###\n",
      "Jodie Whittaker will play the first female Doctor in the 50-plus years of \"Doctor Who.\" ### Chris Pi\n",
      "To find out more about Facebook commenting please read the Conversation Guidelines and FAQs ### Why \n",
      "Filed Under: California , Legislation , President Donald Trump , Tax returns ### SACRAMENTO (AP) — T\n",
      "Why You Might Not Want to Pay Off Your Student Loans Early ### Published July 20, 2018 ### Print ###\n"
     ]
    }
   ],
   "source": [
    "n = len(pc.keys())\n",
    "sample_cluster = np.random.randint(n)\n",
    "print('-'*50, 'title', '-'*50)\n",
    "print('\\n'.join(article_cluster[sample_cluster].title.tolist()[:10]))\n",
    "print('-'*50, 'text', '-'*50)\n",
    "print('\\n'.join(list(map(lambda x: x[:100], article_cluster[sample_cluster].text.tolist()[:10]))))"
   ]
  },
  {
   "cell_type": "markdown",
   "metadata": {
    "ExecuteTime": {
     "end_time": "2019-10-28T03:45:42.636863Z",
     "start_time": "2019-10-28T03:45:42.628884Z"
    }
   },
   "source": [
    "## Top clusters"
   ]
  },
  {
   "cell_type": "code",
   "execution_count": 27,
   "metadata": {
    "ExecuteTime": {
     "end_time": "2019-10-31T18:29:21.616079Z",
     "start_time": "2019-10-31T18:29:21.611076Z"
    }
   },
   "outputs": [],
   "source": [
    "cluster_sizes = np.array(list(map(len, article_cluster)))"
   ]
  },
  {
   "cell_type": "code",
   "execution_count": 28,
   "metadata": {
    "ExecuteTime": {
     "end_time": "2019-10-31T18:29:22.244686Z",
     "start_time": "2019-10-31T18:29:22.050873Z"
    }
   },
   "outputs": [
    {
     "data": {
      "image/png": "[encoded data removed]",
      "text/plain": [
       "<Figure size 432x288 with 1 Axes>"
      ]
     },
     "metadata": {
      "needs_background": "light"
     },
     "output_type": "display_data"
    }
   ],
   "source": [
    "plt.hist(cluster_sizes);"
   ]
  },
  {
   "cell_type": "code",
   "execution_count": 29,
   "metadata": {
    "ExecuteTime": {
     "end_time": "2019-10-31T18:29:23.882375Z",
     "start_time": "2019-10-31T18:29:23.875360Z"
    }
   },
   "outputs": [
    {
     "data": {
      "text/plain": [
       "array([1690, 1211, 1192,  958,  637,  618,  578,  495,  471,  400,  357,\n",
       "        341,  321,  244,  244,  185,  159,  126,  122,   99,   90,   86])"
      ]
     },
     "execution_count": 29,
     "metadata": {},
     "output_type": "execute_result"
    }
   ],
   "source": [
    "index_by_size = list(reversed(np.argsort(cluster_sizes)))\n",
    "cluster_sizes[index_by_size]"
   ]
  },
  {
   "cell_type": "code",
   "execution_count": 30,
   "metadata": {
    "ExecuteTime": {
     "end_time": "2019-10-31T18:29:25.136833Z",
     "start_time": "2019-10-31T18:29:25.114862Z"
    }
   },
   "outputs": [
    {
     "data": {
      "text/html": [
       "<div>\n",
       "<style scoped>\n",
       "    .dataframe tbody tr th:only-of-type {\n",
       "        vertical-align: middle;\n",
       "    }\n",
       "\n",
       "    .dataframe tbody tr th {\n",
       "        vertical-align: top;\n",
       "    }\n",
       "\n",
       "    .dataframe thead th {\n",
       "        text-align: right;\n",
       "    }\n",
       "</style>\n",
       "<table border=\"1\" class=\"dataframe\">\n",
       "  <thead>\n",
       "    <tr style=\"text-align: right;\">\n",
       "      <th></th>\n",
       "      <th>pubId</th>\n",
       "      <th>canonicalUrl</th>\n",
       "      <th>firstScrape</th>\n",
       "      <th>title</th>\n",
       "      <th>text</th>\n",
       "      <th>lang_reliability</th>\n",
       "      <th>lang_iso</th>\n",
       "      <th>title_len</th>\n",
       "      <th>text_len</th>\n",
       "      <th>label</th>\n",
       "    </tr>\n",
       "  </thead>\n",
       "  <tbody>\n",
       "    <tr>\n",
       "      <td>10753</td>\n",
       "      <td>33</td>\n",
       "      <td>washingtonpost.com/news/capital-weather-gang/w...</td>\n",
       "      <td>7/19/2018 5:37:12 PM -04:00</td>\n",
       "      <td>Dozens dead in Japan from record-setting, long...</td>\n",
       "      <td>Dozens dead in Japan from record-setting, long...</td>\n",
       "      <td>1</td>\n",
       "      <td>en</td>\n",
       "      <td>74</td>\n",
       "      <td>2257</td>\n",
       "      <td>helsinki</td>\n",
       "    </tr>\n",
       "    <tr>\n",
       "      <td>10801</td>\n",
       "      <td>33</td>\n",
       "      <td>washingtonpost.com/news/posteverything/wp/2018...</td>\n",
       "      <td>7/19/2018 6:27:03 AM -04:00</td>\n",
       "      <td>Ukraine’s not a country, Putin told Bush. What...</td>\n",
       "      <td>PostEverything Perspective ### Perspective Int...</td>\n",
       "      <td>1</td>\n",
       "      <td>en</td>\n",
       "      <td>79</td>\n",
       "      <td>8487</td>\n",
       "      <td>helsinki</td>\n",
       "    </tr>\n",
       "    <tr>\n",
       "      <td>10851</td>\n",
       "      <td>33</td>\n",
       "      <td>washingtonpost.com/business/2018/07/17/federal...</td>\n",
       "      <td>7/19/2018 6:18:36 AM -04:00</td>\n",
       "      <td>Federal Reserve chair: Decline in worker share...</td>\n",
       "      <td>Federal Reserve chair: Decline in worker share...</td>\n",
       "      <td>1</td>\n",
       "      <td>en</td>\n",
       "      <td>83</td>\n",
       "      <td>3639</td>\n",
       "      <td>helsinki</td>\n",
       "    </tr>\n",
       "    <tr>\n",
       "      <td>11218</td>\n",
       "      <td>22</td>\n",
       "      <td>nytimes.com/1994/07/29/us/at-the-bar-defense-l...</td>\n",
       "      <td>7/19/2018 7:42:35 AM -04:00</td>\n",
       "      <td>At the Bar;Defense lawyer turns the tables on ...</td>\n",
       "      <td>NYTimes.com no longer supports Internet Explor...</td>\n",
       "      <td>1</td>\n",
       "      <td>en</td>\n",
       "      <td>81</td>\n",
       "      <td>5730</td>\n",
       "      <td>duckboat</td>\n",
       "    </tr>\n",
       "    <tr>\n",
       "      <td>11228</td>\n",
       "      <td>22</td>\n",
       "      <td>nytimes.com/2018/07/19/world/europe/heat-wave-...</td>\n",
       "      <td>7/19/2018 12:29:28 PM -04:00</td>\n",
       "      <td>Heat Wave Scorches Sweden as Wildfires Rage in...</td>\n",
       "      <td>Heat Wave Scorches Sweden as Wildfires Rage in...</td>\n",
       "      <td>1</td>\n",
       "      <td>en</td>\n",
       "      <td>66</td>\n",
       "      <td>8975</td>\n",
       "      <td>cave_rescue</td>\n",
       "    </tr>\n",
       "  </tbody>\n",
       "</table>\n",
       "</div>"
      ],
      "text/plain": [
       "      pubId                                       canonicalUrl  \\\n",
       "10753    33  washingtonpost.com/news/capital-weather-gang/w...   \n",
       "10801    33  washingtonpost.com/news/posteverything/wp/2018...   \n",
       "10851    33  washingtonpost.com/business/2018/07/17/federal...   \n",
       "11218    22  nytimes.com/1994/07/29/us/at-the-bar-defense-l...   \n",
       "11228    22  nytimes.com/2018/07/19/world/europe/heat-wave-...   \n",
       "\n",
       "                        firstScrape  \\\n",
       "10753   7/19/2018 5:37:12 PM -04:00   \n",
       "10801   7/19/2018 6:27:03 AM -04:00   \n",
       "10851   7/19/2018 6:18:36 AM -04:00   \n",
       "11218   7/19/2018 7:42:35 AM -04:00   \n",
       "11228  7/19/2018 12:29:28 PM -04:00   \n",
       "\n",
       "                                                   title  \\\n",
       "10753  Dozens dead in Japan from record-setting, long...   \n",
       "10801  Ukraine’s not a country, Putin told Bush. What...   \n",
       "10851  Federal Reserve chair: Decline in worker share...   \n",
       "11218  At the Bar;Defense lawyer turns the tables on ...   \n",
       "11228  Heat Wave Scorches Sweden as Wildfires Rage in...   \n",
       "\n",
       "                                                    text lang_reliability  \\\n",
       "10753  Dozens dead in Japan from record-setting, long...                1   \n",
       "10801  PostEverything Perspective ### Perspective Int...                1   \n",
       "10851  Federal Reserve chair: Decline in worker share...                1   \n",
       "11218  NYTimes.com no longer supports Internet Explor...                1   \n",
       "11228  Heat Wave Scorches Sweden as Wildfires Rage in...                1   \n",
       "\n",
       "      lang_iso  title_len  text_len        label  \n",
       "10753       en         74      2257     helsinki  \n",
       "10801       en         79      8487     helsinki  \n",
       "10851       en         83      3639     helsinki  \n",
       "11218       en         81      5730     duckboat  \n",
       "11228       en         66      8975  cave_rescue  "
      ]
     },
     "execution_count": 30,
     "metadata": {},
     "output_type": "execute_result"
    }
   ],
   "source": [
    "top_cluster = article_cluster[index_by_size[0]]\n",
    "top_cluster.head()"
   ]
  },
  {
   "cell_type": "code",
   "execution_count": 31,
   "metadata": {
    "ExecuteTime": {
     "end_time": "2019-10-31T18:29:33.686058Z",
     "start_time": "2019-10-31T18:29:33.679784Z"
    }
   },
   "outputs": [
    {
     "name": "stdout",
     "output_type": "stream",
     "text": [
      "Dozens dead in Japan from record-setting, long duration extreme heat event\n",
      "Ukraine’s not a country, Putin told Bush. What’d he tell Trump about Montenegro\n",
      "Federal Reserve chair: Decline in worker share of national economy ‘very troubling’\n",
      "At the Bar;Defense lawyer turns the tables on the prosecutors but pays a price. -\n",
      "Heat Wave Scorches Sweden as Wildfires Rage in the Arctic Circle -\n",
      "duck boat capsized in Missouri - Overview\n",
      "meets Vladimir Putin - Overview\n",
      "Stocks slide after disappointing earnings, Trump dumps on Fed | Seeking Alpha\n",
      "Scout leader drowns rescuing boy in Utah pond - news - CenturyLink\n",
      "3 Sonoma County men arrested in murder of Cloverdale man missing since June - news - CenturyLink\n"
     ]
    }
   ],
   "source": [
    "print('\\n'.join(top_cluster.title.tolist()[:10]))"
   ]
  },
  {
   "cell_type": "code",
   "execution_count": 32,
   "metadata": {
    "ExecuteTime": {
     "end_time": "2019-10-31T18:29:48.679094Z",
     "start_time": "2019-10-31T18:29:48.662164Z"
    }
   },
   "outputs": [
    {
     "name": "stderr",
     "output_type": "stream",
     "text": [
      "/Users/tniyomkarn/via_env/lib/python3.6/site-packages/ipykernel_launcher.py:2: SettingWithCopyWarning: \n",
      "A value is trying to be set on a copy of a slice from a DataFrame.\n",
      "Try using .loc[row_indexer,col_indexer] = value instead\n",
      "\n",
      "See the caveats in the documentation: http://pandas.pydata.org/pandas-docs/stable/user_guide/indexing.html#returning-a-view-versus-a-copy\n",
      "  \n"
     ]
    }
   ],
   "source": [
    "for i, a in enumerate(article_cluster):\n",
    "    a['assignment'] = i"
   ]
  },
  {
   "cell_type": "code",
   "execution_count": 104,
   "metadata": {
    "ExecuteTime": {
     "end_time": "2019-10-31T18:29:49.665999Z",
     "start_time": "2019-10-31T18:29:49.628101Z"
    }
   },
   "outputs": [],
   "source": [
    "articles = pd.concat(article_cluster)"
   ]
  },
  {
   "cell_type": "code",
   "execution_count": 105,
   "metadata": {
    "ExecuteTime": {
     "end_time": "2019-10-31T18:29:53.927847Z",
     "start_time": "2019-10-31T18:29:53.897920Z"
    }
   },
   "outputs": [
    {
     "data": {
      "text/html": [
       "<div>\n",
       "<style scoped>\n",
       "    .dataframe tbody tr th:only-of-type {\n",
       "        vertical-align: middle;\n",
       "    }\n",
       "\n",
       "    .dataframe tbody tr th {\n",
       "        vertical-align: top;\n",
       "    }\n",
       "\n",
       "    .dataframe thead th {\n",
       "        text-align: right;\n",
       "    }\n",
       "</style>\n",
       "<table border=\"1\" class=\"dataframe\">\n",
       "  <thead>\n",
       "    <tr style=\"text-align: right;\">\n",
       "      <th></th>\n",
       "      <th>pubId</th>\n",
       "      <th>canonicalUrl</th>\n",
       "      <th>firstScrape</th>\n",
       "      <th>title</th>\n",
       "      <th>text</th>\n",
       "      <th>lang_reliability</th>\n",
       "      <th>lang_iso</th>\n",
       "      <th>title_len</th>\n",
       "      <th>text_len</th>\n",
       "      <th>label</th>\n",
       "      <th>assignment</th>\n",
       "    </tr>\n",
       "  </thead>\n",
       "  <tbody>\n",
       "    <tr>\n",
       "      <td>11</td>\n",
       "      <td>290</td>\n",
       "      <td>zerohedge.com/news/2018-07-19/la-liberals-stag...</td>\n",
       "      <td>7/19/2018 7:50:19 PM -04:00</td>\n",
       "      <td>LA Liberals Stage \"Emergency Protest\" At Koshe...</td>\n",
       "      <td>by Phoenix Capita… - Jul 19, 2018 8:49 am ### ...</td>\n",
       "      <td>1</td>\n",
       "      <td>en</td>\n",
       "      <td>75</td>\n",
       "      <td>3317</td>\n",
       "      <td>helsinki</td>\n",
       "      <td>0</td>\n",
       "    </tr>\n",
       "    <tr>\n",
       "      <td>10674</td>\n",
       "      <td>33</td>\n",
       "      <td>washingtonpost.com/local/obituaries/manny-ycaz...</td>\n",
       "      <td>7/19/2018 7:17:12 PM -04:00</td>\n",
       "      <td>Manny Ycaza, hall of fame jockey of fire and f...</td>\n",
       "      <td>Obituaries ### Manny Ycaza, hall of fame jocke...</td>\n",
       "      <td>1</td>\n",
       "      <td>en</td>\n",
       "      <td>64</td>\n",
       "      <td>7403</td>\n",
       "      <td>duckboat</td>\n",
       "      <td>0</td>\n",
       "    </tr>\n",
       "    <tr>\n",
       "      <td>10852</td>\n",
       "      <td>33</td>\n",
       "      <td>washingtonpost.com/opinions/help-is-at-hand-fo...</td>\n",
       "      <td>7/19/2018 6:44:22 PM -04:00</td>\n",
       "      <td>Help is at hand for Palestinians — if Hamas se...</td>\n",
       "      <td>Help is at hand for Palestinians — if Hamas se...</td>\n",
       "      <td>1</td>\n",
       "      <td>en</td>\n",
       "      <td>58</td>\n",
       "      <td>5325</td>\n",
       "      <td>helsinki</td>\n",
       "      <td>0</td>\n",
       "    </tr>\n",
       "    <tr>\n",
       "      <td>11097</td>\n",
       "      <td>232</td>\n",
       "      <td>barrons.com/articles/lamborghini-spyder-makes-...</td>\n",
       "      <td>7/19/2018 2:11:38 PM -04:00</td>\n",
       "      <td>Lamborghini Spyder Makes North American Debut ...</td>\n",
       "      <td>What are you searching for?  To order presenta...</td>\n",
       "      <td>1</td>\n",
       "      <td>en</td>\n",
       "      <td>56</td>\n",
       "      <td>4867</td>\n",
       "      <td>helsinki</td>\n",
       "      <td>0</td>\n",
       "    </tr>\n",
       "    <tr>\n",
       "      <td>11229</td>\n",
       "      <td>22</td>\n",
       "      <td>nytimes.com/2018/07/19/world/europe/heat-wave-...</td>\n",
       "      <td>7/19/2018 12:29:28 PM -04:00</td>\n",
       "      <td>Heat Wave Scorches Sweden as Wildfires Rage in...</td>\n",
       "      <td>Heat Wave Scorches Sweden as Wildfires Rage in...</td>\n",
       "      <td>1</td>\n",
       "      <td>en</td>\n",
       "      <td>66</td>\n",
       "      <td>8975</td>\n",
       "      <td>duckboat</td>\n",
       "      <td>0</td>\n",
       "    </tr>\n",
       "    <tr>\n",
       "      <td>...</td>\n",
       "      <td>...</td>\n",
       "      <td>...</td>\n",
       "      <td>...</td>\n",
       "      <td>...</td>\n",
       "      <td>...</td>\n",
       "      <td>...</td>\n",
       "      <td>...</td>\n",
       "      <td>...</td>\n",
       "      <td>...</td>\n",
       "      <td>...</td>\n",
       "      <td>...</td>\n",
       "    </tr>\n",
       "    <tr>\n",
       "      <td>120349</td>\n",
       "      <td>220</td>\n",
       "      <td>clickondetroit.com/money/chinas-yuan-plunges-a...</td>\n",
       "      <td>7/19/2018 8:27:35 AM -04:00</td>\n",
       "      <td>China's yuan plunges again. Is a currency war ...</td>\n",
       "      <td>China's yuan plunges again. Is a currency war ...</td>\n",
       "      <td>1</td>\n",
       "      <td>en</td>\n",
       "      <td>53</td>\n",
       "      <td>3352</td>\n",
       "      <td>helsinki</td>\n",
       "      <td>20</td>\n",
       "    </tr>\n",
       "    <tr>\n",
       "      <td>135519</td>\n",
       "      <td>44</td>\n",
       "      <td>dailymail.co.uk/news/article-5968683/mac-cliff...</td>\n",
       "      <td>7/19/2018 6:48:33 AM -04:00</td>\n",
       "      <td>Mac on... Cliff Richard   | Daily Mail Online</td>\n",
       "      <td>Thursday, Jul 19th 2018 5-Day Forecast ### Adv...</td>\n",
       "      <td>1</td>\n",
       "      <td>en</td>\n",
       "      <td>45</td>\n",
       "      <td>813</td>\n",
       "      <td>helsinki</td>\n",
       "      <td>20</td>\n",
       "    </tr>\n",
       "    <tr>\n",
       "      <td>135812</td>\n",
       "      <td>44</td>\n",
       "      <td>dailymail.co.uk/tvshowbiz/article-5970199/chri...</td>\n",
       "      <td>7/19/2018 8:27:14 AM -04:00</td>\n",
       "      <td>films hilarious clip of Luna tucking into past...</td>\n",
       "      <td>comments ### She is well-known for her love of...</td>\n",
       "      <td>1</td>\n",
       "      <td>en</td>\n",
       "      <td>67</td>\n",
       "      <td>3483</td>\n",
       "      <td>duckboat</td>\n",
       "      <td>20</td>\n",
       "    </tr>\n",
       "    <tr>\n",
       "      <td>161462</td>\n",
       "      <td>174</td>\n",
       "      <td>triblive.com/local/monroeville/13879453-74/ass...</td>\n",
       "      <td>7/19/2018 5:10:21 AM -04:00</td>\n",
       "      <td>Assault, DUI cases among those recently handle...</td>\n",
       "      <td>Obituaries Front ### - - - - - ### Assault, DU...</td>\n",
       "      <td>1</td>\n",
       "      <td>en</td>\n",
       "      <td>63</td>\n",
       "      <td>2630</td>\n",
       "      <td>duckboat</td>\n",
       "      <td>20</td>\n",
       "    </tr>\n",
       "    <tr>\n",
       "      <td>170477</td>\n",
       "      <td>259</td>\n",
       "      <td>indystar.com/story/news/politics/onpolitics/20...</td>\n",
       "      <td>7/19/2018 5:43:39 AM -04:00</td>\n",
       "      <td>Rep. Jason Lewis upset not being able to call ...</td>\n",
       "      <td>To find out more about Facebook commenting ple...</td>\n",
       "      <td>1</td>\n",
       "      <td>en</td>\n",
       "      <td>69</td>\n",
       "      <td>5761</td>\n",
       "      <td>helsinki</td>\n",
       "      <td>20</td>\n",
       "    </tr>\n",
       "  </tbody>\n",
       "</table>\n",
       "<p>624 rows × 11 columns</p>\n",
       "</div>"
      ],
      "text/plain": [
       "       pubId                                       canonicalUrl  \\\n",
       "11       290  zerohedge.com/news/2018-07-19/la-liberals-stag...   \n",
       "10674     33  washingtonpost.com/local/obituaries/manny-ycaz...   \n",
       "10852     33  washingtonpost.com/opinions/help-is-at-hand-fo...   \n",
       "11097    232  barrons.com/articles/lamborghini-spyder-makes-...   \n",
       "11229     22  nytimes.com/2018/07/19/world/europe/heat-wave-...   \n",
       "...      ...                                                ...   \n",
       "120349   220  clickondetroit.com/money/chinas-yuan-plunges-a...   \n",
       "135519    44  dailymail.co.uk/news/article-5968683/mac-cliff...   \n",
       "135812    44  dailymail.co.uk/tvshowbiz/article-5970199/chri...   \n",
       "161462   174  triblive.com/local/monroeville/13879453-74/ass...   \n",
       "170477   259  indystar.com/story/news/politics/onpolitics/20...   \n",
       "\n",
       "                         firstScrape  \\\n",
       "11       7/19/2018 7:50:19 PM -04:00   \n",
       "10674    7/19/2018 7:17:12 PM -04:00   \n",
       "10852    7/19/2018 6:44:22 PM -04:00   \n",
       "11097    7/19/2018 2:11:38 PM -04:00   \n",
       "11229   7/19/2018 12:29:28 PM -04:00   \n",
       "...                              ...   \n",
       "120349   7/19/2018 8:27:35 AM -04:00   \n",
       "135519   7/19/2018 6:48:33 AM -04:00   \n",
       "135812   7/19/2018 8:27:14 AM -04:00   \n",
       "161462   7/19/2018 5:10:21 AM -04:00   \n",
       "170477   7/19/2018 5:43:39 AM -04:00   \n",
       "\n",
       "                                                    title  \\\n",
       "11      LA Liberals Stage \"Emergency Protest\" At Koshe...   \n",
       "10674   Manny Ycaza, hall of fame jockey of fire and f...   \n",
       "10852   Help is at hand for Palestinians — if Hamas se...   \n",
       "11097   Lamborghini Spyder Makes North American Debut ...   \n",
       "11229   Heat Wave Scorches Sweden as Wildfires Rage in...   \n",
       "...                                                   ...   \n",
       "120349  China's yuan plunges again. Is a currency war ...   \n",
       "135519      Mac on... Cliff Richard   | Daily Mail Online   \n",
       "135812  films hilarious clip of Luna tucking into past...   \n",
       "161462  Assault, DUI cases among those recently handle...   \n",
       "170477  Rep. Jason Lewis upset not being able to call ...   \n",
       "\n",
       "                                                     text lang_reliability  \\\n",
       "11      by Phoenix Capita… - Jul 19, 2018 8:49 am ### ...                1   \n",
       "10674   Obituaries ### Manny Ycaza, hall of fame jocke...                1   \n",
       "10852   Help is at hand for Palestinians — if Hamas se...                1   \n",
       "11097   What are you searching for?  To order presenta...                1   \n",
       "11229   Heat Wave Scorches Sweden as Wildfires Rage in...                1   \n",
       "...                                                   ...              ...   \n",
       "120349  China's yuan plunges again. Is a currency war ...                1   \n",
       "135519  Thursday, Jul 19th 2018 5-Day Forecast ### Adv...                1   \n",
       "135812  comments ### She is well-known for her love of...                1   \n",
       "161462  Obituaries Front ### - - - - - ### Assault, DU...                1   \n",
       "170477  To find out more about Facebook commenting ple...                1   \n",
       "\n",
       "       lang_iso  title_len  text_len     label  assignment  \n",
       "11           en         75      3317  helsinki           0  \n",
       "10674        en         64      7403  duckboat           0  \n",
       "10852        en         58      5325  helsinki           0  \n",
       "11097        en         56      4867  helsinki           0  \n",
       "11229        en         66      8975  duckboat           0  \n",
       "...         ...        ...       ...       ...         ...  \n",
       "120349       en         53      3352  helsinki          20  \n",
       "135519       en         45       813  helsinki          20  \n",
       "135812       en         67      3483  duckboat          20  \n",
       "161462       en         63      2630  duckboat          20  \n",
       "170477       en         69      5761  helsinki          20  \n",
       "\n",
       "[624 rows x 11 columns]"
      ]
     },
     "execution_count": 105,
     "metadata": {},
     "output_type": "execute_result"
    }
   ],
   "source": [
    "articles.dropna(subset=['label'])"
   ]
  },
  {
   "cell_type": "code",
   "execution_count": 106,
   "metadata": {
    "ExecuteTime": {
     "end_time": "2019-10-31T18:31:54.120587Z",
     "start_time": "2019-10-31T18:31:54.107635Z"
    }
   },
   "outputs": [],
   "source": [
    "assignments = articles[['label', 'assignment', 'canonicalUrl']].groupby(['label', 'assignment']).count()"
   ]
  },
  {
   "cell_type": "code",
   "execution_count": 107,
   "metadata": {
    "ExecuteTime": {
     "end_time": "2019-10-31T18:32:02.364696Z",
     "start_time": "2019-10-31T18:32:02.351703Z"
    }
   },
   "outputs": [
    {
     "data": {
      "text/html": [
       "<table border=\"1\" class=\"dataframe\">\n",
       "  <thead>\n",
       "    <tr style=\"text-align: right;\">\n",
       "      <th></th>\n",
       "      <th></th>\n",
       "      <th>canonicalUrl</th>\n",
       "    </tr>\n",
       "    <tr>\n",
       "      <th>label</th>\n",
       "      <th>assignment</th>\n",
       "      <th></th>\n",
       "    </tr>\n",
       "  </thead>\n",
       "  <tbody>\n",
       "    <tr>\n",
       "      <th rowspan=\"19\" valign=\"top\">cave_rescue</th>\n",
       "      <th>0</th>\n",
       "      <td>6</td>\n",
       "    </tr>\n",
       "    <tr>\n",
       "      <th>1</th>\n",
       "      <td>5</td>\n",
       "    </tr>\n",
       "    <tr>\n",
       "      <th>2</th>\n",
       "      <td>11</td>\n",
       "    </tr>\n",
       "    <tr>\n",
       "      <th>3</th>\n",
       "      <td>11</td>\n",
       "    </tr>\n",
       "    <tr>\n",
       "      <th>4</th>\n",
       "      <td>11</td>\n",
       "    </tr>\n",
       "    <tr>\n",
       "      <th>5</th>\n",
       "      <td>1</td>\n",
       "    </tr>\n",
       "    <tr>\n",
       "      <th>6</th>\n",
       "      <td>8</td>\n",
       "    </tr>\n",
       "    <tr>\n",
       "      <th>7</th>\n",
       "      <td>4</td>\n",
       "    </tr>\n",
       "    <tr>\n",
       "      <th>8</th>\n",
       "      <td>3</td>\n",
       "    </tr>\n",
       "    <tr>\n",
       "      <th>9</th>\n",
       "      <td>14</td>\n",
       "    </tr>\n",
       "    <tr>\n",
       "      <th>10</th>\n",
       "      <td>4</td>\n",
       "    </tr>\n",
       "    <tr>\n",
       "      <th>11</th>\n",
       "      <td>3</td>\n",
       "    </tr>\n",
       "    <tr>\n",
       "      <th>12</th>\n",
       "      <td>11</td>\n",
       "    </tr>\n",
       "    <tr>\n",
       "      <th>14</th>\n",
       "      <td>5</td>\n",
       "    </tr>\n",
       "    <tr>\n",
       "      <th>15</th>\n",
       "      <td>4</td>\n",
       "    </tr>\n",
       "    <tr>\n",
       "      <th>16</th>\n",
       "      <td>4</td>\n",
       "    </tr>\n",
       "    <tr>\n",
       "      <th>17</th>\n",
       "      <td>3</td>\n",
       "    </tr>\n",
       "    <tr>\n",
       "      <th>18</th>\n",
       "      <td>1</td>\n",
       "    </tr>\n",
       "    <tr>\n",
       "      <th>19</th>\n",
       "      <td>1</td>\n",
       "    </tr>\n",
       "    <tr>\n",
       "      <th rowspan=\"20\" valign=\"top\">duckboat</th>\n",
       "      <th>0</th>\n",
       "      <td>7</td>\n",
       "    </tr>\n",
       "    <tr>\n",
       "      <th>1</th>\n",
       "      <td>5</td>\n",
       "    </tr>\n",
       "    <tr>\n",
       "      <th>2</th>\n",
       "      <td>15</td>\n",
       "    </tr>\n",
       "    <tr>\n",
       "      <th>3</th>\n",
       "      <td>11</td>\n",
       "    </tr>\n",
       "    <tr>\n",
       "      <th>4</th>\n",
       "      <td>8</td>\n",
       "    </tr>\n",
       "    <tr>\n",
       "      <th>5</th>\n",
       "      <td>6</td>\n",
       "    </tr>\n",
       "    <tr>\n",
       "      <th>6</th>\n",
       "      <td>6</td>\n",
       "    </tr>\n",
       "    <tr>\n",
       "      <th>7</th>\n",
       "      <td>4</td>\n",
       "    </tr>\n",
       "    <tr>\n",
       "      <th>8</th>\n",
       "      <td>4</td>\n",
       "    </tr>\n",
       "    <tr>\n",
       "      <th>9</th>\n",
       "      <td>20</td>\n",
       "    </tr>\n",
       "    <tr>\n",
       "      <th>10</th>\n",
       "      <td>1</td>\n",
       "    </tr>\n",
       "    <tr>\n",
       "      <th>11</th>\n",
       "      <td>1</td>\n",
       "    </tr>\n",
       "    <tr>\n",
       "      <th>12</th>\n",
       "      <td>18</td>\n",
       "    </tr>\n",
       "    <tr>\n",
       "      <th>13</th>\n",
       "      <td>1</td>\n",
       "    </tr>\n",
       "    <tr>\n",
       "      <th>14</th>\n",
       "      <td>8</td>\n",
       "    </tr>\n",
       "    <tr>\n",
       "      <th>15</th>\n",
       "      <td>7</td>\n",
       "    </tr>\n",
       "    <tr>\n",
       "      <th>16</th>\n",
       "      <td>7</td>\n",
       "    </tr>\n",
       "    <tr>\n",
       "      <th>17</th>\n",
       "      <td>2</td>\n",
       "    </tr>\n",
       "    <tr>\n",
       "      <th>18</th>\n",
       "      <td>4</td>\n",
       "    </tr>\n",
       "    <tr>\n",
       "      <th>20</th>\n",
       "      <td>3</td>\n",
       "    </tr>\n",
       "    <tr>\n",
       "      <th rowspan=\"21\" valign=\"top\">helsinki</th>\n",
       "      <th>0</th>\n",
       "      <td>17</td>\n",
       "    </tr>\n",
       "    <tr>\n",
       "      <th>1</th>\n",
       "      <td>21</td>\n",
       "    </tr>\n",
       "    <tr>\n",
       "      <th>2</th>\n",
       "      <td>37</td>\n",
       "    </tr>\n",
       "    <tr>\n",
       "      <th>3</th>\n",
       "      <td>30</td>\n",
       "    </tr>\n",
       "    <tr>\n",
       "      <th>4</th>\n",
       "      <td>17</td>\n",
       "    </tr>\n",
       "    <tr>\n",
       "      <th>5</th>\n",
       "      <td>7</td>\n",
       "    </tr>\n",
       "    <tr>\n",
       "      <th>6</th>\n",
       "      <td>20</td>\n",
       "    </tr>\n",
       "    <tr>\n",
       "      <th>7</th>\n",
       "      <td>22</td>\n",
       "    </tr>\n",
       "    <tr>\n",
       "      <th>8</th>\n",
       "      <td>10</td>\n",
       "    </tr>\n",
       "    <tr>\n",
       "      <th>9</th>\n",
       "      <td>76</td>\n",
       "    </tr>\n",
       "    <tr>\n",
       "      <th>10</th>\n",
       "      <td>7</td>\n",
       "    </tr>\n",
       "    <tr>\n",
       "      <th>11</th>\n",
       "      <td>4</td>\n",
       "    </tr>\n",
       "    <tr>\n",
       "      <th>12</th>\n",
       "      <td>40</td>\n",
       "    </tr>\n",
       "    <tr>\n",
       "      <th>13</th>\n",
       "      <td>1</td>\n",
       "    </tr>\n",
       "    <tr>\n",
       "      <th>14</th>\n",
       "      <td>25</td>\n",
       "    </tr>\n",
       "    <tr>\n",
       "      <th>15</th>\n",
       "      <td>11</td>\n",
       "    </tr>\n",
       "    <tr>\n",
       "      <th>16</th>\n",
       "      <td>9</td>\n",
       "    </tr>\n",
       "    <tr>\n",
       "      <th>17</th>\n",
       "      <td>11</td>\n",
       "    </tr>\n",
       "    <tr>\n",
       "      <th>18</th>\n",
       "      <td>4</td>\n",
       "    </tr>\n",
       "    <tr>\n",
       "      <th>19</th>\n",
       "      <td>3</td>\n",
       "    </tr>\n",
       "    <tr>\n",
       "      <th>20</th>\n",
       "      <td>4</td>\n",
       "    </tr>\n",
       "  </tbody>\n",
       "</table>"
      ],
      "text/plain": [
       "<IPython.core.display.HTML object>"
      ]
     },
     "execution_count": 107,
     "metadata": {},
     "output_type": "execute_result"
    }
   ],
   "source": [
    "HTML(assignments.to_html())"
   ]
  },
  {
   "cell_type": "markdown",
   "metadata": {},
   "source": [
    "## Evaluate"
   ]
  },
  {
   "cell_type": "code",
   "execution_count": 108,
   "metadata": {},
   "outputs": [],
   "source": [
    "cluster_to_prediction = pd.DataFrame(articles[['label', 'assignment', 'canonicalUrl']].groupby(\"assignment\").apply(lambda x: x['label'].mode()))\n",
    "cluster_to_prediction = cluster_to_prediction.reset_index().groupby('assignment').apply(lambda x: x.sample(1)).reset_index(drop = True)[['assignment', 0]]"
   ]
  },
  {
   "cell_type": "code",
   "execution_count": 109,
   "metadata": {},
   "outputs": [
    {
     "data": {
      "text/html": [
       "<div>\n",
       "<style scoped>\n",
       "    .dataframe tbody tr th:only-of-type {\n",
       "        vertical-align: middle;\n",
       "    }\n",
       "\n",
       "    .dataframe tbody tr th {\n",
       "        vertical-align: top;\n",
       "    }\n",
       "\n",
       "    .dataframe thead th {\n",
       "        text-align: right;\n",
       "    }\n",
       "</style>\n",
       "<table border=\"1\" class=\"dataframe\">\n",
       "  <thead>\n",
       "    <tr style=\"text-align: right;\">\n",
       "      <th></th>\n",
       "      <th>assignment</th>\n",
       "      <th>prediction</th>\n",
       "    </tr>\n",
       "  </thead>\n",
       "  <tbody>\n",
       "    <tr>\n",
       "      <td>0</td>\n",
       "      <td>0</td>\n",
       "      <td>helsinki</td>\n",
       "    </tr>\n",
       "    <tr>\n",
       "      <td>1</td>\n",
       "      <td>1</td>\n",
       "      <td>helsinki</td>\n",
       "    </tr>\n",
       "    <tr>\n",
       "      <td>2</td>\n",
       "      <td>2</td>\n",
       "      <td>helsinki</td>\n",
       "    </tr>\n",
       "    <tr>\n",
       "      <td>3</td>\n",
       "      <td>3</td>\n",
       "      <td>helsinki</td>\n",
       "    </tr>\n",
       "    <tr>\n",
       "      <td>4</td>\n",
       "      <td>4</td>\n",
       "      <td>helsinki</td>\n",
       "    </tr>\n",
       "    <tr>\n",
       "      <td>5</td>\n",
       "      <td>5</td>\n",
       "      <td>helsinki</td>\n",
       "    </tr>\n",
       "    <tr>\n",
       "      <td>6</td>\n",
       "      <td>6</td>\n",
       "      <td>helsinki</td>\n",
       "    </tr>\n",
       "    <tr>\n",
       "      <td>7</td>\n",
       "      <td>7</td>\n",
       "      <td>helsinki</td>\n",
       "    </tr>\n",
       "    <tr>\n",
       "      <td>8</td>\n",
       "      <td>8</td>\n",
       "      <td>helsinki</td>\n",
       "    </tr>\n",
       "    <tr>\n",
       "      <td>9</td>\n",
       "      <td>9</td>\n",
       "      <td>helsinki</td>\n",
       "    </tr>\n",
       "    <tr>\n",
       "      <td>10</td>\n",
       "      <td>10</td>\n",
       "      <td>helsinki</td>\n",
       "    </tr>\n",
       "    <tr>\n",
       "      <td>11</td>\n",
       "      <td>11</td>\n",
       "      <td>helsinki</td>\n",
       "    </tr>\n",
       "    <tr>\n",
       "      <td>12</td>\n",
       "      <td>12</td>\n",
       "      <td>helsinki</td>\n",
       "    </tr>\n",
       "    <tr>\n",
       "      <td>13</td>\n",
       "      <td>13</td>\n",
       "      <td>helsinki</td>\n",
       "    </tr>\n",
       "    <tr>\n",
       "      <td>14</td>\n",
       "      <td>14</td>\n",
       "      <td>helsinki</td>\n",
       "    </tr>\n",
       "    <tr>\n",
       "      <td>15</td>\n",
       "      <td>15</td>\n",
       "      <td>helsinki</td>\n",
       "    </tr>\n",
       "    <tr>\n",
       "      <td>16</td>\n",
       "      <td>16</td>\n",
       "      <td>helsinki</td>\n",
       "    </tr>\n",
       "    <tr>\n",
       "      <td>17</td>\n",
       "      <td>17</td>\n",
       "      <td>helsinki</td>\n",
       "    </tr>\n",
       "    <tr>\n",
       "      <td>18</td>\n",
       "      <td>18</td>\n",
       "      <td>duckboat</td>\n",
       "    </tr>\n",
       "    <tr>\n",
       "      <td>19</td>\n",
       "      <td>19</td>\n",
       "      <td>helsinki</td>\n",
       "    </tr>\n",
       "    <tr>\n",
       "      <td>20</td>\n",
       "      <td>20</td>\n",
       "      <td>helsinki</td>\n",
       "    </tr>\n",
       "  </tbody>\n",
       "</table>\n",
       "</div>"
      ],
      "text/plain": [
       "    assignment prediction\n",
       "0            0   helsinki\n",
       "1            1   helsinki\n",
       "2            2   helsinki\n",
       "3            3   helsinki\n",
       "4            4   helsinki\n",
       "5            5   helsinki\n",
       "6            6   helsinki\n",
       "7            7   helsinki\n",
       "8            8   helsinki\n",
       "9            9   helsinki\n",
       "10          10   helsinki\n",
       "11          11   helsinki\n",
       "12          12   helsinki\n",
       "13          13   helsinki\n",
       "14          14   helsinki\n",
       "15          15   helsinki\n",
       "16          16   helsinki\n",
       "17          17   helsinki\n",
       "18          18   duckboat\n",
       "19          19   helsinki\n",
       "20          20   helsinki"
      ]
     },
     "execution_count": 109,
     "metadata": {},
     "output_type": "execute_result"
    }
   ],
   "source": [
    "cluster_to_prediction.columns = ['assignment', 'prediction']\n",
    "cluster_to_prediction"
   ]
  },
  {
   "cell_type": "code",
   "execution_count": 110,
   "metadata": {},
   "outputs": [
    {
     "data": {
      "text/html": [
       "<div>\n",
       "<style scoped>\n",
       "    .dataframe tbody tr th:only-of-type {\n",
       "        vertical-align: middle;\n",
       "    }\n",
       "\n",
       "    .dataframe tbody tr th {\n",
       "        vertical-align: top;\n",
       "    }\n",
       "\n",
       "    .dataframe thead th {\n",
       "        text-align: right;\n",
       "    }\n",
       "</style>\n",
       "<table border=\"1\" class=\"dataframe\">\n",
       "  <thead>\n",
       "    <tr style=\"text-align: right;\">\n",
       "      <th></th>\n",
       "      <th>pubId</th>\n",
       "      <th>canonicalUrl</th>\n",
       "      <th>firstScrape</th>\n",
       "      <th>title</th>\n",
       "      <th>text</th>\n",
       "      <th>lang_reliability</th>\n",
       "      <th>lang_iso</th>\n",
       "      <th>title_len</th>\n",
       "      <th>text_len</th>\n",
       "      <th>label</th>\n",
       "      <th>assignment</th>\n",
       "      <th>prediction</th>\n",
       "    </tr>\n",
       "  </thead>\n",
       "  <tbody>\n",
       "    <tr>\n",
       "      <td>0</td>\n",
       "      <td>290</td>\n",
       "      <td>zerohedge.com/news/2018-07-19/la-liberals-stag...</td>\n",
       "      <td>7/19/2018 7:50:19 PM -04:00</td>\n",
       "      <td>LA Liberals Stage \"Emergency Protest\" At Koshe...</td>\n",
       "      <td>by Phoenix Capita… - Jul 19, 2018 8:49 am ### ...</td>\n",
       "      <td>1</td>\n",
       "      <td>en</td>\n",
       "      <td>75</td>\n",
       "      <td>3317</td>\n",
       "      <td>helsinki</td>\n",
       "      <td>0</td>\n",
       "      <td>helsinki</td>\n",
       "    </tr>\n",
       "    <tr>\n",
       "      <td>1</td>\n",
       "      <td>33</td>\n",
       "      <td>washingtonpost.com/local/obituaries/manny-ycaz...</td>\n",
       "      <td>7/19/2018 7:17:12 PM -04:00</td>\n",
       "      <td>Manny Ycaza, hall of fame jockey of fire and f...</td>\n",
       "      <td>Obituaries ### Manny Ycaza, hall of fame jocke...</td>\n",
       "      <td>1</td>\n",
       "      <td>en</td>\n",
       "      <td>64</td>\n",
       "      <td>7403</td>\n",
       "      <td>duckboat</td>\n",
       "      <td>0</td>\n",
       "      <td>helsinki</td>\n",
       "    </tr>\n",
       "    <tr>\n",
       "      <td>2</td>\n",
       "      <td>33</td>\n",
       "      <td>washingtonpost.com/opinions/help-is-at-hand-fo...</td>\n",
       "      <td>7/19/2018 6:44:22 PM -04:00</td>\n",
       "      <td>Help is at hand for Palestinians — if Hamas se...</td>\n",
       "      <td>Help is at hand for Palestinians — if Hamas se...</td>\n",
       "      <td>1</td>\n",
       "      <td>en</td>\n",
       "      <td>58</td>\n",
       "      <td>5325</td>\n",
       "      <td>helsinki</td>\n",
       "      <td>0</td>\n",
       "      <td>helsinki</td>\n",
       "    </tr>\n",
       "    <tr>\n",
       "      <td>3</td>\n",
       "      <td>232</td>\n",
       "      <td>barrons.com/articles/lamborghini-spyder-makes-...</td>\n",
       "      <td>7/19/2018 2:11:38 PM -04:00</td>\n",
       "      <td>Lamborghini Spyder Makes North American Debut ...</td>\n",
       "      <td>What are you searching for?  To order presenta...</td>\n",
       "      <td>1</td>\n",
       "      <td>en</td>\n",
       "      <td>56</td>\n",
       "      <td>4867</td>\n",
       "      <td>helsinki</td>\n",
       "      <td>0</td>\n",
       "      <td>helsinki</td>\n",
       "    </tr>\n",
       "    <tr>\n",
       "      <td>4</td>\n",
       "      <td>22</td>\n",
       "      <td>nytimes.com/2018/07/19/world/europe/heat-wave-...</td>\n",
       "      <td>7/19/2018 12:29:28 PM -04:00</td>\n",
       "      <td>Heat Wave Scorches Sweden as Wildfires Rage in...</td>\n",
       "      <td>Heat Wave Scorches Sweden as Wildfires Rage in...</td>\n",
       "      <td>1</td>\n",
       "      <td>en</td>\n",
       "      <td>66</td>\n",
       "      <td>8975</td>\n",
       "      <td>duckboat</td>\n",
       "      <td>0</td>\n",
       "      <td>helsinki</td>\n",
       "    </tr>\n",
       "  </tbody>\n",
       "</table>\n",
       "</div>"
      ],
      "text/plain": [
       "  pubId                                       canonicalUrl  \\\n",
       "0   290  zerohedge.com/news/2018-07-19/la-liberals-stag...   \n",
       "1    33  washingtonpost.com/local/obituaries/manny-ycaz...   \n",
       "2    33  washingtonpost.com/opinions/help-is-at-hand-fo...   \n",
       "3   232  barrons.com/articles/lamborghini-spyder-makes-...   \n",
       "4    22  nytimes.com/2018/07/19/world/europe/heat-wave-...   \n",
       "\n",
       "                    firstScrape  \\\n",
       "0   7/19/2018 7:50:19 PM -04:00   \n",
       "1   7/19/2018 7:17:12 PM -04:00   \n",
       "2   7/19/2018 6:44:22 PM -04:00   \n",
       "3   7/19/2018 2:11:38 PM -04:00   \n",
       "4  7/19/2018 12:29:28 PM -04:00   \n",
       "\n",
       "                                               title  \\\n",
       "0  LA Liberals Stage \"Emergency Protest\" At Koshe...   \n",
       "1  Manny Ycaza, hall of fame jockey of fire and f...   \n",
       "2  Help is at hand for Palestinians — if Hamas se...   \n",
       "3  Lamborghini Spyder Makes North American Debut ...   \n",
       "4  Heat Wave Scorches Sweden as Wildfires Rage in...   \n",
       "\n",
       "                                                text lang_reliability  \\\n",
       "0  by Phoenix Capita… - Jul 19, 2018 8:49 am ### ...                1   \n",
       "1  Obituaries ### Manny Ycaza, hall of fame jocke...                1   \n",
       "2  Help is at hand for Palestinians — if Hamas se...                1   \n",
       "3  What are you searching for?  To order presenta...                1   \n",
       "4  Heat Wave Scorches Sweden as Wildfires Rage in...                1   \n",
       "\n",
       "  lang_iso  title_len  text_len     label  assignment prediction  \n",
       "0       en         75      3317  helsinki           0   helsinki  \n",
       "1       en         64      7403  duckboat           0   helsinki  \n",
       "2       en         58      5325  helsinki           0   helsinki  \n",
       "3       en         56      4867  helsinki           0   helsinki  \n",
       "4       en         66      8975  duckboat           0   helsinki  "
      ]
     },
     "execution_count": 110,
     "metadata": {},
     "output_type": "execute_result"
    }
   ],
   "source": [
    "articles = articles.merge(cluster_to_prediction, on=('assignment'))\n",
    "articles['label'].fillna('unlabeled', inplace=True)\n",
    "articles.head()"
   ]
  },
  {
   "cell_type": "code",
   "execution_count": 116,
   "metadata": {},
   "outputs": [
    {
     "name": "stdout",
     "output_type": "stream",
     "text": [
      "[[ 372    4    0    0]\n",
      " [ 134    4    0    0]\n",
      " [ 109    1    0    0]\n",
      " [9833   81    0    0]]\n"
     ]
    },
    {
     "data": {
      "image/png": "[encoded data removed]",
      "text/plain": [
       "<Figure size 432x288 with 2 Axes>"
      ]
     },
     "metadata": {
      "needs_background": "light"
     },
     "output_type": "display_data"
    }
   ],
   "source": [
    "import seaborn as sns\n",
    "import pandas as pd\n",
    "import matplotlib.pyplot as plt\n",
    "from sklearn.metrics import confusion_matrix\n",
    "%matplotlib inline\n",
    "\n",
    "labels = articles['label'].unique()\n",
    "cm = confusion_matrix(list(articles['label']), list(articles['prediction']), labels)\n",
    "\n",
    "print(cm)\n",
    "fig = plt.figure()\n",
    "ax = fig.add_subplot(111)\n",
    "cax = sns.heatmap(cm, annot=True, ax = ax);\n",
    "plt.title('Confusion matrix of the classifier')\n",
    "ax.set_xlabel('Predicted labels');ax.set_ylabel('True labels'); \n",
    "ax.set_title('Confusion Matrix');\n",
    "ax.xaxis.set_ticklabels(labels)\n",
    "ax.yaxis.set_ticklabels(labels)\n",
    "plt.show()"
   ]
  },
  {
   "cell_type": "code",
   "execution_count": 122,
   "metadata": {},
   "outputs": [
    {
     "name": "stdout",
     "output_type": "stream",
     "text": [
      "Accuracy:  0.6025641025641025\n"
     ]
    }
   ],
   "source": [
    "cm_without_unlabeled = cm[:-1, :-1]\n",
    "acc = np.trace(cm_without_unlabeled)/np.sum(cm_without_unlabeled)\n",
    "print(\"Accuracy: \", acc)"
   ]
  },
  {
   "cell_type": "code",
   "execution_count": 123,
   "metadata": {},
   "outputs": [
    {
     "data": {
      "text/plain": [
       "array([[372,   4,   0],\n",
       "       [134,   4,   0],\n",
       "       [109,   1,   0]])"
      ]
     },
     "execution_count": 123,
     "metadata": {},
     "output_type": "execute_result"
    }
   ],
   "source": [
    "cm_without_unlabeled"
   ]
  },
  {
   "cell_type": "code",
   "execution_count": 126,
   "metadata": {},
   "outputs": [],
   "source": [
    "labeled_articles = articles.dropna(subset=['label'])\n",
    "concat_labeled_articles = list(labeled_articles[['text','prediction']].groupby(['prediction'])['text'].apply(lambda x: ' '.join(x)))\n",
    "# df[['name','text','month']].drop_duplicates()"
   ]
  },
  {
   "cell_type": "code",
   "execution_count": 128,
   "metadata": {},
   "outputs": [],
   "source": [
    "from sklearn.feature_extraction.text import TfidfVectorizer\n",
    "\n",
    "def avg_tfidf()\n",
    "vectorizer = TfidfVectorizer()\n",
    "vectors = vectorizer.fit_transform(concat_labeled_articles)"
   ]
  },
  {
   "cell_type": "code",
   "execution_count": 133,
   "metadata": {},
   "outputs": [
    {
     "data": {
      "text/plain": [
       "matrix([[4.95778619e-04, 5.70145412e-03, 0.00000000e+00, ...,\n",
       "         0.00000000e+00, 0.00000000e+00, 0.00000000e+00],\n",
       "        [2.97317710e-03, 7.42021708e-03, 1.30076161e-05, ...,\n",
       "         1.30076161e-05, 1.30076161e-05, 3.25190402e-06]])"
      ]
     },
     "execution_count": 133,
     "metadata": {},
     "output_type": "execute_result"
    }
   ],
   "source": [
    "vectors.todense()"
   ]
  },
  {
   "cell_type": "code",
   "execution_count": 136,
   "metadata": {},
   "outputs": [],
   "source": [
    "tfidfs = pd.DataFrame(vectors.toarray(), columns=vectorizer.get_feature_names())"
   ]
  },
  {
   "cell_type": "code",
   "execution_count": 150,
   "metadata": {},
   "outputs": [
    {
     "data": {
      "image/png": "[encoded data removed]",
      "text/plain": [
       "<Figure size 432x288 with 1 Axes>"
      ]
     },
     "metadata": {
      "needs_background": "light"
     },
     "output_type": "display_data"
    },
    {
     "data": {
      "image/png": "[encoded data removed]",
      "text/plain": [
       "<Figure size 432x288 with 1 Axes>"
      ]
     },
     "metadata": {
      "needs_background": "light"
     },
     "output_type": "display_data"
    }
   ],
   "source": [
    "from wordcloud import WordCloud\n",
    "\n",
    "for i in range(0, len(tfidfs)):\n",
    "    wordcloud = WordCloud(background_color = 'white')\n",
    "    d = {}\n",
    "    for k,v in tfidfs.T[i].reset_index().values:\n",
    "        d[k] = v\n",
    "    d\n",
    "    wc = wordcloud.generate_from_frequencies(d)\n",
    "    plt.figure()\n",
    "    plt.imshow(wc)\n",
    "    plt.axis(\"off\")"
   ]
  },
  {
   "cell_type": "code",
   "execution_count": null,
   "metadata": {},
   "outputs": [],
   "source": []
  }
 ],
 "metadata": {
  "kernelspec": {
   "display_name": "Python 3",
   "language": "python",
   "name": "python3"
  },
  "language_info": {
   "codemirror_mode": {
    "name": "ipython",
    "version": 3
   },
   "file_extension": ".py",
   "mimetype": "text/x-python",
   "name": "python",
   "nbconvert_exporter": "python",
   "pygments_lexer": "ipython3",
   "version": "3.6.6"
  }
 },
 "nbformat": 4,
 "nbformat_minor": 4
}
