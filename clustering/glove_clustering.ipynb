{
 "cells": [
  {
   "cell_type": "code",
   "execution_count": 33,
   "metadata": {
    "ExecuteTime": {
     "end_time": "2019-10-28T03:34:11.043917Z",
     "start_time": "2019-10-28T03:34:11.027367Z"
    }
   },
   "outputs": [],
   "source": [
    "import pandas as pd\n",
    "import networkx as nx\n",
    "import community\n",
    "import matplotlib.pyplot as plt\n",
    "from sklearn.metrics.pairwise import cosine_similarity, euclidean_distances\n",
    "import numpy as np\n",
    "from collections import defaultdict\n",
    "from sklearn.neighbors import BallTree\n",
    "import gc\n",
    "%matplotlib inline\n",
    "\n",
    "columns = [\"pubId\", \"is_hourly\", \"seqId\", \"on_homepage\", \"canonicalUrl\",\n",
    "                   \"firstScrape\", \"lang_iso\", \"lang_reliability\", \"title\", \"text\"]\n",
    "\n",
    "def read_article_df(file):\n",
    "    articles_dt = file.read().split('\\n')[:-1]\n",
    "    pubId, canonicalUrl,firstScrape,title,text,lang_reliability = [],[],[],[],[],[]\n",
    "    lang_iso = []\n",
    "    for article in articles_dt:    \n",
    "        row = article.split('\\t')\n",
    "        pubId.append(row[0])\n",
    "        canonicalUrl.append(row[4])\n",
    "        firstScrape.append(row[5])\n",
    "        lang_iso.append(row[6])\n",
    "        lang_reliability.append(row[7])\n",
    "        title.append(row[8])\n",
    "        text.append(row[9])\n",
    "\n",
    "    articles_df = pd.DataFrame()\n",
    "    articles_df['pubId'] = pubId\n",
    "    articles_df['canonicalUrl'] = canonicalUrl\n",
    "    articles_df['firstScrape'] = firstScrape\n",
    "    articles_df['title'] = title\n",
    "    articles_df['text'] = text\n",
    "    articles_df['lang_reliability'] = lang_reliability\n",
    "    articles_df['lang_iso'] = lang_iso\n",
    "    return articles_df"
   ]
  },
  {
   "cell_type": "code",
   "execution_count": 2,
   "metadata": {
    "ExecuteTime": {
     "end_time": "2019-10-28T03:29:16.902046Z",
     "start_time": "2019-10-28T03:29:12.645393Z"
    }
   },
   "outputs": [],
   "source": [
    "emb_df = pd.read_csv('../data/embedding/Glove_embedding_output.csv',index_col=0)"
   ]
  },
  {
   "cell_type": "code",
   "execution_count": 72,
   "metadata": {
    "ExecuteTime": {
     "end_time": "2019-10-28T03:36:50.850372Z",
     "start_time": "2019-10-28T03:36:42.356787Z"
    }
   },
   "outputs": [],
   "source": [
    "article_df = read_article_df(open('../data/raw/2018_07_19_04_59_08/articles.txt', encoding='utf-8'))\n",
    "article_df = article_df[article_df.lang_reliability == '1'].reset_index(drop=True)"
   ]
  },
  {
   "cell_type": "code",
   "execution_count": 35,
   "metadata": {
    "ExecuteTime": {
     "end_time": "2019-10-28T03:34:27.473227Z",
     "start_time": "2019-10-28T03:34:27.104541Z"
    }
   },
   "outputs": [],
   "source": [
    "article_df['title'] = article_df.title.apply(lambda s: s.strip())\n",
    "article_df['text'] = article_df.text.apply(lambda s: s.strip())\n",
    "article_df['title_len'] = article_df.title.apply(len)\n",
    "article_df['text_len'] = article_df.text.apply(len)"
   ]
  },
  {
   "cell_type": "code",
   "execution_count": 42,
   "metadata": {
    "ExecuteTime": {
     "end_time": "2019-10-28T03:34:55.090159Z",
     "start_time": "2019-10-28T03:34:54.936564Z"
    }
   },
   "outputs": [
    {
     "data": {
      "text/plain": [
       "(176664, 10)"
      ]
     },
     "execution_count": 42,
     "metadata": {},
     "output_type": "execute_result"
    }
   ],
   "source": [
    "clean_df = article_df[article_df.title_len > 0]\n",
    "clean_df = clean_df[clean_df.text_len > 100]\n",
    "clean_df = clean_df[clean_df.lang_iso == 'en']\n",
    "clean_df.shape"
   ]
  },
  {
   "cell_type": "code",
   "execution_count": 98,
   "metadata": {
    "ExecuteTime": {
     "end_time": "2019-10-28T03:42:30.222732Z",
     "start_time": "2019-10-28T03:42:30.197797Z"
    }
   },
   "outputs": [],
   "source": [
    "label1 = pd.read_csv('../data/raw/labels/cave_rescue/population.txt', header=None)\n",
    "label1.columns = ['canonicalUrl']\n",
    "label1['label'] = 1\n",
    "\n",
    "label2 = pd.read_csv('../data/raw/labels/duckboat/population.txt', header=None)\n",
    "label2.columns = ['canonicalUrl']\n",
    "label2['label'] = 2\n",
    "\n",
    "label3 = pd.read_csv('../data/raw/labels/helsinki_summit/population.txt', header=None)\n",
    "label3.columns = ['canonicalUrl']\n",
    "label3['label'] = 3"
   ]
  },
  {
   "cell_type": "code",
   "execution_count": 102,
   "metadata": {
    "ExecuteTime": {
     "end_time": "2019-10-28T03:42:57.957992Z",
     "start_time": "2019-10-28T03:42:57.944030Z"
    }
   },
   "outputs": [
    {
     "data": {
      "text/html": [
       "<div>\n",
       "<style scoped>\n",
       "    .dataframe tbody tr th:only-of-type {\n",
       "        vertical-align: middle;\n",
       "    }\n",
       "\n",
       "    .dataframe tbody tr th {\n",
       "        vertical-align: top;\n",
       "    }\n",
       "\n",
       "    .dataframe thead th {\n",
       "        text-align: right;\n",
       "    }\n",
       "</style>\n",
       "<table border=\"1\" class=\"dataframe\">\n",
       "  <thead>\n",
       "    <tr style=\"text-align: right;\">\n",
       "      <th></th>\n",
       "      <th>canonicalUrl</th>\n",
       "      <th>label</th>\n",
       "    </tr>\n",
       "  </thead>\n",
       "  <tbody>\n",
       "    <tr>\n",
       "      <td>0</td>\n",
       "      <td>denverpost.com/2018/07/20/greeley-police-lip-s...</td>\n",
       "      <td>1</td>\n",
       "    </tr>\n",
       "    <tr>\n",
       "      <td>1</td>\n",
       "      <td>bbc.com/news/av/world-asia-44875089/thai-cave-...</td>\n",
       "      <td>1</td>\n",
       "    </tr>\n",
       "    <tr>\n",
       "      <td>2</td>\n",
       "      <td>news.google.com/stories/caaqzggkimbdqkltuwpvsm...</td>\n",
       "      <td>1</td>\n",
       "    </tr>\n",
       "    <tr>\n",
       "      <td>3</td>\n",
       "      <td>chron.com/news/crime/article/young-nubians-rev...</td>\n",
       "      <td>1</td>\n",
       "    </tr>\n",
       "    <tr>\n",
       "      <td>4</td>\n",
       "      <td>cnbc.com/2018/07/20/at-least-13-die-when-duck-...</td>\n",
       "      <td>1</td>\n",
       "    </tr>\n",
       "    <tr>\n",
       "      <td>...</td>\n",
       "      <td>...</td>\n",
       "      <td>...</td>\n",
       "    </tr>\n",
       "    <tr>\n",
       "      <td>1920</td>\n",
       "      <td>beforeitsnews.com/opinion-conservative/2018/07...</td>\n",
       "      <td>3</td>\n",
       "    </tr>\n",
       "    <tr>\n",
       "      <td>1921</td>\n",
       "      <td>washingtonpost.com/news/powerpost/paloma/the-h...</td>\n",
       "      <td>3</td>\n",
       "    </tr>\n",
       "    <tr>\n",
       "      <td>1922</td>\n",
       "      <td>feeds.nydailynews.com/~r/nydnrss/news/national...</td>\n",
       "      <td>3</td>\n",
       "    </tr>\n",
       "    <tr>\n",
       "      <td>1923</td>\n",
       "      <td>news.google.com/stories/caaqoqgkijndqkltsurvsm...</td>\n",
       "      <td>3</td>\n",
       "    </tr>\n",
       "    <tr>\n",
       "      <td>1924</td>\n",
       "      <td>m.chron.com/news/politics/article/the-latest-g...</td>\n",
       "      <td>3</td>\n",
       "    </tr>\n",
       "  </tbody>\n",
       "</table>\n",
       "<p>3193 rows × 2 columns</p>\n",
       "</div>"
      ],
      "text/plain": [
       "                                           canonicalUrl  label\n",
       "0     denverpost.com/2018/07/20/greeley-police-lip-s...      1\n",
       "1     bbc.com/news/av/world-asia-44875089/thai-cave-...      1\n",
       "2     news.google.com/stories/caaqzggkimbdqkltuwpvsm...      1\n",
       "3     chron.com/news/crime/article/young-nubians-rev...      1\n",
       "4     cnbc.com/2018/07/20/at-least-13-die-when-duck-...      1\n",
       "...                                                 ...    ...\n",
       "1920  beforeitsnews.com/opinion-conservative/2018/07...      3\n",
       "1921  washingtonpost.com/news/powerpost/paloma/the-h...      3\n",
       "1922  feeds.nydailynews.com/~r/nydnrss/news/national...      3\n",
       "1923  news.google.com/stories/caaqoqgkijndqkltsurvsm...      3\n",
       "1924  m.chron.com/news/politics/article/the-latest-g...      3\n",
       "\n",
       "[3193 rows x 2 columns]"
      ]
     },
     "execution_count": 102,
     "metadata": {},
     "output_type": "execute_result"
    }
   ],
   "source": [
    "label_df = pd.concat([label1, label2, label3])\n",
    "label_df"
   ]
  },
  {
   "cell_type": "code",
   "execution_count": 111,
   "metadata": {
    "ExecuteTime": {
     "end_time": "2019-10-28T03:44:27.642376Z",
     "start_time": "2019-10-28T03:44:27.594482Z"
    },
    "scrolled": false
   },
   "outputs": [
    {
     "data": {
      "text/html": [
       "<div>\n",
       "<style scoped>\n",
       "    .dataframe tbody tr th:only-of-type {\n",
       "        vertical-align: middle;\n",
       "    }\n",
       "\n",
       "    .dataframe tbody tr th {\n",
       "        vertical-align: top;\n",
       "    }\n",
       "\n",
       "    .dataframe thead th {\n",
       "        text-align: right;\n",
       "    }\n",
       "</style>\n",
       "<table border=\"1\" class=\"dataframe\">\n",
       "  <thead>\n",
       "    <tr style=\"text-align: right;\">\n",
       "      <th></th>\n",
       "      <th>index</th>\n",
       "      <th>pubId</th>\n",
       "      <th>canonicalUrl</th>\n",
       "      <th>firstScrape</th>\n",
       "      <th>title</th>\n",
       "      <th>text</th>\n",
       "      <th>lang_reliability</th>\n",
       "      <th>lang_iso</th>\n",
       "      <th>title_len</th>\n",
       "      <th>text_len</th>\n",
       "      <th>label</th>\n",
       "    </tr>\n",
       "  </thead>\n",
       "  <tbody>\n",
       "    <tr>\n",
       "      <td>238</td>\n",
       "      <td>165242</td>\n",
       "      <td>44</td>\n",
       "      <td>dailymail.co.uk/wires/ap/article-5969291/hawai...</td>\n",
       "      <td>7/19/2018 6:28:47 AM -04:00</td>\n",
       "      <td>Hawaii searches for safe spots for people to s...</td>\n",
       "      <td>Thursday, Jul 19th 2018 5-Day Forecast ### Adv...</td>\n",
       "      <td>1</td>\n",
       "      <td>en</td>\n",
       "      <td>73</td>\n",
       "      <td>10661</td>\n",
       "      <td>2.0</td>\n",
       "    </tr>\n",
       "    <tr>\n",
       "      <td>914</td>\n",
       "      <td>84099</td>\n",
       "      <td>117</td>\n",
       "      <td>newsday.com/long-island/politics/spin-cycle/cu...</td>\n",
       "      <td>7/19/2018 5:31:58 AM -04:00</td>\n",
       "      <td>Cuomo giving up donations linked to corruption...</td>\n",
       "      <td>Get breaking news alerts from Newsday ### Turn...</td>\n",
       "      <td>1</td>\n",
       "      <td>en</td>\n",
       "      <td>63</td>\n",
       "      <td>2054</td>\n",
       "      <td>3.0</td>\n",
       "    </tr>\n",
       "    <tr>\n",
       "      <td>1631</td>\n",
       "      <td>91940</td>\n",
       "      <td>6</td>\n",
       "      <td>yahoo.com/news/m/3c9bfadd-8455-3f28-a7a1-d4fa2...</td>\n",
       "      <td>7/19/2018 5:35:38 AM -04:00</td>\n",
       "      <td>Russian 'agent offered sex for job in US'</td>\n",
       "      <td>Russian 'agent offered sex for job in US' ### ...</td>\n",
       "      <td>1</td>\n",
       "      <td>en</td>\n",
       "      <td>41</td>\n",
       "      <td>821</td>\n",
       "      <td>3.0</td>\n",
       "    </tr>\n",
       "    <tr>\n",
       "      <td>1812</td>\n",
       "      <td>200722</td>\n",
       "      <td>308</td>\n",
       "      <td>beforeitsnews.com/opinion-liberal/2018/07/weap...</td>\n",
       "      <td>7/19/2018 5:13:16 AM -04:00</td>\n",
       "      <td>Weaponizing the First Amendment</td>\n",
       "      <td>Weaponizing the First Amendment! ### Wednesday...</td>\n",
       "      <td>1</td>\n",
       "      <td>en</td>\n",
       "      <td>31</td>\n",
       "      <td>3261</td>\n",
       "      <td>3.0</td>\n",
       "    </tr>\n",
       "    <tr>\n",
       "      <td>1964</td>\n",
       "      <td>142993</td>\n",
       "      <td>76</td>\n",
       "      <td>chron.com/news/media/how-doordash-plans-to-use...</td>\n",
       "      <td>7/19/2018 6:09:53 AM -04:00</td>\n",
       "      <td>How DoorDash Plans to Use Its New Round of Fun...</td>\n",
       "      <td>How DoorDash Plans to Use Its New Round of Fun...</td>\n",
       "      <td>1</td>\n",
       "      <td>en</td>\n",
       "      <td>70</td>\n",
       "      <td>832</td>\n",
       "      <td>3.0</td>\n",
       "    </tr>\n",
       "    <tr>\n",
       "      <td>2062</td>\n",
       "      <td>20108</td>\n",
       "      <td>118</td>\n",
       "      <td>philly.com/philly/entertainment/movies/dark-mo...</td>\n",
       "      <td>7/19/2018 6:29:50 AM -04:00</td>\n",
       "      <td>'Dark Money' examines the dark side of campaig...</td>\n",
       "      <td>'Dark Money' examines the dark side of campaig...</td>\n",
       "      <td>1</td>\n",
       "      <td>en</td>\n",
       "      <td>65</td>\n",
       "      <td>3882</td>\n",
       "      <td>2.0</td>\n",
       "    </tr>\n",
       "    <tr>\n",
       "      <td>2266</td>\n",
       "      <td>164691</td>\n",
       "      <td>44</td>\n",
       "      <td>dailymail.co.uk/tvshowbiz/article-5970199/chri...</td>\n",
       "      <td>7/19/2018 8:27:14 AM -04:00</td>\n",
       "      <td>films hilarious clip of Luna tucking into past...</td>\n",
       "      <td>comments ### She is well-known for her love of...</td>\n",
       "      <td>1</td>\n",
       "      <td>en</td>\n",
       "      <td>67</td>\n",
       "      <td>3483</td>\n",
       "      <td>2.0</td>\n",
       "    </tr>\n",
       "    <tr>\n",
       "      <td>2469</td>\n",
       "      <td>21084</td>\n",
       "      <td>34</td>\n",
       "      <td>bbc.co.uk/news/health-41483322</td>\n",
       "      <td>7/19/2018 5:27:31 AM -04:00</td>\n",
       "      <td>Check NHS cancer, A&amp;E and operations targets i...</td>\n",
       "      <td>Check NHS cancer, A&amp;E and operations targets i...</td>\n",
       "      <td>1</td>\n",
       "      <td>en</td>\n",
       "      <td>68</td>\n",
       "      <td>4959</td>\n",
       "      <td>2.0</td>\n",
       "    </tr>\n",
       "    <tr>\n",
       "      <td>2750</td>\n",
       "      <td>142869</td>\n",
       "      <td>76</td>\n",
       "      <td>chron.com/neighborhood/cyfair/sports/article/y...</td>\n",
       "      <td>7/19/2018 7:59:38 PM -04:00</td>\n",
       "      <td>Youth players maximize potential through north...</td>\n",
       "      <td>Youth players maximize potential through north...</td>\n",
       "      <td>1</td>\n",
       "      <td>en</td>\n",
       "      <td>65</td>\n",
       "      <td>8466</td>\n",
       "      <td>2.0</td>\n",
       "    </tr>\n",
       "    <tr>\n",
       "      <td>3027</td>\n",
       "      <td>92011</td>\n",
       "      <td>6</td>\n",
       "      <td>yahoo.com/news/u-judge-orders-accused-russian-...</td>\n",
       "      <td>7/19/2018 12:28:34 PM -04:00</td>\n",
       "      <td>U.S. judge orders accused Russian agent Butina...</td>\n",
       "      <td>U.S. judge orders accused Russian agent Butina...</td>\n",
       "      <td>1</td>\n",
       "      <td>en</td>\n",
       "      <td>53</td>\n",
       "      <td>540</td>\n",
       "      <td>3.0</td>\n",
       "    </tr>\n",
       "    <tr>\n",
       "      <td>3525</td>\n",
       "      <td>204179</td>\n",
       "      <td>55</td>\n",
       "      <td>newsmax.com/finance/jasonhargraves/insurance-m...</td>\n",
       "      <td>7/19/2018 12:28:48 PM -04:00</td>\n",
       "      <td>Survey: Insurance Myths That Won't Go Away | N...</td>\n",
       "      <td>Survey: Insurance Myths That Won't Go Away ###...</td>\n",
       "      <td>1</td>\n",
       "      <td>en</td>\n",
       "      <td>56</td>\n",
       "      <td>9132</td>\n",
       "      <td>3.0</td>\n",
       "    </tr>\n",
       "    <tr>\n",
       "      <td>3652</td>\n",
       "      <td>165135</td>\n",
       "      <td>44</td>\n",
       "      <td>dailymail.co.uk/wires/ap/article-5969403/22-pe...</td>\n",
       "      <td>7/19/2018 6:28:47 AM -04:00</td>\n",
       "      <td>22 people injured in California military base ...</td>\n",
       "      <td>e-mail ### FORT HUNTER LIGGETT, Calif. (AP) - ...</td>\n",
       "      <td>1</td>\n",
       "      <td>en</td>\n",
       "      <td>73</td>\n",
       "      <td>956</td>\n",
       "      <td>3.0</td>\n",
       "    </tr>\n",
       "    <tr>\n",
       "      <td>3824</td>\n",
       "      <td>90721</td>\n",
       "      <td>6</td>\n",
       "      <td>yahoo.com/news/m/5aed6cdf-0e14-303c-9415-1d70f...</td>\n",
       "      <td>7/19/2018 5:44:03 AM -04:00</td>\n",
       "      <td>Elon Musk apologizes to British cave diver fol...</td>\n",
       "      <td>Elon Musk apologizes to British cave diver fol...</td>\n",
       "      <td>1</td>\n",
       "      <td>en</td>\n",
       "      <td>78</td>\n",
       "      <td>885</td>\n",
       "      <td>1.0</td>\n",
       "    </tr>\n",
       "    <tr>\n",
       "      <td>4287</td>\n",
       "      <td>164658</td>\n",
       "      <td>44</td>\n",
       "      <td>dailymail.co.uk/news/article-5970713/trump-ham...</td>\n",
       "      <td>7/19/2018 10:07:35 AM -04:00</td>\n",
       "      <td>Trump hammers Democrats pushing him to abolish...</td>\n",
       "      <td>Trump hammers Democrats pushing him to abolish...</td>\n",
       "      <td>1</td>\n",
       "      <td>en</td>\n",
       "      <td>70</td>\n",
       "      <td>637</td>\n",
       "      <td>3.0</td>\n",
       "    </tr>\n",
       "    <tr>\n",
       "      <td>4326</td>\n",
       "      <td>82576</td>\n",
       "      <td>93</td>\n",
       "      <td>nascar.nbcsports.com/2018/07/19/top-three-xfin...</td>\n",
       "      <td>7/19/2018 6:44:03 PM -04:00</td>\n",
       "      <td>Top three Xfinity drivers separated by three p...</td>\n",
       "      <td>Click to share on LinkedIn (Opens in new windo...</td>\n",
       "      <td>1</td>\n",
       "      <td>en</td>\n",
       "      <td>74</td>\n",
       "      <td>14823</td>\n",
       "      <td>2.0</td>\n",
       "    </tr>\n",
       "    <tr>\n",
       "      <td>4705</td>\n",
       "      <td>165182</td>\n",
       "      <td>44</td>\n",
       "      <td>dailymail.co.uk/wires/reuters/article-5969631/...</td>\n",
       "      <td>7/19/2018 6:28:47 AM -04:00</td>\n",
       "      <td>UK watchdog tells banks to prepare for hard</td>\n",
       "      <td>UK watchdog tells banks to prepare for hard Br...</td>\n",
       "      <td>1</td>\n",
       "      <td>en</td>\n",
       "      <td>43</td>\n",
       "      <td>1046</td>\n",
       "      <td>3.0</td>\n",
       "    </tr>\n",
       "    <tr>\n",
       "      <td>5426</td>\n",
       "      <td>165031</td>\n",
       "      <td>44</td>\n",
       "      <td>dailymail.co.uk/wires/ap/article-5968723/musli...</td>\n",
       "      <td>7/19/2018 6:28:47 AM -04:00</td>\n",
       "      <td>Muslim group decries Arizona congressman over ...</td>\n",
       "      <td>Thursday, Jul 19th 2018 5-Day Forecast ### Adv...</td>\n",
       "      <td>1</td>\n",
       "      <td>en</td>\n",
       "      <td>77</td>\n",
       "      <td>2119</td>\n",
       "      <td>3.0</td>\n",
       "    </tr>\n",
       "    <tr>\n",
       "      <td>5435</td>\n",
       "      <td>205579</td>\n",
       "      <td>165</td>\n",
       "      <td>startribune.com/avoid-a-running-rut-top-compet...</td>\n",
       "      <td>7/19/2018 5:36:47 PM -04:00</td>\n",
       "      <td>Avoid a running rut: Top Minnesota runners sha...</td>\n",
       "      <td>Avoid a running rut: Top Minnesota runners sha...</td>\n",
       "      <td>1</td>\n",
       "      <td>en</td>\n",
       "      <td>87</td>\n",
       "      <td>4469</td>\n",
       "      <td>2.0</td>\n",
       "    </tr>\n",
       "    <tr>\n",
       "      <td>5487</td>\n",
       "      <td>13815</td>\n",
       "      <td>33</td>\n",
       "      <td>washingtonpost.com/sports/tv-and-radio-listing...</td>\n",
       "      <td>7/20/2018 12:25:33 AM -04:00</td>\n",
       "      <td>20</td>\n",
       "      <td>TV and radio listings: July 20 ### MLB ### 2 p...</td>\n",
       "      <td>1</td>\n",
       "      <td>en</td>\n",
       "      <td>2</td>\n",
       "      <td>1801</td>\n",
       "      <td>2.0</td>\n",
       "    </tr>\n",
       "    <tr>\n",
       "      <td>5547</td>\n",
       "      <td>173052</td>\n",
       "      <td>164</td>\n",
       "      <td>dailycaller.com/2018/07/19/trump-voters-baby-c...</td>\n",
       "      <td>7/19/2018 10:07:09 PM -04:00</td>\n",
       "      <td>Trump Voters Give Birth To Baby In Chick-Fil-A...</td>\n",
       "      <td>Trump Voters Give Birth To Baby In Chick-Fil-A...</td>\n",
       "      <td>1</td>\n",
       "      <td>en</td>\n",
       "      <td>65</td>\n",
       "      <td>2046</td>\n",
       "      <td>3.0</td>\n",
       "    </tr>\n",
       "    <tr>\n",
       "      <td>6064</td>\n",
       "      <td>21087</td>\n",
       "      <td>34</td>\n",
       "      <td>bbc.co.uk/news/world-asia-44876108</td>\n",
       "      <td>7/19/2018 6:00:43 AM -04:00</td>\n",
       "      <td>Thai cave rescue: What we learned as boys tell...</td>\n",
       "      <td>Thai cave rescue: What we learned as boys tell...</td>\n",
       "      <td>1</td>\n",
       "      <td>en</td>\n",
       "      <td>52</td>\n",
       "      <td>6833</td>\n",
       "      <td>1.0</td>\n",
       "    </tr>\n",
       "    <tr>\n",
       "      <td>6410</td>\n",
       "      <td>91264</td>\n",
       "      <td>6</td>\n",
       "      <td>yahoo.com/news/m/676d4a84-9831-3775-aad7-2176d...</td>\n",
       "      <td>7/19/2018 5:24:14 AM -04:00</td>\n",
       "      <td>Thai boys recount cave rescue: Voices in dark,...</td>\n",
       "      <td>Thai boys recount cave rescue: Voices in dark,...</td>\n",
       "      <td>1</td>\n",
       "      <td>en</td>\n",
       "      <td>59</td>\n",
       "      <td>860</td>\n",
       "      <td>1.0</td>\n",
       "    </tr>\n",
       "    <tr>\n",
       "      <td>6770</td>\n",
       "      <td>154318</td>\n",
       "      <td>74</td>\n",
       "      <td>latimes.com/entertainment/la-et-entertainment-...</td>\n",
       "      <td>7/19/2018 1:02:27 PM -04:00</td>\n",
       "      <td>Bryan Cranston's #MeToo quip on 'Conan' hits s...</td>\n",
       "      <td>Bryan Cranston's #MeToo quip on 'Conan' hits s...</td>\n",
       "      <td>1</td>\n",
       "      <td>en</td>\n",
       "      <td>84</td>\n",
       "      <td>6195</td>\n",
       "      <td>3.0</td>\n",
       "    </tr>\n",
       "    <tr>\n",
       "      <td>6965</td>\n",
       "      <td>154288</td>\n",
       "      <td>74</td>\n",
       "      <td>latimes.com/travel/la-tr-tc-portugal-azores-is...</td>\n",
       "      <td>7/19/2018 9:34:03 AM -04:00</td>\n",
       "      <td>Island hop, snorkel and whale watch in Portuga...</td>\n",
       "      <td>Island hop, snorkel and whale watch in Portuga...</td>\n",
       "      <td>1</td>\n",
       "      <td>en</td>\n",
       "      <td>64</td>\n",
       "      <td>971</td>\n",
       "      <td>2.0</td>\n",
       "    </tr>\n",
       "    <tr>\n",
       "      <td>7014</td>\n",
       "      <td>57405</td>\n",
       "      <td>129</td>\n",
       "      <td>yardbarker.com/mlb/articles/christian_yelich_s...</td>\n",
       "      <td>7/19/2018 3:54:45 PM -04:00</td>\n",
       "      <td>Christian Yelich: Jose Fernandez's death set M...</td>\n",
       "      <td>Christian Yelich: Jose Fernandez's death set M...</td>\n",
       "      <td>1</td>\n",
       "      <td>en</td>\n",
       "      <td>57</td>\n",
       "      <td>2796</td>\n",
       "      <td>2.0</td>\n",
       "    </tr>\n",
       "    <tr>\n",
       "      <td>7221</td>\n",
       "      <td>90813</td>\n",
       "      <td>6</td>\n",
       "      <td>yahoo.com/news/m/f8e2e64c-84dc-3c39-96eb-d7039...</td>\n",
       "      <td>7/19/2018 5:31:05 AM -04:00</td>\n",
       "      <td>Russia 'Undermines Democracy,' Not 'Trusted': ...</td>\n",
       "      <td>Russia 'Undermines Democracy,' Not 'Trusted': ...</td>\n",
       "      <td>1</td>\n",
       "      <td>en</td>\n",
       "      <td>59</td>\n",
       "      <td>882</td>\n",
       "      <td>3.0</td>\n",
       "    </tr>\n",
       "    <tr>\n",
       "      <td>7911</td>\n",
       "      <td>85809</td>\n",
       "      <td>102</td>\n",
       "      <td>slate.com/articles/podcasts/if_then/2018/07/a_...</td>\n",
       "      <td>7/19/2018 5:50:10 AM -04:00</td>\n",
       "      <td>A top twitter exec on tackling trolls, Congres...</td>\n",
       "      <td>Photo illustration by Slate. Photos by Elisant...</td>\n",
       "      <td>1</td>\n",
       "      <td>en</td>\n",
       "      <td>138</td>\n",
       "      <td>1065</td>\n",
       "      <td>3.0</td>\n",
       "    </tr>\n",
       "    <tr>\n",
       "      <td>7976</td>\n",
       "      <td>92193</td>\n",
       "      <td>6</td>\n",
       "      <td>yahoo.com/news/m/dd1efd1a-248a-335e-ae71-c24c4...</td>\n",
       "      <td>7/19/2018 3:54:59 PM -04:00</td>\n",
       "      <td>approved announcing Mueller's latest Russia in...</td>\n",
       "      <td>President Trump approved announcing Mueller's ...</td>\n",
       "      <td>1</td>\n",
       "      <td>en</td>\n",
       "      <td>94</td>\n",
       "      <td>647</td>\n",
       "      <td>3.0</td>\n",
       "    </tr>\n",
       "    <tr>\n",
       "      <td>8300</td>\n",
       "      <td>92161</td>\n",
       "      <td>6</td>\n",
       "      <td>yahoo.com/news/south-korea-court-orders-compen...</td>\n",
       "      <td>7/19/2018 5:56:06 AM -04:00</td>\n",
       "      <td>court holds government accountable for 2014 fe...</td>\n",
       "      <td>South Korea court holds government accountable...</td>\n",
       "      <td>1</td>\n",
       "      <td>en</td>\n",
       "      <td>76</td>\n",
       "      <td>3861</td>\n",
       "      <td>1.0</td>\n",
       "    </tr>\n",
       "    <tr>\n",
       "      <td>8331</td>\n",
       "      <td>91596</td>\n",
       "      <td>6</td>\n",
       "      <td>yahoo.com/news/m/65a06565-0a4b-3950-8922-d2908...</td>\n",
       "      <td>7/19/2018 6:51:53 AM -04:00</td>\n",
       "      <td>Elon Musk Gives Half-Assed Apology to Cave Div...</td>\n",
       "      <td>Elon Musk Gives Half-Assed Apology to Cave Div...</td>\n",
       "      <td>1</td>\n",
       "      <td>en</td>\n",
       "      <td>70</td>\n",
       "      <td>872</td>\n",
       "      <td>1.0</td>\n",
       "    </tr>\n",
       "  </tbody>\n",
       "</table>\n",
       "</div>"
      ],
      "text/plain": [
       "       index pubId                                       canonicalUrl  \\\n",
       "238   165242    44  dailymail.co.uk/wires/ap/article-5969291/hawai...   \n",
       "914    84099   117  newsday.com/long-island/politics/spin-cycle/cu...   \n",
       "1631   91940     6  yahoo.com/news/m/3c9bfadd-8455-3f28-a7a1-d4fa2...   \n",
       "1812  200722   308  beforeitsnews.com/opinion-liberal/2018/07/weap...   \n",
       "1964  142993    76  chron.com/news/media/how-doordash-plans-to-use...   \n",
       "2062   20108   118  philly.com/philly/entertainment/movies/dark-mo...   \n",
       "2266  164691    44  dailymail.co.uk/tvshowbiz/article-5970199/chri...   \n",
       "2469   21084    34                     bbc.co.uk/news/health-41483322   \n",
       "2750  142869    76  chron.com/neighborhood/cyfair/sports/article/y...   \n",
       "3027   92011     6  yahoo.com/news/u-judge-orders-accused-russian-...   \n",
       "3525  204179    55  newsmax.com/finance/jasonhargraves/insurance-m...   \n",
       "3652  165135    44  dailymail.co.uk/wires/ap/article-5969403/22-pe...   \n",
       "3824   90721     6  yahoo.com/news/m/5aed6cdf-0e14-303c-9415-1d70f...   \n",
       "4287  164658    44  dailymail.co.uk/news/article-5970713/trump-ham...   \n",
       "4326   82576    93  nascar.nbcsports.com/2018/07/19/top-three-xfin...   \n",
       "4705  165182    44  dailymail.co.uk/wires/reuters/article-5969631/...   \n",
       "5426  165031    44  dailymail.co.uk/wires/ap/article-5968723/musli...   \n",
       "5435  205579   165  startribune.com/avoid-a-running-rut-top-compet...   \n",
       "5487   13815    33  washingtonpost.com/sports/tv-and-radio-listing...   \n",
       "5547  173052   164  dailycaller.com/2018/07/19/trump-voters-baby-c...   \n",
       "6064   21087    34                 bbc.co.uk/news/world-asia-44876108   \n",
       "6410   91264     6  yahoo.com/news/m/676d4a84-9831-3775-aad7-2176d...   \n",
       "6770  154318    74  latimes.com/entertainment/la-et-entertainment-...   \n",
       "6965  154288    74  latimes.com/travel/la-tr-tc-portugal-azores-is...   \n",
       "7014   57405   129  yardbarker.com/mlb/articles/christian_yelich_s...   \n",
       "7221   90813     6  yahoo.com/news/m/f8e2e64c-84dc-3c39-96eb-d7039...   \n",
       "7911   85809   102  slate.com/articles/podcasts/if_then/2018/07/a_...   \n",
       "7976   92193     6  yahoo.com/news/m/dd1efd1a-248a-335e-ae71-c24c4...   \n",
       "8300   92161     6  yahoo.com/news/south-korea-court-orders-compen...   \n",
       "8331   91596     6  yahoo.com/news/m/65a06565-0a4b-3950-8922-d2908...   \n",
       "\n",
       "                       firstScrape  \\\n",
       "238    7/19/2018 6:28:47 AM -04:00   \n",
       "914    7/19/2018 5:31:58 AM -04:00   \n",
       "1631   7/19/2018 5:35:38 AM -04:00   \n",
       "1812   7/19/2018 5:13:16 AM -04:00   \n",
       "1964   7/19/2018 6:09:53 AM -04:00   \n",
       "2062   7/19/2018 6:29:50 AM -04:00   \n",
       "2266   7/19/2018 8:27:14 AM -04:00   \n",
       "2469   7/19/2018 5:27:31 AM -04:00   \n",
       "2750   7/19/2018 7:59:38 PM -04:00   \n",
       "3027  7/19/2018 12:28:34 PM -04:00   \n",
       "3525  7/19/2018 12:28:48 PM -04:00   \n",
       "3652   7/19/2018 6:28:47 AM -04:00   \n",
       "3824   7/19/2018 5:44:03 AM -04:00   \n",
       "4287  7/19/2018 10:07:35 AM -04:00   \n",
       "4326   7/19/2018 6:44:03 PM -04:00   \n",
       "4705   7/19/2018 6:28:47 AM -04:00   \n",
       "5426   7/19/2018 6:28:47 AM -04:00   \n",
       "5435   7/19/2018 5:36:47 PM -04:00   \n",
       "5487  7/20/2018 12:25:33 AM -04:00   \n",
       "5547  7/19/2018 10:07:09 PM -04:00   \n",
       "6064   7/19/2018 6:00:43 AM -04:00   \n",
       "6410   7/19/2018 5:24:14 AM -04:00   \n",
       "6770   7/19/2018 1:02:27 PM -04:00   \n",
       "6965   7/19/2018 9:34:03 AM -04:00   \n",
       "7014   7/19/2018 3:54:45 PM -04:00   \n",
       "7221   7/19/2018 5:31:05 AM -04:00   \n",
       "7911   7/19/2018 5:50:10 AM -04:00   \n",
       "7976   7/19/2018 3:54:59 PM -04:00   \n",
       "8300   7/19/2018 5:56:06 AM -04:00   \n",
       "8331   7/19/2018 6:51:53 AM -04:00   \n",
       "\n",
       "                                                  title  \\\n",
       "238   Hawaii searches for safe spots for people to s...   \n",
       "914   Cuomo giving up donations linked to corruption...   \n",
       "1631          Russian 'agent offered sex for job in US'   \n",
       "1812                    Weaponizing the First Amendment   \n",
       "1964  How DoorDash Plans to Use Its New Round of Fun...   \n",
       "2062  'Dark Money' examines the dark side of campaig...   \n",
       "2266  films hilarious clip of Luna tucking into past...   \n",
       "2469  Check NHS cancer, A&E and operations targets i...   \n",
       "2750  Youth players maximize potential through north...   \n",
       "3027  U.S. judge orders accused Russian agent Butina...   \n",
       "3525  Survey: Insurance Myths That Won't Go Away | N...   \n",
       "3652  22 people injured in California military base ...   \n",
       "3824  Elon Musk apologizes to British cave diver fol...   \n",
       "4287  Trump hammers Democrats pushing him to abolish...   \n",
       "4326  Top three Xfinity drivers separated by three p...   \n",
       "4705        UK watchdog tells banks to prepare for hard   \n",
       "5426  Muslim group decries Arizona congressman over ...   \n",
       "5435  Avoid a running rut: Top Minnesota runners sha...   \n",
       "5487                                                 20   \n",
       "5547  Trump Voters Give Birth To Baby In Chick-Fil-A...   \n",
       "6064  Thai cave rescue: What we learned as boys tell...   \n",
       "6410  Thai boys recount cave rescue: Voices in dark,...   \n",
       "6770  Bryan Cranston's #MeToo quip on 'Conan' hits s...   \n",
       "6965  Island hop, snorkel and whale watch in Portuga...   \n",
       "7014  Christian Yelich: Jose Fernandez's death set M...   \n",
       "7221  Russia 'Undermines Democracy,' Not 'Trusted': ...   \n",
       "7911  A top twitter exec on tackling trolls, Congres...   \n",
       "7976  approved announcing Mueller's latest Russia in...   \n",
       "8300  court holds government accountable for 2014 fe...   \n",
       "8331  Elon Musk Gives Half-Assed Apology to Cave Div...   \n",
       "\n",
       "                                                   text lang_reliability  \\\n",
       "238   Thursday, Jul 19th 2018 5-Day Forecast ### Adv...                1   \n",
       "914   Get breaking news alerts from Newsday ### Turn...                1   \n",
       "1631  Russian 'agent offered sex for job in US' ### ...                1   \n",
       "1812  Weaponizing the First Amendment! ### Wednesday...                1   \n",
       "1964  How DoorDash Plans to Use Its New Round of Fun...                1   \n",
       "2062  'Dark Money' examines the dark side of campaig...                1   \n",
       "2266  comments ### She is well-known for her love of...                1   \n",
       "2469  Check NHS cancer, A&E and operations targets i...                1   \n",
       "2750  Youth players maximize potential through north...                1   \n",
       "3027  U.S. judge orders accused Russian agent Butina...                1   \n",
       "3525  Survey: Insurance Myths That Won't Go Away ###...                1   \n",
       "3652  e-mail ### FORT HUNTER LIGGETT, Calif. (AP) - ...                1   \n",
       "3824  Elon Musk apologizes to British cave diver fol...                1   \n",
       "4287  Trump hammers Democrats pushing him to abolish...                1   \n",
       "4326  Click to share on LinkedIn (Opens in new windo...                1   \n",
       "4705  UK watchdog tells banks to prepare for hard Br...                1   \n",
       "5426  Thursday, Jul 19th 2018 5-Day Forecast ### Adv...                1   \n",
       "5435  Avoid a running rut: Top Minnesota runners sha...                1   \n",
       "5487  TV and radio listings: July 20 ### MLB ### 2 p...                1   \n",
       "5547  Trump Voters Give Birth To Baby In Chick-Fil-A...                1   \n",
       "6064  Thai cave rescue: What we learned as boys tell...                1   \n",
       "6410  Thai boys recount cave rescue: Voices in dark,...                1   \n",
       "6770  Bryan Cranston's #MeToo quip on 'Conan' hits s...                1   \n",
       "6965  Island hop, snorkel and whale watch in Portuga...                1   \n",
       "7014  Christian Yelich: Jose Fernandez's death set M...                1   \n",
       "7221  Russia 'Undermines Democracy,' Not 'Trusted': ...                1   \n",
       "7911  Photo illustration by Slate. Photos by Elisant...                1   \n",
       "7976  President Trump approved announcing Mueller's ...                1   \n",
       "8300  South Korea court holds government accountable...                1   \n",
       "8331  Elon Musk Gives Half-Assed Apology to Cave Div...                1   \n",
       "\n",
       "     lang_iso  title_len  text_len  label  \n",
       "238        en         73     10661    2.0  \n",
       "914        en         63      2054    3.0  \n",
       "1631       en         41       821    3.0  \n",
       "1812       en         31      3261    3.0  \n",
       "1964       en         70       832    3.0  \n",
       "2062       en         65      3882    2.0  \n",
       "2266       en         67      3483    2.0  \n",
       "2469       en         68      4959    2.0  \n",
       "2750       en         65      8466    2.0  \n",
       "3027       en         53       540    3.0  \n",
       "3525       en         56      9132    3.0  \n",
       "3652       en         73       956    3.0  \n",
       "3824       en         78       885    1.0  \n",
       "4287       en         70       637    3.0  \n",
       "4326       en         74     14823    2.0  \n",
       "4705       en         43      1046    3.0  \n",
       "5426       en         77      2119    3.0  \n",
       "5435       en         87      4469    2.0  \n",
       "5487       en          2      1801    2.0  \n",
       "5547       en         65      2046    3.0  \n",
       "6064       en         52      6833    1.0  \n",
       "6410       en         59       860    1.0  \n",
       "6770       en         84      6195    3.0  \n",
       "6965       en         64       971    2.0  \n",
       "7014       en         57      2796    2.0  \n",
       "7221       en         59       882    3.0  \n",
       "7911       en        138      1065    3.0  \n",
       "7976       en         94       647    3.0  \n",
       "8300       en         76      3861    1.0  \n",
       "8331       en         70       872    1.0  "
      ]
     },
     "execution_count": 111,
     "metadata": {},
     "output_type": "execute_result"
    }
   ],
   "source": [
    "clean_df.merge(label_df, on='canonicalUrl', how='left').dropna()"
   ]
  },
  {
   "cell_type": "code",
   "execution_count": 43,
   "metadata": {
    "ExecuteTime": {
     "end_time": "2019-10-28T03:34:55.193877Z",
     "start_time": "2019-10-28T03:34:55.159968Z"
    }
   },
   "outputs": [
    {
     "data": {
      "text/plain": [
       "(8833, 10)"
      ]
     },
     "execution_count": 43,
     "metadata": {},
     "output_type": "execute_result"
    }
   ],
   "source": [
    "# shuffle df to distribute publication randomly and sample\n",
    "clean_df = clean_df.sample(frac=0.05)\n",
    "clean_df.shape"
   ]
  },
  {
   "cell_type": "code",
   "execution_count": 71,
   "metadata": {
    "ExecuteTime": {
     "end_time": "2019-10-28T03:36:30.469728Z",
     "start_time": "2019-10-28T03:36:30.454757Z"
    }
   },
   "outputs": [
    {
     "data": {
      "text/html": [
       "<div>\n",
       "<style scoped>\n",
       "    .dataframe tbody tr th:only-of-type {\n",
       "        vertical-align: middle;\n",
       "    }\n",
       "\n",
       "    .dataframe tbody tr th {\n",
       "        vertical-align: top;\n",
       "    }\n",
       "\n",
       "    .dataframe thead th {\n",
       "        text-align: right;\n",
       "    }\n",
       "</style>\n",
       "<table border=\"1\" class=\"dataframe\">\n",
       "  <thead>\n",
       "    <tr style=\"text-align: right;\">\n",
       "      <th></th>\n",
       "      <th>index</th>\n",
       "      <th>pubId</th>\n",
       "      <th>canonicalUrl</th>\n",
       "      <th>firstScrape</th>\n",
       "      <th>title</th>\n",
       "      <th>text</th>\n",
       "      <th>lang_reliability</th>\n",
       "      <th>lang_iso</th>\n",
       "      <th>title_len</th>\n",
       "      <th>text_len</th>\n",
       "    </tr>\n",
       "  </thead>\n",
       "  <tbody>\n",
       "    <tr>\n",
       "      <td>117952</td>\n",
       "      <td>119072</td>\n",
       "      <td>1494</td>\n",
       "      <td>jamestownsun.com/opinion/columns/4474446-comme...</td>\n",
       "      <td>7/20/2018 6:32:31 AM -04:00</td>\n",
       "      <td>Heidi Heitkamp’s political allies hire actors ...</td>\n",
       "      <td>Commentary: Heidi Heitkamp’s political allies ...</td>\n",
       "      <td>1</td>\n",
       "      <td>en</td>\n",
       "      <td>123</td>\n",
       "      <td>884</td>\n",
       "    </tr>\n",
       "    <tr>\n",
       "      <td>159412</td>\n",
       "      <td>161012</td>\n",
       "      <td>1203</td>\n",
       "      <td>azdailysun.com/lifestyles/health-med-fit/calif...</td>\n",
       "      <td>7/19/2018 10:23:27 PM -04:00</td>\n",
       "      <td>California’s ACA Rates To Rise 8.7% Next Year</td>\n",
       "      <td>Subscribe to discover fast, unlimited access. ...</td>\n",
       "      <td>1</td>\n",
       "      <td>en</td>\n",
       "      <td>45</td>\n",
       "      <td>7260</td>\n",
       "    </tr>\n",
       "    <tr>\n",
       "      <td>162196</td>\n",
       "      <td>163812</td>\n",
       "      <td>494</td>\n",
       "      <td>delawareonline.com/story/tech/nation-now/2018/...</td>\n",
       "      <td>7/19/2018 5:47:05 AM -04:00</td>\n",
       "      <td>NASA wants more humans to walk on the moon — a...</td>\n",
       "      <td>Viewers can get as close as 5 miles from the l...</td>\n",
       "      <td>1</td>\n",
       "      <td>en</td>\n",
       "      <td>59</td>\n",
       "      <td>28411</td>\n",
       "    </tr>\n",
       "    <tr>\n",
       "      <td>113552</td>\n",
       "      <td>114642</td>\n",
       "      <td>1997</td>\n",
       "      <td>wifr.com/content/news/dolphins-anthem-punishme...</td>\n",
       "      <td>7/19/2018 11:33:00 PM -04:00</td>\n",
       "      <td>Dolphins anthem punishment includes suspensions</td>\n",
       "      <td>Article ### Dolphins anthem punishment include...</td>\n",
       "      <td>1</td>\n",
       "      <td>en</td>\n",
       "      <td>47</td>\n",
       "      <td>1508</td>\n",
       "    </tr>\n",
       "    <tr>\n",
       "      <td>1913</td>\n",
       "      <td>1920</td>\n",
       "      <td>886</td>\n",
       "      <td>wect.com/story/38683590/steel-company-to-creat...</td>\n",
       "      <td>7/19/2018 5:42:34 PM -04:00</td>\n",
       "      <td>Steel company to create 180 jobs</td>\n",
       "      <td>Steel company to create 180 jobs in South Caro...</td>\n",
       "      <td>1</td>\n",
       "      <td>en</td>\n",
       "      <td>32</td>\n",
       "      <td>1049</td>\n",
       "    </tr>\n",
       "  </tbody>\n",
       "</table>\n",
       "</div>"
      ],
      "text/plain": [
       "         index pubId                                       canonicalUrl  \\\n",
       "117952  119072  1494  jamestownsun.com/opinion/columns/4474446-comme...   \n",
       "159412  161012  1203  azdailysun.com/lifestyles/health-med-fit/calif...   \n",
       "162196  163812   494  delawareonline.com/story/tech/nation-now/2018/...   \n",
       "113552  114642  1997  wifr.com/content/news/dolphins-anthem-punishme...   \n",
       "1913      1920   886  wect.com/story/38683590/steel-company-to-creat...   \n",
       "\n",
       "                         firstScrape  \\\n",
       "117952   7/20/2018 6:32:31 AM -04:00   \n",
       "159412  7/19/2018 10:23:27 PM -04:00   \n",
       "162196   7/19/2018 5:47:05 AM -04:00   \n",
       "113552  7/19/2018 11:33:00 PM -04:00   \n",
       "1913     7/19/2018 5:42:34 PM -04:00   \n",
       "\n",
       "                                                    title  \\\n",
       "117952  Heidi Heitkamp’s political allies hire actors ...   \n",
       "159412      California’s ACA Rates To Rise 8.7% Next Year   \n",
       "162196  NASA wants more humans to walk on the moon — a...   \n",
       "113552    Dolphins anthem punishment includes suspensions   \n",
       "1913                     Steel company to create 180 jobs   \n",
       "\n",
       "                                                     text lang_reliability  \\\n",
       "117952  Commentary: Heidi Heitkamp’s political allies ...                1   \n",
       "159412  Subscribe to discover fast, unlimited access. ...                1   \n",
       "162196  Viewers can get as close as 5 miles from the l...                1   \n",
       "113552  Article ### Dolphins anthem punishment include...                1   \n",
       "1913    Steel company to create 180 jobs in South Caro...                1   \n",
       "\n",
       "       lang_iso  title_len  text_len  \n",
       "117952       en        123       884  \n",
       "159412       en         45      7260  \n",
       "162196       en         59     28411  \n",
       "113552       en         47      1508  \n",
       "1913         en         32      1049  "
      ]
     },
     "execution_count": 71,
     "metadata": {},
     "output_type": "execute_result"
    }
   ],
   "source": [
    "clean_df.head()"
   ]
  },
  {
   "cell_type": "code",
   "execution_count": 44,
   "metadata": {
    "ExecuteTime": {
     "end_time": "2019-10-28T03:34:57.579860Z",
     "start_time": "2019-10-28T03:34:57.548901Z"
    }
   },
   "outputs": [],
   "source": [
    "sample_emb_df = emb_df.loc[clean_df.index]"
   ]
  },
  {
   "cell_type": "code",
   "execution_count": 45,
   "metadata": {
    "ExecuteTime": {
     "end_time": "2019-10-28T03:35:09.393327Z",
     "start_time": "2019-10-28T03:34:57.781345Z"
    }
   },
   "outputs": [],
   "source": [
    "tree = BallTree(sample_emb_df)\n",
    "neighbors = tree.query_radius(sample_emb_df, 0.2)\n",
    "neighbors_count = [len(n) for n in neighbors]"
   ]
  },
  {
   "cell_type": "code",
   "execution_count": 46,
   "metadata": {
    "ExecuteTime": {
     "end_time": "2019-10-28T03:35:09.403543Z",
     "start_time": "2019-10-28T03:35:09.396012Z"
    }
   },
   "outputs": [
    {
     "data": {
      "text/plain": [
       "1.818295030001132"
      ]
     },
     "execution_count": 46,
     "metadata": {},
     "output_type": "execute_result"
    }
   ],
   "source": [
    "np.mean(neighbors_count)"
   ]
  },
  {
   "cell_type": "code",
   "execution_count": 47,
   "metadata": {
    "ExecuteTime": {
     "end_time": "2019-10-28T03:35:09.596029Z",
     "start_time": "2019-10-28T03:35:09.408513Z"
    }
   },
   "outputs": [
    {
     "data": {
      "image/png": "[encoded data removed]",
      "text/plain": [
       "<Figure size 432x288 with 1 Axes>"
      ]
     },
     "metadata": {
      "needs_background": "light"
     },
     "output_type": "display_data"
    }
   ],
   "source": [
    "plt.hist(neighbors_count);"
   ]
  },
  {
   "cell_type": "code",
   "execution_count": 48,
   "metadata": {
    "ExecuteTime": {
     "end_time": "2019-10-28T03:35:09.605978Z",
     "start_time": "2019-10-28T03:35:09.598986Z"
    }
   },
   "outputs": [
    {
     "data": {
      "text/plain": [
       "\"Print ### Share: ### The 29-year-old Russian woman accused of covertly working as a foreign agent while living in the United States allegedly offered to have sex with an unnamed individual in return for a job in the United States, prosecutors said Wednesday. ### And that’s not all. According to new court filings,\\xa0Maria Butina allegedly “gained access” to “an extensive network of U.S. persons in positions to influence political\\xa0activities in the United States” by living with and having a personal relationship with another individual. ### Prosecutors revealed the new allegations against Butina in documents filed Wednesday, as Butina\\xa0pleaded not guilty and a judge ordered her held without bond in court. ### Prosecutors had asked the judge in the case to keep Butina in jail before her trial, arguing she’s a flight risk. ### “Butina is a Russian citizen with no meaningful ties to the United States; she has every reason to flee this prosecution,” U.S. Attorney Jessie K. Liu wrote in the court document\\xa0– READ MORE ### Far left Democrat Adam Smith went on Tucker Carlson Tonight to discuss President Trump’s meeting with Russian President Vladimir Putin. ### Adam Smith said the Russian crime was that they hacked into the DNC server and implemented a disinformation campaign.– READ MORE ### Since nobody in the mainstream media will do the work, Rep. Steve Scalise — the congressman who miraculously survived an attack on his life last year — reminded the American people of exactly what took place between Russia and the United States during the Obama years. ### “President @realDonaldTrump went into this meeting with Putin from a position of American strength to combat Russian aggression, but it’s important to remember how Russia was allowed to get to this point,” Scalise tweeted Monday. ### President @realDonaldTrump went into this meeting with Putin from a position of American strength to combat Russian aggression, but it's important to remember how Russia was allowed to get to this point. https://t.co/Fni4HSAAZn\""
      ]
     },
     "execution_count": 48,
     "metadata": {},
     "output_type": "execute_result"
    }
   ],
   "source": [
    "pop_node = article_df.iloc[np.argmax(neighbors_count)]\n",
    "pop_node.text"
   ]
  },
  {
   "cell_type": "code",
   "execution_count": 49,
   "metadata": {
    "ExecuteTime": {
     "end_time": "2019-10-28T03:35:09.614944Z",
     "start_time": "2019-10-28T03:35:09.607962Z"
    }
   },
   "outputs": [],
   "source": [
    "def create_graph(neighbors):\n",
    "    G = nx.Graph()\n",
    "    G.add_nodes_from(list(range(len(neighbors))))\n",
    "\n",
    "    for node in range(len(neighbors)):\n",
    "        neighbor = neighbors[node]\n",
    "        for n in neighbor:\n",
    "            G.add_edge(node, n)\n",
    "    return G"
   ]
  },
  {
   "cell_type": "code",
   "execution_count": 50,
   "metadata": {
    "ExecuteTime": {
     "end_time": "2019-10-28T03:35:09.906769Z",
     "start_time": "2019-10-28T03:35:09.616937Z"
    }
   },
   "outputs": [],
   "source": [
    "G = create_graph(neighbors)"
   ]
  },
  {
   "cell_type": "code",
   "execution_count": 51,
   "metadata": {
    "ExecuteTime": {
     "end_time": "2019-10-28T03:35:22.104844Z",
     "start_time": "2019-10-28T03:35:09.908798Z"
    }
   },
   "outputs": [
    {
     "data": {
      "image/png": "[encoded data removed]",
      "text/plain": [
       "<Figure size 432x288 with 1 Axes>"
      ]
     },
     "metadata": {
      "needs_background": "light"
     },
     "output_type": "display_data"
    }
   ],
   "source": [
    "partitions = []\n",
    "resolutions = [1] #, .99, .999, .9995, .9999]\n",
    "for resolution in resolutions:\n",
    "    partition = community.best_partition(G, resolution=resolution)\n",
    "    partitions.append(partition)\n",
    "    num_cluster = max([v for k,v in partition.items()]) + 1\n",
    "    clusters = defaultdict(list)\n",
    "    for k, v in partition.items():\n",
    "        clusters[v].append(k)\n",
    "\n",
    "    cluster_sizes = []\n",
    "    for i, cluster in clusters.items():\n",
    "        cluster_sizes.append(len(cluster))\n",
    "    plt.bar(list(range(len(cluster_sizes))), cluster_sizes)\n",
    "    plt.title(f'Resolution = {resolution}, Num. Cluster = {num_cluster}')\n",
    "    plt.show()"
   ]
  },
  {
   "cell_type": "code",
   "execution_count": 52,
   "metadata": {
    "ExecuteTime": {
     "end_time": "2019-10-28T03:35:22.115815Z",
     "start_time": "2019-10-28T03:35:22.108833Z"
    }
   },
   "outputs": [
    {
     "data": {
      "text/plain": [
       "247"
      ]
     },
     "execution_count": 52,
     "metadata": {},
     "output_type": "execute_result"
    }
   ],
   "source": [
    "np.argmax(cluster_sizes)"
   ]
  },
  {
   "cell_type": "code",
   "execution_count": 53,
   "metadata": {
    "ExecuteTime": {
     "end_time": "2019-10-28T03:35:22.130776Z",
     "start_time": "2019-10-28T03:35:22.119806Z"
    }
   },
   "outputs": [
    {
     "data": {
      "text/plain": [
       "36"
      ]
     },
     "execution_count": 53,
     "metadata": {},
     "output_type": "execute_result"
    }
   ],
   "source": [
    "np.max(cluster_sizes)"
   ]
  },
  {
   "cell_type": "code",
   "execution_count": 54,
   "metadata": {
    "ExecuteTime": {
     "end_time": "2019-10-28T03:35:22.146769Z",
     "start_time": "2019-10-28T03:35:22.133766Z"
    }
   },
   "outputs": [
    {
     "data": {
      "text/plain": [
       "1.0"
      ]
     },
     "execution_count": 54,
     "metadata": {},
     "output_type": "execute_result"
    }
   ],
   "source": [
    "np.median(cluster_sizes)"
   ]
  },
  {
   "cell_type": "code",
   "execution_count": 55,
   "metadata": {
    "ExecuteTime": {
     "end_time": "2019-10-28T03:35:22.160696Z",
     "start_time": "2019-10-28T03:35:22.148727Z"
    }
   },
   "outputs": [],
   "source": [
    "def plot_cluster_sizes(cluster):\n",
    "    cluster_sizes = []\n",
    "    for i, c in cluster.items():\n",
    "        cluster_sizes.append(len(c))\n",
    "    plt.title(f'Num cluster = {len(cluster.keys())}')\n",
    "    plt.hist(cluster_sizes)\n",
    "    plt.show()\n",
    "    \n",
    "def prune_cluster(cluster: dict, threshold) -> dict:\n",
    "    pc = {}\n",
    "    for key, value in clusters.items():\n",
    "        if len(value) > threshold:\n",
    "            pc[key] = value\n",
    "    return pc"
   ]
  },
  {
   "cell_type": "code",
   "execution_count": 56,
   "metadata": {
    "ExecuteTime": {
     "end_time": "2019-10-28T03:35:22.172667Z",
     "start_time": "2019-10-28T03:35:22.165681Z"
    }
   },
   "outputs": [],
   "source": [
    "pc = prune_cluster(cluster, 10)"
   ]
  },
  {
   "cell_type": "code",
   "execution_count": 57,
   "metadata": {
    "ExecuteTime": {
     "end_time": "2019-10-28T03:35:22.194604Z",
     "start_time": "2019-10-28T03:35:22.176652Z"
    }
   },
   "outputs": [
    {
     "data": {
      "text/plain": [
       "12"
      ]
     },
     "execution_count": 57,
     "metadata": {},
     "output_type": "execute_result"
    }
   ],
   "source": [
    "article_cluster =list(map(lambda d: clean_df.iloc[d[1]], pc.items()))\n",
    "len(article_cluster)"
   ]
  },
  {
   "cell_type": "code",
   "execution_count": 58,
   "metadata": {
    "ExecuteTime": {
     "end_time": "2019-10-28T03:35:22.204577Z",
     "start_time": "2019-10-28T03:35:22.197625Z"
    }
   },
   "outputs": [
    {
     "data": {
      "text/plain": [
       "17"
      ]
     },
     "execution_count": 58,
     "metadata": {},
     "output_type": "execute_result"
    }
   ],
   "source": [
    "len(article_cluster[0].title.tolist())"
   ]
  },
  {
   "cell_type": "code",
   "execution_count": 61,
   "metadata": {
    "ExecuteTime": {
     "end_time": "2019-10-28T03:35:35.158143Z",
     "start_time": "2019-10-28T03:35:35.151162Z"
    }
   },
   "outputs": [
    {
     "data": {
      "text/plain": [
       "dict_keys([87, 247, 390, 451, 491, 568, 584, 799, 849, 927, 1833, 2405])"
      ]
     },
     "execution_count": 61,
     "metadata": {},
     "output_type": "execute_result"
    }
   ],
   "source": [
    "pc.keys()"
   ]
  },
  {
   "cell_type": "code",
   "execution_count": 112,
   "metadata": {
    "ExecuteTime": {
     "end_time": "2019-10-28T03:45:24.421530Z",
     "start_time": "2019-10-28T03:45:24.413549Z"
    },
    "scrolled": false
   },
   "outputs": [
    {
     "data": {
      "text/plain": [
       "[\"Iconic 'Brady Bunch' House Hits Market For First Time In 50 Years | Patch\",\n",
       " \"Iconic 'Brady Bunch' House Hits Market For First Time In 50 Years | Patch\",\n",
       " \"Iconic 'Brady Bunch' House Hits Market For First Time In 50 Years | Patch\",\n",
       " \"Iconic 'Brady Bunch' House Hits Market For First Time In 50 Years | Patch\",\n",
       " \"Iconic 'Brady Bunch' House Hits Market For First Time In 50 Years | Patch\",\n",
       " \"Iconic 'Brady Bunch' House Hits Market For First Time In 50 Years | Patch\",\n",
       " \"Iconic 'Brady Bunch' House Hits Market For First Time In 50 Years | Patch\",\n",
       " \"Iconic 'Brady Bunch' House Hits Market For First Time In 50 Years | Patch\",\n",
       " \"Iconic 'Brady Bunch' House Hits Market For First Time In 50 Years | Patch\",\n",
       " \"Iconic 'Brady Bunch' House Hits Market For First Time In 50 Years | Patch\",\n",
       " \"Iconic 'Brady Bunch' House Hits Market For First Time In 50 Years | Patch\",\n",
       " \"Iconic 'Brady Bunch' House Hits Market For First Time In 50 Years | Patch\",\n",
       " \"Iconic 'Brady Bunch' House Hits Market For First Time In 50 Years | Patch\",\n",
       " \"Iconic 'Brady Bunch' House Hits Market For First Time In 50 Years | Patch\",\n",
       " \"Iconic 'Brady Bunch' House Hits Market For First Time In 50 Years | Patch\",\n",
       " \"Iconic 'Brady Bunch' House Hits Market For First Time In 50 Years | Patch\",\n",
       " \"Iconic 'Brady Bunch' House Hits Market For First Time In 50 Years | Patch\"]"
      ]
     },
     "execution_count": 112,
     "metadata": {},
     "output_type": "execute_result"
    }
   ],
   "source": [
    "n = len(pc.keys())\n",
    "sample_cluster = np.random.ran\n",
    "article_cluster[0].title.tolist()"
   ]
  },
  {
   "cell_type": "code",
   "execution_count": 63,
   "metadata": {
    "ExecuteTime": {
     "end_time": "2019-10-28T03:35:42.711635Z",
     "start_time": "2019-10-28T03:35:42.703656Z"
    }
   },
   "outputs": [
    {
     "data": {
      "text/plain": [
       "[\"real estate Shared from the Studio City, CA Patch ### Iconic 'Brady Bunch' House Hits Market For Fir\",\n",
       " \"real estate Shared from the Studio City, CA Patch ### Iconic 'Brady Bunch' House Hits Market For Fir\",\n",
       " \"real estate Shared from the Studio City, CA Patch ### Iconic 'Brady Bunch' House Hits Market For Fir\",\n",
       " \"real estate Shared from the Studio City, CA Patch ### Iconic 'Brady Bunch' House Hits Market For Fir\",\n",
       " \"real estate Shared from the Studio City, CA Patch ### Iconic 'Brady Bunch' House Hits Market For Fir\",\n",
       " \"real estate Shared from the Studio City, CA Patch ### Iconic 'Brady Bunch' House Hits Market For Fir\",\n",
       " \"real estate Shared from the Studio City, CA Patch ### Iconic 'Brady Bunch' House Hits Market For Fir\",\n",
       " \"real estate Shared from the Studio City, CA Patch ### Iconic 'Brady Bunch' House Hits Market For Fir\",\n",
       " \"real estate Shared from the Studio City, CA Patch ### Iconic 'Brady Bunch' House Hits Market For Fir\",\n",
       " \"real estate Shared from the Studio City, CA Patch ### Iconic 'Brady Bunch' House Hits Market For Fir\",\n",
       " \"real estate Shared from the Studio City, CA Patch ### Iconic 'Brady Bunch' House Hits Market For Fir\",\n",
       " \"real estate Shared from the Studio City, CA Patch ### Iconic 'Brady Bunch' House Hits Market For Fir\",\n",
       " \"real estate Shared from the Studio City, CA Patch ### Iconic 'Brady Bunch' House Hits Market For Fir\",\n",
       " \"real estate Shared from the Studio City, CA Patch ### Iconic 'Brady Bunch' House Hits Market For Fir\",\n",
       " \"real estate Shared from the Studio City, CA Patch ### Iconic 'Brady Bunch' House Hits Market For Fir\",\n",
       " \"real estate Shared from the Studio City, CA Patch ### Iconic 'Brady Bunch' House Hits Market For Fir\",\n",
       " \"real estate Shared from the Studio City, CA Patch ### Iconic 'Brady Bunch' House Hits Market For Fir\"]"
      ]
     },
     "execution_count": 63,
     "metadata": {},
     "output_type": "execute_result"
    }
   ],
   "source": [
    "list(map(lambda x: x[:100], article_cluster[0].text.tolist()))"
   ]
  },
  {
   "cell_type": "code",
   "execution_count": 76,
   "metadata": {
    "ExecuteTime": {
     "end_time": "2019-10-28T03:38:10.734424Z",
     "start_time": "2019-10-28T03:38:10.723956Z"
    }
   },
   "outputs": [],
   "source": [
    "label1 = pd.read_csv('../data/raw/labels/cave_rescue/population.txt', header=None)\n",
    "label1.columns = ['canonicalUrl']\n",
    "label1['label'] = 1"
   ]
  },
  {
   "cell_type": "code",
   "execution_count": 78,
   "metadata": {
    "ExecuteTime": {
     "end_time": "2019-10-28T03:38:13.061455Z",
     "start_time": "2019-10-28T03:38:13.048498Z"
    }
   },
   "outputs": [
    {
     "data": {
      "text/html": [
       "<div>\n",
       "<style scoped>\n",
       "    .dataframe tbody tr th:only-of-type {\n",
       "        vertical-align: middle;\n",
       "    }\n",
       "\n",
       "    .dataframe tbody tr th {\n",
       "        vertical-align: top;\n",
       "    }\n",
       "\n",
       "    .dataframe thead th {\n",
       "        text-align: right;\n",
       "    }\n",
       "</style>\n",
       "<table border=\"1\" class=\"dataframe\">\n",
       "  <thead>\n",
       "    <tr style=\"text-align: right;\">\n",
       "      <th></th>\n",
       "      <th>canonicalUrl</th>\n",
       "      <th>label</th>\n",
       "    </tr>\n",
       "  </thead>\n",
       "  <tbody>\n",
       "    <tr>\n",
       "      <td>0</td>\n",
       "      <td>denverpost.com/2018/07/20/greeley-police-lip-s...</td>\n",
       "      <td>1</td>\n",
       "    </tr>\n",
       "    <tr>\n",
       "      <td>1</td>\n",
       "      <td>bbc.com/news/av/world-asia-44875089/thai-cave-...</td>\n",
       "      <td>1</td>\n",
       "    </tr>\n",
       "    <tr>\n",
       "      <td>2</td>\n",
       "      <td>news.google.com/stories/caaqzggkimbdqkltuwpvsm...</td>\n",
       "      <td>1</td>\n",
       "    </tr>\n",
       "    <tr>\n",
       "      <td>3</td>\n",
       "      <td>chron.com/news/crime/article/young-nubians-rev...</td>\n",
       "      <td>1</td>\n",
       "    </tr>\n",
       "    <tr>\n",
       "      <td>4</td>\n",
       "      <td>cnbc.com/2018/07/20/at-least-13-die-when-duck-...</td>\n",
       "      <td>1</td>\n",
       "    </tr>\n",
       "    <tr>\n",
       "      <td>...</td>\n",
       "      <td>...</td>\n",
       "      <td>...</td>\n",
       "    </tr>\n",
       "    <tr>\n",
       "      <td>706</td>\n",
       "      <td>bbc.com/news/uk-scotland-44860771</td>\n",
       "      <td>1</td>\n",
       "    </tr>\n",
       "    <tr>\n",
       "      <td>707</td>\n",
       "      <td>yahoo.com/news/m/b6cf627b-7fb2-32c9-bfd1-8e852...</td>\n",
       "      <td>1</td>\n",
       "    </tr>\n",
       "    <tr>\n",
       "      <td>708</td>\n",
       "      <td>news.google.com/publications/caaqbwgkmpkygqswj...</td>\n",
       "      <td>1</td>\n",
       "    </tr>\n",
       "    <tr>\n",
       "      <td>709</td>\n",
       "      <td>politico.com/newsletters/morning-tech/2018/07/...</td>\n",
       "      <td>1</td>\n",
       "    </tr>\n",
       "    <tr>\n",
       "      <td>710</td>\n",
       "      <td>nbcnews.com/news/world/elon-musk-apologizes-bl...</td>\n",
       "      <td>1</td>\n",
       "    </tr>\n",
       "  </tbody>\n",
       "</table>\n",
       "<p>711 rows × 2 columns</p>\n",
       "</div>"
      ],
      "text/plain": [
       "                                          canonicalUrl  label\n",
       "0    denverpost.com/2018/07/20/greeley-police-lip-s...      1\n",
       "1    bbc.com/news/av/world-asia-44875089/thai-cave-...      1\n",
       "2    news.google.com/stories/caaqzggkimbdqkltuwpvsm...      1\n",
       "3    chron.com/news/crime/article/young-nubians-rev...      1\n",
       "4    cnbc.com/2018/07/20/at-least-13-die-when-duck-...      1\n",
       "..                                                 ...    ...\n",
       "706                  bbc.com/news/uk-scotland-44860771      1\n",
       "707  yahoo.com/news/m/b6cf627b-7fb2-32c9-bfd1-8e852...      1\n",
       "708  news.google.com/publications/caaqbwgkmpkygqswj...      1\n",
       "709  politico.com/newsletters/morning-tech/2018/07/...      1\n",
       "710  nbcnews.com/news/world/elon-musk-apologizes-bl...      1\n",
       "\n",
       "[711 rows x 2 columns]"
      ]
     },
     "execution_count": 78,
     "metadata": {},
     "output_type": "execute_result"
    }
   ],
   "source": [
    "label1"
   ]
  },
  {
   "cell_type": "code",
   "execution_count": 66,
   "metadata": {
    "ExecuteTime": {
     "end_time": "2019-10-28T03:35:58.660732Z",
     "start_time": "2019-10-28T03:35:58.653751Z"
    }
   },
   "outputs": [],
   "source": [
    "assign = []\n",
    "for key, value in pc.items():\n",
    "    for idx in value:\n",
    "        assign.append((key, idx))\n",
    "\n",
    "assign_df = pd.DataFrame(assign)\n",
    "assign_df.columns = ['cluster', 'index']"
   ]
  },
  {
   "cell_type": "code",
   "execution_count": 67,
   "metadata": {
    "ExecuteTime": {
     "end_time": "2019-10-28T03:36:00.910783Z",
     "start_time": "2019-10-28T03:36:00.895791Z"
    }
   },
   "outputs": [],
   "source": [
    "assign_df = assign_df.set_index('index')"
   ]
  },
  {
   "cell_type": "code",
   "execution_count": 68,
   "metadata": {
    "ExecuteTime": {
     "end_time": "2019-10-28T03:36:03.486028Z",
     "start_time": "2019-10-28T03:36:03.475022Z"
    }
   },
   "outputs": [
    {
     "data": {
      "text/html": [
       "<div>\n",
       "<style scoped>\n",
       "    .dataframe tbody tr th:only-of-type {\n",
       "        vertical-align: middle;\n",
       "    }\n",
       "\n",
       "    .dataframe tbody tr th {\n",
       "        vertical-align: top;\n",
       "    }\n",
       "\n",
       "    .dataframe thead th {\n",
       "        text-align: right;\n",
       "    }\n",
       "</style>\n",
       "<table border=\"1\" class=\"dataframe\">\n",
       "  <thead>\n",
       "    <tr style=\"text-align: right;\">\n",
       "      <th></th>\n",
       "      <th>cluster</th>\n",
       "    </tr>\n",
       "    <tr>\n",
       "      <th>index</th>\n",
       "      <th></th>\n",
       "    </tr>\n",
       "  </thead>\n",
       "  <tbody>\n",
       "    <tr>\n",
       "      <td>87</td>\n",
       "      <td>87</td>\n",
       "    </tr>\n",
       "    <tr>\n",
       "      <td>988</td>\n",
       "      <td>87</td>\n",
       "    </tr>\n",
       "    <tr>\n",
       "      <td>1613</td>\n",
       "      <td>87</td>\n",
       "    </tr>\n",
       "    <tr>\n",
       "      <td>2059</td>\n",
       "      <td>87</td>\n",
       "    </tr>\n",
       "    <tr>\n",
       "      <td>2812</td>\n",
       "      <td>87</td>\n",
       "    </tr>\n",
       "    <tr>\n",
       "      <td>...</td>\n",
       "      <td>...</td>\n",
       "    </tr>\n",
       "    <tr>\n",
       "      <td>4937</td>\n",
       "      <td>2405</td>\n",
       "    </tr>\n",
       "    <tr>\n",
       "      <td>5803</td>\n",
       "      <td>2405</td>\n",
       "    </tr>\n",
       "    <tr>\n",
       "      <td>7093</td>\n",
       "      <td>2405</td>\n",
       "    </tr>\n",
       "    <tr>\n",
       "      <td>7733</td>\n",
       "      <td>2405</td>\n",
       "    </tr>\n",
       "    <tr>\n",
       "      <td>8481</td>\n",
       "      <td>2405</td>\n",
       "    </tr>\n",
       "  </tbody>\n",
       "</table>\n",
       "<p>214 rows × 1 columns</p>\n",
       "</div>"
      ],
      "text/plain": [
       "       cluster\n",
       "index         \n",
       "87          87\n",
       "988         87\n",
       "1613        87\n",
       "2059        87\n",
       "2812        87\n",
       "...        ...\n",
       "4937      2405\n",
       "5803      2405\n",
       "7093      2405\n",
       "7733      2405\n",
       "8481      2405\n",
       "\n",
       "[214 rows x 1 columns]"
      ]
     },
     "execution_count": 68,
     "metadata": {},
     "output_type": "execute_result"
    }
   ],
   "source": [
    "assign_df"
   ]
  },
  {
   "cell_type": "code",
   "execution_count": 91,
   "metadata": {
    "ExecuteTime": {
     "end_time": "2019-10-28T03:39:59.096892Z",
     "start_time": "2019-10-28T03:39:59.074891Z"
    }
   },
   "outputs": [],
   "source": [
    "with_assign = clean_df.join(assign_df).dropna()"
   ]
  },
  {
   "cell_type": "code",
   "execution_count": 96,
   "metadata": {
    "ExecuteTime": {
     "end_time": "2019-10-28T03:40:51.432041Z",
     "start_time": "2019-10-28T03:40:51.415092Z"
    }
   },
   "outputs": [
    {
     "data": {
      "text/html": [
       "<div>\n",
       "<style scoped>\n",
       "    .dataframe tbody tr th:only-of-type {\n",
       "        vertical-align: middle;\n",
       "    }\n",
       "\n",
       "    .dataframe tbody tr th {\n",
       "        vertical-align: top;\n",
       "    }\n",
       "\n",
       "    .dataframe thead th {\n",
       "        text-align: right;\n",
       "    }\n",
       "</style>\n",
       "<table border=\"1\" class=\"dataframe\">\n",
       "  <thead>\n",
       "    <tr style=\"text-align: right;\">\n",
       "      <th></th>\n",
       "      <th>index</th>\n",
       "      <th>pubId</th>\n",
       "      <th>canonicalUrl</th>\n",
       "      <th>firstScrape</th>\n",
       "      <th>title</th>\n",
       "      <th>text</th>\n",
       "      <th>lang_reliability</th>\n",
       "      <th>lang_iso</th>\n",
       "      <th>title_len</th>\n",
       "      <th>text_len</th>\n",
       "      <th>cluster</th>\n",
       "      <th>label</th>\n",
       "    </tr>\n",
       "  </thead>\n",
       "  <tbody>\n",
       "  </tbody>\n",
       "</table>\n",
       "</div>"
      ],
      "text/plain": [
       "Empty DataFrame\n",
       "Columns: [index, pubId, canonicalUrl, firstScrape, title, text, lang_reliability, lang_iso, title_len, text_len, cluster, label]\n",
       "Index: []"
      ]
     },
     "execution_count": 96,
     "metadata": {},
     "output_type": "execute_result"
    }
   ],
   "source": [
    "with_assign.merge(label1, on='canonicalUrl').dropna()"
   ]
  },
  {
   "cell_type": "code",
   "execution_count": 97,
   "metadata": {
    "ExecuteTime": {
     "end_time": "2019-10-28T03:41:20.012142Z",
     "start_time": "2019-10-28T03:41:20.006158Z"
    }
   },
   "outputs": [
    {
     "data": {
      "text/plain": [
       "(711, 2)"
      ]
     },
     "execution_count": 97,
     "metadata": {},
     "output_type": "execute_result"
    }
   ],
   "source": [
    "label1.shape"
   ]
  },
  {
   "cell_type": "code",
   "execution_count": null,
   "metadata": {},
   "outputs": [],
   "source": []
  }
 ],
 "metadata": {
  "kernelspec": {
   "display_name": "Python 3",
   "language": "python",
   "name": "python3"
  },
  "language_info": {
   "codemirror_mode": {
    "name": "ipython",
    "version": 3
   },
   "file_extension": ".py",
   "mimetype": "text/x-python",
   "name": "python",
   "nbconvert_exporter": "python",
   "pygments_lexer": "ipython3",
   "version": "3.7.4"
  }
 },
 "nbformat": 4,
 "nbformat_minor": 2
}
