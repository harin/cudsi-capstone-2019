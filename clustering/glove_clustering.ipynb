{
 "cells": [
  {
   "cell_type": "code",
   "execution_count": 1,
   "metadata": {
    "ExecuteTime": {
     "end_time": "2019-10-27T19:39:24.968337Z",
     "start_time": "2019-10-27T19:39:24.180877Z"
    }
   },
   "outputs": [],
   "source": [
    "import pandas as pd"
   ]
  },
  {
   "cell_type": "code",
   "execution_count": 2,
   "metadata": {
    "ExecuteTime": {
     "end_time": "2019-10-27T19:39:32.573909Z",
     "start_time": "2019-10-27T19:39:24.970331Z"
    }
   },
   "outputs": [],
   "source": [
    "emb_df = pd.read_csv('../data/embedding/Glove_embedding_output.csv',index_col=0)"
   ]
  },
  {
   "cell_type": "code",
   "execution_count": 3,
   "metadata": {
    "ExecuteTime": {
     "end_time": "2019-10-27T19:39:32.606351Z",
     "start_time": "2019-10-27T19:39:32.578893Z"
    }
   },
   "outputs": [
    {
     "data": {
      "text/plain": [
       "(211577, 100)"
      ]
     },
     "execution_count": 3,
     "metadata": {},
     "output_type": "execute_result"
    }
   ],
   "source": [
    "emb_df.shape"
   ]
  },
  {
   "cell_type": "code",
   "execution_count": 4,
   "metadata": {
    "ExecuteTime": {
     "end_time": "2019-10-27T19:39:33.489052Z",
     "start_time": "2019-10-27T19:39:32.614332Z"
    }
   },
   "outputs": [
    {
     "data": {
      "text/plain": [
       "<matplotlib.axes._subplots.AxesSubplot at 0x2542bf68dc8>"
      ]
     },
     "execution_count": 4,
     "metadata": {},
     "output_type": "execute_result"
    }
   ],
   "source": [
    "emb_df.mean(axis=1).plot()"
   ]
  },
  {
   "cell_type": "code",
   "execution_count": 5,
   "metadata": {
    "ExecuteTime": {
     "end_time": "2019-10-27T19:39:33.508006Z",
     "start_time": "2019-10-27T19:39:33.492046Z"
    }
   },
   "outputs": [],
   "source": [
    "def read_article_df(file):\n",
    "    articles_dt = file.read().split('\\n')[:-1]\n",
    "    pubId, canonicalUrl,firstScrape,title,text,lang_reliability = [],[],[],[],[],[]\n",
    "    for article in articles_dt:    \n",
    "        row = article.split('\\t')\n",
    "        pubId.append(row[0])\n",
    "        canonicalUrl.append(row[4])\n",
    "        firstScrape.append(row[5])\n",
    "        lang_reliability.append(row[7])\n",
    "        title.append(row[8])\n",
    "        text.append(row[9])\n",
    "\n",
    "    articles_df = pd.DataFrame()\n",
    "    articles_df['pubId'] = pubId\n",
    "    articles_df['canonicalUrl'] = canonicalUrl\n",
    "    articles_df['firstScrape'] = firstScrape\n",
    "    articles_df['title'] = title\n",
    "    articles_df['text'] = text\n",
    "    articles_df['lang_reliability'] = lang_reliability\n",
    "    return articles_df"
   ]
  },
  {
   "cell_type": "code",
   "execution_count": 6,
   "metadata": {
    "ExecuteTime": {
     "end_time": "2019-10-27T19:39:49.299367Z",
     "start_time": "2019-10-27T19:39:33.512990Z"
    }
   },
   "outputs": [],
   "source": [
    "article_df = read_article_df(open('../data/raw/2018_07_19_04_59_08/articles.txt', encoding='utf-8'))"
   ]
  },
  {
   "cell_type": "code",
   "execution_count": 7,
   "metadata": {
    "ExecuteTime": {
     "end_time": "2019-10-27T19:39:49.325298Z",
     "start_time": "2019-10-27T19:39:49.302360Z"
    }
   },
   "outputs": [
    {
     "data": {
      "text/html": [
       "<div>\n",
       "<style scoped>\n",
       "    .dataframe tbody tr th:only-of-type {\n",
       "        vertical-align: middle;\n",
       "    }\n",
       "\n",
       "    .dataframe tbody tr th {\n",
       "        vertical-align: top;\n",
       "    }\n",
       "\n",
       "    .dataframe thead th {\n",
       "        text-align: right;\n",
       "    }\n",
       "</style>\n",
       "<table border=\"1\" class=\"dataframe\">\n",
       "  <thead>\n",
       "    <tr style=\"text-align: right;\">\n",
       "      <th></th>\n",
       "      <th>pubId</th>\n",
       "      <th>canonicalUrl</th>\n",
       "      <th>firstScrape</th>\n",
       "      <th>title</th>\n",
       "      <th>text</th>\n",
       "      <th>lang_reliability</th>\n",
       "    </tr>\n",
       "  </thead>\n",
       "  <tbody>\n",
       "    <tr>\n",
       "      <td>0</td>\n",
       "      <td>290</td>\n",
       "      <td>zerohedge.com/news/2018-07-19/i-told-you-so-tr...</td>\n",
       "      <td>7/19/2018 10:41:26 AM -04:00</td>\n",
       "      <td>\"I Told You So\": Trump Hits Out At EU After $5...</td>\n",
       "      <td>by Phoenix Capita… - Jul 19, 2018 8:49 am ### ...</td>\n",
       "      <td>1</td>\n",
       "    </tr>\n",
       "    <tr>\n",
       "      <td>1</td>\n",
       "      <td>290</td>\n",
       "      <td>zerohedge.com/news/2018-07-19/trump-invites-pu...</td>\n",
       "      <td>7/19/2018 5:03:01 PM -04:00</td>\n",
       "      <td>Trump Invites Putin To  Ahead Of Midterms | Ze...</td>\n",
       "      <td>by Phoenix Capita… - Jul 19, 2018 8:49 am ### ...</td>\n",
       "      <td>1</td>\n",
       "    </tr>\n",
       "    <tr>\n",
       "      <td>2</td>\n",
       "      <td>290</td>\n",
       "      <td>zerohedge.com/news/2018-07-19/gallup-shows-how...</td>\n",
       "      <td>7/19/2018 8:26:52 AM -04:00</td>\n",
       "      <td>Gallup Shows How Much Americans Really Care Ab...</td>\n",
       "      <td>by Knave Dave - Jul 18, 2018 1:11 pm ### This ...</td>\n",
       "      <td>1</td>\n",
       "    </tr>\n",
       "    <tr>\n",
       "      <td>3</td>\n",
       "      <td>290</td>\n",
       "      <td>zerohedge.com/news/2018-07-19/california-supre...</td>\n",
       "      <td>7/19/2018 8:26:52 AM -04:00</td>\n",
       "      <td>California Supreme Court Blocks Proposal To Sp...</td>\n",
       "      <td>by Knave Dave - Jul 18, 2018 1:11 pm ### This ...</td>\n",
       "      <td>1</td>\n",
       "    </tr>\n",
       "    <tr>\n",
       "      <td>4</td>\n",
       "      <td>290</td>\n",
       "      <td>zerohedge.com/news/2018-07-19/why-are-thousand...</td>\n",
       "      <td>7/19/2018 4:28:52 PM -04:00</td>\n",
       "      <td>Why Are \"Thousands\" of Teslas Sitting In a Fie...</td>\n",
       "      <td>by Phoenix Capita… - Jul 19, 2018 8:49 am ### ...</td>\n",
       "      <td>1</td>\n",
       "    </tr>\n",
       "  </tbody>\n",
       "</table>\n",
       "</div>"
      ],
      "text/plain": [
       "  pubId                                       canonicalUrl  \\\n",
       "0   290  zerohedge.com/news/2018-07-19/i-told-you-so-tr...   \n",
       "1   290  zerohedge.com/news/2018-07-19/trump-invites-pu...   \n",
       "2   290  zerohedge.com/news/2018-07-19/gallup-shows-how...   \n",
       "3   290  zerohedge.com/news/2018-07-19/california-supre...   \n",
       "4   290  zerohedge.com/news/2018-07-19/why-are-thousand...   \n",
       "\n",
       "                    firstScrape  \\\n",
       "0  7/19/2018 10:41:26 AM -04:00   \n",
       "1   7/19/2018 5:03:01 PM -04:00   \n",
       "2   7/19/2018 8:26:52 AM -04:00   \n",
       "3   7/19/2018 8:26:52 AM -04:00   \n",
       "4   7/19/2018 4:28:52 PM -04:00   \n",
       "\n",
       "                                               title  \\\n",
       "0  \"I Told You So\": Trump Hits Out At EU After $5...   \n",
       "1  Trump Invites Putin To  Ahead Of Midterms | Ze...   \n",
       "2  Gallup Shows How Much Americans Really Care Ab...   \n",
       "3  California Supreme Court Blocks Proposal To Sp...   \n",
       "4  Why Are \"Thousands\" of Teslas Sitting In a Fie...   \n",
       "\n",
       "                                                text lang_reliability  \n",
       "0  by Phoenix Capita… - Jul 19, 2018 8:49 am ### ...                1  \n",
       "1  by Phoenix Capita… - Jul 19, 2018 8:49 am ### ...                1  \n",
       "2  by Knave Dave - Jul 18, 2018 1:11 pm ### This ...                1  \n",
       "3  by Knave Dave - Jul 18, 2018 1:11 pm ### This ...                1  \n",
       "4  by Phoenix Capita… - Jul 19, 2018 8:49 am ### ...                1  "
      ]
     },
     "execution_count": 7,
     "metadata": {},
     "output_type": "execute_result"
    }
   ],
   "source": [
    "article_df.head()"
   ]
  },
  {
   "cell_type": "code",
   "execution_count": 8,
   "metadata": {
    "ExecuteTime": {
     "end_time": "2019-10-27T19:39:49.525789Z",
     "start_time": "2019-10-27T19:39:49.329287Z"
    }
   },
   "outputs": [],
   "source": [
    "article_df = article_df[article_df.lang_reliability == '1']"
   ]
  },
  {
   "cell_type": "code",
   "execution_count": 9,
   "metadata": {
    "ExecuteTime": {
     "end_time": "2019-10-27T19:39:49.540750Z",
     "start_time": "2019-10-27T19:39:49.530778Z"
    }
   },
   "outputs": [
    {
     "data": {
      "text/plain": [
       "(211577, 6)"
      ]
     },
     "execution_count": 9,
     "metadata": {},
     "output_type": "execute_result"
    }
   ],
   "source": [
    "article_df.shape"
   ]
  },
  {
   "cell_type": "code",
   "execution_count": null,
   "metadata": {
    "ExecuteTime": {
     "end_time": "2019-10-27T20:00:48.573019Z",
     "start_time": "2019-10-27T19:56:25.695Z"
    }
   },
   "outputs": [],
   "source": [
    "import networkx as nx\n",
    "import community\n",
    "import matplotlib.pyplot as plt\n",
    "from sklearn.metrics.pairwise import cosine_similarity, euclidean_distances\n",
    "import numpy as np\n",
    "from collections import defaultdict\n",
    "from sklearn.neighbors import BallTree\n",
    "import gc\n",
    "%matplotlib inline"
   ]
  },
  {
   "cell_type": "code",
   "execution_count": 11,
   "metadata": {
    "ExecuteTime": {
     "end_time": "2019-10-27T19:39:51.403554Z",
     "start_time": "2019-10-27T19:39:51.272821Z"
    }
   },
   "outputs": [],
   "source": [
    "sample_emb_df = emb_df.sample(50000)"
   ]
  },
  {
   "cell_type": "code",
   "execution_count": 12,
   "metadata": {
    "ExecuteTime": {
     "end_time": "2019-10-27T19:39:51.413526Z",
     "start_time": "2019-10-27T19:39:51.405549Z"
    }
   },
   "outputs": [
    {
     "data": {
      "text/plain": [
       "(50000, 100)"
      ]
     },
     "execution_count": 12,
     "metadata": {},
     "output_type": "execute_result"
    }
   ],
   "source": [
    "sample_emb_df.shape"
   ]
  },
  {
   "cell_type": "code",
   "execution_count": 13,
   "metadata": {
    "ExecuteTime": {
     "end_time": "2019-10-27T19:39:52.368979Z",
     "start_time": "2019-10-27T19:39:51.420508Z"
    }
   },
   "outputs": [],
   "source": [
    "tree = BallTree(sample_emb_df)"
   ]
  },
  {
   "cell_type": "code",
   "execution_count": null,
   "metadata": {
    "ExecuteTime": {
     "end_time": "2019-10-27T20:26:26.777036Z",
     "start_time": "2019-10-27T20:18:31.739722Z"
    }
   },
   "outputs": [],
   "source": [
    "neighbors = tree.query_radius(sample_emb_df, 0.2)"
   ]
  },
  {
   "cell_type": "code",
   "execution_count": 30,
   "metadata": {
    "ExecuteTime": {
     "end_time": "2019-10-27T20:26:53.019698Z",
     "start_time": "2019-10-27T20:26:53.011719Z"
    }
   },
   "outputs": [
    {
     "data": {
      "text/plain": [
       "array([33601,  6127,     0, 27974, 46162], dtype=int64)"
      ]
     },
     "execution_count": 30,
     "metadata": {},
     "output_type": "execute_result"
    }
   ],
   "source": [
    "neighbors[0]"
   ]
  },
  {
   "cell_type": "code",
   "execution_count": 27,
   "metadata": {
    "ExecuteTime": {
     "end_time": "2019-10-27T20:26:26.789616Z",
     "start_time": "2019-10-27T20:26:26.779642Z"
    }
   },
   "outputs": [],
   "source": [
    "neighbors_count = [len(n) for n in neighbors]"
   ]
  },
  {
   "cell_type": "code",
   "execution_count": 28,
   "metadata": {
    "ExecuteTime": {
     "end_time": "2019-10-27T20:26:26.805575Z",
     "start_time": "2019-10-27T20:26:26.793609Z"
    }
   },
   "outputs": [
    {
     "data": {
      "text/plain": [
       "266.06348"
      ]
     },
     "execution_count": 28,
     "metadata": {},
     "output_type": "execute_result"
    }
   ],
   "source": [
    "np.mean(neighbors_count)"
   ]
  },
  {
   "cell_type": "code",
   "execution_count": 29,
   "metadata": {
    "ExecuteTime": {
     "end_time": "2019-10-27T20:26:27.012020Z",
     "start_time": "2019-10-27T20:26:26.809567Z"
    }
   },
   "outputs": [
    {
     "data": {
      "text/plain": [
       "(array([45978.,   461.,     0.,     0.,     0.,     0.,     0.,     0.,\n",
       "            0.,  3561.]),\n",
       " array([1.0000e+00, 3.6330e+02, 7.2560e+02, 1.0879e+03, 1.4502e+03,\n",
       "        1.8125e+03, 2.1748e+03, 2.5371e+03, 2.8994e+03, 3.2617e+03,\n",
       "        3.6240e+03]),\n",
       " <a list of 10 Patch objects>)"
      ]
     },
     "execution_count": 29,
     "metadata": {},
     "output_type": "execute_result"
    },
    {
     "data": {
      "image/png": "[encoded data removed]",
      "text/plain": [
       "<Figure size 432x288 with 1 Axes>"
      ]
     },
     "metadata": {
      "needs_background": "light"
     },
     "output_type": "display_data"
    }
   ],
   "source": [
    "plt.hist(neighbors_count)"
   ]
  },
  {
   "cell_type": "code",
   "execution_count": 31,
   "metadata": {
    "ExecuteTime": {
     "end_time": "2019-10-27T20:27:08.379512Z",
     "start_time": "2019-10-27T20:27:08.374524Z"
    }
   },
   "outputs": [],
   "source": [
    "G = nx.Graph()"
   ]
  },
  {
   "cell_type": "code",
   "execution_count": 32,
   "metadata": {
    "ExecuteTime": {
     "end_time": "2019-10-27T20:27:11.036838Z",
     "start_time": "2019-10-27T20:27:08.919833Z"
    }
   },
   "outputs": [],
   "source": [
    "G.add_nodes_from(list(range(len(neighbors))))"
   ]
  },
  {
   "cell_type": "code",
   "execution_count": 33,
   "metadata": {
    "ExecuteTime": {
     "end_time": "2019-10-27T20:28:00.721390Z",
     "start_time": "2019-10-27T20:27:12.570991Z"
    }
   },
   "outputs": [],
   "source": [
    "for node in range(len(neighbors)):\n",
    "    neighbor = neighbors[node]\n",
    "    for n in neighbor:\n",
    "        G.add_edge(node, n)"
   ]
  },
  {
   "cell_type": "code",
   "execution_count": 34,
   "metadata": {
    "ExecuteTime": {
     "end_time": "2019-10-27T20:33:30.648315Z",
     "start_time": "2019-10-27T20:28:00.723153Z"
    }
   },
   "outputs": [
    {
     "data": {
      "image/png": "[encoded data removed]",
      "text/plain": [
       "<Figure size 432x288 with 1 Axes>"
      ]
     },
     "metadata": {
      "needs_background": "light"
     },
     "output_type": "display_data"
    }
   ],
   "source": [
    "partitions = []\n",
    "resolutions = [1] #, .99, .999, .9995, .9999]\n",
    "for resolution in resolutions:\n",
    "    partition = community.best_partition(G, resolution=resolution)\n",
    "    partitions.append(partition)\n",
    "    num_cluster = max([v for k,v in partition.items()]) + 1\n",
    "    clusters = defaultdict(list)\n",
    "    for k, v in partition.items():\n",
    "        clusters[v].append(k)\n",
    "\n",
    "    cluster_sizes = []\n",
    "    for i, cluster in clusters.items():\n",
    "        cluster_sizes.append(len(cluster))\n",
    "    plt.bar(list(range(len(cluster_sizes))), cluster_sizes)\n",
    "    plt.title(f'Resolution = {resolution}, Num. Cluster = {num_cluster}')\n",
    "    plt.show()"
   ]
  },
  {
   "cell_type": "code",
   "execution_count": 39,
   "metadata": {
    "ExecuteTime": {
     "end_time": "2019-10-27T20:34:29.144407Z",
     "start_time": "2019-10-27T20:34:29.135431Z"
    }
   },
   "outputs": [
    {
     "data": {
      "text/plain": [
       "3562"
      ]
     },
     "execution_count": 39,
     "metadata": {},
     "output_type": "execute_result"
    }
   ],
   "source": [
    "np.max(cluster_sizes)"
   ]
  },
  {
   "cell_type": "code",
   "execution_count": 40,
   "metadata": {
    "ExecuteTime": {
     "end_time": "2019-10-27T20:34:36.203175Z",
     "start_time": "2019-10-27T20:34:36.194647Z"
    }
   },
   "outputs": [
    {
     "data": {
      "text/plain": [
       "1.0"
      ]
     },
     "execution_count": 40,
     "metadata": {},
     "output_type": "execute_result"
    }
   ],
   "source": [
    "np.median(cluster_sizes)"
   ]
  },
  {
   "cell_type": "code",
   "execution_count": 41,
   "metadata": {
    "ExecuteTime": {
     "end_time": "2019-10-27T23:03:52.298811Z",
     "start_time": "2019-10-27T23:03:52.294821Z"
    }
   },
   "outputs": [],
   "source": [
    "p = partitions[0]"
   ]
  },
  {
   "cell_type": "code",
   "execution_count": 46,
   "metadata": {
    "ExecuteTime": {
     "end_time": "2019-10-27T23:05:06.588555Z",
     "start_time": "2019-10-27T23:05:06.575592Z"
    }
   },
   "outputs": [],
   "source": [
    "pruned_cluster = {}\n",
    "for key, value in clusters.items():\n",
    "    if len(value) > 1:\n",
    "        pruned_cluster[key] = value"
   ]
  },
  {
   "cell_type": "code",
   "execution_count": 48,
   "metadata": {
    "ExecuteTime": {
     "end_time": "2019-10-27T23:05:15.928696Z",
     "start_time": "2019-10-27T23:05:15.921742Z"
    }
   },
   "outputs": [
    {
     "data": {
      "text/plain": [
       "3429"
      ]
     },
     "execution_count": 48,
     "metadata": {},
     "output_type": "execute_result"
    }
   ],
   "source": [
    "len(pruned_cluster.keys())"
   ]
  },
  {
   "cell_type": "code",
   "execution_count": 60,
   "metadata": {
    "ExecuteTime": {
     "end_time": "2019-10-27T23:09:48.281991Z",
     "start_time": "2019-10-27T23:09:48.276919Z"
    }
   },
   "outputs": [],
   "source": [
    "def plot_cluster_sizes(cluster):\n",
    "    cluster_sizes = []\n",
    "    for i, c in cluster.items():\n",
    "        cluster_sizes.append(len(c))\n",
    "    plt.title(f'Num cluster = {len(cluster.keys())}')\n",
    "    plt.hist(cluster_sizes)\n",
    "    plt.show()"
   ]
  },
  {
   "cell_type": "code",
   "execution_count": 66,
   "metadata": {
    "ExecuteTime": {
     "end_time": "2019-10-27T23:10:37.071454Z",
     "start_time": "2019-10-27T23:10:36.915873Z"
    }
   },
   "outputs": [
    {
     "name": "stdout",
     "output_type": "stream",
     "text": [
      "8\n"
     ]
    },
    {
     "data": {
      "image/png": "[encoded data removed]",
      "text/plain": [
       "<Figure size 432x288 with 1 Axes>"
      ]
     },
     "metadata": {
      "needs_background": "light"
     },
     "output_type": "display_data"
    }
   ],
   "source": [
    "pruned_cluster2 = {}\n",
    "for key, value in clusters.items():\n",
    "    if len(value) > 25:\n",
    "        pruned_cluster2[key] = value\n",
    "print(i)\n",
    "plot_cluster_sizes(pruned_cluster2)"
   ]
  },
  {
   "cell_type": "code",
   "execution_count": 67,
   "metadata": {
    "ExecuteTime": {
     "end_time": "2019-10-27T23:11:04.085800Z",
     "start_time": "2019-10-27T23:11:04.081272Z"
    }
   },
   "outputs": [],
   "source": [
    "pc = pruned_cluster2"
   ]
  },
  {
   "cell_type": "code",
   "execution_count": 78,
   "metadata": {
    "ExecuteTime": {
     "end_time": "2019-10-28T00:05:48.611266Z",
     "start_time": "2019-10-28T00:05:47.418843Z"
    }
   },
   "outputs": [],
   "source": [
    "article_cluster =list(map(lambda d: article_df.iloc[d[1]], pc.items()))"
   ]
  },
  {
   "cell_type": "code",
   "execution_count": 79,
   "metadata": {
    "ExecuteTime": {
     "end_time": "2019-10-28T00:05:52.466514Z",
     "start_time": "2019-10-28T00:05:52.461528Z"
    }
   },
   "outputs": [
    {
     "data": {
      "text/plain": [
       "59"
      ]
     },
     "execution_count": 79,
     "metadata": {},
     "output_type": "execute_result"
    }
   ],
   "source": [
    "len(article_cluster)"
   ]
  },
  {
   "cell_type": "code",
   "execution_count": 85,
   "metadata": {
    "ExecuteTime": {
     "end_time": "2019-10-28T00:06:53.464798Z",
     "start_time": "2019-10-28T00:06:53.458813Z"
    }
   },
   "outputs": [
    {
     "data": {
      "text/plain": [
       "3562"
      ]
     },
     "execution_count": 85,
     "metadata": {},
     "output_type": "execute_result"
    }
   ],
   "source": [
    "len(article_cluster[0].title.tolist())"
   ]
  },
  {
   "cell_type": "code",
   "execution_count": 86,
   "metadata": {
    "ExecuteTime": {
     "end_time": "2019-10-28T00:07:00.113941Z",
     "start_time": "2019-10-28T00:07:00.106962Z"
    }
   },
   "outputs": [
    {
     "data": {
      "text/plain": [
       "['US \"Diplomacy\"',\n",
       " 'Video: 3 Secrets To Using MoviePass ',\n",
       " 'Wallpaper fermions and the nonsymmorphic Dirac insulator | Science',\n",
       " 'Didi, SoftBank set up taxi-hailing joint venture in Japan - WECT TV6-WECT.com:News, weather & sports Wilmington, NC',\n",
       " 'Jailed Audi chief seeks release pending German fraud ',\n",
       " 'More Tennesseans Are Sporting Confederate Flag License Plates Than Ever Before - American Renaissance',\n",
       " 'Whole Foods store sets opening date for 2nd Charleston-area stor - Live5News.com | Charleston, SC | News, Weather, Sports',\n",
       " 'US crude oil production hit record level in ',\n",
       " '',\n",
       " '',\n",
       " 'Skylark',\n",
       " 'Pass Notes: Gianni Versace, archive, 20 July 199',\n",
       " '',\n",
       " 'Chinese culture-centric Lotus Festival blooms in  - Worldnews.com',\n",
       " 'Lose weight by snack swapping',\n",
       " 'Laetitia Casta: Biography',\n",
       " 'Good school is one that matches your child’s qualities— Adeniyi - Vanguard News',\n",
       " 'Sources: Kawhi Leonard and Danny Green traded to Toronto for DeMar DeRozan and package',\n",
       " 'US, allies set to evacuate Syrian aid workers from southwest',\n",
       " ' Nephew confesses to murdering his aunt',\n",
       " 'SLO police ask for help identifying clothing thief downtown | The Tribune',\n",
       " \"If the Bayou Bridge Pipeline Spills, There's No Plan for Vulnerable Residents\",\n",
       " 'Fairhope pizzeria serving up opportunity ',\n",
       " 'Texans poised to set another record for electric power use',\n",
       " '',\n",
       " \"UNAIDS chief says won't quit over agency harassment claims - KVOA | KVOA.com | Tucson, Arizona\",\n",
       " 'MGM files awful lawsuit against Las Vegas shooting survivors ',\n",
       " \"Gary Beach, Who Won a Tony in 'The Producers,' Dies at 70 - \",\n",
       " \"Brazilian police arrest 'Dr. Bumbum' after patient dies | World | cumberlink.com\",\n",
       " \"China's yuan falls against dollar, helping exporters | World | cumberlink.com\",\n",
       " \" Make-or-break time for Bears GM Pace's top picks \",\n",
       " 'About p867642g - AARP Online Community',\n",
       " 'Dennis Gallagher Apologetic About His Namesake Tax Amendment, Helps Legislators Find Alternative | Westword',\n",
       " ' invites Putin to Washington in the fall ',\n",
       " \"Jason Kelce's Night of Music, 'Star Wars,' and more things to do this weekend - Philly\",\n",
       " 'fternoon Drama, Caroline Quentin - My Brilliant Divorce',\n",
       " '19 07:30 GMT',\n",
       " 'BBC  Comic to Comic, Series 1, Chris Green',\n",
       " ': Mercedes driver agrees £40m-a-year deal until 2020 - BBC Sport',\n",
       " 'Highway 401 re-opens after 5-vehicle collision brought early-morning traffic to a stop | CBC News',\n",
       " 'Hey Lefties, We Need to Step Up on Race — But Not the Way You Think – Mother Jones',\n",
       " \"Finally, Here's The All-Borat Episode\",\n",
       " 'What Kawhi Leonard leaving the Spurs means ',\n",
       " '',\n",
       " 'Man killed in shootout with  deputies :: WRAL.com',\n",
       " 'No-confidence motion: Shiv Sena withdraws whip to MPs to vote for Modi govt ',\n",
       " 'Deafening blast: Pune too loud for comfort, finds Neeri report ',\n",
       " '',\n",
       " 'Mysti (u/BlueSmitten) - Reddit',\n",
       " 'sightsoblind (u/sightsoblind) - Reddit',\n",
       " '',\n",
       " 'BlaZak7 (u/BlaZak7) - Reddit',\n",
       " ' SabiaSadhbba',\n",
       " 'MyLittleColdCrime (u/MyLittleColdCrime) - Reddit',\n",
       " 'AG0615 (u/AG0615) - Reddit',\n",
       " 'Trade tensions weigh on outlook for rural parts of 10 states',\n",
       " 'Cops responding to 911 call find 4-foot gator in building - Times Union',\n",
       " 'Your stars with Lilith',\n",
       " 'NFL Predictions 2018: USA Today projects the worst record imaginable for the Bengals ',\n",
       " '[VIDEO] Watch ‘Titans’ Trailer, DC Universe Streaming Service Details | TVLine',\n",
       " '5 injured in explosion in vehicle shop at Army depot - KFVS12 News & Weather , Carbondale, Poplar Bluff',\n",
       " 'Global slavery report slams North Korea, repressive regimes - KFVS12 News & Weather , Carbondale, Poplar Bluff',\n",
       " 'Missouri lawmaker unblocks on Twitter the man who sued her - KFVS12 News & Weather , Carbondale, Poplar Bluff',\n",
       " '/C O R R E C T I O N -- VNG.co LLC/ - KFDA - NewsChannel 10 / Amarillo News, Weather, Sports',\n",
       " 'Amarillo business boot-scooting to the  for Made in ',\n",
       " '',\n",
       " 'Google News - Faith Evans and Stevie J. Marry in Las Vegas Hotel Room!',\n",
       " 'Google News -',\n",
       " 'Bond 25 seeks a Russian villain | Movies | santamariatimes.com',\n",
       " '20 pounds of marijuana seized in  mail bust - Times Gazette',\n",
       " 'Does Florida have an emissions inspections law?',\n",
       " \"'Big Hunk o' Love' for Elvis could connect 2 distant cities | Music | beatricedailysun.com\",\n",
       " 'Kendall-Jackson wine family proposes housing development at former Wikiup Golf Course',\n",
       " ' Wed, Jul 18',\n",
       " ' Wed, Jul 18',\n",
       " 'Prosecutors push for first-degree murder charge against Bellevue man who said he killed wife ',\n",
       " 'Federal investigation into Kia cars that are catching on fire',\n",
       " 'Miami Dolphins Have Strict Anthem Policy',\n",
       " 'Regina returns to state softball championship game',\n",
       " 'McConnell withdraws Trump judicial pick minutes before vote',\n",
       " 'Russia tests new nuclear weapons after summit with Trump',\n",
       " 'Springfield approves ballot measure seeking voter OK for fluoride',\n",
       " 'NFL and its players union working on anthem resolution | Fort Worth Star-Telegram',\n",
       " 'America still left wondering about Trump, Putin meeting | Northwest Herald',\n",
       " '19 Reasons Why You Should Never, Ever Wear A Seatbelt',\n",
       " 'Trump Endorses Controversial Georgia Gubernatorial Candidate - July 19']"
      ]
     },
     "execution_count": 86,
     "metadata": {},
     "output_type": "execute_result"
    }
   ],
   "source": [
    "article_cluster[1].title.tolist()"
   ]
  },
  {
   "cell_type": "code",
   "execution_count": 91,
   "metadata": {
    "ExecuteTime": {
     "end_time": "2019-10-28T00:07:44.899545Z",
     "start_time": "2019-10-28T00:07:44.861614Z"
    },
    "scrolled": true
   },
   "outputs": [
    {
     "data": {
      "text/plain": [
       "['dailyamerican.com/news/nation/today-in-history/article_c358c80b-15e9-56e3-a227-80c43251d8a5.html',\n",
       " 'gopsusports.com/genrel/071918aab.html',\n",
       " 'timesbulletin.com/content/default/electronic-edition/flipbook/july-18-2018/-3/1202/405',\n",
       " 'oascentral.sciencemag.org/realmedia/ads/click_lx.ads/www.sciencemag.org/site/help/librarians/index.xhtml/1402611411/right1/default/empty.gif/43734251653174527268384144427755',\n",
       " 'sciencemag.org/features/2008/06/topright2x30x51x60',\n",
       " 'oascentral.sciencemag.org/realmedia/ads/click_lx.ads/www.sciencemag.org/site/collections/online/special/2121129259/right1/default/empty.gif/6562695a465674527243554141794e71',\n",
       " 'oascentral.sciencemag.org/realmedia/ads/click_lx.ads/classic.sciencemag.org/feedback/56916951/right2/default/empty.gif/6238555246317452746849414176494a',\n",
       " 'oascentral.sciencemag.org/realmedia/ads/click_lx.ads/www.sciencemag.org/site/my_account/access_rights.xhtml/l23/1504370494/right2/aaas/house-all-sites-pub-apritchard-ros-jobs-app-010118-063018/48630207.jpg/337652494f467452736159414274772f',\n",
       " 'oascentral.sciencemag.org/realmedia/ads/click_lx.ads/classic.sciencemag.org/feedback/2008846497/right1/default/empty.gif/6238555246317452746849414176494a',\n",
       " 'oascentral.sciencemag.org/realmedia/ads/click_lx.ads/sciencemag/home/66264754/right1/default/empty.gif/6671464948317452713977414256322f',\n",
       " 'oascentral.sciencemag.org/realmedia/ads/click_lx.ads/sciencemag/home/479507973/top/default/empty.gif/6671464948317452713977414256322f',\n",
       " 'oascentral.sciencemag.org/realmedia/ads/click_lx.ads/sciencemag/home/945115186/right2/default/empty.gif/6671464948317452713977414256322f',\n",
       " 'oascentral.sciencemag.org/realmedia/ads/click_lx.ads/www.sciencemag.org/site/help/librarians/index.xhtml/l23/1922477903/top/aaas/house-sol-car-stm-adv-pub-mromano-071618-080218/acdleaderboard-071618.jpg/43734251653174527268384144427755',\n",
       " 'oascentral.sciencemag.org/realmedia/ads/click_lx.ads/www.sciencemag.org/site/my_account/access_rights.xhtml/l23/249842906/top/aaas/house-sol-car-stm-adv-pub-mromano-071618-080218/acdleaderboard-071618.jpg/337652494f467452736159414274772f',\n",
       " 'oascentral.sciencemag.org/realmedia/ads/click_lx.ads/www.sciencemag.org/site/collections/online/special/l23/1959980197/right2/aaas/all-sites-marketing-house-ad-171023/aaas_house_digital_ads_sections_300x600_r1.jpg/6562695a465674527243554141794e71',\n",
       " 'oascentral.sciencemag.org/realmedia/ads/click_lx.ads/www.sciencemag.org/site/help/librarians/index.xhtml/l23/526221426/right2/aaas/house-allsites-mbrs-cjennings-join-aaas-102317-100118/48620276.jpg/43734251653174527268384144427755',\n",
       " 'oascentral.sciencemag.org/realmedia/ads/click_lx.ads/www.sciencemag.org/site/collections/online/special/l23/1555182087/top/aaas/house-all-sites-pub-apritchard-ros-jobs-app-010118-063018/48630208.jpg/6562695a465674527243554141794e71',\n",
       " 'oascentral.sciencemag.org/realmedia/ads/click_lx.ads/classic.sciencemag.org/feedback/162046478/top/default/empty.gif/6238555246317452746849414176494a',\n",
       " 'oascentral.sciencemag.org/realmedia/ads/click_lx.ads/www.sciencemag.org/site/help/about/copyright.xhtml/l23/1369644973/top/aaas/house-all-sites-pub-apritchard-ros-jobs-app-010118-063018/48630208.jpg/546549302b467452734330414163304f',\n",
       " 'oascentral.sciencemag.org/realmedia/ads/click_lx.ads/www.sciencemag.org/site/help/about/copyright.xhtml/2103325201/right1/default/empty.gif/546549302b467452734330414163304f',\n",
       " 'science.sciencemag.org/content/361/6399/eaam5324.full.pdf',\n",
       " 'oascentral.sciencemag.org/realmedia/ads/click_lx.ads/www.sciencemag.org/site/my_account/access_rights.xhtml/12454725/right1/default/empty.gif/337652494f467452736159414274772f',\n",
       " 'telegraph.co.uk/archive/2018-7-19.html',\n",
       " 'dating.telegraph.co.uk/s/donotfollow',\n",
       " 'ign.com/wikis/lego-the-hobbit/paint_bow?objectid=20008981',\n",
       " 'ign.com/wikis/lego-the-hobbit/elk_mallet?objectid=20008981',\n",
       " 'ign.com/wikis/lego-the-hobbit/duck_cap?objectid=20008981',\n",
       " 'ign.com/wikis/new-super-mario-bros-u/layer_cake_desert-castle_morton%27s_compactor_castle',\n",
       " 'ign.com/wikis/borderlands-2/toil_and_trouble_(mechromancer)?objectid=94190',\n",
       " 'ign.com/wikis/borderlands-2/edit/5/mechromancer?objectid=94190',\n",
       " 'ign.com/wikis/lego-the-hobbit/mithril_firework_bow?objectid=20008981',\n",
       " 'ign.com/wikis/tom-clancys-splinter-cell-conviction/co-op_walkthrough',\n",
       " 'ign.com/wikis/lego-the-hobbit/whistling_flail?objectid=20008981',\n",
       " 'ign.com/articles/2018/07/19/how-much-will-dc-universe-cost-and-what-comics-and-shows-will-be-available-at-launch',\n",
       " 'ign.com/wikis/lego-the-hobbit/farmers_flight_fleece?objectid=20008981',\n",
       " 'ign.com/wikis/lego-the-hobbit/mithril_claws?objectid=20008981',\n",
       " 'ign.com/wikis/lego-the-hobbit/bug_net?objectid=20008981',\n",
       " 'ign.com/wikis/fortnite/week_2_challenges_-_search_between_an_oasis,_rock_archway,_and_dinosaurs_map,_hoop_locations_-_season_5',\n",
       " 'ign.com/wikis/lego-the-hobbit/boomerhammer?objectid=20008981',\n",
       " 'ign.com/articles/2018/07/19/xbox-and-west-coast-customs-to-give-away-pubg-bus',\n",
       " 'ign.com/articles/2018/07/19/comic-con-2018-batman-and-joker-join-forces-in-new-dc-comic',\n",
       " 'ign.com/articles/2018/07/19/call-of-duty-black-ops-4-mystery-box-collectors-edition-announced-at-comic-con-2018',\n",
       " 'ign.com/wikis/lego-the-hobbit/mithril_hammerhands?objectid=20008981',\n",
       " 'ign.com/wikis/lego-the-hobbit/stone-giant_gloves?objectid=20008981',\n",
       " 'ign.com/articles/2018/07/18/no-that-fortnite-tv-show-tease-isnat-real',\n",
       " 'ign.com/wikis/borderlands-2/where_angels_fear_to_tread_part_2_(mechromancer)?objectid=94190',\n",
       " 'ign.com/wikis/lego-the-hobbit/eggapult?objectid=20008981',\n",
       " 'ign.com/articles/2018/07/18/mozyhome-cloud-backup-review',\n",
       " 'ign.com/wikis/lego-the-hobbit/cooking_apron?objectid=20008981',\n",
       " 'ign.com/wikis/lego-the-hobbit/on_the_doorstep?objectid=20008981',\n",
       " 'ign.com/wikis/borderlands-2/the_once_and_future_slab_(mechromancer)?objectid=94190',\n",
       " 'ign.com/wikis/borderlands-2/my_first_gun_(mechromancer)?objectid=94190',\n",
       " 'ign.com/wikis/lego-the-hobbit/beehive_gloves?objectid=20008981',\n",
       " 'ign.com/articles/2018/07/19/new-doctor-who-trailer-shows-off-thirteen-and-her-companions-comic-con-2018',\n",
       " 'ign.com/wikis/lego-the-hobbit/doily_shield?objectid=20008981',\n",
       " 'ign.com/wikis/lego-the-hobbit/kite_of_fancy?objectid=20008981',\n",
       " 'ign.com/wikis/borderlands-2/the_road_to_sanctuary_(mechromancer)?objectid=94190',\n",
       " 'ign.com/articles/2018/07/20/spider-man-ps4-devs-reveal-more-about-silver-sable-velocity-suit-and-that-big-twist-comic-con-2018',\n",
       " 'ign.com/wikis/lego-the-hobbit/dragon_kite?objectid=20008981',\n",
       " 'ign.com/wikis/lego-the-hobbit/staff_of_wisdom?objectid=20008981',\n",
       " 'ign.com/wikis/lego-the-hobbit/looking_for_proof?objectid=20008981',\n",
       " 'ign.com/articles/2018/07/20/new-shazam-comic-series-announced-comic-con-2018',\n",
       " 'ign.com/wikis/lego-the-hobbit/schematics?objectid=20008981',\n",
       " 'ign.com/movies/dragon-ball-super-broly',\n",
       " 'ign.com/wikis/borderlands-2/best_minion_ever_(mechromancer)?objectid=94190',\n",
       " 'ign.com/wikis/lego-the-hobbit/chicken_hat?objectid=20008981',\n",
       " 'ign.com/articles/2018/07/19/darksiders-3-2-new-minutes-of-combat-and-carnage-a-ign-first',\n",
       " 'ign.com/movies/mamma-mia-here-we-go-again',\n",
       " 'ign.com/articles/2018/07/19/comic-con-2018-henry-cavill-thinks-a-zack-snyder-cut-wouldnt-change-anything',\n",
       " 'ign.com/wikis/lego-the-hobbit/marching_baton?objectid=20008981',\n",
       " 'ign.com/articles/2018/07/18/captain-marvel-gets-a-flawed-fresh-start-the-life-of-captain-marvel-1-review',\n",
       " 'ign.com/wikis/the-elder-scrolls-5-skyrim/black_book%3a_the_winds_of_change',\n",
       " 'ign.com/wikis/lego-the-hobbit/mithril_giddy-up_staff?objectid=20008981',\n",
       " 'ign.com/wikis/borderlands-2/where_angels_fear_to_tread_(mechromancer)?objectid=94190',\n",
       " 'ign.com/wikis/borderlands-2/death_trap?objectid=94190',\n",
       " 'ign.com/articles/2018/07/07/the-best-cheap-gaming-monitors',\n",
       " 'ign.com/wikis/borderlands-2/blindsided_(mechromancer)?objectid=94190',\n",
       " 'ign.com/wikis/borderlands-2/edit/4/mechromancer?objectid=94190',\n",
       " 'ign.com/articles/2018/07/19/the-predator-director-says-new-movie-isnt-a-reboot-comic-con-2018',\n",
       " 'ign.com/articles/2018/07/20/steel-serpent-explained-who-is-the-iron-fist-season-2-villain',\n",
       " 'ign.com/wikis/lego-the-hobbit/happy_mallet?objectid=20008981',\n",
       " 'ign.com/wikis/lego-the-hobbit/glowstick?objectid=20008981',\n",
       " 'ign.com/wikis/lego-the-hobbit/goblin_hat?objectid=20008981',\n",
       " 'ign.com/articles/2018/07/19/uk-daily-deals-xbox-live-gold-12-month-subscription-for-2650-ps-plus-15-month-membership-under-38',\n",
       " 'ign.com/wikis/lego-the-hobbit/the_troll_hoard?objectid=20008981',\n",
       " 'ign.com/articles/2018/07/19/new-suit-shown-off-for-insomniacs-spider-man-sdcc-2018',\n",
       " 'ign.com/wikis/lego-the-hobbit/travellers_tool?objectid=20008981',\n",
       " 'ign.com/wikis/lego-the-hobbit/treasure_items?objectid=20008981',\n",
       " 'ign.com/wikis/lego-the-hobbit/the_necromancer?objectid=20008981',\n",
       " 'ign.com/articles/2018/07/20/the-walking-dead-andrew-lincolns-departure-confirmed',\n",
       " 'ign.com/articles/2018/07/19/7-summer-2018-anime-to-put-on-your-watchlist',\n",
       " 'ign.com/articles/2018/07/19/star-wars-the-clone-wars-is-returning',\n",
       " 'ign.com/wikis/borderlands-2/file:d374-tp.jpg?objectid=94190',\n",
       " 'ign.com/wikis/lego-the-hobbit/snotty_armour?objectid=20008981',\n",
       " 'ign.com/wikis/lego-the-hobbit/yo-yo?objectid=20008981',\n",
       " 'ign.com/wikis/borderlands-2/edit/2/mechromancer?objectid=94190',\n",
       " 'ign.com/wikis/splatoon-2/stage_25_-_platform_madhouse',\n",
       " 'ign.com/wikis/lego-the-hobbit/crystal_goblin_crown?objectid=20008981',\n",
       " 'ign.com/wikis/lego-the-hobbit/breaduchet?objectid=20008981',\n",
       " 'ign.com/wikis/borderlands-2/the_talon_of_god_(mechromancer)?objectid=94190',\n",
       " 'ign.com/articles/2018/07/19/jurassic-world-evolution-hits-1-million-copies-sold',\n",
       " 'ign.com/wikis/lego-the-hobbit/tuning_fork?objectid=20008981',\n",
       " 'ign.com/articles/2018/07/19/fortnite-week-2-challenges-search-between-an-oasis-rock-archway-and-dinosaurs-map-and-hoop-locations',\n",
       " 'ign.com/articles/2018/07/19/hasbro-previews-new-star-wars-marvel-transformers-figures-comic-con-2018',\n",
       " 'ign.com/articles/2018/07/19/sos-online-backup-review',\n",
       " 'ign.com/movies/unfriended-dark-web',\n",
       " 'ign.com/articles/2018/07/19/halo-dev-replies-to-battle-royale-query-the-only-br-were-interested-in-is-the-battle-rifle',\n",
       " 'ign.com/wikis/lego-the-hobbit/morgul-blade?objectid=20008981',\n",
       " 'ign.com/articles/2018/07/20/these-iconic-breaking-bad-characters-wont-be-in-better-call-saul-season-4',\n",
       " 'ign.com/wikis/borderlands-2/edit/3/mechromancer?objectid=94190',\n",
       " 'ign.com/wikis/lego-the-hobbit/pumpkin_crown?objectid=20008981',\n",
       " 'ign.com/wikis/lego-the-hobbit/sir_moustaff?objectid=20008981',\n",
       " 'ign.com/wikis/lego-the-hobbit/roast_mutton?objectid=20008981',\n",
       " 'ign.com/articles/2018/07/19/changes-are-coming-for-nearly-all-of-overwatchs-support-heroes',\n",
       " 'ign.com/articles/2018/07/19/stargirl-tv-show-coming-to-dc-universe-streaming-service',\n",
       " 'ign.com/wikis/lego-the-hobbit/collectibles?objectid=20008981',\n",
       " 'ign.com/wikis/lego-the-hobbit/misty_mountain_shield?objectid=20008981',\n",
       " 'ign.com/wikis/lego-the-hobbit/mithril_bomb_blade?objectid=20008981',\n",
       " 'ign.com/wikis/lego-the-hobbit/jesters_cane?objectid=20008981',\n",
       " 'ign.com/wikis/lego-the-hobbit/bananarang?objectid=20008981',\n",
       " 'ign.com/wikis/lego-the-hobbit/inside_information?objectid=20008981',\n",
       " 'ign.com/articles/2018/07/20/how-ghostbusters-world-is-trying-to-be-more-than-just-a-pokemon-go-reskin-comic-con-2018',\n",
       " 'ign.com/wikis/lego-the-hobbit/hot_dog_shield?objectid=20008981',\n",
       " 'ign.com/articles/2018/07/18/9-of-the-best-electronics-deals-on-walmart-right-now',\n",
       " 'ign.com/articles/2018/07/20/uncharted-fan-film-director-and-nathan-fillion-on-naughty-dogs-reaction-comic-con-2018',\n",
       " 'ign.com/wikis/lego-the-hobbit/mithril_music_kit?objectid=20008981',\n",
       " 'ign.com/wikis/lego-the-hobbit/mining_hat?objectid=20008981',\n",
       " 'ign.com/articles/2018/07/19/limited-edition-marvels-spider-man-ps4-pro-bundle-announced',\n",
       " 'ign.com/wikis/resident-evil-4/main_page',\n",
       " 'ign.com/articles/2018/07/18/fortnite-player-attempts-harrowing-rescue-mission-to-save-opponent',\n",
       " 'ign.com/wikis/lego-the-hobbit/dragon_hat?objectid=20008981',\n",
       " 'ign.com/wikis/lego-the-hobbit/dazzle_wig?objectid=20008981',\n",
       " 'ign.com/wikis/lego-the-hobbit/tea_hat?objectid=20008981',\n",
       " 'ign.com/articles/2018/07/20/celebrate-san-diego-comic-con-with-these-great-comics-movies-and-toys',\n",
       " 'ign.com/wikis/lego-the-hobbit/po-tay-to?objectid=20008981',\n",
       " 'ign.com/articles/2018/07/19/iron-man-3-director-knocks-thanos-in-avengers-infinity-war-comic-con-2018',\n",
       " 'ign.com/wikis/lego-the-hobbit/archaelogists_pick?objectid=20008981',\n",
       " 'ign.com/articles/2018/07/20/hyundai-unveils-official-iron-man-car-comic-con-2018',\n",
       " 'ign.com/wikis/lego-the-hobbit/goblin-town?objectid=20008981',\n",
       " 'ign.com/wikis/lego-the-hobbit/yodelling_shield?objectid=20008981',\n",
       " 'ign.com/wikis/lego-the-hobbit/make-up_stick?objectid=20008981',\n",
       " 'ign.com/articles/2018/07/20/gamescom-2018-targets-exhibitor-record',\n",
       " 'ign.com/wikis/borderlands-2/mechromancer_skill_tree?objectid=94190',\n",
       " 'ign.com/wikis/lego-the-hobbit/mirkwood_phial?objectid=20008981',\n",
       " 'ign.com/articles/2018/07/19/comic-con-2018-telltale-doesnt-rule-out-more-the-walking-dead-games-after-season-4',\n",
       " 'ign.com/wikis/lego-the-hobbit/workmans_axe?objectid=20008981',\n",
       " 'ign.com/wikis/lego-the-hobbit/pom_poms?objectid=20008981',\n",
       " 'ign.com/wikis/lego-the-hobbit/loot_rod?objectid=20008981',\n",
       " 'ign.com/wikis/lego-the-hobbit/mithril_mirror_armour?objectid=20008981',\n",
       " 'ign.com/articles/2018/07/19/satisfactory-is-a-factory-sim-from-the-creators-of-goat-simulator',\n",
       " 'ign.com/wikis/lego-the-hobbit/window_shield?objectid=20008981',\n",
       " 'ign.com/wikis/lego-the-hobbit/over_hill_and_under_hill?objectid=20008981',\n",
       " 'ign.com/wikis/lego-the-hobbit/dragon_egg?objectid=20008981',\n",
       " 'ign.com/wikis/lego-the-hobbit/spider_bomb?objectid=20008981',\n",
       " 'ign.com/articles/2018/07/19/comic-con-2018-spider-man-ps4-confirms-silver-sable',\n",
       " 'ign.com/wikis/lego-the-hobbit/mithril_wraith_armour?objectid=20008981',\n",
       " 'ign.com/wikis/lego-the-hobbit/camomile_teapot?objectid=20008981',\n",
       " 'ign.com/wikis/lego-the-hobbit/goblin_feet?objectid=20008981',\n",
       " 'ign.com/wikis/lego-the-hobbit/baffling_beaker?objectid=20008981',\n",
       " 'ign.com/wikis/borderlands-2/a_dam_fine_rescue_(mechromancer)?objectid=94190',\n",
       " 'ign.com/wikis/lego-the-hobbit/glowing_hammer?objectid=20008981',\n",
       " 'ign.com/wikis/lego-the-hobbit/mithril_warhammer?objectid=20008981',\n",
       " 'ign.com/articles/2018/07/20/new-gentle-giant-statues-explore-the-star-wars-and-marvel-universes-comic-con-2018',\n",
       " 'ign.com/articles/2018/07/19/he-man-and-injustice-are-a-winning-team-injustice-vs-masters-of-the-universe-1-review',\n",
       " 'ign.com/wikis/lego-the-hobbit/mithril_flail?objectid=20008981',\n",
       " 'ign.com/wikis/borderlands-2/hunting_the_firehawk_(mechromancer)?objectid=94190',\n",
       " 'ign.com/wikis/lego-the-hobbit/queer_lodgings?objectid=20008981',\n",
       " 'ign.com/articles/2018/07/19/the-green-lantern-relaunch-by-grant-morrison-and-liam-sharp-focuses-on-hal-jordans-life-as-a-space-cop',\n",
       " 'ign.com/wikis/lego-the-hobbit/mithril_booty_blade?objectid=20008981',\n",
       " 'ign.com/wikis/borderlands-2/rising_action_(mechromancer)?objectid=94190',\n",
       " 'ign.com/articles/2018/07/18/the-culling-2-is-shutting-down-refunds-being-given',\n",
       " 'ign.com/wikis/lego-the-hobbit/a_warm_welcome?objectid=20008981',\n",
       " 'ign.com/wikis/lego-the-hobbit/gaffers_trowel?objectid=20008981',\n",
       " 'ign.com/wikis/lego-the-hobbit/pixel_pickaxe?objectid=20008981',\n",
       " 'ign.com/articles/2018/07/20/steel-serpent-iron-fist-season-2-villain',\n",
       " 'ign.com/articles/2018/07/19/stewart-copeland-returns-for-spyro-reignited-trilogy-at-comic-con-2018',\n",
       " 'ign.com/articles/2018/07/19/we-saw-the-ultimate-predator-decapitate-a-predator-at-comic-con-2018',\n",
       " 'ign.com/articles/2018/07/01/first-look-at-titans-young-justice-outsiders-and-dc-universes-other-streaming-shows',\n",
       " 'ign.com/wikis/lego-the-hobbit/an_unexpected_party?objectid=20008981',\n",
       " 'ign.com/wikis/lego-the-hobbit/greatest_kingdom_in_middle-earth?objectid=20008981',\n",
       " 'ign.com/wikis/lego-the-hobbit/friendship_slippers?objectid=20008981',\n",
       " 'ign.com/articles/2018/07/19/game-of-thrones-tormund-giantsbane-heads-up-dark-horses-comic-con-exclusives',\n",
       " 'ign.com/articles/2018/07/19/pokemon-go-legendary-pokemon-registeel-available-starting-today',\n",
       " 'ign.com/wikis/borderlands-2/edit/1/mechromancer?objectid=94190',\n",
       " 'ign.com/wikis/borderlands-2/gaige?objectid=94190',\n",
       " 'ign.com/wikis/borderlands-2/edit/7/mechromancer?objectid=94190',\n",
       " 'ign.com/articles/2018/07/18/microsoft-will-show-all-new-xbox-hardware-and-accessories-at-gamescom',\n",
       " 'ign.com/articles/2018/07/19/the-10-best-80s-action-movies',\n",
       " 'ign.com/wikis/borderlands-2/constructors?objectid=94190',\n",
       " 'ign.com/articles/2018/07/20/backlash-against-marvel-characters-fate-kept-avengers-infinity-war-director-off-social-media-comic-con-2018',\n",
       " 'ign.com/wikis/borderlands-2/data_mining_(mechromancer)?objectid=94190',\n",
       " 'ign.com/wikis/lego-the-hobbit/flies_and_spiders?objectid=20008981',\n",
       " 'ign.com/wikis/lego-the-hobbit/firefly_jar?objectid=20008981',\n",
       " 'ign.com/wikis/lego-the-hobbit/out_of_the_frying_pan?objectid=20008981',\n",
       " 'ign.com/wikis/octopath-traveler/never_forget',\n",
       " 'ign.com/wikis/borderlands-2/edit/8/mechromancer?objectid=94190',\n",
       " 'ign.com/wikis/lego-the-hobbit/mithril_skeleton_crank?objectid=20008981',\n",
       " 'ign.com/movies/the-equalizer-2',\n",
       " 'ign.com/wikis/lego-the-hobbit/shield_of_song?objectid=20008981',\n",
       " 'ign.com/wikis/lego-the-hobbit/trophy_mallet?objectid=20008981',\n",
       " 'ign.com/articles/2018/07/19/comic-con-2018-dozens-of-aquaman-toys-create-epic-undersea-battle-at-comic-con-2018',\n",
       " 'ign.com/articles/2018/07/19/daily-deals-xbox-ultimate-game-sale',\n",
       " 'ign.com/wikis/borderlands-2/cleaning_up_the_berg_(mechromancer)?objectid=94190',\n",
       " 'ign.com/wikis/borderlands-2/edit/6/mechromancer?objectid=94190',\n",
       " 'ign.com/wikis/lego-the-hobbit/azog_the_defiler?objectid=20008981',\n",
       " 'ign.com/wikis/borderlands-2/bright_lights,_flying_city_(mechromancer)?objectid=94190',\n",
       " 'ign.com/wikis/lego-the-hobbit/trolls_bane?objectid=20008981',\n",
       " 'ign.com/wikis/borderlands-2/the_man_who_would_be_jack_(mechromancer)?objectid=94190',\n",
       " 'ign.com/wikis/borderlands-2/a_train_to_catch_(mechromancer)?objectid=94190',\n",
       " 'ign.com/wikis/lego-the-hobbit/mithril_pickaxe?objectid=20008981',\n",
       " 'ign.com/wikis/lego-the-hobbit/wraith_snorkle?objectid=20008981',\n",
       " 'ign.com/wikis/borderlands-2/plan_b_(mechromancer)?objectid=94190',\n",
       " 'ign.com/wikis/lego-the-hobbit/singing_fish_blade?objectid=20008981',\n",
       " 'ign.com/wikis/lego-the-hobbit/mithril_multi-bow?objectid=20008981',\n",
       " 'ign.com/wikis/borderlands-2/wildlife_preservation_(mechromancer)?objectid=94190',\n",
       " 'ign.com/blogs/maxxwell/2018/07/19/things-i-do-not-get-2-making-predictions',\n",
       " 'ign.com/wikis/lego-the-hobbit/barrels_out_of_bond?objectid=20008981',\n",
       " 'ign.com/articles/2018/07/19/doctor-who-a-guide-to-all-the-doctors',\n",
       " 'ign.com/wikis/lego-the-hobbit/dale_standard?objectid=20008981',\n",
       " 'ign.com/articles/2018/07/18/batmans-comic-gets-even-darker-batman-51-review',\n",
       " 'ign.com/wikis/lego-the-hobbit/mithril_tornado_axe?objectid=20008981',\n",
       " 'ign.com/wikis/lego-the-hobbit/mithril_fishing_pole?objectid=20008981',\n",
       " 'ign.com/wikis/lego-the-hobbit/cluckarang?objectid=20008981',\n",
       " 'ign.com/articles/2018/07/19/first-it-chapter-2-footage-shown-at-comic-con-2018',\n",
       " 'ign.com/wikis/lego-the-hobbit/pine_comb_bomb?objectid=20008981',\n",
       " 'ign.com/articles/2018/07/19/gta-online-nightclubs-update-is-called-after-hours-coming-next-week',\n",
       " 'wect.com/clip/14501313/first-alert-forecast-from-thursday-midday-july-19-2018',\n",
       " 'wect.com/clip/14500584/your-first-alert-forecast-from-thursday-morning-july-19-2018',\n",
       " 'home.nashuatelegraph.com/clickshare/addaccountprint.do;jsessionid=3ddb4406ab22586252044ebd42c588b7',\n",
       " 'home.nashuatelegraph.com/clickshare/addaccountprint.do;jsessionid=890e5e10cd302f333707f896008f493f',\n",
       " 'events.krdo.com/sports/olympic-figure-skater-denis-ten-stabbed-to-death/770351003',\n",
       " 'events.krdo.com/sports/jhonattan-vegas-takes-helicopter-to-the-open-barely-makes-his-tee-time/770377154',\n",
       " 'events.krdo.com/news/man-arrested-after-burglaries-in-colorado-8-other-states/770519616',\n",
       " 'events.krdo.com/health/unc-football-coach-under-fire-over-brain-illness-remarks/770235855',\n",
       " 'events.krdo.com/sports/rugby-sevens-world-cup-usa-going-for-glory-on-home-soil/770331393',\n",
       " 'events.krdo.com/news/colorado-springs/watch-new-law-allows-colorado-cities-to-adopt-new-intersection-rules-for-cyclists/769603238',\n",
       " 'events.krdo.com/news/politics/michelle-obama-encourages-voter-registration-in-starstudded-psa/770385325',\n",
       " 'events.krdo.com/news/national-world/grand-jury-indicts-4-in-shooting-death-of-florida-rapper-xxxtentacion/770527761',\n",
       " 'events.krdo.com/news/colorado-springs/new-names-for-new-minor-league-baseball-team-in-colorado-springs/770463615',\n",
       " 'events.krdo.com/entertainment/jennifer-lopez-seeks-reinvention-in-second-act-trailer/770387038',\n",
       " 'events.krdo.com/entertainment/harvey-weinstein-files-motion-to-dismiss-ashley-judd-suit/770388135',\n",
       " 'events.krdo.com/news/fire-at-colorado-springs-airport-ruled-accidental/770441028',\n",
       " 'events.krdo.com/news/top-stories/interest-opposition-grow-for-teacher-gun-training-in-colorado/770027310',\n",
       " 'events.krdo.com/news/power-outage-affects-thousands-in-east-colorado-springs/770483160',\n",
       " 'events.krdo.com/news/colorado-springs/watch-new-colorado-director-of-marijuana-coordination-talks-her-priorities-for-the-industry/770099678',\n",
       " 'events.krdo.com/entertainment/dj-who-inspired-good-morning-vietnam-dies/770517336',\n",
       " 'events.krdo.com/news/tourism-dollars-down-in-manitou-springs-parking-may-be-to-blame/770504134',\n",
       " 'events.krdo.com/sports/tiger-woods-fights-for-legacy-great-or-greatest/770470223',\n",
       " 'events.idahostatesman.com/eventx--54072_1992307--idaho-botanical-garden-old-salt-union.aspx',\n",
       " 'stats.masslive.com/fb/story.asp?i=20180718120018079394208',\n",
       " 'stats.masslive.com/fb/story.asp?i=20180719175536625577208',\n",
       " 'stats.masslive.com/nba/story.asp?i=20180719135726726547008',\n",
       " 'stats.masslive.com/nhl/story.asp?i=20180718172943869428708',\n",
       " 'stats.masslive.com/cbk/story.asp?i=20180719100445407521108',\n",
       " 'stats.masslive.com/cfb/story.asp?i=20180718204302888447908',\n",
       " 'stats.masslive.com/fb/story.asp?i=20180719131837398541708',\n",
       " 'businessfinder.masslive.com/user/2xjxmpj',\n",
       " 'stats.masslive.com/fb/story.asp?i=20180718100620533385708',\n",
       " 'masslive.com/entertainment/index.ssf/2018/07/billy_joel_marks_100th_show_at.html',\n",
       " 'stats.masslive.com/mlb/story.asp?i=20180719133346689544808',\n",
       " 'stats.masslive.com/cfb/story.asp?i=20180719191824880589208',\n",
       " 'stats.masslive.com/cfb/story.asp?i=20180719095757012514308',\n",
       " 'stats.masslive.com/nhl/story.asp?i=20180719122339969534308',\n",
       " 'stats.masslive.com/mlb/playerstats.asp?id=10183',\n",
       " 'stats.masslive.com/nhl/story.asp?i=20180719173255882574408',\n",
       " 'stats.masslive.com/mlb/story.asp?i=20180719180643125578008',\n",
       " 'stats.masslive.com/cbk/story.asp?i=20180719185132967583208',\n",
       " 'stats.masslive.com/fb/story.asp?i=20180718133219002402708',\n",
       " 'stats.masslive.com/nba/story.asp?i=20180719202146443593108',\n",
       " 'stats.masslive.com/cbk/story.asp?i=20180718150257020412808',\n",
       " 'stats.masslive.com/nba/story.asp?i=20180719163913862564608',\n",
       " 'stats.masslive.com/nba/story.asp?i=20180719180744558578308',\n",
       " 'stats.masslive.com/nba/story.asp?i=20180719133547949545108',\n",
       " 'stats.masslive.com/cbk/story.asp?i=20180719153518160559108',\n",
       " 'stats.masslive.com/mlb/story.asp?i=20180719135422477546408',\n",
       " 'stats.masslive.com/mlb/story.asp?i=20180719213149765602708',\n",
       " 'stats.masslive.com/cbk/story.asp?i=20180718144921097410408',\n",
       " 'stats.masslive.com/cfb/story.asp?i=20180719111718269529608',\n",
       " 'stats.masslive.com/mlb/story.asp?i=20180719184159135582408',\n",
       " 'stats.masslive.com/cbk/story.asp?i=20180718161244845421108',\n",
       " 'stats.masslive.com/cfb/story.asp?i=20180719150803450556708',\n",
       " 'businessfinder.masslive.com/user/18pz65b',\n",
       " 'stats.masslive.com/mlb/story.asp?i=20180719214321820603108',\n",
       " 'stats.masslive.com/mlb/story.asp?i=20180719172244128572408',\n",
       " 'stats.masslive.com/nba/story.asp?i=20180719144657104553608',\n",
       " 'stats.masslive.com/mlb/story.asp?i=20180719191926408589908',\n",
       " 'stats.masslive.com/mlb/story.asp?i=20180719123214553535208',\n",
       " 'stats.masslive.com/cfb/story.asp?i=20180718093927355377008',\n",
       " 'stats.masslive.com/cfb/story.asp?i=20180719185132967583208',\n",
       " 'stats.masslive.com/fb/story.asp?i=20180719171610963571208',\n",
       " 'stats.masslive.com/fb/story.asp?i=20180718142713709409008',\n",
       " 'stats.masslive.com/fb/story.asp?i=20180719164947591565608',\n",
       " 'stats.masslive.com/cbk/story.asp?i=20180718145757044412308',\n",
       " 'stats.masslive.com/fb/story.asp?i=20180718171638104426308',\n",
       " 'stats.masslive.com/cfb/story.asp?i=20180719164245311565008',\n",
       " 'stats.masslive.com/fb/story.asp?i=20180719070154297509008',\n",
       " 'stats.masslive.com/nba/story.asp?i=20180719131837453541808',\n",
       " 'stats.masslive.com/nba/story.asp?i=20180719163742927564408',\n",
       " 'stats.masslive.com/nba/story.asp?i=20180719035218092502808',\n",
       " 'stats.masslive.com/nba/story.asp?i=20180719200914390592708',\n",
       " 'stats.masslive.com/cfb/story.asp?i=20180718183114143435408',\n",
       " 'stats.masslive.com/cbk/story.asp?i=20180719095048999513408',\n",
       " 'postbulletin.com/eedition/postbulletin-com/edition_65786678-282a-5d48-b428-e902c1fb347d.html',\n",
       " 'postbulletin.com/eedition/postbulletin-com/edition_cb10a8f8-2d16-5626-9df5-acc5e4334a77.html',\n",
       " 'care2.com/c2c/people/profile.html?pid=562296777',\n",
       " 'care2.com/c2c/people/profile.html?pid=723854715',\n",
       " 'limaohio.com/section/news/page/2743',\n",
       " 'limaohio.com/news/309716/police-calls-626',\n",
       " 'my5.live5news.com/media/28425690',\n",
       " 'my5.live5news.com/media/28416163',\n",
       " 'my5.live5news.com/media/28417744',\n",
       " 'my5.live5news.com/media/28417699',\n",
       " 'my5.live5news.com/media/28417725',\n",
       " 'my5.live5news.com/media/28417970',\n",
       " 'my5.live5news.com/media/28421398',\n",
       " 'my5.live5news.com/media/28415506',\n",
       " 'my5.live5news.com/media/28425677',\n",
       " 'grandhaventribune.com/state/2018/07/18/state-briefs-721.html',\n",
       " 'grandhaventribune.com/news-calendar/2018/07/19/community-calendar-894.html',\n",
       " 'grandhaventribune.com/state/2018/07/19/state-briefs-722.html',\n",
       " 'usnews.com/news/best-states/missouri/articles/2018-07-18/kochs-launch-18m-ad-campaign-against-missouris-mccaskill',\n",
       " 'usnews.com/education/blogs/law-admissions-lowdown/articles/2018-07-16/what-to-know-about-applying-to-law-school-early-paying-in-state-tuition',\n",
       " 'usnews.com/news/politics/articles/2018-07-18/candidate-for-alaska-house-doesnt-live-in-alaska',\n",
       " 'ledger-enquirer.com/news/lottery/article215215900.html',\n",
       " 'ledger-enquirer.com/news/lottery/article215166395.html',\n",
       " 'ledger-enquirer.com/news/lottery/article215213150.html',\n",
       " 'ledger-enquirer.com/news/lottery/article215216175.html',\n",
       " 'ledger-enquirer.com/news/lottery/article215149300.html',\n",
       " 'ledger-enquirer.com/news/lottery/article215166390.html',\n",
       " 'ledger-enquirer.com/news/lottery/article215085490.html',\n",
       " 'ledger-enquirer.com/news/lottery/article215204190.html',\n",
       " 'ledger-enquirer.com/news/lottery/article215166385.html',\n",
       " 'ledger-enquirer.com/news/lottery/article215204245.html',\n",
       " 'ledger-enquirer.com/news/lottery/article215156435.html',\n",
       " 'ledger-enquirer.com/news/lottery/article215204195.html',\n",
       " 'ledger-enquirer.com/news/lottery/article215216170.html',\n",
       " 'ledger-enquirer.com/news/lottery/article215149420.html',\n",
       " 'ledger-enquirer.com/news/lottery/article215203880.html',\n",
       " 'ledger-enquirer.com/news/lottery/article215156445.html',\n",
       " 'ledger-enquirer.com/news/lottery/article215198915.html',\n",
       " 'ledger-enquirer.com/news/lottery/article215215230.html',\n",
       " 'ledger-enquirer.com/news/lottery/article215174465.html',\n",
       " 'manage.wn.com/article/400958319',\n",
       " 'manage.wn.com/article/400896310',\n",
       " 'manage.wn.com/article/400959597',\n",
       " 'manage.wn.com/article/400969325',\n",
       " 'manage.wn.com/article/400896735',\n",
       " 'manage.wn.com/article/400901896',\n",
       " 'manage.wn.com/article/400978808',\n",
       " 'manage.wn.com/article/400935597',\n",
       " 'manage.wn.com/article/400942259',\n",
       " 'manage.wn.com/article/400916974',\n",
       " 'manage.wn.com/article/400781080',\n",
       " 'manage.wn.com/article/400753087',\n",
       " 'manage.wn.com/article/400962989',\n",
       " 'manage.wn.com/article/400930367',\n",
       " 'manage.wn.com/article/400948657',\n",
       " 'manage.wn.com/article/400733344',\n",
       " 'manage.wn.com/article/400977288',\n",
       " 'manage.wn.com/article/400955608',\n",
       " 'manage.wn.com/article/400667916',\n",
       " 'manage.wn.com/article/400933356',\n",
       " 'manage.wn.com/article/400910285',\n",
       " 'manage.wn.com/article/400938008',\n",
       " 'manage.wn.com/article/400981070',\n",
       " 'manage.wn.com/article/400901339',\n",
       " 'manage.wn.com/article/400904338',\n",
       " 'manage.wn.com/article/400927962',\n",
       " 'manage.wn.com/article/400779895',\n",
       " 'manage.wn.com/article/400894805',\n",
       " 'manage.wn.com/article/400943848',\n",
       " 'manage.wn.com/article/391932875',\n",
       " 'manage.wn.com/article/400638951',\n",
       " 'manage.wn.com/article/400896044',\n",
       " 'manage.wn.com/article/400676769',\n",
       " 'manage.wn.com/article/400646242',\n",
       " 'manage.wn.com/article/400669000',\n",
       " 'manage.wn.com/article/400910352',\n",
       " 'manage.wn.com/article/400954140',\n",
       " 'manage.wn.com/article/400910139',\n",
       " 'manage.wn.com/article/400897828',\n",
       " 'manage.wn.com/article/400805749',\n",
       " 'manage.wn.com/article/400684227',\n",
       " 'manage.wn.com/article/400912950',\n",
       " 'manage.wn.com/article/400921899',\n",
       " 'manage.wn.com/article/400683680',\n",
       " 'manage.wn.com/article/400935276',\n",
       " 'manage.wn.com/article/400911699',\n",
       " 'manage.wn.com/article/400946001',\n",
       " 'manage.wn.com/article/400950402',\n",
       " 'manage.wn.com/article/400900931',\n",
       " 'manage.wn.com/article/400926650',\n",
       " 'manage.wn.com/article/400915410',\n",
       " 'manage.wn.com/article/400885147',\n",
       " 'manage.wn.com/article/400925813',\n",
       " 'manage.wn.com/article/400900314',\n",
       " 'manage.wn.com/article/400909972',\n",
       " 'manage.wn.com/article/400880910',\n",
       " 'manage.wn.com/article/400926100',\n",
       " 'manage.wn.com/article/400664445',\n",
       " 'manage.wn.com/article/400665243',\n",
       " 'manage.wn.com/article/400969460',\n",
       " 'manage.wn.com/article/400972582',\n",
       " 'manage.wn.com/article/400959413',\n",
       " 'manage.wn.com/article/400646883',\n",
       " 'manage.wn.com/article/400894173',\n",
       " 'manage.wn.com/article/400934645',\n",
       " 'manage.wn.com/article/400945989',\n",
       " 'manage.wn.com/article/400644202',\n",
       " 'manage.wn.com/article/400897807',\n",
       " 'manage.wn.com/article/400574585',\n",
       " 'manage.wn.com/article/400937891',\n",
       " 'manage.wn.com/article/400906135',\n",
       " 'manage.wn.com/article/400916454',\n",
       " 'manage.wn.com/article/400944031',\n",
       " 'manage.wn.com/article/400918023',\n",
       " 'manage.wn.com/article/400893920',\n",
       " 'manage.wn.com/article/400834808',\n",
       " 'manage.wn.com/article/400704558',\n",
       " 'manage.wn.com/article/400918638',\n",
       " 'manage.wn.com/article/400942422',\n",
       " 'manage.wn.com/article/400655017',\n",
       " 'manage.wn.com/article/400947494',\n",
       " 'manage.wn.com/article/400895158',\n",
       " 'manage.wn.com/article/400884202',\n",
       " 'manage.wn.com/article/400780042',\n",
       " 'manage.wn.com/article/400925399',\n",
       " 'manage.wn.com/article/400673866',\n",
       " 'manage.wn.com/article/400897542',\n",
       " 'manage.wn.com/article/400921329',\n",
       " 'manage.wn.com/article/400972085',\n",
       " 'manage.wn.com/article/400923300',\n",
       " 'manage.wn.com/article/400981346',\n",
       " 'manage.wn.com/article/400897904',\n",
       " 'manage.wn.com/article/400967747',\n",
       " 'manage.wn.com/article/400905631',\n",
       " 'manage.wn.com/article/400901436',\n",
       " 'manage.wn.com/article/400939366',\n",
       " 'manage.wn.com/article/400919883',\n",
       " 'manage.wn.com/article/400935901',\n",
       " 'manage.wn.com/article/400986199',\n",
       " 'manage.wn.com/article/400950906',\n",
       " 'manage.wn.com/article/400533429',\n",
       " 'manage.wn.com/article/400696223',\n",
       " 'manage.wn.com/article/400909431',\n",
       " 'manage.wn.com/article/400943668',\n",
       " 'manage.wn.com/article/400907036',\n",
       " 'manage.wn.com/article/400572320',\n",
       " 'manage.wn.com/article/400934699',\n",
       " 'manage.wn.com/article/400901887',\n",
       " 'manage.wn.com/article/400592611',\n",
       " 'manage.wn.com/article/400914140',\n",
       " 'manage.wn.com/article/400954340',\n",
       " 'manage.wn.com/article/400905076',\n",
       " 'manage.wn.com/article/400977979',\n",
       " 'manage.wn.com/article/400810018',\n",
       " 'manage.wn.com/article/400651865',\n",
       " 'manage.wn.com/article/400761394',\n",
       " 'manage.wn.com/article/400916408',\n",
       " 'manage.wn.com/article/400967832',\n",
       " 'manage.wn.com/article/400644308',\n",
       " 'manage.wn.com/article/400939875',\n",
       " 'manage.wn.com/article/400815647',\n",
       " 'manage.wn.com/article/400902926',\n",
       " 'manage.wn.com/article/400969252',\n",
       " 'manage.wn.com/article/400973889',\n",
       " 'manage.wn.com/article/400813597',\n",
       " 'manage.wn.com/article/400894216',\n",
       " 'manage.wn.com/article/400903341',\n",
       " 'manage.wn.com/article/400855851',\n",
       " 'manage.wn.com/article/400905447',\n",
       " 'manage.wn.com/article/400766526',\n",
       " 'manage.wn.com/article/400898297',\n",
       " 'manage.wn.com/article/400953918',\n",
       " 'manage.wn.com/article/400956769',\n",
       " 'manage.wn.com/article/400916310',\n",
       " 'manage.wn.com/article/400894153',\n",
       " 'manage.wn.com/article/400915371',\n",
       " 'manage.wn.com/article/400949975',\n",
       " 'manage.wn.com/article/400901879',\n",
       " 'manage.wn.com/article/400975940',\n",
       " 'manage.wn.com/article/400982352',\n",
       " 'manage.wn.com/article/400895907',\n",
       " 'manage.wn.com/article/400932710',\n",
       " 'manage.wn.com/article/400926627',\n",
       " 'manage.wn.com/article/400894952',\n",
       " 'manage.wn.com/article/400927321',\n",
       " 'manage.wn.com/article/400972193',\n",
       " 'manage.wn.com/article/400914149',\n",
       " 'manage.wn.com/article/400916088',\n",
       " 'manage.wn.com/article/400927791',\n",
       " 'manage.wn.com/article/400895962',\n",
       " 'manage.wn.com/article/400917095',\n",
       " 'manage.wn.com/article/400901345',\n",
       " 'manage.wn.com/article/400949147',\n",
       " 'manage.wn.com/article/400786514',\n",
       " 'manage.wn.com/article/400925148',\n",
       " 'manage.wn.com/article/400900306',\n",
       " 'manage.wn.com/article/400977398',\n",
       " 'manage.wn.com/article/400896379',\n",
       " 'manage.wn.com/article/400713305',\n",
       " 'manage.wn.com/article/400710299',\n",
       " 'manage.wn.com/article/400900352',\n",
       " 'manage.wn.com/article/400976673',\n",
       " 'manage.wn.com/article/400620994',\n",
       " 'manage.wn.com/article/400932154',\n",
       " 'manage.wn.com/article/400980897',\n",
       " 'manage.wn.com/article/400728699',\n",
       " 'manage.wn.com/article/400885369',\n",
       " 'manage.wn.com/article/400968413',\n",
       " 'manage.wn.com/article/400893925',\n",
       " 'manage.wn.com/article/400930725',\n",
       " 'manage.wn.com/article/400908154',\n",
       " 'manage.wn.com/article/400514344',\n",
       " 'manage.wn.com/article/400961599',\n",
       " 'manage.wn.com/article/400916536',\n",
       " 'manage.wn.com/article/400797822',\n",
       " 'manage.wn.com/article/400979377',\n",
       " 'manage.wn.com/article/400956989',\n",
       " 'manage.wn.com/article/400964242',\n",
       " 'manage.wn.com/article/400871558',\n",
       " 'manage.wn.com/article/400757422',\n",
       " 'manage.wn.com/article/400931110',\n",
       " 'manage.wn.com/article/400950961',\n",
       " 'manage.wn.com/article/400897834',\n",
       " 'manage.wn.com/article/400921440',\n",
       " 'manage.wn.com/article/400822786',\n",
       " 'manage.wn.com/article/400646031',\n",
       " 'manage.wn.com/article/400899731',\n",
       " 'manage.wn.com/article/400823007',\n",
       " 'manage.wn.com/article/400792761',\n",
       " 'manage.wn.com/article/400912948',\n",
       " 'manage.wn.com/article/400666254',\n",
       " 'manage.wn.com/article/400949346',\n",
       " 'manage.wn.com/article/400928132',\n",
       " 'manage.wn.com/article/400833977',\n",
       " 'manage.wn.com/article/400799427',\n",
       " 'manage.wn.com/article/400756527',\n",
       " 'manage.wn.com/article/400915268',\n",
       " 'manage.wn.com/article/400900435',\n",
       " 'manage.wn.com/article/400902041',\n",
       " 'manage.wn.com/article/400942248',\n",
       " 'manage.wn.com/article/400904440',\n",
       " 'manage.wn.com/article/400896890',\n",
       " 'manage.wn.com/article/400673726',\n",
       " 'manage.wn.com/article/400900270',\n",
       " 'manage.wn.com/article/400789046',\n",
       " 'manage.wn.com/article/400490364',\n",
       " 'manage.wn.com/article/400913769',\n",
       " 'manage.wn.com/article/400922748',\n",
       " 'manage.wn.com/article/400768128',\n",
       " 'manage.wn.com/article/400928571',\n",
       " 'manage.wn.com/article/400947513',\n",
       " 'manage.wn.com/article/400660177',\n",
       " 'manage.wn.com/article/400899739',\n",
       " 'manage.wn.com/article/400916119',\n",
       " 'manage.wn.com/article/400876073',\n",
       " 'manage.wn.com/article/400843844',\n",
       " 'manage.wn.com/article/400893781',\n",
       " 'manage.wn.com/article/400799246',\n",
       " 'manage.wn.com/article/400978809',\n",
       " 'manage.wn.com/article/400862830',\n",
       " 'manage.wn.com/article/400941813',\n",
       " 'manage.wn.com/article/400945772',\n",
       " 'manage.wn.com/article/400656402',\n",
       " 'manage.wn.com/article/400911274',\n",
       " 'manage.wn.com/article/400934093',\n",
       " 'manage.wn.com/article/400971413',\n",
       " 'manage.wn.com/article/400537646',\n",
       " 'manage.wn.com/article/400948076',\n",
       " 'manage.wn.com/article/400972494',\n",
       " 'manage.wn.com/article/400953735',\n",
       " 'manage.wn.com/article/400974158',\n",
       " 'manage.wn.com/article/400934633',\n",
       " 'manage.wn.com/article/400967745',\n",
       " 'manage.wn.com/article/400745463',\n",
       " 'manage.wn.com/article/400898861',\n",
       " 'manage.wn.com/article/400919341',\n",
       " 'manage.wn.com/article/400930710',\n",
       " 'manage.wn.com/article/400898386',\n",
       " 'manage.wn.com/article/400810454',\n",
       " 'manage.wn.com/article/400903558',\n",
       " 'manage.wn.com/article/400911254',\n",
       " 'manage.wn.com/article/400533863',\n",
       " 'manage.wn.com/article/400956064',\n",
       " 'manage.wn.com/article/400926188',\n",
       " 'manage.wn.com/article/400976656',\n",
       " 'manage.wn.com/article/400642642',\n",
       " 'manage.wn.com/article/400972504',\n",
       " 'manage.wn.com/article/400940339',\n",
       " 'manage.wn.com/article/400894067',\n",
       " 'manage.wn.com/article/400804282',\n",
       " 'manage.wn.com/article/400951061',\n",
       " 'manage.wn.com/article/400833759',\n",
       " 'manage.wn.com/article/400965809',\n",
       " 'manage.wn.com/article/400975671',\n",
       " 'manage.wn.com/article/400896752',\n",
       " 'manage.wn.com/article/400920618',\n",
       " 'manage.wn.com/article/400523261',\n",
       " 'manage.wn.com/article/400894997',\n",
       " 'manage.wn.com/article/400949174',\n",
       " 'manage.wn.com/article/400928519',\n",
       " 'manage.wn.com/article/400953431',\n",
       " 'manage.wn.com/article/400958096',\n",
       " 'manage.wn.com/article/400982753',\n",
       " 'manage.wn.com/article/400967240',\n",
       " 'manage.wn.com/article/400539317',\n",
       " 'manage.wn.com/article/400877317',\n",
       " 'manage.wn.com/article/400893701',\n",
       " 'manage.wn.com/article/400967949',\n",
       " 'manage.wn.com/article/400918974',\n",
       " 'manage.wn.com/article/400959587',\n",
       " 'manage.wn.com/article/400883351',\n",
       " 'manage.wn.com/article/400902930',\n",
       " 'manage.wn.com/article/400924415',\n",
       " 'manage.wn.com/article/400911545',\n",
       " 'manage.wn.com/article/400916810',\n",
       " 'manage.wn.com/article/400902424',\n",
       " 'manage.wn.com/article/400912768',\n",
       " 'manage.wn.com/article/400930802',\n",
       " 'manage.wn.com/article/400942526',\n",
       " 'manage.wn.com/article/400895756',\n",
       " 'manage.wn.com/article/400947138',\n",
       " 'manage.wn.com/article/400654071',\n",
       " 'manage.wn.com/article/400802339',\n",
       " 'manage.wn.com/article/400912693',\n",
       " 'manage.wn.com/article/400657780',\n",
       " 'manage.wn.com/article/400977162',\n",
       " 'manage.wn.com/article/400947533',\n",
       " 'manage.wn.com/article/400959204',\n",
       " 'manage.wn.com/article/400912885',\n",
       " 'manage.wn.com/article/400754049',\n",
       " 'manage.wn.com/article/400903190',\n",
       " 'manage.wn.com/article/400949151',\n",
       " 'manage.wn.com/article/400895936',\n",
       " 'manage.wn.com/article/400976799',\n",
       " 'manage.wn.com/article/400933670',\n",
       " 'manage.wn.com/article/400939133',\n",
       " 'manage.wn.com/article/400853623',\n",
       " 'manage.wn.com/article/400680185',\n",
       " 'manage.wn.com/article/400956894',\n",
       " 'manage.wn.com/article/400919429',\n",
       " 'manage.wn.com/article/400896705',\n",
       " 'manage.wn.com/article/400577315',\n",
       " 'manage.wn.com/article/400901406',\n",
       " 'manage.wn.com/article/400937455',\n",
       " 'manage.wn.com/article/400896097',\n",
       " 'manage.wn.com/article/400571479',\n",
       " 'manage.wn.com/article/400902037',\n",
       " 'manage.wn.com/article/400900338',\n",
       " 'manage.wn.com/article/400738605',\n",
       " 'manage.wn.com/article/400929755',\n",
       " 'manage.wn.com/article/400548114',\n",
       " 'manage.wn.com/article/400939296',\n",
       " 'manage.wn.com/article/400950991',\n",
       " 'manage.wn.com/article/400979713',\n",
       " 'manage.wn.com/article/400930713',\n",
       " 'manage.wn.com/article/400776281',\n",
       " 'manage.wn.com/article/400960891',\n",
       " 'manage.wn.com/article/400918991',\n",
       " 'manage.wn.com/article/400939873',\n",
       " 'manage.wn.com/article/400947877',\n",
       " 'manage.wn.com/article/400699650',\n",
       " 'manage.wn.com/article/400921360',\n",
       " 'manage.wn.com/article/400966903',\n",
       " 'manage.wn.com/article/400690484',\n",
       " 'manage.wn.com/article/400899784',\n",
       " 'manage.wn.com/article/400965559',\n",
       " 'manage.wn.com/article/400918724',\n",
       " 'manage.wn.com/article/400898072',\n",
       " 'manage.wn.com/article/400656103',\n",
       " 'manage.wn.com/article/400923002',\n",
       " 'manage.wn.com/article/400894697',\n",
       " 'manage.wn.com/article/400914241',\n",
       " 'manage.wn.com/article/400901346',\n",
       " 'manage.wn.com/article/400894586',\n",
       " 'manage.wn.com/article/400929008',\n",
       " 'manage.wn.com/article/400978360',\n",
       " 'manage.wn.com/article/400977097',\n",
       " 'manage.wn.com/article/400978928',\n",
       " 'manage.wn.com/article/400983778',\n",
       " 'manage.wn.com/article/400834704',\n",
       " 'manage.wn.com/article/400970691',\n",
       " 'manage.wn.com/article/400938509',\n",
       " 'manage.wn.com/article/400667535',\n",
       " 'manage.wn.com/article/400847768',\n",
       " 'manage.wn.com/article/400830461',\n",
       " 'manage.wn.com/article/400746943',\n",
       " 'manage.wn.com/article/400707798',\n",
       " 'manage.wn.com/article/400963277',\n",
       " 'manage.wn.com/article/400900272',\n",
       " 'manage.wn.com/article/400847719',\n",
       " 'manage.wn.com/article/400652524',\n",
       " 'manage.wn.com/article/400976735',\n",
       " 'manage.wn.com/article/400908116',\n",
       " 'manage.wn.com/article/400778733',\n",
       " 'manage.wn.com/article/400969693',\n",
       " 'manage.wn.com/article/400810813',\n",
       " 'manage.wn.com/article/400968086',\n",
       " 'manage.wn.com/article/400898785',\n",
       " 'manage.wn.com/article/400845136',\n",
       " 'manage.wn.com/article/400894727',\n",
       " 'manage.wn.com/article/400916680',\n",
       " 'manage.wn.com/article/400865484',\n",
       " 'manage.wn.com/article/400910843',\n",
       " 'manage.wn.com/article/400898663',\n",
       " 'manage.wn.com/article/400901320',\n",
       " 'manage.wn.com/article/400977141',\n",
       " 'manage.wn.com/article/400909756',\n",
       " 'manage.wn.com/article/400974157',\n",
       " 'manage.wn.com/article/400973967',\n",
       " 'manage.wn.com/article/400894285',\n",
       " 'manage.wn.com/article/400937404',\n",
       " 'manage.wn.com/article/400980166',\n",
       " 'manage.wn.com/article/400753914',\n",
       " 'manage.wn.com/article/400908307',\n",
       " 'manage.wn.com/article/400942676',\n",
       " 'manage.wn.com/article/400745175',\n",
       " 'manage.wn.com/article/400928546',\n",
       " 'manage.wn.com/article/400950855',\n",
       " 'manage.wn.com/article/400877916',\n",
       " 'manage.wn.com/article/400903236',\n",
       " 'manage.wn.com/article/400918494',\n",
       " 'manage.wn.com/article/400977029',\n",
       " 'manage.wn.com/article/400940270',\n",
       " 'manage.wn.com/article/400900323',\n",
       " 'manage.wn.com/article/400930256',\n",
       " 'manage.wn.com/article/400919021',\n",
       " 'manage.wn.com/article/400959537',\n",
       " 'manage.wn.com/article/400953461',\n",
       " 'manage.wn.com/article/400785967',\n",
       " 'manage.wn.com/article/400928423',\n",
       " 'manage.wn.com/article/400745259',\n",
       " 'manage.wn.com/article/400977120',\n",
       " 'manage.wn.com/article/400895888',\n",
       " 'manage.wn.com/article/400975430',\n",
       " 'manage.wn.com/article/400909853',\n",
       " 'manage.wn.com/article/400974945',\n",
       " 'manage.wn.com/article/400948888',\n",
       " 'manage.wn.com/article/400551833',\n",
       " 'manage.wn.com/article/400961253',\n",
       " 'manage.wn.com/article/400913798',\n",
       " 'manage.wn.com/article/400866581',\n",
       " 'manage.wn.com/article/400969511',\n",
       " 'manage.wn.com/article/400903111',\n",
       " 'manage.wn.com/article/400686567',\n",
       " 'manage.wn.com/article/400964247',\n",
       " 'manage.wn.com/article/400897531',\n",
       " 'manage.wn.com/article/400901841',\n",
       " 'manage.wn.com/article/400515996',\n",
       " 'manage.wn.com/article/400646872',\n",
       " 'manage.wn.com/article/400916975',\n",
       " 'manage.wn.com/article/400895908',\n",
       " 'manage.wn.com/article/400977236',\n",
       " 'manage.wn.com/article/400904215',\n",
       " 'manage.wn.com/article/400896670',\n",
       " 'manage.wn.com/article/400929128',\n",
       " 'manage.wn.com/article/400943532',\n",
       " 'manage.wn.com/article/400980211',\n",
       " 'manage.wn.com/article/400839258',\n",
       " 'manage.wn.com/article/400812269',\n",
       " 'manage.wn.com/article/400756534',\n",
       " 'manage.wn.com/article/400930027',\n",
       " 'manage.wn.com/article/400847247',\n",
       " 'manage.wn.com/article/400925167',\n",
       " 'manage.wn.com/article/400894782',\n",
       " 'manage.wn.com/article/400813747',\n",
       " 'manage.wn.com/article/400900329',\n",
       " 'manage.wn.com/article/400799377',\n",
       " 'manage.wn.com/article/400928544',\n",
       " 'manage.wn.com/article/400549336',\n",
       " 'manage.wn.com/article/400665976',\n",
       " 'manage.wn.com/article/400926545',\n",
       " 'manage.wn.com/article/400678417',\n",
       " 'manage.wn.com/article/400940570',\n",
       " 'manage.wn.com/article/400948388',\n",
       " 'manage.wn.com/article/400930032',\n",
       " 'manage.wn.com/article/400977972',\n",
       " 'manage.wn.com/article/400942041',\n",
       " 'manage.wn.com/article/400718139',\n",
       " 'manage.wn.com/article/400969432',\n",
       " 'manage.wn.com/article/400903695',\n",
       " 'manage.wn.com/article/400942693',\n",
       " 'manage.wn.com/article/400913775',\n",
       " 'manage.wn.com/article/400956355',\n",
       " 'manage.wn.com/article/400949132',\n",
       " 'manage.wn.com/article/400925917',\n",
       " 'manage.wn.com/article/400913113',\n",
       " 'manage.wn.com/article/400952425',\n",
       " 'manage.wn.com/article/400896814',\n",
       " 'manage.wn.com/article/400934095',\n",
       " 'manage.wn.com/article/400907086',\n",
       " 'manage.wn.com/article/400655987',\n",
       " 'manage.wn.com/article/400966292',\n",
       " 'manage.wn.com/article/400897408',\n",
       " 'manage.wn.com/article/400921605',\n",
       " 'manage.wn.com/article/400890977',\n",
       " 'manage.wn.com/article/400896704',\n",
       " 'manage.wn.com/article/400894671',\n",
       " 'manage.wn.com/article/400944505',\n",
       " 'manage.wn.com/article/400929525',\n",
       " 'manage.wn.com/article/400580600',\n",
       " 'manage.wn.com/article/400947258',\n",
       " 'manage.wn.com/article/400903272',\n",
       " 'manage.wn.com/article/400969328',\n",
       " 'manage.wn.com/article/400966360',\n",
       " 'manage.wn.com/article/400894571',\n",
       " 'manage.wn.com/article/400979998',\n",
       " 'manage.wn.com/article/400894128',\n",
       " 'manage.wn.com/article/400936415',\n",
       " 'manage.wn.com/article/400954859',\n",
       " 'manage.wn.com/article/400769398',\n",
       " 'manage.wn.com/article/400901388',\n",
       " 'manage.wn.com/article/400893746',\n",
       " 'manage.wn.com/article/400865406',\n",
       " 'manage.wn.com/article/400899666',\n",
       " 'manage.wn.com/article/400639853',\n",
       " 'manage.wn.com/article/400690201',\n",
       " 'manage.wn.com/article/400972965',\n",
       " 'manage.wn.com/article/400939243',\n",
       " 'manage.wn.com/article/400921923',\n",
       " 'manage.wn.com/article/400974228',\n",
       " 'manage.wn.com/article/400977389',\n",
       " 'manage.wn.com/article/400931246',\n",
       " 'manage.wn.com/article/400898446',\n",
       " 'manage.wn.com/article/400504207',\n",
       " 'manage.wn.com/article/400900376',\n",
       " 'manage.wn.com/article/400695389',\n",
       " 'manage.wn.com/article/400941805',\n",
       " 'manage.wn.com/article/400906880',\n",
       " 'manage.wn.com/article/400897353',\n",
       " 'manage.wn.com/article/400979258',\n",
       " 'manage.wn.com/article/397858114',\n",
       " 'manage.wn.com/article/400651787',\n",
       " 'manage.wn.com/article/400930652',\n",
       " 'manage.wn.com/article/400977232',\n",
       " 'manage.wn.com/article/400974152',\n",
       " 'manage.wn.com/article/400745267',\n",
       " 'manage.wn.com/article/400971266',\n",
       " 'manage.wn.com/article/400947666',\n",
       " 'manage.wn.com/article/400949128',\n",
       " 'manage.wn.com/article/400979454',\n",
       " 'manage.wn.com/article/400943002',\n",
       " 'manage.wn.com/article/400932379',\n",
       " 'manage.wn.com/article/400769425',\n",
       " 'manage.wn.com/article/400929526',\n",
       " 'manage.wn.com/article/400896176',\n",
       " 'manage.wn.com/article/400925778',\n",
       " 'manage.wn.com/article/400812298',\n",
       " 'manage.wn.com/article/400907606',\n",
       " 'manage.wn.com/article/400906923',\n",
       " 'manage.wn.com/article/400893692',\n",
       " 'manage.wn.com/article/400900064',\n",
       " 'manage.wn.com/article/400900068',\n",
       " 'manage.wn.com/article/400900283',\n",
       " 'manage.wn.com/article/400822789',\n",
       " 'manage.wn.com/article/400874636',\n",
       " 'manage.wn.com/article/400674540',\n",
       " 'manage.wn.com/article/400896495',\n",
       " 'manage.wn.com/article/400896606',\n",
       " 'manage.wn.com/article/400935238',\n",
       " 'manage.wn.com/article/400946684',\n",
       " 'manage.wn.com/article/400949098',\n",
       " 'manage.wn.com/article/400957050',\n",
       " 'manage.wn.com/article/400918976',\n",
       " 'manage.wn.com/article/400968077',\n",
       " 'manage.wn.com/article/400726252',\n",
       " 'manage.wn.com/article/400950425',\n",
       " 'manage.wn.com/article/400913026',\n",
       " 'manage.wn.com/article/400937668',\n",
       " 'manage.wn.com/article/400913773',\n",
       " 'manage.wn.com/article/400655381',\n",
       " 'manage.wn.com/article/400908141',\n",
       " 'manage.wn.com/article/400976749',\n",
       " 'manage.wn.com/article/400833135',\n",
       " 'manage.wn.com/article/400639168',\n",
       " 'manage.wn.com/article/400916973',\n",
       " 'manage.wn.com/article/400795185',\n",
       " 'manage.wn.com/article/400971006',\n",
       " 'manage.wn.com/article/400920535',\n",
       " 'manage.wn.com/article/400652392',\n",
       " 'manage.wn.com/article/400904252',\n",
       " 'manage.wn.com/article/400932338',\n",
       " 'manage.wn.com/article/400793757',\n",
       " 'manage.wn.com/article/400810144',\n",
       " 'manage.wn.com/article/400961252',\n",
       " 'manage.wn.com/article/400949084',\n",
       " 'manage.wn.com/article/400889869',\n",
       " 'manage.wn.com/article/400974095',\n",
       " 'manage.wn.com/article/400977996',\n",
       " 'manage.wn.com/article/400908150',\n",
       " 'manage.wn.com/article/400954284',\n",
       " 'manage.wn.com/article/400491733',\n",
       " 'manage.wn.com/article/400895801',\n",
       " 'manage.wn.com/article/400900328',\n",
       " 'manage.wn.com/article/400894590',\n",
       " 'manage.wn.com/article/400978237',\n",
       " 'manage.wn.com/article/400767132',\n",
       " 'manage.wn.com/article/400950355',\n",
       " 'manage.wn.com/article/400894313',\n",
       " 'manage.wn.com/article/400943667',\n",
       " 'manage.wn.com/article/400917555',\n",
       " 'manage.wn.com/article/400862624',\n",
       " 'manage.wn.com/article/400959275',\n",
       " 'manage.wn.com/article/400954299',\n",
       " 'manage.wn.com/article/400945664',\n",
       " 'manage.wn.com/article/400948183',\n",
       " 'manage.wn.com/article/400716977',\n",
       " 'manage.wn.com/article/400965509',\n",
       " 'manage.wn.com/article/400979792',\n",
       " 'manage.wn.com/article/400885044',\n",
       " 'manage.wn.com/article/400871623',\n",
       " 'manage.wn.com/article/400903703',\n",
       " 'manage.wn.com/article/400896555',\n",
       " 'manage.wn.com/article/400907287',\n",
       " 'manage.wn.com/article/400759092',\n",
       " 'manage.wn.com/article/400580893',\n",
       " 'manage.wn.com/article/400575352',\n",
       " 'manage.wn.com/article/400916821',\n",
       " 'manage.wn.com/article/400931024',\n",
       " 'manage.wn.com/article/400638218',\n",
       " 'manage.wn.com/article/400896715',\n",
       " 'manage.wn.com/article/400895899',\n",
       " 'manage.wn.com/article/400898333',\n",
       " 'manage.wn.com/article/400916474',\n",
       " 'manage.wn.com/article/400867668',\n",
       " 'manage.wn.com/article/400974668',\n",
       " 'manage.wn.com/article/400894043',\n",
       " 'manage.wn.com/article/400960676',\n",
       " 'manage.wn.com/article/400919939',\n",
       " 'manage.wn.com/article/400897984',\n",
       " 'manage.wn.com/article/400768688',\n",
       " 'manage.wn.com/article/400960098',\n",
       " 'manage.wn.com/article/400914260',\n",
       " 'manage.wn.com/article/400923532',\n",
       " 'manage.wn.com/article/400876789',\n",
       " 'manage.wn.com/article/400902056',\n",
       " 'manage.wn.com/article/400976213',\n",
       " 'manage.wn.com/article/400965783',\n",
       " 'manage.wn.com/article/400936751',\n",
       " 'manage.wn.com/article/400646827',\n",
       " 'manage.wn.com/article/400533278',\n",
       " 'manage.wn.com/article/400977170',\n",
       " 'manage.wn.com/article/400893143',\n",
       " 'manage.wn.com/article/400896730',\n",
       " 'manage.wn.com/article/400896703',\n",
       " 'manage.wn.com/article/400957030',\n",
       " 'manage.wn.com/article/400662215',\n",
       " 'manage.wn.com/article/400553720',\n",
       " 'manage.wn.com/article/400638297',\n",
       " 'manage.wn.com/article/400711489',\n",
       " 'manage.wn.com/article/400895771',\n",
       " 'manage.wn.com/article/400949345',\n",
       " 'manage.wn.com/article/400937023',\n",
       " 'manage.wn.com/article/400663551',\n",
       " 'manage.wn.com/article/400907195',\n",
       " 'manage.wn.com/article/400979145',\n",
       " 'manage.wn.com/article/400942912',\n",
       " 'manage.wn.com/article/400900961',\n",
       " 'manage.wn.com/article/400895974',\n",
       " 'manage.wn.com/article/400942352',\n",
       " 'manage.wn.com/article/400962245',\n",
       " 'manage.wn.com/article/400919141',\n",
       " 'manage.wn.com/article/400896682',\n",
       " 'manage.wn.com/article/400517755',\n",
       " 'manage.wn.com/article/400927517',\n",
       " 'manage.wn.com/article/400936665',\n",
       " 'manage.wn.com/article/400894690',\n",
       " 'manage.wn.com/article/400900459',\n",
       " 'manage.wn.com/article/400516989',\n",
       " 'manage.wn.com/article/400678475',\n",
       " 'manage.wn.com/article/400873410',\n",
       " 'manage.wn.com/article/400962003',\n",
       " 'manage.wn.com/article/400933664',\n",
       " 'manage.wn.com/article/400959651',\n",
       " 'manage.wn.com/article/400967696',\n",
       " 'manage.wn.com/article/400908954',\n",
       " 'manage.wn.com/article/400972952',\n",
       " 'manage.wn.com/article/400881804',\n",
       " 'manage.wn.com/article/400930121',\n",
       " 'manage.wn.com/article/400925428',\n",
       " 'manage.wn.com/article/400966153',\n",
       " 'manage.wn.com/article/400944121',\n",
       " 'manage.wn.com/article/400842359',\n",
       " 'manage.wn.com/article/400756549',\n",
       " 'manage.wn.com/article/400944039',\n",
       " 'manage.wn.com/article/400597365',\n",
       " 'manage.wn.com/article/400903185',\n",
       " 'manage.wn.com/article/400907898',\n",
       " 'manage.wn.com/article/400712599',\n",
       " 'manage.wn.com/article/400969249',\n",
       " 'manage.wn.com/article/400900335',\n",
       " 'manage.wn.com/article/400917678',\n",
       " 'manage.wn.com/article/400712216',\n",
       " 'manage.wn.com/article/400899643',\n",
       " 'manage.wn.com/article/400951346',\n",
       " 'manage.wn.com/article/400916419',\n",
       " 'manage.wn.com/article/400722055',\n",
       " 'manage.wn.com/article/400900343',\n",
       " 'manage.wn.com/article/400922988',\n",
       " ...]"
      ]
     },
     "execution_count": 91,
     "metadata": {},
     "output_type": "execute_result"
    }
   ],
   "source": [
    "article_df[article_df.title == ''].canonicalUrl.tolist()"
   ]
  },
  {
   "cell_type": "code",
   "execution_count": 93,
   "metadata": {
    "ExecuteTime": {
     "end_time": "2019-10-28T00:10:59.756428Z",
     "start_time": "2019-10-28T00:10:59.752449Z"
    }
   },
   "outputs": [],
   "source": [
    "from sklearn.neighbors import NearestNeighbors"
   ]
  },
  {
   "cell_type": "code",
   "execution_count": 95,
   "metadata": {
    "ExecuteTime": {
     "end_time": "2019-10-28T00:11:15.935620Z",
     "start_time": "2019-10-28T00:11:12.305807Z"
    }
   },
   "outputs": [],
   "source": [
    "nn = NearestNeighbors().fit(emb_df)"
   ]
  },
  {
   "cell_type": "code",
   "execution_count": 96,
   "metadata": {
    "ExecuteTime": {
     "end_time": "2019-10-28T00:11:22.397036Z",
     "start_time": "2019-10-28T00:11:22.373085Z"
    }
   },
   "outputs": [
    {
     "data": {
      "text/html": [
       "<div>\n",
       "<style scoped>\n",
       "    .dataframe tbody tr th:only-of-type {\n",
       "        vertical-align: middle;\n",
       "    }\n",
       "\n",
       "    .dataframe tbody tr th {\n",
       "        vertical-align: top;\n",
       "    }\n",
       "\n",
       "    .dataframe thead th {\n",
       "        text-align: right;\n",
       "    }\n",
       "</style>\n",
       "<table border=\"1\" class=\"dataframe\">\n",
       "  <thead>\n",
       "    <tr style=\"text-align: right;\">\n",
       "      <th></th>\n",
       "      <th>0</th>\n",
       "      <th>1</th>\n",
       "      <th>2</th>\n",
       "      <th>3</th>\n",
       "      <th>4</th>\n",
       "      <th>5</th>\n",
       "      <th>6</th>\n",
       "      <th>7</th>\n",
       "      <th>8</th>\n",
       "      <th>9</th>\n",
       "      <th>...</th>\n",
       "      <th>90</th>\n",
       "      <th>91</th>\n",
       "      <th>92</th>\n",
       "      <th>93</th>\n",
       "      <th>94</th>\n",
       "      <th>95</th>\n",
       "      <th>96</th>\n",
       "      <th>97</th>\n",
       "      <th>98</th>\n",
       "      <th>99</th>\n",
       "    </tr>\n",
       "  </thead>\n",
       "  <tbody>\n",
       "    <tr>\n",
       "      <td>28240</td>\n",
       "      <td>0.052505</td>\n",
       "      <td>0.081911</td>\n",
       "      <td>0.146123</td>\n",
       "      <td>-0.077288</td>\n",
       "      <td>-0.070794</td>\n",
       "      <td>0.023398</td>\n",
       "      <td>-0.273355</td>\n",
       "      <td>0.045487</td>\n",
       "      <td>0.0724</td>\n",
       "      <td>-0.122332</td>\n",
       "      <td>...</td>\n",
       "      <td>-0.231833</td>\n",
       "      <td>0.127755</td>\n",
       "      <td>0.072807</td>\n",
       "      <td>-0.309596</td>\n",
       "      <td>-0.24348</td>\n",
       "      <td>-0.015605</td>\n",
       "      <td>0.123577</td>\n",
       "      <td>-0.11049</td>\n",
       "      <td>0.338282</td>\n",
       "      <td>0.015329</td>\n",
       "    </tr>\n",
       "  </tbody>\n",
       "</table>\n",
       "<p>1 rows × 100 columns</p>\n",
       "</div>"
      ],
      "text/plain": [
       "              0         1         2         3         4         5         6  \\\n",
       "28240  0.052505  0.081911  0.146123 -0.077288 -0.070794  0.023398 -0.273355   \n",
       "\n",
       "              7       8         9  ...        90        91        92  \\\n",
       "28240  0.045487  0.0724 -0.122332  ... -0.231833  0.127755  0.072807   \n",
       "\n",
       "             93       94        95        96       97        98        99  \n",
       "28240 -0.309596 -0.24348 -0.015605  0.123577 -0.11049  0.338282  0.015329  \n",
       "\n",
       "[1 rows x 100 columns]"
      ]
     },
     "execution_count": 96,
     "metadata": {},
     "output_type": "execute_result"
    }
   ],
   "source": [
    "sample = emb_df.sample(); sample"
   ]
  },
  {
   "cell_type": "code",
   "execution_count": 97,
   "metadata": {
    "ExecuteTime": {
     "end_time": "2019-10-28T00:11:30.106441Z",
     "start_time": "2019-10-28T00:11:30.095471Z"
    }
   },
   "outputs": [
    {
     "data": {
      "text/html": [
       "<div>\n",
       "<style scoped>\n",
       "    .dataframe tbody tr th:only-of-type {\n",
       "        vertical-align: middle;\n",
       "    }\n",
       "\n",
       "    .dataframe tbody tr th {\n",
       "        vertical-align: top;\n",
       "    }\n",
       "\n",
       "    .dataframe thead th {\n",
       "        text-align: right;\n",
       "    }\n",
       "</style>\n",
       "<table border=\"1\" class=\"dataframe\">\n",
       "  <thead>\n",
       "    <tr style=\"text-align: right;\">\n",
       "      <th></th>\n",
       "      <th>pubId</th>\n",
       "      <th>canonicalUrl</th>\n",
       "      <th>firstScrape</th>\n",
       "      <th>title</th>\n",
       "      <th>text</th>\n",
       "      <th>lang_reliability</th>\n",
       "    </tr>\n",
       "  </thead>\n",
       "  <tbody>\n",
       "    <tr>\n",
       "      <td>28432</td>\n",
       "      <td>20</td>\n",
       "      <td>reddit.com/user/throwaway12534968</td>\n",
       "      <td>7/19/2018 7:52:21 AM -04:00</td>\n",
       "      <td>Throwaway12534968 (u/Throwaway12534968) - Reddit</td>\n",
       "      <td>Press J to jump to the feed. Press question ma...</td>\n",
       "      <td>1</td>\n",
       "    </tr>\n",
       "  </tbody>\n",
       "</table>\n",
       "</div>"
      ],
      "text/plain": [
       "      pubId                       canonicalUrl                  firstScrape  \\\n",
       "28432    20  reddit.com/user/throwaway12534968  7/19/2018 7:52:21 AM -04:00   \n",
       "\n",
       "                                                  title  \\\n",
       "28432  Throwaway12534968 (u/Throwaway12534968) - Reddit   \n",
       "\n",
       "                                                    text lang_reliability  \n",
       "28432  Press J to jump to the feed. Press question ma...                1  "
      ]
     },
     "execution_count": 97,
     "metadata": {},
     "output_type": "execute_result"
    }
   ],
   "source": [
    "article_df.iloc[sample.index]"
   ]
  },
  {
   "cell_type": "code",
   "execution_count": 98,
   "metadata": {
    "ExecuteTime": {
     "end_time": "2019-10-28T00:11:50.791195Z",
     "start_time": "2019-10-28T00:11:50.719205Z"
    }
   },
   "outputs": [],
   "source": [
    "dist, indices = nn.kneighbors(sample)"
   ]
  },
  {
   "cell_type": "code",
   "execution_count": 99,
   "metadata": {
    "ExecuteTime": {
     "end_time": "2019-10-28T00:11:52.702005Z",
     "start_time": "2019-10-28T00:11:52.696026Z"
    }
   },
   "outputs": [
    {
     "data": {
      "text/plain": [
       "array([[28240, 91093, 67673, 67745, 49590]], dtype=int64)"
      ]
     },
     "execution_count": 99,
     "metadata": {},
     "output_type": "execute_result"
    }
   ],
   "source": [
    "indices"
   ]
  },
  {
   "cell_type": "code",
   "execution_count": 101,
   "metadata": {
    "ExecuteTime": {
     "end_time": "2019-10-28T00:12:02.832412Z",
     "start_time": "2019-10-28T00:12:02.816453Z"
    }
   },
   "outputs": [
    {
     "data": {
      "text/html": [
       "<div>\n",
       "<style scoped>\n",
       "    .dataframe tbody tr th:only-of-type {\n",
       "        vertical-align: middle;\n",
       "    }\n",
       "\n",
       "    .dataframe tbody tr th {\n",
       "        vertical-align: top;\n",
       "    }\n",
       "\n",
       "    .dataframe thead th {\n",
       "        text-align: right;\n",
       "    }\n",
       "</style>\n",
       "<table border=\"1\" class=\"dataframe\">\n",
       "  <thead>\n",
       "    <tr style=\"text-align: right;\">\n",
       "      <th></th>\n",
       "      <th>pubId</th>\n",
       "      <th>canonicalUrl</th>\n",
       "      <th>firstScrape</th>\n",
       "      <th>title</th>\n",
       "      <th>text</th>\n",
       "      <th>lang_reliability</th>\n",
       "    </tr>\n",
       "  </thead>\n",
       "  <tbody>\n",
       "    <tr>\n",
       "      <td>28432</td>\n",
       "      <td>20</td>\n",
       "      <td>reddit.com/user/throwaway12534968</td>\n",
       "      <td>7/19/2018 7:52:21 AM -04:00</td>\n",
       "      <td>Throwaway12534968 (u/Throwaway12534968) - Reddit</td>\n",
       "      <td>Press J to jump to the feed. Press question ma...</td>\n",
       "      <td>1</td>\n",
       "    </tr>\n",
       "    <tr>\n",
       "      <td>91945</td>\n",
       "      <td>6</td>\n",
       "      <td>yahoo.com/news/credit-card-issuers-paying-more...</td>\n",
       "      <td>7/19/2018 6:23:42 AM -04:00</td>\n",
       "      <td>Credit Card Issuers Paying More Than Ever in R...</td>\n",
       "      <td>Credit Card Issuers Paying More Than Ever in R...</td>\n",
       "      <td>1</td>\n",
       "    </tr>\n",
       "    <tr>\n",
       "      <td>68284</td>\n",
       "      <td>223</td>\n",
       "      <td>autoblog.com/used-detail--1646080708007474062-...</td>\n",
       "      <td>7/20/2018 4:53:24 AM -04:00</td>\n",
       "      <td>Paoli, PA</td>\n",
       "      <td>Use our calculator Apply for financing ### Sel...</td>\n",
       "      <td>1</td>\n",
       "    </tr>\n",
       "    <tr>\n",
       "      <td>68356</td>\n",
       "      <td>223</td>\n",
       "      <td>autoblog.com/used-detail-279455743251530903-do...</td>\n",
       "      <td>7/20/2018 5:08:22 AM -04:00</td>\n",
       "      <td>2018 Dodge Charger SXT for sale in Paoli, PA</td>\n",
       "      <td>Use our calculator Apply for financing ### Sel...</td>\n",
       "      <td>1</td>\n",
       "    </tr>\n",
       "    <tr>\n",
       "      <td>50006</td>\n",
       "      <td>813</td>\n",
       "      <td>forums.androidcentral.com/samsung-galaxy-note-...</td>\n",
       "      <td>7/19/2018 11:01:00 PM -04:00</td>\n",
       "      <td>Note 9 Promotions</td>\n",
       "      <td>Note 9 Promotions ### Originally Posted by jhi...</td>\n",
       "      <td>1</td>\n",
       "    </tr>\n",
       "  </tbody>\n",
       "</table>\n",
       "</div>"
      ],
      "text/plain": [
       "      pubId                                       canonicalUrl  \\\n",
       "28432    20                  reddit.com/user/throwaway12534968   \n",
       "91945     6  yahoo.com/news/credit-card-issuers-paying-more...   \n",
       "68284   223  autoblog.com/used-detail--1646080708007474062-...   \n",
       "68356   223  autoblog.com/used-detail-279455743251530903-do...   \n",
       "50006   813  forums.androidcentral.com/samsung-galaxy-note-...   \n",
       "\n",
       "                        firstScrape  \\\n",
       "28432   7/19/2018 7:52:21 AM -04:00   \n",
       "91945   7/19/2018 6:23:42 AM -04:00   \n",
       "68284   7/20/2018 4:53:24 AM -04:00   \n",
       "68356   7/20/2018 5:08:22 AM -04:00   \n",
       "50006  7/19/2018 11:01:00 PM -04:00   \n",
       "\n",
       "                                                   title  \\\n",
       "28432   Throwaway12534968 (u/Throwaway12534968) - Reddit   \n",
       "91945  Credit Card Issuers Paying More Than Ever in R...   \n",
       "68284                                          Paoli, PA   \n",
       "68356       2018 Dodge Charger SXT for sale in Paoli, PA   \n",
       "50006                                 Note 9 Promotions    \n",
       "\n",
       "                                                    text lang_reliability  \n",
       "28432  Press J to jump to the feed. Press question ma...                1  \n",
       "91945  Credit Card Issuers Paying More Than Ever in R...                1  \n",
       "68284  Use our calculator Apply for financing ### Sel...                1  \n",
       "68356  Use our calculator Apply for financing ### Sel...                1  \n",
       "50006  Note 9 Promotions ### Originally Posted by jhi...                1  "
      ]
     },
     "execution_count": 101,
     "metadata": {},
     "output_type": "execute_result"
    }
   ],
   "source": [
    "article_df.iloc[indices[0]]"
   ]
  },
  {
   "cell_type": "code",
   "execution_count": null,
   "metadata": {},
   "outputs": [],
   "source": []
  }
 ],
 "metadata": {
  "kernelspec": {
   "display_name": "Python 3",
   "language": "python",
   "name": "python3"
  },
  "language_info": {
   "codemirror_mode": {
    "name": "ipython",
    "version": 3
   },
   "file_extension": ".py",
   "mimetype": "text/x-python",
   "name": "python",
   "nbconvert_exporter": "python",
   "pygments_lexer": "ipython3",
   "version": "3.7.4"
  }
 },
 "nbformat": 4,
 "nbformat_minor": 2
}
