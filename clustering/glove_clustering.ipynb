{
 "cells": [
  {
   "cell_type": "code",
   "execution_count": 102,
   "metadata": {
    "ExecuteTime": {
     "end_time": "2019-10-31T15:51:00.742377Z",
     "start_time": "2019-10-31T15:51:00.737354Z"
    }
   },
   "outputs": [],
   "source": [
    "from IPython.display import HTML"
   ]
  },
  {
   "cell_type": "code",
   "execution_count": 1,
   "metadata": {
    "ExecuteTime": {
     "end_time": "2019-10-31T15:20:54.169909Z",
     "start_time": "2019-10-31T15:20:51.545890Z"
    }
   },
   "outputs": [],
   "source": [
    "import pandas as pd\n",
    "import networkx as nx\n",
    "import community\n",
    "import matplotlib.pyplot as plt\n",
    "from sklearn.metrics.pairwise import cosine_similarity, euclidean_distances\n",
    "import numpy as np\n",
    "from collections import defaultdict\n",
    "from sklearn.neighbors import BallTree\n",
    "import gc\n",
    "%matplotlib inline\n",
    "\n",
    "columns = [\"pubId\", \"is_hourly\", \"seqId\", \"on_homepage\", \"canonicalUrl\",\n",
    "                   \"firstScrape\", \"lang_iso\", \"lang_reliability\", \"title\", \"text\"]\n",
    "\n",
    "def read_article_df(file):\n",
    "    articles_dt = file.read().split('\\n')[:-1]\n",
    "    pubId, canonicalUrl,firstScrape,title,text,lang_reliability = [],[],[],[],[],[]\n",
    "    lang_iso = []\n",
    "    for article in articles_dt:    \n",
    "        row = article.split('\\t')\n",
    "        pubId.append(row[0])\n",
    "        canonicalUrl.append(row[4])\n",
    "        firstScrape.append(row[5])\n",
    "        lang_iso.append(row[6])\n",
    "        lang_reliability.append(row[7])\n",
    "        title.append(row[8])\n",
    "        text.append(row[9])\n",
    "\n",
    "    articles_df = pd.DataFrame()\n",
    "    articles_df['pubId'] = pubId\n",
    "    articles_df['canonicalUrl'] = canonicalUrl\n",
    "    articles_df['firstScrape'] = firstScrape\n",
    "    articles_df['title'] = title\n",
    "    articles_df['text'] = text\n",
    "    articles_df['lang_reliability'] = lang_reliability\n",
    "    articles_df['lang_iso'] = lang_iso\n",
    "    return articles_df"
   ]
  },
  {
   "cell_type": "code",
   "execution_count": 2,
   "metadata": {
    "ExecuteTime": {
     "end_time": "2019-10-31T15:20:59.534406Z",
     "start_time": "2019-10-31T15:20:54.170879Z"
    }
   },
   "outputs": [],
   "source": [
    "emb_df = pd.read_csv('../data/embedding/Glove_embedding_output.csv',index_col=0)"
   ]
  },
  {
   "cell_type": "code",
   "execution_count": 3,
   "metadata": {
    "ExecuteTime": {
     "end_time": "2019-10-31T15:21:08.997962Z",
     "start_time": "2019-10-31T15:20:59.536402Z"
    }
   },
   "outputs": [],
   "source": [
    "article_df = read_article_df(open('../data/raw/2018_07_19_04_59_08/articles.txt', encoding='utf-8'))\n",
    "article_df = article_df[article_df.lang_reliability == '1'].reset_index(drop=True)"
   ]
  },
  {
   "cell_type": "code",
   "execution_count": 4,
   "metadata": {
    "ExecuteTime": {
     "end_time": "2019-10-31T15:21:09.364166Z",
     "start_time": "2019-10-31T15:21:08.999797Z"
    }
   },
   "outputs": [],
   "source": [
    "article_df['title'] = article_df.title.apply(lambda s: s.strip())\n",
    "article_df['text'] = article_df.text.apply(lambda s: s.strip())\n",
    "article_df['title_len'] = article_df.title.apply(len)\n",
    "article_df['text_len'] = article_df.text.apply(len)"
   ]
  },
  {
   "cell_type": "code",
   "execution_count": 50,
   "metadata": {
    "ExecuteTime": {
     "end_time": "2019-10-31T15:41:12.598273Z",
     "start_time": "2019-10-31T15:41:12.454658Z"
    }
   },
   "outputs": [
    {
     "data": {
      "text/plain": [
       "(176664, 9)"
      ]
     },
     "execution_count": 50,
     "metadata": {},
     "output_type": "execute_result"
    }
   ],
   "source": [
    "clean_df = article_df[article_df.title_len > 0]\n",
    "clean_df = clean_df[clean_df.text_len > 100]\n",
    "clean_df = clean_df[clean_df.lang_iso == 'en']\n",
    "clean_df.shape"
   ]
  },
  {
   "cell_type": "code",
   "execution_count": 51,
   "metadata": {
    "ExecuteTime": {
     "end_time": "2019-10-31T15:41:13.475927Z",
     "start_time": "2019-10-31T15:41:13.450994Z"
    }
   },
   "outputs": [],
   "source": [
    "label1 = pd.read_csv('../data/raw/labels/cave_rescue/population.txt', header=None)\n",
    "label1.columns = ['canonicalUrl']\n",
    "label1['label'] = 1\n",
    "\n",
    "label2 = pd.read_csv('../data/raw/labels/duckboat/population.txt', header=None)\n",
    "label2.columns = ['canonicalUrl']\n",
    "label2['label'] = 2\n",
    "\n",
    "label3 = pd.read_csv('../data/raw/labels/helsinki_summit/population.txt', header=None)\n",
    "label3.columns = ['canonicalUrl']\n",
    "label3['label'] = 3"
   ]
  },
  {
   "cell_type": "code",
   "execution_count": 52,
   "metadata": {
    "ExecuteTime": {
     "end_time": "2019-10-31T15:41:13.718319Z",
     "start_time": "2019-10-31T15:41:13.704345Z"
    }
   },
   "outputs": [
    {
     "data": {
      "text/html": [
       "<div>\n",
       "<style scoped>\n",
       "    .dataframe tbody tr th:only-of-type {\n",
       "        vertical-align: middle;\n",
       "    }\n",
       "\n",
       "    .dataframe tbody tr th {\n",
       "        vertical-align: top;\n",
       "    }\n",
       "\n",
       "    .dataframe thead th {\n",
       "        text-align: right;\n",
       "    }\n",
       "</style>\n",
       "<table border=\"1\" class=\"dataframe\">\n",
       "  <thead>\n",
       "    <tr style=\"text-align: right;\">\n",
       "      <th></th>\n",
       "      <th>canonicalUrl</th>\n",
       "      <th>label</th>\n",
       "    </tr>\n",
       "  </thead>\n",
       "  <tbody>\n",
       "    <tr>\n",
       "      <td>0</td>\n",
       "      <td>denverpost.com/2018/07/20/greeley-police-lip-s...</td>\n",
       "      <td>1</td>\n",
       "    </tr>\n",
       "    <tr>\n",
       "      <td>1</td>\n",
       "      <td>bbc.com/news/av/world-asia-44875089/thai-cave-...</td>\n",
       "      <td>1</td>\n",
       "    </tr>\n",
       "    <tr>\n",
       "      <td>2</td>\n",
       "      <td>news.google.com/stories/caaqzggkimbdqkltuwpvsm...</td>\n",
       "      <td>1</td>\n",
       "    </tr>\n",
       "    <tr>\n",
       "      <td>3</td>\n",
       "      <td>chron.com/news/crime/article/young-nubians-rev...</td>\n",
       "      <td>1</td>\n",
       "    </tr>\n",
       "    <tr>\n",
       "      <td>4</td>\n",
       "      <td>cnbc.com/2018/07/20/at-least-13-die-when-duck-...</td>\n",
       "      <td>1</td>\n",
       "    </tr>\n",
       "    <tr>\n",
       "      <td>...</td>\n",
       "      <td>...</td>\n",
       "      <td>...</td>\n",
       "    </tr>\n",
       "    <tr>\n",
       "      <td>1920</td>\n",
       "      <td>beforeitsnews.com/opinion-conservative/2018/07...</td>\n",
       "      <td>3</td>\n",
       "    </tr>\n",
       "    <tr>\n",
       "      <td>1921</td>\n",
       "      <td>washingtonpost.com/news/powerpost/paloma/the-h...</td>\n",
       "      <td>3</td>\n",
       "    </tr>\n",
       "    <tr>\n",
       "      <td>1922</td>\n",
       "      <td>feeds.nydailynews.com/~r/nydnrss/news/national...</td>\n",
       "      <td>3</td>\n",
       "    </tr>\n",
       "    <tr>\n",
       "      <td>1923</td>\n",
       "      <td>news.google.com/stories/caaqoqgkijndqkltsurvsm...</td>\n",
       "      <td>3</td>\n",
       "    </tr>\n",
       "    <tr>\n",
       "      <td>1924</td>\n",
       "      <td>m.chron.com/news/politics/article/the-latest-g...</td>\n",
       "      <td>3</td>\n",
       "    </tr>\n",
       "  </tbody>\n",
       "</table>\n",
       "<p>3193 rows × 2 columns</p>\n",
       "</div>"
      ],
      "text/plain": [
       "                                           canonicalUrl  label\n",
       "0     denverpost.com/2018/07/20/greeley-police-lip-s...      1\n",
       "1     bbc.com/news/av/world-asia-44875089/thai-cave-...      1\n",
       "2     news.google.com/stories/caaqzggkimbdqkltuwpvsm...      1\n",
       "3     chron.com/news/crime/article/young-nubians-rev...      1\n",
       "4     cnbc.com/2018/07/20/at-least-13-die-when-duck-...      1\n",
       "...                                                 ...    ...\n",
       "1920  beforeitsnews.com/opinion-conservative/2018/07...      3\n",
       "1921  washingtonpost.com/news/powerpost/paloma/the-h...      3\n",
       "1922  feeds.nydailynews.com/~r/nydnrss/news/national...      3\n",
       "1923  news.google.com/stories/caaqoqgkijndqkltsurvsm...      3\n",
       "1924  m.chron.com/news/politics/article/the-latest-g...      3\n",
       "\n",
       "[3193 rows x 2 columns]"
      ]
     },
     "execution_count": 52,
     "metadata": {},
     "output_type": "execute_result"
    }
   ],
   "source": [
    "label_df = pd.concat([label1, label2, label3])\n",
    "label_df"
   ]
  },
  {
   "cell_type": "code",
   "execution_count": 53,
   "metadata": {
    "ExecuteTime": {
     "end_time": "2019-10-31T15:41:14.424701Z",
     "start_time": "2019-10-31T15:41:14.291747Z"
    }
   },
   "outputs": [],
   "source": [
    "clean_df = clean_df.merge(label_df, on='canonicalUrl', how='left')"
   ]
  },
  {
   "cell_type": "code",
   "execution_count": 54,
   "metadata": {
    "ExecuteTime": {
     "end_time": "2019-10-31T15:41:14.994886Z",
     "start_time": "2019-10-31T15:41:14.981928Z"
    },
    "scrolled": false
   },
   "outputs": [
    {
     "data": {
      "text/html": [
       "<div>\n",
       "<style scoped>\n",
       "    .dataframe tbody tr th:only-of-type {\n",
       "        vertical-align: middle;\n",
       "    }\n",
       "\n",
       "    .dataframe tbody tr th {\n",
       "        vertical-align: top;\n",
       "    }\n",
       "\n",
       "    .dataframe thead th {\n",
       "        text-align: right;\n",
       "    }\n",
       "</style>\n",
       "<table border=\"1\" class=\"dataframe\">\n",
       "  <thead>\n",
       "    <tr style=\"text-align: right;\">\n",
       "      <th></th>\n",
       "      <th>pubId</th>\n",
       "      <th>canonicalUrl</th>\n",
       "      <th>firstScrape</th>\n",
       "      <th>title</th>\n",
       "      <th>text</th>\n",
       "      <th>lang_reliability</th>\n",
       "      <th>lang_iso</th>\n",
       "      <th>title_len</th>\n",
       "      <th>text_len</th>\n",
       "      <th>label</th>\n",
       "    </tr>\n",
       "  </thead>\n",
       "  <tbody>\n",
       "    <tr>\n",
       "      <td>0</td>\n",
       "      <td>290</td>\n",
       "      <td>zerohedge.com/news/2018-07-19/i-told-you-so-tr...</td>\n",
       "      <td>7/19/2018 10:41:26 AM -04:00</td>\n",
       "      <td>\"I Told You So\": Trump Hits Out At EU After $5...</td>\n",
       "      <td>by Phoenix Capita… - Jul 19, 2018 8:49 am ### ...</td>\n",
       "      <td>1</td>\n",
       "      <td>en</td>\n",
       "      <td>79</td>\n",
       "      <td>2134</td>\n",
       "      <td>NaN</td>\n",
       "    </tr>\n",
       "    <tr>\n",
       "      <td>1</td>\n",
       "      <td>290</td>\n",
       "      <td>zerohedge.com/news/2018-07-19/trump-invites-pu...</td>\n",
       "      <td>7/19/2018 5:03:01 PM -04:00</td>\n",
       "      <td>Trump Invites Putin To  Ahead Of Midterms | Ze...</td>\n",
       "      <td>by Phoenix Capita… - Jul 19, 2018 8:49 am ### ...</td>\n",
       "      <td>1</td>\n",
       "      <td>en</td>\n",
       "      <td>54</td>\n",
       "      <td>4555</td>\n",
       "      <td>NaN</td>\n",
       "    </tr>\n",
       "    <tr>\n",
       "      <td>2</td>\n",
       "      <td>290</td>\n",
       "      <td>zerohedge.com/news/2018-07-19/gallup-shows-how...</td>\n",
       "      <td>7/19/2018 8:26:52 AM -04:00</td>\n",
       "      <td>Gallup Shows How Much Americans Really Care Ab...</td>\n",
       "      <td>by Knave Dave - Jul 18, 2018 1:11 pm ### This ...</td>\n",
       "      <td>1</td>\n",
       "      <td>en</td>\n",
       "      <td>76</td>\n",
       "      <td>3133</td>\n",
       "      <td>NaN</td>\n",
       "    </tr>\n",
       "    <tr>\n",
       "      <td>3</td>\n",
       "      <td>290</td>\n",
       "      <td>zerohedge.com/news/2018-07-19/california-supre...</td>\n",
       "      <td>7/19/2018 8:26:52 AM -04:00</td>\n",
       "      <td>California Supreme Court Blocks Proposal To Sp...</td>\n",
       "      <td>by Knave Dave - Jul 18, 2018 1:11 pm ### This ...</td>\n",
       "      <td>1</td>\n",
       "      <td>en</td>\n",
       "      <td>85</td>\n",
       "      <td>3567</td>\n",
       "      <td>NaN</td>\n",
       "    </tr>\n",
       "    <tr>\n",
       "      <td>4</td>\n",
       "      <td>290</td>\n",
       "      <td>zerohedge.com/news/2018-07-19/why-are-thousand...</td>\n",
       "      <td>7/19/2018 4:28:52 PM -04:00</td>\n",
       "      <td>Why Are \"Thousands\" of Teslas Sitting In a Fie...</td>\n",
       "      <td>by Phoenix Capita… - Jul 19, 2018 8:49 am ### ...</td>\n",
       "      <td>1</td>\n",
       "      <td>en</td>\n",
       "      <td>62</td>\n",
       "      <td>3584</td>\n",
       "      <td>NaN</td>\n",
       "    </tr>\n",
       "  </tbody>\n",
       "</table>\n",
       "</div>"
      ],
      "text/plain": [
       "  pubId                                       canonicalUrl  \\\n",
       "0   290  zerohedge.com/news/2018-07-19/i-told-you-so-tr...   \n",
       "1   290  zerohedge.com/news/2018-07-19/trump-invites-pu...   \n",
       "2   290  zerohedge.com/news/2018-07-19/gallup-shows-how...   \n",
       "3   290  zerohedge.com/news/2018-07-19/california-supre...   \n",
       "4   290  zerohedge.com/news/2018-07-19/why-are-thousand...   \n",
       "\n",
       "                    firstScrape  \\\n",
       "0  7/19/2018 10:41:26 AM -04:00   \n",
       "1   7/19/2018 5:03:01 PM -04:00   \n",
       "2   7/19/2018 8:26:52 AM -04:00   \n",
       "3   7/19/2018 8:26:52 AM -04:00   \n",
       "4   7/19/2018 4:28:52 PM -04:00   \n",
       "\n",
       "                                               title  \\\n",
       "0  \"I Told You So\": Trump Hits Out At EU After $5...   \n",
       "1  Trump Invites Putin To  Ahead Of Midterms | Ze...   \n",
       "2  Gallup Shows How Much Americans Really Care Ab...   \n",
       "3  California Supreme Court Blocks Proposal To Sp...   \n",
       "4  Why Are \"Thousands\" of Teslas Sitting In a Fie...   \n",
       "\n",
       "                                                text lang_reliability  \\\n",
       "0  by Phoenix Capita… - Jul 19, 2018 8:49 am ### ...                1   \n",
       "1  by Phoenix Capita… - Jul 19, 2018 8:49 am ### ...                1   \n",
       "2  by Knave Dave - Jul 18, 2018 1:11 pm ### This ...                1   \n",
       "3  by Knave Dave - Jul 18, 2018 1:11 pm ### This ...                1   \n",
       "4  by Phoenix Capita… - Jul 19, 2018 8:49 am ### ...                1   \n",
       "\n",
       "  lang_iso  title_len  text_len  label  \n",
       "0       en         79      2134    NaN  \n",
       "1       en         54      4555    NaN  \n",
       "2       en         76      3133    NaN  \n",
       "3       en         85      3567    NaN  \n",
       "4       en         62      3584    NaN  "
      ]
     },
     "execution_count": 54,
     "metadata": {},
     "output_type": "execute_result"
    }
   ],
   "source": [
    "clean_df.head()"
   ]
  },
  {
   "cell_type": "code",
   "execution_count": 55,
   "metadata": {
    "ExecuteTime": {
     "end_time": "2019-10-31T15:41:16.442592Z",
     "start_time": "2019-10-31T15:41:16.397608Z"
    }
   },
   "outputs": [
    {
     "data": {
      "text/plain": [
       "((624, 10), (176045, 10))"
      ]
     },
     "execution_count": 55,
     "metadata": {},
     "output_type": "execute_result"
    }
   ],
   "source": [
    "article_with_label = clean_df[~clean_df.label.isna()]\n",
    "article_without_label = clean_df[clean_df.label.isna()]\n",
    "article_with_label.shape, article_without_label.shape"
   ]
  },
  {
   "cell_type": "markdown",
   "metadata": {
    "ExecuteTime": {
     "end_time": "2019-10-31T15:43:07.917593Z",
     "start_time": "2019-10-31T15:43:07.895674Z"
    }
   },
   "source": [
    "Sample and include all the labeled article"
   ]
  },
  {
   "cell_type": "code",
   "execution_count": 62,
   "metadata": {
    "ExecuteTime": {
     "end_time": "2019-10-31T15:43:07.917593Z",
     "start_time": "2019-10-31T15:43:07.895674Z"
    }
   },
   "outputs": [],
   "source": [
    "sample_df = pd.concat([article_with_label, article_without_label.sample(10000)])"
   ]
  },
  {
   "cell_type": "code",
   "execution_count": 63,
   "metadata": {
    "ExecuteTime": {
     "end_time": "2019-10-31T15:43:09.585420Z",
     "start_time": "2019-10-31T15:43:09.556505Z"
    }
   },
   "outputs": [],
   "source": [
    "sample_emb_df = emb_df.loc[sample_df.index]"
   ]
  },
  {
   "cell_type": "code",
   "execution_count": 130,
   "metadata": {
    "ExecuteTime": {
     "end_time": "2019-10-31T16:03:14.769825Z",
     "start_time": "2019-10-31T16:03:01.264666Z"
    }
   },
   "outputs": [],
   "source": [
    "tree = BallTree(sample_emb_df)\n",
    "neighbors = tree.query_radius(sample_emb_df, 0.2)\n",
    "neighbors_count = [len(n) for n in neighbors]"
   ]
  },
  {
   "cell_type": "code",
   "execution_count": 131,
   "metadata": {
    "ExecuteTime": {
     "end_time": "2019-10-31T16:03:14.780547Z",
     "start_time": "2019-10-31T16:03:14.771569Z"
    }
   },
   "outputs": [
    {
     "data": {
      "text/plain": [
       "67.96121987951807"
      ]
     },
     "execution_count": 131,
     "metadata": {},
     "output_type": "execute_result"
    }
   ],
   "source": [
    "np.mean(neighbors_count)"
   ]
  },
  {
   "cell_type": "code",
   "execution_count": 132,
   "metadata": {
    "ExecuteTime": {
     "end_time": "2019-10-31T16:03:14.800518Z",
     "start_time": "2019-10-31T16:03:14.784535Z"
    }
   },
   "outputs": [
    {
     "data": {
      "text/plain": [
       "(1.0, 838, 1)"
      ]
     },
     "execution_count": 132,
     "metadata": {},
     "output_type": "execute_result"
    }
   ],
   "source": [
    "np.median(neighbors_count),np.max(neighbors_count),np.min(neighbors_count)"
   ]
  },
  {
   "cell_type": "code",
   "execution_count": 66,
   "metadata": {
    "ExecuteTime": {
     "end_time": "2019-10-31T15:43:29.369288Z",
     "start_time": "2019-10-31T15:43:29.234561Z"
    }
   },
   "outputs": [
    {
     "data": {
      "image/png": "[encoded data removed]",
      "text/plain": [
       "<Figure size 432x288 with 1 Axes>"
      ]
     },
     "metadata": {
      "needs_background": "light"
     },
     "output_type": "display_data"
    }
   ],
   "source": [
    "plt.hist(neighbors_count);"
   ]
  },
  {
   "cell_type": "markdown",
   "metadata": {
    "ExecuteTime": {
     "end_time": "2019-10-31T15:43:32.864088Z",
     "start_time": "2019-10-31T15:43:32.856109Z"
    }
   },
   "source": [
    "### Article with the most neighbor"
   ]
  },
  {
   "cell_type": "code",
   "execution_count": 67,
   "metadata": {
    "ExecuteTime": {
     "end_time": "2019-10-31T15:43:32.864088Z",
     "start_time": "2019-10-31T15:43:32.856109Z"
    }
   },
   "outputs": [
    {
     "data": {
      "text/plain": [
       "\"Police arrest man armed with assault weapon, thwart 'possible ambush' ### A 24-year-old Grand Rapids-area man is in the Ottawa County Jail on a $45,000 bond after police responding to a crash last week found him passed out in the grass with a loaded assault weapon pointed toward the highway. ### Drugs, ammunition and a bulletproof vest were found in his vehicle, according to court records. ### Despite all that,\\xa0Capt. Mark Bennett of the\\xa0Ottawa County Sheriff’s Office said the man claims he was not lying in wait for the police. ### “He denies any threat to police and was charged with multiple crimes,” Bennett said. ### Joshua Michael Gryzen of Wyoming was arraigned July 13 in Ottawa County District Court on charges of drunken driving, resisting police, possession of firearms while under the influence of drugs or alcohol, possession of marijuana, and possession of a controlled substance.\\xa0Gryzen demanded a preliminary examination and a probable-cause conference, which were scheduled for later this week. ### The incident ### Deputies responded to a single-car crash at about 2:13 a.m. July 13 on westbound I-96 near the 17-mile marker in Polkton Township, according to information in the probable-cause determination, a hearing used before a judge will authorize a warrant for a felony arrest. ### The driver had fled on foot.\\xa0Deputies tracked the driver and observed him in the grass on the back side of a fence. ### “He was laying on his back with an AR-15 rifle by his left hand,” the document says. “It appeared that Josh (Gryzen) had set up a spot of advantage for a possible ambush.” ### According to the warrant document, Gryzen did not respond to verbal instructions given by deputies who had their pistols pointed at him. ### Additional deputies arrived and attempted to take the man into custody. It was at that point that Gryzen woke up, attempted to fight with deputies and reached for his waistband, the document says.\\xa0Deputies wrestled with Gryzen before getting him into handcuffs, police said. ### Officers smelled a strong odor of intoxicants coming from him, so they took him to a hospital for a blood draw after obtaining a search warrant, the document says. ### Deputies searching the scene found a Sig Sauer AR-15-style rifle with a 20-round magazine. The magazine was inserted and one round chambered in the rifle. There were additional 30- and 40-round magazines near the man, the document says. ### Deputies also found a container of marijuana and a bong along the trail. ### In the suspect’s vehicle, there was more marijuana, a grinder, some pills and an ammunition box containing 570 0.223 rifle rounds, as well as a tactical ballistic vest. ### Bennett said the man’s behavior at the scene was concerning and that information on the incident was being turned over to federal authorities for potential charges. ### Criminal background ### A background check with the Secretary of State reveals that Gryzen has a clean driving record but does not currently have a driver’s license. ### His Kent County criminal history shows a conviction for third-degree home invasion in 2012, with a sentence of probation. More information was not available because the case was sealed under the Holmes Youthful Trainee Act, which allows a conviction to be erased from someone’s record if they successfully complete the terms of probation. ### Gryzen has no criminal history in Ottawa County.\""
      ]
     },
     "execution_count": 67,
     "metadata": {},
     "output_type": "execute_result"
    }
   ],
   "source": [
    "pop_node = article_df.iloc[np.argmax(neighbors_count)]\n",
    "pop_node.text"
   ]
  },
  {
   "cell_type": "markdown",
   "metadata": {
    "ExecuteTime": {
     "end_time": "2019-10-31T15:21:22.897304Z",
     "start_time": "2019-10-31T15:21:22.891317Z"
    }
   },
   "source": [
    "## Build Graph"
   ]
  },
  {
   "cell_type": "code",
   "execution_count": 68,
   "metadata": {
    "ExecuteTime": {
     "end_time": "2019-10-31T15:44:14.265932Z",
     "start_time": "2019-10-31T15:44:14.260925Z"
    }
   },
   "outputs": [],
   "source": [
    "def create_graph(neighbors):\n",
    "    G = nx.Graph()\n",
    "    G.add_nodes_from(list(range(len(neighbors))))\n",
    "\n",
    "    for node in range(len(neighbors)):\n",
    "        neighbor = neighbors[node]\n",
    "        for n in neighbor:\n",
    "            G.add_edge(node, n)\n",
    "    return G"
   ]
  },
  {
   "cell_type": "code",
   "execution_count": 69,
   "metadata": {
    "ExecuteTime": {
     "end_time": "2019-10-31T15:44:17.952892Z",
     "start_time": "2019-10-31T15:44:16.239473Z"
    }
   },
   "outputs": [],
   "source": [
    "G = create_graph(neighbors)"
   ]
  },
  {
   "cell_type": "code",
   "execution_count": 70,
   "metadata": {
    "ExecuteTime": {
     "end_time": "2019-10-31T15:44:45.510915Z",
     "start_time": "2019-10-31T15:44:22.348843Z"
    }
   },
   "outputs": [
    {
     "data": {
      "image/png": "[encoded data removed]",
      "text/plain": [
       "<Figure size 432x288 with 1 Axes>"
      ]
     },
     "metadata": {
      "needs_background": "light"
     },
     "output_type": "display_data"
    }
   ],
   "source": [
    "partitions = []\n",
    "resolutions = [1] #, .99, .999, .9995, .9999]\n",
    "for resolution in resolutions:\n",
    "    partition = community.best_partition(G, resolution=resolution)\n",
    "    partitions.append(partition)\n",
    "    num_cluster = max([v for k,v in partition.items()]) + 1\n",
    "    clusters = defaultdict(list)\n",
    "    for k, v in partition.items():\n",
    "        clusters[v].append(k)\n",
    "\n",
    "    cluster_sizes = []\n",
    "    for i, cluster in clusters.items():\n",
    "        cluster_sizes.append(len(cluster))\n",
    "    plt.bar(list(range(len(cluster_sizes))), cluster_sizes)\n",
    "    plt.title(f'Resolution = {resolution}, Num. Cluster = {num_cluster}')\n",
    "    plt.show()"
   ]
  },
  {
   "cell_type": "code",
   "execution_count": 71,
   "metadata": {
    "ExecuteTime": {
     "end_time": "2019-10-31T15:44:45.521862Z",
     "start_time": "2019-10-31T15:44:45.512885Z"
    }
   },
   "outputs": [
    {
     "data": {
      "text/plain": [
       "(28, 823, 1.0)"
      ]
     },
     "execution_count": 71,
     "metadata": {},
     "output_type": "execute_result"
    }
   ],
   "source": [
    "np.argmax(cluster_sizes), np.max(cluster_sizes), np.median(cluster_sizes)"
   ]
  },
  {
   "cell_type": "code",
   "execution_count": 72,
   "metadata": {
    "ExecuteTime": {
     "end_time": "2019-10-31T15:45:05.235507Z",
     "start_time": "2019-10-31T15:45:05.229487Z"
    }
   },
   "outputs": [],
   "source": [
    "def plot_cluster_sizes(cluster):\n",
    "    cluster_sizes = []\n",
    "    for i, c in cluster.items():\n",
    "        cluster_sizes.append(len(c))\n",
    "    plt.title(f'Num cluster = {len(cluster.keys())}')\n",
    "    plt.hist(cluster_sizes)\n",
    "    plt.show()\n",
    "    \n",
    "def prune_cluster(cluster: dict, threshold) -> dict:\n",
    "    pc = {}\n",
    "    for key, value in clusters.items():\n",
    "        if len(value) > threshold:\n",
    "            pc[key] = value\n",
    "    return pc"
   ]
  },
  {
   "cell_type": "code",
   "execution_count": 77,
   "metadata": {
    "ExecuteTime": {
     "end_time": "2019-10-31T15:45:24.162845Z",
     "start_time": "2019-10-31T15:45:24.157852Z"
    }
   },
   "outputs": [],
   "source": [
    "pc = prune_cluster(cluster, 5)"
   ]
  },
  {
   "cell_type": "code",
   "execution_count": 78,
   "metadata": {
    "ExecuteTime": {
     "end_time": "2019-10-31T15:45:24.566819Z",
     "start_time": "2019-10-31T15:45:24.529900Z"
    }
   },
   "outputs": [
    {
     "data": {
      "text/plain": [
       "56"
      ]
     },
     "execution_count": 78,
     "metadata": {},
     "output_type": "execute_result"
    }
   ],
   "source": [
    "article_cluster = list(map(lambda d: clean_df.iloc[d[1]], pc.items()))\n",
    "len(article_cluster)"
   ]
  },
  {
   "cell_type": "code",
   "execution_count": 79,
   "metadata": {
    "ExecuteTime": {
     "end_time": "2019-10-31T15:45:24.848067Z",
     "start_time": "2019-10-31T15:45:24.841087Z"
    }
   },
   "outputs": [
    {
     "data": {
      "text/plain": [
       "22"
      ]
     },
     "execution_count": 79,
     "metadata": {},
     "output_type": "execute_result"
    }
   ],
   "source": [
    "len(article_cluster[0].title.tolist())"
   ]
  },
  {
   "cell_type": "code",
   "execution_count": 80,
   "metadata": {
    "ExecuteTime": {
     "end_time": "2019-10-31T15:45:25.787946Z",
     "start_time": "2019-10-31T15:45:25.781987Z"
    }
   },
   "outputs": [
    {
     "data": {
      "text/plain": [
       "dict_keys([23, 28, 34, 59, 70, 82, 103, 153, 201, 215, 241, 258, 294, 300, 316, 325, 354, 379, 382, 488, 501, 511, 686, 719, 739, 745, 756, 759, 765, 780, 798, 918, 920, 936, 989, 1120, 1130, 1134, 1166, 1196, 1257, 1272, 1288, 1423, 1437, 1474, 1568, 1801, 2203, 2223, 2514, 3045, 3216, 3239, 3563, 4004])"
      ]
     },
     "execution_count": 80,
     "metadata": {},
     "output_type": "execute_result"
    }
   ],
   "source": [
    "pc.keys()"
   ]
  },
  {
   "cell_type": "code",
   "execution_count": 83,
   "metadata": {
    "ExecuteTime": {
     "end_time": "2019-10-31T15:46:27.310563Z",
     "start_time": "2019-10-31T15:46:27.301587Z"
    },
    "scrolled": false
   },
   "outputs": [
    {
     "name": "stdout",
     "output_type": "stream",
     "text": [
      "-------------------------------------------------- title --------------------------------------------------\n",
      "Video emerges of Macron bodyguard beating protester in Pari\n",
      "WATCH: Michael Duffy scores astounding volley for Dundalk against Levadia Tallinn - Worldnews.com\n",
      "All-female sailing team makes history, wins Race to Alaska - Worldnews.com\n",
      "Shania Twain: Biography\n",
      "Scott Rolen joins Jeff Mercer's staff with Indiana Hoosiers\n",
      "Beaumont LGBTQ 2\n",
      "US Labor chief visiting Boeing’s South Carolina facilities | The Tribune\n",
      "IRS Drops Rule That Required Disclosure of Donors to Political Nonprofits\n",
      "Upland planning big brewery, restaurant project in heart of Fountain Square | 2018-07-19\n",
      "Best Gear VR apps and games - NewsOn6.com - Tulsa, OK - News, Weather, Video and Sports - KOTV.com |\n",
      "NY officials: No major public health threat from steam blast | KSL.com\n",
      "-------------------------------------------------- text --------------------------------------------------\n",
      "Video emerges of Macron bodyguard beating protester in Paris - Live5News.com | Charleston, SC | News\n",
      "WATCH: Michael Duffy scores astounding volley for Dundalk against Levadia Tallinn ### Posted, 2018-0\n",
      "All-female sailing team makes history, wins Race to Alaska ### Posted, 2018-07-20 ### developed with\n",
      "Horoscope : Capricorn ### But that's where the Country and Western stereotype ends for the Canadian-\n",
      "Email ### CINCINNATI — ### Scott Rolen, a key player for the last two Cincinnati Reds teams to win d\n",
      "Candidates for State Representative in Michigan’s 11th District respond to key questions ### Two Dem\n",
      "US Labor chief visiting Boeing’s South Carolina facilities | The Tribune ### US Labor chief visiting\n",
      "IRS Drops Rule That Required Disclosure of Donors to Political Nonprofits ### iStock / Getty Images \n",
      "Home » Upland planning big brewery, restaurant project in heart of Fountain Square ### Upland planni\n",
      "Best Gear VR apps and games - NewsOn6.com - Tulsa, OK - News, Weather, Video and Sports - KOTV.com |\n",
      "NY officials: No major public health threat from steam blast ### By Karen Matthews, Associated Press\n"
     ]
    }
   ],
   "source": [
    "n = len(pc.keys())\n",
    "sample_cluster = np.random.randint(n)\n",
    "print('-'*50, 'title', '-'*50)\n",
    "print('\\n'.join(article_cluster[sample_cluster].title.tolist()))\n",
    "print('-'*50, 'text', '-'*50)\n",
    "print('\\n'.join(list(map(lambda x: x[:100], article_cluster[sample_cluster].text.tolist()))))"
   ]
  },
  {
   "cell_type": "markdown",
   "metadata": {
    "ExecuteTime": {
     "end_time": "2019-10-28T03:45:42.636863Z",
     "start_time": "2019-10-28T03:45:42.628884Z"
    }
   },
   "source": [
    "## Top clusters"
   ]
  },
  {
   "cell_type": "code",
   "execution_count": 91,
   "metadata": {
    "ExecuteTime": {
     "end_time": "2019-10-31T15:48:41.019546Z",
     "start_time": "2019-10-31T15:48:41.014559Z"
    }
   },
   "outputs": [],
   "source": [
    "cluster_sizes = np.array(list(map(len, article_cluster)))"
   ]
  },
  {
   "cell_type": "code",
   "execution_count": 92,
   "metadata": {
    "ExecuteTime": {
     "end_time": "2019-10-31T15:48:41.613022Z",
     "start_time": "2019-10-31T15:48:41.466360Z"
    }
   },
   "outputs": [
    {
     "data": {
      "image/png": "[encoded data removed]",
      "text/plain": [
       "<Figure size 432x288 with 1 Axes>"
      ]
     },
     "metadata": {
      "needs_background": "light"
     },
     "output_type": "display_data"
    }
   ],
   "source": [
    "plt.hist(cluster_sizes);"
   ]
  },
  {
   "cell_type": "code",
   "execution_count": 97,
   "metadata": {
    "ExecuteTime": {
     "end_time": "2019-10-31T15:49:49.273825Z",
     "start_time": "2019-10-31T15:49:49.266863Z"
    }
   },
   "outputs": [
    {
     "data": {
      "text/plain": [
       "array([823, 150,  61,  55,  36,  22,  22,  22,  19,  19,  16,  15,  14,\n",
       "        12,  11,  11,  11,  10,  10,  10,  10,   9,   9,   9,   8,   8,\n",
       "         8,   8,   8,   7,   7,   7,   7,   7,   7,   7,   6,   6,   6,\n",
       "         6,   6,   6,   6,   6,   6,   6,   6,   6,   6,   6,   6,   6,\n",
       "         6,   6,   6,   6])"
      ]
     },
     "execution_count": 97,
     "metadata": {},
     "output_type": "execute_result"
    }
   ],
   "source": [
    "index_by_size = list(reversed(np.argsort(cluster_sizes)))\n",
    "cluster_sizes[index_by_size]"
   ]
  },
  {
   "cell_type": "code",
   "execution_count": 105,
   "metadata": {
    "ExecuteTime": {
     "end_time": "2019-10-31T15:51:56.857687Z",
     "start_time": "2019-10-31T15:51:56.842766Z"
    }
   },
   "outputs": [
    {
     "data": {
      "text/html": [
       "<div>\n",
       "<style scoped>\n",
       "    .dataframe tbody tr th:only-of-type {\n",
       "        vertical-align: middle;\n",
       "    }\n",
       "\n",
       "    .dataframe tbody tr th {\n",
       "        vertical-align: top;\n",
       "    }\n",
       "\n",
       "    .dataframe thead th {\n",
       "        text-align: right;\n",
       "    }\n",
       "</style>\n",
       "<table border=\"1\" class=\"dataframe\">\n",
       "  <thead>\n",
       "    <tr style=\"text-align: right;\">\n",
       "      <th></th>\n",
       "      <th>pubId</th>\n",
       "      <th>canonicalUrl</th>\n",
       "      <th>firstScrape</th>\n",
       "      <th>title</th>\n",
       "      <th>text</th>\n",
       "      <th>lang_reliability</th>\n",
       "      <th>lang_iso</th>\n",
       "      <th>title_len</th>\n",
       "      <th>text_len</th>\n",
       "      <th>label</th>\n",
       "    </tr>\n",
       "  </thead>\n",
       "  <tbody>\n",
       "    <tr>\n",
       "      <td>29</td>\n",
       "      <td>290</td>\n",
       "      <td>zerohedge.com/news/2018-07-19/white-house-aske...</td>\n",
       "      <td>7/20/2018 1:35:15 AM -04:00</td>\n",
       "      <td>Asked 8 Times For Trump-Rouhani Meeting, Iran ...</td>\n",
       "      <td>by Phoenix Capita… - Jul 19, 2018 8:49 am ### ...</td>\n",
       "      <td>1</td>\n",
       "      <td>en</td>\n",
       "      <td>63</td>\n",
       "      <td>2701</td>\n",
       "      <td>3.0</td>\n",
       "    </tr>\n",
       "    <tr>\n",
       "      <td>45</td>\n",
       "      <td>290</td>\n",
       "      <td>zerohedge.com/news/2018-07-19/meat-dairy-indus...</td>\n",
       "      <td>7/19/2018 2:46:05 PM -04:00</td>\n",
       "      <td>Meat, Dairy Industry Surpass Big Oil As World'...</td>\n",
       "      <td>by Phoenix Capita… - Jul 19, 2018 8:49 am ### ...</td>\n",
       "      <td>1</td>\n",
       "      <td>en</td>\n",
       "      <td>78</td>\n",
       "      <td>2668</td>\n",
       "      <td>NaN</td>\n",
       "    </tr>\n",
       "    <tr>\n",
       "      <td>47</td>\n",
       "      <td>290</td>\n",
       "      <td>zerohedge.com/news/2018-07-19/us-cannot-afford...</td>\n",
       "      <td>7/19/2018 10:08:07 AM -04:00</td>\n",
       "      <td>The US CANNOT Afford the US Dollar at These Le...</td>\n",
       "      <td>The US CANNOT Afford the US Dollar at These Le...</td>\n",
       "      <td>1</td>\n",
       "      <td>en</td>\n",
       "      <td>76</td>\n",
       "      <td>3213</td>\n",
       "      <td>NaN</td>\n",
       "    </tr>\n",
       "    <tr>\n",
       "      <td>54</td>\n",
       "      <td>290</td>\n",
       "      <td>zerohedge.com/news/2018-07-19/bonds-bid-stocks...</td>\n",
       "      <td>7/19/2018 4:28:52 PM -04:00</td>\n",
       "      <td>Bonds Bid, Stocks Skid, &amp; Trump Dumps The Doll...</td>\n",
       "      <td>by Phoenix Capita… - Jul 19, 2018 8:49 am ### ...</td>\n",
       "      <td>1</td>\n",
       "      <td>en</td>\n",
       "      <td>61</td>\n",
       "      <td>1413</td>\n",
       "      <td>NaN</td>\n",
       "    </tr>\n",
       "    <tr>\n",
       "      <td>55</td>\n",
       "      <td>290</td>\n",
       "      <td>zerohedge.com/news/2018-07-17/fentanyl-related...</td>\n",
       "      <td>7/19/2018 11:15:27 PM -04:00</td>\n",
       "      <td>Fentanyl-Related Deaths Double In Six Months; ...</td>\n",
       "      <td>by Phoenix Capita… - Jul 19, 2018 8:49 am ### ...</td>\n",
       "      <td>1</td>\n",
       "      <td>en</td>\n",
       "      <td>93</td>\n",
       "      <td>4142</td>\n",
       "      <td>NaN</td>\n",
       "    </tr>\n",
       "  </tbody>\n",
       "</table>\n",
       "</div>"
      ],
      "text/plain": [
       "   pubId                                       canonicalUrl  \\\n",
       "29   290  zerohedge.com/news/2018-07-19/white-house-aske...   \n",
       "45   290  zerohedge.com/news/2018-07-19/meat-dairy-indus...   \n",
       "47   290  zerohedge.com/news/2018-07-19/us-cannot-afford...   \n",
       "54   290  zerohedge.com/news/2018-07-19/bonds-bid-stocks...   \n",
       "55   290  zerohedge.com/news/2018-07-17/fentanyl-related...   \n",
       "\n",
       "                     firstScrape  \\\n",
       "29   7/20/2018 1:35:15 AM -04:00   \n",
       "45   7/19/2018 2:46:05 PM -04:00   \n",
       "47  7/19/2018 10:08:07 AM -04:00   \n",
       "54   7/19/2018 4:28:52 PM -04:00   \n",
       "55  7/19/2018 11:15:27 PM -04:00   \n",
       "\n",
       "                                                title  \\\n",
       "29  Asked 8 Times For Trump-Rouhani Meeting, Iran ...   \n",
       "45  Meat, Dairy Industry Surpass Big Oil As World'...   \n",
       "47  The US CANNOT Afford the US Dollar at These Le...   \n",
       "54  Bonds Bid, Stocks Skid, & Trump Dumps The Doll...   \n",
       "55  Fentanyl-Related Deaths Double In Six Months; ...   \n",
       "\n",
       "                                                 text lang_reliability  \\\n",
       "29  by Phoenix Capita… - Jul 19, 2018 8:49 am ### ...                1   \n",
       "45  by Phoenix Capita… - Jul 19, 2018 8:49 am ### ...                1   \n",
       "47  The US CANNOT Afford the US Dollar at These Le...                1   \n",
       "54  by Phoenix Capita… - Jul 19, 2018 8:49 am ### ...                1   \n",
       "55  by Phoenix Capita… - Jul 19, 2018 8:49 am ### ...                1   \n",
       "\n",
       "   lang_iso  title_len  text_len  label  \n",
       "29       en         63      2701    3.0  \n",
       "45       en         78      2668    NaN  \n",
       "47       en         76      3213    NaN  \n",
       "54       en         61      1413    NaN  \n",
       "55       en         93      4142    NaN  "
      ]
     },
     "execution_count": 105,
     "metadata": {},
     "output_type": "execute_result"
    }
   ],
   "source": [
    "top_cluster = article_cluster[index_by_size[0]]\n",
    "top_cluster.head()"
   ]
  },
  {
   "cell_type": "code",
   "execution_count": 106,
   "metadata": {
    "ExecuteTime": {
     "end_time": "2019-10-31T15:52:29.411995Z",
     "start_time": "2019-10-31T15:52:29.394026Z"
    }
   },
   "outputs": [
    {
     "data": {
      "text/plain": [
       "array([ 3., nan])"
      ]
     },
     "execution_count": 106,
     "metadata": {},
     "output_type": "execute_result"
    }
   ],
   "source": [
    "top_cluster.label.unique()"
   ]
  },
  {
   "cell_type": "code",
   "execution_count": 107,
   "metadata": {
    "ExecuteTime": {
     "end_time": "2019-10-31T15:52:45.692158Z",
     "start_time": "2019-10-31T15:52:45.676201Z"
    }
   },
   "outputs": [
    {
     "data": {
      "text/html": [
       "<div>\n",
       "<style scoped>\n",
       "    .dataframe tbody tr th:only-of-type {\n",
       "        vertical-align: middle;\n",
       "    }\n",
       "\n",
       "    .dataframe tbody tr th {\n",
       "        vertical-align: top;\n",
       "    }\n",
       "\n",
       "    .dataframe thead th {\n",
       "        text-align: right;\n",
       "    }\n",
       "</style>\n",
       "<table border=\"1\" class=\"dataframe\">\n",
       "  <thead>\n",
       "    <tr style=\"text-align: right;\">\n",
       "      <th></th>\n",
       "      <th>pubId</th>\n",
       "      <th>canonicalUrl</th>\n",
       "      <th>firstScrape</th>\n",
       "      <th>title</th>\n",
       "      <th>text</th>\n",
       "      <th>lang_reliability</th>\n",
       "      <th>lang_iso</th>\n",
       "      <th>title_len</th>\n",
       "      <th>text_len</th>\n",
       "      <th>label</th>\n",
       "    </tr>\n",
       "  </thead>\n",
       "  <tbody>\n",
       "    <tr>\n",
       "      <td>29</td>\n",
       "      <td>290</td>\n",
       "      <td>zerohedge.com/news/2018-07-19/white-house-aske...</td>\n",
       "      <td>7/20/2018 1:35:15 AM -04:00</td>\n",
       "      <td>Asked 8 Times For Trump-Rouhani Meeting, Iran ...</td>\n",
       "      <td>by Phoenix Capita… - Jul 19, 2018 8:49 am ### ...</td>\n",
       "      <td>1</td>\n",
       "      <td>en</td>\n",
       "      <td>63</td>\n",
       "      <td>2701</td>\n",
       "      <td>3.0</td>\n",
       "    </tr>\n",
       "  </tbody>\n",
       "</table>\n",
       "</div>"
      ],
      "text/plain": [
       "   pubId                                       canonicalUrl  \\\n",
       "29   290  zerohedge.com/news/2018-07-19/white-house-aske...   \n",
       "\n",
       "                    firstScrape  \\\n",
       "29  7/20/2018 1:35:15 AM -04:00   \n",
       "\n",
       "                                                title  \\\n",
       "29  Asked 8 Times For Trump-Rouhani Meeting, Iran ...   \n",
       "\n",
       "                                                 text lang_reliability  \\\n",
       "29  by Phoenix Capita… - Jul 19, 2018 8:49 am ### ...                1   \n",
       "\n",
       "   lang_iso  title_len  text_len  label  \n",
       "29       en         63      2701    3.0  "
      ]
     },
     "execution_count": 107,
     "metadata": {},
     "output_type": "execute_result"
    }
   ],
   "source": [
    "top_cluster[~top_cluster.label.isna()]"
   ]
  },
  {
   "cell_type": "code",
   "execution_count": 110,
   "metadata": {
    "ExecuteTime": {
     "end_time": "2019-10-31T15:53:41.338369Z",
     "start_time": "2019-10-31T15:53:41.329417Z"
    }
   },
   "outputs": [],
   "source": [
    "cluster_center = emb_df.loc[top_cluster.index].mean()"
   ]
  },
  {
   "cell_type": "code",
   "execution_count": 112,
   "metadata": {
    "ExecuteTime": {
     "end_time": "2019-10-31T15:54:18.257746Z",
     "start_time": "2019-10-31T15:54:18.253752Z"
    }
   },
   "outputs": [],
   "source": [
    "from sklearn.neighbors import NearestNeighbors"
   ]
  },
  {
   "cell_type": "code",
   "execution_count": 113,
   "metadata": {
    "ExecuteTime": {
     "end_time": "2019-10-31T15:54:49.996645Z",
     "start_time": "2019-10-31T15:54:49.979677Z"
    }
   },
   "outputs": [
    {
     "data": {
      "text/plain": [
       "NearestNeighbors(algorithm='auto', leaf_size=30, metric='minkowski',\n",
       "                 metric_params=None, n_jobs=None, n_neighbors=10, p=2,\n",
       "                 radius=1.0)"
      ]
     },
     "execution_count": 113,
     "metadata": {},
     "output_type": "execute_result"
    }
   ],
   "source": [
    "nn = NearestNeighbors(n_neighbors=10)\n",
    "nn.fit(emb_df.loc[top_cluster.index])"
   ]
  },
  {
   "cell_type": "code",
   "execution_count": 114,
   "metadata": {
    "ExecuteTime": {
     "end_time": "2019-10-31T15:55:17.209555Z",
     "start_time": "2019-10-31T15:55:17.201601Z"
    }
   },
   "outputs": [],
   "source": [
    "dists, indices = nn.kneighbors([cluster_center])"
   ]
  },
  {
   "cell_type": "code",
   "execution_count": 115,
   "metadata": {
    "ExecuteTime": {
     "end_time": "2019-10-31T15:55:18.644719Z",
     "start_time": "2019-10-31T15:55:18.637764Z"
    }
   },
   "outputs": [
    {
     "data": {
      "text/plain": [
       "array([[0.62231777, 0.62685984, 0.63579323, 0.65572779, 0.66218848,\n",
       "        0.66604384, 0.68373973, 0.69116017, 0.69363786, 0.69847444]])"
      ]
     },
     "execution_count": 115,
     "metadata": {},
     "output_type": "execute_result"
    }
   ],
   "source": [
    "dists"
   ]
  },
  {
   "cell_type": "code",
   "execution_count": 120,
   "metadata": {
    "ExecuteTime": {
     "end_time": "2019-10-31T15:56:01.576306Z",
     "start_time": "2019-10-31T15:56:01.568291Z"
    }
   },
   "outputs": [
    {
     "data": {
      "text/plain": [
       "['Airbus Beluga XL Whale Takes Flight for the First Time  - NECN',\n",
       " 'Malaysia launches crackdown on Isis after threats to kill the king and prime',\n",
       " 'Poland Central School',\n",
       " 'State of NFL entering training',\n",
       " 'Bonds Bid, Stocks Skid, & Trump Dumps The Dollar | Zero Hedge',\n",
       " 'Glenforest',\n",
       " 'Aspall',\n",
       " 'Toots & The Maytals',\n",
       " \"In recorded staff meeting, Mark D'Antonio argues against union\",\n",
       " 'New Mexico to explore reuse of oil and gas wastewater | Tri-City Herald']"
      ]
     },
     "execution_count": 120,
     "metadata": {},
     "output_type": "execute_result"
    }
   ],
   "source": [
    "top_cluster.iloc[indices[0]].title.tolist()"
   ]
  },
  {
   "cell_type": "code",
   "execution_count": null,
   "metadata": {},
   "outputs": [],
   "source": []
  }
 ],
 "metadata": {
  "kernelspec": {
   "display_name": "Python 3",
   "language": "python",
   "name": "python3"
  },
  "language_info": {
   "codemirror_mode": {
    "name": "ipython",
    "version": 3
   },
   "file_extension": ".py",
   "mimetype": "text/x-python",
   "name": "python",
   "nbconvert_exporter": "python",
   "pygments_lexer": "ipython3",
   "version": "3.7.4"
  }
 },
 "nbformat": 4,
 "nbformat_minor": 2
}
