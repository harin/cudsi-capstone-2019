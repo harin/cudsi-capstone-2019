{
 "cells": [
  {
   "cell_type": "code",
   "execution_count": 1,
   "metadata": {
    "ExecuteTime": {
     "end_time": "2019-11-21T21:44:06.279594Z",
     "start_time": "2019-11-21T21:44:06.238685Z"
    }
   },
   "outputs": [],
   "source": [
    "%load_ext autoreload\n",
    "%autoreload 2"
   ]
  },
  {
   "cell_type": "code",
   "execution_count": 24,
   "metadata": {
    "ExecuteTime": {
     "end_time": "2019-11-21T22:02:11.580841Z",
     "start_time": "2019-11-21T22:02:11.484055Z"
    }
   },
   "outputs": [],
   "source": [
    "import json\n",
    "import community\n",
    "import numpy as np\n",
    "import pandas as pd\n",
    "import networkx as nx\n",
    "import matplotlib.pyplot as plt\n",
    "import gc\n",
    "\n",
    "from IPython.display import HTML\n",
    "from sklearn.neighbors import NearestNeighbors\n",
    "from sklearn.metrics.pairwise import cosine_similarity, euclidean_distances\n",
    "from sklearn.feature_extraction.text import TfidfVectorizer, CountVectorizer\n",
    "from sklearn.cluster import KMeans\n",
    "from collections import defaultdict\n",
    "\n",
    "%matplotlib inline"
   ]
  },
  {
   "cell_type": "code",
   "execution_count": 3,
   "metadata": {
    "ExecuteTime": {
     "end_time": "2019-11-21T21:44:09.696450Z",
     "start_time": "2019-11-21T21:44:09.593725Z"
    }
   },
   "outputs": [],
   "source": [
    "from utils import read_article_df, load_label, load_entities, max_cluster_metric, print_result_df, merge_small_clusters"
   ]
  },
  {
   "cell_type": "markdown",
   "metadata": {
    "ExecuteTime": {
     "end_time": "2019-11-12T00:30:41.814537Z",
     "start_time": "2019-11-12T00:30:41.811393Z"
    }
   },
   "source": [
    "## Config"
   ]
  },
  {
   "cell_type": "code",
   "execution_count": 7,
   "metadata": {
    "ExecuteTime": {
     "end_time": "2019-11-21T21:45:11.026166Z",
     "start_time": "2019-11-21T21:45:10.946122Z"
    }
   },
   "outputs": [],
   "source": [
    "SAMPLE_SIZE = 10000\n",
    "EDGE_PERCENTILE = 3 # 0 - 100"
   ]
  },
  {
   "cell_type": "markdown",
   "metadata": {
    "ExecuteTime": {
     "end_time": "2019-11-12T00:30:55.782885Z",
     "start_time": "2019-11-12T00:30:44.524499Z"
    }
   },
   "source": [
    "## Prepare Data"
   ]
  },
  {
   "cell_type": "code",
   "execution_count": 5,
   "metadata": {
    "ExecuteTime": {
     "end_time": "2019-11-21T21:44:56.410872Z",
     "start_time": "2019-11-21T21:44:55.937978Z"
    }
   },
   "outputs": [],
   "source": [
    "sample_df = pd.read_csv('../data/sample_articles.csv', index_col=0)"
   ]
  },
  {
   "cell_type": "code",
   "execution_count": 6,
   "metadata": {
    "ExecuteTime": {
     "end_time": "2019-11-21T21:44:58.981502Z",
     "start_time": "2019-11-21T21:44:58.880737Z"
    }
   },
   "outputs": [
    {
     "data": {
      "text/html": [
       "<div>\n",
       "<style scoped>\n",
       "    .dataframe tbody tr th:only-of-type {\n",
       "        vertical-align: middle;\n",
       "    }\n",
       "\n",
       "    .dataframe tbody tr th {\n",
       "        vertical-align: top;\n",
       "    }\n",
       "\n",
       "    .dataframe thead th {\n",
       "        text-align: right;\n",
       "    }\n",
       "</style>\n",
       "<table border=\"1\" class=\"dataframe\">\n",
       "  <thead>\n",
       "    <tr style=\"text-align: right;\">\n",
       "      <th></th>\n",
       "      <th>pubId</th>\n",
       "      <th>canonicalUrl</th>\n",
       "      <th>firstScrape</th>\n",
       "      <th>title</th>\n",
       "      <th>text</th>\n",
       "      <th>lang_reliability</th>\n",
       "      <th>lang_iso</th>\n",
       "      <th>title_len</th>\n",
       "      <th>text_len</th>\n",
       "      <th>label</th>\n",
       "    </tr>\n",
       "  </thead>\n",
       "  <tbody>\n",
       "    <tr>\n",
       "      <td>62</td>\n",
       "      <td>290</td>\n",
       "      <td>zerohedge.com/news/2018-07-19/fbi-chief-threat...</td>\n",
       "      <td>7/19/2018 8:26:52 AM -04:00</td>\n",
       "      <td>FBI Chief Threatens To Quit If Trump Invites R...</td>\n",
       "      <td>by Knave Dave - Jul 18, 2018 1:11 pm ### This ...</td>\n",
       "      <td>1</td>\n",
       "      <td>en</td>\n",
       "      <td>78</td>\n",
       "      <td>2858</td>\n",
       "      <td>helsinki</td>\n",
       "    </tr>\n",
       "    <tr>\n",
       "      <td>10741</td>\n",
       "      <td>33</td>\n",
       "      <td>washingtonpost.com/news/morning-mix/wp/2018/07...</td>\n",
       "      <td>7/19/2018 11:51:57 PM -04:00</td>\n",
       "      <td>At least 8 reported dead as duck boat sinks ne...</td>\n",
       "      <td>At least 8 reported dead as duck boat sinks ne...</td>\n",
       "      <td>1</td>\n",
       "      <td>en</td>\n",
       "      <td>91</td>\n",
       "      <td>856</td>\n",
       "      <td>duckboat</td>\n",
       "    </tr>\n",
       "    <tr>\n",
       "      <td>10846</td>\n",
       "      <td>33</td>\n",
       "      <td>washingtonpost.com/news/posteverything/wp/2018...</td>\n",
       "      <td>7/19/2018 6:27:03 AM -04:00</td>\n",
       "      <td>Ukraine’s not a country, Putin told Bush. What...</td>\n",
       "      <td>PostEverything Perspective ### Perspective Int...</td>\n",
       "      <td>1</td>\n",
       "      <td>en</td>\n",
       "      <td>79</td>\n",
       "      <td>8487</td>\n",
       "      <td>helsinki</td>\n",
       "    </tr>\n",
       "    <tr>\n",
       "      <td>13359</td>\n",
       "      <td>237</td>\n",
       "      <td>hotair.com/archives/2018/07/19/looking-glass-d...</td>\n",
       "      <td>7/19/2018 1:35:59 PM -04:00</td>\n",
       "      <td>Through the looking glass: Democrats attack \"R...</td>\n",
       "      <td>Through the looking glass: Democrats attack “R...</td>\n",
       "      <td>1</td>\n",
       "      <td>en</td>\n",
       "      <td>86</td>\n",
       "      <td>4440</td>\n",
       "      <td>helsinki</td>\n",
       "    </tr>\n",
       "    <tr>\n",
       "      <td>16352</td>\n",
       "      <td>118</td>\n",
       "      <td>philly.com/philly/news/nation_world/20180719_a...</td>\n",
       "      <td>7/19/2018 11:15:42 PM -04:00</td>\n",
       "      <td>Sheriff: 8 people dead after Missouri tourist ...</td>\n",
       "      <td>Sheriff: 8 people dead after Missouri tourist ...</td>\n",
       "      <td>1</td>\n",
       "      <td>en</td>\n",
       "      <td>68</td>\n",
       "      <td>766</td>\n",
       "      <td>duckboat</td>\n",
       "    </tr>\n",
       "  </tbody>\n",
       "</table>\n",
       "</div>"
      ],
      "text/plain": [
       "       pubId                                       canonicalUrl  \\\n",
       "62       290  zerohedge.com/news/2018-07-19/fbi-chief-threat...   \n",
       "10741     33  washingtonpost.com/news/morning-mix/wp/2018/07...   \n",
       "10846     33  washingtonpost.com/news/posteverything/wp/2018...   \n",
       "13359    237  hotair.com/archives/2018/07/19/looking-glass-d...   \n",
       "16352    118  philly.com/philly/news/nation_world/20180719_a...   \n",
       "\n",
       "                        firstScrape  \\\n",
       "62      7/19/2018 8:26:52 AM -04:00   \n",
       "10741  7/19/2018 11:51:57 PM -04:00   \n",
       "10846   7/19/2018 6:27:03 AM -04:00   \n",
       "13359   7/19/2018 1:35:59 PM -04:00   \n",
       "16352  7/19/2018 11:15:42 PM -04:00   \n",
       "\n",
       "                                                   title  \\\n",
       "62     FBI Chief Threatens To Quit If Trump Invites R...   \n",
       "10741  At least 8 reported dead as duck boat sinks ne...   \n",
       "10846  Ukraine’s not a country, Putin told Bush. What...   \n",
       "13359  Through the looking glass: Democrats attack \"R...   \n",
       "16352  Sheriff: 8 people dead after Missouri tourist ...   \n",
       "\n",
       "                                                    text  lang_reliability  \\\n",
       "62     by Knave Dave - Jul 18, 2018 1:11 pm ### This ...                 1   \n",
       "10741  At least 8 reported dead as duck boat sinks ne...                 1   \n",
       "10846  PostEverything Perspective ### Perspective Int...                 1   \n",
       "13359  Through the looking glass: Democrats attack “R...                 1   \n",
       "16352  Sheriff: 8 people dead after Missouri tourist ...                 1   \n",
       "\n",
       "      lang_iso  title_len  text_len     label  \n",
       "62          en         78      2858  helsinki  \n",
       "10741       en         91       856  duckboat  \n",
       "10846       en         79      8487  helsinki  \n",
       "13359       en         86      4440  helsinki  \n",
       "16352       en         68       766  duckboat  "
      ]
     },
     "execution_count": 6,
     "metadata": {},
     "output_type": "execute_result"
    }
   ],
   "source": [
    "sample_df.head()"
   ]
  },
  {
   "cell_type": "markdown",
   "metadata": {},
   "source": [
    "## Clustering"
   ]
  },
  {
   "cell_type": "markdown",
   "metadata": {},
   "source": [
    "### Generate Graph"
   ]
  },
  {
   "cell_type": "code",
   "execution_count": 10,
   "metadata": {
    "ExecuteTime": {
     "end_time": "2019-11-21T21:45:59.330470Z",
     "start_time": "2019-11-21T21:45:59.250451Z"
    }
   },
   "outputs": [],
   "source": [
    "def generate_graph(emb) -> nx.Graph:\n",
    "    pct = np.percentile(euclidean_distances(emb), EDGE_PERCENTILE)\n",
    "    nn = NearestNeighbors(radius=pct)\n",
    "    nn.fit(emb)\n",
    "    admat = nn.radius_neighbors_graph()\n",
    "    print(admat.__repr__())\n",
    "    G = nx.from_scipy_sparse_matrix(admat)\n",
    "    return G"
   ]
  },
  {
   "cell_type": "markdown",
   "metadata": {
    "ExecuteTime": {
     "end_time": "2019-11-12T01:49:06.744265Z",
     "start_time": "2019-11-12T01:47:50.859773Z"
    }
   },
   "source": [
    "## Entity"
   ]
  },
  {
   "cell_type": "code",
   "execution_count": 25,
   "metadata": {
    "ExecuteTime": {
     "end_time": "2019-11-21T22:03:23.941955Z",
     "start_time": "2019-11-21T22:02:11.582792Z"
    }
   },
   "outputs": [
    {
     "name": "stdout",
     "output_type": "stream",
     "text": [
      "<10140x10140 sparse matrix of type '<class 'numpy.float64'>'\n",
      "\twith 3344102 stored elements in Compressed Sparse Row format>\n"
     ]
    }
   ],
   "source": [
    "entities = load_entities()\n",
    "vect = CountVectorizer()\n",
    "entity_words = [' '.join(entity) for entity in entities]\n",
    "entities_tfidf = vect.fit_transform(entity_words)\n",
    "sample_entities_tfidf = entities_tfidf[sample_df.index]\n",
    "\n",
    "G = generate_graph(sample_entities_tfidf)\n",
    "resolution = 1\n",
    "partition = community.best_partition(G, resolution=resolution)\n",
    "sample_df['cluster__entity_tfidf'] = pd.Series([v for k,v in partition.items()], index=sample_df.index)\n",
    "merge_small_clusters(sample_df, 'cluster__entity_tfidf', threshold=5)"
   ]
  },
  {
   "cell_type": "markdown",
   "metadata": {
    "ExecuteTime": {
     "end_time": "2019-11-12T01:18:02.098056Z",
     "start_time": "2019-11-12T01:18:01.966374Z"
    }
   },
   "source": [
    "### Doc2Vec"
   ]
  },
  {
   "cell_type": "code",
   "execution_count": 23,
   "metadata": {
    "ExecuteTime": {
     "end_time": "2019-11-21T22:02:11.481346Z",
     "start_time": "2019-11-21T22:00:22.558397Z"
    }
   },
   "outputs": [
    {
     "name": "stdout",
     "output_type": "stream",
     "text": [
      "<10140x10140 sparse matrix of type '<class 'numpy.float64'>'\n",
      "\twith 3074448 stored elements in Compressed Sparse Row format>\n"
     ]
    }
   ],
   "source": [
    "doc2vec = pd.read_csv('../data/embedding/Doc2Vec_embedding_output.csv',index_col=0)\n",
    "sample_doc2vec = doc2vec.loc[sample_df.index]\n",
    "G_doc2vec = generate_graph(sample_doc2vec)\n",
    "resolution = 1\n",
    "partition_doc2vec = community.best_partition(G_doc2vec, resolution=resolution)\n",
    "sample_df['cluster__doc2vec'] = pd.Series([v for k,v in partition_doc2vec.items()], index=sample_df.index)\n",
    "merge_small_clusters(sample_df, 'cluster__doc2vec', threshold=5)"
   ]
  },
  {
   "cell_type": "markdown",
   "metadata": {
    "ExecuteTime": {
     "end_time": "2019-11-12T01:18:02.098056Z",
     "start_time": "2019-11-12T01:18:01.966374Z"
    }
   },
   "source": [
    "### BoW"
   ]
  },
  {
   "cell_type": "code",
   "execution_count": 22,
   "metadata": {
    "ExecuteTime": {
     "end_time": "2019-11-21T22:00:22.555925Z",
     "start_time": "2019-11-21T21:58:40.993115Z"
    }
   },
   "outputs": [
    {
     "name": "stdout",
     "output_type": "stream",
     "text": [
      "<10140x10140 sparse matrix of type '<class 'numpy.float64'>'\n",
      "\twith 3043224 stored elements in Compressed Sparse Row format>\n"
     ]
    }
   ],
   "source": [
    "bow = np.load('../data/embedding/BagOfWord_output.npy', allow_pickle=True)\n",
    "bow = np.asmatrix(bow)[0,0]\n",
    "sample_bow = bow[sample_df.index]\n",
    "G_bow = generate_graph(sample_bow)\n",
    "resolution = 1\n",
    "partition_bow = community.best_partition(G_bow, resolution=resolution)\n",
    "sample_df['cluster__bow'] = pd.Series([v for k,v in partition_bow.items()], index=sample_df.index)\n",
    "merge_small_clusters(sample_df, 'cluster__bow', threshold=5)"
   ]
  },
  {
   "cell_type": "markdown",
   "metadata": {
    "ExecuteTime": {
     "end_time": "2019-11-12T01:52:33.567130Z",
     "start_time": "2019-11-12T01:51:23.430026Z"
    },
    "scrolled": true
   },
   "source": [
    "## BERT spacy"
   ]
  },
  {
   "cell_type": "code",
   "execution_count": 8,
   "metadata": {
    "ExecuteTime": {
     "end_time": "2019-11-21T21:45:52.798868Z",
     "start_time": "2019-11-21T21:45:52.266421Z"
    }
   },
   "outputs": [],
   "source": [
    "import pickle\n",
    "sample_bert = pickle.load(open('../data/embedding/sample_bert.p', 'rb'))"
   ]
  },
  {
   "cell_type": "code",
   "execution_count": 11,
   "metadata": {
    "ExecuteTime": {
     "end_time": "2019-11-21T21:48:49.683149Z",
     "start_time": "2019-11-21T21:46:02.127789Z"
    },
    "scrolled": true
   },
   "outputs": [
    {
     "name": "stdout",
     "output_type": "stream",
     "text": [
      "<10140x10140 sparse matrix of type '<class 'numpy.float64'>'\n",
      "\twith 3074448 stored elements in Compressed Sparse Row format>\n"
     ]
    }
   ],
   "source": [
    "G_bert = generate_graph(sample_bert)\n",
    "resolution = 1\n",
    "partition_bert = community.best_partition(G_bert, resolution=resolution)\n",
    "sample_df['cluster__bert_spacy'] = pd.Series([v for k,v in partition_bert.items()], index=sample_df.index)\n",
    "merge_small_clusters(sample_df, 'cluster__bert_spacy', threshold=5)"
   ]
  },
  {
   "cell_type": "code",
   "execution_count": 15,
   "metadata": {
    "ExecuteTime": {
     "end_time": "2019-11-21T21:51:12.059818Z",
     "start_time": "2019-11-21T21:50:34.409008Z"
    }
   },
   "outputs": [],
   "source": [
    "bert_ = pd.read_csv('../data/embedding/BERT_EMBEDDING_withindex.csv', index_col=0)"
   ]
  },
  {
   "cell_type": "code",
   "execution_count": null,
   "metadata": {
    "ExecuteTime": {
     "end_time": "2019-11-21T21:51:44.269286Z",
     "start_time": "2019-11-21T21:51:44.171547Z"
    }
   },
   "outputs": [],
   "source": [
    "bert_ = bert_.set_index('article_index')"
   ]
  },
  {
   "cell_type": "code",
   "execution_count": 19,
   "metadata": {
    "ExecuteTime": {
     "end_time": "2019-11-21T21:58:10.768950Z",
     "start_time": "2019-11-21T21:51:56.256169Z"
    }
   },
   "outputs": [
    {
     "name": "stderr",
     "output_type": "stream",
     "text": [
      "C:\\Users\\harinsa\\Anaconda3\\lib\\site-packages\\ipykernel_launcher.py:1: FutureWarning: \n",
      "Passing list-likes to .loc or [] with any missing label will raise\n",
      "KeyError in the future, you can use .reindex() as an alternative.\n",
      "\n",
      "See the documentation here:\n",
      "https://pandas.pydata.org/pandas-docs/stable/user_guide/indexing.html#deprecate-loc-reindex-listlike\n",
      "  \"\"\"Entry point for launching an IPython kernel.\n"
     ]
    },
    {
     "name": "stdout",
     "output_type": "stream",
     "text": [
      "<10140x10140 sparse matrix of type '<class 'numpy.float64'>'\n",
      "\twith 3074634 stored elements in Compressed Sparse Row format>\n"
     ]
    }
   ],
   "source": [
    "sample_bert = bert_.loc[sample_df.index]\n",
    "sample_bert = sample_bert.fillna(0)\n",
    "G_bert = generate_graph(sample_bert)\n",
    "resolution = 1\n",
    "partition_bert = community.best_partition(G_bert, resolution=resolution)\n",
    "sample_df['cluster__bert'] = pd.Series([v for k,v in partition_bert.items()], index=sample_df.index)\n",
    "merge_small_clusters(sample_df, 'cluster__bert', threshold=5)"
   ]
  },
  {
   "cell_type": "markdown",
   "metadata": {},
   "source": [
    "## BoW Lemmatize"
   ]
  },
  {
   "cell_type": "code",
   "execution_count": 39,
   "metadata": {
    "ExecuteTime": {
     "end_time": "2019-11-21T22:08:58.855487Z",
     "start_time": "2019-11-21T22:07:25.162561Z"
    }
   },
   "outputs": [
    {
     "name": "stdout",
     "output_type": "stream",
     "text": [
      "<10140x10140 sparse matrix of type '<class 'numpy.float64'>'\n",
      "\twith 3076592 stored elements in Compressed Sparse Row format>\n"
     ]
    }
   ],
   "source": [
    "def add_embedding(emb, name):\n",
    "    sample_emb = emb[sample_df.index]\n",
    "    G = generate_graph(sample_emb)\n",
    "    resolution = 1\n",
    "    partition = community.best_partition(G, resolution=resolution)\n",
    "    sample_df[f'cluster__{name}'] = pd.Series([v for k,v in partition.items()], index=sample_df.index)\n",
    "    merge_small_clusters(sample_df, f'cluster__{name}', threshold=5)\n",
    "    \n",
    "    \n",
    "bow_lemma = np.load('../data/embedding/BagOfWord2_addlemmatization_output.npy', allow_pickle=True)\n",
    "bow_lemma = np.asmatrix(bow_lemma)[0,0]\n",
    "add_embedding(bow_lemma, 'bow_lemma')"
   ]
  },
  {
   "cell_type": "markdown",
   "metadata": {},
   "source": [
    "## K-Mean"
   ]
  },
  {
   "cell_type": "code",
   "execution_count": 47,
   "metadata": {
    "ExecuteTime": {
     "end_time": "2019-11-21T22:11:25.831071Z",
     "start_time": "2019-11-21T22:11:25.732076Z"
    }
   },
   "outputs": [],
   "source": [
    "num_cluster = len(sample_df['cluster__bow'].unique())"
   ]
  },
  {
   "cell_type": "code",
   "execution_count": null,
   "metadata": {
    "ExecuteTime": {
     "start_time": "2019-11-21T22:31:00.517Z"
    }
   },
   "outputs": [],
   "source": [
    "kmean = KMeans(n_clusters=num_cluster, n_jobs=-1)\n",
    "kmean.fit(sample_bow)"
   ]
  },
  {
   "cell_type": "code",
   "execution_count": null,
   "metadata": {
    "ExecuteTime": {
     "end_time": "2019-11-21T22:13:05.705798Z",
     "start_time": "2019-11-21T22:12:28.346Z"
    }
   },
   "outputs": [],
   "source": [
    "sample_df['cluster__kmean_bow'] = kmean.label_"
   ]
  },
  {
   "cell_type": "markdown",
   "metadata": {},
   "source": [
    "## Evaluate"
   ]
  },
  {
   "cell_type": "code",
   "execution_count": 40,
   "metadata": {
    "ExecuteTime": {
     "end_time": "2019-11-21T22:09:19.818026Z",
     "start_time": "2019-11-21T22:09:19.656419Z"
    }
   },
   "outputs": [
    {
     "name": "stdout",
     "output_type": "stream",
     "text": [
      "precision\n",
      "--------------------------------------------------\n",
      "name             bert     bert2       bow  bow_lemma   doc2vec  entity_tfidf\n",
      "label                                                                       \n",
      "cave_rescue  0.148148  0.222222  0.252252   0.252252  0.252525      0.252427\n",
      "duckboat     0.074074  0.185185  0.153153   0.153153  0.161616      0.165049\n",
      "helsinki     0.464286  0.592593  0.594595   0.594595  0.585859      0.582524\n",
      "mean         0.228836  0.333333  0.333333   0.333333  0.333333      0.333333\n",
      "\n",
      "\n",
      "recall\n",
      "--------------------------------------------------\n",
      "name             bert     bert2       bow  bow_lemma   doc2vec  entity_tfidf\n",
      "label                                                                       \n",
      "cave_rescue  0.258065  0.387097  0.903226   0.903226  0.806452      0.838710\n",
      "duckboat     0.190476  0.476190  0.809524   0.809524  0.761905      0.809524\n",
      "helsinki     0.295455  0.363636  0.750000   0.750000  0.659091      0.681818\n",
      "mean         0.247998  0.408975  0.820917   0.820917  0.742482      0.776684\n",
      "\n",
      "\n",
      "f_score\n",
      "--------------------------------------------------\n",
      "name             bert     bert2       bow  bow_lemma   doc2vec  entity_tfidf\n",
      "label                                                                       \n",
      "cave_rescue  0.188235  0.282353  0.394366   0.394366  0.384615      0.388060\n",
      "duckboat     0.106667  0.266667  0.257576   0.257576  0.266667      0.274194\n",
      "helsinki     0.361111  0.450704  0.663317   0.663317  0.620321      0.628272\n",
      "mean         0.218671  0.333241  0.438420   0.438420  0.423868      0.430175\n",
      "\n",
      "\n"
     ]
    }
   ],
   "source": [
    "labeled_sampled_df = sample_df.dropna(subset=['label'])\n",
    "cluster_cols = list(filter(lambda s: 'cluster__' in s, labeled_sampled_df.columns))\n",
    "results = []\n",
    "for col in cluster_cols:\n",
    "    name = col.replace('cluster__','')\n",
    "    results += max_cluster_metric(labeled_sampled_df.label, labeled_sampled_df[col], name)\n",
    "\n",
    "results_df = pd.DataFrame(results)\n",
    "print_result_df(results_df)"
   ]
  },
  {
   "cell_type": "code",
   "execution_count": 27,
   "metadata": {
    "ExecuteTime": {
     "end_time": "2019-11-21T22:03:24.257080Z",
     "start_time": "2019-11-21T22:03:24.157322Z"
    }
   },
   "outputs": [
    {
     "data": {
      "text/html": [
       "<div>\n",
       "<style scoped>\n",
       "    .dataframe tbody tr th:only-of-type {\n",
       "        vertical-align: middle;\n",
       "    }\n",
       "\n",
       "    .dataframe tbody tr th {\n",
       "        vertical-align: top;\n",
       "    }\n",
       "\n",
       "    .dataframe thead th {\n",
       "        text-align: right;\n",
       "    }\n",
       "</style>\n",
       "<table border=\"1\" class=\"dataframe\">\n",
       "  <thead>\n",
       "    <tr style=\"text-align: right;\">\n",
       "      <th></th>\n",
       "      <th>precision</th>\n",
       "      <th>recall</th>\n",
       "      <th>f_score</th>\n",
       "    </tr>\n",
       "    <tr>\n",
       "      <th>name</th>\n",
       "      <th></th>\n",
       "      <th></th>\n",
       "      <th></th>\n",
       "    </tr>\n",
       "  </thead>\n",
       "  <tbody>\n",
       "    <tr>\n",
       "      <td>bert</td>\n",
       "      <td>0.228836</td>\n",
       "      <td>0.247998</td>\n",
       "      <td>0.218671</td>\n",
       "    </tr>\n",
       "    <tr>\n",
       "      <td>bert2</td>\n",
       "      <td>0.333333</td>\n",
       "      <td>0.408975</td>\n",
       "      <td>0.333241</td>\n",
       "    </tr>\n",
       "    <tr>\n",
       "      <td>bow</td>\n",
       "      <td>0.333333</td>\n",
       "      <td>0.820917</td>\n",
       "      <td>0.438420</td>\n",
       "    </tr>\n",
       "    <tr>\n",
       "      <td>doc2vec</td>\n",
       "      <td>0.333333</td>\n",
       "      <td>0.742482</td>\n",
       "      <td>0.423868</td>\n",
       "    </tr>\n",
       "    <tr>\n",
       "      <td>entity_tfidf</td>\n",
       "      <td>0.333333</td>\n",
       "      <td>0.776684</td>\n",
       "      <td>0.430175</td>\n",
       "    </tr>\n",
       "  </tbody>\n",
       "</table>\n",
       "</div>"
      ],
      "text/plain": [
       "              precision    recall   f_score\n",
       "name                                       \n",
       "bert           0.228836  0.247998  0.218671\n",
       "bert2          0.333333  0.408975  0.333241\n",
       "bow            0.333333  0.820917  0.438420\n",
       "doc2vec        0.333333  0.742482  0.423868\n",
       "entity_tfidf   0.333333  0.776684  0.430175"
      ]
     },
     "execution_count": 27,
     "metadata": {},
     "output_type": "execute_result"
    }
   ],
   "source": [
    "results_df.groupby('name').mean()"
   ]
  },
  {
   "cell_type": "code",
   "execution_count": 37,
   "metadata": {
    "ExecuteTime": {
     "end_time": "2019-11-21T22:05:25.689202Z",
     "start_time": "2019-11-21T22:05:25.603457Z"
    }
   },
   "outputs": [
    {
     "data": {
      "text/html": [
       "<div>\n",
       "<style scoped>\n",
       "    .dataframe tbody tr th:only-of-type {\n",
       "        vertical-align: middle;\n",
       "    }\n",
       "\n",
       "    .dataframe tbody tr th {\n",
       "        vertical-align: top;\n",
       "    }\n",
       "\n",
       "    .dataframe thead th {\n",
       "        text-align: right;\n",
       "    }\n",
       "</style>\n",
       "<table border=\"1\" class=\"dataframe\">\n",
       "  <thead>\n",
       "    <tr style=\"text-align: right;\">\n",
       "      <th></th>\n",
       "      <th>label</th>\n",
       "      <th>precision</th>\n",
       "      <th>recall</th>\n",
       "      <th>f_score</th>\n",
       "      <th>name</th>\n",
       "    </tr>\n",
       "  </thead>\n",
       "  <tbody>\n",
       "    <tr>\n",
       "      <td>0</td>\n",
       "      <td>duckboat</td>\n",
       "      <td>0.074074</td>\n",
       "      <td>0.190476</td>\n",
       "      <td>0.106667</td>\n",
       "      <td>bert_spacy</td>\n",
       "    </tr>\n",
       "    <tr>\n",
       "      <td>1</td>\n",
       "      <td>helsinki</td>\n",
       "      <td>0.464286</td>\n",
       "      <td>0.295455</td>\n",
       "      <td>0.361111</td>\n",
       "      <td>bert_spacy</td>\n",
       "    </tr>\n",
       "    <tr>\n",
       "      <td>2</td>\n",
       "      <td>cave_rescue</td>\n",
       "      <td>0.148148</td>\n",
       "      <td>0.258065</td>\n",
       "      <td>0.188235</td>\n",
       "      <td>bert_spacy</td>\n",
       "    </tr>\n",
       "    <tr>\n",
       "      <td>3</td>\n",
       "      <td>duckboat</td>\n",
       "      <td>0.185185</td>\n",
       "      <td>0.476190</td>\n",
       "      <td>0.266667</td>\n",
       "      <td>bert</td>\n",
       "    </tr>\n",
       "    <tr>\n",
       "      <td>4</td>\n",
       "      <td>helsinki</td>\n",
       "      <td>0.592593</td>\n",
       "      <td>0.363636</td>\n",
       "      <td>0.450704</td>\n",
       "      <td>bert</td>\n",
       "    </tr>\n",
       "    <tr>\n",
       "      <td>5</td>\n",
       "      <td>cave_rescue</td>\n",
       "      <td>0.222222</td>\n",
       "      <td>0.387097</td>\n",
       "      <td>0.282353</td>\n",
       "      <td>bert</td>\n",
       "    </tr>\n",
       "    <tr>\n",
       "      <td>6</td>\n",
       "      <td>duckboat</td>\n",
       "      <td>0.153153</td>\n",
       "      <td>0.809524</td>\n",
       "      <td>0.257576</td>\n",
       "      <td>bow</td>\n",
       "    </tr>\n",
       "    <tr>\n",
       "      <td>7</td>\n",
       "      <td>helsinki</td>\n",
       "      <td>0.594595</td>\n",
       "      <td>0.750000</td>\n",
       "      <td>0.663317</td>\n",
       "      <td>bow</td>\n",
       "    </tr>\n",
       "    <tr>\n",
       "      <td>8</td>\n",
       "      <td>cave_rescue</td>\n",
       "      <td>0.252252</td>\n",
       "      <td>0.903226</td>\n",
       "      <td>0.394366</td>\n",
       "      <td>bow</td>\n",
       "    </tr>\n",
       "    <tr>\n",
       "      <td>9</td>\n",
       "      <td>duckboat</td>\n",
       "      <td>0.161616</td>\n",
       "      <td>0.761905</td>\n",
       "      <td>0.266667</td>\n",
       "      <td>doc2vec</td>\n",
       "    </tr>\n",
       "    <tr>\n",
       "      <td>10</td>\n",
       "      <td>helsinki</td>\n",
       "      <td>0.585859</td>\n",
       "      <td>0.659091</td>\n",
       "      <td>0.620321</td>\n",
       "      <td>doc2vec</td>\n",
       "    </tr>\n",
       "    <tr>\n",
       "      <td>11</td>\n",
       "      <td>cave_rescue</td>\n",
       "      <td>0.252525</td>\n",
       "      <td>0.806452</td>\n",
       "      <td>0.384615</td>\n",
       "      <td>doc2vec</td>\n",
       "    </tr>\n",
       "    <tr>\n",
       "      <td>12</td>\n",
       "      <td>duckboat</td>\n",
       "      <td>0.165049</td>\n",
       "      <td>0.809524</td>\n",
       "      <td>0.274194</td>\n",
       "      <td>entity_count</td>\n",
       "    </tr>\n",
       "    <tr>\n",
       "      <td>13</td>\n",
       "      <td>helsinki</td>\n",
       "      <td>0.582524</td>\n",
       "      <td>0.681818</td>\n",
       "      <td>0.628272</td>\n",
       "      <td>entity_count</td>\n",
       "    </tr>\n",
       "    <tr>\n",
       "      <td>14</td>\n",
       "      <td>cave_rescue</td>\n",
       "      <td>0.252427</td>\n",
       "      <td>0.838710</td>\n",
       "      <td>0.388060</td>\n",
       "      <td>entity_count</td>\n",
       "    </tr>\n",
       "  </tbody>\n",
       "</table>\n",
       "</div>"
      ],
      "text/plain": [
       "          label  precision    recall   f_score          name\n",
       "0      duckboat   0.074074  0.190476  0.106667    bert_spacy\n",
       "1      helsinki   0.464286  0.295455  0.361111    bert_spacy\n",
       "2   cave_rescue   0.148148  0.258065  0.188235    bert_spacy\n",
       "3      duckboat   0.185185  0.476190  0.266667          bert\n",
       "4      helsinki   0.592593  0.363636  0.450704          bert\n",
       "5   cave_rescue   0.222222  0.387097  0.282353          bert\n",
       "6      duckboat   0.153153  0.809524  0.257576           bow\n",
       "7      helsinki   0.594595  0.750000  0.663317           bow\n",
       "8   cave_rescue   0.252252  0.903226  0.394366           bow\n",
       "9      duckboat   0.161616  0.761905  0.266667       doc2vec\n",
       "10     helsinki   0.585859  0.659091  0.620321       doc2vec\n",
       "11  cave_rescue   0.252525  0.806452  0.384615       doc2vec\n",
       "12     duckboat   0.165049  0.809524  0.274194  entity_count\n",
       "13     helsinki   0.582524  0.681818  0.628272  entity_count\n",
       "14  cave_rescue   0.252427  0.838710  0.388060  entity_count"
      ]
     },
     "execution_count": 37,
     "metadata": {},
     "output_type": "execute_result"
    }
   ],
   "source": [
    "results_df"
   ]
  },
  {
   "cell_type": "code",
   "execution_count": 56,
   "metadata": {
    "ExecuteTime": {
     "end_time": "2019-11-21T22:23:02.414205Z",
     "start_time": "2019-11-21T22:23:02.312236Z"
    }
   },
   "outputs": [],
   "source": [
    "results_df.to_csv('../data/clustering/progress_report2_metrics.csv')"
   ]
  },
  {
   "cell_type": "code",
   "execution_count": 57,
   "metadata": {
    "ExecuteTime": {
     "end_time": "2019-11-21T22:23:04.249056Z",
     "start_time": "2019-11-21T22:23:02.781018Z"
    }
   },
   "outputs": [],
   "source": [
    "sample_df.to_csv('../data/clustering/progress_report2_assignment.csv')"
   ]
  },
  {
   "cell_type": "code",
   "execution_count": null,
   "metadata": {},
   "outputs": [],
   "source": []
  }
 ],
 "metadata": {
  "kernelspec": {
   "display_name": "Python 3",
   "language": "python",
   "name": "python3"
  },
  "language_info": {
   "codemirror_mode": {
    "name": "ipython",
    "version": 3
   },
   "file_extension": ".py",
   "mimetype": "text/x-python",
   "name": "python",
   "nbconvert_exporter": "python",
   "pygments_lexer": "ipython3",
   "version": "3.7.4"
  }
 },
 "nbformat": 4,
 "nbformat_minor": 2
}
