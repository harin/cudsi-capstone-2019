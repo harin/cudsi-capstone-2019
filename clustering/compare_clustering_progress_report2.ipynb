{
 "cells": [
  {
   "cell_type": "code",
   "execution_count": 1,
   "metadata": {
    "ExecuteTime": {
     "end_time": "2019-11-22T18:59:23.989899Z",
     "start_time": "2019-11-22T18:59:23.952997Z"
    }
   },
   "outputs": [],
   "source": [
    "%load_ext autoreload\n",
    "%autoreload 2"
   ]
  },
  {
   "cell_type": "code",
   "execution_count": 2,
   "metadata": {
    "ExecuteTime": {
     "end_time": "2019-11-22T18:59:26.317933Z",
     "start_time": "2019-11-22T18:59:23.990889Z"
    }
   },
   "outputs": [],
   "source": [
    "import json\n",
    "import community\n",
    "import numpy as np\n",
    "import pandas as pd\n",
    "import networkx as nx\n",
    "import matplotlib.pyplot as plt\n",
    "import gc\n",
    "\n",
    "from IPython.display import HTML\n",
    "from sklearn.neighbors import NearestNeighbors\n",
    "from sklearn.metrics.pairwise import cosine_similarity, euclidean_distances\n",
    "from sklearn.feature_extraction.text import TfidfVectorizer, CountVectorizer\n",
    "from sklearn.cluster import KMeans\n",
    "from collections import defaultdict\n",
    "\n",
    "%matplotlib inline"
   ]
  },
  {
   "cell_type": "code",
   "execution_count": 3,
   "metadata": {
    "ExecuteTime": {
     "end_time": "2019-11-22T18:59:26.416652Z",
     "start_time": "2019-11-22T18:59:26.320685Z"
    }
   },
   "outputs": [],
   "source": [
    "from utils import read_article_df, load_label, load_entities, max_cluster_metric, print_result_df, merge_small_clusters"
   ]
  },
  {
   "cell_type": "markdown",
   "metadata": {
    "ExecuteTime": {
     "end_time": "2019-11-12T00:30:41.814537Z",
     "start_time": "2019-11-12T00:30:41.811393Z"
    }
   },
   "source": [
    "## Config"
   ]
  },
  {
   "cell_type": "code",
   "execution_count": 42,
   "metadata": {
    "ExecuteTime": {
     "end_time": "2019-11-22T20:08:28.778093Z",
     "start_time": "2019-11-22T20:08:28.694293Z"
    }
   },
   "outputs": [],
   "source": [
    "SAMPLE_SIZE = 10000\n",
    "MIN_EDGE_PCT = 3\n",
    "MAX_EDGE_PCT = 6 # 0 - 100"
   ]
  },
  {
   "cell_type": "markdown",
   "metadata": {
    "ExecuteTime": {
     "end_time": "2019-11-12T00:30:55.782885Z",
     "start_time": "2019-11-12T00:30:44.524499Z"
    }
   },
   "source": [
    "## Prepare Data"
   ]
  },
  {
   "cell_type": "code",
   "execution_count": 5,
   "metadata": {
    "ExecuteTime": {
     "end_time": "2019-11-22T18:59:27.009722Z",
     "start_time": "2019-11-22T18:59:26.505162Z"
    }
   },
   "outputs": [],
   "source": [
    "sample_df = pd.read_csv('../data/sample_articles.csv', index_col=0)"
   ]
  },
  {
   "cell_type": "code",
   "execution_count": 6,
   "metadata": {
    "ExecuteTime": {
     "end_time": "2019-11-22T18:59:27.133354Z",
     "start_time": "2019-11-22T18:59:27.011679Z"
    }
   },
   "outputs": [
    {
     "data": {
      "text/html": [
       "<div>\n",
       "<style scoped>\n",
       "    .dataframe tbody tr th:only-of-type {\n",
       "        vertical-align: middle;\n",
       "    }\n",
       "\n",
       "    .dataframe tbody tr th {\n",
       "        vertical-align: top;\n",
       "    }\n",
       "\n",
       "    .dataframe thead th {\n",
       "        text-align: right;\n",
       "    }\n",
       "</style>\n",
       "<table border=\"1\" class=\"dataframe\">\n",
       "  <thead>\n",
       "    <tr style=\"text-align: right;\">\n",
       "      <th></th>\n",
       "      <th>pubId</th>\n",
       "      <th>canonicalUrl</th>\n",
       "      <th>firstScrape</th>\n",
       "      <th>title</th>\n",
       "      <th>text</th>\n",
       "      <th>lang_reliability</th>\n",
       "      <th>lang_iso</th>\n",
       "      <th>title_len</th>\n",
       "      <th>text_len</th>\n",
       "      <th>label</th>\n",
       "    </tr>\n",
       "  </thead>\n",
       "  <tbody>\n",
       "    <tr>\n",
       "      <td>62</td>\n",
       "      <td>290</td>\n",
       "      <td>zerohedge.com/news/2018-07-19/fbi-chief-threat...</td>\n",
       "      <td>7/19/2018 8:26:52 AM -04:00</td>\n",
       "      <td>FBI Chief Threatens To Quit If Trump Invites R...</td>\n",
       "      <td>by Knave Dave - Jul 18, 2018 1:11 pm ### This ...</td>\n",
       "      <td>1</td>\n",
       "      <td>en</td>\n",
       "      <td>78</td>\n",
       "      <td>2858</td>\n",
       "      <td>helsinki</td>\n",
       "    </tr>\n",
       "    <tr>\n",
       "      <td>10741</td>\n",
       "      <td>33</td>\n",
       "      <td>washingtonpost.com/news/morning-mix/wp/2018/07...</td>\n",
       "      <td>7/19/2018 11:51:57 PM -04:00</td>\n",
       "      <td>At least 8 reported dead as duck boat sinks ne...</td>\n",
       "      <td>At least 8 reported dead as duck boat sinks ne...</td>\n",
       "      <td>1</td>\n",
       "      <td>en</td>\n",
       "      <td>91</td>\n",
       "      <td>856</td>\n",
       "      <td>duckboat</td>\n",
       "    </tr>\n",
       "    <tr>\n",
       "      <td>10846</td>\n",
       "      <td>33</td>\n",
       "      <td>washingtonpost.com/news/posteverything/wp/2018...</td>\n",
       "      <td>7/19/2018 6:27:03 AM -04:00</td>\n",
       "      <td>Ukraine’s not a country, Putin told Bush. What...</td>\n",
       "      <td>PostEverything Perspective ### Perspective Int...</td>\n",
       "      <td>1</td>\n",
       "      <td>en</td>\n",
       "      <td>79</td>\n",
       "      <td>8487</td>\n",
       "      <td>helsinki</td>\n",
       "    </tr>\n",
       "    <tr>\n",
       "      <td>13359</td>\n",
       "      <td>237</td>\n",
       "      <td>hotair.com/archives/2018/07/19/looking-glass-d...</td>\n",
       "      <td>7/19/2018 1:35:59 PM -04:00</td>\n",
       "      <td>Through the looking glass: Democrats attack \"R...</td>\n",
       "      <td>Through the looking glass: Democrats attack “R...</td>\n",
       "      <td>1</td>\n",
       "      <td>en</td>\n",
       "      <td>86</td>\n",
       "      <td>4440</td>\n",
       "      <td>helsinki</td>\n",
       "    </tr>\n",
       "    <tr>\n",
       "      <td>16352</td>\n",
       "      <td>118</td>\n",
       "      <td>philly.com/philly/news/nation_world/20180719_a...</td>\n",
       "      <td>7/19/2018 11:15:42 PM -04:00</td>\n",
       "      <td>Sheriff: 8 people dead after Missouri tourist ...</td>\n",
       "      <td>Sheriff: 8 people dead after Missouri tourist ...</td>\n",
       "      <td>1</td>\n",
       "      <td>en</td>\n",
       "      <td>68</td>\n",
       "      <td>766</td>\n",
       "      <td>duckboat</td>\n",
       "    </tr>\n",
       "  </tbody>\n",
       "</table>\n",
       "</div>"
      ],
      "text/plain": [
       "       pubId                                       canonicalUrl  \\\n",
       "62       290  zerohedge.com/news/2018-07-19/fbi-chief-threat...   \n",
       "10741     33  washingtonpost.com/news/morning-mix/wp/2018/07...   \n",
       "10846     33  washingtonpost.com/news/posteverything/wp/2018...   \n",
       "13359    237  hotair.com/archives/2018/07/19/looking-glass-d...   \n",
       "16352    118  philly.com/philly/news/nation_world/20180719_a...   \n",
       "\n",
       "                        firstScrape  \\\n",
       "62      7/19/2018 8:26:52 AM -04:00   \n",
       "10741  7/19/2018 11:51:57 PM -04:00   \n",
       "10846   7/19/2018 6:27:03 AM -04:00   \n",
       "13359   7/19/2018 1:35:59 PM -04:00   \n",
       "16352  7/19/2018 11:15:42 PM -04:00   \n",
       "\n",
       "                                                   title  \\\n",
       "62     FBI Chief Threatens To Quit If Trump Invites R...   \n",
       "10741  At least 8 reported dead as duck boat sinks ne...   \n",
       "10846  Ukraine’s not a country, Putin told Bush. What...   \n",
       "13359  Through the looking glass: Democrats attack \"R...   \n",
       "16352  Sheriff: 8 people dead after Missouri tourist ...   \n",
       "\n",
       "                                                    text  lang_reliability  \\\n",
       "62     by Knave Dave - Jul 18, 2018 1:11 pm ### This ...                 1   \n",
       "10741  At least 8 reported dead as duck boat sinks ne...                 1   \n",
       "10846  PostEverything Perspective ### Perspective Int...                 1   \n",
       "13359  Through the looking glass: Democrats attack “R...                 1   \n",
       "16352  Sheriff: 8 people dead after Missouri tourist ...                 1   \n",
       "\n",
       "      lang_iso  title_len  text_len     label  \n",
       "62          en         78      2858  helsinki  \n",
       "10741       en         91       856  duckboat  \n",
       "10846       en         79      8487  helsinki  \n",
       "13359       en         86      4440  helsinki  \n",
       "16352       en         68       766  duckboat  "
      ]
     },
     "execution_count": 6,
     "metadata": {},
     "output_type": "execute_result"
    }
   ],
   "source": [
    "sample_df.head()"
   ]
  },
  {
   "cell_type": "markdown",
   "metadata": {},
   "source": [
    "## Clustering"
   ]
  },
  {
   "cell_type": "markdown",
   "metadata": {},
   "source": [
    "### Generate Graph"
   ]
  },
  {
   "cell_type": "code",
   "execution_count": 49,
   "metadata": {
    "ExecuteTime": {
     "end_time": "2019-11-22T20:17:46.900242Z",
     "start_time": "2019-11-22T20:17:46.796498Z"
    }
   },
   "outputs": [],
   "source": [
    "def generate_graph(emb, min_edge_pct = MIN_EDGE_PCT, max_edge_pct = MAX_EDGE_PCT) -> nx.Graph:\n",
    "    min_distance = np.percentile(euclidean_distances(emb), min_edge_pct)\n",
    "    max_distance = np.percentile(euclidean_distances(emb), max_edge_pct)\n",
    "    min_nn = NearestNeighbors(radius=min_distance)\n",
    "    min_nn.fit(emb)\n",
    "    min_admat = min_nn.radius_neighbors_graph()\n",
    "    \n",
    "    max_nn = NearestNeighbors(radius=max_distance)\n",
    "    max_nn.fit(emb)\n",
    "    max_admat = max_nn.radius_neighbors_graph()\n",
    "    \n",
    "    # remove below min edge\n",
    "    max_admat[min_admat.astype('bool')] = 0\n",
    "    max_admat.eliminate_zeros()\n",
    "    print(max_admat.__repr__())\n",
    "    \n",
    "    G = nx.from_scipy_sparse_matrix(max_admat)\n",
    "    return G"
   ]
  },
  {
   "cell_type": "markdown",
   "metadata": {
    "ExecuteTime": {
     "end_time": "2019-11-12T01:49:06.744265Z",
     "start_time": "2019-11-12T01:47:50.859773Z"
    }
   },
   "source": [
    "## Entity"
   ]
  },
  {
   "cell_type": "code",
   "execution_count": 55,
   "metadata": {
    "ExecuteTime": {
     "end_time": "2019-11-22T20:49:45.442753Z",
     "start_time": "2019-11-22T20:44:49.039735Z"
    }
   },
   "outputs": [
    {
     "name": "stdout",
     "output_type": "stream",
     "text": [
      "<10140x10140 sparse matrix of type '<class 'numpy.float64'>'\n",
      "\twith 15144270 stored elements in Compressed Sparse Row format>\n"
     ]
    }
   ],
   "source": [
    "entities = load_entities()\n",
    "\n",
    "# for i in range(3, 30, 3):\n",
    "vect = CountVectorizer()\n",
    "entity_words = [' '.join(entity) for entity in entities]\n",
    "entities_tfidf = vect.fit_transform(entity_words)\n",
    "sample_entities_tfidf = entities_tfidf[sample_df.index]\n",
    "min_edge_pct = 27\n",
    "max_edge_pct = 30\n",
    "G = generate_graph(sample_entities_tfidf, min_edge_pct=min_edge_pct, max_edge_pct=max_edge_pct)\n",
    "resolution = 1\n",
    "partition = community.best_partition(G, resolution=resolution)\n",
    "cname = f'cluster__entity_count_{min_edge_pct}to{max_edge_pct}'\n",
    "sample_df[cname] = pd.Series([v for k,v in partition.items()], index=sample_df.index)\n",
    "merge_small_clusters(sample_df, cname, threshold=5)"
   ]
  },
  {
   "cell_type": "markdown",
   "metadata": {
    "ExecuteTime": {
     "end_time": "2019-11-12T01:18:02.098056Z",
     "start_time": "2019-11-12T01:18:01.966374Z"
    }
   },
   "source": [
    "### Doc2Vec"
   ]
  },
  {
   "cell_type": "code",
   "execution_count": 59,
   "metadata": {
    "ExecuteTime": {
     "end_time": "2019-11-22T21:13:34.533312Z",
     "start_time": "2019-11-22T20:53:38.785396Z"
    }
   },
   "outputs": [
    {
     "name": "stdout",
     "output_type": "stream",
     "text": [
      "<10140x10140 sparse matrix of type '<class 'numpy.float64'>'\n",
      "\twith 3084588 stored elements in Compressed Sparse Row format>\n",
      "<10140x10140 sparse matrix of type '<class 'numpy.float64'>'\n",
      "\twith 3084588 stored elements in Compressed Sparse Row format>\n",
      "<10140x10140 sparse matrix of type '<class 'numpy.float64'>'\n",
      "\twith 3084588 stored elements in Compressed Sparse Row format>\n",
      "<10140x10140 sparse matrix of type '<class 'numpy.float64'>'\n",
      "\twith 3084588 stored elements in Compressed Sparse Row format>\n"
     ]
    },
    {
     "ename": "KeyboardInterrupt",
     "evalue": "",
     "output_type": "error",
     "traceback": [
      "\u001b[1;31m---------------------------------------------------------------------------\u001b[0m",
      "\u001b[1;31mKeyboardInterrupt\u001b[0m                         Traceback (most recent call last)",
      "\u001b[1;32m<ipython-input-59-522d313a517c>\u001b[0m in \u001b[0;36m<module>\u001b[1;34m\u001b[0m\n\u001b[0;32m      6\u001b[0m     \u001b[0mmin_edge_pct\u001b[0m \u001b[1;33m=\u001b[0m \u001b[1;36m27\u001b[0m\u001b[1;33m\u001b[0m\u001b[1;33m\u001b[0m\u001b[0m\n\u001b[0;32m      7\u001b[0m     \u001b[0mmax_edge_pct\u001b[0m \u001b[1;33m=\u001b[0m \u001b[1;36m30\u001b[0m\u001b[1;33m\u001b[0m\u001b[1;33m\u001b[0m\u001b[0m\n\u001b[1;32m----> 8\u001b[1;33m     \u001b[0mG\u001b[0m \u001b[1;33m=\u001b[0m \u001b[0mgenerate_graph\u001b[0m\u001b[1;33m(\u001b[0m\u001b[0msample_doc2vec\u001b[0m\u001b[1;33m,\u001b[0m \u001b[0mmin_edge_pct\u001b[0m\u001b[1;33m=\u001b[0m\u001b[0mmin_edge_pct\u001b[0m\u001b[1;33m,\u001b[0m \u001b[0mmax_edge_pct\u001b[0m\u001b[1;33m=\u001b[0m\u001b[0mmax_edge_pct\u001b[0m\u001b[1;33m)\u001b[0m\u001b[1;33m\u001b[0m\u001b[1;33m\u001b[0m\u001b[0m\n\u001b[0m\u001b[0;32m      9\u001b[0m     \u001b[0mpartition_doc2vec\u001b[0m \u001b[1;33m=\u001b[0m \u001b[0mcommunity\u001b[0m\u001b[1;33m.\u001b[0m\u001b[0mbest_partition\u001b[0m\u001b[1;33m(\u001b[0m\u001b[0mG_doc2vec\u001b[0m\u001b[1;33m,\u001b[0m \u001b[0mresolution\u001b[0m\u001b[1;33m=\u001b[0m\u001b[0mresolution\u001b[0m\u001b[1;33m)\u001b[0m\u001b[1;33m\u001b[0m\u001b[1;33m\u001b[0m\u001b[0m\n\u001b[0;32m     10\u001b[0m     \u001b[0mcname\u001b[0m \u001b[1;33m=\u001b[0m \u001b[1;34mf'cluster__doc2vec_{min_edge_pct}to{max_edge_pct}'\u001b[0m\u001b[1;33m\u001b[0m\u001b[1;33m\u001b[0m\u001b[0m\n",
      "\u001b[1;32m<ipython-input-49-626840d68516>\u001b[0m in \u001b[0;36mgenerate_graph\u001b[1;34m(emb, min_edge_pct, max_edge_pct)\u001b[0m\n\u001b[0;32m      8\u001b[0m     \u001b[0mmax_nn\u001b[0m \u001b[1;33m=\u001b[0m \u001b[0mNearestNeighbors\u001b[0m\u001b[1;33m(\u001b[0m\u001b[0mradius\u001b[0m\u001b[1;33m=\u001b[0m\u001b[0mmax_distance\u001b[0m\u001b[1;33m)\u001b[0m\u001b[1;33m\u001b[0m\u001b[1;33m\u001b[0m\u001b[0m\n\u001b[0;32m      9\u001b[0m     \u001b[0mmax_nn\u001b[0m\u001b[1;33m.\u001b[0m\u001b[0mfit\u001b[0m\u001b[1;33m(\u001b[0m\u001b[0memb\u001b[0m\u001b[1;33m)\u001b[0m\u001b[1;33m\u001b[0m\u001b[1;33m\u001b[0m\u001b[0m\n\u001b[1;32m---> 10\u001b[1;33m     \u001b[0mmax_admat\u001b[0m \u001b[1;33m=\u001b[0m \u001b[0mmax_nn\u001b[0m\u001b[1;33m.\u001b[0m\u001b[0mradius_neighbors_graph\u001b[0m\u001b[1;33m(\u001b[0m\u001b[1;33m)\u001b[0m\u001b[1;33m\u001b[0m\u001b[1;33m\u001b[0m\u001b[0m\n\u001b[0m\u001b[0;32m     11\u001b[0m \u001b[1;33m\u001b[0m\u001b[0m\n\u001b[0;32m     12\u001b[0m     \u001b[1;31m# remove below min edge\u001b[0m\u001b[1;33m\u001b[0m\u001b[1;33m\u001b[0m\u001b[1;33m\u001b[0m\u001b[0m\n",
      "\u001b[1;32m~\\Anaconda3\\lib\\site-packages\\sklearn\\neighbors\\base.py\u001b[0m in \u001b[0;36mradius_neighbors_graph\u001b[1;34m(self, X, radius, mode)\u001b[0m\n\u001b[0;32m    832\u001b[0m         \u001b[1;32mif\u001b[0m \u001b[0mmode\u001b[0m \u001b[1;33m==\u001b[0m \u001b[1;34m'connectivity'\u001b[0m\u001b[1;33m:\u001b[0m\u001b[1;33m\u001b[0m\u001b[1;33m\u001b[0m\u001b[0m\n\u001b[0;32m    833\u001b[0m             A_ind = self.radius_neighbors(X, radius,\n\u001b[1;32m--> 834\u001b[1;33m                                           return_distance=False)\n\u001b[0m\u001b[0;32m    835\u001b[0m             \u001b[0mA_data\u001b[0m \u001b[1;33m=\u001b[0m \u001b[1;32mNone\u001b[0m\u001b[1;33m\u001b[0m\u001b[1;33m\u001b[0m\u001b[0m\n\u001b[0;32m    836\u001b[0m         \u001b[1;32melif\u001b[0m \u001b[0mmode\u001b[0m \u001b[1;33m==\u001b[0m \u001b[1;34m'distance'\u001b[0m\u001b[1;33m:\u001b[0m\u001b[1;33m\u001b[0m\u001b[1;33m\u001b[0m\u001b[0m\n",
      "\u001b[1;32m~\\Anaconda3\\lib\\site-packages\\sklearn\\neighbors\\base.py\u001b[0m in \u001b[0;36mradius_neighbors\u001b[1;34m(self, X, radius, return_distance)\u001b[0m\n\u001b[0;32m    745\u001b[0m             results = Parallel(n_jobs, **parallel_kwargs)(\n\u001b[0;32m    746\u001b[0m                 \u001b[0mdelayed_query\u001b[0m\u001b[1;33m(\u001b[0m\u001b[0mself\u001b[0m\u001b[1;33m.\u001b[0m\u001b[0m_tree\u001b[0m\u001b[1;33m,\u001b[0m \u001b[0mX\u001b[0m\u001b[1;33m[\u001b[0m\u001b[0ms\u001b[0m\u001b[1;33m]\u001b[0m\u001b[1;33m,\u001b[0m \u001b[0mradius\u001b[0m\u001b[1;33m,\u001b[0m \u001b[0mreturn_distance\u001b[0m\u001b[1;33m)\u001b[0m\u001b[1;33m\u001b[0m\u001b[1;33m\u001b[0m\u001b[0m\n\u001b[1;32m--> 747\u001b[1;33m                 \u001b[1;32mfor\u001b[0m \u001b[0ms\u001b[0m \u001b[1;32min\u001b[0m \u001b[0mgen_even_slices\u001b[0m\u001b[1;33m(\u001b[0m\u001b[0mX\u001b[0m\u001b[1;33m.\u001b[0m\u001b[0mshape\u001b[0m\u001b[1;33m[\u001b[0m\u001b[1;36m0\u001b[0m\u001b[1;33m]\u001b[0m\u001b[1;33m,\u001b[0m \u001b[0mn_jobs\u001b[0m\u001b[1;33m)\u001b[0m\u001b[1;33m\u001b[0m\u001b[1;33m\u001b[0m\u001b[0m\n\u001b[0m\u001b[0;32m    748\u001b[0m             )\n\u001b[0;32m    749\u001b[0m             \u001b[1;32mif\u001b[0m \u001b[0mreturn_distance\u001b[0m\u001b[1;33m:\u001b[0m\u001b[1;33m\u001b[0m\u001b[1;33m\u001b[0m\u001b[0m\n",
      "\u001b[1;32m~\\Anaconda3\\lib\\site-packages\\joblib\\parallel.py\u001b[0m in \u001b[0;36m__call__\u001b[1;34m(self, iterable)\u001b[0m\n\u001b[0;32m    919\u001b[0m             \u001b[1;31m# remaining jobs.\u001b[0m\u001b[1;33m\u001b[0m\u001b[1;33m\u001b[0m\u001b[1;33m\u001b[0m\u001b[0m\n\u001b[0;32m    920\u001b[0m             \u001b[0mself\u001b[0m\u001b[1;33m.\u001b[0m\u001b[0m_iterating\u001b[0m \u001b[1;33m=\u001b[0m \u001b[1;32mFalse\u001b[0m\u001b[1;33m\u001b[0m\u001b[1;33m\u001b[0m\u001b[0m\n\u001b[1;32m--> 921\u001b[1;33m             \u001b[1;32mif\u001b[0m \u001b[0mself\u001b[0m\u001b[1;33m.\u001b[0m\u001b[0mdispatch_one_batch\u001b[0m\u001b[1;33m(\u001b[0m\u001b[0miterator\u001b[0m\u001b[1;33m)\u001b[0m\u001b[1;33m:\u001b[0m\u001b[1;33m\u001b[0m\u001b[1;33m\u001b[0m\u001b[0m\n\u001b[0m\u001b[0;32m    922\u001b[0m                 \u001b[0mself\u001b[0m\u001b[1;33m.\u001b[0m\u001b[0m_iterating\u001b[0m \u001b[1;33m=\u001b[0m \u001b[0mself\u001b[0m\u001b[1;33m.\u001b[0m\u001b[0m_original_iterator\u001b[0m \u001b[1;32mis\u001b[0m \u001b[1;32mnot\u001b[0m \u001b[1;32mNone\u001b[0m\u001b[1;33m\u001b[0m\u001b[1;33m\u001b[0m\u001b[0m\n\u001b[0;32m    923\u001b[0m \u001b[1;33m\u001b[0m\u001b[0m\n",
      "\u001b[1;32m~\\Anaconda3\\lib\\site-packages\\joblib\\parallel.py\u001b[0m in \u001b[0;36mdispatch_one_batch\u001b[1;34m(self, iterator)\u001b[0m\n\u001b[0;32m    757\u001b[0m                 \u001b[1;32mreturn\u001b[0m \u001b[1;32mFalse\u001b[0m\u001b[1;33m\u001b[0m\u001b[1;33m\u001b[0m\u001b[0m\n\u001b[0;32m    758\u001b[0m             \u001b[1;32melse\u001b[0m\u001b[1;33m:\u001b[0m\u001b[1;33m\u001b[0m\u001b[1;33m\u001b[0m\u001b[0m\n\u001b[1;32m--> 759\u001b[1;33m                 \u001b[0mself\u001b[0m\u001b[1;33m.\u001b[0m\u001b[0m_dispatch\u001b[0m\u001b[1;33m(\u001b[0m\u001b[0mtasks\u001b[0m\u001b[1;33m)\u001b[0m\u001b[1;33m\u001b[0m\u001b[1;33m\u001b[0m\u001b[0m\n\u001b[0m\u001b[0;32m    760\u001b[0m                 \u001b[1;32mreturn\u001b[0m \u001b[1;32mTrue\u001b[0m\u001b[1;33m\u001b[0m\u001b[1;33m\u001b[0m\u001b[0m\n\u001b[0;32m    761\u001b[0m \u001b[1;33m\u001b[0m\u001b[0m\n",
      "\u001b[1;32m~\\Anaconda3\\lib\\site-packages\\joblib\\parallel.py\u001b[0m in \u001b[0;36m_dispatch\u001b[1;34m(self, batch)\u001b[0m\n\u001b[0;32m    714\u001b[0m         \u001b[1;32mwith\u001b[0m \u001b[0mself\u001b[0m\u001b[1;33m.\u001b[0m\u001b[0m_lock\u001b[0m\u001b[1;33m:\u001b[0m\u001b[1;33m\u001b[0m\u001b[1;33m\u001b[0m\u001b[0m\n\u001b[0;32m    715\u001b[0m             \u001b[0mjob_idx\u001b[0m \u001b[1;33m=\u001b[0m \u001b[0mlen\u001b[0m\u001b[1;33m(\u001b[0m\u001b[0mself\u001b[0m\u001b[1;33m.\u001b[0m\u001b[0m_jobs\u001b[0m\u001b[1;33m)\u001b[0m\u001b[1;33m\u001b[0m\u001b[1;33m\u001b[0m\u001b[0m\n\u001b[1;32m--> 716\u001b[1;33m             \u001b[0mjob\u001b[0m \u001b[1;33m=\u001b[0m \u001b[0mself\u001b[0m\u001b[1;33m.\u001b[0m\u001b[0m_backend\u001b[0m\u001b[1;33m.\u001b[0m\u001b[0mapply_async\u001b[0m\u001b[1;33m(\u001b[0m\u001b[0mbatch\u001b[0m\u001b[1;33m,\u001b[0m \u001b[0mcallback\u001b[0m\u001b[1;33m=\u001b[0m\u001b[0mcb\u001b[0m\u001b[1;33m)\u001b[0m\u001b[1;33m\u001b[0m\u001b[1;33m\u001b[0m\u001b[0m\n\u001b[0m\u001b[0;32m    717\u001b[0m             \u001b[1;31m# A job can complete so quickly than its callback is\u001b[0m\u001b[1;33m\u001b[0m\u001b[1;33m\u001b[0m\u001b[1;33m\u001b[0m\u001b[0m\n\u001b[0;32m    718\u001b[0m             \u001b[1;31m# called before we get here, causing self._jobs to\u001b[0m\u001b[1;33m\u001b[0m\u001b[1;33m\u001b[0m\u001b[1;33m\u001b[0m\u001b[0m\n",
      "\u001b[1;32m~\\Anaconda3\\lib\\site-packages\\joblib\\_parallel_backends.py\u001b[0m in \u001b[0;36mapply_async\u001b[1;34m(self, func, callback)\u001b[0m\n\u001b[0;32m    180\u001b[0m     \u001b[1;32mdef\u001b[0m \u001b[0mapply_async\u001b[0m\u001b[1;33m(\u001b[0m\u001b[0mself\u001b[0m\u001b[1;33m,\u001b[0m \u001b[0mfunc\u001b[0m\u001b[1;33m,\u001b[0m \u001b[0mcallback\u001b[0m\u001b[1;33m=\u001b[0m\u001b[1;32mNone\u001b[0m\u001b[1;33m)\u001b[0m\u001b[1;33m:\u001b[0m\u001b[1;33m\u001b[0m\u001b[1;33m\u001b[0m\u001b[0m\n\u001b[0;32m    181\u001b[0m         \u001b[1;34m\"\"\"Schedule a func to be run\"\"\"\u001b[0m\u001b[1;33m\u001b[0m\u001b[1;33m\u001b[0m\u001b[0m\n\u001b[1;32m--> 182\u001b[1;33m         \u001b[0mresult\u001b[0m \u001b[1;33m=\u001b[0m \u001b[0mImmediateResult\u001b[0m\u001b[1;33m(\u001b[0m\u001b[0mfunc\u001b[0m\u001b[1;33m)\u001b[0m\u001b[1;33m\u001b[0m\u001b[1;33m\u001b[0m\u001b[0m\n\u001b[0m\u001b[0;32m    183\u001b[0m         \u001b[1;32mif\u001b[0m \u001b[0mcallback\u001b[0m\u001b[1;33m:\u001b[0m\u001b[1;33m\u001b[0m\u001b[1;33m\u001b[0m\u001b[0m\n\u001b[0;32m    184\u001b[0m             \u001b[0mcallback\u001b[0m\u001b[1;33m(\u001b[0m\u001b[0mresult\u001b[0m\u001b[1;33m)\u001b[0m\u001b[1;33m\u001b[0m\u001b[1;33m\u001b[0m\u001b[0m\n",
      "\u001b[1;32m~\\Anaconda3\\lib\\site-packages\\joblib\\_parallel_backends.py\u001b[0m in \u001b[0;36m__init__\u001b[1;34m(self, batch)\u001b[0m\n\u001b[0;32m    547\u001b[0m         \u001b[1;31m# Don't delay the application, to avoid keeping the input\u001b[0m\u001b[1;33m\u001b[0m\u001b[1;33m\u001b[0m\u001b[1;33m\u001b[0m\u001b[0m\n\u001b[0;32m    548\u001b[0m         \u001b[1;31m# arguments in memory\u001b[0m\u001b[1;33m\u001b[0m\u001b[1;33m\u001b[0m\u001b[1;33m\u001b[0m\u001b[0m\n\u001b[1;32m--> 549\u001b[1;33m         \u001b[0mself\u001b[0m\u001b[1;33m.\u001b[0m\u001b[0mresults\u001b[0m \u001b[1;33m=\u001b[0m \u001b[0mbatch\u001b[0m\u001b[1;33m(\u001b[0m\u001b[1;33m)\u001b[0m\u001b[1;33m\u001b[0m\u001b[1;33m\u001b[0m\u001b[0m\n\u001b[0m\u001b[0;32m    550\u001b[0m \u001b[1;33m\u001b[0m\u001b[0m\n\u001b[0;32m    551\u001b[0m     \u001b[1;32mdef\u001b[0m \u001b[0mget\u001b[0m\u001b[1;33m(\u001b[0m\u001b[0mself\u001b[0m\u001b[1;33m)\u001b[0m\u001b[1;33m:\u001b[0m\u001b[1;33m\u001b[0m\u001b[1;33m\u001b[0m\u001b[0m\n",
      "\u001b[1;32m~\\Anaconda3\\lib\\site-packages\\joblib\\parallel.py\u001b[0m in \u001b[0;36m__call__\u001b[1;34m(self)\u001b[0m\n\u001b[0;32m    223\u001b[0m         \u001b[1;32mwith\u001b[0m \u001b[0mparallel_backend\u001b[0m\u001b[1;33m(\u001b[0m\u001b[0mself\u001b[0m\u001b[1;33m.\u001b[0m\u001b[0m_backend\u001b[0m\u001b[1;33m,\u001b[0m \u001b[0mn_jobs\u001b[0m\u001b[1;33m=\u001b[0m\u001b[0mself\u001b[0m\u001b[1;33m.\u001b[0m\u001b[0m_n_jobs\u001b[0m\u001b[1;33m)\u001b[0m\u001b[1;33m:\u001b[0m\u001b[1;33m\u001b[0m\u001b[1;33m\u001b[0m\u001b[0m\n\u001b[0;32m    224\u001b[0m             return [func(*args, **kwargs)\n\u001b[1;32m--> 225\u001b[1;33m                     for func, args, kwargs in self.items]\n\u001b[0m\u001b[0;32m    226\u001b[0m \u001b[1;33m\u001b[0m\u001b[0m\n\u001b[0;32m    227\u001b[0m     \u001b[1;32mdef\u001b[0m \u001b[0m__len__\u001b[0m\u001b[1;33m(\u001b[0m\u001b[0mself\u001b[0m\u001b[1;33m)\u001b[0m\u001b[1;33m:\u001b[0m\u001b[1;33m\u001b[0m\u001b[1;33m\u001b[0m\u001b[0m\n",
      "\u001b[1;32m~\\Anaconda3\\lib\\site-packages\\joblib\\parallel.py\u001b[0m in \u001b[0;36m<listcomp>\u001b[1;34m(.0)\u001b[0m\n\u001b[0;32m    223\u001b[0m         \u001b[1;32mwith\u001b[0m \u001b[0mparallel_backend\u001b[0m\u001b[1;33m(\u001b[0m\u001b[0mself\u001b[0m\u001b[1;33m.\u001b[0m\u001b[0m_backend\u001b[0m\u001b[1;33m,\u001b[0m \u001b[0mn_jobs\u001b[0m\u001b[1;33m=\u001b[0m\u001b[0mself\u001b[0m\u001b[1;33m.\u001b[0m\u001b[0m_n_jobs\u001b[0m\u001b[1;33m)\u001b[0m\u001b[1;33m:\u001b[0m\u001b[1;33m\u001b[0m\u001b[1;33m\u001b[0m\u001b[0m\n\u001b[0;32m    224\u001b[0m             return [func(*args, **kwargs)\n\u001b[1;32m--> 225\u001b[1;33m                     for func, args, kwargs in self.items]\n\u001b[0m\u001b[0;32m    226\u001b[0m \u001b[1;33m\u001b[0m\u001b[0m\n\u001b[0;32m    227\u001b[0m     \u001b[1;32mdef\u001b[0m \u001b[0m__len__\u001b[0m\u001b[1;33m(\u001b[0m\u001b[0mself\u001b[0m\u001b[1;33m)\u001b[0m\u001b[1;33m:\u001b[0m\u001b[1;33m\u001b[0m\u001b[1;33m\u001b[0m\u001b[0m\n",
      "\u001b[1;32m~\\Anaconda3\\lib\\site-packages\\sklearn\\neighbors\\base.py\u001b[0m in \u001b[0;36m_tree_query_radius_parallel_helper\u001b[1;34m(tree, data, radius, return_distance)\u001b[0m\n\u001b[0;32m    578\u001b[0m     \u001b[0mcloudpickle\u001b[0m \u001b[0munder\u001b[0m \u001b[0mPyPy\u001b[0m\u001b[1;33m.\u001b[0m\u001b[1;33m\u001b[0m\u001b[1;33m\u001b[0m\u001b[0m\n\u001b[0;32m    579\u001b[0m     \"\"\"\n\u001b[1;32m--> 580\u001b[1;33m     \u001b[1;32mreturn\u001b[0m \u001b[0mtree\u001b[0m\u001b[1;33m.\u001b[0m\u001b[0mquery_radius\u001b[0m\u001b[1;33m(\u001b[0m\u001b[0mdata\u001b[0m\u001b[1;33m,\u001b[0m \u001b[0mradius\u001b[0m\u001b[1;33m,\u001b[0m \u001b[0mreturn_distance\u001b[0m\u001b[1;33m)\u001b[0m\u001b[1;33m\u001b[0m\u001b[1;33m\u001b[0m\u001b[0m\n\u001b[0m\u001b[0;32m    581\u001b[0m \u001b[1;33m\u001b[0m\u001b[0m\n\u001b[0;32m    582\u001b[0m \u001b[1;33m\u001b[0m\u001b[0m\n",
      "\u001b[1;31mKeyboardInterrupt\u001b[0m: "
     ]
    }
   ],
   "source": [
    "doc2vec = pd.read_csv('../data/embedding/Doc2Vec_embedding_output.csv',index_col=0)\n",
    "\n",
    "for i in range(3, 30, 3):\n",
    "    sample_doc2vec = doc2vec.loc[sample_df.index]\n",
    "    \n",
    "    resolution = 1\n",
    "    min_edge_pct = 27\n",
    "    max_edge_pct = 30\n",
    "    G = generate_graph(sample_doc2vec, min_edge_pct=min_edge_pct, max_edge_pct=max_edge_pct)\n",
    "    partition_doc2vec = community.best_partition(G_doc2vec, resolution=resolution)\n",
    "    cname = f'cluster__doc2vec_{min_edge_pct}to{max_edge_pct}'\n",
    "    sample_df['cluster__doc2vec'] = pd.Series([v for k,v in partition_doc2vec.items()], index=sample_df.index)\n",
    "    merge_small_clusters(sample_df, 'cluster__doc2vec', threshold=5)"
   ]
  },
  {
   "cell_type": "markdown",
   "metadata": {
    "ExecuteTime": {
     "end_time": "2019-11-12T01:18:02.098056Z",
     "start_time": "2019-11-12T01:18:01.966374Z"
    }
   },
   "source": [
    "### BoW"
   ]
  },
  {
   "cell_type": "code",
   "execution_count": 10,
   "metadata": {
    "ExecuteTime": {
     "end_time": "2019-11-22T19:03:40.531878Z",
     "start_time": "2019-11-22T19:02:37.070790Z"
    }
   },
   "outputs": [
    {
     "name": "stdout",
     "output_type": "stream",
     "text": [
      "<10140x10140 sparse matrix of type '<class 'numpy.float64'>'\n",
      "\twith 3043224 stored elements in Compressed Sparse Row format>\n"
     ]
    }
   ],
   "source": [
    "bow = np.load('../data/embedding/BagOfWord_output.npy', allow_pickle=True)\n",
    "bow = np.asmatrix(bow)[0,0]\n",
    "sample_bow = bow[sample_df.index]\n",
    "G_bow = generate_graph(sample_bow)\n",
    "resolution = 1\n",
    "partition_bow = community.best_partition(G_bow, resolution=resolution)\n",
    "sample_df['cluster__bow'] = pd.Series([v for k,v in partition_bow.items()], index=sample_df.index)\n",
    "merge_small_clusters(sample_df, 'cluster__bow', threshold=5)"
   ]
  },
  {
   "cell_type": "markdown",
   "metadata": {
    "ExecuteTime": {
     "end_time": "2019-11-12T01:52:33.567130Z",
     "start_time": "2019-11-12T01:51:23.430026Z"
    },
    "scrolled": true
   },
   "source": [
    "## BERT spacy"
   ]
  },
  {
   "cell_type": "code",
   "execution_count": 34,
   "metadata": {
    "ExecuteTime": {
     "end_time": "2019-11-22T19:59:02.091484Z",
     "start_time": "2019-11-22T19:55:59.956454Z"
    }
   },
   "outputs": [
    {
     "name": "stdout",
     "output_type": "stream",
     "text": [
      "<10140x10140 sparse matrix of type '<class 'numpy.float64'>'\n",
      "\twith 3074448 stored elements in Compressed Sparse Row format>\n"
     ]
    }
   ],
   "source": [
    "sample_bert_arm = pd.read_csv('../data/sample_bert.csv')\n",
    "G_bert = generate_graph(sample_bert_arm)\n",
    "resolution = 1\n",
    "partition_bert = community.best_partition(G_bert, resolution=resolution)\n",
    "sample_df['cluster__bert_clean_spacy'] = pd.Series([v for k,v in partition_bert.items()], index=sample_df.index)\n",
    "merge_small_clusters(sample_df, 'cluster__bert_clean_spacy', threshold=5)"
   ]
  },
  {
   "cell_type": "code",
   "execution_count": 11,
   "metadata": {
    "ExecuteTime": {
     "end_time": "2019-11-22T19:03:41.085951Z",
     "start_time": "2019-11-22T19:03:40.533860Z"
    }
   },
   "outputs": [],
   "source": [
    "# import pickle\n",
    "# sample_bert = pickle.load(open('../data/embedding/sample_bert.p', 'rb'))"
   ]
  },
  {
   "cell_type": "code",
   "execution_count": 12,
   "metadata": {
    "ExecuteTime": {
     "end_time": "2019-11-22T19:07:08.955173Z",
     "start_time": "2019-11-22T19:03:41.087943Z"
    },
    "scrolled": true
   },
   "outputs": [
    {
     "name": "stdout",
     "output_type": "stream",
     "text": [
      "<10140x10140 sparse matrix of type '<class 'numpy.float64'>'\n",
      "\twith 3074448 stored elements in Compressed Sparse Row format>\n"
     ]
    }
   ],
   "source": [
    "# G_bert = generate_graph(sample_bert)\n",
    "# resolution = 1\n",
    "# partition_bert = community.best_partition(G_bert, resolution=resolution)\n",
    "# sample_df['cluster__bert_spacy'] = pd.Series([v for k,v in partition_bert.items()], index=sample_df.index)\n",
    "# merge_small_clusters(sample_df, 'cluster__bert_spacy', threshold=5)"
   ]
  },
  {
   "cell_type": "code",
   "execution_count": 13,
   "metadata": {
    "ExecuteTime": {
     "end_time": "2019-11-22T19:07:50.877881Z",
     "start_time": "2019-11-22T19:07:08.956170Z"
    }
   },
   "outputs": [],
   "source": [
    "bert_ = pd.read_csv('../data/embedding/BERT_EMBEDDING_withindex.csv', index_col=0)"
   ]
  },
  {
   "cell_type": "code",
   "execution_count": 14,
   "metadata": {
    "ExecuteTime": {
     "end_time": "2019-11-22T19:07:51.748551Z",
     "start_time": "2019-11-22T19:07:50.883865Z"
    }
   },
   "outputs": [],
   "source": [
    "bert_ = bert_.set_index('article_index')"
   ]
  },
  {
   "cell_type": "code",
   "execution_count": 15,
   "metadata": {
    "ExecuteTime": {
     "end_time": "2019-11-22T19:17:13.229712Z",
     "start_time": "2019-11-22T19:07:51.750547Z"
    }
   },
   "outputs": [
    {
     "name": "stderr",
     "output_type": "stream",
     "text": [
      "C:\\Users\\harinsa\\Anaconda3\\lib\\site-packages\\ipykernel_launcher.py:1: FutureWarning: \n",
      "Passing list-likes to .loc or [] with any missing label will raise\n",
      "KeyError in the future, you can use .reindex() as an alternative.\n",
      "\n",
      "See the documentation here:\n",
      "https://pandas.pydata.org/pandas-docs/stable/user_guide/indexing.html#deprecate-loc-reindex-listlike\n",
      "  \"\"\"Entry point for launching an IPython kernel.\n"
     ]
    },
    {
     "name": "stdout",
     "output_type": "stream",
     "text": [
      "<10140x10140 sparse matrix of type '<class 'numpy.float64'>'\n",
      "\twith 3074634 stored elements in Compressed Sparse Row format>\n"
     ]
    }
   ],
   "source": [
    "sample_bert = bert_.loc[sample_df.index]\n",
    "sample_bert = sample_bert.fillna(0)\n",
    "G_bert = generate_graph(sample_bert)\n",
    "resolution = 1\n",
    "partition_bert = community.best_partition(G_bert, resolution=resolution)\n",
    "sample_df['cluster__bert'] = pd.Series([v for k,v in partition_bert.items()], index=sample_df.index)\n",
    "merge_small_clusters(sample_df, 'cluster__bert', threshold=5)"
   ]
  },
  {
   "cell_type": "markdown",
   "metadata": {},
   "source": [
    "## BoW Lemmatize"
   ]
  },
  {
   "cell_type": "code",
   "execution_count": 16,
   "metadata": {
    "ExecuteTime": {
     "end_time": "2019-11-22T19:18:48.021115Z",
     "start_time": "2019-11-22T19:17:13.231434Z"
    }
   },
   "outputs": [
    {
     "name": "stdout",
     "output_type": "stream",
     "text": [
      "<10140x10140 sparse matrix of type '<class 'numpy.float64'>'\n",
      "\twith 3076592 stored elements in Compressed Sparse Row format>\n"
     ]
    }
   ],
   "source": [
    "# def add_embedding(emb, name):\n",
    "#     sample_emb = emb[sample_df.index]\n",
    "#     G = generate_graph(sample_emb)\n",
    "#     resolution = 1\n",
    "#     partition = community.best_partition(G, resolution=resolution)\n",
    "#     sample_df[f'cluster__{name}'] = pd.Series([v for k,v in partition.items()], index=sample_df.index)\n",
    "#     merge_small_clusters(sample_df, f'cluster__{name}', threshold=5)\n",
    "    \n",
    "    \n",
    "# bow_lemma = np.load('../data/embedding/BagOfWord2_addlemmatization_output.npy', allow_pickle=True)\n",
    "# bow_lemma = np.asmatrix(bow_lemma)[0,0]\n",
    "# add_embedding(bow_lemma, 'bow_lemma')"
   ]
  },
  {
   "cell_type": "markdown",
   "metadata": {},
   "source": [
    "## K-Mean"
   ]
  },
  {
   "cell_type": "code",
   "execution_count": null,
   "metadata": {
    "ExecuteTime": {
     "end_time": "2019-11-22T19:18:48.127826Z",
     "start_time": "2019-11-22T19:18:48.024094Z"
    }
   },
   "outputs": [],
   "source": [
    "# num_cluster = len(sample_df['cluster__bow'].unique())\n",
    "# kmean = KMeans(n_clusters=num_cluster, n_jobs=7)\n",
    "# kmean.fit(sample_bow)\n",
    "# kmean.labels_.shape\n",
    "# sample_df['cluster__kmean_bow'] = kmean.labels_"
   ]
  },
  {
   "cell_type": "markdown",
   "metadata": {
    "ExecuteTime": {
     "end_time": "2019-11-22T19:18:48.127826Z",
     "start_time": "2019-11-22T19:18:48.024094Z"
    }
   },
   "source": [
    "## Fasttext"
   ]
  },
  {
   "cell_type": "code",
   "execution_count": 17,
   "metadata": {
    "ExecuteTime": {
     "end_time": "2019-11-22T19:18:48.127826Z",
     "start_time": "2019-11-22T19:18:48.024094Z"
    }
   },
   "outputs": [],
   "source": [
    "fasttext = pd.read_csv('FASTTEXT_EMBEDDING_withindex.csv',index_col=0)\n",
    "sample_fasttext = fasttext.loc[sample_df.index]\n",
    "G_fasttext = generate_graph(sample_fasttext)\n",
    "resolution = 1\n",
    "partition_fasttext = community.best_partition(G_fasttext, resolution=resolution)\n",
    "sample_df['cluster__fasttext'] = pd.Series([v for k,v in partition_fasttext.items()], index=sample_df.index)\n",
    "merge_small_clusters(sample_df, 'cluster__fasttext', threshold=5)"
   ]
  },
  {
   "cell_type": "markdown",
   "metadata": {},
   "source": [
    "## Evaluate"
   ]
  },
  {
   "cell_type": "code",
   "execution_count": 67,
   "metadata": {
    "ExecuteTime": {
     "end_time": "2019-11-22T21:39:56.957400Z",
     "start_time": "2019-11-22T21:39:56.470705Z"
    },
    "scrolled": true
   },
   "outputs": [
    {
     "name": "stdout",
     "output_type": "stream",
     "text": [
      "precision\n",
      "--------------------------------------------------\n",
      "name         cluster__bert  cluster__bert_clean_spacy  cluster__bert_spacy  \\\n",
      "label                                                                        \n",
      "cave_rescue       0.222222                   0.338710             0.309091   \n",
      "duckboat          0.185185                   0.500000             0.236364   \n",
      "helsinki          0.592593                   0.629032             0.454545   \n",
      "mean              0.333333                   0.489247             0.333333   \n",
      "\n",
      "name         cluster__bow  cluster__bow_lemma  cluster__doc2vec  \\\n",
      "label                                                             \n",
      "cave_rescue      0.500000            0.500000              1.00   \n",
      "duckboat         0.100000            0.133333              0.10   \n",
      "helsinki         0.857143            0.800000              0.85   \n",
      "mean             0.485714            0.477778              0.65   \n",
      "\n",
      "name         cluster__entity_tfidf  cluster__entity_tfidf_12:15  \\\n",
      "label                                                             \n",
      "cave_rescue               0.150000                     0.357143   \n",
      "duckboat                  0.150000                     0.114286   \n",
      "helsinki                  0.760000                     0.771429   \n",
      "mean                      0.353333                     0.414286   \n",
      "\n",
      "name         cluster__entity_tfidf_15:18  cluster__entity_tfidf_18:21  \\\n",
      "label                                                                   \n",
      "cave_rescue                     0.189189                     0.210526   \n",
      "duckboat                        0.312500                     0.294118   \n",
      "helsinki                        0.702703                     0.805556   \n",
      "mean                            0.401464                     0.436733   \n",
      "\n",
      "name         cluster__entity_tfidf_21:24  cluster__entity_tfidf_24:27  \\\n",
      "label                                                                   \n",
      "cave_rescue                     0.291667                     0.184211   \n",
      "duckboat                        0.111111                     0.333333   \n",
      "helsinki                        0.777778                     0.736842   \n",
      "mean                            0.393519                     0.418129   \n",
      "\n",
      "name         cluster__entity_tfidf_27:30  cluster__entity_tfidf_3:6  \\\n",
      "label                                                                 \n",
      "cave_rescue                     0.322581                   0.150000   \n",
      "duckboat                        0.127273                   0.150000   \n",
      "helsinki                        0.709091                   0.760000   \n",
      "mean                            0.386315                   0.353333   \n",
      "\n",
      "name         cluster__entity_tfidf_6:9  cluster__entity_tfidf_9:12  \\\n",
      "label                                                                \n",
      "cave_rescue                   0.171429                    0.185185   \n",
      "duckboat                      0.235294                    0.185185   \n",
      "helsinki                      0.771429                    0.812500   \n",
      "mean                          0.392717                    0.394290   \n",
      "\n",
      "name         cluster__kmean_bow  \n",
      "label                            \n",
      "cave_rescue            0.210000  \n",
      "duckboat               0.140000  \n",
      "helsinki               0.650000  \n",
      "mean                   0.333333  \n",
      "\n",
      "\n",
      "recall\n",
      "--------------------------------------------------\n",
      "name         cluster__bert  cluster__bert_clean_spacy  cluster__bert_spacy  \\\n",
      "label                                                                        \n",
      "cave_rescue       0.387097                   0.677419             0.548387   \n",
      "duckboat          0.476190                   0.285714             0.619048   \n",
      "helsinki          0.363636                   0.443182             0.284091   \n",
      "mean              0.408975                   0.468772             0.483842   \n",
      "\n",
      "name         cluster__bow  cluster__bow_lemma  cluster__doc2vec  \\\n",
      "label                                                             \n",
      "cave_rescue      0.032258            0.032258          0.032258   \n",
      "duckboat         0.047619            0.095238          0.095238   \n",
      "helsinki         0.136364            0.136364          0.193182   \n",
      "mean             0.072080            0.087953          0.106893   \n",
      "\n",
      "name         cluster__entity_tfidf  cluster__entity_tfidf_12:15  \\\n",
      "label                                                             \n",
      "cave_rescue               0.096774                     0.161290   \n",
      "duckboat                  0.142857                     0.190476   \n",
      "helsinki                  0.215909                     0.306818   \n",
      "mean                      0.151847                     0.219528   \n",
      "\n",
      "name         cluster__entity_tfidf_15:18  cluster__entity_tfidf_18:21  \\\n",
      "label                                                                   \n",
      "cave_rescue                     0.225806                     0.129032   \n",
      "duckboat                        0.238095                     0.238095   \n",
      "helsinki                        0.295455                     0.329545   \n",
      "mean                            0.253119                     0.232224   \n",
      "\n",
      "name         cluster__entity_tfidf_21:24  cluster__entity_tfidf_24:27  \\\n",
      "label                                                                   \n",
      "cave_rescue                     0.225806                     0.225806   \n",
      "duckboat                        0.190476                     0.238095   \n",
      "helsinki                        0.318182                     0.318182   \n",
      "mean                            0.244821                     0.260695   \n",
      "\n",
      "name         cluster__entity_tfidf_27:30  cluster__entity_tfidf_3:6  \\\n",
      "label                                                                 \n",
      "cave_rescue                     0.322581                   0.096774   \n",
      "duckboat                        0.333333                   0.142857   \n",
      "helsinki                        0.443182                   0.215909   \n",
      "mean                            0.366365                   0.151847   \n",
      "\n",
      "name         cluster__entity_tfidf_6:9  cluster__entity_tfidf_9:12  \\\n",
      "label                                                                \n",
      "cave_rescue                   0.193548                    0.161290   \n",
      "duckboat                      0.190476                    0.238095   \n",
      "helsinki                      0.306818                    0.295455   \n",
      "mean                          0.230281                    0.231613   \n",
      "\n",
      "name         cluster__kmean_bow  \n",
      "label                            \n",
      "cave_rescue            0.677419  \n",
      "duckboat               0.666667  \n",
      "helsinki               0.738636  \n",
      "mean                   0.694241  \n",
      "\n",
      "\n",
      "f_score\n",
      "--------------------------------------------------\n",
      "name         cluster__bert  cluster__bert_clean_spacy  cluster__bert_spacy  \\\n",
      "label                                                                        \n",
      "cave_rescue       0.282353                   0.451613             0.395349   \n",
      "duckboat          0.266667                   0.363636             0.342105   \n",
      "helsinki          0.450704                   0.520000             0.349650   \n",
      "mean              0.333241                   0.445083             0.362368   \n",
      "\n",
      "name         cluster__bow  cluster__bow_lemma  cluster__doc2vec  \\\n",
      "label                                                             \n",
      "cave_rescue      0.060606            0.060606          0.062500   \n",
      "duckboat         0.064516            0.111111          0.097561   \n",
      "helsinki         0.235294            0.233010          0.314815   \n",
      "mean             0.120139            0.134909          0.158292   \n",
      "\n",
      "name         cluster__entity_tfidf  cluster__entity_tfidf_12:15  \\\n",
      "label                                                             \n",
      "cave_rescue               0.117647                     0.222222   \n",
      "duckboat                  0.146341                     0.142857   \n",
      "helsinki                  0.336283                     0.439024   \n",
      "mean                      0.200091                     0.268035   \n",
      "\n",
      "name         cluster__entity_tfidf_15:18  cluster__entity_tfidf_18:21  \\\n",
      "label                                                                   \n",
      "cave_rescue                     0.205882                     0.160000   \n",
      "duckboat                        0.270270                     0.263158   \n",
      "helsinki                        0.416000                     0.467742   \n",
      "mean                            0.297384                     0.296967   \n",
      "\n",
      "name         cluster__entity_tfidf_21:24  cluster__entity_tfidf_24:27  \\\n",
      "label                                                                   \n",
      "cave_rescue                     0.254545                     0.202899   \n",
      "duckboat                        0.140351                     0.277778   \n",
      "helsinki                        0.451613                     0.444444   \n",
      "mean                            0.282170                     0.308374   \n",
      "\n",
      "name         cluster__entity_tfidf_27:30  cluster__entity_tfidf_3:6  \\\n",
      "label                                                                 \n",
      "cave_rescue                     0.322581                   0.117647   \n",
      "duckboat                        0.184211                   0.146341   \n",
      "helsinki                        0.545455                   0.336283   \n",
      "mean                            0.350749                   0.200091   \n",
      "\n",
      "name         cluster__entity_tfidf_6:9  cluster__entity_tfidf_9:12  \\\n",
      "label                                                                \n",
      "cave_rescue                   0.181818                    0.172414   \n",
      "duckboat                      0.210526                    0.208333   \n",
      "helsinki                      0.439024                    0.433333   \n",
      "mean                          0.277123                    0.271360   \n",
      "\n",
      "name         cluster__kmean_bow  \n",
      "label                            \n",
      "cave_rescue            0.320611  \n",
      "duckboat               0.231405  \n",
      "helsinki               0.691489  \n",
      "mean                   0.414502  \n",
      "\n",
      "\n"
     ]
    }
   ],
   "source": [
    "labeled_sampled_df = sample_df.dropna(subset=['label'])\n",
    "cluster_cols = list(filter(lambda s: 'cluster__' in s, labeled_sampled_df.columns))\n",
    "results = []\n",
    "for col in cluster_cols:\n",
    "    results += max_cluster_metric(labeled_sampled_df, col)\n",
    "\n",
    "results_df = pd.DataFrame(results)\n",
    "print_result_df(results_df)"
   ]
  },
  {
   "cell_type": "code",
   "execution_count": 68,
   "metadata": {
    "ExecuteTime": {
     "end_time": "2019-11-22T21:39:58.928894Z",
     "start_time": "2019-11-22T21:39:58.832179Z"
    },
    "scrolled": false
   },
   "outputs": [
    {
     "data": {
      "text/html": [
       "<div>\n",
       "<style scoped>\n",
       "    .dataframe tbody tr th:only-of-type {\n",
       "        vertical-align: middle;\n",
       "    }\n",
       "\n",
       "    .dataframe tbody tr th {\n",
       "        vertical-align: top;\n",
       "    }\n",
       "\n",
       "    .dataframe thead th {\n",
       "        text-align: right;\n",
       "    }\n",
       "</style>\n",
       "<table border=\"1\" class=\"dataframe\">\n",
       "  <thead>\n",
       "    <tr style=\"text-align: right;\">\n",
       "      <th></th>\n",
       "      <th>precision</th>\n",
       "      <th>recall</th>\n",
       "      <th>f_score</th>\n",
       "    </tr>\n",
       "    <tr>\n",
       "      <th>name</th>\n",
       "      <th></th>\n",
       "      <th></th>\n",
       "      <th></th>\n",
       "    </tr>\n",
       "  </thead>\n",
       "  <tbody>\n",
       "    <tr>\n",
       "      <td>cluster__bert</td>\n",
       "      <td>0.333333</td>\n",
       "      <td>0.408975</td>\n",
       "      <td>0.333241</td>\n",
       "    </tr>\n",
       "    <tr>\n",
       "      <td>cluster__bert_clean_spacy</td>\n",
       "      <td>0.489247</td>\n",
       "      <td>0.468772</td>\n",
       "      <td>0.445083</td>\n",
       "    </tr>\n",
       "    <tr>\n",
       "      <td>cluster__bert_spacy</td>\n",
       "      <td>0.333333</td>\n",
       "      <td>0.483842</td>\n",
       "      <td>0.362368</td>\n",
       "    </tr>\n",
       "    <tr>\n",
       "      <td>cluster__bow</td>\n",
       "      <td>0.485714</td>\n",
       "      <td>0.072080</td>\n",
       "      <td>0.120139</td>\n",
       "    </tr>\n",
       "    <tr>\n",
       "      <td>cluster__bow_lemma</td>\n",
       "      <td>0.477778</td>\n",
       "      <td>0.087953</td>\n",
       "      <td>0.134909</td>\n",
       "    </tr>\n",
       "    <tr>\n",
       "      <td>cluster__doc2vec</td>\n",
       "      <td>0.650000</td>\n",
       "      <td>0.106893</td>\n",
       "      <td>0.158292</td>\n",
       "    </tr>\n",
       "    <tr>\n",
       "      <td>cluster__entity_tfidf</td>\n",
       "      <td>0.353333</td>\n",
       "      <td>0.151847</td>\n",
       "      <td>0.200091</td>\n",
       "    </tr>\n",
       "    <tr>\n",
       "      <td>cluster__entity_tfidf_12:15</td>\n",
       "      <td>0.414286</td>\n",
       "      <td>0.219528</td>\n",
       "      <td>0.268035</td>\n",
       "    </tr>\n",
       "    <tr>\n",
       "      <td>cluster__entity_tfidf_15:18</td>\n",
       "      <td>0.401464</td>\n",
       "      <td>0.253119</td>\n",
       "      <td>0.297384</td>\n",
       "    </tr>\n",
       "    <tr>\n",
       "      <td>cluster__entity_tfidf_18:21</td>\n",
       "      <td>0.436733</td>\n",
       "      <td>0.232224</td>\n",
       "      <td>0.296967</td>\n",
       "    </tr>\n",
       "    <tr>\n",
       "      <td>cluster__entity_tfidf_21:24</td>\n",
       "      <td>0.393519</td>\n",
       "      <td>0.244821</td>\n",
       "      <td>0.282170</td>\n",
       "    </tr>\n",
       "    <tr>\n",
       "      <td>cluster__entity_tfidf_24:27</td>\n",
       "      <td>0.418129</td>\n",
       "      <td>0.260695</td>\n",
       "      <td>0.308374</td>\n",
       "    </tr>\n",
       "    <tr>\n",
       "      <td>cluster__entity_tfidf_27:30</td>\n",
       "      <td>0.386315</td>\n",
       "      <td>0.366365</td>\n",
       "      <td>0.350749</td>\n",
       "    </tr>\n",
       "    <tr>\n",
       "      <td>cluster__entity_tfidf_3:6</td>\n",
       "      <td>0.353333</td>\n",
       "      <td>0.151847</td>\n",
       "      <td>0.200091</td>\n",
       "    </tr>\n",
       "    <tr>\n",
       "      <td>cluster__entity_tfidf_6:9</td>\n",
       "      <td>0.392717</td>\n",
       "      <td>0.230281</td>\n",
       "      <td>0.277123</td>\n",
       "    </tr>\n",
       "    <tr>\n",
       "      <td>cluster__entity_tfidf_9:12</td>\n",
       "      <td>0.394290</td>\n",
       "      <td>0.231613</td>\n",
       "      <td>0.271360</td>\n",
       "    </tr>\n",
       "    <tr>\n",
       "      <td>cluster__kmean_bow</td>\n",
       "      <td>0.333333</td>\n",
       "      <td>0.694241</td>\n",
       "      <td>0.414502</td>\n",
       "    </tr>\n",
       "  </tbody>\n",
       "</table>\n",
       "</div>"
      ],
      "text/plain": [
       "                             precision    recall   f_score\n",
       "name                                                      \n",
       "cluster__bert                 0.333333  0.408975  0.333241\n",
       "cluster__bert_clean_spacy     0.489247  0.468772  0.445083\n",
       "cluster__bert_spacy           0.333333  0.483842  0.362368\n",
       "cluster__bow                  0.485714  0.072080  0.120139\n",
       "cluster__bow_lemma            0.477778  0.087953  0.134909\n",
       "cluster__doc2vec              0.650000  0.106893  0.158292\n",
       "cluster__entity_tfidf         0.353333  0.151847  0.200091\n",
       "cluster__entity_tfidf_12:15   0.414286  0.219528  0.268035\n",
       "cluster__entity_tfidf_15:18   0.401464  0.253119  0.297384\n",
       "cluster__entity_tfidf_18:21   0.436733  0.232224  0.296967\n",
       "cluster__entity_tfidf_21:24   0.393519  0.244821  0.282170\n",
       "cluster__entity_tfidf_24:27   0.418129  0.260695  0.308374\n",
       "cluster__entity_tfidf_27:30   0.386315  0.366365  0.350749\n",
       "cluster__entity_tfidf_3:6     0.353333  0.151847  0.200091\n",
       "cluster__entity_tfidf_6:9     0.392717  0.230281  0.277123\n",
       "cluster__entity_tfidf_9:12    0.394290  0.231613  0.271360\n",
       "cluster__kmean_bow            0.333333  0.694241  0.414502"
      ]
     },
     "execution_count": 68,
     "metadata": {},
     "output_type": "execute_result"
    }
   ],
   "source": [
    "results_df.groupby('name').mean()"
   ]
  },
  {
   "cell_type": "code",
   "execution_count": 40,
   "metadata": {
    "ExecuteTime": {
     "end_time": "2019-11-22T20:00:54.218011Z",
     "start_time": "2019-11-22T20:00:54.128218Z"
    }
   },
   "outputs": [],
   "source": [
    "results_df.to_csv('../data/clustering/progress_report2_metrics.csv')"
   ]
  },
  {
   "cell_type": "code",
   "execution_count": 69,
   "metadata": {
    "ExecuteTime": {
     "end_time": "2019-11-22T21:45:03.185193Z",
     "start_time": "2019-11-22T21:45:01.755984Z"
    }
   },
   "outputs": [],
   "source": [
    "sample_df.to_csv('../data/clustering/progress_report2_assignment_backup.csv')"
   ]
  },
  {
   "cell_type": "code",
   "execution_count": 58,
   "metadata": {
    "ExecuteTime": {
     "end_time": "2019-11-22T20:50:19.895196Z",
     "start_time": "2019-11-22T20:50:19.793466Z"
    }
   },
   "outputs": [
    {
     "data": {
      "text/plain": [
       "27"
      ]
     },
     "execution_count": 58,
     "metadata": {},
     "output_type": "execute_result"
    }
   ],
   "source": [
    "i"
   ]
  },
  {
   "cell_type": "code",
   "execution_count": null,
   "metadata": {},
   "outputs": [],
   "source": []
  }
 ],
 "metadata": {
  "kernelspec": {
   "display_name": "Python 3",
   "language": "python",
   "name": "python3"
  }
 },
 "nbformat": 4,
 "nbformat_minor": 2
}
