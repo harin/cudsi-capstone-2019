{
 "cells": [
  {
   "cell_type": "code",
   "execution_count": 45,
   "metadata": {
    "ExecuteTime": {
     "end_time": "2019-11-09T20:22:07.098115Z",
     "start_time": "2019-11-09T20:22:07.091126Z"
    }
   },
   "outputs": [],
   "source": [
    "from IPython.display import HTML\n",
    "from sklearn.neighbors import NearestNeighbors"
   ]
  },
  {
   "cell_type": "code",
   "execution_count": 46,
   "metadata": {
    "ExecuteTime": {
     "end_time": "2019-11-09T20:22:07.184557Z",
     "start_time": "2019-11-09T20:22:07.101100Z"
    }
   },
   "outputs": [],
   "source": [
    "import pandas as pd\n",
    "import networkx as nx\n",
    "import community\n",
    "import matplotlib.pyplot as plt\n",
    "from sklearn.metrics.pairwise import cosine_similarity, euclidean_distances\n",
    "import numpy as np\n",
    "from collections import defaultdict\n",
    "from sklearn.neighbors import BallTree, NearestNeighbors\n",
    "import gc\n",
    "%matplotlib inline\n",
    "\n",
    "columns = [\"pubId\", \"is_hourly\", \"seqId\", \"on_homepage\", \"canonicalUrl\",\n",
    "                   \"firstScrape\", \"lang_iso\", \"lang_reliability\", \"title\", \"text\"]\n",
    "\n",
    "def read_article_df(file):\n",
    "    articles_dt = file.read().split('\\n')[:-1]\n",
    "    pubId, canonicalUrl,firstScrape,title,text,lang_reliability = [],[],[],[],[],[]\n",
    "    lang_iso = []\n",
    "    for article in articles_dt:    \n",
    "        row = article.split('\\t')\n",
    "        pubId.append(row[0])\n",
    "        canonicalUrl.append(row[4])\n",
    "        firstScrape.append(row[5])\n",
    "        lang_iso.append(row[6])\n",
    "        lang_reliability.append(row[7])\n",
    "        title.append(row[8])\n",
    "        text.append(row[9])\n",
    "\n",
    "    articles_df = pd.DataFrame()\n",
    "    articles_df['pubId'] = pubId\n",
    "    articles_df['canonicalUrl'] = canonicalUrl\n",
    "    articles_df['firstScrape'] = firstScrape\n",
    "    articles_df['title'] = title\n",
    "    articles_df['text'] = text\n",
    "    articles_df['lang_reliability'] = lang_reliability\n",
    "    articles_df['lang_iso'] = lang_iso\n",
    "    return articles_df"
   ]
  },
  {
   "cell_type": "code",
   "execution_count": 47,
   "metadata": {
    "ExecuteTime": {
     "end_time": "2019-11-09T20:22:08.786081Z",
     "start_time": "2019-11-09T20:22:07.186553Z"
    }
   },
   "outputs": [],
   "source": [
    "import numpy as np\n",
    "emb = np.load('../data/embedding/BagOfWord_output.npy', allow_pickle=True)"
   ]
  },
  {
   "cell_type": "code",
   "execution_count": 48,
   "metadata": {
    "ExecuteTime": {
     "end_time": "2019-11-09T20:22:08.797048Z",
     "start_time": "2019-11-09T20:22:08.790060Z"
    }
   },
   "outputs": [],
   "source": [
    "emb = np.asmatrix(emb)[0,0]"
   ]
  },
  {
   "cell_type": "code",
   "execution_count": 49,
   "metadata": {
    "ExecuteTime": {
     "end_time": "2019-11-09T20:22:27.888831Z",
     "start_time": "2019-11-09T20:22:08.801029Z"
    }
   },
   "outputs": [],
   "source": [
    "article_df = read_article_df(open('../data/raw/2018_07_19_04_59_08/articles.txt', encoding='utf-8'))\n",
    "article_df = article_df[article_df.lang_reliability == '1'].reset_index(drop=True)"
   ]
  },
  {
   "cell_type": "code",
   "execution_count": null,
   "metadata": {
    "ExecuteTime": {
     "end_time": "2019-11-09T20:22:28.421408Z",
     "start_time": "2019-11-09T20:22:27.896810Z"
    }
   },
   "outputs": [],
   "source": [
    "article_df['title'] = article_df.title.apply(lambda s: s.strip())\n",
    "article_df['text'] = article_df.text.apply(lambda s: s.strip())\n",
    "article_df['title_len'] = article_df.title.apply(len)\n",
    "article_df['text_len'] = article_df.text.apply(len)"
   ]
  },
  {
   "cell_type": "code",
   "execution_count": 124,
   "metadata": {
    "ExecuteTime": {
     "end_time": "2019-11-09T21:04:35.087475Z",
     "start_time": "2019-11-09T21:04:35.064560Z"
    }
   },
   "outputs": [
    {
     "data": {
      "text/plain": [
       "(3059, 9)"
      ]
     },
     "execution_count": 124,
     "metadata": {},
     "output_type": "execute_result"
    }
   ],
   "source": [
    "article_df.query('text_len == 0 and title_len == 0').shape"
   ]
  },
  {
   "cell_type": "code",
   "execution_count": 51,
   "metadata": {
    "ExecuteTime": {
     "end_time": "2019-11-09T20:22:28.665725Z",
     "start_time": "2019-11-09T20:22:28.424400Z"
    }
   },
   "outputs": [
    {
     "data": {
      "text/plain": [
       "(176664, 9)"
      ]
     },
     "execution_count": 51,
     "metadata": {},
     "output_type": "execute_result"
    }
   ],
   "source": [
    "clean_df = article_df[article_df.title_len > 0]\n",
    "clean_df = clean_df[clean_df.text_len > 100]\n",
    "clean_df = clean_df[clean_df.lang_iso == 'en']\n",
    "clean_df.shape"
   ]
  },
  {
   "cell_type": "code",
   "execution_count": 52,
   "metadata": {
    "ExecuteTime": {
     "end_time": "2019-11-09T20:22:28.717588Z",
     "start_time": "2019-11-09T20:22:28.671712Z"
    }
   },
   "outputs": [],
   "source": [
    "def load_label(file='lower_bound'):\n",
    "    label1 = pd.read_csv(f'../data/raw/labels/cave_rescue/{file}.txt', header=None)\n",
    "    label1.columns = ['canonicalUrl']\n",
    "    label1['label'] = 'cave_rescue'\n",
    "\n",
    "    label2 = pd.read_csv(f'../data/raw/labels/duckboat/{file}.txt', header=None)\n",
    "    label2.columns = ['canonicalUrl']\n",
    "    label2['label'] = 'duckboat'\n",
    "\n",
    "    label3 = pd.read_csv(f'../data/raw/labels/helsinki_summit/{file}.txt', header=None)\n",
    "    label3.columns = ['canonicalUrl']\n",
    "    label3['label'] = 'helsinki'\n",
    "\n",
    "    label_df = pd.concat([label1, label2, label3])\n",
    "    return label_df\n",
    "\n",
    "label_df = load_label('lower_bound')"
   ]
  },
  {
   "cell_type": "code",
   "execution_count": 53,
   "metadata": {
    "ExecuteTime": {
     "end_time": "2019-11-09T20:22:28.911303Z",
     "start_time": "2019-11-09T20:22:28.720544Z"
    }
   },
   "outputs": [],
   "source": [
    "clean_df = clean_df.merge(label_df, on='canonicalUrl', how='left')"
   ]
  },
  {
   "cell_type": "code",
   "execution_count": 54,
   "metadata": {
    "ExecuteTime": {
     "end_time": "2019-11-09T20:22:28.934974Z",
     "start_time": "2019-11-09T20:22:28.915025Z"
    },
    "scrolled": false
   },
   "outputs": [
    {
     "data": {
      "text/html": [
       "<div>\n",
       "<style scoped>\n",
       "    .dataframe tbody tr th:only-of-type {\n",
       "        vertical-align: middle;\n",
       "    }\n",
       "\n",
       "    .dataframe tbody tr th {\n",
       "        vertical-align: top;\n",
       "    }\n",
       "\n",
       "    .dataframe thead th {\n",
       "        text-align: right;\n",
       "    }\n",
       "</style>\n",
       "<table border=\"1\" class=\"dataframe\">\n",
       "  <thead>\n",
       "    <tr style=\"text-align: right;\">\n",
       "      <th></th>\n",
       "      <th>pubId</th>\n",
       "      <th>canonicalUrl</th>\n",
       "      <th>firstScrape</th>\n",
       "      <th>title</th>\n",
       "      <th>text</th>\n",
       "      <th>lang_reliability</th>\n",
       "      <th>lang_iso</th>\n",
       "      <th>title_len</th>\n",
       "      <th>text_len</th>\n",
       "      <th>label</th>\n",
       "    </tr>\n",
       "  </thead>\n",
       "  <tbody>\n",
       "    <tr>\n",
       "      <td>0</td>\n",
       "      <td>290</td>\n",
       "      <td>zerohedge.com/news/2018-07-19/i-told-you-so-tr...</td>\n",
       "      <td>7/19/2018 10:41:26 AM -04:00</td>\n",
       "      <td>\"I Told You So\": Trump Hits Out At EU After $5...</td>\n",
       "      <td>by Phoenix Capita… - Jul 19, 2018 8:49 am ### ...</td>\n",
       "      <td>1</td>\n",
       "      <td>en</td>\n",
       "      <td>79</td>\n",
       "      <td>2134</td>\n",
       "      <td>NaN</td>\n",
       "    </tr>\n",
       "    <tr>\n",
       "      <td>1</td>\n",
       "      <td>290</td>\n",
       "      <td>zerohedge.com/news/2018-07-19/trump-invites-pu...</td>\n",
       "      <td>7/19/2018 5:03:01 PM -04:00</td>\n",
       "      <td>Trump Invites Putin To  Ahead Of Midterms | Ze...</td>\n",
       "      <td>by Phoenix Capita… - Jul 19, 2018 8:49 am ### ...</td>\n",
       "      <td>1</td>\n",
       "      <td>en</td>\n",
       "      <td>54</td>\n",
       "      <td>4555</td>\n",
       "      <td>NaN</td>\n",
       "    </tr>\n",
       "    <tr>\n",
       "      <td>2</td>\n",
       "      <td>290</td>\n",
       "      <td>zerohedge.com/news/2018-07-19/gallup-shows-how...</td>\n",
       "      <td>7/19/2018 8:26:52 AM -04:00</td>\n",
       "      <td>Gallup Shows How Much Americans Really Care Ab...</td>\n",
       "      <td>by Knave Dave - Jul 18, 2018 1:11 pm ### This ...</td>\n",
       "      <td>1</td>\n",
       "      <td>en</td>\n",
       "      <td>76</td>\n",
       "      <td>3133</td>\n",
       "      <td>NaN</td>\n",
       "    </tr>\n",
       "    <tr>\n",
       "      <td>3</td>\n",
       "      <td>290</td>\n",
       "      <td>zerohedge.com/news/2018-07-19/california-supre...</td>\n",
       "      <td>7/19/2018 8:26:52 AM -04:00</td>\n",
       "      <td>California Supreme Court Blocks Proposal To Sp...</td>\n",
       "      <td>by Knave Dave - Jul 18, 2018 1:11 pm ### This ...</td>\n",
       "      <td>1</td>\n",
       "      <td>en</td>\n",
       "      <td>85</td>\n",
       "      <td>3567</td>\n",
       "      <td>NaN</td>\n",
       "    </tr>\n",
       "    <tr>\n",
       "      <td>4</td>\n",
       "      <td>290</td>\n",
       "      <td>zerohedge.com/news/2018-07-19/why-are-thousand...</td>\n",
       "      <td>7/19/2018 4:28:52 PM -04:00</td>\n",
       "      <td>Why Are \"Thousands\" of Teslas Sitting In a Fie...</td>\n",
       "      <td>by Phoenix Capita… - Jul 19, 2018 8:49 am ### ...</td>\n",
       "      <td>1</td>\n",
       "      <td>en</td>\n",
       "      <td>62</td>\n",
       "      <td>3584</td>\n",
       "      <td>NaN</td>\n",
       "    </tr>\n",
       "  </tbody>\n",
       "</table>\n",
       "</div>"
      ],
      "text/plain": [
       "  pubId                                       canonicalUrl  \\\n",
       "0   290  zerohedge.com/news/2018-07-19/i-told-you-so-tr...   \n",
       "1   290  zerohedge.com/news/2018-07-19/trump-invites-pu...   \n",
       "2   290  zerohedge.com/news/2018-07-19/gallup-shows-how...   \n",
       "3   290  zerohedge.com/news/2018-07-19/california-supre...   \n",
       "4   290  zerohedge.com/news/2018-07-19/why-are-thousand...   \n",
       "\n",
       "                    firstScrape  \\\n",
       "0  7/19/2018 10:41:26 AM -04:00   \n",
       "1   7/19/2018 5:03:01 PM -04:00   \n",
       "2   7/19/2018 8:26:52 AM -04:00   \n",
       "3   7/19/2018 8:26:52 AM -04:00   \n",
       "4   7/19/2018 4:28:52 PM -04:00   \n",
       "\n",
       "                                               title  \\\n",
       "0  \"I Told You So\": Trump Hits Out At EU After $5...   \n",
       "1  Trump Invites Putin To  Ahead Of Midterms | Ze...   \n",
       "2  Gallup Shows How Much Americans Really Care Ab...   \n",
       "3  California Supreme Court Blocks Proposal To Sp...   \n",
       "4  Why Are \"Thousands\" of Teslas Sitting In a Fie...   \n",
       "\n",
       "                                                text lang_reliability  \\\n",
       "0  by Phoenix Capita… - Jul 19, 2018 8:49 am ### ...                1   \n",
       "1  by Phoenix Capita… - Jul 19, 2018 8:49 am ### ...                1   \n",
       "2  by Knave Dave - Jul 18, 2018 1:11 pm ### This ...                1   \n",
       "3  by Knave Dave - Jul 18, 2018 1:11 pm ### This ...                1   \n",
       "4  by Phoenix Capita… - Jul 19, 2018 8:49 am ### ...                1   \n",
       "\n",
       "  lang_iso  title_len  text_len label  \n",
       "0       en         79      2134   NaN  \n",
       "1       en         54      4555   NaN  \n",
       "2       en         76      3133   NaN  \n",
       "3       en         85      3567   NaN  \n",
       "4       en         62      3584   NaN  "
      ]
     },
     "execution_count": 54,
     "metadata": {},
     "output_type": "execute_result"
    }
   ],
   "source": [
    "clean_df.head()"
   ]
  },
  {
   "cell_type": "code",
   "execution_count": 55,
   "metadata": {
    "ExecuteTime": {
     "end_time": "2019-11-09T20:22:29.756856Z",
     "start_time": "2019-11-09T20:22:28.937965Z"
    }
   },
   "outputs": [
    {
     "data": {
      "text/plain": [
       "((140, 10), (176524, 10))"
      ]
     },
     "execution_count": 55,
     "metadata": {},
     "output_type": "execute_result"
    }
   ],
   "source": [
    "article_with_label = clean_df[~clean_df.label.isna()]\n",
    "article_without_label = clean_df[clean_df.label.isna()]\n",
    "article_with_label.shape, article_without_label.shape"
   ]
  },
  {
   "cell_type": "markdown",
   "metadata": {
    "ExecuteTime": {
     "end_time": "2019-10-31T15:43:07.917593Z",
     "start_time": "2019-10-31T15:43:07.895674Z"
    }
   },
   "source": [
    "Sample and include all the labeled article"
   ]
  },
  {
   "cell_type": "code",
   "execution_count": 56,
   "metadata": {
    "ExecuteTime": {
     "end_time": "2019-11-09T20:22:36.509415Z",
     "start_time": "2019-11-09T20:22:29.760811Z"
    }
   },
   "outputs": [
    {
     "data": {
      "text/plain": [
       "41.332902463509654"
      ]
     },
     "execution_count": 56,
     "metadata": {},
     "output_type": "execute_result"
    }
   ],
   "source": [
    "sample_df = pd.concat([article_with_label, article_without_label.sample(10000)])\n",
    "sample_emb = emb[sample_df.index]\n",
    "np.mean(euclidean_distances(sample_emb))"
   ]
  },
  {
   "cell_type": "code",
   "execution_count": 57,
   "metadata": {
    "ExecuteTime": {
     "end_time": "2019-11-09T20:22:43.075217Z",
     "start_time": "2019-11-09T20:22:36.515612Z"
    }
   },
   "outputs": [
    {
     "data": {
      "text/plain": [
       "<10140x10140 sparse matrix of type '<class 'numpy.float64'>'\n",
       "\twith 4476298 stored elements in Compressed Sparse Row format>"
      ]
     },
     "execution_count": 57,
     "metadata": {},
     "output_type": "execute_result"
    }
   ],
   "source": [
    "nn = NearestNeighbors(radius=10)\n",
    "nn.fit(sample_emb)\n",
    "admat = nn.radius_neighbors_graph(); admat"
   ]
  },
  {
   "cell_type": "code",
   "execution_count": 58,
   "metadata": {
    "ExecuteTime": {
     "end_time": "2019-11-09T20:24:14.788535Z",
     "start_time": "2019-11-09T20:22:43.078210Z"
    }
   },
   "outputs": [
    {
     "data": {
      "image/png": "[encoded data removed]",
      "text/plain": [
       "<Figure size 432x288 with 1 Axes>"
      ]
     },
     "metadata": {
      "needs_background": "light"
     },
     "output_type": "display_data"
    }
   ],
   "source": [
    "G = nx.from_scipy_sparse_matrix(admat)\n",
    "\n",
    "partitions = []\n",
    "resolutions = [1] #, .99, .999, .9995, .9999]\n",
    "for resolution in resolutions:\n",
    "    partition = community.best_partition(G, resolution=resolution)\n",
    "    partitions.append(partition)\n",
    "    num_cluster = max([v for k,v in partition.items()]) + 1\n",
    "    clusters = defaultdict(list)\n",
    "    for k, v in partition.items():\n",
    "        clusters[v].append(k)\n",
    "\n",
    "    cluster_sizes = []\n",
    "    for i, cluster in clusters.items():\n",
    "        cluster_sizes.append(len(cluster))\n",
    "    plt.bar(list(range(len(cluster_sizes))), cluster_sizes)\n",
    "    plt.title(f'Resolution = {resolution}, Num. Cluster = {num_cluster}')\n",
    "    plt.show()"
   ]
  },
  {
   "cell_type": "code",
   "execution_count": 59,
   "metadata": {
    "ExecuteTime": {
     "end_time": "2019-11-09T20:24:14.802518Z",
     "start_time": "2019-11-09T20:24:14.790505Z"
    }
   },
   "outputs": [
    {
     "data": {
      "text/plain": [
       "(2, 1207, 1.0)"
      ]
     },
     "execution_count": 59,
     "metadata": {},
     "output_type": "execute_result"
    }
   ],
   "source": [
    "np.argmax(cluster_sizes), np.max(cluster_sizes), np.median(cluster_sizes)"
   ]
  },
  {
   "cell_type": "code",
   "execution_count": 60,
   "metadata": {
    "ExecuteTime": {
     "end_time": "2019-11-09T20:24:14.817434Z",
     "start_time": "2019-11-09T20:24:14.805465Z"
    }
   },
   "outputs": [],
   "source": [
    "def plot_cluster_sizes(cluster):\n",
    "    cluster_sizes = []\n",
    "    for i, c in cluster.items():\n",
    "        cluster_sizes.append(len(c))\n",
    "    plt.title(f'Num cluster = {len(cluster.keys())}')\n",
    "    plt.hist(cluster_sizes)\n",
    "    plt.show()\n",
    "    \n",
    "def prune_cluster(cluster: dict, threshold) -> dict:\n",
    "    pc = {}\n",
    "    for key, value in clusters.items():\n",
    "        if len(value) > threshold:\n",
    "            pc[key] = value\n",
    "    return pc"
   ]
  },
  {
   "cell_type": "code",
   "execution_count": 61,
   "metadata": {
    "ExecuteTime": {
     "end_time": "2019-11-09T20:24:14.835386Z",
     "start_time": "2019-11-09T20:24:14.822420Z"
    }
   },
   "outputs": [],
   "source": [
    "pc = prune_cluster(cluster, 5)"
   ]
  },
  {
   "cell_type": "code",
   "execution_count": 62,
   "metadata": {
    "ExecuteTime": {
     "end_time": "2019-11-09T20:24:14.883258Z",
     "start_time": "2019-11-09T20:24:14.841369Z"
    }
   },
   "outputs": [
    {
     "data": {
      "text/plain": [
       "17"
      ]
     },
     "execution_count": 62,
     "metadata": {},
     "output_type": "execute_result"
    }
   ],
   "source": [
    "article_cluster = list(map(lambda d: sample_df.iloc[d[1]], pc.items()))\n",
    "len(article_cluster)"
   ]
  },
  {
   "cell_type": "code",
   "execution_count": 63,
   "metadata": {
    "ExecuteTime": {
     "end_time": "2019-11-09T20:24:14.899215Z",
     "start_time": "2019-11-09T20:24:14.889242Z"
    }
   },
   "outputs": [
    {
     "data": {
      "text/plain": [
       "1207"
      ]
     },
     "execution_count": 63,
     "metadata": {},
     "output_type": "execute_result"
    }
   ],
   "source": [
    "len(article_cluster[0].title.tolist())"
   ]
  },
  {
   "cell_type": "code",
   "execution_count": 64,
   "metadata": {
    "ExecuteTime": {
     "end_time": "2019-11-09T20:24:14.916171Z",
     "start_time": "2019-11-09T20:24:14.904202Z"
    }
   },
   "outputs": [
    {
     "data": {
      "text/plain": [
       "dict_keys([2, 5, 25, 58, 103, 209, 280, 327, 617, 955, 1034, 1141, 1202, 1285, 1693, 2158, 3388])"
      ]
     },
     "execution_count": 64,
     "metadata": {},
     "output_type": "execute_result"
    }
   ],
   "source": [
    "pc.keys()"
   ]
  },
  {
   "cell_type": "code",
   "execution_count": 65,
   "metadata": {
    "ExecuteTime": {
     "end_time": "2019-11-09T20:24:14.933124Z",
     "start_time": "2019-11-09T20:24:14.919161Z"
    },
    "scrolled": false
   },
   "outputs": [
    {
     "name": "stdout",
     "output_type": "stream",
     "text": [
      "-------------------------------------------------- title --------------------------------------------------\n",
      "From faith worker to cabinet minister, Tassi is ready to be voice for seniors\n",
      "Woman faces retrial on charges of suffocating husband - KAIT Jonesboro, AR - Region 8 News, weather, sports\n",
      "Brazilian police arrest 'Dr. Bumbum' after patient dies\n",
      "Washington Redskins' Vernon Davis pulled off an epic proposal in Ocean City\n",
      "LORRAINE HEROD\n",
      "Big Blue dragon boaters to paddle for cancer support, health | Local | lacrossetribune.com\n",
      "What does the future look like for soccer in America?\n",
      "Jail Reform: NYC Inmates Get Free Calls After Charged For Phone Use | Black America Web\n",
      "Here’s What Trump And NATO Should Do About Russia’s Aggressions\n",
      "-------------------------------------------------- text --------------------------------------------------\n",
      "From faith worker to cabinet minister, Tassi is ready to be voice for seniors ### Poll ### Do you su\n",
      "Woman faces retrial on charges of suffocating husband - KAIT Jonesboro, AR - Region 8 News, weather,\n",
      "Brazilian police arrest 'Dr. Bumbum' after patient dies ### The Pueblo Chieftain• ### Brazilian poli\n",
      "Washington Redskins' Vernon Davis pulled off an epic proposal in Ocean City ### The couple was strol\n",
      "View Sign ### Lorraine J Herod LOWELL, IN-Lorraine J Herod, age 95, of Lowell passed away on Wednesd\n",
      "Subscribe to discover fast, unlimited access.  Log in or Activate your account. ### Thanks for being\n",
      "FacebookEmail Twitter Google+ LinkedIn Pinterest ### What does the future look like for soccer in Am\n",
      "Leave a comment ### New York City jail inmates will soon be able to make calls for free. Lawmakers p\n",
      "Here’s What Trump And NATO Should Do About Russia’s Aggressions ### The Federalist• ### Here’s What \n"
     ]
    }
   ],
   "source": [
    "n = len(pc.keys())\n",
    "sample_cluster = np.random.randint(n)\n",
    "print('-'*50, 'title', '-'*50)\n",
    "print('\\n'.join(article_cluster[sample_cluster].title.tolist()[:10]))\n",
    "print('-'*50, 'text', '-'*50)\n",
    "print('\\n'.join(list(map(lambda x: x[:100], article_cluster[sample_cluster].text.tolist()[:10]))))"
   ]
  },
  {
   "cell_type": "markdown",
   "metadata": {
    "ExecuteTime": {
     "end_time": "2019-10-28T03:45:42.636863Z",
     "start_time": "2019-10-28T03:45:42.628884Z"
    }
   },
   "source": [
    "## Top clusters"
   ]
  },
  {
   "cell_type": "code",
   "execution_count": 66,
   "metadata": {
    "ExecuteTime": {
     "end_time": "2019-11-09T20:24:15.101887Z",
     "start_time": "2019-11-09T20:24:14.938113Z"
    }
   },
   "outputs": [
    {
     "data": {
      "image/png": "[encoded data removed]",
      "text/plain": [
       "<Figure size 432x288 with 1 Axes>"
      ]
     },
     "metadata": {
      "needs_background": "light"
     },
     "output_type": "display_data"
    }
   ],
   "source": [
    "cluster_sizes = np.array(list(map(len, article_cluster)))\n",
    "plt.hist(cluster_sizes);"
   ]
  },
  {
   "cell_type": "code",
   "execution_count": 67,
   "metadata": {
    "ExecuteTime": {
     "end_time": "2019-11-09T20:24:15.114853Z",
     "start_time": "2019-11-09T20:24:15.106874Z"
    }
   },
   "outputs": [
    {
     "data": {
      "text/plain": [
       "array([1207, 1153,   16,   12,   11,    9,    8,    8,    8,    8,    8,\n",
       "          8,    7,    7,    6,    6,    6])"
      ]
     },
     "execution_count": 67,
     "metadata": {},
     "output_type": "execute_result"
    }
   ],
   "source": [
    "index_by_size = list(reversed(np.argsort(cluster_sizes)))\n",
    "cluster_sizes[index_by_size]"
   ]
  },
  {
   "cell_type": "code",
   "execution_count": 68,
   "metadata": {
    "ExecuteTime": {
     "end_time": "2019-11-09T20:24:15.144289Z",
     "start_time": "2019-11-09T20:24:15.124343Z"
    }
   },
   "outputs": [
    {
     "data": {
      "text/html": [
       "<div>\n",
       "<style scoped>\n",
       "    .dataframe tbody tr th:only-of-type {\n",
       "        vertical-align: middle;\n",
       "    }\n",
       "\n",
       "    .dataframe tbody tr th {\n",
       "        vertical-align: top;\n",
       "    }\n",
       "\n",
       "    .dataframe thead th {\n",
       "        text-align: right;\n",
       "    }\n",
       "</style>\n",
       "<table border=\"1\" class=\"dataframe\">\n",
       "  <thead>\n",
       "    <tr style=\"text-align: right;\">\n",
       "      <th></th>\n",
       "      <th>pubId</th>\n",
       "      <th>canonicalUrl</th>\n",
       "      <th>firstScrape</th>\n",
       "      <th>title</th>\n",
       "      <th>text</th>\n",
       "      <th>lang_reliability</th>\n",
       "      <th>lang_iso</th>\n",
       "      <th>title_len</th>\n",
       "      <th>text_len</th>\n",
       "      <th>label</th>\n",
       "    </tr>\n",
       "  </thead>\n",
       "  <tbody>\n",
       "    <tr>\n",
       "      <td>10801</td>\n",
       "      <td>33</td>\n",
       "      <td>washingtonpost.com/news/posteverything/wp/2018...</td>\n",
       "      <td>7/19/2018 6:27:03 AM -04:00</td>\n",
       "      <td>Ukraine’s not a country, Putin told Bush. What...</td>\n",
       "      <td>PostEverything Perspective ### Perspective Int...</td>\n",
       "      <td>1</td>\n",
       "      <td>en</td>\n",
       "      <td>79</td>\n",
       "      <td>8487</td>\n",
       "      <td>helsinki</td>\n",
       "    </tr>\n",
       "    <tr>\n",
       "      <td>17607</td>\n",
       "      <td>34</td>\n",
       "      <td>bbc.co.uk/news/world-asia-44868907</td>\n",
       "      <td>7/19/2018 5:27:31 AM -04:00</td>\n",
       "      <td>Thai cave rescue boys relive 'moment of miracle</td>\n",
       "      <td>Thai cave rescue boys relive 'moment of miracl...</td>\n",
       "      <td>1</td>\n",
       "      <td>en</td>\n",
       "      <td>47</td>\n",
       "      <td>4668</td>\n",
       "      <td>cave_rescue</td>\n",
       "    </tr>\n",
       "    <tr>\n",
       "      <td>31434</td>\n",
       "      <td>16</td>\n",
       "      <td>news.google.com/stories/caaqaagkimjdqkltuxpvsm...</td>\n",
       "      <td>7/19/2018 5:36:57 PM -04:00</td>\n",
       "      <td>meets Vladimir Putin - Overview</td>\n",
       "      <td>Donald Trump meets Vladimir Putin ### Top cove...</td>\n",
       "      <td>1</td>\n",
       "      <td>en</td>\n",
       "      <td>31</td>\n",
       "      <td>13277</td>\n",
       "      <td>helsinki</td>\n",
       "    </tr>\n",
       "    <tr>\n",
       "      <td>41640</td>\n",
       "      <td>36</td>\n",
       "      <td>wsj.com/articles/eight-die-after-boat-capsizes...</td>\n",
       "      <td>7/19/2018 11:51:12 PM -04:00</td>\n",
       "      <td>Eight Die After Boat Capsizes in Storm Near Br...</td>\n",
       "      <td>### Eight Die After Boat Capsizes in Storm Nea...</td>\n",
       "      <td>1</td>\n",
       "      <td>en</td>\n",
       "      <td>63</td>\n",
       "      <td>572</td>\n",
       "      <td>duckboat</td>\n",
       "    </tr>\n",
       "    <tr>\n",
       "      <td>46718</td>\n",
       "      <td>414</td>\n",
       "      <td>fox2now.com/2018/07/19/mass-casualty-incident-...</td>\n",
       "      <td>7/19/2018 10:08:13 PM -04:00</td>\n",
       "      <td>‘Mass casualty incident’ reported at Table Roc...</td>\n",
       "      <td>‘Mass casualty incident’ reported at Table Roc...</td>\n",
       "      <td>1</td>\n",
       "      <td>en</td>\n",
       "      <td>66</td>\n",
       "      <td>910</td>\n",
       "      <td>duckboat</td>\n",
       "    </tr>\n",
       "  </tbody>\n",
       "</table>\n",
       "</div>"
      ],
      "text/plain": [
       "      pubId                                       canonicalUrl  \\\n",
       "10801    33  washingtonpost.com/news/posteverything/wp/2018...   \n",
       "17607    34                 bbc.co.uk/news/world-asia-44868907   \n",
       "31434    16  news.google.com/stories/caaqaagkimjdqkltuxpvsm...   \n",
       "41640    36  wsj.com/articles/eight-die-after-boat-capsizes...   \n",
       "46718   414  fox2now.com/2018/07/19/mass-casualty-incident-...   \n",
       "\n",
       "                        firstScrape  \\\n",
       "10801   7/19/2018 6:27:03 AM -04:00   \n",
       "17607   7/19/2018 5:27:31 AM -04:00   \n",
       "31434   7/19/2018 5:36:57 PM -04:00   \n",
       "41640  7/19/2018 11:51:12 PM -04:00   \n",
       "46718  7/19/2018 10:08:13 PM -04:00   \n",
       "\n",
       "                                                   title  \\\n",
       "10801  Ukraine’s not a country, Putin told Bush. What...   \n",
       "17607    Thai cave rescue boys relive 'moment of miracle   \n",
       "31434                    meets Vladimir Putin - Overview   \n",
       "41640  Eight Die After Boat Capsizes in Storm Near Br...   \n",
       "46718  ‘Mass casualty incident’ reported at Table Roc...   \n",
       "\n",
       "                                                    text lang_reliability  \\\n",
       "10801  PostEverything Perspective ### Perspective Int...                1   \n",
       "17607  Thai cave rescue boys relive 'moment of miracl...                1   \n",
       "31434  Donald Trump meets Vladimir Putin ### Top cove...                1   \n",
       "41640  ### Eight Die After Boat Capsizes in Storm Nea...                1   \n",
       "46718  ‘Mass casualty incident’ reported at Table Roc...                1   \n",
       "\n",
       "      lang_iso  title_len  text_len        label  \n",
       "10801       en         79      8487     helsinki  \n",
       "17607       en         47      4668  cave_rescue  \n",
       "31434       en         31     13277     helsinki  \n",
       "41640       en         63       572     duckboat  \n",
       "46718       en         66       910     duckboat  "
      ]
     },
     "execution_count": 68,
     "metadata": {},
     "output_type": "execute_result"
    }
   ],
   "source": [
    "top_cluster = article_cluster[index_by_size[0]]\n",
    "top_cluster.head()"
   ]
  },
  {
   "cell_type": "code",
   "execution_count": 69,
   "metadata": {
    "ExecuteTime": {
     "end_time": "2019-11-09T20:24:15.153265Z",
     "start_time": "2019-11-09T20:24:15.147282Z"
    },
    "scrolled": false
   },
   "outputs": [
    {
     "name": "stdout",
     "output_type": "stream",
     "text": [
      "Ukraine’s not a country, Putin told Bush. What’d he tell Trump about Montenegro\n",
      "Thai cave rescue boys relive 'moment of miracle\n",
      "meets Vladimir Putin - Overview\n",
      "Eight Die After Boat Capsizes in Storm Near Branson, Mo.  - WSJ\n",
      "‘Mass casualty incident’ reported at Table Rock Lake | FOX2now.com\n",
      "wave and smile in first public appearance after rescue\n",
      "The 12 Russians indicted in the Mueller  will probably never face trial in the US\n",
      "Trump and Putin morph into the same person on Time magazine cover\n",
      "Watch as Trump’s Intel Director Dan Coats is stunned by news from the White House | TheBlaze\n",
      "Russia slams proposal to question Trump summit translator | Daily Mail Online\n"
     ]
    }
   ],
   "source": [
    "print('\\n'.join(top_cluster.title.tolist()[:10]))"
   ]
  },
  {
   "cell_type": "code",
   "execution_count": 70,
   "metadata": {
    "ExecuteTime": {
     "end_time": "2019-11-09T20:24:15.172222Z",
     "start_time": "2019-11-09T20:24:15.157259Z"
    }
   },
   "outputs": [
    {
     "name": "stderr",
     "output_type": "stream",
     "text": [
      "C:\\Users\\harinsa\\Anaconda3\\lib\\site-packages\\ipykernel_launcher.py:2: SettingWithCopyWarning: \n",
      "A value is trying to be set on a copy of a slice from a DataFrame.\n",
      "Try using .loc[row_indexer,col_indexer] = value instead\n",
      "\n",
      "See the caveats in the documentation: http://pandas.pydata.org/pandas-docs/stable/user_guide/indexing.html#returning-a-view-versus-a-copy\n",
      "  \n"
     ]
    }
   ],
   "source": [
    "for i, a in enumerate(article_cluster):\n",
    "    a['assignment'] = i"
   ]
  },
  {
   "cell_type": "code",
   "execution_count": 71,
   "metadata": {
    "ExecuteTime": {
     "end_time": "2019-11-09T20:24:15.824480Z",
     "start_time": "2019-11-09T20:24:15.177206Z"
    }
   },
   "outputs": [
    {
     "data": {
      "text/html": [
       "<div>\n",
       "<style scoped>\n",
       "    .dataframe tbody tr th:only-of-type {\n",
       "        vertical-align: middle;\n",
       "    }\n",
       "\n",
       "    .dataframe tbody tr th {\n",
       "        vertical-align: top;\n",
       "    }\n",
       "\n",
       "    .dataframe thead th {\n",
       "        text-align: right;\n",
       "    }\n",
       "</style>\n",
       "<table border=\"1\" class=\"dataframe\">\n",
       "  <thead>\n",
       "    <tr style=\"text-align: right;\">\n",
       "      <th></th>\n",
       "      <th></th>\n",
       "      <th>canonicalUrl</th>\n",
       "    </tr>\n",
       "    <tr>\n",
       "      <th>label</th>\n",
       "      <th>assignment</th>\n",
       "      <th></th>\n",
       "    </tr>\n",
       "  </thead>\n",
       "  <tbody>\n",
       "    <tr>\n",
       "      <td rowspan=\"3\" valign=\"top\">cave_rescue</td>\n",
       "      <td>0</td>\n",
       "      <td>2</td>\n",
       "    </tr>\n",
       "    <tr>\n",
       "      <td>1</td>\n",
       "      <td>5</td>\n",
       "    </tr>\n",
       "    <tr>\n",
       "      <td>3</td>\n",
       "      <td>1</td>\n",
       "    </tr>\n",
       "    <tr>\n",
       "      <td rowspan=\"2\" valign=\"top\">duckboat</td>\n",
       "      <td>0</td>\n",
       "      <td>2</td>\n",
       "    </tr>\n",
       "    <tr>\n",
       "      <td>1</td>\n",
       "      <td>3</td>\n",
       "    </tr>\n",
       "  </tbody>\n",
       "</table>\n",
       "</div>"
      ],
      "text/plain": [
       "                        canonicalUrl\n",
       "label       assignment              \n",
       "cave_rescue 0                      2\n",
       "            1                      5\n",
       "            3                      1\n",
       "duckboat    0                      2\n",
       "            1                      3"
      ]
     },
     "execution_count": 71,
     "metadata": {},
     "output_type": "execute_result"
    }
   ],
   "source": [
    "articles = pd.concat(article_cluster)\n",
    "assignments = articles[['label', 'assignment', 'canonicalUrl']].groupby(['label', 'assignment']).count()\n",
    "assignments.head()"
   ]
  },
  {
   "cell_type": "markdown",
   "metadata": {
    "ExecuteTime": {
     "end_time": "2019-11-01T14:30:13.586868Z",
     "start_time": "2019-11-01T14:30:13.554699Z"
    }
   },
   "source": [
    "## Compare with K-Means"
   ]
  },
  {
   "cell_type": "code",
   "execution_count": 72,
   "metadata": {
    "ExecuteTime": {
     "end_time": "2019-11-09T20:24:15.832450Z",
     "start_time": "2019-11-09T20:24:15.827464Z"
    }
   },
   "outputs": [],
   "source": [
    "from sklearn.cluster import KMeans"
   ]
  },
  {
   "cell_type": "code",
   "execution_count": 73,
   "metadata": {
    "ExecuteTime": {
     "end_time": "2019-11-09T20:24:15.844451Z",
     "start_time": "2019-11-09T20:24:15.836440Z"
    }
   },
   "outputs": [
    {
     "data": {
      "text/plain": [
       "array([1207, 1153,    8,    7,    6,    6,    8,    8,    7,   12,   16,\n",
       "          6,   11,    8,    8,    8,    9])"
      ]
     },
     "execution_count": 73,
     "metadata": {},
     "output_type": "execute_result"
    }
   ],
   "source": [
    "cluster_sizes"
   ]
  },
  {
   "cell_type": "code",
   "execution_count": 74,
   "metadata": {
    "ExecuteTime": {
     "end_time": "2019-11-09T20:24:15.862370Z",
     "start_time": "2019-11-09T20:24:15.849407Z"
    }
   },
   "outputs": [],
   "source": [
    "articles_emb = emb[articles.index]"
   ]
  },
  {
   "cell_type": "code",
   "execution_count": 75,
   "metadata": {
    "ExecuteTime": {
     "end_time": "2019-11-09T20:24:26.538321Z",
     "start_time": "2019-11-09T20:24:15.866360Z"
    }
   },
   "outputs": [
    {
     "data": {
      "text/plain": [
       "array([ 1,  1,  1, ..., 12, 12, 12])"
      ]
     },
     "execution_count": 75,
     "metadata": {},
     "output_type": "execute_result"
    }
   ],
   "source": [
    "k = KMeans(n_clusters=len(cluster_sizes), n_jobs=-1)\n",
    "k_predictions = k.fit_predict(articles_emb); k_predictions"
   ]
  },
  {
   "cell_type": "code",
   "execution_count": 76,
   "metadata": {
    "ExecuteTime": {
     "end_time": "2019-11-09T20:24:26.547295Z",
     "start_time": "2019-11-09T20:24:26.541313Z"
    }
   },
   "outputs": [],
   "source": [
    "articles['k_assignment'] = k_predictions"
   ]
  },
  {
   "cell_type": "code",
   "execution_count": 77,
   "metadata": {
    "ExecuteTime": {
     "end_time": "2019-11-09T20:24:26.634065Z",
     "start_time": "2019-11-09T20:24:26.551287Z"
    },
    "scrolled": false
   },
   "outputs": [
    {
     "name": "stdout",
     "output_type": "stream",
     "text": [
      "      \t community\t k_mean\n",
      "helsinki\t0.458\t0.750\n",
      "cave_rescue\t0.625\t0.875\n",
      "duckboat\t0.600\t1.000\n",
      "--------------------------------------------------\n",
      "mean\t\t0.561\t0.875\n"
     ]
    }
   ],
   "source": [
    "com_scores = []\n",
    "k_scores = []\n",
    "\n",
    "print('      \\t', 'community\\t', 'k_mean')\n",
    "for label in articles.label.unique():\n",
    "    if not isinstance(label, str): continue\n",
    "    a_cluster = articles[articles.label == label][['assignment', 'k_assignment']]\n",
    "    max_cm_cluster = a_cluster.groupby('assignment').count().sort_values('k_assignment', ascending=False).index[0]\n",
    "    max_km_cluster = a_cluster.groupby('k_assignment').count().sort_values('assignment', ascending=False).index[0]\n",
    "    community_score = a_cluster[a_cluster.assignment == max_cm_cluster].shape[0] / a_cluster.shape[0]\n",
    "    k_mean_score = a_cluster[a_cluster.k_assignment == max_km_cluster].shape[0] / a_cluster.shape[0]\n",
    "    print(f'{label}\\t{community_score:.3f}\\t{k_mean_score:.3f}')\n",
    "    com_scores.append(community_score)\n",
    "    k_scores.append(k_mean_score)\n",
    "print('-'*50)\n",
    "print(f'mean\\t\\t{np.mean(com_scores):.3f}\\t{np.mean(k_scores):.3f}')"
   ]
  },
  {
   "cell_type": "code",
   "execution_count": 79,
   "metadata": {
    "ExecuteTime": {
     "end_time": "2019-11-09T20:29:29.014257Z",
     "start_time": "2019-11-09T20:29:29.008260Z"
    }
   },
   "outputs": [],
   "source": [
    "from sklearn.cluster import DBSCAN\n",
    "import numpy as np"
   ]
  },
  {
   "cell_type": "code",
   "execution_count": 118,
   "metadata": {
    "ExecuteTime": {
     "end_time": "2019-11-09T20:44:06.511878Z",
     "start_time": "2019-11-09T20:44:00.678138Z"
    }
   },
   "outputs": [
    {
     "data": {
      "text/plain": [
       "{-1,\n",
       " 0,\n",
       " 1,\n",
       " 2,\n",
       " 3,\n",
       " 4,\n",
       " 5,\n",
       " 6,\n",
       " 7,\n",
       " 8,\n",
       " 9,\n",
       " 10,\n",
       " 11,\n",
       " 12,\n",
       " 13,\n",
       " 14,\n",
       " 15,\n",
       " 16,\n",
       " 17,\n",
       " 18,\n",
       " 19,\n",
       " 20,\n",
       " 21,\n",
       " 22,\n",
       " 23,\n",
       " 24,\n",
       " 25,\n",
       " 26,\n",
       " 27,\n",
       " 28,\n",
       " 29,\n",
       " 30,\n",
       " 31,\n",
       " 32}"
      ]
     },
     "execution_count": 118,
     "metadata": {},
     "output_type": "execute_result"
    }
   ],
   "source": [
    "clustering = DBSCAN(eps=10, min_samples=5).fit(sample_emb)\n",
    "set(clustering.labels_)"
   ]
  },
  {
   "cell_type": "code",
   "execution_count": 119,
   "metadata": {
    "ExecuteTime": {
     "end_time": "2019-11-09T20:44:08.312496Z",
     "start_time": "2019-11-09T20:44:08.298534Z"
    }
   },
   "outputs": [],
   "source": [
    "y_dbscan = pd.DataFrame({ 'y_dbscan': clustering.labels_ }, index=sample_df.index)\n",
    "y_dbscan = y_dbscan.loc[articles.index]\n",
    "articles = articles.drop(['y_dbscan'], axis=1)\n",
    "articles = articles.join(y_dbscan)"
   ]
  },
  {
   "cell_type": "code",
   "execution_count": 121,
   "metadata": {
    "ExecuteTime": {
     "end_time": "2019-11-09T20:44:35.004912Z",
     "start_time": "2019-11-09T20:44:34.957011Z"
    }
   },
   "outputs": [
    {
     "name": "stdout",
     "output_type": "stream",
     "text": [
      "      \t community\t k_mean \t dbscore\n",
      "helsinki\t0.458\t0.750\t0.458\n",
      "cave_rescue\t0.625\t0.875\t0.250\n",
      "duckboat\t0.600\t1.000\t0.400\n",
      "--------------------------------------------------\n",
      "mean\t\t0.561\t0.875\t0.369\n"
     ]
    }
   ],
   "source": [
    "com_scores = []\n",
    "k_scores = []\n",
    "db_scores = []\n",
    "\n",
    "print('      \\t', 'community\\t', 'k_mean', '\\t', 'dbscore')\n",
    "for label in articles.label.unique():\n",
    "    if not isinstance(label, str): continue\n",
    "    a_cluster = articles[articles.label == label][['assignment', 'k_assignment', 'y_dbscan']]\n",
    "    max_cm_cluster = a_cluster.groupby('assignment').count().sort_values('k_assignment', ascending=False).index[0]\n",
    "    max_km_cluster = a_cluster.groupby('k_assignment').count().sort_values('assignment', ascending=False).index[0]\n",
    "    max_db_cluster = a_cluster.groupby('y_dbscan').count().sort_values('assignment', ascending=False).index[0]\n",
    "    \n",
    "    community_score = a_cluster[a_cluster.assignment == max_cm_cluster].shape[0] / a_cluster.shape[0]\n",
    "    k_mean_score = a_cluster[a_cluster.k_assignment == max_km_cluster].shape[0] / a_cluster.shape[0]\n",
    "    db_score = a_cluster[a_cluster.assignment == max_db_cluster].shape[0] / a_cluster.shape[0]\n",
    "\n",
    "    print(f'{label}\\t{community_score:.3f}\\t{k_mean_score:.3f}\\t{db_score:.3f}')\n",
    "    com_scores.append(community_score)\n",
    "    k_scores.append(k_mean_score)\n",
    "    db_scores.append(db_score)\n",
    "print('-'*50)\n",
    "print(f'mean\\t\\t{np.mean(com_scores):.3f}\\t{np.mean(k_scores):.3f}\\t{np.mean(db_scores):.3f}')"
   ]
  },
  {
   "cell_type": "code",
   "execution_count": 144,
   "metadata": {
    "ExecuteTime": {
     "end_time": "2019-11-09T21:36:20.165137Z",
     "start_time": "2019-11-09T21:36:20.082480Z"
    }
   },
   "outputs": [],
   "source": [
    "def max_cluster_acc(y_true, y_pred, name=None):\n",
    "    labels = set(y_true)\n",
    "    result = []\n",
    "    for label in labels:\n",
    "        if not isinstance(label, str): continue # remove NaN\n",
    "        label_index = y_true == label\n",
    "        \n",
    "        cluster_size = {}\n",
    "        cluster_labels = set(y_pred)\n",
    "        max_cluster_label = -1\n",
    "        max_cluster_size = -1\n",
    "        for cluster_label in cluster_labels:\n",
    "            count = np.sum(y_pred == cluster_label)\n",
    "            if count > max_cluster_size:\n",
    "                max_cluster_label = cluster_label\n",
    "                max_cluster_size = count\n",
    "                    \n",
    "        num_correct = np.sum(y_pred[label_index] == max_cluster_label)\n",
    "        \n",
    "        num_true = np.sum(y_true == label)\n",
    "        num_predict = np.sum(y_pred == max_cluster_label)\n",
    "        \n",
    "        precision = num_correct / max_cluster_size\n",
    "        recall = num_correct / num_true\n",
    "        scores = {\n",
    "            'label': label,\n",
    "            'precision': precision,\n",
    "            'recall': recall,\n",
    "        }\n",
    "        if name: scores['name'] = name\n",
    "        result.append(scores)\n",
    "    return result\n",
    "        \n",
    "results = max_cluster_acc(articles.label, articles.y_dbscan, 'dbscan') +\\\n",
    "    max_cluster_acc(articles.label, articles.k_assignment, 'kmean') +\\\n",
    "    max_cluster_acc(articles.label, articles.assignment, 'cd')"
   ]
  },
  {
   "cell_type": "code",
   "execution_count": 157,
   "metadata": {
    "ExecuteTime": {
     "end_time": "2019-11-09T21:40:24.775716Z",
     "start_time": "2019-11-09T21:40:24.758762Z"
    }
   },
   "outputs": [
    {
     "data": {
      "text/html": [
       "<div>\n",
       "<style scoped>\n",
       "    .dataframe tbody tr th:only-of-type {\n",
       "        vertical-align: middle;\n",
       "    }\n",
       "\n",
       "    .dataframe tbody tr th {\n",
       "        vertical-align: top;\n",
       "    }\n",
       "\n",
       "    .dataframe thead th {\n",
       "        text-align: right;\n",
       "    }\n",
       "</style>\n",
       "<table border=\"1\" class=\"dataframe\">\n",
       "  <thead>\n",
       "    <tr style=\"text-align: right;\">\n",
       "      <th></th>\n",
       "      <th>precision</th>\n",
       "      <th>recall</th>\n",
       "      <th>fscore</th>\n",
       "    </tr>\n",
       "    <tr>\n",
       "      <th>name</th>\n",
       "      <th></th>\n",
       "      <th></th>\n",
       "      <th></th>\n",
       "    </tr>\n",
       "  </thead>\n",
       "  <tbody>\n",
       "    <tr>\n",
       "      <td>cd</td>\n",
       "      <td>0.004143</td>\n",
       "      <td>0.369444</td>\n",
       "      <td>0.008193</td>\n",
       "    </tr>\n",
       "    <tr>\n",
       "      <td>dbscan</td>\n",
       "      <td>0.004904</td>\n",
       "      <td>0.944444</td>\n",
       "      <td>0.009757</td>\n",
       "    </tr>\n",
       "    <tr>\n",
       "      <td>kmean</td>\n",
       "      <td>0.004764</td>\n",
       "      <td>0.875000</td>\n",
       "      <td>0.009477</td>\n",
       "    </tr>\n",
       "  </tbody>\n",
       "</table>\n",
       "</div>"
      ],
      "text/plain": [
       "        precision    recall    fscore\n",
       "name                                 \n",
       "cd       0.004143  0.369444  0.008193\n",
       "dbscan   0.004904  0.944444  0.009757\n",
       "kmean    0.004764  0.875000  0.009477"
      ]
     },
     "execution_count": 157,
     "metadata": {},
     "output_type": "execute_result"
    }
   ],
   "source": [
    "agg_result = pd.DataFrame(results).groupby('name').mean()\n",
    "agg_result['fscore'] = 2 * agg_result.precision * agg_result.recall / (agg_result.precision + agg_result.recall)\n",
    "agg_result"
   ]
  },
  {
   "cell_type": "code",
   "execution_count": 154,
   "metadata": {
    "ExecuteTime": {
     "end_time": "2019-11-09T21:39:14.013991Z",
     "start_time": "2019-11-09T21:39:13.995043Z"
    }
   },
   "outputs": [
    {
     "data": {
      "text/html": [
       "<div>\n",
       "<style scoped>\n",
       "    .dataframe tbody tr th:only-of-type {\n",
       "        vertical-align: middle;\n",
       "    }\n",
       "\n",
       "    .dataframe tbody tr th {\n",
       "        vertical-align: top;\n",
       "    }\n",
       "\n",
       "    .dataframe thead th {\n",
       "        text-align: right;\n",
       "    }\n",
       "</style>\n",
       "<table border=\"1\" class=\"dataframe\">\n",
       "  <thead>\n",
       "    <tr style=\"text-align: right;\">\n",
       "      <th></th>\n",
       "      <th></th>\n",
       "      <th>precision</th>\n",
       "      <th>recall</th>\n",
       "    </tr>\n",
       "    <tr>\n",
       "      <th>name</th>\n",
       "      <th>label</th>\n",
       "      <th></th>\n",
       "      <th></th>\n",
       "    </tr>\n",
       "  </thead>\n",
       "  <tbody>\n",
       "    <tr>\n",
       "      <td rowspan=\"3\" valign=\"top\">cd</td>\n",
       "      <td>cave_rescue</td>\n",
       "      <td>0.001657</td>\n",
       "      <td>0.250000</td>\n",
       "    </tr>\n",
       "    <tr>\n",
       "      <td>duckboat</td>\n",
       "      <td>0.001657</td>\n",
       "      <td>0.400000</td>\n",
       "    </tr>\n",
       "    <tr>\n",
       "      <td>helsinki</td>\n",
       "      <td>0.009114</td>\n",
       "      <td>0.458333</td>\n",
       "    </tr>\n",
       "    <tr>\n",
       "      <td rowspan=\"3\" valign=\"top\">dbscan</td>\n",
       "      <td>cave_rescue</td>\n",
       "      <td>0.002942</td>\n",
       "      <td>0.875000</td>\n",
       "    </tr>\n",
       "    <tr>\n",
       "      <td>duckboat</td>\n",
       "      <td>0.002102</td>\n",
       "      <td>1.000000</td>\n",
       "    </tr>\n",
       "    <tr>\n",
       "      <td>helsinki</td>\n",
       "      <td>0.009668</td>\n",
       "      <td>0.958333</td>\n",
       "    </tr>\n",
       "    <tr>\n",
       "      <td rowspan=\"3\" valign=\"top\">kmean</td>\n",
       "      <td>cave_rescue</td>\n",
       "      <td>0.003335</td>\n",
       "      <td>0.875000</td>\n",
       "    </tr>\n",
       "    <tr>\n",
       "      <td>duckboat</td>\n",
       "      <td>0.002382</td>\n",
       "      <td>1.000000</td>\n",
       "    </tr>\n",
       "    <tr>\n",
       "      <td>helsinki</td>\n",
       "      <td>0.008576</td>\n",
       "      <td>0.750000</td>\n",
       "    </tr>\n",
       "  </tbody>\n",
       "</table>\n",
       "</div>"
      ],
      "text/plain": [
       "                    precision    recall\n",
       "name   label                           \n",
       "cd     cave_rescue   0.001657  0.250000\n",
       "       duckboat      0.001657  0.400000\n",
       "       helsinki      0.009114  0.458333\n",
       "dbscan cave_rescue   0.002942  0.875000\n",
       "       duckboat      0.002102  1.000000\n",
       "       helsinki      0.009668  0.958333\n",
       "kmean  cave_rescue   0.003335  0.875000\n",
       "       duckboat      0.002382  1.000000\n",
       "       helsinki      0.008576  0.750000"
      ]
     },
     "execution_count": 154,
     "metadata": {},
     "output_type": "execute_result"
    }
   ],
   "source": [
    "pd.DataFrame(results).pivot_table(['precision', 'recall'], ['name', 'label'])"
   ]
  },
  {
   "cell_type": "code",
   "execution_count": null,
   "metadata": {},
   "outputs": [],
   "source": []
  }
 ],
 "metadata": {
  "kernelspec": {
   "display_name": "Python 3",
   "language": "python",
   "name": "python3"
  },
  "language_info": {
   "codemirror_mode": {
    "name": "ipython",
    "version": 3
   },
   "file_extension": ".py",
   "mimetype": "text/x-python",
   "name": "python",
   "nbconvert_exporter": "python",
   "pygments_lexer": "ipython3",
   "version": "3.7.4"
  }
 },
 "nbformat": 4,
 "nbformat_minor": 2
}
