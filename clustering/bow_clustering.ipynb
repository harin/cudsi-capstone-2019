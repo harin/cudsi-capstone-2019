{
 "cells": [
  {
   "cell_type": "code",
   "execution_count": 2,
   "metadata": {
    "ExecuteTime": {
     "end_time": "2019-11-11T20:31:59.373431Z",
     "start_time": "2019-11-11T20:31:58.536121Z"
    }
   },
   "outputs": [],
   "source": [
    "from IPython.display import HTML\n",
    "from sklearn.neighbors import NearestNeighbors"
   ]
  },
  {
   "cell_type": "code",
   "execution_count": 3,
   "metadata": {
    "ExecuteTime": {
     "end_time": "2019-11-11T20:32:00.353910Z",
     "start_time": "2019-11-11T20:31:59.375421Z"
    }
   },
   "outputs": [],
   "source": [
    "import pandas as pd\n",
    "import networkx as nx\n",
    "import community\n",
    "import matplotlib.pyplot as plt\n",
    "from sklearn.metrics.pairwise import cosine_similarity, euclidean_distances\n",
    "import numpy as np\n",
    "from collections import defaultdict\n",
    "from sklearn.neighbors import BallTree, NearestNeighbors\n",
    "import gc\n",
    "%matplotlib inline\n",
    "\n",
    "columns = [\"pubId\", \"is_hourly\", \"seqId\", \"on_homepage\", \"canonicalUrl\",\n",
    "                   \"firstScrape\", \"lang_iso\", \"lang_reliability\", \"title\", \"text\"]\n",
    "\n",
    "def read_article_df(file):\n",
    "    articles_dt = file.read().split('\\n')[:-1]\n",
    "    pubId, canonicalUrl,firstScrape,title,text,lang_reliability = [],[],[],[],[],[]\n",
    "    lang_iso = []\n",
    "    for article in articles_dt:    \n",
    "        row = article.split('\\t')\n",
    "        pubId.append(row[0])\n",
    "        canonicalUrl.append(row[4])\n",
    "        firstScrape.append(row[5])\n",
    "        lang_iso.append(row[6])\n",
    "        lang_reliability.append(row[7])\n",
    "        title.append(row[8])\n",
    "        text.append(row[9])\n",
    "\n",
    "    articles_df = pd.DataFrame()\n",
    "    articles_df['pubId'] = pubId\n",
    "    articles_df['canonicalUrl'] = canonicalUrl\n",
    "    articles_df['firstScrape'] = firstScrape\n",
    "    articles_df['title'] = title\n",
    "    articles_df['text'] = text\n",
    "    articles_df['lang_reliability'] = lang_reliability\n",
    "    articles_df['lang_iso'] = lang_iso\n",
    "    return articles_df"
   ]
  },
  {
   "cell_type": "code",
   "execution_count": 4,
   "metadata": {
    "ExecuteTime": {
     "end_time": "2019-11-11T20:32:01.792377Z",
     "start_time": "2019-11-11T20:32:00.356737Z"
    }
   },
   "outputs": [],
   "source": [
    "import numpy as np\n",
    "emb = np.load('../data/embedding/BagOfWord_output.npy', allow_pickle=True)"
   ]
  },
  {
   "cell_type": "code",
   "execution_count": 5,
   "metadata": {
    "ExecuteTime": {
     "end_time": "2019-11-11T20:32:01.800359Z",
     "start_time": "2019-11-11T20:32:01.794389Z"
    }
   },
   "outputs": [],
   "source": [
    "emb = np.asmatrix(emb)[0,0]"
   ]
  },
  {
   "cell_type": "code",
   "execution_count": 6,
   "metadata": {
    "ExecuteTime": {
     "end_time": "2019-11-11T20:32:11.422408Z",
     "start_time": "2019-11-11T20:32:01.805351Z"
    }
   },
   "outputs": [],
   "source": [
    "article_df = read_article_df(open('../data/raw/2018_07_19_04_59_08/articles.txt', encoding='utf-8'))\n",
    "article_df = article_df[article_df.lang_reliability == '1'].reset_index(drop=True)"
   ]
  },
  {
   "cell_type": "code",
   "execution_count": 7,
   "metadata": {
    "ExecuteTime": {
     "end_time": "2019-11-11T20:32:11.796662Z",
     "start_time": "2019-11-11T20:32:11.424404Z"
    }
   },
   "outputs": [],
   "source": [
    "article_df['title'] = article_df.title.apply(lambda s: s.strip())\n",
    "article_df['text'] = article_df.text.apply(lambda s: s.strip())\n",
    "article_df['title_len'] = article_df.title.apply(len)\n",
    "article_df['text_len'] = article_df.text.apply(len)"
   ]
  },
  {
   "cell_type": "code",
   "execution_count": 8,
   "metadata": {
    "ExecuteTime": {
     "end_time": "2019-11-11T20:32:11.836348Z",
     "start_time": "2019-11-11T20:32:11.799401Z"
    }
   },
   "outputs": [
    {
     "data": {
      "text/plain": [
       "(3059, 9)"
      ]
     },
     "execution_count": 8,
     "metadata": {},
     "output_type": "execute_result"
    }
   ],
   "source": [
    "article_df.query('text_len == 0 and title_len == 0').shape"
   ]
  },
  {
   "cell_type": "code",
   "execution_count": 9,
   "metadata": {
    "ExecuteTime": {
     "end_time": "2019-11-11T20:32:11.988927Z",
     "start_time": "2019-11-11T20:32:11.837312Z"
    }
   },
   "outputs": [
    {
     "data": {
      "text/plain": [
       "(176664, 9)"
      ]
     },
     "execution_count": 9,
     "metadata": {},
     "output_type": "execute_result"
    }
   ],
   "source": [
    "clean_df = article_df[article_df.title_len > 0]\n",
    "clean_df = clean_df[clean_df.text_len > 100]\n",
    "clean_df = clean_df[clean_df.lang_iso == 'en']\n",
    "clean_df.shape"
   ]
  },
  {
   "cell_type": "code",
   "execution_count": 10,
   "metadata": {
    "ExecuteTime": {
     "end_time": "2019-11-11T20:32:12.016860Z",
     "start_time": "2019-11-11T20:32:11.991887Z"
    }
   },
   "outputs": [],
   "source": [
    "def load_label(file='lower_bound'):\n",
    "    label1 = pd.read_csv(f'../data/raw/labels/cave_rescue/{file}.txt', header=None)\n",
    "    label1.columns = ['canonicalUrl']\n",
    "    label1['label'] = 'cave_rescue'\n",
    "\n",
    "    label2 = pd.read_csv(f'../data/raw/labels/duckboat/{file}.txt', header=None)\n",
    "    label2.columns = ['canonicalUrl']\n",
    "    label2['label'] = 'duckboat'\n",
    "\n",
    "    label3 = pd.read_csv(f'../data/raw/labels/helsinki_summit/{file}.txt', header=None)\n",
    "    label3.columns = ['canonicalUrl']\n",
    "    label3['label'] = 'helsinki'\n",
    "\n",
    "    label_df = pd.concat([label1, label2, label3])\n",
    "    return label_df\n",
    "\n",
    "label_df = load_label('lower_bound')"
   ]
  },
  {
   "cell_type": "code",
   "execution_count": 11,
   "metadata": {
    "ExecuteTime": {
     "end_time": "2019-11-11T20:32:12.182389Z",
     "start_time": "2019-11-11T20:32:12.019817Z"
    }
   },
   "outputs": [],
   "source": [
    "clean_df = clean_df.merge(label_df, on='canonicalUrl', how='left')"
   ]
  },
  {
   "cell_type": "code",
   "execution_count": 12,
   "metadata": {
    "ExecuteTime": {
     "end_time": "2019-11-11T20:32:12.207311Z",
     "start_time": "2019-11-11T20:32:12.185370Z"
    },
    "scrolled": false
   },
   "outputs": [
    {
     "data": {
      "text/html": [
       "<div>\n",
       "<style scoped>\n",
       "    .dataframe tbody tr th:only-of-type {\n",
       "        vertical-align: middle;\n",
       "    }\n",
       "\n",
       "    .dataframe tbody tr th {\n",
       "        vertical-align: top;\n",
       "    }\n",
       "\n",
       "    .dataframe thead th {\n",
       "        text-align: right;\n",
       "    }\n",
       "</style>\n",
       "<table border=\"1\" class=\"dataframe\">\n",
       "  <thead>\n",
       "    <tr style=\"text-align: right;\">\n",
       "      <th></th>\n",
       "      <th>pubId</th>\n",
       "      <th>canonicalUrl</th>\n",
       "      <th>firstScrape</th>\n",
       "      <th>title</th>\n",
       "      <th>text</th>\n",
       "      <th>lang_reliability</th>\n",
       "      <th>lang_iso</th>\n",
       "      <th>title_len</th>\n",
       "      <th>text_len</th>\n",
       "      <th>label</th>\n",
       "    </tr>\n",
       "  </thead>\n",
       "  <tbody>\n",
       "    <tr>\n",
       "      <td>0</td>\n",
       "      <td>290</td>\n",
       "      <td>zerohedge.com/news/2018-07-19/i-told-you-so-tr...</td>\n",
       "      <td>7/19/2018 10:41:26 AM -04:00</td>\n",
       "      <td>\"I Told You So\": Trump Hits Out At EU After $5...</td>\n",
       "      <td>by Phoenix Capita… - Jul 19, 2018 8:49 am ### ...</td>\n",
       "      <td>1</td>\n",
       "      <td>en</td>\n",
       "      <td>79</td>\n",
       "      <td>2134</td>\n",
       "      <td>NaN</td>\n",
       "    </tr>\n",
       "    <tr>\n",
       "      <td>1</td>\n",
       "      <td>290</td>\n",
       "      <td>zerohedge.com/news/2018-07-19/trump-invites-pu...</td>\n",
       "      <td>7/19/2018 5:03:01 PM -04:00</td>\n",
       "      <td>Trump Invites Putin To  Ahead Of Midterms | Ze...</td>\n",
       "      <td>by Phoenix Capita… - Jul 19, 2018 8:49 am ### ...</td>\n",
       "      <td>1</td>\n",
       "      <td>en</td>\n",
       "      <td>54</td>\n",
       "      <td>4555</td>\n",
       "      <td>NaN</td>\n",
       "    </tr>\n",
       "    <tr>\n",
       "      <td>2</td>\n",
       "      <td>290</td>\n",
       "      <td>zerohedge.com/news/2018-07-19/gallup-shows-how...</td>\n",
       "      <td>7/19/2018 8:26:52 AM -04:00</td>\n",
       "      <td>Gallup Shows How Much Americans Really Care Ab...</td>\n",
       "      <td>by Knave Dave - Jul 18, 2018 1:11 pm ### This ...</td>\n",
       "      <td>1</td>\n",
       "      <td>en</td>\n",
       "      <td>76</td>\n",
       "      <td>3133</td>\n",
       "      <td>NaN</td>\n",
       "    </tr>\n",
       "    <tr>\n",
       "      <td>3</td>\n",
       "      <td>290</td>\n",
       "      <td>zerohedge.com/news/2018-07-19/california-supre...</td>\n",
       "      <td>7/19/2018 8:26:52 AM -04:00</td>\n",
       "      <td>California Supreme Court Blocks Proposal To Sp...</td>\n",
       "      <td>by Knave Dave - Jul 18, 2018 1:11 pm ### This ...</td>\n",
       "      <td>1</td>\n",
       "      <td>en</td>\n",
       "      <td>85</td>\n",
       "      <td>3567</td>\n",
       "      <td>NaN</td>\n",
       "    </tr>\n",
       "    <tr>\n",
       "      <td>4</td>\n",
       "      <td>290</td>\n",
       "      <td>zerohedge.com/news/2018-07-19/why-are-thousand...</td>\n",
       "      <td>7/19/2018 4:28:52 PM -04:00</td>\n",
       "      <td>Why Are \"Thousands\" of Teslas Sitting In a Fie...</td>\n",
       "      <td>by Phoenix Capita… - Jul 19, 2018 8:49 am ### ...</td>\n",
       "      <td>1</td>\n",
       "      <td>en</td>\n",
       "      <td>62</td>\n",
       "      <td>3584</td>\n",
       "      <td>NaN</td>\n",
       "    </tr>\n",
       "  </tbody>\n",
       "</table>\n",
       "</div>"
      ],
      "text/plain": [
       "  pubId                                       canonicalUrl  \\\n",
       "0   290  zerohedge.com/news/2018-07-19/i-told-you-so-tr...   \n",
       "1   290  zerohedge.com/news/2018-07-19/trump-invites-pu...   \n",
       "2   290  zerohedge.com/news/2018-07-19/gallup-shows-how...   \n",
       "3   290  zerohedge.com/news/2018-07-19/california-supre...   \n",
       "4   290  zerohedge.com/news/2018-07-19/why-are-thousand...   \n",
       "\n",
       "                    firstScrape  \\\n",
       "0  7/19/2018 10:41:26 AM -04:00   \n",
       "1   7/19/2018 5:03:01 PM -04:00   \n",
       "2   7/19/2018 8:26:52 AM -04:00   \n",
       "3   7/19/2018 8:26:52 AM -04:00   \n",
       "4   7/19/2018 4:28:52 PM -04:00   \n",
       "\n",
       "                                               title  \\\n",
       "0  \"I Told You So\": Trump Hits Out At EU After $5...   \n",
       "1  Trump Invites Putin To  Ahead Of Midterms | Ze...   \n",
       "2  Gallup Shows How Much Americans Really Care Ab...   \n",
       "3  California Supreme Court Blocks Proposal To Sp...   \n",
       "4  Why Are \"Thousands\" of Teslas Sitting In a Fie...   \n",
       "\n",
       "                                                text lang_reliability  \\\n",
       "0  by Phoenix Capita… - Jul 19, 2018 8:49 am ### ...                1   \n",
       "1  by Phoenix Capita… - Jul 19, 2018 8:49 am ### ...                1   \n",
       "2  by Knave Dave - Jul 18, 2018 1:11 pm ### This ...                1   \n",
       "3  by Knave Dave - Jul 18, 2018 1:11 pm ### This ...                1   \n",
       "4  by Phoenix Capita… - Jul 19, 2018 8:49 am ### ...                1   \n",
       "\n",
       "  lang_iso  title_len  text_len label  \n",
       "0       en         79      2134   NaN  \n",
       "1       en         54      4555   NaN  \n",
       "2       en         76      3133   NaN  \n",
       "3       en         85      3567   NaN  \n",
       "4       en         62      3584   NaN  "
      ]
     },
     "execution_count": 12,
     "metadata": {},
     "output_type": "execute_result"
    }
   ],
   "source": [
    "clean_df.head()"
   ]
  },
  {
   "cell_type": "code",
   "execution_count": 13,
   "metadata": {
    "ExecuteTime": {
     "end_time": "2019-11-11T20:32:12.323036Z",
     "start_time": "2019-11-11T20:32:12.210306Z"
    }
   },
   "outputs": [
    {
     "data": {
      "text/plain": [
       "((140, 10), (176524, 10))"
      ]
     },
     "execution_count": 13,
     "metadata": {},
     "output_type": "execute_result"
    }
   ],
   "source": [
    "article_with_label = clean_df[~clean_df.label.isna()]\n",
    "article_without_label = clean_df[clean_df.label.isna()]\n",
    "article_with_label.shape, article_without_label.shape"
   ]
  },
  {
   "cell_type": "markdown",
   "metadata": {
    "ExecuteTime": {
     "end_time": "2019-10-31T15:43:07.917593Z",
     "start_time": "2019-10-31T15:43:07.895674Z"
    }
   },
   "source": [
    "Sample and include all the labeled article"
   ]
  },
  {
   "cell_type": "code",
   "execution_count": 14,
   "metadata": {
    "ExecuteTime": {
     "end_time": "2019-11-11T20:32:18.959785Z",
     "start_time": "2019-11-11T20:32:12.324996Z"
    }
   },
   "outputs": [
    {
     "data": {
      "text/plain": [
       "40.849945887126644"
      ]
     },
     "execution_count": 14,
     "metadata": {},
     "output_type": "execute_result"
    }
   ],
   "source": [
    "sample_df = pd.concat([article_with_label, article_without_label.sample(10000)])\n",
    "sample_emb = emb[sample_df.index]\n",
    "np.mean(euclidean_distances(sample_emb))"
   ]
  },
  {
   "cell_type": "code",
   "execution_count": 46,
   "metadata": {
    "ExecuteTime": {
     "end_time": "2019-11-12T00:21:55.511649Z",
     "start_time": "2019-11-12T00:21:49.012953Z"
    }
   },
   "outputs": [
    {
     "data": {
      "text/plain": [
       "8.0"
      ]
     },
     "execution_count": 46,
     "metadata": {},
     "output_type": "execute_result"
    }
   ],
   "source": [
    "pct = np.percentile(euclidean_distances(sample_emb), 3); pct\n",
    "nn = NearestNeighbors(radius=pct)\n",
    "nn.fit(sample_emb)\n",
    "admat = nn.radius_neighbors_graph(); admat"
   ]
  },
  {
   "cell_type": "code",
   "execution_count": 47,
   "metadata": {
    "ExecuteTime": {
     "end_time": "2019-11-12T00:22:07.465957Z",
     "start_time": "2019-11-12T00:22:01.596642Z"
    }
   },
   "outputs": [
    {
     "data": {
      "text/plain": [
       "<10140x10140 sparse matrix of type '<class 'numpy.float64'>'\n",
       "\twith 3113114 stored elements in Compressed Sparse Row format>"
      ]
     },
     "execution_count": 47,
     "metadata": {},
     "output_type": "execute_result"
    }
   ],
   "source": []
  },
  {
   "cell_type": "code",
   "execution_count": 48,
   "metadata": {
    "ExecuteTime": {
     "end_time": "2019-11-12T00:23:23.525856Z",
     "start_time": "2019-11-12T00:22:14.766497Z"
    }
   },
   "outputs": [
    {
     "data": {
      "image/png": "[encoded data removed]",
      "text/plain": [
       "<Figure size 432x288 with 1 Axes>"
      ]
     },
     "metadata": {
      "needs_background": "light"
     },
     "output_type": "display_data"
    }
   ],
   "source": [
    "G = nx.from_scipy_sparse_matrix(admat)\n",
    "\n",
    "partitions = []\n",
    "resolutions = [1] #, .99, .999, .9995, .9999]\n",
    "for resolution in resolutions:\n",
    "    partition = community.best_partition(G, resolution=resolution)\n",
    "    partitions.append(partition)\n",
    "    num_cluster = max([v for k,v in partition.items()]) + 1\n",
    "    clusters = defaultdict(list)\n",
    "    for k, v in partition.items():\n",
    "        clusters[v].append(k)\n",
    "\n",
    "    cluster_sizes = []\n",
    "    for i, cluster in clusters.items():\n",
    "        cluster_sizes.append(len(cluster))\n",
    "    plt.bar(list(range(len(cluster_sizes))), cluster_sizes)\n",
    "    plt.title(f'Resolution = {resolution}, Num. Cluster = {num_cluster}')\n",
    "    plt.show()"
   ]
  },
  {
   "cell_type": "code",
   "execution_count": 49,
   "metadata": {
    "ExecuteTime": {
     "end_time": "2019-11-12T00:23:23.535014Z",
     "start_time": "2019-11-12T00:23:23.527847Z"
    }
   },
   "outputs": [
    {
     "data": {
      "text/plain": [
       "(2, 1164, 1.0)"
      ]
     },
     "execution_count": 49,
     "metadata": {},
     "output_type": "execute_result"
    }
   ],
   "source": [
    "np.argmax(cluster_sizes), np.max(cluster_sizes), np.median(cluster_sizes)"
   ]
  },
  {
   "cell_type": "code",
   "execution_count": 50,
   "metadata": {
    "ExecuteTime": {
     "end_time": "2019-11-12T00:23:23.551923Z",
     "start_time": "2019-11-12T00:23:23.536962Z"
    }
   },
   "outputs": [],
   "source": [
    "def plot_cluster_sizes(cluster):\n",
    "    cluster_sizes = []\n",
    "    for i, c in cluster.items():\n",
    "        cluster_sizes.append(len(c))\n",
    "    plt.title(f'Num cluster = {len(cluster.keys())}')\n",
    "    plt.hist(cluster_sizes)\n",
    "    plt.show()\n",
    "    \n",
    "def prune_cluster(cluster: dict, threshold) -> dict:\n",
    "    pc = {}\n",
    "    for key, value in clusters.items():\n",
    "        if len(value) > threshold:\n",
    "            pc[key] = value\n",
    "    return pc"
   ]
  },
  {
   "cell_type": "code",
   "execution_count": 51,
   "metadata": {
    "ExecuteTime": {
     "end_time": "2019-11-12T00:23:23.564887Z",
     "start_time": "2019-11-12T00:23:23.556909Z"
    }
   },
   "outputs": [],
   "source": [
    "pc = prune_cluster(cluster, 5)"
   ]
  },
  {
   "cell_type": "code",
   "execution_count": 52,
   "metadata": {
    "ExecuteTime": {
     "end_time": "2019-11-12T00:23:23.716513Z",
     "start_time": "2019-11-12T00:23:23.568877Z"
    }
   },
   "outputs": [
    {
     "data": {
      "text/plain": [
       "8"
      ]
     },
     "execution_count": 52,
     "metadata": {},
     "output_type": "execute_result"
    }
   ],
   "source": [
    "article_cluster = list(map(lambda d: sample_df.iloc[d[1]], pc.items()))\n",
    "len(article_cluster)"
   ]
  },
  {
   "cell_type": "code",
   "execution_count": 53,
   "metadata": {
    "ExecuteTime": {
     "end_time": "2019-11-12T00:23:23.725500Z",
     "start_time": "2019-11-12T00:23:23.718524Z"
    }
   },
   "outputs": [
    {
     "data": {
      "text/plain": [
       "1164"
      ]
     },
     "execution_count": 53,
     "metadata": {},
     "output_type": "execute_result"
    }
   ],
   "source": [
    "len(article_cluster[0].title.tolist())"
   ]
  },
  {
   "cell_type": "code",
   "execution_count": 54,
   "metadata": {
    "ExecuteTime": {
     "end_time": "2019-11-12T00:23:23.733437Z",
     "start_time": "2019-11-12T00:23:23.727454Z"
    }
   },
   "outputs": [
    {
     "data": {
      "text/plain": [
       "dict_keys([2, 5, 46, 56, 172, 174, 203, 481])"
      ]
     },
     "execution_count": 54,
     "metadata": {},
     "output_type": "execute_result"
    }
   ],
   "source": [
    "pc.keys()"
   ]
  },
  {
   "cell_type": "code",
   "execution_count": 55,
   "metadata": {
    "ExecuteTime": {
     "end_time": "2019-11-12T00:23:23.748399Z",
     "start_time": "2019-11-12T00:23:23.737427Z"
    },
    "scrolled": false
   },
   "outputs": [
    {
     "name": "stdout",
     "output_type": "stream",
     "text": [
      "-------------------------------------------------- title --------------------------------------------------\n",
      "Some Leilani Estates residents may get rental assistance\n",
      "18:37 Central Park - 20\n",
      "Philip Davies is third MP to reveal letter of no confidence in Theresa May | News | The Times\n",
      "20/07/2018\n",
      "Brimfield bridge complete, U.S. 6 open to traffic\n",
      "‘Brady Bunch’ house is for sale in North Hollywood CA |  Sun News\n",
      "-------------------------------------------------- text --------------------------------------------------\n",
      "Some Leilani Estates residents may get rental assistance ### Star-Advertiser staff ### Posted on Jul\n",
      "18:37 Central Park ### 1st £125, Others £40  Race Total £325 ### 1 ### T: A M P Collett ### Droopys \n",
      "By browsing this site you are agreeing to this. For more information see our Privacy and Cookie poli\n",
      "BBC Radio 4 ### This programme will be available shortly after broadcast ### 20/07/2018 ###  ### The\n",
      "(46755) ### Today ### Scattered thunderstorms this morning, then strong thunderstorms likely during \n",
      "— The Best Trip Ever (@TheBestTripEver) July 19, 2018 ### It is listed at $1.885 million. The house \n"
     ]
    }
   ],
   "source": [
    "n = len(pc.keys())\n",
    "sample_cluster = np.random.randint(n)\n",
    "print('-'*50, 'title', '-'*50)\n",
    "print('\\n'.join(article_cluster[sample_cluster].title.tolist()[:10]))\n",
    "print('-'*50, 'text', '-'*50)\n",
    "print('\\n'.join(list(map(lambda x: x[:100], article_cluster[sample_cluster].text.tolist()[:10]))))"
   ]
  },
  {
   "cell_type": "markdown",
   "metadata": {
    "ExecuteTime": {
     "end_time": "2019-10-28T03:45:42.636863Z",
     "start_time": "2019-10-28T03:45:42.628884Z"
    }
   },
   "source": [
    "## Top clusters"
   ]
  },
  {
   "cell_type": "code",
   "execution_count": 56,
   "metadata": {
    "ExecuteTime": {
     "end_time": "2019-11-12T00:23:23.924961Z",
     "start_time": "2019-11-12T00:23:23.751391Z"
    }
   },
   "outputs": [
    {
     "data": {
      "image/png": "[encoded data removed]",
      "text/plain": [
       "<Figure size 432x288 with 1 Axes>"
      ]
     },
     "metadata": {
      "needs_background": "light"
     },
     "output_type": "display_data"
    }
   ],
   "source": [
    "cluster_sizes = np.array(list(map(len, article_cluster)))\n",
    "plt.hist(cluster_sizes);"
   ]
  },
  {
   "cell_type": "code",
   "execution_count": 57,
   "metadata": {
    "ExecuteTime": {
     "end_time": "2019-11-12T00:23:23.935896Z",
     "start_time": "2019-11-12T00:23:23.927923Z"
    }
   },
   "outputs": [
    {
     "data": {
      "text/plain": [
       "array([1164,  880,   22,   10,    9,    6,    6,    6])"
      ]
     },
     "execution_count": 57,
     "metadata": {},
     "output_type": "execute_result"
    }
   ],
   "source": [
    "index_by_size = list(reversed(np.argsort(cluster_sizes)))\n",
    "cluster_sizes[index_by_size]"
   ]
  },
  {
   "cell_type": "code",
   "execution_count": 58,
   "metadata": {
    "ExecuteTime": {
     "end_time": "2019-11-12T00:23:23.952853Z",
     "start_time": "2019-11-12T00:23:23.938890Z"
    }
   },
   "outputs": [
    {
     "data": {
      "text/html": [
       "<div>\n",
       "<style scoped>\n",
       "    .dataframe tbody tr th:only-of-type {\n",
       "        vertical-align: middle;\n",
       "    }\n",
       "\n",
       "    .dataframe tbody tr th {\n",
       "        vertical-align: top;\n",
       "    }\n",
       "\n",
       "    .dataframe thead th {\n",
       "        text-align: right;\n",
       "    }\n",
       "</style>\n",
       "<table border=\"1\" class=\"dataframe\">\n",
       "  <thead>\n",
       "    <tr style=\"text-align: right;\">\n",
       "      <th></th>\n",
       "      <th>pubId</th>\n",
       "      <th>canonicalUrl</th>\n",
       "      <th>firstScrape</th>\n",
       "      <th>title</th>\n",
       "      <th>text</th>\n",
       "      <th>lang_reliability</th>\n",
       "      <th>lang_iso</th>\n",
       "      <th>title_len</th>\n",
       "      <th>text_len</th>\n",
       "      <th>label</th>\n",
       "    </tr>\n",
       "  </thead>\n",
       "  <tbody>\n",
       "    <tr>\n",
       "      <td>10801</td>\n",
       "      <td>33</td>\n",
       "      <td>washingtonpost.com/news/posteverything/wp/2018...</td>\n",
       "      <td>7/19/2018 6:27:03 AM -04:00</td>\n",
       "      <td>Ukraine’s not a country, Putin told Bush. What...</td>\n",
       "      <td>PostEverything Perspective ### Perspective Int...</td>\n",
       "      <td>1</td>\n",
       "      <td>en</td>\n",
       "      <td>79</td>\n",
       "      <td>8487</td>\n",
       "      <td>helsinki</td>\n",
       "    </tr>\n",
       "    <tr>\n",
       "      <td>17083</td>\n",
       "      <td>34</td>\n",
       "      <td>bbc.co.uk/news/world-asia-44876108</td>\n",
       "      <td>7/19/2018 6:00:43 AM -04:00</td>\n",
       "      <td>Thai cave rescue: What we learned as boys tell...</td>\n",
       "      <td>Thai cave rescue: What we learned as boys tell...</td>\n",
       "      <td>1</td>\n",
       "      <td>en</td>\n",
       "      <td>52</td>\n",
       "      <td>6833</td>\n",
       "      <td>cave_rescue</td>\n",
       "    </tr>\n",
       "    <tr>\n",
       "      <td>37936</td>\n",
       "      <td>244</td>\n",
       "      <td>centurylink.net/news/read/category/news/articl...</td>\n",
       "      <td>7/20/2018 1:01:03 AM -04:00</td>\n",
       "      <td>Trump-Putin II: Planning fall event in afterma...</td>\n",
       "      <td>powered by Ask ### / ### In this July 16, 2019...</td>\n",
       "      <td>1</td>\n",
       "      <td>en</td>\n",
       "      <td>81</td>\n",
       "      <td>9706</td>\n",
       "      <td>helsinki</td>\n",
       "    </tr>\n",
       "    <tr>\n",
       "      <td>38402</td>\n",
       "      <td>127</td>\n",
       "      <td>buzzfeed.com/claudiakoerner/people-are-reporte...</td>\n",
       "      <td>7/19/2018 10:08:07 PM -04:00</td>\n",
       "      <td>Multiple People Are Injured After A Tourist Bo...</td>\n",
       "      <td>Multiple People Are Injured After A Tourist Bo...</td>\n",
       "      <td>1</td>\n",
       "      <td>en</td>\n",
       "      <td>69</td>\n",
       "      <td>506</td>\n",
       "      <td>duckboat</td>\n",
       "    </tr>\n",
       "    <tr>\n",
       "      <td>57189</td>\n",
       "      <td>98</td>\n",
       "      <td>npr.org/2018/07/20/630709585/at-least-8-dead-o...</td>\n",
       "      <td>7/20/2018 12:59:31 AM -04:00</td>\n",
       "      <td>At Least 8 Dead, Others Missing After Tour Boa...</td>\n",
       "      <td>NPR Shop ### At Least 8 Dead, Others Missing A...</td>\n",
       "      <td>1</td>\n",
       "      <td>en</td>\n",
       "      <td>76</td>\n",
       "      <td>2240</td>\n",
       "      <td>duckboat</td>\n",
       "    </tr>\n",
       "  </tbody>\n",
       "</table>\n",
       "</div>"
      ],
      "text/plain": [
       "      pubId                                       canonicalUrl  \\\n",
       "10801    33  washingtonpost.com/news/posteverything/wp/2018...   \n",
       "17083    34                 bbc.co.uk/news/world-asia-44876108   \n",
       "37936   244  centurylink.net/news/read/category/news/articl...   \n",
       "38402   127  buzzfeed.com/claudiakoerner/people-are-reporte...   \n",
       "57189    98  npr.org/2018/07/20/630709585/at-least-8-dead-o...   \n",
       "\n",
       "                        firstScrape  \\\n",
       "10801   7/19/2018 6:27:03 AM -04:00   \n",
       "17083   7/19/2018 6:00:43 AM -04:00   \n",
       "37936   7/20/2018 1:01:03 AM -04:00   \n",
       "38402  7/19/2018 10:08:07 PM -04:00   \n",
       "57189  7/20/2018 12:59:31 AM -04:00   \n",
       "\n",
       "                                                   title  \\\n",
       "10801  Ukraine’s not a country, Putin told Bush. What...   \n",
       "17083  Thai cave rescue: What we learned as boys tell...   \n",
       "37936  Trump-Putin II: Planning fall event in afterma...   \n",
       "38402  Multiple People Are Injured After A Tourist Bo...   \n",
       "57189  At Least 8 Dead, Others Missing After Tour Boa...   \n",
       "\n",
       "                                                    text lang_reliability  \\\n",
       "10801  PostEverything Perspective ### Perspective Int...                1   \n",
       "17083  Thai cave rescue: What we learned as boys tell...                1   \n",
       "37936  powered by Ask ### / ### In this July 16, 2019...                1   \n",
       "38402  Multiple People Are Injured After A Tourist Bo...                1   \n",
       "57189  NPR Shop ### At Least 8 Dead, Others Missing A...                1   \n",
       "\n",
       "      lang_iso  title_len  text_len        label  \n",
       "10801       en         79      8487     helsinki  \n",
       "17083       en         52      6833  cave_rescue  \n",
       "37936       en         81      9706     helsinki  \n",
       "38402       en         69       506     duckboat  \n",
       "57189       en         76      2240     duckboat  "
      ]
     },
     "execution_count": 58,
     "metadata": {},
     "output_type": "execute_result"
    }
   ],
   "source": [
    "top_cluster = article_cluster[index_by_size[0]]\n",
    "top_cluster.head()"
   ]
  },
  {
   "cell_type": "code",
   "execution_count": 59,
   "metadata": {
    "ExecuteTime": {
     "end_time": "2019-11-12T00:23:23.962825Z",
     "start_time": "2019-11-12T00:23:23.955842Z"
    },
    "scrolled": false
   },
   "outputs": [
    {
     "name": "stdout",
     "output_type": "stream",
     "text": [
      "Ukraine’s not a country, Putin told Bush. What’d he tell Trump about Montenegro\n",
      "Thai cave rescue: What we learned as boys tell of or\n",
      "Trump-Putin II: Planning fall event in aftermath of Helsinki - news - CenturyLink\n",
      "Multiple People Are Injured After A Tourist Boat Capsized In Missouri\n",
      "At Least 8 Dead, Others Missing After Tour Boat Sinks In Missouri Lake : NPR\n",
      "'s 'No' About Russian Interference Requires Yet More Clarification\n",
      "Thailand: Boys Say They Dug Holes, Drank Rainwater While Trapped In Cave\n",
      "timeline: The dangerous race to bring trapped soccer team home\n",
      "GUEST EDITORIAL: Time for  to grow a spine\n",
      "Obama slams Trump-era, warns of 'strongman politics'\n"
     ]
    }
   ],
   "source": [
    "print('\\n'.join(top_cluster.title.tolist()[:10]))"
   ]
  },
  {
   "cell_type": "code",
   "execution_count": 60,
   "metadata": {
    "ExecuteTime": {
     "end_time": "2019-11-12T00:23:23.974793Z",
     "start_time": "2019-11-12T00:23:23.964819Z"
    }
   },
   "outputs": [
    {
     "name": "stderr",
     "output_type": "stream",
     "text": [
      "C:\\Users\\harinsa\\Anaconda3\\lib\\site-packages\\ipykernel_launcher.py:2: SettingWithCopyWarning: \n",
      "A value is trying to be set on a copy of a slice from a DataFrame.\n",
      "Try using .loc[row_indexer,col_indexer] = value instead\n",
      "\n",
      "See the caveats in the documentation: http://pandas.pydata.org/pandas-docs/stable/user_guide/indexing.html#returning-a-view-versus-a-copy\n",
      "  \n"
     ]
    }
   ],
   "source": [
    "for i, a in enumerate(article_cluster):\n",
    "    a['assignment'] = i"
   ]
  },
  {
   "cell_type": "code",
   "execution_count": 61,
   "metadata": {
    "ExecuteTime": {
     "end_time": "2019-11-12T00:23:24.005711Z",
     "start_time": "2019-11-12T00:23:23.976787Z"
    }
   },
   "outputs": [
    {
     "data": {
      "text/html": [
       "<div>\n",
       "<style scoped>\n",
       "    .dataframe tbody tr th:only-of-type {\n",
       "        vertical-align: middle;\n",
       "    }\n",
       "\n",
       "    .dataframe tbody tr th {\n",
       "        vertical-align: top;\n",
       "    }\n",
       "\n",
       "    .dataframe thead th {\n",
       "        text-align: right;\n",
       "    }\n",
       "</style>\n",
       "<table border=\"1\" class=\"dataframe\">\n",
       "  <thead>\n",
       "    <tr style=\"text-align: right;\">\n",
       "      <th></th>\n",
       "      <th></th>\n",
       "      <th>canonicalUrl</th>\n",
       "    </tr>\n",
       "    <tr>\n",
       "      <th>label</th>\n",
       "      <th>assignment</th>\n",
       "      <th></th>\n",
       "    </tr>\n",
       "  </thead>\n",
       "  <tbody>\n",
       "    <tr>\n",
       "      <td rowspan=\"3\" valign=\"top\">cave_rescue</td>\n",
       "      <td>0</td>\n",
       "      <td>3</td>\n",
       "    </tr>\n",
       "    <tr>\n",
       "      <td>1</td>\n",
       "      <td>3</td>\n",
       "    </tr>\n",
       "    <tr>\n",
       "      <td>2</td>\n",
       "      <td>1</td>\n",
       "    </tr>\n",
       "    <tr>\n",
       "      <td rowspan=\"2\" valign=\"top\">duckboat</td>\n",
       "      <td>0</td>\n",
       "      <td>3</td>\n",
       "    </tr>\n",
       "    <tr>\n",
       "      <td>1</td>\n",
       "      <td>2</td>\n",
       "    </tr>\n",
       "  </tbody>\n",
       "</table>\n",
       "</div>"
      ],
      "text/plain": [
       "                        canonicalUrl\n",
       "label       assignment              \n",
       "cave_rescue 0                      3\n",
       "            1                      3\n",
       "            2                      1\n",
       "duckboat    0                      3\n",
       "            1                      2"
      ]
     },
     "execution_count": 61,
     "metadata": {},
     "output_type": "execute_result"
    }
   ],
   "source": [
    "articles = pd.concat(article_cluster)\n",
    "assignments = articles[['label', 'assignment', 'canonicalUrl']].groupby(['label', 'assignment']).count()\n",
    "assignments.head()"
   ]
  },
  {
   "cell_type": "markdown",
   "metadata": {
    "ExecuteTime": {
     "end_time": "2019-11-01T14:30:13.586868Z",
     "start_time": "2019-11-01T14:30:13.554699Z"
    }
   },
   "source": [
    "## Compare with K-Means"
   ]
  },
  {
   "cell_type": "code",
   "execution_count": 62,
   "metadata": {
    "ExecuteTime": {
     "end_time": "2019-11-12T00:23:24.013706Z",
     "start_time": "2019-11-12T00:23:24.008702Z"
    }
   },
   "outputs": [],
   "source": [
    "from sklearn.cluster import KMeans"
   ]
  },
  {
   "cell_type": "code",
   "execution_count": 63,
   "metadata": {
    "ExecuteTime": {
     "end_time": "2019-11-12T00:23:24.022664Z",
     "start_time": "2019-11-12T00:23:24.016679Z"
    }
   },
   "outputs": [
    {
     "data": {
      "text/plain": [
       "array([1164,  880,   10,    6,    9,    6,    6,   22])"
      ]
     },
     "execution_count": 63,
     "metadata": {},
     "output_type": "execute_result"
    }
   ],
   "source": [
    "cluster_sizes"
   ]
  },
  {
   "cell_type": "code",
   "execution_count": 64,
   "metadata": {
    "ExecuteTime": {
     "end_time": "2019-11-12T00:23:24.119405Z",
     "start_time": "2019-11-12T00:23:24.024659Z"
    }
   },
   "outputs": [],
   "source": [
    "articles_emb = emb[articles.index]"
   ]
  },
  {
   "cell_type": "code",
   "execution_count": 65,
   "metadata": {
    "ExecuteTime": {
     "end_time": "2019-11-12T00:23:30.112097Z",
     "start_time": "2019-11-12T00:23:24.122402Z"
    }
   },
   "outputs": [
    {
     "data": {
      "text/plain": [
       "array([2, 2, 2, ..., 5, 5, 5])"
      ]
     },
     "execution_count": 65,
     "metadata": {},
     "output_type": "execute_result"
    }
   ],
   "source": [
    "k = KMeans(n_clusters=len(cluster_sizes), n_jobs=-1)\n",
    "k_predictions = k.fit_predict(articles_emb); k_predictions"
   ]
  },
  {
   "cell_type": "code",
   "execution_count": 66,
   "metadata": {
    "ExecuteTime": {
     "end_time": "2019-11-12T00:23:30.119054Z",
     "start_time": "2019-11-12T00:23:30.114067Z"
    }
   },
   "outputs": [],
   "source": [
    "articles['k_assignment'] = k_predictions"
   ]
  },
  {
   "cell_type": "code",
   "execution_count": 67,
   "metadata": {
    "ExecuteTime": {
     "end_time": "2019-11-12T00:23:30.207843Z",
     "start_time": "2019-11-12T00:23:30.122046Z"
    },
    "scrolled": false
   },
   "outputs": [
    {
     "name": "stdout",
     "output_type": "stream",
     "text": [
      "      \t community\t k_mean\n",
      "helsinki\t0.450\t0.700\n",
      "cave_rescue\t0.429\t1.000\n",
      "duckboat\t0.600\t1.000\n",
      "--------------------------------------------------\n",
      "mean\t\t0.493\t0.900\n"
     ]
    }
   ],
   "source": [
    "com_scores = []\n",
    "k_scores = []\n",
    "\n",
    "print('      \\t', 'community\\t', 'k_mean')\n",
    "for label in articles.label.unique():\n",
    "    if not isinstance(label, str): continue\n",
    "    a_cluster = articles[articles.label == label][['assignment', 'k_assignment']]\n",
    "    max_cm_cluster = a_cluster.groupby('assignment').count().sort_values('k_assignment', ascending=False).index[0]\n",
    "    max_km_cluster = a_cluster.groupby('k_assignment').count().sort_values('assignment', ascending=False).index[0]\n",
    "    community_score = a_cluster[a_cluster.assignment == max_cm_cluster].shape[0] / a_cluster.shape[0]\n",
    "    k_mean_score = a_cluster[a_cluster.k_assignment == max_km_cluster].shape[0] / a_cluster.shape[0]\n",
    "    print(f'{label}\\t{community_score:.3f}\\t{k_mean_score:.3f}')\n",
    "    com_scores.append(community_score)\n",
    "    k_scores.append(k_mean_score)\n",
    "print('-'*50)\n",
    "print(f'mean\\t\\t{np.mean(com_scores):.3f}\\t{np.mean(k_scores):.3f}')"
   ]
  },
  {
   "cell_type": "code",
   "execution_count": 68,
   "metadata": {
    "ExecuteTime": {
     "end_time": "2019-11-12T00:23:30.213802Z",
     "start_time": "2019-11-12T00:23:30.208813Z"
    }
   },
   "outputs": [],
   "source": [
    "from sklearn.cluster import DBSCAN\n",
    "import numpy as np"
   ]
  },
  {
   "cell_type": "code",
   "execution_count": 69,
   "metadata": {
    "ExecuteTime": {
     "end_time": "2019-11-12T00:23:35.884685Z",
     "start_time": "2019-11-12T00:23:30.215821Z"
    }
   },
   "outputs": [],
   "source": [
    "clustering = DBSCAN(eps=10, min_samples=5).fit(sample_emb)"
   ]
  },
  {
   "cell_type": "code",
   "execution_count": 70,
   "metadata": {
    "ExecuteTime": {
     "end_time": "2019-11-12T00:23:35.905607Z",
     "start_time": "2019-11-12T00:23:35.888652Z"
    }
   },
   "outputs": [],
   "source": [
    "y_dbscan = pd.DataFrame({ 'y_dbscan': clustering.labels_ }, index=sample_df.index)\n",
    "y_dbscan = y_dbscan.loc[articles.index]\n",
    "\n",
    "\n",
    "# articles = articles.drop(['y_dbscan'], axis=1)\n",
    "articles = articles.join(y_dbscan)"
   ]
  },
  {
   "cell_type": "code",
   "execution_count": 71,
   "metadata": {
    "ExecuteTime": {
     "end_time": "2019-11-12T00:23:35.957485Z",
     "start_time": "2019-11-12T00:23:35.910591Z"
    }
   },
   "outputs": [
    {
     "name": "stdout",
     "output_type": "stream",
     "text": [
      "2103\n",
      "2103\n",
      "2103\n",
      "2103\n",
      "2103\n",
      "2103\n",
      "2103\n",
      "2103\n",
      "2103\n"
     ]
    }
   ],
   "source": [
    "from sklearn.metrics import precision_recall_fscore_support\n",
    "\n",
    "def get_largest_cluster(y_pred):\n",
    "    print(len(y_pred))\n",
    "    cluster_size = {}\n",
    "    cluster_labels = set(y_pred)\n",
    "    max_cluster_label = -1\n",
    "    max_cluster_size = -1\n",
    "    for cluster_label in cluster_labels:\n",
    "        count = np.sum(y_pred == cluster_label)\n",
    "        if count > max_cluster_size:\n",
    "            max_cluster_label = cluster_label\n",
    "            max_cluster_size = count\n",
    "    return max_cluster_label, max_cluster_size\n",
    "\n",
    "def max_cluster_acc(y_true, y_pred, name=None):\n",
    "    labels = set(y_true)\n",
    "    result = []\n",
    "    for label in labels:\n",
    "        if not isinstance(label, str): continue # remove NaN\n",
    "        label_y_true = (y_true == label).astype(int)\n",
    "        \n",
    "        # get cluster with the largest population of label\n",
    "        max_cluster_label, max_cluster_size = get_largest_cluster(y_pred.iloc[label_y_true])\n",
    "        label_y_pred = (y_pred == max_cluster_label).astype(int)\n",
    "        precision, recall, f_score, support = precision_recall_fscore_support(\n",
    "            label_y_true, label_y_pred, average=None\n",
    "        )\n",
    "        \n",
    "        scores = {\n",
    "            'label': label,\n",
    "            'precision': precision[1],\n",
    "            'recall': recall[1],\n",
    "            'f_score': f_score[1]\n",
    "        }\n",
    "        if name: scores['name'] = name\n",
    "        result.append(scores)\n",
    "        \n",
    "    return result\n",
    "        \n",
    "\n",
    "results = max_cluster_acc(articles.label, articles.assignment, 'cd') \\\n",
    "    +  max_cluster_acc(articles.label, articles.k_assignment, 'kmean') \\\n",
    "    +  max_cluster_acc(articles.label, articles.y_dbscan, 'dbscan')\n",
    "result_df = pd.DataFrame(results)"
   ]
  },
  {
   "cell_type": "code",
   "execution_count": 72,
   "metadata": {
    "ExecuteTime": {
     "end_time": "2019-11-12T00:23:35.986388Z",
     "start_time": "2019-11-12T00:23:35.959466Z"
    }
   },
   "outputs": [
    {
     "name": "stdout",
     "output_type": "stream",
     "text": [
      "precision\n",
      "--------------------------------------------------\n",
      "name               cd    dbscan     kmean\n",
      "label                                    \n",
      "cave_rescue  0.002577  0.003398  0.003778\n",
      "duckboat     0.002577  0.002427  0.002698\n",
      "helsinki     0.007732  0.009223  0.007555\n",
      "mean         0.004296  0.005016  0.004677\n",
      "\n",
      "\n",
      "recall\n",
      "--------------------------------------------------\n",
      "name               cd    dbscan  kmean\n",
      "label                                 \n",
      "cave_rescue  0.428571  1.000000    1.0\n",
      "duckboat     0.600000  1.000000    1.0\n",
      "helsinki     0.450000  0.950000    0.7\n",
      "mean         0.492857  0.983333    0.9\n",
      "\n",
      "\n",
      "f_score\n",
      "--------------------------------------------------\n",
      "name               cd    dbscan     kmean\n",
      "label                                    \n",
      "cave_rescue  0.005124  0.006773  0.007527\n",
      "duckboat     0.005133  0.004843  0.005382\n",
      "helsinki     0.015203  0.018269  0.014949\n",
      "mean         0.008486  0.009962  0.009286\n",
      "\n",
      "\n"
     ]
    }
   ],
   "source": [
    "metrics = ['precision', 'recall', 'f_score']\n",
    "for metric in metrics:\n",
    "    print(metric)\n",
    "    print('-'*50)\n",
    "    precision_df = result_df.pivot('label', 'name', metric)\n",
    "    mean_series = precision_df.mean()\n",
    "    mean_series.name  = 'mean'\n",
    "    precision_df = precision_df.append(mean_series)\n",
    "    print(precision_df)\n",
    "    print('\\n')"
   ]
  },
  {
   "cell_type": "code",
   "execution_count": 73,
   "metadata": {
    "ExecuteTime": {
     "end_time": "2019-11-12T00:23:36.000352Z",
     "start_time": "2019-11-12T00:23:35.988384Z"
    }
   },
   "outputs": [
    {
     "data": {
      "text/html": [
       "<div>\n",
       "<style scoped>\n",
       "    .dataframe tbody tr th:only-of-type {\n",
       "        vertical-align: middle;\n",
       "    }\n",
       "\n",
       "    .dataframe tbody tr th {\n",
       "        vertical-align: top;\n",
       "    }\n",
       "\n",
       "    .dataframe thead th {\n",
       "        text-align: right;\n",
       "    }\n",
       "</style>\n",
       "<table border=\"1\" class=\"dataframe\">\n",
       "  <thead>\n",
       "    <tr style=\"text-align: right;\">\n",
       "      <th></th>\n",
       "      <th>precision</th>\n",
       "      <th>recall</th>\n",
       "      <th>f_score</th>\n",
       "    </tr>\n",
       "    <tr>\n",
       "      <th>name</th>\n",
       "      <th></th>\n",
       "      <th></th>\n",
       "      <th></th>\n",
       "    </tr>\n",
       "  </thead>\n",
       "  <tbody>\n",
       "    <tr>\n",
       "      <td>cd</td>\n",
       "      <td>0.004296</td>\n",
       "      <td>0.492857</td>\n",
       "      <td>0.008486</td>\n",
       "    </tr>\n",
       "    <tr>\n",
       "      <td>dbscan</td>\n",
       "      <td>0.005016</td>\n",
       "      <td>0.983333</td>\n",
       "      <td>0.009962</td>\n",
       "    </tr>\n",
       "    <tr>\n",
       "      <td>kmean</td>\n",
       "      <td>0.004677</td>\n",
       "      <td>0.900000</td>\n",
       "      <td>0.009286</td>\n",
       "    </tr>\n",
       "  </tbody>\n",
       "</table>\n",
       "</div>"
      ],
      "text/plain": [
       "        precision    recall   f_score\n",
       "name                                 \n",
       "cd       0.004296  0.492857  0.008486\n",
       "dbscan   0.005016  0.983333  0.009962\n",
       "kmean    0.004677  0.900000  0.009286"
      ]
     },
     "execution_count": 73,
     "metadata": {},
     "output_type": "execute_result"
    }
   ],
   "source": [
    "result_df.groupby('name').mean()"
   ]
  },
  {
   "cell_type": "code",
   "execution_count": null,
   "metadata": {},
   "outputs": [],
   "source": []
  },
  {
   "cell_type": "code",
   "execution_count": null,
   "metadata": {},
   "outputs": [],
   "source": []
  }
 ],
 "metadata": {
  "kernelspec": {
   "display_name": "Python 3",
   "language": "python",
   "name": "python3"
  },
  "language_info": {
   "codemirror_mode": {
    "name": "ipython",
    "version": 3
   },
   "file_extension": ".py",
   "mimetype": "text/x-python",
   "name": "python",
   "nbconvert_exporter": "python",
   "pygments_lexer": "ipython3",
   "version": "3.7.4"
  }
 },
 "nbformat": 4,
 "nbformat_minor": 2
}
