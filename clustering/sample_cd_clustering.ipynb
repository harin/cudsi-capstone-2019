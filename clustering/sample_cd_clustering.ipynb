{
 "cells": [
  {
   "cell_type": "markdown",
   "metadata": {
    "ExecuteTime": {
     "end_time": "2019-10-25T15:04:11.022160Z",
     "start_time": "2019-10-25T15:04:09.606319Z"
    }
   },
   "source": [
    "# Sample file to generate partition on an articles using Community Detection\n",
    "* Input - article text\n",
    "* Output - partition assignment\n",
    "* author: harin"
   ]
  },
  {
   "cell_type": "code",
   "execution_count": null,
   "metadata": {
    "ExecuteTime": {
     "end_time": "2019-10-26T23:52:10.966706Z",
     "start_time": "2019-10-26T23:52:09.552441Z"
    }
   },
   "outputs": [],
   "source": [
    "import pandas as pd\n",
    "import numpy as np\n",
    "import spacy"
   ]
  },
  {
   "cell_type": "code",
   "execution_count": 2,
   "metadata": {
    "ExecuteTime": {
     "end_time": "2019-10-26T23:52:10.972649Z",
     "start_time": "2019-10-26T23:52:10.968657Z"
    }
   },
   "outputs": [],
   "source": [
    "file = open('../data/raw/2018_07_19_04_59_08/articles.txt', 'r', encoding = 'utf8')"
   ]
  },
  {
   "cell_type": "code",
   "execution_count": 8,
   "metadata": {
    "ExecuteTime": {
     "end_time": "2019-10-27T00:55:04.410762Z",
     "start_time": "2019-10-27T00:55:03.263836Z"
    }
   },
   "outputs": [],
   "source": [
    "pubId, canonicalUrl,firstScrape,title,text,lang_reliability = [],[],[],[],[],[]\n",
    "for article in articles_dt:    \n",
    "    row = article.split('\\t')\n",
    "    pubId.append(row[0])\n",
    "    canonicalUrl.append(row[4])\n",
    "    firstScrape.append(row[5])\n",
    "    lang_reliability.append(row[7])\n",
    "    title.append(row[8])\n",
    "    text.append(row[9])\n",
    "    \n",
    "articles_df = pd.DataFrame()\n",
    "articles_df['pubId'] = pubId\n",
    "articles_df['canonicalUrl'] = canonicalUrl\n",
    "articles_df['firstScrape'] = firstScrape\n",
    "articles_df['title'] = title\n",
    "articles_df['text'] = text"
   ]
  },
  {
   "cell_type": "code",
   "execution_count": 9,
   "metadata": {
    "ExecuteTime": {
     "end_time": "2019-10-27T00:55:06.924048Z",
     "start_time": "2019-10-27T00:55:06.917067Z"
    }
   },
   "outputs": [
    {
     "data": {
      "text/plain": [
       "(0, 5)"
      ]
     },
     "execution_count": 9,
     "metadata": {},
     "output_type": "execute_result"
    }
   ],
   "source": [
    "articles_df.shape"
   ]
  },
  {
   "cell_type": "code",
   "execution_count": 6,
   "metadata": {
    "ExecuteTime": {
     "end_time": "2019-10-26T23:52:24.815658Z",
     "start_time": "2019-10-26T23:52:24.664060Z"
    }
   },
   "outputs": [
    {
     "data": {
      "text/plain": [
       "(213605,)"
      ]
     },
     "execution_count": 6,
     "metadata": {},
     "output_type": "execute_result"
    }
   ],
   "source": [
    "articles_df.canonicalUrl.unique().shape"
   ]
  },
  {
   "cell_type": "code",
   "execution_count": 5,
   "metadata": {
    "ExecuteTime": {
     "end_time": "2019-10-26T17:50:57.340521Z",
     "start_time": "2019-10-26T17:36:33.710780Z"
    }
   },
   "outputs": [],
   "source": [
    "import spacy\n",
    "from sklearn.metrics.pairwise import cosine_similarity\n",
    "\n",
    "SAMPLE_SIZE=10000\n",
    "\n",
    "nlp = spacy.load(\"en_core_web_sm\")\n",
    "sample_df = articles_df.sample(n=SAMPLE_SIZE)\n",
    "docs = list(nlp.pipe(sample_df.text))\n",
    "embs = [doc.vector for doc in docs]\n",
    "\n",
    "embs_df = pd.DataFrame(embs)\n",
    "embs_df = embs_df.dropna()\n",
    "cs = cosine_similarity(embs_df)"
   ]
  },
  {
   "cell_type": "markdown",
   "metadata": {},
   "source": [
    "# Construct graph"
   ]
  },
  {
   "cell_type": "code",
   "execution_count": 6,
   "metadata": {
    "ExecuteTime": {
     "end_time": "2019-10-26T17:50:57.380611Z",
     "start_time": "2019-10-26T17:50:57.359467Z"
    }
   },
   "outputs": [
    {
     "data": {
      "text/plain": [
       "array([[1.        , 0.91510321, 0.69478763, ..., 0.95567983, 0.88125627,\n",
       "        0.75622025],\n",
       "       [0.91510321, 1.        , 0.86309751, ..., 0.91872582, 0.81169764,\n",
       "        0.89070246],\n",
       "       [0.69478763, 0.86309751, 1.        , ..., 0.73390102, 0.60940438,\n",
       "        0.91132334],\n",
       "       ...,\n",
       "       [0.95567983, 0.91872582, 0.73390102, ..., 1.        , 0.90681523,\n",
       "        0.74009412],\n",
       "       [0.88125627, 0.81169764, 0.60940438, ..., 0.90681523, 1.        ,\n",
       "        0.62462789],\n",
       "       [0.75622025, 0.89070246, 0.91132334, ..., 0.74009412, 0.62462789,\n",
       "        1.        ]])"
      ]
     },
     "execution_count": 6,
     "metadata": {},
     "output_type": "execute_result"
    }
   ],
   "source": [
    "cs"
   ]
  },
  {
   "cell_type": "code",
   "execution_count": 7,
   "metadata": {
    "ExecuteTime": {
     "end_time": "2019-10-26T17:50:58.110113Z",
     "start_time": "2019-10-26T17:50:57.384465Z"
    }
   },
   "outputs": [],
   "source": [
    "import networkx as nx\n",
    "import community\n",
    "import matplotlib.pyplot as plt\n",
    "%matplotlib inline"
   ]
  },
  {
   "cell_type": "code",
   "execution_count": 8,
   "metadata": {
    "ExecuteTime": {
     "end_time": "2019-10-26T17:50:58.117863Z",
     "start_time": "2019-10-26T17:50:58.114906Z"
    }
   },
   "outputs": [],
   "source": [
    "G = nx.Graph()"
   ]
  },
  {
   "cell_type": "code",
   "execution_count": 9,
   "metadata": {
    "ExecuteTime": {
     "end_time": "2019-10-26T17:50:58.127075Z",
     "start_time": "2019-10-26T17:50:58.119896Z"
    }
   },
   "outputs": [],
   "source": [
    "threshold = 0.5"
   ]
  },
  {
   "cell_type": "code",
   "execution_count": 11,
   "metadata": {
    "ExecuteTime": {
     "end_time": "2019-10-26T17:54:48.903080Z",
     "start_time": "2019-10-26T17:50:58.135838Z"
    }
   },
   "outputs": [],
   "source": [
    "for i in range(len(cs)):\n",
    "    similarities = cs[i]\n",
    "    for j, sim in enumerate(similarities):\n",
    "        if i == j: continue\n",
    "        if sim > threshold:\n",
    "            G.add_edge(i, j)"
   ]
  },
  {
   "cell_type": "code",
   "execution_count": null,
   "metadata": {
    "ExecuteTime": {
     "start_time": "2019-10-26T17:36:22.939Z"
    }
   },
   "outputs": [],
   "source": [
    "pos = nx.spring_layout(G)\n",
    "nx.draw_networkx_edges(G, pos, alpha=0.5)"
   ]
  },
  {
   "cell_type": "code",
   "execution_count": null,
   "metadata": {
    "ExecuteTime": {
     "start_time": "2019-10-26T17:36:22.943Z"
    }
   },
   "outputs": [],
   "source": [
    "#first compute the best partition\n",
    "partition = community.best_partition(G)\n",
    "\n",
    "#drawing\n",
    "size = float(len(set(partition.values())))\n",
    "pos = nx.spring_layout(G)\n",
    "count = 0.\n",
    "for com in set(partition.values()) :\n",
    "    count = count + 1.\n",
    "    list_nodes = [nodes for nodes in partition.keys()\n",
    "                                if partition[nodes] == com]\n",
    "    nx.draw_networkx_nodes(G, pos, list_nodes, node_size = 20,\n",
    "                                node_color = str(count / size))\n",
    "\n",
    "nx.draw_networkx_edges(G, pos, alpha=0.5)\n",
    "plt.show()"
   ]
  },
  {
   "cell_type": "code",
   "execution_count": null,
   "metadata": {
    "ExecuteTime": {
     "start_time": "2019-10-26T17:36:22.946Z"
    }
   },
   "outputs": [],
   "source": [
    "num_cluster = max([v for k,v in partition.items()]) + 1"
   ]
  },
  {
   "cell_type": "code",
   "execution_count": null,
   "metadata": {
    "ExecuteTime": {
     "start_time": "2019-10-26T17:36:22.949Z"
    }
   },
   "outputs": [],
   "source": [
    "num_cluster"
   ]
  },
  {
   "cell_type": "code",
   "execution_count": null,
   "metadata": {},
   "outputs": [],
   "source": []
  }
 ],
 "metadata": {
  "kernelspec": {
   "display_name": "Python 3",
   "language": "python",
   "name": "python3"
  },
  "language_info": {
   "codemirror_mode": {
    "name": "ipython",
    "version": 3
   },
   "file_extension": ".py",
   "mimetype": "text/x-python",
   "name": "python",
   "nbconvert_exporter": "python",
   "pygments_lexer": "ipython3",
   "version": "3.7.4"
  }
 },
 "nbformat": 4,
 "nbformat_minor": 2
}
