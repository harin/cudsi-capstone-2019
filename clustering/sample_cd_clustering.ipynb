{
 "cells": [
  {
   "cell_type": "markdown",
   "metadata": {
    "ExecuteTime": {
     "end_time": "2019-10-25T15:04:11.022160Z",
     "start_time": "2019-10-25T15:04:09.606319Z"
    }
   },
   "source": [
    "# Sample file to generate partition on an articles using Community Detection\n",
    "* Input - article text\n",
    "* Output - partition assignment\n",
    "* author: harin"
   ]
  },
  {
   "cell_type": "code",
   "execution_count": 2,
   "metadata": {
    "ExecuteTime": {
     "end_time": "2019-10-25T15:04:11.022160Z",
     "start_time": "2019-10-25T15:04:09.606319Z"
    }
   },
   "outputs": [],
   "source": [
    "import pandas as pd\n",
    "import numpy as np\n",
    "import spacy"
   ]
  },
  {
   "cell_type": "code",
   "execution_count": 3,
   "metadata": {
    "ExecuteTime": {
     "end_time": "2019-10-25T15:04:11.028125Z",
     "start_time": "2019-10-25T15:04:11.024135Z"
    }
   },
   "outputs": [],
   "source": [
    "file = open('../data/raw/2018_07_19_04_59_08/articles.txt', 'r', encoding = 'utf8')"
   ]
  },
  {
   "cell_type": "code",
   "execution_count": 5,
   "metadata": {
    "ExecuteTime": {
     "end_time": "2019-10-25T15:04:20.676943Z",
     "start_time": "2019-10-25T15:04:18.965678Z"
    }
   },
   "outputs": [],
   "source": [
    "articles_dt = file.read().split('\\n')[:-1]\n",
    "pubId, canonicalUrl,firstScrape,title,text = [],[],[],[],[]\n",
    "\n",
    "for article in articles_dt:    \n",
    "    row = article.split('\\t')\n",
    "    pubId.append(row[0])\n",
    "    canonicalUrl.append(row[4])\n",
    "    firstScrape.append(row[5])\n",
    "    title.append(row[8])\n",
    "    text.append(row[9])\n",
    "\n",
    "articles_df = pd.DataFrame()\n",
    "articles_df['pubId'] = pubId\n",
    "articles_df['canonicalUrl'] = canonicalUrl\n",
    "articles_df['firstScrape'] = firstScrape\n",
    "articles_df['title'] = title\n",
    "articles_df['text'] = text"
   ]
  },
  {
   "cell_type": "code",
   "execution_count": 6,
   "metadata": {
    "ExecuteTime": {
     "end_time": "2019-10-25T15:04:20.692900Z",
     "start_time": "2019-10-25T15:04:20.678964Z"
    }
   },
   "outputs": [
    {
     "data": {
      "text/plain": [
       "(213605, 5)"
      ]
     },
     "execution_count": 6,
     "metadata": {},
     "output_type": "execute_result"
    }
   ],
   "source": [
    "articles_df.shape"
   ]
  },
  {
   "cell_type": "code",
   "execution_count": 7,
   "metadata": {
    "ExecuteTime": {
     "end_time": "2019-10-25T15:05:56.779538Z",
     "start_time": "2019-10-25T15:04:20.696892Z"
    }
   },
   "outputs": [],
   "source": [
    "import spacy\n",
    "from sklearn.metrics.pairwise import cosine_similarity\n",
    "\n",
    "nlp = spacy.load(\"en_core_web_sm\")\n",
    "sample_df = articles_df.sample(n=1000)\n",
    "docs = list(nlp.pipe(sample_df.text))\n",
    "embs = [doc.vector for doc in docs]\n",
    "\n",
    "embs_df = pd.DataFrame(embs)\n",
    "embs_df = embs_df.dropna()\n",
    "cs = cosine_similarity(embs_df)"
   ]
  },
  {
   "cell_type": "markdown",
   "metadata": {},
   "source": [
    "# Construct graph"
   ]
  },
  {
   "cell_type": "code",
   "execution_count": 8,
   "metadata": {
    "ExecuteTime": {
     "end_time": "2019-10-25T15:05:56.797306Z",
     "start_time": "2019-10-25T15:05:56.786335Z"
    }
   },
   "outputs": [
    {
     "data": {
      "text/plain": [
       "array([[1.        , 0.84133512, 0.83598746, ..., 0.88781348, 0.82373229,\n",
       "        0.64549801],\n",
       "       [0.84133512, 1.        , 0.94511449, ..., 0.89897038, 0.91105358,\n",
       "        0.84300969],\n",
       "       [0.83598746, 0.94511449, 1.        , ..., 0.92706507, 0.92206387,\n",
       "        0.85250264],\n",
       "       ...,\n",
       "       [0.88781348, 0.89897038, 0.92706507, ..., 1.        , 0.87410738,\n",
       "        0.76918637],\n",
       "       [0.82373229, 0.91105358, 0.92206387, ..., 0.87410738, 1.        ,\n",
       "        0.84060022],\n",
       "       [0.64549801, 0.84300969, 0.85250264, ..., 0.76918637, 0.84060022,\n",
       "        1.        ]])"
      ]
     },
     "execution_count": 8,
     "metadata": {},
     "output_type": "execute_result"
    }
   ],
   "source": [
    "cs"
   ]
  },
  {
   "cell_type": "code",
   "execution_count": 9,
   "metadata": {
    "ExecuteTime": {
     "end_time": "2019-10-25T15:05:57.290363Z",
     "start_time": "2019-10-25T15:05:56.803290Z"
    }
   },
   "outputs": [],
   "source": [
    "import networkx as nx\n",
    "import community\n",
    "import matplotlib.pyplot as plt\n",
    "%matplotlib inline"
   ]
  },
  {
   "cell_type": "code",
   "execution_count": 10,
   "metadata": {
    "ExecuteTime": {
     "end_time": "2019-10-25T15:05:57.296145Z",
     "start_time": "2019-10-25T15:05:57.292188Z"
    }
   },
   "outputs": [],
   "source": [
    "G = nx.Graph()"
   ]
  },
  {
   "cell_type": "code",
   "execution_count": 11,
   "metadata": {
    "ExecuteTime": {
     "end_time": "2019-10-25T15:05:57.303127Z",
     "start_time": "2019-10-25T15:05:57.298141Z"
    }
   },
   "outputs": [],
   "source": [
    "threshold = 0.5"
   ]
  },
  {
   "cell_type": "code",
   "execution_count": 12,
   "metadata": {
    "ExecuteTime": {
     "end_time": "2019-10-25T15:05:57.311121Z",
     "start_time": "2019-10-25T15:05:57.305122Z"
    }
   },
   "outputs": [],
   "source": [
    "G.add_edge(1, 2)"
   ]
  },
  {
   "cell_type": "code",
   "execution_count": 13,
   "metadata": {
    "ExecuteTime": {
     "end_time": "2019-10-25T15:05:58.662579Z",
     "start_time": "2019-10-25T15:05:57.313101Z"
    }
   },
   "outputs": [],
   "source": [
    "for i in range(len(cs)):\n",
    "    similarities = cs[i]\n",
    "    for j, sim in enumerate(similarities):\n",
    "        if i == j: continue\n",
    "        if sim > threshold:\n",
    "            G.add_edge(i, j)"
   ]
  },
  {
   "cell_type": "code",
   "execution_count": 14,
   "metadata": {
    "ExecuteTime": {
     "end_time": "2019-10-25T15:06:27.089996Z",
     "start_time": "2019-10-25T15:05:58.664568Z"
    }
   },
   "outputs": [
    {
     "name": "stderr",
     "output_type": "stream",
     "text": [
      "C:\\Users\\harinsa\\Anaconda3\\lib\\site-packages\\networkx\\drawing\\nx_pylab.py:579: MatplotlibDeprecationWarning: \n",
      "The iterable function was deprecated in Matplotlib 3.1 and will be removed in 3.3. Use np.iterable instead.\n",
      "  if not cb.iterable(width):\n"
     ]
    },
    {
     "data": {
      "text/plain": [
       "<matplotlib.collections.LineCollection at 0x22d8fd0da88>"
      ]
     },
     "execution_count": 14,
     "metadata": {},
     "output_type": "execute_result"
    },
    {
     "data": {
      "image/png": "[encoded data removed]",
      "text/plain": [
       "<Figure size 432x288 with 1 Axes>"
      ]
     },
     "metadata": {
      "needs_background": "light"
     },
     "output_type": "display_data"
    }
   ],
   "source": [
    "pos = nx.spring_layout(G)\n",
    "nx.draw_networkx_edges(G, pos, alpha=0.5)"
   ]
  },
  {
   "cell_type": "code",
   "execution_count": 15,
   "metadata": {
    "ExecuteTime": {
     "end_time": "2019-10-25T15:07:03.100585Z",
     "start_time": "2019-10-25T15:06:27.091976Z"
    }
   },
   "outputs": [
    {
     "data": {
      "image/png": "[encoded data removed]",
      "text/plain": [
       "<Figure size 432x288 with 1 Axes>"
      ]
     },
     "metadata": {},
     "output_type": "display_data"
    }
   ],
   "source": [
    "#first compute the best partition\n",
    "partition = community.best_partition(G)\n",
    "\n",
    "#drawing\n",
    "size = float(len(set(partition.values())))\n",
    "pos = nx.spring_layout(G)\n",
    "count = 0.\n",
    "for com in set(partition.values()) :\n",
    "    count = count + 1.\n",
    "    list_nodes = [nodes for nodes in partition.keys()\n",
    "                                if partition[nodes] == com]\n",
    "    nx.draw_networkx_nodes(G, pos, list_nodes, node_size = 20,\n",
    "                                node_color = str(count / size))\n",
    "\n",
    "nx.draw_networkx_edges(G, pos, alpha=0.5)\n",
    "plt.show()"
   ]
  },
  {
   "cell_type": "code",
   "execution_count": 21,
   "metadata": {
    "ExecuteTime": {
     "end_time": "2019-10-25T15:08:52.573571Z",
     "start_time": "2019-10-25T15:08:52.568610Z"
    }
   },
   "outputs": [],
   "source": [
    "num_cluster = max([v for k,v in partition.items()]) + 1"
   ]
  },
  {
   "cell_type": "code",
   "execution_count": 23,
   "metadata": {
    "ExecuteTime": {
     "end_time": "2019-10-25T15:08:57.364206Z",
     "start_time": "2019-10-25T15:08:57.358249Z"
    }
   },
   "outputs": [
    {
     "data": {
      "text/plain": [
       "2"
      ]
     },
     "execution_count": 23,
     "metadata": {},
     "output_type": "execute_result"
    }
   ],
   "source": [
    "num_cluster"
   ]
  },
  {
   "cell_type": "code",
   "execution_count": null,
   "metadata": {},
   "outputs": [],
   "source": []
  }
 ],
 "metadata": {
  "kernelspec": {
   "display_name": "Python 3",
   "language": "python",
   "name": "python3"
  },
  "language_info": {
   "codemirror_mode": {
    "name": "ipython",
    "version": 3
   },
   "file_extension": ".py",
   "mimetype": "text/x-python",
   "name": "python",
   "nbconvert_exporter": "python",
   "pygments_lexer": "ipython3",
   "version": "3.7.4"
  }
 },
 "nbformat": 4,
 "nbformat_minor": 2
}
