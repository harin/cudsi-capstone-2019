{
 "cells": [
  {
   "cell_type": "code",
   "execution_count": 1,
   "metadata": {
    "ExecuteTime": {
     "end_time": "2019-11-15T15:53:29.062915Z",
     "start_time": "2019-11-15T15:53:28.994738Z"
    }
   },
   "outputs": [],
   "source": [
    "%load_ext autoreload\n",
    "%autoreload 2"
   ]
  },
  {
   "cell_type": "code",
   "execution_count": 2,
   "metadata": {
    "ExecuteTime": {
     "end_time": "2019-11-15T15:53:34.039006Z",
     "start_time": "2019-11-15T15:53:29.205122Z"
    }
   },
   "outputs": [],
   "source": [
    "import json\n",
    "import community\n",
    "import numpy as np\n",
    "import pandas as pd\n",
    "import networkx as nx\n",
    "import matplotlib.pyplot as plt\n",
    "import gc\n",
    "\n",
    "from IPython.display import HTML\n",
    "from sklearn.neighbors import NearestNeighbors\n",
    "from sklearn.metrics.pairwise import cosine_similarity, euclidean_distances\n",
    "from sklearn.feature_extraction.text import TfidfVectorizer\n",
    "from sklearn.cluster import KMeans\n",
    "from collections import defaultdict\n",
    "\n",
    "%matplotlib inline"
   ]
  },
  {
   "cell_type": "code",
   "execution_count": 14,
   "metadata": {
    "ExecuteTime": {
     "end_time": "2019-11-15T15:57:52.415683Z",
     "start_time": "2019-11-15T15:57:52.228071Z"
    }
   },
   "outputs": [],
   "source": [
    "from utils import read_article_df, load_label, load_entities, max_cluster_metric, print_result_df, merge_small_clusters"
   ]
  },
  {
   "cell_type": "code",
   "execution_count": null,
   "metadata": {
    "ExecuteTime": {
     "start_time": "2019-11-15T15:54:03.854Z"
    }
   },
   "outputs": [],
   "source": [
    "bert = pd.read_csv('../data/embedding/BERT_EMBEDDING_withindex.csv')"
   ]
  },
  {
   "cell_type": "code",
   "execution_count": 5,
   "metadata": {
    "ExecuteTime": {
     "end_time": "2019-11-15T15:55:24.079884Z",
     "start_time": "2019-11-15T15:55:23.865907Z"
    }
   },
   "outputs": [
    {
     "data": {
      "text/plain": [
       "(208518, 770)"
      ]
     },
     "execution_count": 5,
     "metadata": {},
     "output_type": "execute_result"
    }
   ],
   "source": [
    "bert.shape"
   ]
  },
  {
   "cell_type": "code",
   "execution_count": null,
   "metadata": {
    "ExecuteTime": {
     "end_time": "2019-11-15T15:56:07.060409Z",
     "start_time": "2019-11-15T15:56:06.597767Z"
    }
   },
   "outputs": [],
   "source": [
    "bert = bert.set_index('article_index')"
   ]
  },
  {
   "cell_type": "code",
   "execution_count": 9,
   "metadata": {
    "ExecuteTime": {
     "end_time": "2019-11-15T15:56:14.050089Z",
     "start_time": "2019-11-15T15:56:12.572521Z"
    }
   },
   "outputs": [],
   "source": [
    "bert = bert.drop('Unnamed: 0', axis=1)"
   ]
  },
  {
   "cell_type": "markdown",
   "metadata": {
    "ExecuteTime": {
     "end_time": "2019-11-12T00:30:41.814537Z",
     "start_time": "2019-11-12T00:30:41.811393Z"
    }
   },
   "source": [
    "## Config"
   ]
  },
  {
   "cell_type": "code",
   "execution_count": 10,
   "metadata": {
    "ExecuteTime": {
     "end_time": "2019-11-15T15:56:21.258580Z",
     "start_time": "2019-11-15T15:56:21.049136Z"
    }
   },
   "outputs": [],
   "source": [
    "SAMPLE_SIZE = 10000\n",
    "EDGE_PERCENTILE = 3 # 0 - 100"
   ]
  },
  {
   "cell_type": "markdown",
   "metadata": {
    "ExecuteTime": {
     "end_time": "2019-11-12T00:30:55.782885Z",
     "start_time": "2019-11-12T00:30:44.524499Z"
    }
   },
   "source": [
    "## Prepare Data"
   ]
  },
  {
   "cell_type": "code",
   "execution_count": 11,
   "metadata": {
    "ExecuteTime": {
     "end_time": "2019-11-15T15:56:43.439113Z",
     "start_time": "2019-11-15T15:56:23.134732Z"
    }
   },
   "outputs": [
    {
     "data": {
      "text/plain": [
       "(10140, 10)"
      ]
     },
     "execution_count": 11,
     "metadata": {},
     "output_type": "execute_result"
    }
   ],
   "source": [
    "article_df = read_article_df(open('../data/raw/2018_07_19_04_59_08/articles.txt', encoding='utf-8'))\n",
    "\n",
    "article_df['title'] = article_df.title.apply(lambda s: s.strip())\n",
    "article_df['text'] = article_df.text.apply(lambda s: s.strip())\n",
    "article_df['title_len'] = article_df.title.apply(len)\n",
    "article_df['text_len'] = article_df.text.apply(len)\n",
    "\n",
    "label_df = load_label('../data/raw/labels', 'lower_bound')\n",
    "\n",
    "clean_df = article_df[article_df.title_len > 0]\n",
    "clean_df = clean_df[clean_df.text_len > 100]\n",
    "clean_df = clean_df[clean_df.lang_iso == 'en']\n",
    "clean_df = clean_df.merge(label_df, on='canonicalUrl', how='left')\n",
    "\n",
    "article_with_label = clean_df[~clean_df.label.isna()]\n",
    "article_without_label = clean_df[clean_df.label.isna()]\n",
    "article_with_label.shape, article_without_label.shape\n",
    "\n",
    "sample_df = pd.concat([article_with_label, article_without_label.sample(SAMPLE_SIZE)])\n",
    "sample_df.shape"
   ]
  },
  {
   "cell_type": "code",
   "execution_count": 12,
   "metadata": {
    "ExecuteTime": {
     "end_time": "2019-11-15T15:56:43.776181Z",
     "start_time": "2019-11-15T15:56:43.447799Z"
    }
   },
   "outputs": [
    {
     "data": {
      "text/html": [
       "<div>\n",
       "<style scoped>\n",
       "    .dataframe tbody tr th:only-of-type {\n",
       "        vertical-align: middle;\n",
       "    }\n",
       "\n",
       "    .dataframe tbody tr th {\n",
       "        vertical-align: top;\n",
       "    }\n",
       "\n",
       "    .dataframe thead th {\n",
       "        text-align: right;\n",
       "    }\n",
       "</style>\n",
       "<table border=\"1\" class=\"dataframe\">\n",
       "  <thead>\n",
       "    <tr style=\"text-align: right;\">\n",
       "      <th></th>\n",
       "      <th>pubId</th>\n",
       "      <th>canonicalUrl</th>\n",
       "      <th>firstScrape</th>\n",
       "      <th>title</th>\n",
       "      <th>text</th>\n",
       "      <th>lang_reliability</th>\n",
       "      <th>lang_iso</th>\n",
       "      <th>title_len</th>\n",
       "      <th>text_len</th>\n",
       "      <th>label</th>\n",
       "    </tr>\n",
       "  </thead>\n",
       "  <tbody>\n",
       "    <tr>\n",
       "      <td>62</td>\n",
       "      <td>290</td>\n",
       "      <td>zerohedge.com/news/2018-07-19/fbi-chief-threat...</td>\n",
       "      <td>7/19/2018 8:26:52 AM -04:00</td>\n",
       "      <td>FBI Chief Threatens To Quit If Trump Invites R...</td>\n",
       "      <td>by Knave Dave - Jul 18, 2018 1:11 pm ### This ...</td>\n",
       "      <td>1</td>\n",
       "      <td>en</td>\n",
       "      <td>78</td>\n",
       "      <td>2858</td>\n",
       "      <td>helsinki</td>\n",
       "    </tr>\n",
       "    <tr>\n",
       "      <td>10736</td>\n",
       "      <td>33</td>\n",
       "      <td>washingtonpost.com/news/morning-mix/wp/2018/07...</td>\n",
       "      <td>7/19/2018 11:51:57 PM -04:00</td>\n",
       "      <td>At least 8 reported dead as duck boat sinks ne...</td>\n",
       "      <td>At least 8 reported dead as duck boat sinks ne...</td>\n",
       "      <td>1</td>\n",
       "      <td>en</td>\n",
       "      <td>90</td>\n",
       "      <td>856</td>\n",
       "      <td>duckboat</td>\n",
       "    </tr>\n",
       "    <tr>\n",
       "      <td>10841</td>\n",
       "      <td>33</td>\n",
       "      <td>washingtonpost.com/news/posteverything/wp/2018...</td>\n",
       "      <td>7/19/2018 6:27:03 AM -04:00</td>\n",
       "      <td>Ukraine’s not a country, Putin told Bush. What...</td>\n",
       "      <td>PostEverything Perspective ### Perspective Int...</td>\n",
       "      <td>1</td>\n",
       "      <td>en</td>\n",
       "      <td>79</td>\n",
       "      <td>8487</td>\n",
       "      <td>helsinki</td>\n",
       "    </tr>\n",
       "    <tr>\n",
       "      <td>13353</td>\n",
       "      <td>237</td>\n",
       "      <td>hotair.com/archives/2018/07/19/looking-glass-d...</td>\n",
       "      <td>7/19/2018 1:35:59 PM -04:00</td>\n",
       "      <td>Through the looking glass: Democrats attack \"R...</td>\n",
       "      <td>Through the looking glass: Democrats attack “R...</td>\n",
       "      <td>1</td>\n",
       "      <td>en</td>\n",
       "      <td>86</td>\n",
       "      <td>4440</td>\n",
       "      <td>helsinki</td>\n",
       "    </tr>\n",
       "    <tr>\n",
       "      <td>16345</td>\n",
       "      <td>118</td>\n",
       "      <td>philly.com/philly/news/nation_world/20180719_a...</td>\n",
       "      <td>7/19/2018 11:15:42 PM -04:00</td>\n",
       "      <td>Sheriff: 8 people dead after Missouri tourist ...</td>\n",
       "      <td>Sheriff: 8 people dead after Missouri tourist ...</td>\n",
       "      <td>1</td>\n",
       "      <td>en</td>\n",
       "      <td>68</td>\n",
       "      <td>766</td>\n",
       "      <td>duckboat</td>\n",
       "    </tr>\n",
       "  </tbody>\n",
       "</table>\n",
       "</div>"
      ],
      "text/plain": [
       "      pubId                                       canonicalUrl  \\\n",
       "62      290  zerohedge.com/news/2018-07-19/fbi-chief-threat...   \n",
       "10736    33  washingtonpost.com/news/morning-mix/wp/2018/07...   \n",
       "10841    33  washingtonpost.com/news/posteverything/wp/2018...   \n",
       "13353   237  hotair.com/archives/2018/07/19/looking-glass-d...   \n",
       "16345   118  philly.com/philly/news/nation_world/20180719_a...   \n",
       "\n",
       "                        firstScrape  \\\n",
       "62      7/19/2018 8:26:52 AM -04:00   \n",
       "10736  7/19/2018 11:51:57 PM -04:00   \n",
       "10841   7/19/2018 6:27:03 AM -04:00   \n",
       "13353   7/19/2018 1:35:59 PM -04:00   \n",
       "16345  7/19/2018 11:15:42 PM -04:00   \n",
       "\n",
       "                                                   title  \\\n",
       "62     FBI Chief Threatens To Quit If Trump Invites R...   \n",
       "10736  At least 8 reported dead as duck boat sinks ne...   \n",
       "10841  Ukraine’s not a country, Putin told Bush. What...   \n",
       "13353  Through the looking glass: Democrats attack \"R...   \n",
       "16345  Sheriff: 8 people dead after Missouri tourist ...   \n",
       "\n",
       "                                                    text lang_reliability  \\\n",
       "62     by Knave Dave - Jul 18, 2018 1:11 pm ### This ...                1   \n",
       "10736  At least 8 reported dead as duck boat sinks ne...                1   \n",
       "10841  PostEverything Perspective ### Perspective Int...                1   \n",
       "13353  Through the looking glass: Democrats attack “R...                1   \n",
       "16345  Sheriff: 8 people dead after Missouri tourist ...                1   \n",
       "\n",
       "      lang_iso  title_len  text_len     label  \n",
       "62          en         78      2858  helsinki  \n",
       "10736       en         90       856  duckboat  \n",
       "10841       en         79      8487  helsinki  \n",
       "13353       en         86      4440  helsinki  \n",
       "16345       en         68       766  duckboat  "
      ]
     },
     "execution_count": 12,
     "metadata": {},
     "output_type": "execute_result"
    }
   ],
   "source": [
    "sample_df.head()"
   ]
  },
  {
   "cell_type": "markdown",
   "metadata": {},
   "source": [
    "## Clustering"
   ]
  },
  {
   "cell_type": "markdown",
   "metadata": {},
   "source": [
    "### Entities\n",
    "### Generate embedding"
   ]
  },
  {
   "cell_type": "code",
   "execution_count": 107,
   "metadata": {
    "ExecuteTime": {
     "end_time": "2019-11-12T01:42:44.365276Z",
     "start_time": "2019-11-12T01:42:27.171519Z"
    }
   },
   "outputs": [],
   "source": [
    "entities = load_entities()\n",
    "vect = TfidfVectorizer()\n",
    "entity_words = [' '.join(entity) for entity in entities]\n",
    "entities_tfidf = vect.fit_transform(entity_words)\n",
    "sample_entities_tfidf = entities_tfidf[sample_df.index]"
   ]
  },
  {
   "cell_type": "markdown",
   "metadata": {},
   "source": [
    "### Generate Graph"
   ]
  },
  {
   "cell_type": "code",
   "execution_count": 15,
   "metadata": {
    "ExecuteTime": {
     "end_time": "2019-11-15T15:57:55.706957Z",
     "start_time": "2019-11-15T15:57:55.544310Z"
    }
   },
   "outputs": [],
   "source": [
    "def generate_graph(emb) -> nx.Graph:\n",
    "    pct = np.percentile(euclidean_distances(emb), EDGE_PERCENTILE)\n",
    "    nn = NearestNeighbors(radius=pct)\n",
    "    nn.fit(emb)\n",
    "    admat = nn.radius_neighbors_graph()\n",
    "    print(admat.__repr__())\n",
    "    G = nx.from_scipy_sparse_matrix(admat)\n",
    "    return G"
   ]
  },
  {
   "cell_type": "code",
   "execution_count": 114,
   "metadata": {
    "ExecuteTime": {
     "end_time": "2019-11-12T01:49:06.744265Z",
     "start_time": "2019-11-12T01:47:50.859773Z"
    }
   },
   "outputs": [
    {
     "name": "stdout",
     "output_type": "stream",
     "text": [
      "<10140x10140 sparse matrix of type '<class 'numpy.float64'>'\n",
      "\twith 2606698 stored elements in Compressed Sparse Row format>\n"
     ]
    }
   ],
   "source": [
    "G = generate_graph(sample_entities_tfidf)\n",
    "resolution = 1\n",
    "partition = community.best_partition(G, resolution=resolution)\n",
    "sample_df['cluster__entity_tfidf'] = pd.Series([v for k,v in partition.items()], index=sample_df.index)\n",
    "merge_small_clusters(sample_df, 'cluster__entity_tfidf', threshold=5)"
   ]
  },
  {
   "cell_type": "markdown",
   "metadata": {
    "ExecuteTime": {
     "end_time": "2019-11-12T01:18:02.098056Z",
     "start_time": "2019-11-12T01:18:01.966374Z"
    }
   },
   "source": [
    "### Doc2Vec"
   ]
  },
  {
   "cell_type": "code",
   "execution_count": 115,
   "metadata": {
    "ExecuteTime": {
     "end_time": "2019-11-12T01:51:23.427032Z",
     "start_time": "2019-11-12T01:49:06.746216Z"
    }
   },
   "outputs": [
    {
     "name": "stdout",
     "output_type": "stream",
     "text": [
      "<10140x10140 sparse matrix of type '<class 'numpy.float64'>'\n",
      "\twith 3074448 stored elements in Compressed Sparse Row format>\n"
     ]
    }
   ],
   "source": [
    "doc2vec = pd.read_csv('../data/embedding/Doc2Vec_embedding_output.csv',index_col=0)\n",
    "sample_doc2vec = doc2vec.loc[sample_df.index]\n",
    "G_doc2vec = generate_graph(sample_doc2vec)\n",
    "resolution = 1\n",
    "partition_doc2vec = community.best_partition(G_doc2vec, resolution=resolution)\n",
    "sample_df['cluster__doc2vec'] = pd.Series([v for k,v in partition_doc2vec.items()], index=sample_df.index)\n",
    "merge_small_clusters(sample_df, 'cluster__doc2vec', threshold=5)"
   ]
  },
  {
   "cell_type": "markdown",
   "metadata": {
    "ExecuteTime": {
     "end_time": "2019-11-12T01:18:02.098056Z",
     "start_time": "2019-11-12T01:18:01.966374Z"
    }
   },
   "source": [
    "### BoW"
   ]
  },
  {
   "cell_type": "code",
   "execution_count": 30,
   "metadata": {
    "ExecuteTime": {
     "end_time": "2019-11-15T16:20:39.393617Z",
     "start_time": "2019-11-15T16:17:39.573699Z"
    }
   },
   "outputs": [
    {
     "name": "stdout",
     "output_type": "stream",
     "text": [
      "<10140x10140 sparse matrix of type '<class 'numpy.float64'>'\n",
      "\twith 3107624 stored elements in Compressed Sparse Row format>\n"
     ]
    }
   ],
   "source": [
    "bow = np.load('../data/embedding/BagOfWord_output.npy', allow_pickle=True)\n",
    "bow = np.asmatrix(bow)[0,0]\n",
    "sample_bow = bow[sample_df.index]\n",
    "G_bow = generate_graph(sample_bow)\n",
    "resolution = 1\n",
    "partition_bow = community.best_partition(G_bow, resolution=resolution)\n",
    "sample_df['cluster__bow'] = pd.Series([v for k,v in partition_bow.items()], index=sample_df.index)\n",
    "merge_small_clusters(sample_df, 'cluster__bow', threshold=5)"
   ]
  },
  {
   "cell_type": "markdown",
   "metadata": {
    "ExecuteTime": {
     "end_time": "2019-11-12T01:52:33.567130Z",
     "start_time": "2019-11-12T01:51:23.430026Z"
    },
    "scrolled": true
   },
   "source": [
    "## BERT"
   ]
  },
  {
   "cell_type": "code",
   "execution_count": 28,
   "metadata": {
    "ExecuteTime": {
     "end_time": "2019-11-15T16:16:58.251287Z",
     "start_time": "2019-11-15T16:01:06.550991Z"
    },
    "scrolled": true
   },
   "outputs": [
    {
     "name": "stderr",
     "output_type": "stream",
     "text": [
      "C:\\Users\\harinsa\\Anaconda3\\lib\\site-packages\\ipykernel_launcher.py:1: FutureWarning: \n",
      "Passing list-likes to .loc or [] with any missing label will raise\n",
      "KeyError in the future, you can use .reindex() as an alternative.\n",
      "\n",
      "See the documentation here:\n",
      "https://pandas.pydata.org/pandas-docs/stable/user_guide/indexing.html#deprecate-loc-reindex-listlike\n",
      "  \"\"\"Entry point for launching an IPython kernel.\n"
     ]
    },
    {
     "name": "stdout",
     "output_type": "stream",
     "text": [
      "<10140x10140 sparse matrix of type '<class 'numpy.float64'>'\n",
      "\twith 3074446 stored elements in Compressed Sparse Row format>\n"
     ]
    }
   ],
   "source": [
    "sample_bert = bert.loc[sample_df.index]\n",
    "sample_bert = sample_bert.fillna(0)\n",
    "G_bert = generate_graph(sample_bert)\n",
    "resolution = 1\n",
    "partition_bert = community.best_partition(G_bert, resolution=resolution)\n",
    "sample_df['cluster__bert'] = pd.Series([v for k,v in partition_bert.items()], index=sample_df.index)\n",
    "merge_small_clusters(sample_df, 'cluster__bert', threshold=5)"
   ]
  },
  {
   "cell_type": "markdown",
   "metadata": {},
   "source": [
    "## BoW Lemmatize"
   ]
  },
  {
   "cell_type": "code",
   "execution_count": 37,
   "metadata": {
    "ExecuteTime": {
     "end_time": "2019-11-15T16:33:22.327542Z",
     "start_time": "2019-11-15T16:29:53.058133Z"
    }
   },
   "outputs": [
    {
     "name": "stdout",
     "output_type": "stream",
     "text": [
      "<10140x10140 sparse matrix of type '<class 'numpy.float64'>'\n",
      "\twith 3078888 stored elements in Compressed Sparse Row format>\n"
     ]
    }
   ],
   "source": [
    "def add_embedding(emb, name):\n",
    "    sample_emb = emb[sample_df.index]\n",
    "    G = generate_graph(sample_emb)\n",
    "    resolution = 1\n",
    "    partition = community.best_partition(G, resolution=resolution)\n",
    "    sample_df[f'cluster__{name}'] = pd.Series([v for k,v in partition.items()], index=sample_df.index)\n",
    "    merge_small_clusters(sample_df, f'cluster__{name}', threshold=5)\n",
    "    \n",
    "    \n",
    "bow_lemma = np.load('../data/embedding/BagOfWord2_addlemmatization_output.npy', allow_pickle=True)\n",
    "bow_lemma = np.asmatrix(bow_lemma)[0,0]\n",
    "add_embedding(bow_lemma, 'bow_lemma')"
   ]
  },
  {
   "cell_type": "markdown",
   "metadata": {},
   "source": [
    "## Evaluate"
   ]
  },
  {
   "cell_type": "code",
   "execution_count": 38,
   "metadata": {
    "ExecuteTime": {
     "end_time": "2019-11-15T16:33:22.683821Z",
     "start_time": "2019-11-15T16:33:22.334813Z"
    }
   },
   "outputs": [
    {
     "name": "stdout",
     "output_type": "stream",
     "text": [
      "precision\n",
      "--------------------------------------------------\n",
      "name             bert       bow  bow_lemma\n",
      "label                                     \n",
      "cave_rescue  0.243902  0.252336   0.250000\n",
      "duckboat     0.073171  0.168224   0.175926\n",
      "helsinki     0.307692  0.579439   0.574074\n",
      "mean         0.208255  0.333333   0.333333\n",
      "\n",
      "\n",
      "recall\n",
      "--------------------------------------------------\n",
      "name             bert       bow  bow_lemma\n",
      "label                                     \n",
      "cave_rescue  0.322581  0.870968   0.870968\n",
      "duckboat     0.142857  0.857143   0.904762\n",
      "helsinki     0.090909  0.704545   0.704545\n",
      "mean         0.185449  0.810885   0.826758\n",
      "\n",
      "\n",
      "f_score\n",
      "--------------------------------------------------\n",
      "name             bert       bow  bow_lemma\n",
      "label                                     \n",
      "cave_rescue  0.277778  0.391304   0.388489\n",
      "duckboat     0.096774  0.281250   0.294574\n",
      "helsinki     0.140351  0.635897   0.632653\n",
      "mean         0.171634  0.436151   0.438572\n",
      "\n",
      "\n"
     ]
    }
   ],
   "source": [
    "labeled_sampled_df = sample_df.dropna(subset=['label'])\n",
    "cluster_cols = list(filter(lambda s: 'cluster__' in s, labeled_sampled_df.columns))\n",
    "results = []\n",
    "for col in cluster_cols:\n",
    "    name = col.replace('cluster__','')\n",
    "    results += max_cluster_metric(labeled_sampled_df.label, labeled_sampled_df[col], name)\n",
    "\n",
    "results_df = pd.DataFrame(results)\n",
    "print_result_df(results_df)"
   ]
  },
  {
   "cell_type": "code",
   "execution_count": 39,
   "metadata": {
    "ExecuteTime": {
     "end_time": "2019-11-15T16:33:22.946752Z",
     "start_time": "2019-11-15T16:33:22.691283Z"
    }
   },
   "outputs": [
    {
     "data": {
      "text/html": [
       "<div>\n",
       "<style scoped>\n",
       "    .dataframe tbody tr th:only-of-type {\n",
       "        vertical-align: middle;\n",
       "    }\n",
       "\n",
       "    .dataframe tbody tr th {\n",
       "        vertical-align: top;\n",
       "    }\n",
       "\n",
       "    .dataframe thead th {\n",
       "        text-align: right;\n",
       "    }\n",
       "</style>\n",
       "<table border=\"1\" class=\"dataframe\">\n",
       "  <thead>\n",
       "    <tr style=\"text-align: right;\">\n",
       "      <th></th>\n",
       "      <th>precision</th>\n",
       "      <th>recall</th>\n",
       "      <th>f_score</th>\n",
       "    </tr>\n",
       "    <tr>\n",
       "      <th>name</th>\n",
       "      <th></th>\n",
       "      <th></th>\n",
       "      <th></th>\n",
       "    </tr>\n",
       "  </thead>\n",
       "  <tbody>\n",
       "    <tr>\n",
       "      <td>bert</td>\n",
       "      <td>0.208255</td>\n",
       "      <td>0.185449</td>\n",
       "      <td>0.171634</td>\n",
       "    </tr>\n",
       "    <tr>\n",
       "      <td>bow</td>\n",
       "      <td>0.333333</td>\n",
       "      <td>0.810885</td>\n",
       "      <td>0.436151</td>\n",
       "    </tr>\n",
       "    <tr>\n",
       "      <td>bow_lemma</td>\n",
       "      <td>0.333333</td>\n",
       "      <td>0.826758</td>\n",
       "      <td>0.438572</td>\n",
       "    </tr>\n",
       "  </tbody>\n",
       "</table>\n",
       "</div>"
      ],
      "text/plain": [
       "           precision    recall   f_score\n",
       "name                                    \n",
       "bert        0.208255  0.185449  0.171634\n",
       "bow         0.333333  0.810885  0.436151\n",
       "bow_lemma   0.333333  0.826758  0.438572"
      ]
     },
     "execution_count": 39,
     "metadata": {},
     "output_type": "execute_result"
    }
   ],
   "source": [
    "results_df.groupby('name').mean()"
   ]
  },
  {
   "cell_type": "code",
   "execution_count": null,
   "metadata": {},
   "outputs": [],
   "source": []
  }
 ],
 "metadata": {
  "kernelspec": {
   "display_name": "Python 3",
   "language": "python",
   "name": "python3"
  },
  "language_info": {
   "codemirror_mode": {
    "name": "ipython",
    "version": 3
   },
   "file_extension": ".py",
   "mimetype": "text/x-python",
   "name": "python",
   "nbconvert_exporter": "python",
   "pygments_lexer": "ipython3",
   "version": "3.7.4"
  }
 },
 "nbformat": 4,
 "nbformat_minor": 2
}
